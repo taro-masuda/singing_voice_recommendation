{
  "nbformat": 4,
  "nbformat_minor": 0,
  "metadata": {
    "colab": {
      "name": "file_manipulation.ipynb",
      "provenance": [],
      "collapsed_sections": [],
      "authorship_tag": "ABX9TyPZDu2qBLGXSoX2T2wi2H9Q",
      "include_colab_link": true
    },
    "kernelspec": {
      "name": "python3",
      "display_name": "Python 3"
    }
  },
  "cells": [
    {
      "cell_type": "markdown",
      "metadata": {
        "id": "view-in-github",
        "colab_type": "text"
      },
      "source": [
        "<a href=\"https://colab.research.google.com/github/taro-masuda/singing_voice_recommendation/blob/master/file_manipulation.ipynb\" target=\"_parent\"><img src=\"https://colab.research.google.com/assets/colab-badge.svg\" alt=\"Open In Colab\"/></a>"
      ]
    },
    {
      "cell_type": "code",
      "metadata": {
        "id": "6gqGthMtFBKQ",
        "colab_type": "code",
        "colab": {
          "base_uri": "https://localhost:8080/",
          "height": 124
        },
        "outputId": "adbf869c-7d18-42a6-fb7a-4f443a5f89f2"
      },
      "source": [
        "from google.colab import drive \n",
        "drive.mount('/content/drive')"
      ],
      "execution_count": 2,
      "outputs": [
        {
          "output_type": "stream",
          "text": [
            "Go to this URL in a browser: https://accounts.google.com/o/oauth2/auth?client_id=947318989803-6bn6qk8qdgf4n4g3pfee6491hc0brc4i.apps.googleusercontent.com&redirect_uri=urn%3aietf%3awg%3aoauth%3a2.0%3aoob&response_type=code&scope=email%20https%3a%2f%2fwww.googleapis.com%2fauth%2fdocs.test%20https%3a%2f%2fwww.googleapis.com%2fauth%2fdrive%20https%3a%2f%2fwww.googleapis.com%2fauth%2fdrive.photos.readonly%20https%3a%2f%2fwww.googleapis.com%2fauth%2fpeopleapi.readonly\n",
            "\n",
            "Enter your authorization code:\n",
            "··········\n",
            "Mounted at /content/drive\n"
          ],
          "name": "stdout"
        }
      ]
    },
    {
      "cell_type": "markdown",
      "metadata": {
        "id": "Ikus92LJGOPr",
        "colab_type": "text"
      },
      "source": [
        "# 伴奏パートのWAVファイルを消す"
      ]
    },
    {
      "cell_type": "code",
      "metadata": {
        "id": "Mt2IX7yHEfdS",
        "colab_type": "code",
        "colab": {}
      },
      "source": [
        "import glob\n",
        "import os\n",
        "\n",
        "file_list = glob.glob(\"drive/My Drive/Colab Notebooks/spotify/input/tracks_sv/*/accompaniment.wav\")\n",
        "for filename in file_list:\n",
        "  os.remove(filename)"
      ],
      "execution_count": 0,
      "outputs": []
    },
    {
      "cell_type": "markdown",
      "metadata": {
        "id": "L29Pf9JXGdW8",
        "colab_type": "text"
      },
      "source": [
        "# フォルダからボーカルファイル移動して元のフォルダを削除"
      ]
    },
    {
      "cell_type": "code",
      "metadata": {
        "id": "vx_LTqRLE84l",
        "colab_type": "code",
        "colab": {}
      },
      "source": [
        "dirpath = \"drive/My Drive/Colab Notebooks/spotify/input/tracks_sv/\"\n",
        "files = os.listdir(dirpath)\n",
        "files_dir = [f for f in files if os.path.isdir(os.path.join(dirpath, f))]"
      ],
      "execution_count": 0,
      "outputs": []
    },
    {
      "cell_type": "code",
      "metadata": {
        "id": "zZmBzb7CG_XW",
        "colab_type": "code",
        "colab": {}
      },
      "source": [
        "for dirname in files_dir:\n",
        "  src = os.path.join(dirpath, dirname, \"vocals.wav\")\n",
        "  dst = os.path.join(dirpath, dirname+\".wav\")\n",
        "  if os.path.isfile(src):\n",
        "    os.rename(src, dst, src_dir_fd=None, dst_dir_fd=None)\n",
        "  os.rmdir(os.path.join(dirpath, dirname))"
      ],
      "execution_count": 0,
      "outputs": []
    },
    {
      "cell_type": "code",
      "metadata": {
        "id": "2u0iH7XYJtnj",
        "colab_type": "code",
        "colab": {}
      },
      "source": [
        ""
      ],
      "execution_count": 0,
      "outputs": []
    }
  ]
}