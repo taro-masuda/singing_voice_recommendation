{
  "nbformat": 4,
  "nbformat_minor": 0,
  "metadata": {
    "colab": {
      "name": "calculate_lpmcc_and_similarity.ipynb",
      "provenance": [],
      "collapsed_sections": [],
      "authorship_tag": "ABX9TyPTtlT0QKz1y5pQCPA/csIe",
      "include_colab_link": true
    },
    "kernelspec": {
      "name": "python3",
      "display_name": "Python 3"
    }
  },
  "cells": [
    {
      "cell_type": "markdown",
      "metadata": {
        "id": "view-in-github",
        "colab_type": "text"
      },
      "source": [
        "<a href=\"https://colab.research.google.com/github/taro-masuda/singing_voice_recommendation/blob/master/calculate_lpmcc_and_similarity.ipynb\" target=\"_parent\"><img src=\"https://colab.research.google.com/assets/colab-badge.svg\" alt=\"Open In Colab\"/></a>"
      ]
    },
    {
      "cell_type": "code",
      "metadata": {
        "id": "53SPJWxxV1gH",
        "colab_type": "code",
        "colab": {}
      },
      "source": [
        "import librosa\n",
        "import glob\n",
        "import numpy as np\n",
        "import pickle\n",
        "import pandas as pd\n",
        "import scipy\n",
        "from tqdm import tqdm"
      ],
      "execution_count": 0,
      "outputs": []
    },
    {
      "cell_type": "code",
      "metadata": {
        "id": "1cEJtz6hrUlP",
        "colab_type": "code",
        "outputId": "14c7d43e-3801-472f-d732-ca61a0553737",
        "colab": {
          "base_uri": "https://localhost:8080/",
          "height": 124
        }
      },
      "source": [
        "from google.colab import drive \n",
        "drive.mount('/content/drive')"
      ],
      "execution_count": 4,
      "outputs": [
        {
          "output_type": "stream",
          "text": [
            "Go to this URL in a browser: https://accounts.google.com/o/oauth2/auth?client_id=947318989803-6bn6qk8qdgf4n4g3pfee6491hc0brc4i.apps.googleusercontent.com&redirect_uri=urn%3aietf%3awg%3aoauth%3a2.0%3aoob&response_type=code&scope=email%20https%3a%2f%2fwww.googleapis.com%2fauth%2fdocs.test%20https%3a%2f%2fwww.googleapis.com%2fauth%2fdrive%20https%3a%2f%2fwww.googleapis.com%2fauth%2fdrive.photos.readonly%20https%3a%2f%2fwww.googleapis.com%2fauth%2fpeopleapi.readonly\n",
            "\n",
            "Enter your authorization code:\n",
            "··········\n",
            "Mounted at /content/drive\n"
          ],
          "name": "stdout"
        }
      ]
    },
    {
      "cell_type": "code",
      "metadata": {
        "id": "UE2R_mt9qy4j",
        "colab_type": "code",
        "colab": {}
      },
      "source": [
        "sr=16000\n",
        "n_mfcc=20"
      ],
      "execution_count": 0,
      "outputs": []
    },
    {
      "cell_type": "code",
      "metadata": {
        "id": "_w9cDDmdrf8R",
        "colab_type": "code",
        "colab": {}
      },
      "source": [
        "file_list = glob.glob(\"drive/My Drive/Colab Notebooks/spotify/input/tracks_sv/*.wav\")\n",
        "file_list = sorted(file_list)"
      ],
      "execution_count": 0,
      "outputs": []
    },
    {
      "cell_type": "markdown",
      "metadata": {
        "id": "d5kX1V2__6WU",
        "colab_type": "text"
      },
      "source": [
        "# MFCC Extraction"
      ]
    },
    {
      "cell_type": "code",
      "metadata": {
        "id": "3teB3E6gZfzI",
        "colab_type": "code",
        "colab": {
          "base_uri": "https://localhost:8080/",
          "height": 617
        },
        "outputId": "97b1bfb6-af25-41e1-dc68-26dcd3ad4803"
      },
      "source": [
        "!pip install librosa==0.7"
      ],
      "execution_count": 13,
      "outputs": [
        {
          "output_type": "stream",
          "text": [
            "Collecting librosa==0.7\n",
            "\u001b[?25l  Downloading https://files.pythonhosted.org/packages/ad/6e/0eb0de1c9c4e02df0b40e56f258eb79bd957be79b918511a184268e01720/librosa-0.7.0.tar.gz (1.6MB)\n",
            "\u001b[K     |████████████████████████████████| 1.6MB 2.8MB/s \n",
            "\u001b[?25hRequirement already satisfied: audioread>=2.0.0 in /usr/local/lib/python3.6/dist-packages (from librosa==0.7) (2.1.8)\n",
            "Requirement already satisfied: numpy>=1.15.0 in /usr/local/lib/python3.6/dist-packages (from librosa==0.7) (1.17.5)\n",
            "Requirement already satisfied: scipy>=1.0.0 in /usr/local/lib/python3.6/dist-packages (from librosa==0.7) (1.4.1)\n",
            "Requirement already satisfied: scikit-learn!=0.19.0,>=0.14.0 in /usr/local/lib/python3.6/dist-packages (from librosa==0.7) (0.22.1)\n",
            "Requirement already satisfied: joblib>=0.12 in /usr/local/lib/python3.6/dist-packages (from librosa==0.7) (0.14.1)\n",
            "Requirement already satisfied: decorator>=3.0.0 in /usr/local/lib/python3.6/dist-packages (from librosa==0.7) (4.4.1)\n",
            "Requirement already satisfied: six>=1.3 in /usr/local/lib/python3.6/dist-packages (from librosa==0.7) (1.12.0)\n",
            "Requirement already satisfied: resampy>=0.2.0 in /usr/local/lib/python3.6/dist-packages (from librosa==0.7) (0.2.2)\n",
            "Requirement already satisfied: numba>=0.38.0 in /usr/local/lib/python3.6/dist-packages (from librosa==0.7) (0.47.0)\n",
            "Collecting soundfile>=0.9.0\n",
            "  Downloading https://files.pythonhosted.org/packages/eb/f2/3cbbbf3b96fb9fa91582c438b574cff3f45b29c772f94c400e2c99ef5db9/SoundFile-0.10.3.post1-py2.py3-none-any.whl\n",
            "Requirement already satisfied: setuptools in /usr/local/lib/python3.6/dist-packages (from numba>=0.38.0->librosa==0.7) (42.0.2)\n",
            "Requirement already satisfied: llvmlite>=0.31.0dev0 in /usr/local/lib/python3.6/dist-packages (from numba>=0.38.0->librosa==0.7) (0.31.0)\n",
            "Requirement already satisfied: cffi>=1.0 in /usr/local/lib/python3.6/dist-packages (from soundfile>=0.9.0->librosa==0.7) (1.13.2)\n",
            "Requirement already satisfied: pycparser in /usr/local/lib/python3.6/dist-packages (from cffi>=1.0->soundfile>=0.9.0->librosa==0.7) (2.19)\n",
            "Building wheels for collected packages: librosa\n",
            "  Building wheel for librosa (setup.py) ... \u001b[?25l\u001b[?25hdone\n",
            "  Created wheel for librosa: filename=librosa-0.7.0-cp36-none-any.whl size=1598345 sha256=692d3df7eff30aa8756b41bde33a283b2ef9c48550910239cd0da5e8d1432585\n",
            "  Stored in directory: /root/.cache/pip/wheels/49/1d/38/c8ad12fcad67569d8e730c3275be5e581bd589558484a0f881\n",
            "Successfully built librosa\n",
            "Installing collected packages: soundfile, librosa\n",
            "  Found existing installation: librosa 0.6.3\n",
            "    Uninstalling librosa-0.6.3:\n",
            "      Successfully uninstalled librosa-0.6.3\n",
            "Successfully installed librosa-0.7.0 soundfile-0.10.3.post1\n"
          ],
          "name": "stdout"
        },
        {
          "output_type": "display_data",
          "data": {
            "application/vnd.colab-display-data+json": {
              "pip_warning": {
                "packages": [
                  "librosa"
                ]
              }
            }
          },
          "metadata": {
            "tags": []
          }
        }
      ]
    },
    {
      "cell_type": "code",
      "metadata": {
        "id": "TXUht88geQot",
        "colab_type": "code",
        "outputId": "41ed0a87-48f8-4ddc-8988-b456dc880647",
        "colab": {
          "base_uri": "https://localhost:8080/",
          "height": 1000
        }
      },
      "source": [
        "M = np.empty(0)\n",
        "count = 0\n",
        "for filename in tqdm(file_list):\n",
        "  #print(filename)\n",
        "  try:\n",
        "    y, sr = librosa.core.load(filename, sr=sr, mono=False,offset=0.0,\n",
        "                            duration=None, res_type='kaiser_best')\n",
        "    ymean = y.mean(axis=0)\n",
        "    #print(ymean.shape)\n",
        "    assert ymean.size > 2\n",
        "    a = librosa.lpc(ymean, 2)\n",
        "    y_hat = scipy.signal.lfilter([0] + -1*a[1:], [1], ymean)\n",
        "  except:\n",
        "    print(filename + \"has loading error!\")\n",
        "    y_hat = np.zeros(48000,)\n",
        "\n",
        "  #print(y_hat.shape)\n",
        "  assert y_hat.ndim == 1 and y_hat.size > 2\n",
        "  mfcc = librosa.feature.mfcc(y_hat, sr=sr, S=None, n_mfcc=n_mfcc, dct_type=2, norm='ortho')\n",
        "  mfcc_median = np.median(mfcc, axis=1)\n",
        "  assert mfcc_median.shape == (n_mfcc,)\n",
        "  mfcc_median = np.reshape(mfcc_median, [-1,20])\n",
        "  print(M.shape)  \n",
        "\n",
        "  if count > 0:\n",
        "    M = np.concatenate([M, mfcc_median], axis=0)  \n",
        "  else:\n",
        "    M = mfcc_median\n",
        "    M = np.reshape(M,[-1,20])\n",
        "  if count > 0:\n",
        "    assert M.shape[1] == n_mfcc\n",
        "  count += 1\n",
        "print(M.shape)\n",
        "assert M.shape[0] == 1000\n",
        "assert M.shape[1] == 20"
      ],
      "execution_count": 16,
      "outputs": [
        {
          "output_type": "stream",
          "text": [
            "\n",
            "  0%|          | 0/1000 [00:00<?, ?it/s]\u001b[A\n",
            "  0%|          | 1/1000 [00:01<23:15,  1.40s/it]\u001b[A"
          ],
          "name": "stderr"
        },
        {
          "output_type": "stream",
          "text": [
            "(0,)\n"
          ],
          "name": "stdout"
        },
        {
          "output_type": "stream",
          "text": [
            "\n",
            "  0%|          | 2/1000 [00:02<23:19,  1.40s/it]\u001b[A"
          ],
          "name": "stderr"
        },
        {
          "output_type": "stream",
          "text": [
            "(1, 20)\n"
          ],
          "name": "stdout"
        },
        {
          "output_type": "stream",
          "text": [
            "\n",
            "  0%|          | 3/1000 [00:04<23:20,  1.40s/it]\u001b[A"
          ],
          "name": "stderr"
        },
        {
          "output_type": "stream",
          "text": [
            "(2, 20)\n"
          ],
          "name": "stdout"
        },
        {
          "output_type": "stream",
          "text": [
            "\n",
            "  0%|          | 4/1000 [00:05<23:23,  1.41s/it]\u001b[A"
          ],
          "name": "stderr"
        },
        {
          "output_type": "stream",
          "text": [
            "(3, 20)\n"
          ],
          "name": "stdout"
        },
        {
          "output_type": "stream",
          "text": [
            "\n",
            "  0%|          | 5/1000 [00:07<23:28,  1.42s/it]\u001b[A"
          ],
          "name": "stderr"
        },
        {
          "output_type": "stream",
          "text": [
            "(4, 20)\n"
          ],
          "name": "stdout"
        },
        {
          "output_type": "stream",
          "text": [
            "\n",
            "  1%|          | 6/1000 [00:08<23:27,  1.42s/it]\u001b[A"
          ],
          "name": "stderr"
        },
        {
          "output_type": "stream",
          "text": [
            "(5, 20)\n"
          ],
          "name": "stdout"
        },
        {
          "output_type": "stream",
          "text": [
            "\n",
            "  1%|          | 7/1000 [00:09<23:28,  1.42s/it]\u001b[A"
          ],
          "name": "stderr"
        },
        {
          "output_type": "stream",
          "text": [
            "(6, 20)\n"
          ],
          "name": "stdout"
        },
        {
          "output_type": "stream",
          "text": [
            "\n",
            "  1%|          | 8/1000 [00:11<23:26,  1.42s/it]\u001b[A"
          ],
          "name": "stderr"
        },
        {
          "output_type": "stream",
          "text": [
            "(7, 20)\n"
          ],
          "name": "stdout"
        },
        {
          "output_type": "stream",
          "text": [
            "\n",
            "  1%|          | 9/1000 [00:12<23:20,  1.41s/it]\u001b[A"
          ],
          "name": "stderr"
        },
        {
          "output_type": "stream",
          "text": [
            "(8, 20)\n"
          ],
          "name": "stdout"
        },
        {
          "output_type": "stream",
          "text": [
            "\n",
            "  1%|          | 10/1000 [00:14<23:14,  1.41s/it]\u001b[A"
          ],
          "name": "stderr"
        },
        {
          "output_type": "stream",
          "text": [
            "(9, 20)\n"
          ],
          "name": "stdout"
        },
        {
          "output_type": "stream",
          "text": [
            "\n",
            "  1%|          | 11/1000 [00:15<23:13,  1.41s/it]\u001b[A"
          ],
          "name": "stderr"
        },
        {
          "output_type": "stream",
          "text": [
            "(10, 20)\n"
          ],
          "name": "stdout"
        },
        {
          "output_type": "stream",
          "text": [
            "\n",
            "  1%|          | 12/1000 [00:16<23:18,  1.42s/it]\u001b[A"
          ],
          "name": "stderr"
        },
        {
          "output_type": "stream",
          "text": [
            "(11, 20)\n"
          ],
          "name": "stdout"
        },
        {
          "output_type": "stream",
          "text": [
            "\n",
            "  1%|▏         | 13/1000 [00:18<23:24,  1.42s/it]\u001b[A"
          ],
          "name": "stderr"
        },
        {
          "output_type": "stream",
          "text": [
            "(12, 20)\n"
          ],
          "name": "stdout"
        },
        {
          "output_type": "stream",
          "text": [
            "\n",
            "  1%|▏         | 14/1000 [00:19<23:20,  1.42s/it]\u001b[A"
          ],
          "name": "stderr"
        },
        {
          "output_type": "stream",
          "text": [
            "(13, 20)\n"
          ],
          "name": "stdout"
        },
        {
          "output_type": "stream",
          "text": [
            "\n",
            "  2%|▏         | 15/1000 [00:21<23:20,  1.42s/it]\u001b[A"
          ],
          "name": "stderr"
        },
        {
          "output_type": "stream",
          "text": [
            "(14, 20)\n"
          ],
          "name": "stdout"
        },
        {
          "output_type": "stream",
          "text": [
            "\n",
            "  2%|▏         | 16/1000 [00:22<23:17,  1.42s/it]\u001b[A"
          ],
          "name": "stderr"
        },
        {
          "output_type": "stream",
          "text": [
            "(15, 20)\n"
          ],
          "name": "stdout"
        },
        {
          "output_type": "stream",
          "text": [
            "\n",
            "  2%|▏         | 17/1000 [00:24<23:15,  1.42s/it]\u001b[A"
          ],
          "name": "stderr"
        },
        {
          "output_type": "stream",
          "text": [
            "(16, 20)\n"
          ],
          "name": "stdout"
        },
        {
          "output_type": "stream",
          "text": [
            "\n",
            "  2%|▏         | 18/1000 [00:25<23:11,  1.42s/it]\u001b[A"
          ],
          "name": "stderr"
        },
        {
          "output_type": "stream",
          "text": [
            "(17, 20)\n"
          ],
          "name": "stdout"
        },
        {
          "output_type": "stream",
          "text": [
            "\n",
            "  2%|▏         | 19/1000 [00:26<23:16,  1.42s/it]\u001b[A"
          ],
          "name": "stderr"
        },
        {
          "output_type": "stream",
          "text": [
            "(18, 20)\n"
          ],
          "name": "stdout"
        },
        {
          "output_type": "stream",
          "text": [
            "\n",
            "  2%|▏         | 20/1000 [00:28<23:13,  1.42s/it]\u001b[A"
          ],
          "name": "stderr"
        },
        {
          "output_type": "stream",
          "text": [
            "(19, 20)\n"
          ],
          "name": "stdout"
        },
        {
          "output_type": "stream",
          "text": [
            "\n",
            "  2%|▏         | 21/1000 [00:29<23:11,  1.42s/it]\u001b[A"
          ],
          "name": "stderr"
        },
        {
          "output_type": "stream",
          "text": [
            "(20, 20)\n"
          ],
          "name": "stdout"
        },
        {
          "output_type": "stream",
          "text": [
            "\n",
            "  2%|▏         | 22/1000 [00:31<23:07,  1.42s/it]\u001b[A"
          ],
          "name": "stderr"
        },
        {
          "output_type": "stream",
          "text": [
            "(21, 20)\n"
          ],
          "name": "stdout"
        },
        {
          "output_type": "stream",
          "text": [
            "\n",
            "  2%|▏         | 23/1000 [00:32<23:06,  1.42s/it]\u001b[A"
          ],
          "name": "stderr"
        },
        {
          "output_type": "stream",
          "text": [
            "(22, 20)\n"
          ],
          "name": "stdout"
        },
        {
          "output_type": "stream",
          "text": [
            "\n",
            "  2%|▏         | 24/1000 [00:34<23:02,  1.42s/it]\u001b[A"
          ],
          "name": "stderr"
        },
        {
          "output_type": "stream",
          "text": [
            "(23, 20)\n"
          ],
          "name": "stdout"
        },
        {
          "output_type": "stream",
          "text": [
            "\n",
            "  2%|▎         | 25/1000 [00:35<23:06,  1.42s/it]\u001b[A"
          ],
          "name": "stderr"
        },
        {
          "output_type": "stream",
          "text": [
            "(24, 20)\n"
          ],
          "name": "stdout"
        },
        {
          "output_type": "stream",
          "text": [
            "\n",
            "  3%|▎         | 26/1000 [00:36<23:01,  1.42s/it]\u001b[A"
          ],
          "name": "stderr"
        },
        {
          "output_type": "stream",
          "text": [
            "(25, 20)\n"
          ],
          "name": "stdout"
        },
        {
          "output_type": "stream",
          "text": [
            "\n",
            "  3%|▎         | 27/1000 [00:38<23:02,  1.42s/it]\u001b[A"
          ],
          "name": "stderr"
        },
        {
          "output_type": "stream",
          "text": [
            "(26, 20)\n"
          ],
          "name": "stdout"
        },
        {
          "output_type": "stream",
          "text": [
            "\n",
            "  3%|▎         | 28/1000 [00:39<23:13,  1.43s/it]\u001b[A"
          ],
          "name": "stderr"
        },
        {
          "output_type": "stream",
          "text": [
            "(27, 20)\n"
          ],
          "name": "stdout"
        },
        {
          "output_type": "stream",
          "text": [
            "\n",
            "  3%|▎         | 29/1000 [00:41<23:06,  1.43s/it]\u001b[A"
          ],
          "name": "stderr"
        },
        {
          "output_type": "stream",
          "text": [
            "(28, 20)\n"
          ],
          "name": "stdout"
        },
        {
          "output_type": "stream",
          "text": [
            "\n",
            "  3%|▎         | 30/1000 [00:42<22:59,  1.42s/it]\u001b[A"
          ],
          "name": "stderr"
        },
        {
          "output_type": "stream",
          "text": [
            "(29, 20)\n"
          ],
          "name": "stdout"
        },
        {
          "output_type": "stream",
          "text": [
            "\n",
            "  3%|▎         | 31/1000 [00:43<22:54,  1.42s/it]\u001b[A"
          ],
          "name": "stderr"
        },
        {
          "output_type": "stream",
          "text": [
            "(30, 20)\n"
          ],
          "name": "stdout"
        },
        {
          "output_type": "stream",
          "text": [
            "\n",
            "  3%|▎         | 32/1000 [00:45<22:53,  1.42s/it]\u001b[A"
          ],
          "name": "stderr"
        },
        {
          "output_type": "stream",
          "text": [
            "(31, 20)\n"
          ],
          "name": "stdout"
        },
        {
          "output_type": "stream",
          "text": [
            "\n",
            "  3%|▎         | 33/1000 [00:46<22:51,  1.42s/it]\u001b[A"
          ],
          "name": "stderr"
        },
        {
          "output_type": "stream",
          "text": [
            "(32, 20)\n"
          ],
          "name": "stdout"
        },
        {
          "output_type": "stream",
          "text": [
            "\n",
            "  3%|▎         | 34/1000 [00:48<22:54,  1.42s/it]\u001b[A"
          ],
          "name": "stderr"
        },
        {
          "output_type": "stream",
          "text": [
            "(33, 20)\n"
          ],
          "name": "stdout"
        },
        {
          "output_type": "stream",
          "text": [
            "\n",
            "  4%|▎         | 35/1000 [00:49<22:53,  1.42s/it]\u001b[A"
          ],
          "name": "stderr"
        },
        {
          "output_type": "stream",
          "text": [
            "(34, 20)\n"
          ],
          "name": "stdout"
        },
        {
          "output_type": "stream",
          "text": [
            "\n",
            "  4%|▎         | 36/1000 [00:51<22:57,  1.43s/it]\u001b[A"
          ],
          "name": "stderr"
        },
        {
          "output_type": "stream",
          "text": [
            "(35, 20)\n"
          ],
          "name": "stdout"
        },
        {
          "output_type": "stream",
          "text": [
            "\n",
            "  4%|▎         | 37/1000 [00:52<22:50,  1.42s/it]\u001b[A"
          ],
          "name": "stderr"
        },
        {
          "output_type": "stream",
          "text": [
            "(36, 20)\n"
          ],
          "name": "stdout"
        },
        {
          "output_type": "stream",
          "text": [
            "\n",
            "  4%|▍         | 38/1000 [00:53<22:45,  1.42s/it]\u001b[A"
          ],
          "name": "stderr"
        },
        {
          "output_type": "stream",
          "text": [
            "(37, 20)\n"
          ],
          "name": "stdout"
        },
        {
          "output_type": "stream",
          "text": [
            "\n",
            "  4%|▍         | 39/1000 [00:55<22:43,  1.42s/it]\u001b[A"
          ],
          "name": "stderr"
        },
        {
          "output_type": "stream",
          "text": [
            "(38, 20)\n"
          ],
          "name": "stdout"
        },
        {
          "output_type": "stream",
          "text": [
            "\n",
            "  4%|▍         | 40/1000 [00:56<22:48,  1.43s/it]\u001b[A"
          ],
          "name": "stderr"
        },
        {
          "output_type": "stream",
          "text": [
            "(39, 20)\n"
          ],
          "name": "stdout"
        },
        {
          "output_type": "stream",
          "text": [
            "\n",
            "  4%|▍         | 41/1000 [00:58<22:47,  1.43s/it]\u001b[A"
          ],
          "name": "stderr"
        },
        {
          "output_type": "stream",
          "text": [
            "(40, 20)\n"
          ],
          "name": "stdout"
        },
        {
          "output_type": "stream",
          "text": [
            "\n",
            "  4%|▍         | 42/1000 [00:59<22:44,  1.42s/it]\u001b[A"
          ],
          "name": "stderr"
        },
        {
          "output_type": "stream",
          "text": [
            "(41, 20)\n"
          ],
          "name": "stdout"
        },
        {
          "output_type": "stream",
          "text": [
            "\n",
            "  4%|▍         | 43/1000 [01:01<22:46,  1.43s/it]\u001b[A"
          ],
          "name": "stderr"
        },
        {
          "output_type": "stream",
          "text": [
            "(42, 20)\n"
          ],
          "name": "stdout"
        },
        {
          "output_type": "stream",
          "text": [
            "\n",
            "  4%|▍         | 44/1000 [01:02<22:41,  1.42s/it]\u001b[A"
          ],
          "name": "stderr"
        },
        {
          "output_type": "stream",
          "text": [
            "(43, 20)\n"
          ],
          "name": "stdout"
        },
        {
          "output_type": "stream",
          "text": [
            "\n",
            "  4%|▍         | 45/1000 [01:03<22:38,  1.42s/it]\u001b[A"
          ],
          "name": "stderr"
        },
        {
          "output_type": "stream",
          "text": [
            "(44, 20)\n"
          ],
          "name": "stdout"
        },
        {
          "output_type": "stream",
          "text": [
            "\n",
            "  5%|▍         | 46/1000 [01:05<22:34,  1.42s/it]\u001b[A"
          ],
          "name": "stderr"
        },
        {
          "output_type": "stream",
          "text": [
            "(45, 20)\n"
          ],
          "name": "stdout"
        },
        {
          "output_type": "stream",
          "text": [
            "\n",
            "  5%|▍         | 47/1000 [01:06<22:30,  1.42s/it]\u001b[A"
          ],
          "name": "stderr"
        },
        {
          "output_type": "stream",
          "text": [
            "(46, 20)\n"
          ],
          "name": "stdout"
        },
        {
          "output_type": "stream",
          "text": [
            "\n",
            "  5%|▍         | 48/1000 [01:08<22:30,  1.42s/it]\u001b[A"
          ],
          "name": "stderr"
        },
        {
          "output_type": "stream",
          "text": [
            "(47, 20)\n"
          ],
          "name": "stdout"
        },
        {
          "output_type": "stream",
          "text": [
            "\n",
            "  5%|▍         | 49/1000 [01:09<22:31,  1.42s/it]\u001b[A"
          ],
          "name": "stderr"
        },
        {
          "output_type": "stream",
          "text": [
            "(48, 20)\n"
          ],
          "name": "stdout"
        },
        {
          "output_type": "stream",
          "text": [
            "\n",
            "  5%|▌         | 50/1000 [01:11<22:26,  1.42s/it]\u001b[A"
          ],
          "name": "stderr"
        },
        {
          "output_type": "stream",
          "text": [
            "(49, 20)\n"
          ],
          "name": "stdout"
        },
        {
          "output_type": "stream",
          "text": [
            "\n",
            "  5%|▌         | 51/1000 [01:12<22:27,  1.42s/it]\u001b[A"
          ],
          "name": "stderr"
        },
        {
          "output_type": "stream",
          "text": [
            "(50, 20)\n"
          ],
          "name": "stdout"
        },
        {
          "output_type": "stream",
          "text": [
            "\n",
            "  5%|▌         | 52/1000 [01:13<22:24,  1.42s/it]\u001b[A"
          ],
          "name": "stderr"
        },
        {
          "output_type": "stream",
          "text": [
            "(51, 20)\n"
          ],
          "name": "stdout"
        },
        {
          "output_type": "stream",
          "text": [
            "\n",
            "  5%|▌         | 53/1000 [01:15<22:24,  1.42s/it]\u001b[A"
          ],
          "name": "stderr"
        },
        {
          "output_type": "stream",
          "text": [
            "(52, 20)\n"
          ],
          "name": "stdout"
        },
        {
          "output_type": "stream",
          "text": [
            "\n",
            "  5%|▌         | 54/1000 [01:16<22:26,  1.42s/it]\u001b[A"
          ],
          "name": "stderr"
        },
        {
          "output_type": "stream",
          "text": [
            "(53, 20)\n"
          ],
          "name": "stdout"
        },
        {
          "output_type": "stream",
          "text": [
            "\n",
            "  6%|▌         | 55/1000 [01:18<22:21,  1.42s/it]\u001b[A"
          ],
          "name": "stderr"
        },
        {
          "output_type": "stream",
          "text": [
            "(54, 20)\n"
          ],
          "name": "stdout"
        },
        {
          "output_type": "stream",
          "text": [
            "\n",
            "  6%|▌         | 56/1000 [01:19<22:21,  1.42s/it]\u001b[A"
          ],
          "name": "stderr"
        },
        {
          "output_type": "stream",
          "text": [
            "(55, 20)\n"
          ],
          "name": "stdout"
        },
        {
          "output_type": "stream",
          "text": [
            "\n",
            "  6%|▌         | 57/1000 [01:20<22:23,  1.42s/it]\u001b[A"
          ],
          "name": "stderr"
        },
        {
          "output_type": "stream",
          "text": [
            "(56, 20)\n"
          ],
          "name": "stdout"
        },
        {
          "output_type": "stream",
          "text": [
            "\n",
            "  6%|▌         | 58/1000 [01:22<22:18,  1.42s/it]\u001b[A"
          ],
          "name": "stderr"
        },
        {
          "output_type": "stream",
          "text": [
            "(57, 20)\n"
          ],
          "name": "stdout"
        },
        {
          "output_type": "stream",
          "text": [
            "\n",
            "  6%|▌         | 59/1000 [01:23<22:20,  1.42s/it]\u001b[A"
          ],
          "name": "stderr"
        },
        {
          "output_type": "stream",
          "text": [
            "(58, 20)\n"
          ],
          "name": "stdout"
        },
        {
          "output_type": "stream",
          "text": [
            "\n",
            "  6%|▌         | 60/1000 [01:25<22:16,  1.42s/it]\u001b[A"
          ],
          "name": "stderr"
        },
        {
          "output_type": "stream",
          "text": [
            "(59, 20)\n"
          ],
          "name": "stdout"
        },
        {
          "output_type": "stream",
          "text": [
            "\n",
            "  6%|▌         | 61/1000 [01:26<22:20,  1.43s/it]\u001b[A"
          ],
          "name": "stderr"
        },
        {
          "output_type": "stream",
          "text": [
            "(60, 20)\n"
          ],
          "name": "stdout"
        },
        {
          "output_type": "stream",
          "text": [
            "\n",
            "  6%|▌         | 62/1000 [01:28<22:14,  1.42s/it]\u001b[A"
          ],
          "name": "stderr"
        },
        {
          "output_type": "stream",
          "text": [
            "(61, 20)\n"
          ],
          "name": "stdout"
        },
        {
          "output_type": "stream",
          "text": [
            "\n",
            "  6%|▋         | 63/1000 [01:29<22:12,  1.42s/it]\u001b[A"
          ],
          "name": "stderr"
        },
        {
          "output_type": "stream",
          "text": [
            "(62, 20)\n"
          ],
          "name": "stdout"
        },
        {
          "output_type": "stream",
          "text": [
            "\n",
            "  6%|▋         | 64/1000 [01:30<22:08,  1.42s/it]\u001b[A"
          ],
          "name": "stderr"
        },
        {
          "output_type": "stream",
          "text": [
            "(63, 20)\n"
          ],
          "name": "stdout"
        },
        {
          "output_type": "stream",
          "text": [
            "\n",
            "  6%|▋         | 65/1000 [01:32<22:05,  1.42s/it]\u001b[A"
          ],
          "name": "stderr"
        },
        {
          "output_type": "stream",
          "text": [
            "(64, 20)\n"
          ],
          "name": "stdout"
        },
        {
          "output_type": "stream",
          "text": [
            "\n",
            "  7%|▋         | 66/1000 [01:33<22:01,  1.41s/it]\u001b[A"
          ],
          "name": "stderr"
        },
        {
          "output_type": "stream",
          "text": [
            "(65, 20)\n"
          ],
          "name": "stdout"
        },
        {
          "output_type": "stream",
          "text": [
            "\n",
            "  7%|▋         | 67/1000 [01:35<22:05,  1.42s/it]\u001b[A"
          ],
          "name": "stderr"
        },
        {
          "output_type": "stream",
          "text": [
            "(66, 20)\n"
          ],
          "name": "stdout"
        },
        {
          "output_type": "stream",
          "text": [
            "\n",
            "  7%|▋         | 68/1000 [01:36<22:08,  1.43s/it]\u001b[A"
          ],
          "name": "stderr"
        },
        {
          "output_type": "stream",
          "text": [
            "(67, 20)\n"
          ],
          "name": "stdout"
        },
        {
          "output_type": "stream",
          "text": [
            "\n",
            "  7%|▋         | 69/1000 [01:38<22:04,  1.42s/it]\u001b[A"
          ],
          "name": "stderr"
        },
        {
          "output_type": "stream",
          "text": [
            "(68, 20)\n"
          ],
          "name": "stdout"
        },
        {
          "output_type": "stream",
          "text": [
            "\n",
            "  7%|▋         | 70/1000 [01:39<22:07,  1.43s/it]\u001b[A"
          ],
          "name": "stderr"
        },
        {
          "output_type": "stream",
          "text": [
            "(69, 20)\n"
          ],
          "name": "stdout"
        },
        {
          "output_type": "stream",
          "text": [
            "\n",
            "  7%|▋         | 71/1000 [01:40<22:01,  1.42s/it]\u001b[A"
          ],
          "name": "stderr"
        },
        {
          "output_type": "stream",
          "text": [
            "(70, 20)\n"
          ],
          "name": "stdout"
        },
        {
          "output_type": "stream",
          "text": [
            "\n",
            "  7%|▋         | 72/1000 [01:42<21:57,  1.42s/it]\u001b[A"
          ],
          "name": "stderr"
        },
        {
          "output_type": "stream",
          "text": [
            "(71, 20)\n"
          ],
          "name": "stdout"
        },
        {
          "output_type": "stream",
          "text": [
            "\n",
            "  7%|▋         | 73/1000 [01:43<21:56,  1.42s/it]\u001b[A"
          ],
          "name": "stderr"
        },
        {
          "output_type": "stream",
          "text": [
            "(72, 20)\n"
          ],
          "name": "stdout"
        },
        {
          "output_type": "stream",
          "text": [
            "\n",
            "  7%|▋         | 74/1000 [01:45<22:01,  1.43s/it]\u001b[A"
          ],
          "name": "stderr"
        },
        {
          "output_type": "stream",
          "text": [
            "(73, 20)\n"
          ],
          "name": "stdout"
        },
        {
          "output_type": "stream",
          "text": [
            "\n",
            "  8%|▊         | 75/1000 [01:46<22:05,  1.43s/it]\u001b[A"
          ],
          "name": "stderr"
        },
        {
          "output_type": "stream",
          "text": [
            "(74, 20)\n"
          ],
          "name": "stdout"
        },
        {
          "output_type": "stream",
          "text": [
            "\n",
            "  8%|▊         | 76/1000 [01:48<22:02,  1.43s/it]\u001b[A"
          ],
          "name": "stderr"
        },
        {
          "output_type": "stream",
          "text": [
            "(75, 20)\n"
          ],
          "name": "stdout"
        },
        {
          "output_type": "stream",
          "text": [
            "\n",
            "  8%|▊         | 77/1000 [01:49<23:10,  1.51s/it]\u001b[A"
          ],
          "name": "stderr"
        },
        {
          "output_type": "stream",
          "text": [
            "(76, 20)\n"
          ],
          "name": "stdout"
        },
        {
          "output_type": "stream",
          "text": [
            "\n",
            "  8%|▊         | 78/1000 [01:51<23:31,  1.53s/it]\u001b[A"
          ],
          "name": "stderr"
        },
        {
          "output_type": "stream",
          "text": [
            "(77, 20)\n"
          ],
          "name": "stdout"
        },
        {
          "output_type": "stream",
          "text": [
            "\n",
            "  8%|▊         | 79/1000 [01:52<22:57,  1.50s/it]\u001b[A"
          ],
          "name": "stderr"
        },
        {
          "output_type": "stream",
          "text": [
            "(78, 20)\n"
          ],
          "name": "stdout"
        },
        {
          "output_type": "stream",
          "text": [
            "\n",
            "  8%|▊         | 80/1000 [01:54<22:34,  1.47s/it]\u001b[A"
          ],
          "name": "stderr"
        },
        {
          "output_type": "stream",
          "text": [
            "(79, 20)\n"
          ],
          "name": "stdout"
        },
        {
          "output_type": "stream",
          "text": [
            "\n",
            "  8%|▊         | 81/1000 [01:55<22:30,  1.47s/it]\u001b[A"
          ],
          "name": "stderr"
        },
        {
          "output_type": "stream",
          "text": [
            "(80, 20)\n"
          ],
          "name": "stdout"
        },
        {
          "output_type": "stream",
          "text": [
            "\n",
            "  8%|▊         | 82/1000 [01:57<22:21,  1.46s/it]\u001b[A"
          ],
          "name": "stderr"
        },
        {
          "output_type": "stream",
          "text": [
            "(81, 20)\n"
          ],
          "name": "stdout"
        },
        {
          "output_type": "stream",
          "text": [
            "\n",
            "  8%|▊         | 83/1000 [01:58<22:09,  1.45s/it]\u001b[A"
          ],
          "name": "stderr"
        },
        {
          "output_type": "stream",
          "text": [
            "(82, 20)\n"
          ],
          "name": "stdout"
        },
        {
          "output_type": "stream",
          "text": [
            "\n",
            "  8%|▊         | 84/1000 [01:59<22:00,  1.44s/it]\u001b[A"
          ],
          "name": "stderr"
        },
        {
          "output_type": "stream",
          "text": [
            "(83, 20)\n"
          ],
          "name": "stdout"
        },
        {
          "output_type": "stream",
          "text": [
            "\n",
            "  8%|▊         | 85/1000 [02:01<22:00,  1.44s/it]\u001b[A"
          ],
          "name": "stderr"
        },
        {
          "output_type": "stream",
          "text": [
            "(84, 20)\n"
          ],
          "name": "stdout"
        },
        {
          "output_type": "stream",
          "text": [
            "\n",
            "  9%|▊         | 86/1000 [02:02<21:54,  1.44s/it]\u001b[A"
          ],
          "name": "stderr"
        },
        {
          "output_type": "stream",
          "text": [
            "(85, 20)\n"
          ],
          "name": "stdout"
        },
        {
          "output_type": "stream",
          "text": [
            "\n",
            "  9%|▊         | 87/1000 [02:04<21:47,  1.43s/it]\u001b[A"
          ],
          "name": "stderr"
        },
        {
          "output_type": "stream",
          "text": [
            "(86, 20)\n"
          ],
          "name": "stdout"
        },
        {
          "output_type": "stream",
          "text": [
            "\n",
            "  9%|▉         | 88/1000 [02:05<21:50,  1.44s/it]\u001b[A"
          ],
          "name": "stderr"
        },
        {
          "output_type": "stream",
          "text": [
            "(87, 20)\n"
          ],
          "name": "stdout"
        },
        {
          "output_type": "stream",
          "text": [
            "\n",
            "  9%|▉         | 89/1000 [02:07<21:49,  1.44s/it]\u001b[A"
          ],
          "name": "stderr"
        },
        {
          "output_type": "stream",
          "text": [
            "(88, 20)\n"
          ],
          "name": "stdout"
        },
        {
          "output_type": "stream",
          "text": [
            "\n",
            "  9%|▉         | 90/1000 [02:08<21:47,  1.44s/it]\u001b[A"
          ],
          "name": "stderr"
        },
        {
          "output_type": "stream",
          "text": [
            "(89, 20)\n"
          ],
          "name": "stdout"
        },
        {
          "output_type": "stream",
          "text": [
            "\n",
            "  9%|▉         | 91/1000 [02:09<21:48,  1.44s/it]\u001b[A"
          ],
          "name": "stderr"
        },
        {
          "output_type": "stream",
          "text": [
            "(90, 20)\n"
          ],
          "name": "stdout"
        },
        {
          "output_type": "stream",
          "text": [
            "\n",
            "  9%|▉         | 92/1000 [02:11<21:42,  1.43s/it]\u001b[A"
          ],
          "name": "stderr"
        },
        {
          "output_type": "stream",
          "text": [
            "(91, 20)\n"
          ],
          "name": "stdout"
        },
        {
          "output_type": "stream",
          "text": [
            "\n",
            "  9%|▉         | 93/1000 [02:12<21:36,  1.43s/it]\u001b[A"
          ],
          "name": "stderr"
        },
        {
          "output_type": "stream",
          "text": [
            "(92, 20)\n"
          ],
          "name": "stdout"
        },
        {
          "output_type": "stream",
          "text": [
            "\n",
            "  9%|▉         | 94/1000 [02:14<21:33,  1.43s/it]\u001b[A"
          ],
          "name": "stderr"
        },
        {
          "output_type": "stream",
          "text": [
            "(93, 20)\n"
          ],
          "name": "stdout"
        },
        {
          "output_type": "stream",
          "text": [
            "\n",
            " 10%|▉         | 95/1000 [02:15<21:29,  1.43s/it]\u001b[A"
          ],
          "name": "stderr"
        },
        {
          "output_type": "stream",
          "text": [
            "(94, 20)\n"
          ],
          "name": "stdout"
        },
        {
          "output_type": "stream",
          "text": [
            "\n",
            " 10%|▉         | 96/1000 [02:17<21:35,  1.43s/it]\u001b[A"
          ],
          "name": "stderr"
        },
        {
          "output_type": "stream",
          "text": [
            "(95, 20)\n"
          ],
          "name": "stdout"
        },
        {
          "output_type": "stream",
          "text": [
            "\n",
            " 10%|▉         | 97/1000 [02:18<21:37,  1.44s/it]\u001b[A"
          ],
          "name": "stderr"
        },
        {
          "output_type": "stream",
          "text": [
            "(96, 20)\n"
          ],
          "name": "stdout"
        },
        {
          "output_type": "stream",
          "text": [
            "\n",
            " 10%|▉         | 98/1000 [02:19<21:33,  1.43s/it]\u001b[A"
          ],
          "name": "stderr"
        },
        {
          "output_type": "stream",
          "text": [
            "(97, 20)\n"
          ],
          "name": "stdout"
        },
        {
          "output_type": "stream",
          "text": [
            "\n",
            " 10%|▉         | 99/1000 [02:21<21:33,  1.44s/it]\u001b[A"
          ],
          "name": "stderr"
        },
        {
          "output_type": "stream",
          "text": [
            "(98, 20)\n"
          ],
          "name": "stdout"
        },
        {
          "output_type": "stream",
          "text": [
            "\n",
            " 10%|█         | 100/1000 [02:22<21:27,  1.43s/it]\u001b[A"
          ],
          "name": "stderr"
        },
        {
          "output_type": "stream",
          "text": [
            "(99, 20)\n"
          ],
          "name": "stdout"
        },
        {
          "output_type": "stream",
          "text": [
            "\n",
            " 10%|█         | 101/1000 [02:24<21:29,  1.43s/it]\u001b[A"
          ],
          "name": "stderr"
        },
        {
          "output_type": "stream",
          "text": [
            "(100, 20)\n"
          ],
          "name": "stdout"
        },
        {
          "output_type": "stream",
          "text": [
            "\n",
            " 10%|█         | 102/1000 [02:25<21:26,  1.43s/it]\u001b[A"
          ],
          "name": "stderr"
        },
        {
          "output_type": "stream",
          "text": [
            "(101, 20)\n"
          ],
          "name": "stdout"
        },
        {
          "output_type": "stream",
          "text": [
            "\n",
            " 10%|█         | 103/1000 [02:27<21:25,  1.43s/it]\u001b[A"
          ],
          "name": "stderr"
        },
        {
          "output_type": "stream",
          "text": [
            "(102, 20)\n"
          ],
          "name": "stdout"
        },
        {
          "output_type": "stream",
          "text": [
            "\n",
            " 10%|█         | 104/1000 [02:28<21:25,  1.44s/it]\u001b[A"
          ],
          "name": "stderr"
        },
        {
          "output_type": "stream",
          "text": [
            "(103, 20)\n"
          ],
          "name": "stdout"
        },
        {
          "output_type": "stream",
          "text": [
            "\n",
            " 10%|█         | 105/1000 [02:29<21:21,  1.43s/it]\u001b[A"
          ],
          "name": "stderr"
        },
        {
          "output_type": "stream",
          "text": [
            "(104, 20)\n"
          ],
          "name": "stdout"
        },
        {
          "output_type": "stream",
          "text": [
            "\n",
            " 11%|█         | 106/1000 [02:31<21:16,  1.43s/it]\u001b[A"
          ],
          "name": "stderr"
        },
        {
          "output_type": "stream",
          "text": [
            "(105, 20)\n"
          ],
          "name": "stdout"
        },
        {
          "output_type": "stream",
          "text": [
            "\n",
            " 11%|█         | 107/1000 [02:32<21:14,  1.43s/it]\u001b[A"
          ],
          "name": "stderr"
        },
        {
          "output_type": "stream",
          "text": [
            "(106, 20)\n"
          ],
          "name": "stdout"
        },
        {
          "output_type": "stream",
          "text": [
            "\n",
            " 11%|█         | 108/1000 [02:34<21:12,  1.43s/it]\u001b[A"
          ],
          "name": "stderr"
        },
        {
          "output_type": "stream",
          "text": [
            "(107, 20)\n"
          ],
          "name": "stdout"
        },
        {
          "output_type": "stream",
          "text": [
            "\n",
            " 11%|█         | 109/1000 [02:35<21:12,  1.43s/it]\u001b[A"
          ],
          "name": "stderr"
        },
        {
          "output_type": "stream",
          "text": [
            "(108, 20)\n"
          ],
          "name": "stdout"
        },
        {
          "output_type": "stream",
          "text": [
            "\n",
            " 11%|█         | 110/1000 [02:37<21:13,  1.43s/it]\u001b[A"
          ],
          "name": "stderr"
        },
        {
          "output_type": "stream",
          "text": [
            "(109, 20)\n"
          ],
          "name": "stdout"
        },
        {
          "output_type": "stream",
          "text": [
            "\n",
            " 11%|█         | 111/1000 [02:38<21:18,  1.44s/it]\u001b[A"
          ],
          "name": "stderr"
        },
        {
          "output_type": "stream",
          "text": [
            "(110, 20)\n"
          ],
          "name": "stdout"
        },
        {
          "output_type": "stream",
          "text": [
            "\n",
            " 11%|█         | 112/1000 [02:40<21:18,  1.44s/it]\u001b[A"
          ],
          "name": "stderr"
        },
        {
          "output_type": "stream",
          "text": [
            "(111, 20)\n"
          ],
          "name": "stdout"
        },
        {
          "output_type": "stream",
          "text": [
            "\n",
            " 11%|█▏        | 113/1000 [02:41<21:13,  1.44s/it]\u001b[A"
          ],
          "name": "stderr"
        },
        {
          "output_type": "stream",
          "text": [
            "(112, 20)\n"
          ],
          "name": "stdout"
        },
        {
          "output_type": "stream",
          "text": [
            "\n",
            " 11%|█▏        | 114/1000 [02:42<21:06,  1.43s/it]\u001b[A"
          ],
          "name": "stderr"
        },
        {
          "output_type": "stream",
          "text": [
            "(113, 20)\n"
          ],
          "name": "stdout"
        },
        {
          "output_type": "stream",
          "text": [
            "\n",
            " 12%|█▏        | 115/1000 [02:44<21:03,  1.43s/it]\u001b[A"
          ],
          "name": "stderr"
        },
        {
          "output_type": "stream",
          "text": [
            "(114, 20)\n"
          ],
          "name": "stdout"
        },
        {
          "output_type": "stream",
          "text": [
            "\n",
            " 12%|█▏        | 116/1000 [02:45<20:58,  1.42s/it]\u001b[A"
          ],
          "name": "stderr"
        },
        {
          "output_type": "stream",
          "text": [
            "(115, 20)\n"
          ],
          "name": "stdout"
        },
        {
          "output_type": "stream",
          "text": [
            "\n",
            " 12%|█▏        | 117/1000 [02:47<21:02,  1.43s/it]\u001b[A"
          ],
          "name": "stderr"
        },
        {
          "output_type": "stream",
          "text": [
            "(116, 20)\n"
          ],
          "name": "stdout"
        },
        {
          "output_type": "stream",
          "text": [
            "\n",
            " 12%|█▏        | 118/1000 [02:48<21:06,  1.44s/it]\u001b[A"
          ],
          "name": "stderr"
        },
        {
          "output_type": "stream",
          "text": [
            "(117, 20)\n"
          ],
          "name": "stdout"
        },
        {
          "output_type": "stream",
          "text": [
            "\n",
            " 12%|█▏        | 119/1000 [02:50<21:14,  1.45s/it]\u001b[A"
          ],
          "name": "stderr"
        },
        {
          "output_type": "stream",
          "text": [
            "(118, 20)\n"
          ],
          "name": "stdout"
        },
        {
          "output_type": "stream",
          "text": [
            "\n",
            " 12%|█▏        | 120/1000 [02:51<21:14,  1.45s/it]\u001b[A"
          ],
          "name": "stderr"
        },
        {
          "output_type": "stream",
          "text": [
            "(119, 20)\n"
          ],
          "name": "stdout"
        },
        {
          "output_type": "stream",
          "text": [
            "\n",
            " 12%|█▏        | 121/1000 [02:52<21:04,  1.44s/it]\u001b[A"
          ],
          "name": "stderr"
        },
        {
          "output_type": "stream",
          "text": [
            "(120, 20)\n"
          ],
          "name": "stdout"
        },
        {
          "output_type": "stream",
          "text": [
            "\n",
            " 12%|█▏        | 122/1000 [02:54<21:00,  1.44s/it]\u001b[A"
          ],
          "name": "stderr"
        },
        {
          "output_type": "stream",
          "text": [
            "(121, 20)\n"
          ],
          "name": "stdout"
        },
        {
          "output_type": "stream",
          "text": [
            "\n",
            " 12%|█▏        | 123/1000 [02:55<20:59,  1.44s/it]\u001b[A"
          ],
          "name": "stderr"
        },
        {
          "output_type": "stream",
          "text": [
            "(122, 20)\n"
          ],
          "name": "stdout"
        },
        {
          "output_type": "stream",
          "text": [
            "\n",
            " 12%|█▏        | 124/1000 [02:57<20:57,  1.44s/it]\u001b[A"
          ],
          "name": "stderr"
        },
        {
          "output_type": "stream",
          "text": [
            "(123, 20)\n"
          ],
          "name": "stdout"
        },
        {
          "output_type": "stream",
          "text": [
            "\n",
            " 12%|█▎        | 125/1000 [02:58<20:51,  1.43s/it]\u001b[A"
          ],
          "name": "stderr"
        },
        {
          "output_type": "stream",
          "text": [
            "(124, 20)\n"
          ],
          "name": "stdout"
        },
        {
          "output_type": "stream",
          "text": [
            "\n",
            " 13%|█▎        | 126/1000 [03:00<20:53,  1.43s/it]\u001b[A"
          ],
          "name": "stderr"
        },
        {
          "output_type": "stream",
          "text": [
            "(125, 20)\n"
          ],
          "name": "stdout"
        },
        {
          "output_type": "stream",
          "text": [
            "\n",
            " 13%|█▎        | 127/1000 [03:01<20:55,  1.44s/it]\u001b[A"
          ],
          "name": "stderr"
        },
        {
          "output_type": "stream",
          "text": [
            "(126, 20)\n"
          ],
          "name": "stdout"
        },
        {
          "output_type": "stream",
          "text": [
            "\n",
            " 13%|█▎        | 128/1000 [03:02<20:49,  1.43s/it]\u001b[A"
          ],
          "name": "stderr"
        },
        {
          "output_type": "stream",
          "text": [
            "(127, 20)\n"
          ],
          "name": "stdout"
        },
        {
          "output_type": "stream",
          "text": [
            "\n",
            " 13%|█▎        | 129/1000 [03:04<20:44,  1.43s/it]\u001b[A"
          ],
          "name": "stderr"
        },
        {
          "output_type": "stream",
          "text": [
            "(128, 20)\n"
          ],
          "name": "stdout"
        },
        {
          "output_type": "stream",
          "text": [
            "\n",
            " 13%|█▎        | 130/1000 [03:05<20:43,  1.43s/it]\u001b[A"
          ],
          "name": "stderr"
        },
        {
          "output_type": "stream",
          "text": [
            "(129, 20)\n"
          ],
          "name": "stdout"
        },
        {
          "output_type": "stream",
          "text": [
            "\n",
            " 13%|█▎        | 131/1000 [03:07<20:43,  1.43s/it]\u001b[A"
          ],
          "name": "stderr"
        },
        {
          "output_type": "stream",
          "text": [
            "(130, 20)\n"
          ],
          "name": "stdout"
        },
        {
          "output_type": "stream",
          "text": [
            "\n",
            " 13%|█▎        | 132/1000 [03:08<20:39,  1.43s/it]\u001b[A"
          ],
          "name": "stderr"
        },
        {
          "output_type": "stream",
          "text": [
            "(131, 20)\n"
          ],
          "name": "stdout"
        },
        {
          "output_type": "stream",
          "text": [
            "\n",
            " 13%|█▎        | 133/1000 [03:10<20:49,  1.44s/it]\u001b[A"
          ],
          "name": "stderr"
        },
        {
          "output_type": "stream",
          "text": [
            "(132, 20)\n"
          ],
          "name": "stdout"
        },
        {
          "output_type": "stream",
          "text": [
            "\n",
            " 13%|█▎        | 134/1000 [03:11<20:41,  1.43s/it]\u001b[A"
          ],
          "name": "stderr"
        },
        {
          "output_type": "stream",
          "text": [
            "(133, 20)\n"
          ],
          "name": "stdout"
        },
        {
          "output_type": "stream",
          "text": [
            "\n",
            " 14%|█▎        | 135/1000 [03:12<20:35,  1.43s/it]\u001b[A"
          ],
          "name": "stderr"
        },
        {
          "output_type": "stream",
          "text": [
            "(134, 20)\n"
          ],
          "name": "stdout"
        },
        {
          "output_type": "stream",
          "text": [
            "\n",
            " 14%|█▎        | 136/1000 [03:14<20:32,  1.43s/it]\u001b[A"
          ],
          "name": "stderr"
        },
        {
          "output_type": "stream",
          "text": [
            "(135, 20)\n"
          ],
          "name": "stdout"
        },
        {
          "output_type": "stream",
          "text": [
            "\n",
            " 14%|█▎        | 137/1000 [03:15<20:29,  1.43s/it]\u001b[A"
          ],
          "name": "stderr"
        },
        {
          "output_type": "stream",
          "text": [
            "(136, 20)\n"
          ],
          "name": "stdout"
        },
        {
          "output_type": "stream",
          "text": [
            "\n",
            " 14%|█▍        | 138/1000 [03:17<20:32,  1.43s/it]\u001b[A"
          ],
          "name": "stderr"
        },
        {
          "output_type": "stream",
          "text": [
            "(137, 20)\n"
          ],
          "name": "stdout"
        },
        {
          "output_type": "stream",
          "text": [
            "\n",
            " 14%|█▍        | 139/1000 [03:18<20:33,  1.43s/it]\u001b[A"
          ],
          "name": "stderr"
        },
        {
          "output_type": "stream",
          "text": [
            "(138, 20)\n"
          ],
          "name": "stdout"
        },
        {
          "output_type": "stream",
          "text": [
            "\n",
            " 14%|█▍        | 140/1000 [03:20<20:28,  1.43s/it]\u001b[A"
          ],
          "name": "stderr"
        },
        {
          "output_type": "stream",
          "text": [
            "(139, 20)\n"
          ],
          "name": "stdout"
        },
        {
          "output_type": "stream",
          "text": [
            "\n",
            " 14%|█▍        | 141/1000 [03:21<20:36,  1.44s/it]\u001b[A"
          ],
          "name": "stderr"
        },
        {
          "output_type": "stream",
          "text": [
            "(140, 20)\n"
          ],
          "name": "stdout"
        },
        {
          "output_type": "stream",
          "text": [
            "\n",
            " 14%|█▍        | 142/1000 [03:22<20:30,  1.43s/it]\u001b[A"
          ],
          "name": "stderr"
        },
        {
          "output_type": "stream",
          "text": [
            "(141, 20)\n"
          ],
          "name": "stdout"
        },
        {
          "output_type": "stream",
          "text": [
            "\n",
            " 14%|█▍        | 143/1000 [03:24<20:30,  1.44s/it]\u001b[A"
          ],
          "name": "stderr"
        },
        {
          "output_type": "stream",
          "text": [
            "(142, 20)\n"
          ],
          "name": "stdout"
        },
        {
          "output_type": "stream",
          "text": [
            "\n",
            " 14%|█▍        | 144/1000 [03:25<20:29,  1.44s/it]\u001b[A"
          ],
          "name": "stderr"
        },
        {
          "output_type": "stream",
          "text": [
            "(143, 20)\n"
          ],
          "name": "stdout"
        },
        {
          "output_type": "stream",
          "text": [
            "\n",
            " 14%|█▍        | 145/1000 [03:27<20:31,  1.44s/it]\u001b[A"
          ],
          "name": "stderr"
        },
        {
          "output_type": "stream",
          "text": [
            "(144, 20)\n"
          ],
          "name": "stdout"
        },
        {
          "output_type": "stream",
          "text": [
            "\n",
            " 15%|█▍        | 146/1000 [03:28<20:23,  1.43s/it]\u001b[A"
          ],
          "name": "stderr"
        },
        {
          "output_type": "stream",
          "text": [
            "(145, 20)\n"
          ],
          "name": "stdout"
        },
        {
          "output_type": "stream",
          "text": [
            "\n",
            " 15%|█▍        | 147/1000 [03:30<20:18,  1.43s/it]\u001b[A"
          ],
          "name": "stderr"
        },
        {
          "output_type": "stream",
          "text": [
            "(146, 20)\n"
          ],
          "name": "stdout"
        },
        {
          "output_type": "stream",
          "text": [
            "\n",
            " 15%|█▍        | 148/1000 [03:31<20:25,  1.44s/it]\u001b[A"
          ],
          "name": "stderr"
        },
        {
          "output_type": "stream",
          "text": [
            "(147, 20)\n"
          ],
          "name": "stdout"
        },
        {
          "output_type": "stream",
          "text": [
            "\n",
            " 15%|█▍        | 149/1000 [03:33<20:16,  1.43s/it]\u001b[A"
          ],
          "name": "stderr"
        },
        {
          "output_type": "stream",
          "text": [
            "(148, 20)\n"
          ],
          "name": "stdout"
        },
        {
          "output_type": "stream",
          "text": [
            "\n",
            " 15%|█▌        | 150/1000 [03:34<20:11,  1.43s/it]\u001b[A"
          ],
          "name": "stderr"
        },
        {
          "output_type": "stream",
          "text": [
            "(149, 20)\n"
          ],
          "name": "stdout"
        },
        {
          "output_type": "stream",
          "text": [
            "\n",
            " 15%|█▌        | 151/1000 [03:35<20:07,  1.42s/it]\u001b[A"
          ],
          "name": "stderr"
        },
        {
          "output_type": "stream",
          "text": [
            "(150, 20)\n"
          ],
          "name": "stdout"
        },
        {
          "output_type": "stream",
          "text": [
            "\n",
            " 15%|█▌        | 152/1000 [03:37<20:03,  1.42s/it]\u001b[A"
          ],
          "name": "stderr"
        },
        {
          "output_type": "stream",
          "text": [
            "(151, 20)\n"
          ],
          "name": "stdout"
        },
        {
          "output_type": "stream",
          "text": [
            "\n",
            " 15%|█▌        | 153/1000 [03:38<20:03,  1.42s/it]\u001b[A"
          ],
          "name": "stderr"
        },
        {
          "output_type": "stream",
          "text": [
            "(152, 20)\n"
          ],
          "name": "stdout"
        },
        {
          "output_type": "stream",
          "text": [
            "\n",
            " 15%|█▌        | 154/1000 [03:40<20:05,  1.42s/it]\u001b[A"
          ],
          "name": "stderr"
        },
        {
          "output_type": "stream",
          "text": [
            "(153, 20)\n"
          ],
          "name": "stdout"
        },
        {
          "output_type": "stream",
          "text": [
            "\n",
            " 16%|█▌        | 155/1000 [03:41<20:02,  1.42s/it]\u001b[A"
          ],
          "name": "stderr"
        },
        {
          "output_type": "stream",
          "text": [
            "(154, 20)\n"
          ],
          "name": "stdout"
        },
        {
          "output_type": "stream",
          "text": [
            "\n",
            " 16%|█▌        | 156/1000 [03:42<20:07,  1.43s/it]\u001b[A"
          ],
          "name": "stderr"
        },
        {
          "output_type": "stream",
          "text": [
            "(155, 20)\n"
          ],
          "name": "stdout"
        },
        {
          "output_type": "stream",
          "text": [
            "\n",
            " 16%|█▌        | 157/1000 [03:44<20:01,  1.43s/it]\u001b[A"
          ],
          "name": "stderr"
        },
        {
          "output_type": "stream",
          "text": [
            "(156, 20)\n"
          ],
          "name": "stdout"
        },
        {
          "output_type": "stream",
          "text": [
            "\n",
            " 16%|█▌        | 158/1000 [03:45<19:58,  1.42s/it]\u001b[A"
          ],
          "name": "stderr"
        },
        {
          "output_type": "stream",
          "text": [
            "(157, 20)\n"
          ],
          "name": "stdout"
        },
        {
          "output_type": "stream",
          "text": [
            "\n",
            " 16%|█▌        | 159/1000 [03:47<19:59,  1.43s/it]\u001b[A"
          ],
          "name": "stderr"
        },
        {
          "output_type": "stream",
          "text": [
            "(158, 20)\n"
          ],
          "name": "stdout"
        },
        {
          "output_type": "stream",
          "text": [
            "\n",
            " 16%|█▌        | 160/1000 [03:48<20:00,  1.43s/it]\u001b[A"
          ],
          "name": "stderr"
        },
        {
          "output_type": "stream",
          "text": [
            "(159, 20)\n"
          ],
          "name": "stdout"
        },
        {
          "output_type": "stream",
          "text": [
            "\n",
            " 16%|█▌        | 161/1000 [03:50<19:57,  1.43s/it]\u001b[A"
          ],
          "name": "stderr"
        },
        {
          "output_type": "stream",
          "text": [
            "(160, 20)\n"
          ],
          "name": "stdout"
        },
        {
          "output_type": "stream",
          "text": [
            "\n",
            " 16%|█▌        | 162/1000 [03:51<20:02,  1.44s/it]\u001b[A"
          ],
          "name": "stderr"
        },
        {
          "output_type": "stream",
          "text": [
            "(161, 20)\n"
          ],
          "name": "stdout"
        },
        {
          "output_type": "stream",
          "text": [
            "\n",
            " 16%|█▋        | 163/1000 [03:52<19:58,  1.43s/it]\u001b[A"
          ],
          "name": "stderr"
        },
        {
          "output_type": "stream",
          "text": [
            "(162, 20)\n"
          ],
          "name": "stdout"
        },
        {
          "output_type": "stream",
          "text": [
            "\n",
            " 16%|█▋        | 164/1000 [03:54<19:58,  1.43s/it]\u001b[A"
          ],
          "name": "stderr"
        },
        {
          "output_type": "stream",
          "text": [
            "(163, 20)\n"
          ],
          "name": "stdout"
        },
        {
          "output_type": "stream",
          "text": [
            "\n",
            " 16%|█▋        | 165/1000 [03:55<19:56,  1.43s/it]\u001b[A"
          ],
          "name": "stderr"
        },
        {
          "output_type": "stream",
          "text": [
            "(164, 20)\n"
          ],
          "name": "stdout"
        },
        {
          "output_type": "stream",
          "text": [
            "\n",
            " 17%|█▋        | 166/1000 [03:57<19:54,  1.43s/it]\u001b[A"
          ],
          "name": "stderr"
        },
        {
          "output_type": "stream",
          "text": [
            "(165, 20)\n"
          ],
          "name": "stdout"
        },
        {
          "output_type": "stream",
          "text": [
            "\n",
            " 17%|█▋        | 167/1000 [03:58<19:49,  1.43s/it]\u001b[A"
          ],
          "name": "stderr"
        },
        {
          "output_type": "stream",
          "text": [
            "(166, 20)\n"
          ],
          "name": "stdout"
        },
        {
          "output_type": "stream",
          "text": [
            "\n",
            " 17%|█▋        | 168/1000 [04:00<19:46,  1.43s/it]\u001b[A"
          ],
          "name": "stderr"
        },
        {
          "output_type": "stream",
          "text": [
            "(167, 20)\n"
          ],
          "name": "stdout"
        },
        {
          "output_type": "stream",
          "text": [
            "\n",
            " 17%|█▋        | 169/1000 [04:01<19:42,  1.42s/it]\u001b[A"
          ],
          "name": "stderr"
        },
        {
          "output_type": "stream",
          "text": [
            "(168, 20)\n"
          ],
          "name": "stdout"
        },
        {
          "output_type": "stream",
          "text": [
            "\n",
            " 17%|█▋        | 170/1000 [04:02<19:41,  1.42s/it]\u001b[A"
          ],
          "name": "stderr"
        },
        {
          "output_type": "stream",
          "text": [
            "(169, 20)\n"
          ],
          "name": "stdout"
        },
        {
          "output_type": "stream",
          "text": [
            "\n",
            " 17%|█▋        | 171/1000 [04:04<19:43,  1.43s/it]\u001b[A"
          ],
          "name": "stderr"
        },
        {
          "output_type": "stream",
          "text": [
            "(170, 20)\n"
          ],
          "name": "stdout"
        },
        {
          "output_type": "stream",
          "text": [
            "\n",
            " 17%|█▋        | 172/1000 [04:05<19:41,  1.43s/it]\u001b[A"
          ],
          "name": "stderr"
        },
        {
          "output_type": "stream",
          "text": [
            "(171, 20)\n"
          ],
          "name": "stdout"
        },
        {
          "output_type": "stream",
          "text": [
            "\n",
            " 17%|█▋        | 173/1000 [04:07<19:38,  1.42s/it]\u001b[A"
          ],
          "name": "stderr"
        },
        {
          "output_type": "stream",
          "text": [
            "(172, 20)\n"
          ],
          "name": "stdout"
        },
        {
          "output_type": "stream",
          "text": [
            "\n",
            " 17%|█▋        | 174/1000 [04:08<19:40,  1.43s/it]\u001b[A"
          ],
          "name": "stderr"
        },
        {
          "output_type": "stream",
          "text": [
            "(173, 20)\n"
          ],
          "name": "stdout"
        },
        {
          "output_type": "stream",
          "text": [
            "\n",
            " 18%|█▊        | 175/1000 [04:10<19:40,  1.43s/it]\u001b[A"
          ],
          "name": "stderr"
        },
        {
          "output_type": "stream",
          "text": [
            "(174, 20)\n"
          ],
          "name": "stdout"
        },
        {
          "output_type": "stream",
          "text": [
            "\n",
            " 18%|█▊        | 176/1000 [04:11<19:36,  1.43s/it]\u001b[A"
          ],
          "name": "stderr"
        },
        {
          "output_type": "stream",
          "text": [
            "(175, 20)\n"
          ],
          "name": "stdout"
        },
        {
          "output_type": "stream",
          "text": [
            "\n",
            " 18%|█▊        | 177/1000 [04:12<19:35,  1.43s/it]\u001b[A"
          ],
          "name": "stderr"
        },
        {
          "output_type": "stream",
          "text": [
            "(176, 20)\n"
          ],
          "name": "stdout"
        },
        {
          "output_type": "stream",
          "text": [
            "\n",
            " 18%|█▊        | 178/1000 [04:14<19:32,  1.43s/it]\u001b[A"
          ],
          "name": "stderr"
        },
        {
          "output_type": "stream",
          "text": [
            "(177, 20)\n"
          ],
          "name": "stdout"
        },
        {
          "output_type": "stream",
          "text": [
            "\n",
            " 18%|█▊        | 179/1000 [04:15<19:32,  1.43s/it]\u001b[A"
          ],
          "name": "stderr"
        },
        {
          "output_type": "stream",
          "text": [
            "(178, 20)\n"
          ],
          "name": "stdout"
        },
        {
          "output_type": "stream",
          "text": [
            "\n",
            " 18%|█▊        | 180/1000 [04:17<19:31,  1.43s/it]\u001b[A"
          ],
          "name": "stderr"
        },
        {
          "output_type": "stream",
          "text": [
            "(179, 20)\n"
          ],
          "name": "stdout"
        },
        {
          "output_type": "stream",
          "text": [
            "\n",
            " 18%|█▊        | 181/1000 [04:18<19:33,  1.43s/it]\u001b[A"
          ],
          "name": "stderr"
        },
        {
          "output_type": "stream",
          "text": [
            "(180, 20)\n"
          ],
          "name": "stdout"
        },
        {
          "output_type": "stream",
          "text": [
            "\n",
            " 18%|█▊        | 182/1000 [04:20<19:27,  1.43s/it]\u001b[A"
          ],
          "name": "stderr"
        },
        {
          "output_type": "stream",
          "text": [
            "(181, 20)\n"
          ],
          "name": "stdout"
        },
        {
          "output_type": "stream",
          "text": [
            "\n",
            " 18%|█▊        | 183/1000 [04:21<19:30,  1.43s/it]\u001b[A"
          ],
          "name": "stderr"
        },
        {
          "output_type": "stream",
          "text": [
            "(182, 20)\n"
          ],
          "name": "stdout"
        },
        {
          "output_type": "stream",
          "text": [
            "\n",
            " 18%|█▊        | 184/1000 [04:22<19:26,  1.43s/it]\u001b[A"
          ],
          "name": "stderr"
        },
        {
          "output_type": "stream",
          "text": [
            "(183, 20)\n"
          ],
          "name": "stdout"
        },
        {
          "output_type": "stream",
          "text": [
            "\n",
            " 18%|█▊        | 185/1000 [04:24<19:23,  1.43s/it]\u001b[A"
          ],
          "name": "stderr"
        },
        {
          "output_type": "stream",
          "text": [
            "(184, 20)\n"
          ],
          "name": "stdout"
        },
        {
          "output_type": "stream",
          "text": [
            "\n",
            " 19%|█▊        | 186/1000 [04:25<19:22,  1.43s/it]\u001b[A"
          ],
          "name": "stderr"
        },
        {
          "output_type": "stream",
          "text": [
            "(185, 20)\n"
          ],
          "name": "stdout"
        },
        {
          "output_type": "stream",
          "text": [
            "\n",
            " 19%|█▊        | 187/1000 [04:27<19:30,  1.44s/it]\u001b[A"
          ],
          "name": "stderr"
        },
        {
          "output_type": "stream",
          "text": [
            "(186, 20)\n"
          ],
          "name": "stdout"
        },
        {
          "output_type": "stream",
          "text": [
            "\n",
            " 19%|█▉        | 188/1000 [04:28<19:23,  1.43s/it]\u001b[A"
          ],
          "name": "stderr"
        },
        {
          "output_type": "stream",
          "text": [
            "(187, 20)\n"
          ],
          "name": "stdout"
        },
        {
          "output_type": "stream",
          "text": [
            "\n",
            " 19%|█▉        | 189/1000 [04:30<19:19,  1.43s/it]\u001b[A"
          ],
          "name": "stderr"
        },
        {
          "output_type": "stream",
          "text": [
            "(188, 20)\n"
          ],
          "name": "stdout"
        },
        {
          "output_type": "stream",
          "text": [
            "\n",
            " 19%|█▉        | 190/1000 [04:31<19:17,  1.43s/it]\u001b[A"
          ],
          "name": "stderr"
        },
        {
          "output_type": "stream",
          "text": [
            "(189, 20)\n"
          ],
          "name": "stdout"
        },
        {
          "output_type": "stream",
          "text": [
            "\n",
            " 19%|█▉        | 191/1000 [04:33<19:16,  1.43s/it]\u001b[A"
          ],
          "name": "stderr"
        },
        {
          "output_type": "stream",
          "text": [
            "(190, 20)\n"
          ],
          "name": "stdout"
        },
        {
          "output_type": "stream",
          "text": [
            "\n",
            " 19%|█▉        | 192/1000 [04:34<19:14,  1.43s/it]\u001b[A"
          ],
          "name": "stderr"
        },
        {
          "output_type": "stream",
          "text": [
            "(191, 20)\n"
          ],
          "name": "stdout"
        },
        {
          "output_type": "stream",
          "text": [
            "\n",
            " 19%|█▉        | 193/1000 [04:35<19:14,  1.43s/it]\u001b[A"
          ],
          "name": "stderr"
        },
        {
          "output_type": "stream",
          "text": [
            "(192, 20)\n"
          ],
          "name": "stdout"
        },
        {
          "output_type": "stream",
          "text": [
            "\n",
            " 19%|█▉        | 194/1000 [04:37<19:17,  1.44s/it]\u001b[A"
          ],
          "name": "stderr"
        },
        {
          "output_type": "stream",
          "text": [
            "(193, 20)\n"
          ],
          "name": "stdout"
        },
        {
          "output_type": "stream",
          "text": [
            "\n",
            " 20%|█▉        | 195/1000 [04:38<19:16,  1.44s/it]\u001b[A"
          ],
          "name": "stderr"
        },
        {
          "output_type": "stream",
          "text": [
            "(194, 20)\n"
          ],
          "name": "stdout"
        },
        {
          "output_type": "stream",
          "text": [
            "\n",
            " 20%|█▉        | 196/1000 [04:40<19:13,  1.43s/it]\u001b[A"
          ],
          "name": "stderr"
        },
        {
          "output_type": "stream",
          "text": [
            "(195, 20)\n"
          ],
          "name": "stdout"
        },
        {
          "output_type": "stream",
          "text": [
            "\n",
            " 20%|█▉        | 197/1000 [04:41<19:09,  1.43s/it]\u001b[A"
          ],
          "name": "stderr"
        },
        {
          "output_type": "stream",
          "text": [
            "(196, 20)\n"
          ],
          "name": "stdout"
        },
        {
          "output_type": "stream",
          "text": [
            "\n",
            " 20%|█▉        | 198/1000 [04:43<19:04,  1.43s/it]\u001b[A"
          ],
          "name": "stderr"
        },
        {
          "output_type": "stream",
          "text": [
            "(197, 20)\n"
          ],
          "name": "stdout"
        },
        {
          "output_type": "stream",
          "text": [
            "\n",
            " 20%|█▉        | 199/1000 [04:44<19:00,  1.42s/it]\u001b[A"
          ],
          "name": "stderr"
        },
        {
          "output_type": "stream",
          "text": [
            "(198, 20)\n"
          ],
          "name": "stdout"
        },
        {
          "output_type": "stream",
          "text": [
            "\n",
            " 20%|██        | 200/1000 [04:45<18:54,  1.42s/it]\u001b[A"
          ],
          "name": "stderr"
        },
        {
          "output_type": "stream",
          "text": [
            "(199, 20)\n"
          ],
          "name": "stdout"
        },
        {
          "output_type": "stream",
          "text": [
            "\n",
            " 20%|██        | 201/1000 [04:47<18:55,  1.42s/it]\u001b[A"
          ],
          "name": "stderr"
        },
        {
          "output_type": "stream",
          "text": [
            "(200, 20)\n"
          ],
          "name": "stdout"
        },
        {
          "output_type": "stream",
          "text": [
            "\n",
            " 20%|██        | 202/1000 [04:48<19:02,  1.43s/it]\u001b[A"
          ],
          "name": "stderr"
        },
        {
          "output_type": "stream",
          "text": [
            "(201, 20)\n"
          ],
          "name": "stdout"
        },
        {
          "output_type": "stream",
          "text": [
            "\n",
            " 20%|██        | 203/1000 [04:50<18:56,  1.43s/it]\u001b[A"
          ],
          "name": "stderr"
        },
        {
          "output_type": "stream",
          "text": [
            "(202, 20)\n"
          ],
          "name": "stdout"
        },
        {
          "output_type": "stream",
          "text": [
            "\n",
            " 20%|██        | 204/1000 [04:51<19:00,  1.43s/it]\u001b[A"
          ],
          "name": "stderr"
        },
        {
          "output_type": "stream",
          "text": [
            "(203, 20)\n"
          ],
          "name": "stdout"
        },
        {
          "output_type": "stream",
          "text": [
            "\n",
            " 20%|██        | 205/1000 [04:53<18:57,  1.43s/it]\u001b[A"
          ],
          "name": "stderr"
        },
        {
          "output_type": "stream",
          "text": [
            "(204, 20)\n"
          ],
          "name": "stdout"
        },
        {
          "output_type": "stream",
          "text": [
            "\n",
            " 21%|██        | 206/1000 [04:54<18:54,  1.43s/it]\u001b[A"
          ],
          "name": "stderr"
        },
        {
          "output_type": "stream",
          "text": [
            "(205, 20)\n"
          ],
          "name": "stdout"
        },
        {
          "output_type": "stream",
          "text": [
            "\n",
            " 21%|██        | 207/1000 [04:55<18:54,  1.43s/it]\u001b[A"
          ],
          "name": "stderr"
        },
        {
          "output_type": "stream",
          "text": [
            "(206, 20)\n"
          ],
          "name": "stdout"
        },
        {
          "output_type": "stream",
          "text": [
            "\n",
            " 21%|██        | 208/1000 [04:57<18:56,  1.43s/it]\u001b[A"
          ],
          "name": "stderr"
        },
        {
          "output_type": "stream",
          "text": [
            "(207, 20)\n"
          ],
          "name": "stdout"
        },
        {
          "output_type": "stream",
          "text": [
            "\n",
            " 21%|██        | 209/1000 [04:58<18:51,  1.43s/it]\u001b[A"
          ],
          "name": "stderr"
        },
        {
          "output_type": "stream",
          "text": [
            "(208, 20)\n"
          ],
          "name": "stdout"
        },
        {
          "output_type": "stream",
          "text": [
            "\n",
            " 21%|██        | 210/1000 [05:00<18:52,  1.43s/it]\u001b[A"
          ],
          "name": "stderr"
        },
        {
          "output_type": "stream",
          "text": [
            "(209, 20)\n"
          ],
          "name": "stdout"
        },
        {
          "output_type": "stream",
          "text": [
            "\n",
            " 21%|██        | 211/1000 [05:01<18:53,  1.44s/it]\u001b[A"
          ],
          "name": "stderr"
        },
        {
          "output_type": "stream",
          "text": [
            "(210, 20)\n"
          ],
          "name": "stdout"
        },
        {
          "output_type": "stream",
          "text": [
            "\n",
            " 21%|██        | 212/1000 [05:03<18:51,  1.44s/it]\u001b[A"
          ],
          "name": "stderr"
        },
        {
          "output_type": "stream",
          "text": [
            "(211, 20)\n"
          ],
          "name": "stdout"
        },
        {
          "output_type": "stream",
          "text": [
            "\n",
            " 21%|██▏       | 213/1000 [05:04<18:49,  1.43s/it]\u001b[A"
          ],
          "name": "stderr"
        },
        {
          "output_type": "stream",
          "text": [
            "(212, 20)\n"
          ],
          "name": "stdout"
        },
        {
          "output_type": "stream",
          "text": [
            "\n",
            " 21%|██▏       | 214/1000 [05:05<18:48,  1.44s/it]\u001b[A"
          ],
          "name": "stderr"
        },
        {
          "output_type": "stream",
          "text": [
            "(213, 20)\n"
          ],
          "name": "stdout"
        },
        {
          "output_type": "stream",
          "text": [
            "\n",
            " 22%|██▏       | 215/1000 [05:07<18:47,  1.44s/it]\u001b[A"
          ],
          "name": "stderr"
        },
        {
          "output_type": "stream",
          "text": [
            "(214, 20)\n"
          ],
          "name": "stdout"
        },
        {
          "output_type": "stream",
          "text": [
            "\n",
            " 22%|██▏       | 216/1000 [05:08<18:50,  1.44s/it]\u001b[A"
          ],
          "name": "stderr"
        },
        {
          "output_type": "stream",
          "text": [
            "(215, 20)\n"
          ],
          "name": "stdout"
        },
        {
          "output_type": "stream",
          "text": [
            "\n",
            " 22%|██▏       | 217/1000 [05:10<18:59,  1.46s/it]\u001b[A"
          ],
          "name": "stderr"
        },
        {
          "output_type": "stream",
          "text": [
            "(216, 20)\n"
          ],
          "name": "stdout"
        },
        {
          "output_type": "stream",
          "text": [
            "\n",
            " 22%|██▏       | 218/1000 [05:11<18:51,  1.45s/it]\u001b[A"
          ],
          "name": "stderr"
        },
        {
          "output_type": "stream",
          "text": [
            "(217, 20)\n"
          ],
          "name": "stdout"
        },
        {
          "output_type": "stream",
          "text": [
            "\n",
            " 22%|██▏       | 219/1000 [05:13<18:45,  1.44s/it]\u001b[A"
          ],
          "name": "stderr"
        },
        {
          "output_type": "stream",
          "text": [
            "(218, 20)\n"
          ],
          "name": "stdout"
        },
        {
          "output_type": "stream",
          "text": [
            "\n",
            " 22%|██▏       | 220/1000 [05:14<18:42,  1.44s/it]\u001b[A"
          ],
          "name": "stderr"
        },
        {
          "output_type": "stream",
          "text": [
            "(219, 20)\n"
          ],
          "name": "stdout"
        },
        {
          "output_type": "stream",
          "text": [
            "\n",
            " 22%|██▏       | 221/1000 [05:16<18:35,  1.43s/it]\u001b[A"
          ],
          "name": "stderr"
        },
        {
          "output_type": "stream",
          "text": [
            "(220, 20)\n"
          ],
          "name": "stdout"
        },
        {
          "output_type": "stream",
          "text": [
            "\n",
            " 22%|██▏       | 222/1000 [05:17<18:33,  1.43s/it]\u001b[A"
          ],
          "name": "stderr"
        },
        {
          "output_type": "stream",
          "text": [
            "(221, 20)\n"
          ],
          "name": "stdout"
        },
        {
          "output_type": "stream",
          "text": [
            "\n",
            " 22%|██▏       | 223/1000 [05:18<18:32,  1.43s/it]\u001b[A"
          ],
          "name": "stderr"
        },
        {
          "output_type": "stream",
          "text": [
            "(222, 20)\n"
          ],
          "name": "stdout"
        },
        {
          "output_type": "stream",
          "text": [
            "\n",
            " 22%|██▏       | 224/1000 [05:20<18:29,  1.43s/it]\u001b[A"
          ],
          "name": "stderr"
        },
        {
          "output_type": "stream",
          "text": [
            "(223, 20)\n"
          ],
          "name": "stdout"
        },
        {
          "output_type": "stream",
          "text": [
            "\n",
            " 22%|██▎       | 225/1000 [05:21<18:33,  1.44s/it]\u001b[A"
          ],
          "name": "stderr"
        },
        {
          "output_type": "stream",
          "text": [
            "(224, 20)\n"
          ],
          "name": "stdout"
        },
        {
          "output_type": "stream",
          "text": [
            "\n",
            " 23%|██▎       | 226/1000 [05:23<18:25,  1.43s/it]\u001b[A"
          ],
          "name": "stderr"
        },
        {
          "output_type": "stream",
          "text": [
            "(225, 20)\n"
          ],
          "name": "stdout"
        },
        {
          "output_type": "stream",
          "text": [
            "\n",
            " 23%|██▎       | 227/1000 [05:24<18:24,  1.43s/it]\u001b[A"
          ],
          "name": "stderr"
        },
        {
          "output_type": "stream",
          "text": [
            "(226, 20)\n"
          ],
          "name": "stdout"
        },
        {
          "output_type": "stream",
          "text": [
            "\n",
            " 23%|██▎       | 228/1000 [05:26<18:23,  1.43s/it]\u001b[A"
          ],
          "name": "stderr"
        },
        {
          "output_type": "stream",
          "text": [
            "(227, 20)\n"
          ],
          "name": "stdout"
        },
        {
          "output_type": "stream",
          "text": [
            "\n",
            " 23%|██▎       | 229/1000 [05:27<18:22,  1.43s/it]\u001b[A"
          ],
          "name": "stderr"
        },
        {
          "output_type": "stream",
          "text": [
            "(228, 20)\n"
          ],
          "name": "stdout"
        },
        {
          "output_type": "stream",
          "text": [
            "\n",
            " 23%|██▎       | 230/1000 [05:28<18:18,  1.43s/it]\u001b[A"
          ],
          "name": "stderr"
        },
        {
          "output_type": "stream",
          "text": [
            "(229, 20)\n"
          ],
          "name": "stdout"
        },
        {
          "output_type": "stream",
          "text": [
            "\n",
            " 23%|██▎       | 231/1000 [05:30<18:16,  1.43s/it]\u001b[A"
          ],
          "name": "stderr"
        },
        {
          "output_type": "stream",
          "text": [
            "(230, 20)\n"
          ],
          "name": "stdout"
        },
        {
          "output_type": "stream",
          "text": [
            "\n",
            " 23%|██▎       | 232/1000 [05:31<18:18,  1.43s/it]\u001b[A"
          ],
          "name": "stderr"
        },
        {
          "output_type": "stream",
          "text": [
            "(231, 20)\n"
          ],
          "name": "stdout"
        },
        {
          "output_type": "stream",
          "text": [
            "\n",
            " 23%|██▎       | 233/1000 [05:33<18:15,  1.43s/it]\u001b[A"
          ],
          "name": "stderr"
        },
        {
          "output_type": "stream",
          "text": [
            "(232, 20)\n"
          ],
          "name": "stdout"
        },
        {
          "output_type": "stream",
          "text": [
            "\n",
            " 23%|██▎       | 234/1000 [05:34<18:12,  1.43s/it]\u001b[A"
          ],
          "name": "stderr"
        },
        {
          "output_type": "stream",
          "text": [
            "(233, 20)\n"
          ],
          "name": "stdout"
        },
        {
          "output_type": "stream",
          "text": [
            "\n",
            " 24%|██▎       | 235/1000 [05:35<18:08,  1.42s/it]\u001b[A"
          ],
          "name": "stderr"
        },
        {
          "output_type": "stream",
          "text": [
            "(234, 20)\n"
          ],
          "name": "stdout"
        },
        {
          "output_type": "stream",
          "text": [
            "\n",
            " 24%|██▎       | 236/1000 [05:37<18:05,  1.42s/it]\u001b[A"
          ],
          "name": "stderr"
        },
        {
          "output_type": "stream",
          "text": [
            "(235, 20)\n"
          ],
          "name": "stdout"
        },
        {
          "output_type": "stream",
          "text": [
            "\n",
            " 24%|██▎       | 237/1000 [05:38<18:09,  1.43s/it]\u001b[A"
          ],
          "name": "stderr"
        },
        {
          "output_type": "stream",
          "text": [
            "(236, 20)\n"
          ],
          "name": "stdout"
        },
        {
          "output_type": "stream",
          "text": [
            "\n",
            " 24%|██▍       | 238/1000 [05:40<18:08,  1.43s/it]\u001b[A"
          ],
          "name": "stderr"
        },
        {
          "output_type": "stream",
          "text": [
            "(237, 20)\n"
          ],
          "name": "stdout"
        },
        {
          "output_type": "stream",
          "text": [
            "\n",
            " 24%|██▍       | 239/1000 [05:41<18:09,  1.43s/it]\u001b[A"
          ],
          "name": "stderr"
        },
        {
          "output_type": "stream",
          "text": [
            "(238, 20)\n"
          ],
          "name": "stdout"
        },
        {
          "output_type": "stream",
          "text": [
            "\n",
            " 24%|██▍       | 240/1000 [05:43<18:04,  1.43s/it]\u001b[A"
          ],
          "name": "stderr"
        },
        {
          "output_type": "stream",
          "text": [
            "(239, 20)\n"
          ],
          "name": "stdout"
        },
        {
          "output_type": "stream",
          "text": [
            "\n",
            " 24%|██▍       | 241/1000 [05:44<18:01,  1.43s/it]\u001b[A"
          ],
          "name": "stderr"
        },
        {
          "output_type": "stream",
          "text": [
            "(240, 20)\n"
          ],
          "name": "stdout"
        },
        {
          "output_type": "stream",
          "text": [
            "\n",
            " 24%|██▍       | 242/1000 [05:45<17:59,  1.42s/it]\u001b[A"
          ],
          "name": "stderr"
        },
        {
          "output_type": "stream",
          "text": [
            "(241, 20)\n"
          ],
          "name": "stdout"
        },
        {
          "output_type": "stream",
          "text": [
            "\n",
            " 24%|██▍       | 243/1000 [05:47<17:59,  1.43s/it]\u001b[A"
          ],
          "name": "stderr"
        },
        {
          "output_type": "stream",
          "text": [
            "(242, 20)\n"
          ],
          "name": "stdout"
        },
        {
          "output_type": "stream",
          "text": [
            "\n",
            " 24%|██▍       | 244/1000 [05:48<17:58,  1.43s/it]\u001b[A"
          ],
          "name": "stderr"
        },
        {
          "output_type": "stream",
          "text": [
            "(243, 20)\n"
          ],
          "name": "stdout"
        },
        {
          "output_type": "stream",
          "text": [
            "\n",
            " 24%|██▍       | 245/1000 [05:50<17:54,  1.42s/it]\u001b[A"
          ],
          "name": "stderr"
        },
        {
          "output_type": "stream",
          "text": [
            "(244, 20)\n"
          ],
          "name": "stdout"
        },
        {
          "output_type": "stream",
          "text": [
            "\n",
            " 25%|██▍       | 246/1000 [05:51<17:59,  1.43s/it]\u001b[A"
          ],
          "name": "stderr"
        },
        {
          "output_type": "stream",
          "text": [
            "(245, 20)\n"
          ],
          "name": "stdout"
        },
        {
          "output_type": "stream",
          "text": [
            "\n",
            " 25%|██▍       | 247/1000 [05:53<17:58,  1.43s/it]\u001b[A"
          ],
          "name": "stderr"
        },
        {
          "output_type": "stream",
          "text": [
            "(246, 20)\n"
          ],
          "name": "stdout"
        },
        {
          "output_type": "stream",
          "text": [
            "\n",
            " 25%|██▍       | 248/1000 [05:54<17:52,  1.43s/it]\u001b[A"
          ],
          "name": "stderr"
        },
        {
          "output_type": "stream",
          "text": [
            "(247, 20)\n"
          ],
          "name": "stdout"
        },
        {
          "output_type": "stream",
          "text": [
            "\n",
            " 25%|██▍       | 249/1000 [05:55<17:51,  1.43s/it]\u001b[A"
          ],
          "name": "stderr"
        },
        {
          "output_type": "stream",
          "text": [
            "(248, 20)\n"
          ],
          "name": "stdout"
        },
        {
          "output_type": "stream",
          "text": [
            "\n",
            " 25%|██▌       | 250/1000 [05:57<17:53,  1.43s/it]\u001b[A"
          ],
          "name": "stderr"
        },
        {
          "output_type": "stream",
          "text": [
            "(249, 20)\n"
          ],
          "name": "stdout"
        },
        {
          "output_type": "stream",
          "text": [
            "\n",
            " 25%|██▌       | 251/1000 [05:58<17:48,  1.43s/it]\u001b[A"
          ],
          "name": "stderr"
        },
        {
          "output_type": "stream",
          "text": [
            "(250, 20)\n"
          ],
          "name": "stdout"
        },
        {
          "output_type": "stream",
          "text": [
            "\n",
            " 25%|██▌       | 252/1000 [06:00<17:45,  1.42s/it]\u001b[A"
          ],
          "name": "stderr"
        },
        {
          "output_type": "stream",
          "text": [
            "(251, 20)\n"
          ],
          "name": "stdout"
        },
        {
          "output_type": "stream",
          "text": [
            "\n",
            " 25%|██▌       | 253/1000 [06:01<17:43,  1.42s/it]\u001b[A"
          ],
          "name": "stderr"
        },
        {
          "output_type": "stream",
          "text": [
            "(252, 20)\n"
          ],
          "name": "stdout"
        },
        {
          "output_type": "stream",
          "text": [
            "\n",
            " 25%|██▌       | 254/1000 [06:03<17:42,  1.42s/it]\u001b[A"
          ],
          "name": "stderr"
        },
        {
          "output_type": "stream",
          "text": [
            "(253, 20)\n"
          ],
          "name": "stdout"
        },
        {
          "output_type": "stream",
          "text": [
            "\n",
            " 26%|██▌       | 255/1000 [06:04<17:45,  1.43s/it]\u001b[A"
          ],
          "name": "stderr"
        },
        {
          "output_type": "stream",
          "text": [
            "(254, 20)\n"
          ],
          "name": "stdout"
        },
        {
          "output_type": "stream",
          "text": [
            "\n",
            " 26%|██▌       | 256/1000 [06:05<17:40,  1.43s/it]\u001b[A"
          ],
          "name": "stderr"
        },
        {
          "output_type": "stream",
          "text": [
            "(255, 20)\n"
          ],
          "name": "stdout"
        },
        {
          "output_type": "stream",
          "text": [
            "\n",
            " 26%|██▌       | 257/1000 [06:07<17:36,  1.42s/it]\u001b[A"
          ],
          "name": "stderr"
        },
        {
          "output_type": "stream",
          "text": [
            "(256, 20)\n"
          ],
          "name": "stdout"
        },
        {
          "output_type": "stream",
          "text": [
            "\n",
            " 26%|██▌       | 258/1000 [06:08<17:35,  1.42s/it]\u001b[A"
          ],
          "name": "stderr"
        },
        {
          "output_type": "stream",
          "text": [
            "(257, 20)\n"
          ],
          "name": "stdout"
        },
        {
          "output_type": "stream",
          "text": [
            "\n",
            " 26%|██▌       | 259/1000 [06:10<17:35,  1.42s/it]\u001b[A"
          ],
          "name": "stderr"
        },
        {
          "output_type": "stream",
          "text": [
            "(258, 20)\n"
          ],
          "name": "stdout"
        },
        {
          "output_type": "stream",
          "text": [
            "\n",
            " 26%|██▌       | 260/1000 [06:11<17:31,  1.42s/it]\u001b[A"
          ],
          "name": "stderr"
        },
        {
          "output_type": "stream",
          "text": [
            "(259, 20)\n"
          ],
          "name": "stdout"
        },
        {
          "output_type": "stream",
          "text": [
            "\n",
            " 26%|██▌       | 261/1000 [06:13<17:31,  1.42s/it]\u001b[A"
          ],
          "name": "stderr"
        },
        {
          "output_type": "stream",
          "text": [
            "(260, 20)\n"
          ],
          "name": "stdout"
        },
        {
          "output_type": "stream",
          "text": [
            "\n",
            " 26%|██▌       | 262/1000 [06:14<17:29,  1.42s/it]\u001b[A"
          ],
          "name": "stderr"
        },
        {
          "output_type": "stream",
          "text": [
            "(261, 20)\n"
          ],
          "name": "stdout"
        },
        {
          "output_type": "stream",
          "text": [
            "\n",
            " 26%|██▋       | 263/1000 [06:15<17:32,  1.43s/it]\u001b[A"
          ],
          "name": "stderr"
        },
        {
          "output_type": "stream",
          "text": [
            "(262, 20)\n"
          ],
          "name": "stdout"
        },
        {
          "output_type": "stream",
          "text": [
            "\n",
            " 26%|██▋       | 264/1000 [06:17<17:31,  1.43s/it]\u001b[A"
          ],
          "name": "stderr"
        },
        {
          "output_type": "stream",
          "text": [
            "(263, 20)\n"
          ],
          "name": "stdout"
        },
        {
          "output_type": "stream",
          "text": [
            "\n",
            " 26%|██▋       | 265/1000 [06:18<17:33,  1.43s/it]\u001b[A"
          ],
          "name": "stderr"
        },
        {
          "output_type": "stream",
          "text": [
            "(264, 20)\n"
          ],
          "name": "stdout"
        },
        {
          "output_type": "stream",
          "text": [
            "\n",
            " 27%|██▋       | 266/1000 [06:20<17:26,  1.43s/it]\u001b[A"
          ],
          "name": "stderr"
        },
        {
          "output_type": "stream",
          "text": [
            "(265, 20)\n"
          ],
          "name": "stdout"
        },
        {
          "output_type": "stream",
          "text": [
            "\n",
            " 27%|██▋       | 267/1000 [06:21<17:25,  1.43s/it]\u001b[A"
          ],
          "name": "stderr"
        },
        {
          "output_type": "stream",
          "text": [
            "(266, 20)\n"
          ],
          "name": "stdout"
        },
        {
          "output_type": "stream",
          "text": [
            "\n",
            " 27%|██▋       | 268/1000 [06:23<17:25,  1.43s/it]\u001b[A"
          ],
          "name": "stderr"
        },
        {
          "output_type": "stream",
          "text": [
            "(267, 20)\n"
          ],
          "name": "stdout"
        },
        {
          "output_type": "stream",
          "text": [
            "\n",
            " 27%|██▋       | 269/1000 [06:24<17:25,  1.43s/it]\u001b[A"
          ],
          "name": "stderr"
        },
        {
          "output_type": "stream",
          "text": [
            "(268, 20)\n"
          ],
          "name": "stdout"
        },
        {
          "output_type": "stream",
          "text": [
            "\n",
            " 27%|██▋       | 270/1000 [06:25<17:25,  1.43s/it]\u001b[A"
          ],
          "name": "stderr"
        },
        {
          "output_type": "stream",
          "text": [
            "(269, 20)\n"
          ],
          "name": "stdout"
        },
        {
          "output_type": "stream",
          "text": [
            "\n",
            " 27%|██▋       | 271/1000 [06:27<17:28,  1.44s/it]\u001b[A"
          ],
          "name": "stderr"
        },
        {
          "output_type": "stream",
          "text": [
            "(270, 20)\n"
          ],
          "name": "stdout"
        },
        {
          "output_type": "stream",
          "text": [
            "\n",
            " 27%|██▋       | 272/1000 [06:28<17:20,  1.43s/it]\u001b[A"
          ],
          "name": "stderr"
        },
        {
          "output_type": "stream",
          "text": [
            "(271, 20)\n"
          ],
          "name": "stdout"
        },
        {
          "output_type": "stream",
          "text": [
            "\n",
            " 27%|██▋       | 273/1000 [06:30<17:18,  1.43s/it]\u001b[A"
          ],
          "name": "stderr"
        },
        {
          "output_type": "stream",
          "text": [
            "(272, 20)\n"
          ],
          "name": "stdout"
        },
        {
          "output_type": "stream",
          "text": [
            "\n",
            " 27%|██▋       | 274/1000 [06:31<17:18,  1.43s/it]\u001b[A"
          ],
          "name": "stderr"
        },
        {
          "output_type": "stream",
          "text": [
            "(273, 20)\n"
          ],
          "name": "stdout"
        },
        {
          "output_type": "stream",
          "text": [
            "\n",
            " 28%|██▊       | 275/1000 [06:33<17:15,  1.43s/it]\u001b[A"
          ],
          "name": "stderr"
        },
        {
          "output_type": "stream",
          "text": [
            "(274, 20)\n"
          ],
          "name": "stdout"
        },
        {
          "output_type": "stream",
          "text": [
            "\n",
            " 28%|██▊       | 276/1000 [06:34<17:12,  1.43s/it]\u001b[A"
          ],
          "name": "stderr"
        },
        {
          "output_type": "stream",
          "text": [
            "(275, 20)\n"
          ],
          "name": "stdout"
        },
        {
          "output_type": "stream",
          "text": [
            "\n",
            " 28%|██▊       | 277/1000 [06:35<17:10,  1.43s/it]\u001b[A"
          ],
          "name": "stderr"
        },
        {
          "output_type": "stream",
          "text": [
            "(276, 20)\n"
          ],
          "name": "stdout"
        },
        {
          "output_type": "stream",
          "text": [
            "\n",
            " 28%|██▊       | 278/1000 [06:37<17:13,  1.43s/it]\u001b[A"
          ],
          "name": "stderr"
        },
        {
          "output_type": "stream",
          "text": [
            "(277, 20)\n"
          ],
          "name": "stdout"
        },
        {
          "output_type": "stream",
          "text": [
            "\n",
            " 28%|██▊       | 279/1000 [06:38<17:13,  1.43s/it]\u001b[A"
          ],
          "name": "stderr"
        },
        {
          "output_type": "stream",
          "text": [
            "(278, 20)\n"
          ],
          "name": "stdout"
        },
        {
          "output_type": "stream",
          "text": [
            "\n",
            " 28%|██▊       | 280/1000 [06:40<17:14,  1.44s/it]\u001b[A"
          ],
          "name": "stderr"
        },
        {
          "output_type": "stream",
          "text": [
            "(279, 20)\n"
          ],
          "name": "stdout"
        },
        {
          "output_type": "stream",
          "text": [
            "\n",
            " 28%|██▊       | 281/1000 [06:41<17:08,  1.43s/it]\u001b[A"
          ],
          "name": "stderr"
        },
        {
          "output_type": "stream",
          "text": [
            "(280, 20)\n"
          ],
          "name": "stdout"
        },
        {
          "output_type": "stream",
          "text": [
            "\n",
            " 28%|██▊       | 282/1000 [06:43<17:04,  1.43s/it]\u001b[A"
          ],
          "name": "stderr"
        },
        {
          "output_type": "stream",
          "text": [
            "(281, 20)\n"
          ],
          "name": "stdout"
        },
        {
          "output_type": "stream",
          "text": [
            "\n",
            " 28%|██▊       | 283/1000 [06:44<17:01,  1.42s/it]\u001b[A"
          ],
          "name": "stderr"
        },
        {
          "output_type": "stream",
          "text": [
            "(282, 20)\n"
          ],
          "name": "stdout"
        },
        {
          "output_type": "stream",
          "text": [
            "\n",
            " 28%|██▊       | 284/1000 [06:45<17:00,  1.43s/it]\u001b[A"
          ],
          "name": "stderr"
        },
        {
          "output_type": "stream",
          "text": [
            "(283, 20)\n"
          ],
          "name": "stdout"
        },
        {
          "output_type": "stream",
          "text": [
            "\n",
            " 28%|██▊       | 285/1000 [06:47<17:02,  1.43s/it]\u001b[A"
          ],
          "name": "stderr"
        },
        {
          "output_type": "stream",
          "text": [
            "(284, 20)\n"
          ],
          "name": "stdout"
        },
        {
          "output_type": "stream",
          "text": [
            "\n",
            " 29%|██▊       | 286/1000 [06:48<17:07,  1.44s/it]\u001b[A"
          ],
          "name": "stderr"
        },
        {
          "output_type": "stream",
          "text": [
            "(285, 20)\n"
          ],
          "name": "stdout"
        },
        {
          "output_type": "stream",
          "text": [
            "\n",
            " 29%|██▊       | 287/1000 [06:50<17:02,  1.43s/it]\u001b[A"
          ],
          "name": "stderr"
        },
        {
          "output_type": "stream",
          "text": [
            "(286, 20)\n"
          ],
          "name": "stdout"
        },
        {
          "output_type": "stream",
          "text": [
            "\n",
            " 29%|██▉       | 288/1000 [06:51<17:02,  1.44s/it]\u001b[A"
          ],
          "name": "stderr"
        },
        {
          "output_type": "stream",
          "text": [
            "(287, 20)\n"
          ],
          "name": "stdout"
        },
        {
          "output_type": "stream",
          "text": [
            "\n",
            " 29%|██▉       | 289/1000 [06:53<17:01,  1.44s/it]\u001b[A"
          ],
          "name": "stderr"
        },
        {
          "output_type": "stream",
          "text": [
            "(288, 20)\n"
          ],
          "name": "stdout"
        },
        {
          "output_type": "stream",
          "text": [
            "\n",
            " 29%|██▉       | 290/1000 [06:54<16:56,  1.43s/it]\u001b[A"
          ],
          "name": "stderr"
        },
        {
          "output_type": "stream",
          "text": [
            "(289, 20)\n"
          ],
          "name": "stdout"
        },
        {
          "output_type": "stream",
          "text": [
            "\n",
            " 29%|██▉       | 291/1000 [06:56<16:58,  1.44s/it]\u001b[A"
          ],
          "name": "stderr"
        },
        {
          "output_type": "stream",
          "text": [
            "(290, 20)\n"
          ],
          "name": "stdout"
        },
        {
          "output_type": "stream",
          "text": [
            "\n",
            " 29%|██▉       | 292/1000 [06:57<16:56,  1.44s/it]\u001b[A"
          ],
          "name": "stderr"
        },
        {
          "output_type": "stream",
          "text": [
            "(291, 20)\n"
          ],
          "name": "stdout"
        },
        {
          "output_type": "stream",
          "text": [
            "\n",
            " 29%|██▉       | 293/1000 [06:58<16:56,  1.44s/it]\u001b[A"
          ],
          "name": "stderr"
        },
        {
          "output_type": "stream",
          "text": [
            "(292, 20)\n"
          ],
          "name": "stdout"
        },
        {
          "output_type": "stream",
          "text": [
            "\n",
            " 29%|██▉       | 294/1000 [07:00<16:50,  1.43s/it]\u001b[A"
          ],
          "name": "stderr"
        },
        {
          "output_type": "stream",
          "text": [
            "(293, 20)\n"
          ],
          "name": "stdout"
        },
        {
          "output_type": "stream",
          "text": [
            "\n",
            " 30%|██▉       | 295/1000 [07:01<16:46,  1.43s/it]\u001b[A"
          ],
          "name": "stderr"
        },
        {
          "output_type": "stream",
          "text": [
            "(294, 20)\n"
          ],
          "name": "stdout"
        },
        {
          "output_type": "stream",
          "text": [
            "\n",
            " 30%|██▉       | 296/1000 [07:03<16:41,  1.42s/it]\u001b[A"
          ],
          "name": "stderr"
        },
        {
          "output_type": "stream",
          "text": [
            "(295, 20)\n"
          ],
          "name": "stdout"
        },
        {
          "output_type": "stream",
          "text": [
            "\n",
            " 30%|██▉       | 297/1000 [07:04<16:40,  1.42s/it]\u001b[A"
          ],
          "name": "stderr"
        },
        {
          "output_type": "stream",
          "text": [
            "(296, 20)\n"
          ],
          "name": "stdout"
        },
        {
          "output_type": "stream",
          "text": [
            "\n",
            " 30%|██▉       | 298/1000 [07:05<16:37,  1.42s/it]\u001b[A"
          ],
          "name": "stderr"
        },
        {
          "output_type": "stream",
          "text": [
            "(297, 20)\n"
          ],
          "name": "stdout"
        },
        {
          "output_type": "stream",
          "text": [
            "\n",
            " 30%|██▉       | 299/1000 [07:07<16:36,  1.42s/it]\u001b[A"
          ],
          "name": "stderr"
        },
        {
          "output_type": "stream",
          "text": [
            "(298, 20)\n"
          ],
          "name": "stdout"
        },
        {
          "output_type": "stream",
          "text": [
            "\n",
            " 30%|███       | 300/1000 [07:08<16:36,  1.42s/it]\u001b[A"
          ],
          "name": "stderr"
        },
        {
          "output_type": "stream",
          "text": [
            "(299, 20)\n"
          ],
          "name": "stdout"
        },
        {
          "output_type": "stream",
          "text": [
            "\n",
            " 30%|███       | 301/1000 [07:10<16:46,  1.44s/it]\u001b[A"
          ],
          "name": "stderr"
        },
        {
          "output_type": "stream",
          "text": [
            "(300, 20)\n"
          ],
          "name": "stdout"
        },
        {
          "output_type": "stream",
          "text": [
            "\n",
            " 30%|███       | 302/1000 [07:11<16:39,  1.43s/it]\u001b[A"
          ],
          "name": "stderr"
        },
        {
          "output_type": "stream",
          "text": [
            "(301, 20)\n"
          ],
          "name": "stdout"
        },
        {
          "output_type": "stream",
          "text": [
            "\n",
            " 30%|███       | 303/1000 [07:13<16:34,  1.43s/it]\u001b[A"
          ],
          "name": "stderr"
        },
        {
          "output_type": "stream",
          "text": [
            "(302, 20)\n"
          ],
          "name": "stdout"
        },
        {
          "output_type": "stream",
          "text": [
            "\n",
            " 30%|███       | 304/1000 [07:14<16:32,  1.43s/it]\u001b[A"
          ],
          "name": "stderr"
        },
        {
          "output_type": "stream",
          "text": [
            "(303, 20)\n"
          ],
          "name": "stdout"
        },
        {
          "output_type": "stream",
          "text": [
            "\n",
            " 30%|███       | 305/1000 [07:15<16:29,  1.42s/it]\u001b[A"
          ],
          "name": "stderr"
        },
        {
          "output_type": "stream",
          "text": [
            "(304, 20)\n"
          ],
          "name": "stdout"
        },
        {
          "output_type": "stream",
          "text": [
            "\n",
            " 31%|███       | 306/1000 [07:17<16:31,  1.43s/it]\u001b[A"
          ],
          "name": "stderr"
        },
        {
          "output_type": "stream",
          "text": [
            "(305, 20)\n"
          ],
          "name": "stdout"
        },
        {
          "output_type": "stream",
          "text": [
            "\n",
            " 31%|███       | 307/1000 [07:18<16:31,  1.43s/it]\u001b[A"
          ],
          "name": "stderr"
        },
        {
          "output_type": "stream",
          "text": [
            "(306, 20)\n"
          ],
          "name": "stdout"
        },
        {
          "output_type": "stream",
          "text": [
            "\n",
            " 31%|███       | 308/1000 [07:20<16:32,  1.43s/it]\u001b[A"
          ],
          "name": "stderr"
        },
        {
          "output_type": "stream",
          "text": [
            "(307, 20)\n"
          ],
          "name": "stdout"
        },
        {
          "output_type": "stream",
          "text": [
            "\n",
            " 31%|███       | 309/1000 [07:21<16:33,  1.44s/it]\u001b[A"
          ],
          "name": "stderr"
        },
        {
          "output_type": "stream",
          "text": [
            "(308, 20)\n"
          ],
          "name": "stdout"
        },
        {
          "output_type": "stream",
          "text": [
            "\n",
            " 31%|███       | 310/1000 [07:23<16:31,  1.44s/it]\u001b[A"
          ],
          "name": "stderr"
        },
        {
          "output_type": "stream",
          "text": [
            "(309, 20)\n"
          ],
          "name": "stdout"
        },
        {
          "output_type": "stream",
          "text": [
            "\n",
            " 31%|███       | 311/1000 [07:24<16:28,  1.43s/it]\u001b[A"
          ],
          "name": "stderr"
        },
        {
          "output_type": "stream",
          "text": [
            "(310, 20)\n"
          ],
          "name": "stdout"
        },
        {
          "output_type": "stream",
          "text": [
            "\n",
            " 31%|███       | 312/1000 [07:26<16:27,  1.44s/it]\u001b[A"
          ],
          "name": "stderr"
        },
        {
          "output_type": "stream",
          "text": [
            "(311, 20)\n"
          ],
          "name": "stdout"
        },
        {
          "output_type": "stream",
          "text": [
            "\n",
            " 31%|███▏      | 313/1000 [07:27<16:27,  1.44s/it]\u001b[A"
          ],
          "name": "stderr"
        },
        {
          "output_type": "stream",
          "text": [
            "(312, 20)\n"
          ],
          "name": "stdout"
        },
        {
          "output_type": "stream",
          "text": [
            "\n",
            " 31%|███▏      | 314/1000 [07:28<16:24,  1.43s/it]\u001b[A"
          ],
          "name": "stderr"
        },
        {
          "output_type": "stream",
          "text": [
            "(313, 20)\n"
          ],
          "name": "stdout"
        },
        {
          "output_type": "stream",
          "text": [
            "\n",
            " 32%|███▏      | 315/1000 [07:30<16:20,  1.43s/it]\u001b[A"
          ],
          "name": "stderr"
        },
        {
          "output_type": "stream",
          "text": [
            "(314, 20)\n"
          ],
          "name": "stdout"
        },
        {
          "output_type": "stream",
          "text": [
            "\n",
            " 32%|███▏      | 316/1000 [07:31<16:20,  1.43s/it]\u001b[A"
          ],
          "name": "stderr"
        },
        {
          "output_type": "stream",
          "text": [
            "(315, 20)\n"
          ],
          "name": "stdout"
        },
        {
          "output_type": "stream",
          "text": [
            "\n",
            " 32%|███▏      | 317/1000 [07:33<16:16,  1.43s/it]\u001b[A"
          ],
          "name": "stderr"
        },
        {
          "output_type": "stream",
          "text": [
            "(316, 20)\n"
          ],
          "name": "stdout"
        },
        {
          "output_type": "stream",
          "text": [
            "\n",
            " 32%|███▏      | 318/1000 [07:34<16:14,  1.43s/it]\u001b[A"
          ],
          "name": "stderr"
        },
        {
          "output_type": "stream",
          "text": [
            "(317, 20)\n"
          ],
          "name": "stdout"
        },
        {
          "output_type": "stream",
          "text": [
            "\n",
            " 32%|███▏      | 319/1000 [07:36<16:10,  1.42s/it]\u001b[A"
          ],
          "name": "stderr"
        },
        {
          "output_type": "stream",
          "text": [
            "(318, 20)\n"
          ],
          "name": "stdout"
        },
        {
          "output_type": "stream",
          "text": [
            "\n",
            " 32%|███▏      | 320/1000 [07:37<16:08,  1.42s/it]\u001b[A"
          ],
          "name": "stderr"
        },
        {
          "output_type": "stream",
          "text": [
            "(319, 20)\n"
          ],
          "name": "stdout"
        },
        {
          "output_type": "stream",
          "text": [
            "\n",
            " 32%|███▏      | 321/1000 [07:38<16:09,  1.43s/it]\u001b[A"
          ],
          "name": "stderr"
        },
        {
          "output_type": "stream",
          "text": [
            "(320, 20)\n"
          ],
          "name": "stdout"
        },
        {
          "output_type": "stream",
          "text": [
            "\n",
            " 32%|███▏      | 322/1000 [07:40<16:08,  1.43s/it]\u001b[A"
          ],
          "name": "stderr"
        },
        {
          "output_type": "stream",
          "text": [
            "(321, 20)\n"
          ],
          "name": "stdout"
        },
        {
          "output_type": "stream",
          "text": [
            "\n",
            " 32%|███▏      | 323/1000 [07:41<16:07,  1.43s/it]\u001b[A"
          ],
          "name": "stderr"
        },
        {
          "output_type": "stream",
          "text": [
            "(322, 20)\n"
          ],
          "name": "stdout"
        },
        {
          "output_type": "stream",
          "text": [
            "\n",
            " 32%|███▏      | 324/1000 [07:43<16:02,  1.42s/it]\u001b[A"
          ],
          "name": "stderr"
        },
        {
          "output_type": "stream",
          "text": [
            "(323, 20)\n"
          ],
          "name": "stdout"
        },
        {
          "output_type": "stream",
          "text": [
            "\n",
            " 32%|███▎      | 325/1000 [07:44<15:59,  1.42s/it]\u001b[A"
          ],
          "name": "stderr"
        },
        {
          "output_type": "stream",
          "text": [
            "(324, 20)\n"
          ],
          "name": "stdout"
        },
        {
          "output_type": "stream",
          "text": [
            "\n",
            " 33%|███▎      | 326/1000 [07:46<15:56,  1.42s/it]\u001b[A"
          ],
          "name": "stderr"
        },
        {
          "output_type": "stream",
          "text": [
            "(325, 20)\n"
          ],
          "name": "stdout"
        },
        {
          "output_type": "stream",
          "text": [
            "\n",
            " 33%|███▎      | 327/1000 [07:47<15:59,  1.43s/it]\u001b[A"
          ],
          "name": "stderr"
        },
        {
          "output_type": "stream",
          "text": [
            "(326, 20)\n"
          ],
          "name": "stdout"
        },
        {
          "output_type": "stream",
          "text": [
            "\n",
            " 33%|███▎      | 328/1000 [07:48<16:04,  1.44s/it]\u001b[A"
          ],
          "name": "stderr"
        },
        {
          "output_type": "stream",
          "text": [
            "(327, 20)\n"
          ],
          "name": "stdout"
        },
        {
          "output_type": "stream",
          "text": [
            "\n",
            " 33%|███▎      | 329/1000 [07:50<16:01,  1.43s/it]\u001b[A"
          ],
          "name": "stderr"
        },
        {
          "output_type": "stream",
          "text": [
            "(328, 20)\n"
          ],
          "name": "stdout"
        },
        {
          "output_type": "stream",
          "text": [
            "\n",
            " 33%|███▎      | 330/1000 [07:51<15:59,  1.43s/it]\u001b[A"
          ],
          "name": "stderr"
        },
        {
          "output_type": "stream",
          "text": [
            "(329, 20)\n"
          ],
          "name": "stdout"
        },
        {
          "output_type": "stream",
          "text": [
            "\n",
            " 33%|███▎      | 331/1000 [07:53<16:05,  1.44s/it]\u001b[A"
          ],
          "name": "stderr"
        },
        {
          "output_type": "stream",
          "text": [
            "(330, 20)\n"
          ],
          "name": "stdout"
        },
        {
          "output_type": "stream",
          "text": [
            "\n",
            " 33%|███▎      | 332/1000 [07:54<16:00,  1.44s/it]\u001b[A"
          ],
          "name": "stderr"
        },
        {
          "output_type": "stream",
          "text": [
            "(331, 20)\n"
          ],
          "name": "stdout"
        },
        {
          "output_type": "stream",
          "text": [
            "\n",
            " 33%|███▎      | 333/1000 [07:56<16:01,  1.44s/it]\u001b[A"
          ],
          "name": "stderr"
        },
        {
          "output_type": "stream",
          "text": [
            "(332, 20)\n"
          ],
          "name": "stdout"
        },
        {
          "output_type": "stream",
          "text": [
            "\n",
            " 33%|███▎      | 334/1000 [07:57<16:01,  1.44s/it]\u001b[A"
          ],
          "name": "stderr"
        },
        {
          "output_type": "stream",
          "text": [
            "(333, 20)\n"
          ],
          "name": "stdout"
        },
        {
          "output_type": "stream",
          "text": [
            "\n",
            " 34%|███▎      | 335/1000 [07:58<15:56,  1.44s/it]\u001b[A"
          ],
          "name": "stderr"
        },
        {
          "output_type": "stream",
          "text": [
            "(334, 20)\n"
          ],
          "name": "stdout"
        },
        {
          "output_type": "stream",
          "text": [
            "\n",
            " 34%|███▎      | 336/1000 [08:00<15:51,  1.43s/it]\u001b[A"
          ],
          "name": "stderr"
        },
        {
          "output_type": "stream",
          "text": [
            "(335, 20)\n"
          ],
          "name": "stdout"
        },
        {
          "output_type": "stream",
          "text": [
            "\n",
            " 34%|███▎      | 337/1000 [08:01<15:46,  1.43s/it]\u001b[A"
          ],
          "name": "stderr"
        },
        {
          "output_type": "stream",
          "text": [
            "(336, 20)\n"
          ],
          "name": "stdout"
        },
        {
          "output_type": "stream",
          "text": [
            "\n",
            " 34%|███▍      | 338/1000 [08:03<15:49,  1.43s/it]\u001b[A"
          ],
          "name": "stderr"
        },
        {
          "output_type": "stream",
          "text": [
            "(337, 20)\n"
          ],
          "name": "stdout"
        },
        {
          "output_type": "stream",
          "text": [
            "\n",
            " 34%|███▍      | 339/1000 [08:04<15:45,  1.43s/it]\u001b[A"
          ],
          "name": "stderr"
        },
        {
          "output_type": "stream",
          "text": [
            "(338, 20)\n"
          ],
          "name": "stdout"
        },
        {
          "output_type": "stream",
          "text": [
            "\n",
            " 34%|███▍      | 340/1000 [08:06<15:42,  1.43s/it]\u001b[A"
          ],
          "name": "stderr"
        },
        {
          "output_type": "stream",
          "text": [
            "(339, 20)\n"
          ],
          "name": "stdout"
        },
        {
          "output_type": "stream",
          "text": [
            "\n",
            " 34%|███▍      | 341/1000 [08:07<15:40,  1.43s/it]\u001b[A"
          ],
          "name": "stderr"
        },
        {
          "output_type": "stream",
          "text": [
            "(340, 20)\n"
          ],
          "name": "stdout"
        },
        {
          "output_type": "stream",
          "text": [
            "\n",
            " 34%|███▍      | 342/1000 [08:08<15:41,  1.43s/it]\u001b[A"
          ],
          "name": "stderr"
        },
        {
          "output_type": "stream",
          "text": [
            "(341, 20)\n"
          ],
          "name": "stdout"
        },
        {
          "output_type": "stream",
          "text": [
            "\n",
            " 34%|███▍      | 343/1000 [08:10<15:40,  1.43s/it]\u001b[A"
          ],
          "name": "stderr"
        },
        {
          "output_type": "stream",
          "text": [
            "(342, 20)\n"
          ],
          "name": "stdout"
        },
        {
          "output_type": "stream",
          "text": [
            "\n",
            " 34%|███▍      | 344/1000 [08:11<15:35,  1.43s/it]\u001b[A"
          ],
          "name": "stderr"
        },
        {
          "output_type": "stream",
          "text": [
            "(343, 20)\n"
          ],
          "name": "stdout"
        },
        {
          "output_type": "stream",
          "text": [
            "\n",
            " 34%|███▍      | 345/1000 [08:13<15:32,  1.42s/it]\u001b[A"
          ],
          "name": "stderr"
        },
        {
          "output_type": "stream",
          "text": [
            "(344, 20)\n"
          ],
          "name": "stdout"
        },
        {
          "output_type": "stream",
          "text": [
            "\n",
            " 35%|███▍      | 346/1000 [08:14<15:35,  1.43s/it]\u001b[A"
          ],
          "name": "stderr"
        },
        {
          "output_type": "stream",
          "text": [
            "(345, 20)\n"
          ],
          "name": "stdout"
        },
        {
          "output_type": "stream",
          "text": [
            "\n",
            " 35%|███▍      | 347/1000 [08:16<15:32,  1.43s/it]\u001b[A"
          ],
          "name": "stderr"
        },
        {
          "output_type": "stream",
          "text": [
            "(346, 20)\n"
          ],
          "name": "stdout"
        },
        {
          "output_type": "stream",
          "text": [
            "\n",
            " 35%|███▍      | 348/1000 [08:17<15:31,  1.43s/it]\u001b[A"
          ],
          "name": "stderr"
        },
        {
          "output_type": "stream",
          "text": [
            "(347, 20)\n"
          ],
          "name": "stdout"
        },
        {
          "output_type": "stream",
          "text": [
            "\n",
            " 35%|███▍      | 349/1000 [08:18<15:33,  1.43s/it]\u001b[A"
          ],
          "name": "stderr"
        },
        {
          "output_type": "stream",
          "text": [
            "(348, 20)\n"
          ],
          "name": "stdout"
        },
        {
          "output_type": "stream",
          "text": [
            "\n",
            " 35%|███▌      | 350/1000 [08:20<15:29,  1.43s/it]\u001b[A"
          ],
          "name": "stderr"
        },
        {
          "output_type": "stream",
          "text": [
            "(349, 20)\n"
          ],
          "name": "stdout"
        },
        {
          "output_type": "stream",
          "text": [
            "\n",
            " 35%|███▌      | 351/1000 [08:21<15:31,  1.44s/it]\u001b[A"
          ],
          "name": "stderr"
        },
        {
          "output_type": "stream",
          "text": [
            "(350, 20)\n"
          ],
          "name": "stdout"
        },
        {
          "output_type": "stream",
          "text": [
            "\n",
            " 35%|███▌      | 352/1000 [08:23<15:27,  1.43s/it]\u001b[A"
          ],
          "name": "stderr"
        },
        {
          "output_type": "stream",
          "text": [
            "(351, 20)\n"
          ],
          "name": "stdout"
        },
        {
          "output_type": "stream",
          "text": [
            "\n",
            " 35%|███▌      | 353/1000 [08:24<15:27,  1.43s/it]\u001b[A"
          ],
          "name": "stderr"
        },
        {
          "output_type": "stream",
          "text": [
            "(352, 20)\n"
          ],
          "name": "stdout"
        },
        {
          "output_type": "stream",
          "text": [
            "\n",
            " 35%|███▌      | 354/1000 [08:26<15:26,  1.43s/it]\u001b[A"
          ],
          "name": "stderr"
        },
        {
          "output_type": "stream",
          "text": [
            "(353, 20)\n"
          ],
          "name": "stdout"
        },
        {
          "output_type": "stream",
          "text": [
            "\n",
            " 36%|███▌      | 355/1000 [08:27<15:21,  1.43s/it]\u001b[A"
          ],
          "name": "stderr"
        },
        {
          "output_type": "stream",
          "text": [
            "(354, 20)\n"
          ],
          "name": "stdout"
        },
        {
          "output_type": "stream",
          "text": [
            "\n",
            " 36%|███▌      | 356/1000 [08:28<15:16,  1.42s/it]\u001b[A"
          ],
          "name": "stderr"
        },
        {
          "output_type": "stream",
          "text": [
            "(355, 20)\n"
          ],
          "name": "stdout"
        },
        {
          "output_type": "stream",
          "text": [
            "\n",
            " 36%|███▌      | 357/1000 [08:30<15:14,  1.42s/it]\u001b[A"
          ],
          "name": "stderr"
        },
        {
          "output_type": "stream",
          "text": [
            "(356, 20)\n"
          ],
          "name": "stdout"
        },
        {
          "output_type": "stream",
          "text": [
            "\n",
            " 36%|███▌      | 358/1000 [08:31<15:12,  1.42s/it]\u001b[A"
          ],
          "name": "stderr"
        },
        {
          "output_type": "stream",
          "text": [
            "(357, 20)\n"
          ],
          "name": "stdout"
        },
        {
          "output_type": "stream",
          "text": [
            "\n",
            " 36%|███▌      | 359/1000 [08:33<15:09,  1.42s/it]\u001b[A"
          ],
          "name": "stderr"
        },
        {
          "output_type": "stream",
          "text": [
            "(358, 20)\n"
          ],
          "name": "stdout"
        },
        {
          "output_type": "stream",
          "text": [
            "\n",
            " 36%|███▌      | 360/1000 [08:34<15:08,  1.42s/it]\u001b[A"
          ],
          "name": "stderr"
        },
        {
          "output_type": "stream",
          "text": [
            "(359, 20)\n"
          ],
          "name": "stdout"
        },
        {
          "output_type": "stream",
          "text": [
            "\n",
            " 36%|███▌      | 361/1000 [08:36<15:11,  1.43s/it]\u001b[A"
          ],
          "name": "stderr"
        },
        {
          "output_type": "stream",
          "text": [
            "(360, 20)\n"
          ],
          "name": "stdout"
        },
        {
          "output_type": "stream",
          "text": [
            "\n",
            " 36%|███▌      | 362/1000 [08:37<15:07,  1.42s/it]\u001b[A\n",
            " 36%|███▋      | 363/1000 [08:37<11:00,  1.04s/it]\u001b[A"
          ],
          "name": "stderr"
        },
        {
          "output_type": "stream",
          "text": [
            "(361, 20)\n",
            "drive/My Drive/Colab Notebooks/spotify/input/tracks_sv/2j4tvLun1exAnExCkjzAfM.wavhas loading error!\n",
            "(362, 20)\n"
          ],
          "name": "stdout"
        },
        {
          "output_type": "stream",
          "text": [
            "\n",
            " 36%|███▋      | 364/1000 [08:41<21:03,  1.99s/it]\u001b[A"
          ],
          "name": "stderr"
        },
        {
          "output_type": "stream",
          "text": [
            "(363, 20)\n"
          ],
          "name": "stdout"
        },
        {
          "output_type": "stream",
          "text": [
            "\n",
            " 36%|███▋      | 365/1000 [08:48<34:54,  3.30s/it]\u001b[A"
          ],
          "name": "stderr"
        },
        {
          "output_type": "stream",
          "text": [
            "(364, 20)\n"
          ],
          "name": "stdout"
        },
        {
          "output_type": "stream",
          "text": [
            "\n",
            " 37%|███▋      | 366/1000 [08:50<33:02,  3.13s/it]\u001b[A"
          ],
          "name": "stderr"
        },
        {
          "output_type": "stream",
          "text": [
            "(365, 20)\n"
          ],
          "name": "stdout"
        },
        {
          "output_type": "stream",
          "text": [
            "\n",
            " 37%|███▋      | 367/1000 [08:53<30:17,  2.87s/it]\u001b[A"
          ],
          "name": "stderr"
        },
        {
          "output_type": "stream",
          "text": [
            "(366, 20)\n"
          ],
          "name": "stdout"
        },
        {
          "output_type": "stream",
          "text": [
            "\n",
            " 37%|███▋      | 368/1000 [08:55<29:27,  2.80s/it]\u001b[A"
          ],
          "name": "stderr"
        },
        {
          "output_type": "stream",
          "text": [
            "(367, 20)\n"
          ],
          "name": "stdout"
        },
        {
          "output_type": "stream",
          "text": [
            "\n",
            " 37%|███▋      | 369/1000 [08:59<31:39,  3.01s/it]\u001b[A"
          ],
          "name": "stderr"
        },
        {
          "output_type": "stream",
          "text": [
            "(368, 20)\n"
          ],
          "name": "stdout"
        },
        {
          "output_type": "stream",
          "text": [
            "\n",
            " 37%|███▋      | 370/1000 [09:01<30:30,  2.90s/it]\u001b[A"
          ],
          "name": "stderr"
        },
        {
          "output_type": "stream",
          "text": [
            "(369, 20)\n"
          ],
          "name": "stdout"
        },
        {
          "output_type": "stream",
          "text": [
            "\n",
            " 37%|███▋      | 371/1000 [09:06<36:05,  3.44s/it]\u001b[A"
          ],
          "name": "stderr"
        },
        {
          "output_type": "stream",
          "text": [
            "(370, 20)\n"
          ],
          "name": "stdout"
        },
        {
          "output_type": "stream",
          "text": [
            "\n",
            " 37%|███▋      | 372/1000 [09:11<39:41,  3.79s/it]\u001b[A"
          ],
          "name": "stderr"
        },
        {
          "output_type": "stream",
          "text": [
            "(371, 20)\n"
          ],
          "name": "stdout"
        },
        {
          "output_type": "stream",
          "text": [
            "\n",
            " 37%|███▋      | 373/1000 [09:15<41:22,  3.96s/it]\u001b[A"
          ],
          "name": "stderr"
        },
        {
          "output_type": "stream",
          "text": [
            "(372, 20)\n"
          ],
          "name": "stdout"
        },
        {
          "output_type": "stream",
          "text": [
            "\n",
            " 37%|███▋      | 374/1000 [09:20<42:44,  4.10s/it]\u001b[A"
          ],
          "name": "stderr"
        },
        {
          "output_type": "stream",
          "text": [
            "(373, 20)\n"
          ],
          "name": "stdout"
        },
        {
          "output_type": "stream",
          "text": [
            "\n",
            " 38%|███▊      | 375/1000 [09:22<38:15,  3.67s/it]\u001b[A"
          ],
          "name": "stderr"
        },
        {
          "output_type": "stream",
          "text": [
            "(374, 20)\n"
          ],
          "name": "stdout"
        },
        {
          "output_type": "stream",
          "text": [
            "\n",
            " 38%|███▊      | 376/1000 [09:25<33:45,  3.25s/it]\u001b[A"
          ],
          "name": "stderr"
        },
        {
          "output_type": "stream",
          "text": [
            "(375, 20)\n"
          ],
          "name": "stdout"
        },
        {
          "output_type": "stream",
          "text": [
            "\n",
            " 38%|███▊      | 377/1000 [09:27<31:03,  2.99s/it]\u001b[A"
          ],
          "name": "stderr"
        },
        {
          "output_type": "stream",
          "text": [
            "(376, 20)\n"
          ],
          "name": "stdout"
        },
        {
          "output_type": "stream",
          "text": [
            "\n",
            " 38%|███▊      | 378/1000 [09:30<29:53,  2.88s/it]\u001b[A"
          ],
          "name": "stderr"
        },
        {
          "output_type": "stream",
          "text": [
            "(377, 20)\n"
          ],
          "name": "stdout"
        },
        {
          "output_type": "stream",
          "text": [
            "\n",
            " 38%|███▊      | 379/1000 [09:32<28:25,  2.75s/it]\u001b[A"
          ],
          "name": "stderr"
        },
        {
          "output_type": "stream",
          "text": [
            "(378, 20)\n"
          ],
          "name": "stdout"
        },
        {
          "output_type": "stream",
          "text": [
            "\n",
            " 38%|███▊      | 380/1000 [09:34<26:57,  2.61s/it]\u001b[A"
          ],
          "name": "stderr"
        },
        {
          "output_type": "stream",
          "text": [
            "(379, 20)\n"
          ],
          "name": "stdout"
        },
        {
          "output_type": "stream",
          "text": [
            "\n",
            " 38%|███▊      | 381/1000 [09:36<24:19,  2.36s/it]\u001b[A"
          ],
          "name": "stderr"
        },
        {
          "output_type": "stream",
          "text": [
            "(380, 20)\n"
          ],
          "name": "stdout"
        },
        {
          "output_type": "stream",
          "text": [
            "\n",
            " 38%|███▊      | 382/1000 [09:43<37:07,  3.60s/it]\u001b[A"
          ],
          "name": "stderr"
        },
        {
          "output_type": "stream",
          "text": [
            "(381, 20)\n"
          ],
          "name": "stdout"
        },
        {
          "output_type": "stream",
          "text": [
            "\n",
            " 38%|███▊      | 383/1000 [09:45<33:38,  3.27s/it]\u001b[A"
          ],
          "name": "stderr"
        },
        {
          "output_type": "stream",
          "text": [
            "(382, 20)\n"
          ],
          "name": "stdout"
        },
        {
          "output_type": "stream",
          "text": [
            "\n",
            " 38%|███▊      | 384/1000 [09:48<32:04,  3.12s/it]\u001b[A"
          ],
          "name": "stderr"
        },
        {
          "output_type": "stream",
          "text": [
            "(383, 20)\n"
          ],
          "name": "stdout"
        },
        {
          "output_type": "stream",
          "text": [
            "\n",
            " 38%|███▊      | 385/1000 [09:50<29:51,  2.91s/it]\u001b[A"
          ],
          "name": "stderr"
        },
        {
          "output_type": "stream",
          "text": [
            "(384, 20)\n"
          ],
          "name": "stdout"
        },
        {
          "output_type": "stream",
          "text": [
            "\n",
            " 39%|███▊      | 386/1000 [09:53<28:26,  2.78s/it]\u001b[A"
          ],
          "name": "stderr"
        },
        {
          "output_type": "stream",
          "text": [
            "(385, 20)\n"
          ],
          "name": "stdout"
        },
        {
          "output_type": "stream",
          "text": [
            "\n",
            " 39%|███▊      | 387/1000 [09:57<31:59,  3.13s/it]\u001b[A"
          ],
          "name": "stderr"
        },
        {
          "output_type": "stream",
          "text": [
            "(386, 20)\n"
          ],
          "name": "stdout"
        },
        {
          "output_type": "stream",
          "text": [
            "\n",
            " 39%|███▉      | 388/1000 [09:59<29:42,  2.91s/it]\u001b[A"
          ],
          "name": "stderr"
        },
        {
          "output_type": "stream",
          "text": [
            "(387, 20)\n"
          ],
          "name": "stdout"
        },
        {
          "output_type": "stream",
          "text": [
            "\n",
            " 39%|███▉      | 389/1000 [10:03<31:48,  3.12s/it]\u001b[A"
          ],
          "name": "stderr"
        },
        {
          "output_type": "stream",
          "text": [
            "(388, 20)\n"
          ],
          "name": "stdout"
        },
        {
          "output_type": "stream",
          "text": [
            "\n",
            " 39%|███▉      | 390/1000 [10:07<36:08,  3.55s/it]\u001b[A"
          ],
          "name": "stderr"
        },
        {
          "output_type": "stream",
          "text": [
            "(389, 20)\n"
          ],
          "name": "stdout"
        },
        {
          "output_type": "stream",
          "text": [
            "\n",
            " 39%|███▉      | 391/1000 [10:10<32:19,  3.18s/it]\u001b[A"
          ],
          "name": "stderr"
        },
        {
          "output_type": "stream",
          "text": [
            "(390, 20)\n"
          ],
          "name": "stdout"
        },
        {
          "output_type": "stream",
          "text": [
            "\n",
            " 39%|███▉      | 392/1000 [10:12<30:25,  3.00s/it]\u001b[A"
          ],
          "name": "stderr"
        },
        {
          "output_type": "stream",
          "text": [
            "(391, 20)\n"
          ],
          "name": "stdout"
        },
        {
          "output_type": "stream",
          "text": [
            "\n",
            " 39%|███▉      | 393/1000 [10:17<35:25,  3.50s/it]\u001b[A"
          ],
          "name": "stderr"
        },
        {
          "output_type": "stream",
          "text": [
            "(392, 20)\n"
          ],
          "name": "stdout"
        },
        {
          "output_type": "stream",
          "text": [
            "\n",
            " 39%|███▉      | 394/1000 [10:20<33:11,  3.29s/it]\u001b[A"
          ],
          "name": "stderr"
        },
        {
          "output_type": "stream",
          "text": [
            "(393, 20)\n"
          ],
          "name": "stdout"
        },
        {
          "output_type": "stream",
          "text": [
            "\n",
            " 40%|███▉      | 395/1000 [10:24<36:59,  3.67s/it]\u001b[A"
          ],
          "name": "stderr"
        },
        {
          "output_type": "stream",
          "text": [
            "(394, 20)\n"
          ],
          "name": "stdout"
        },
        {
          "output_type": "stream",
          "text": [
            "\n",
            " 40%|███▉      | 396/1000 [10:26<32:58,  3.28s/it]\u001b[A"
          ],
          "name": "stderr"
        },
        {
          "output_type": "stream",
          "text": [
            "(395, 20)\n"
          ],
          "name": "stdout"
        },
        {
          "output_type": "stream",
          "text": [
            "\n",
            " 40%|███▉      | 397/1000 [10:29<31:23,  3.12s/it]\u001b[A"
          ],
          "name": "stderr"
        },
        {
          "output_type": "stream",
          "text": [
            "(396, 20)\n"
          ],
          "name": "stdout"
        },
        {
          "output_type": "stream",
          "text": [
            "\n",
            " 40%|███▉      | 398/1000 [10:31<28:25,  2.83s/it]\u001b[A"
          ],
          "name": "stderr"
        },
        {
          "output_type": "stream",
          "text": [
            "(397, 20)\n"
          ],
          "name": "stdout"
        },
        {
          "output_type": "stream",
          "text": [
            "\n",
            " 40%|███▉      | 399/1000 [10:36<32:29,  3.24s/it]\u001b[A"
          ],
          "name": "stderr"
        },
        {
          "output_type": "stream",
          "text": [
            "(398, 20)\n"
          ],
          "name": "stdout"
        },
        {
          "output_type": "stream",
          "text": [
            "\n",
            " 40%|████      | 400/1000 [10:40<35:38,  3.56s/it]\u001b[A"
          ],
          "name": "stderr"
        },
        {
          "output_type": "stream",
          "text": [
            "(399, 20)\n"
          ],
          "name": "stdout"
        },
        {
          "output_type": "stream",
          "text": [
            "\n",
            " 40%|████      | 401/1000 [10:42<31:44,  3.18s/it]\u001b[A"
          ],
          "name": "stderr"
        },
        {
          "output_type": "stream",
          "text": [
            "(400, 20)\n"
          ],
          "name": "stdout"
        },
        {
          "output_type": "stream",
          "text": [
            "\n",
            " 40%|████      | 402/1000 [10:45<29:13,  2.93s/it]\u001b[A"
          ],
          "name": "stderr"
        },
        {
          "output_type": "stream",
          "text": [
            "(401, 20)\n"
          ],
          "name": "stdout"
        },
        {
          "output_type": "stream",
          "text": [
            "\n",
            " 40%|████      | 403/1000 [10:47<28:15,  2.84s/it]\u001b[A"
          ],
          "name": "stderr"
        },
        {
          "output_type": "stream",
          "text": [
            "(402, 20)\n"
          ],
          "name": "stdout"
        },
        {
          "output_type": "stream",
          "text": [
            "\n",
            " 40%|████      | 404/1000 [10:50<27:37,  2.78s/it]\u001b[A"
          ],
          "name": "stderr"
        },
        {
          "output_type": "stream",
          "text": [
            "(403, 20)\n"
          ],
          "name": "stdout"
        },
        {
          "output_type": "stream",
          "text": [
            "\n",
            " 40%|████      | 405/1000 [10:52<26:21,  2.66s/it]\u001b[A"
          ],
          "name": "stderr"
        },
        {
          "output_type": "stream",
          "text": [
            "(404, 20)\n"
          ],
          "name": "stdout"
        },
        {
          "output_type": "stream",
          "text": [
            "\n",
            " 41%|████      | 406/1000 [10:54<24:55,  2.52s/it]\u001b[A"
          ],
          "name": "stderr"
        },
        {
          "output_type": "stream",
          "text": [
            "(405, 20)\n"
          ],
          "name": "stdout"
        },
        {
          "output_type": "stream",
          "text": [
            "\n",
            " 41%|████      | 407/1000 [10:57<24:15,  2.45s/it]\u001b[A"
          ],
          "name": "stderr"
        },
        {
          "output_type": "stream",
          "text": [
            "(406, 20)\n"
          ],
          "name": "stdout"
        },
        {
          "output_type": "stream",
          "text": [
            "\n",
            " 41%|████      | 408/1000 [10:59<24:11,  2.45s/it]\u001b[A"
          ],
          "name": "stderr"
        },
        {
          "output_type": "stream",
          "text": [
            "(407, 20)\n"
          ],
          "name": "stdout"
        },
        {
          "output_type": "stream",
          "text": [
            "\n",
            " 41%|████      | 409/1000 [11:06<35:57,  3.65s/it]\u001b[A"
          ],
          "name": "stderr"
        },
        {
          "output_type": "stream",
          "text": [
            "(408, 20)\n"
          ],
          "name": "stdout"
        },
        {
          "output_type": "stream",
          "text": [
            "\n",
            " 41%|████      | 410/1000 [11:10<37:58,  3.86s/it]\u001b[A"
          ],
          "name": "stderr"
        },
        {
          "output_type": "stream",
          "text": [
            "(409, 20)\n"
          ],
          "name": "stdout"
        },
        {
          "output_type": "stream",
          "text": [
            "\n",
            " 41%|████      | 411/1000 [11:14<37:52,  3.86s/it]\u001b[A"
          ],
          "name": "stderr"
        },
        {
          "output_type": "stream",
          "text": [
            "(410, 20)\n"
          ],
          "name": "stdout"
        },
        {
          "output_type": "stream",
          "text": [
            "\n",
            " 41%|████      | 412/1000 [11:17<34:41,  3.54s/it]\u001b[A"
          ],
          "name": "stderr"
        },
        {
          "output_type": "stream",
          "text": [
            "(411, 20)\n"
          ],
          "name": "stdout"
        },
        {
          "output_type": "stream",
          "text": [
            "\n",
            " 41%|████▏     | 413/1000 [11:21<37:06,  3.79s/it]\u001b[A"
          ],
          "name": "stderr"
        },
        {
          "output_type": "stream",
          "text": [
            "(412, 20)\n"
          ],
          "name": "stdout"
        },
        {
          "output_type": "stream",
          "text": [
            "\n",
            " 41%|████▏     | 414/1000 [11:23<32:18,  3.31s/it]\u001b[A"
          ],
          "name": "stderr"
        },
        {
          "output_type": "stream",
          "text": [
            "(413, 20)\n"
          ],
          "name": "stdout"
        },
        {
          "output_type": "stream",
          "text": [
            "\n",
            " 42%|████▏     | 415/1000 [11:25<29:24,  3.02s/it]\u001b[A"
          ],
          "name": "stderr"
        },
        {
          "output_type": "stream",
          "text": [
            "(414, 20)\n"
          ],
          "name": "stdout"
        },
        {
          "output_type": "stream",
          "text": [
            "\n",
            " 42%|████▏     | 416/1000 [11:28<27:31,  2.83s/it]\u001b[A"
          ],
          "name": "stderr"
        },
        {
          "output_type": "stream",
          "text": [
            "(415, 20)\n"
          ],
          "name": "stdout"
        },
        {
          "output_type": "stream",
          "text": [
            "\n",
            " 42%|████▏     | 417/1000 [11:30<26:49,  2.76s/it]\u001b[A"
          ],
          "name": "stderr"
        },
        {
          "output_type": "stream",
          "text": [
            "(416, 20)\n"
          ],
          "name": "stdout"
        },
        {
          "output_type": "stream",
          "text": [
            "\n",
            " 42%|████▏     | 418/1000 [11:35<31:44,  3.27s/it]\u001b[A"
          ],
          "name": "stderr"
        },
        {
          "output_type": "stream",
          "text": [
            "(417, 20)\n"
          ],
          "name": "stdout"
        },
        {
          "output_type": "stream",
          "text": [
            "\n",
            " 42%|████▏     | 419/1000 [11:40<36:34,  3.78s/it]\u001b[A"
          ],
          "name": "stderr"
        },
        {
          "output_type": "stream",
          "text": [
            "(418, 20)\n"
          ],
          "name": "stdout"
        },
        {
          "output_type": "stream",
          "text": [
            "\n",
            " 42%|████▏     | 420/1000 [11:42<32:50,  3.40s/it]\u001b[A"
          ],
          "name": "stderr"
        },
        {
          "output_type": "stream",
          "text": [
            "(419, 20)\n"
          ],
          "name": "stdout"
        },
        {
          "output_type": "stream",
          "text": [
            "\n",
            " 42%|████▏     | 421/1000 [11:47<35:17,  3.66s/it]\u001b[A"
          ],
          "name": "stderr"
        },
        {
          "output_type": "stream",
          "text": [
            "(420, 20)\n"
          ],
          "name": "stdout"
        },
        {
          "output_type": "stream",
          "text": [
            "\n",
            " 42%|████▏     | 422/1000 [11:50<32:48,  3.41s/it]\u001b[A"
          ],
          "name": "stderr"
        },
        {
          "output_type": "stream",
          "text": [
            "(421, 20)\n"
          ],
          "name": "stdout"
        },
        {
          "output_type": "stream",
          "text": [
            "\n",
            " 42%|████▏     | 423/1000 [11:52<29:07,  3.03s/it]\u001b[A"
          ],
          "name": "stderr"
        },
        {
          "output_type": "stream",
          "text": [
            "(422, 20)\n"
          ],
          "name": "stdout"
        },
        {
          "output_type": "stream",
          "text": [
            "\n",
            " 42%|████▏     | 424/1000 [11:54<26:50,  2.80s/it]\u001b[A"
          ],
          "name": "stderr"
        },
        {
          "output_type": "stream",
          "text": [
            "(423, 20)\n"
          ],
          "name": "stdout"
        },
        {
          "output_type": "stream",
          "text": [
            "\n",
            " 42%|████▎     | 425/1000 [11:56<25:41,  2.68s/it]\u001b[A"
          ],
          "name": "stderr"
        },
        {
          "output_type": "stream",
          "text": [
            "(424, 20)\n"
          ],
          "name": "stdout"
        },
        {
          "output_type": "stream",
          "text": [
            "\n",
            " 43%|████▎     | 426/1000 [11:58<24:12,  2.53s/it]\u001b[A"
          ],
          "name": "stderr"
        },
        {
          "output_type": "stream",
          "text": [
            "(425, 20)\n"
          ],
          "name": "stdout"
        },
        {
          "output_type": "stream",
          "text": [
            "\n",
            " 43%|████▎     | 427/1000 [12:00<21:55,  2.30s/it]\u001b[A"
          ],
          "name": "stderr"
        },
        {
          "output_type": "stream",
          "text": [
            "(426, 20)\n"
          ],
          "name": "stdout"
        },
        {
          "output_type": "stream",
          "text": [
            "\n",
            " 43%|████▎     | 428/1000 [12:02<21:14,  2.23s/it]\u001b[A"
          ],
          "name": "stderr"
        },
        {
          "output_type": "stream",
          "text": [
            "(427, 20)\n"
          ],
          "name": "stdout"
        },
        {
          "output_type": "stream",
          "text": [
            "\n",
            " 43%|████▎     | 429/1000 [12:07<27:13,  2.86s/it]\u001b[A"
          ],
          "name": "stderr"
        },
        {
          "output_type": "stream",
          "text": [
            "(428, 20)\n"
          ],
          "name": "stdout"
        },
        {
          "output_type": "stream",
          "text": [
            "\n",
            " 43%|████▎     | 430/1000 [12:10<29:07,  3.07s/it]\u001b[A"
          ],
          "name": "stderr"
        },
        {
          "output_type": "stream",
          "text": [
            "(429, 20)\n"
          ],
          "name": "stdout"
        },
        {
          "output_type": "stream",
          "text": [
            "\n",
            " 43%|████▎     | 431/1000 [12:14<32:13,  3.40s/it]\u001b[A"
          ],
          "name": "stderr"
        },
        {
          "output_type": "stream",
          "text": [
            "(430, 20)\n"
          ],
          "name": "stdout"
        },
        {
          "output_type": "stream",
          "text": [
            "\n",
            " 43%|████▎     | 432/1000 [12:17<29:09,  3.08s/it]\u001b[A"
          ],
          "name": "stderr"
        },
        {
          "output_type": "stream",
          "text": [
            "(431, 20)\n"
          ],
          "name": "stdout"
        },
        {
          "output_type": "stream",
          "text": [
            "\n",
            " 43%|████▎     | 433/1000 [12:22<34:37,  3.66s/it]\u001b[A"
          ],
          "name": "stderr"
        },
        {
          "output_type": "stream",
          "text": [
            "(432, 20)\n"
          ],
          "name": "stdout"
        },
        {
          "output_type": "stream",
          "text": [
            "\n",
            " 43%|████▎     | 434/1000 [12:24<30:53,  3.27s/it]\u001b[A"
          ],
          "name": "stderr"
        },
        {
          "output_type": "stream",
          "text": [
            "(433, 20)\n"
          ],
          "name": "stdout"
        },
        {
          "output_type": "stream",
          "text": [
            "\n",
            " 44%|████▎     | 435/1000 [12:29<34:03,  3.62s/it]\u001b[A"
          ],
          "name": "stderr"
        },
        {
          "output_type": "stream",
          "text": [
            "(434, 20)\n"
          ],
          "name": "stdout"
        },
        {
          "output_type": "stream",
          "text": [
            "\n",
            " 44%|████▎     | 436/1000 [12:31<30:23,  3.23s/it]\u001b[A"
          ],
          "name": "stderr"
        },
        {
          "output_type": "stream",
          "text": [
            "(435, 20)\n"
          ],
          "name": "stdout"
        },
        {
          "output_type": "stream",
          "text": [
            "\n",
            " 44%|████▎     | 437/1000 [12:33<27:47,  2.96s/it]\u001b[A"
          ],
          "name": "stderr"
        },
        {
          "output_type": "stream",
          "text": [
            "(436, 20)\n"
          ],
          "name": "stdout"
        },
        {
          "output_type": "stream",
          "text": [
            "\n",
            " 44%|████▍     | 438/1000 [12:35<25:44,  2.75s/it]\u001b[A"
          ],
          "name": "stderr"
        },
        {
          "output_type": "stream",
          "text": [
            "(437, 20)\n"
          ],
          "name": "stdout"
        },
        {
          "output_type": "stream",
          "text": [
            "\n",
            " 44%|████▍     | 439/1000 [12:38<24:32,  2.63s/it]\u001b[A"
          ],
          "name": "stderr"
        },
        {
          "output_type": "stream",
          "text": [
            "(438, 20)\n"
          ],
          "name": "stdout"
        },
        {
          "output_type": "stream",
          "text": [
            "\n",
            " 44%|████▍     | 440/1000 [12:42<29:15,  3.14s/it]\u001b[A"
          ],
          "name": "stderr"
        },
        {
          "output_type": "stream",
          "text": [
            "(439, 20)\n"
          ],
          "name": "stdout"
        },
        {
          "output_type": "stream",
          "text": [
            "\n",
            " 44%|████▍     | 441/1000 [12:44<26:59,  2.90s/it]\u001b[A"
          ],
          "name": "stderr"
        },
        {
          "output_type": "stream",
          "text": [
            "(440, 20)\n"
          ],
          "name": "stdout"
        },
        {
          "output_type": "stream",
          "text": [
            "\n",
            " 44%|████▍     | 442/1000 [12:47<25:07,  2.70s/it]\u001b[A"
          ],
          "name": "stderr"
        },
        {
          "output_type": "stream",
          "text": [
            "(441, 20)\n"
          ],
          "name": "stdout"
        },
        {
          "output_type": "stream",
          "text": [
            "\n",
            " 44%|████▍     | 443/1000 [12:51<30:49,  3.32s/it]\u001b[A"
          ],
          "name": "stderr"
        },
        {
          "output_type": "stream",
          "text": [
            "(442, 20)\n"
          ],
          "name": "stdout"
        },
        {
          "output_type": "stream",
          "text": [
            "\n",
            " 44%|████▍     | 444/1000 [12:54<29:52,  3.22s/it]\u001b[A"
          ],
          "name": "stderr"
        },
        {
          "output_type": "stream",
          "text": [
            "(443, 20)\n"
          ],
          "name": "stdout"
        },
        {
          "output_type": "stream",
          "text": [
            "\n",
            " 44%|████▍     | 445/1000 [12:59<32:59,  3.57s/it]\u001b[A"
          ],
          "name": "stderr"
        },
        {
          "output_type": "stream",
          "text": [
            "(444, 20)\n"
          ],
          "name": "stdout"
        },
        {
          "output_type": "stream",
          "text": [
            "\n",
            " 45%|████▍     | 446/1000 [13:02<32:59,  3.57s/it]\u001b[A"
          ],
          "name": "stderr"
        },
        {
          "output_type": "stream",
          "text": [
            "(445, 20)\n"
          ],
          "name": "stdout"
        },
        {
          "output_type": "stream",
          "text": [
            "\n",
            " 45%|████▍     | 447/1000 [13:05<29:20,  3.18s/it]\u001b[A"
          ],
          "name": "stderr"
        },
        {
          "output_type": "stream",
          "text": [
            "(446, 20)\n"
          ],
          "name": "stdout"
        },
        {
          "output_type": "stream",
          "text": [
            "\n",
            " 45%|████▍     | 448/1000 [13:07<26:48,  2.91s/it]\u001b[A"
          ],
          "name": "stderr"
        },
        {
          "output_type": "stream",
          "text": [
            "(447, 20)\n"
          ],
          "name": "stdout"
        },
        {
          "output_type": "stream",
          "text": [
            "\n",
            " 45%|████▍     | 449/1000 [13:10<26:02,  2.84s/it]\u001b[A"
          ],
          "name": "stderr"
        },
        {
          "output_type": "stream",
          "text": [
            "(448, 20)\n"
          ],
          "name": "stdout"
        },
        {
          "output_type": "stream",
          "text": [
            "\n",
            " 45%|████▌     | 450/1000 [13:12<24:36,  2.68s/it]\u001b[A"
          ],
          "name": "stderr"
        },
        {
          "output_type": "stream",
          "text": [
            "(449, 20)\n"
          ],
          "name": "stdout"
        },
        {
          "output_type": "stream",
          "text": [
            "\n",
            " 45%|████▌     | 451/1000 [13:14<23:28,  2.57s/it]\u001b[A"
          ],
          "name": "stderr"
        },
        {
          "output_type": "stream",
          "text": [
            "(450, 20)\n"
          ],
          "name": "stdout"
        },
        {
          "output_type": "stream",
          "text": [
            "\n",
            " 45%|████▌     | 452/1000 [13:18<25:33,  2.80s/it]\u001b[A"
          ],
          "name": "stderr"
        },
        {
          "output_type": "stream",
          "text": [
            "(451, 20)\n"
          ],
          "name": "stdout"
        },
        {
          "output_type": "stream",
          "text": [
            "\n",
            " 45%|████▌     | 453/1000 [13:20<24:07,  2.65s/it]\u001b[A"
          ],
          "name": "stderr"
        },
        {
          "output_type": "stream",
          "text": [
            "(452, 20)\n"
          ],
          "name": "stdout"
        },
        {
          "output_type": "stream",
          "text": [
            "\n",
            " 45%|████▌     | 454/1000 [13:23<24:27,  2.69s/it]\u001b[A"
          ],
          "name": "stderr"
        },
        {
          "output_type": "stream",
          "text": [
            "(453, 20)\n"
          ],
          "name": "stdout"
        },
        {
          "output_type": "stream",
          "text": [
            "\n",
            " 46%|████▌     | 455/1000 [13:25<23:58,  2.64s/it]\u001b[A"
          ],
          "name": "stderr"
        },
        {
          "output_type": "stream",
          "text": [
            "(454, 20)\n"
          ],
          "name": "stdout"
        },
        {
          "output_type": "stream",
          "text": [
            "\n",
            " 46%|████▌     | 456/1000 [13:28<24:20,  2.68s/it]\u001b[A"
          ],
          "name": "stderr"
        },
        {
          "output_type": "stream",
          "text": [
            "(455, 20)\n"
          ],
          "name": "stdout"
        },
        {
          "output_type": "stream",
          "text": [
            "\n",
            " 46%|████▌     | 457/1000 [13:30<23:36,  2.61s/it]\u001b[A"
          ],
          "name": "stderr"
        },
        {
          "output_type": "stream",
          "text": [
            "(456, 20)\n"
          ],
          "name": "stdout"
        },
        {
          "output_type": "stream",
          "text": [
            "\n",
            " 46%|████▌     | 458/1000 [13:33<23:06,  2.56s/it]\u001b[A"
          ],
          "name": "stderr"
        },
        {
          "output_type": "stream",
          "text": [
            "(457, 20)\n"
          ],
          "name": "stdout"
        },
        {
          "output_type": "stream",
          "text": [
            "\n",
            " 46%|████▌     | 459/1000 [13:36<23:39,  2.62s/it]\u001b[A"
          ],
          "name": "stderr"
        },
        {
          "output_type": "stream",
          "text": [
            "(458, 20)\n"
          ],
          "name": "stdout"
        },
        {
          "output_type": "stream",
          "text": [
            "\n",
            " 46%|████▌     | 460/1000 [13:38<22:31,  2.50s/it]\u001b[A"
          ],
          "name": "stderr"
        },
        {
          "output_type": "stream",
          "text": [
            "(459, 20)\n"
          ],
          "name": "stdout"
        },
        {
          "output_type": "stream",
          "text": [
            "\n",
            " 46%|████▌     | 461/1000 [13:40<22:06,  2.46s/it]\u001b[A"
          ],
          "name": "stderr"
        },
        {
          "output_type": "stream",
          "text": [
            "(460, 20)\n"
          ],
          "name": "stdout"
        },
        {
          "output_type": "stream",
          "text": [
            "\n",
            " 46%|████▌     | 462/1000 [13:44<26:43,  2.98s/it]\u001b[A"
          ],
          "name": "stderr"
        },
        {
          "output_type": "stream",
          "text": [
            "(461, 20)\n"
          ],
          "name": "stdout"
        },
        {
          "output_type": "stream",
          "text": [
            "\n",
            " 46%|████▋     | 463/1000 [13:48<29:01,  3.24s/it]\u001b[A"
          ],
          "name": "stderr"
        },
        {
          "output_type": "stream",
          "text": [
            "(462, 20)\n"
          ],
          "name": "stdout"
        },
        {
          "output_type": "stream",
          "text": [
            "\n",
            " 46%|████▋     | 464/1000 [13:51<26:58,  3.02s/it]\u001b[A"
          ],
          "name": "stderr"
        },
        {
          "output_type": "stream",
          "text": [
            "(463, 20)\n"
          ],
          "name": "stdout"
        },
        {
          "output_type": "stream",
          "text": [
            "\n",
            " 46%|████▋     | 465/1000 [13:53<25:42,  2.88s/it]\u001b[A"
          ],
          "name": "stderr"
        },
        {
          "output_type": "stream",
          "text": [
            "(464, 20)\n"
          ],
          "name": "stdout"
        },
        {
          "output_type": "stream",
          "text": [
            "\n",
            " 47%|████▋     | 466/1000 [13:56<23:58,  2.69s/it]\u001b[A"
          ],
          "name": "stderr"
        },
        {
          "output_type": "stream",
          "text": [
            "(465, 20)\n"
          ],
          "name": "stdout"
        },
        {
          "output_type": "stream",
          "text": [
            "\n",
            " 47%|████▋     | 467/1000 [14:00<28:55,  3.26s/it]\u001b[A"
          ],
          "name": "stderr"
        },
        {
          "output_type": "stream",
          "text": [
            "(466, 20)\n"
          ],
          "name": "stdout"
        },
        {
          "output_type": "stream",
          "text": [
            "\n",
            " 47%|████▋     | 468/1000 [14:03<26:56,  3.04s/it]\u001b[A"
          ],
          "name": "stderr"
        },
        {
          "output_type": "stream",
          "text": [
            "(467, 20)\n"
          ],
          "name": "stdout"
        },
        {
          "output_type": "stream",
          "text": [
            "\n",
            " 47%|████▋     | 469/1000 [14:06<27:37,  3.12s/it]\u001b[A"
          ],
          "name": "stderr"
        },
        {
          "output_type": "stream",
          "text": [
            "(468, 20)\n"
          ],
          "name": "stdout"
        },
        {
          "output_type": "stream",
          "text": [
            "\n",
            " 47%|████▋     | 470/1000 [14:10<31:17,  3.54s/it]\u001b[A"
          ],
          "name": "stderr"
        },
        {
          "output_type": "stream",
          "text": [
            "(469, 20)\n"
          ],
          "name": "stdout"
        },
        {
          "output_type": "stream",
          "text": [
            "\n",
            " 47%|████▋     | 471/1000 [14:13<28:21,  3.22s/it]\u001b[A"
          ],
          "name": "stderr"
        },
        {
          "output_type": "stream",
          "text": [
            "(470, 20)\n"
          ],
          "name": "stdout"
        },
        {
          "output_type": "stream",
          "text": [
            "\n",
            " 47%|████▋     | 472/1000 [14:17<30:57,  3.52s/it]\u001b[A"
          ],
          "name": "stderr"
        },
        {
          "output_type": "stream",
          "text": [
            "(471, 20)\n"
          ],
          "name": "stdout"
        },
        {
          "output_type": "stream",
          "text": [
            "\n",
            " 47%|████▋     | 473/1000 [14:19<27:36,  3.14s/it]\u001b[A"
          ],
          "name": "stderr"
        },
        {
          "output_type": "stream",
          "text": [
            "(472, 20)\n"
          ],
          "name": "stdout"
        },
        {
          "output_type": "stream",
          "text": [
            "\n",
            " 47%|████▋     | 474/1000 [14:23<29:26,  3.36s/it]\u001b[A"
          ],
          "name": "stderr"
        },
        {
          "output_type": "stream",
          "text": [
            "(473, 20)\n"
          ],
          "name": "stdout"
        },
        {
          "output_type": "stream",
          "text": [
            "\n",
            " 48%|████▊     | 475/1000 [14:26<26:46,  3.06s/it]\u001b[A"
          ],
          "name": "stderr"
        },
        {
          "output_type": "stream",
          "text": [
            "(474, 20)\n"
          ],
          "name": "stdout"
        },
        {
          "output_type": "stream",
          "text": [
            "\n",
            " 48%|████▊     | 476/1000 [14:28<25:24,  2.91s/it]\u001b[A"
          ],
          "name": "stderr"
        },
        {
          "output_type": "stream",
          "text": [
            "(475, 20)\n"
          ],
          "name": "stdout"
        },
        {
          "output_type": "stream",
          "text": [
            "\n",
            " 48%|████▊     | 477/1000 [14:31<23:46,  2.73s/it]\u001b[A"
          ],
          "name": "stderr"
        },
        {
          "output_type": "stream",
          "text": [
            "(476, 20)\n"
          ],
          "name": "stdout"
        },
        {
          "output_type": "stream",
          "text": [
            "\n",
            " 48%|████▊     | 478/1000 [14:35<28:10,  3.24s/it]\u001b[A"
          ],
          "name": "stderr"
        },
        {
          "output_type": "stream",
          "text": [
            "(477, 20)\n"
          ],
          "name": "stdout"
        },
        {
          "output_type": "stream",
          "text": [
            "\n",
            " 48%|████▊     | 479/1000 [14:37<26:00,  3.00s/it]\u001b[A"
          ],
          "name": "stderr"
        },
        {
          "output_type": "stream",
          "text": [
            "(478, 20)\n"
          ],
          "name": "stdout"
        },
        {
          "output_type": "stream",
          "text": [
            "\n",
            " 48%|████▊     | 480/1000 [14:41<26:39,  3.08s/it]\u001b[A"
          ],
          "name": "stderr"
        },
        {
          "output_type": "stream",
          "text": [
            "(479, 20)\n"
          ],
          "name": "stdout"
        },
        {
          "output_type": "stream",
          "text": [
            "\n",
            " 48%|████▊     | 481/1000 [14:44<27:38,  3.20s/it]\u001b[A"
          ],
          "name": "stderr"
        },
        {
          "output_type": "stream",
          "text": [
            "(480, 20)\n"
          ],
          "name": "stdout"
        },
        {
          "output_type": "stream",
          "text": [
            "\n",
            " 48%|████▊     | 482/1000 [14:46<25:09,  2.91s/it]\u001b[A"
          ],
          "name": "stderr"
        },
        {
          "output_type": "stream",
          "text": [
            "(481, 20)\n"
          ],
          "name": "stdout"
        },
        {
          "output_type": "stream",
          "text": [
            "\n",
            " 48%|████▊     | 483/1000 [14:50<27:08,  3.15s/it]\u001b[A"
          ],
          "name": "stderr"
        },
        {
          "output_type": "stream",
          "text": [
            "(482, 20)\n"
          ],
          "name": "stdout"
        },
        {
          "output_type": "stream",
          "text": [
            "\n",
            " 48%|████▊     | 484/1000 [14:52<24:44,  2.88s/it]\u001b[A"
          ],
          "name": "stderr"
        },
        {
          "output_type": "stream",
          "text": [
            "(483, 20)\n"
          ],
          "name": "stdout"
        },
        {
          "output_type": "stream",
          "text": [
            "\n",
            " 48%|████▊     | 485/1000 [14:55<23:09,  2.70s/it]\u001b[A"
          ],
          "name": "stderr"
        },
        {
          "output_type": "stream",
          "text": [
            "(484, 20)\n"
          ],
          "name": "stdout"
        },
        {
          "output_type": "stream",
          "text": [
            "\n",
            " 49%|████▊     | 486/1000 [14:57<22:13,  2.60s/it]\u001b[A"
          ],
          "name": "stderr"
        },
        {
          "output_type": "stream",
          "text": [
            "(485, 20)\n"
          ],
          "name": "stdout"
        },
        {
          "output_type": "stream",
          "text": [
            "\n",
            " 49%|████▊     | 487/1000 [15:00<22:19,  2.61s/it]\u001b[A"
          ],
          "name": "stderr"
        },
        {
          "output_type": "stream",
          "text": [
            "(486, 20)\n"
          ],
          "name": "stdout"
        },
        {
          "output_type": "stream",
          "text": [
            "\n",
            " 49%|████▉     | 488/1000 [15:02<21:42,  2.54s/it]\u001b[A"
          ],
          "name": "stderr"
        },
        {
          "output_type": "stream",
          "text": [
            "(487, 20)\n"
          ],
          "name": "stdout"
        },
        {
          "output_type": "stream",
          "text": [
            "\n",
            " 49%|████▉     | 489/1000 [15:04<21:04,  2.48s/it]\u001b[A"
          ],
          "name": "stderr"
        },
        {
          "output_type": "stream",
          "text": [
            "(488, 20)\n"
          ],
          "name": "stdout"
        },
        {
          "output_type": "stream",
          "text": [
            "\n",
            " 49%|████▉     | 490/1000 [15:06<19:24,  2.28s/it]\u001b[A"
          ],
          "name": "stderr"
        },
        {
          "output_type": "stream",
          "text": [
            "(489, 20)\n"
          ],
          "name": "stdout"
        },
        {
          "output_type": "stream",
          "text": [
            "\n",
            " 49%|████▉     | 491/1000 [15:09<20:40,  2.44s/it]\u001b[A"
          ],
          "name": "stderr"
        },
        {
          "output_type": "stream",
          "text": [
            "(490, 20)\n"
          ],
          "name": "stdout"
        },
        {
          "output_type": "stream",
          "text": [
            "\n",
            " 49%|████▉     | 492/1000 [15:11<20:10,  2.38s/it]\u001b[A"
          ],
          "name": "stderr"
        },
        {
          "output_type": "stream",
          "text": [
            "(491, 20)\n"
          ],
          "name": "stdout"
        },
        {
          "output_type": "stream",
          "text": [
            "\n",
            " 49%|████▉     | 493/1000 [15:14<20:35,  2.44s/it]\u001b[A"
          ],
          "name": "stderr"
        },
        {
          "output_type": "stream",
          "text": [
            "(492, 20)\n"
          ],
          "name": "stdout"
        },
        {
          "output_type": "stream",
          "text": [
            "\n",
            " 49%|████▉     | 494/1000 [15:17<22:47,  2.70s/it]\u001b[A"
          ],
          "name": "stderr"
        },
        {
          "output_type": "stream",
          "text": [
            "(493, 20)\n"
          ],
          "name": "stdout"
        },
        {
          "output_type": "stream",
          "text": [
            "\n",
            " 50%|████▉     | 495/1000 [15:19<22:01,  2.62s/it]\u001b[A"
          ],
          "name": "stderr"
        },
        {
          "output_type": "stream",
          "text": [
            "(494, 20)\n"
          ],
          "name": "stdout"
        },
        {
          "output_type": "stream",
          "text": [
            "\n",
            " 50%|████▉     | 496/1000 [15:22<21:40,  2.58s/it]\u001b[A"
          ],
          "name": "stderr"
        },
        {
          "output_type": "stream",
          "text": [
            "(495, 20)\n"
          ],
          "name": "stdout"
        },
        {
          "output_type": "stream",
          "text": [
            "\n",
            " 50%|████▉     | 497/1000 [15:24<20:44,  2.47s/it]\u001b[A"
          ],
          "name": "stderr"
        },
        {
          "output_type": "stream",
          "text": [
            "(496, 20)\n"
          ],
          "name": "stdout"
        },
        {
          "output_type": "stream",
          "text": [
            "\n",
            " 50%|████▉     | 498/1000 [15:27<20:24,  2.44s/it]\u001b[A"
          ],
          "name": "stderr"
        },
        {
          "output_type": "stream",
          "text": [
            "(497, 20)\n"
          ],
          "name": "stdout"
        },
        {
          "output_type": "stream",
          "text": [
            "\n",
            " 50%|████▉     | 499/1000 [15:29<20:15,  2.43s/it]\u001b[A"
          ],
          "name": "stderr"
        },
        {
          "output_type": "stream",
          "text": [
            "(498, 20)\n"
          ],
          "name": "stdout"
        },
        {
          "output_type": "stream",
          "text": [
            "\n",
            " 50%|█████     | 500/1000 [15:31<19:30,  2.34s/it]\u001b[A"
          ],
          "name": "stderr"
        },
        {
          "output_type": "stream",
          "text": [
            "(499, 20)\n"
          ],
          "name": "stdout"
        },
        {
          "output_type": "stream",
          "text": [
            "\n",
            " 50%|█████     | 501/1000 [15:33<19:19,  2.32s/it]\u001b[A"
          ],
          "name": "stderr"
        },
        {
          "output_type": "stream",
          "text": [
            "(500, 20)\n"
          ],
          "name": "stdout"
        },
        {
          "output_type": "stream",
          "text": [
            "\n",
            " 50%|█████     | 502/1000 [15:38<24:44,  2.98s/it]\u001b[A"
          ],
          "name": "stderr"
        },
        {
          "output_type": "stream",
          "text": [
            "(501, 20)\n"
          ],
          "name": "stdout"
        },
        {
          "output_type": "stream",
          "text": [
            "\n",
            " 50%|█████     | 503/1000 [15:40<23:02,  2.78s/it]\u001b[A"
          ],
          "name": "stderr"
        },
        {
          "output_type": "stream",
          "text": [
            "(502, 20)\n"
          ],
          "name": "stdout"
        },
        {
          "output_type": "stream",
          "text": [
            "\n",
            " 50%|█████     | 504/1000 [15:43<21:49,  2.64s/it]\u001b[A"
          ],
          "name": "stderr"
        },
        {
          "output_type": "stream",
          "text": [
            "(503, 20)\n"
          ],
          "name": "stdout"
        },
        {
          "output_type": "stream",
          "text": [
            "\n",
            " 50%|█████     | 505/1000 [15:45<20:51,  2.53s/it]\u001b[A"
          ],
          "name": "stderr"
        },
        {
          "output_type": "stream",
          "text": [
            "(504, 20)\n"
          ],
          "name": "stdout"
        },
        {
          "output_type": "stream",
          "text": [
            "\n",
            " 51%|█████     | 506/1000 [15:48<23:11,  2.82s/it]\u001b[A"
          ],
          "name": "stderr"
        },
        {
          "output_type": "stream",
          "text": [
            "(505, 20)\n"
          ],
          "name": "stdout"
        },
        {
          "output_type": "stream",
          "text": [
            "\n",
            " 51%|█████     | 507/1000 [15:51<22:00,  2.68s/it]\u001b[A"
          ],
          "name": "stderr"
        },
        {
          "output_type": "stream",
          "text": [
            "(506, 20)\n"
          ],
          "name": "stdout"
        },
        {
          "output_type": "stream",
          "text": [
            "\n",
            " 51%|█████     | 508/1000 [15:53<21:20,  2.60s/it]\u001b[A"
          ],
          "name": "stderr"
        },
        {
          "output_type": "stream",
          "text": [
            "(507, 20)\n"
          ],
          "name": "stdout"
        },
        {
          "output_type": "stream",
          "text": [
            "\n",
            " 51%|█████     | 509/1000 [15:55<20:36,  2.52s/it]\u001b[A"
          ],
          "name": "stderr"
        },
        {
          "output_type": "stream",
          "text": [
            "(508, 20)\n"
          ],
          "name": "stdout"
        },
        {
          "output_type": "stream",
          "text": [
            "\n",
            " 51%|█████     | 510/1000 [15:58<19:58,  2.45s/it]\u001b[A"
          ],
          "name": "stderr"
        },
        {
          "output_type": "stream",
          "text": [
            "(509, 20)\n"
          ],
          "name": "stdout"
        },
        {
          "output_type": "stream",
          "text": [
            "\n",
            " 51%|█████     | 511/1000 [16:00<19:32,  2.40s/it]\u001b[A"
          ],
          "name": "stderr"
        },
        {
          "output_type": "stream",
          "text": [
            "(510, 20)\n"
          ],
          "name": "stdout"
        },
        {
          "output_type": "stream",
          "text": [
            "\n",
            " 51%|█████     | 512/1000 [16:02<19:12,  2.36s/it]\u001b[A"
          ],
          "name": "stderr"
        },
        {
          "output_type": "stream",
          "text": [
            "(511, 20)\n"
          ],
          "name": "stdout"
        },
        {
          "output_type": "stream",
          "text": [
            "\n",
            " 51%|█████▏    | 513/1000 [16:07<24:17,  2.99s/it]\u001b[A"
          ],
          "name": "stderr"
        },
        {
          "output_type": "stream",
          "text": [
            "(512, 20)\n"
          ],
          "name": "stdout"
        },
        {
          "output_type": "stream",
          "text": [
            "\n",
            " 51%|█████▏    | 514/1000 [16:09<23:36,  2.91s/it]\u001b[A"
          ],
          "name": "stderr"
        },
        {
          "output_type": "stream",
          "text": [
            "(513, 20)\n"
          ],
          "name": "stdout"
        },
        {
          "output_type": "stream",
          "text": [
            "\n",
            " 52%|█████▏    | 515/1000 [16:14<27:42,  3.43s/it]\u001b[A"
          ],
          "name": "stderr"
        },
        {
          "output_type": "stream",
          "text": [
            "(514, 20)\n"
          ],
          "name": "stdout"
        },
        {
          "output_type": "stream",
          "text": [
            "\n",
            " 52%|█████▏    | 516/1000 [16:17<25:40,  3.18s/it]\u001b[A"
          ],
          "name": "stderr"
        },
        {
          "output_type": "stream",
          "text": [
            "(515, 20)\n"
          ],
          "name": "stdout"
        },
        {
          "output_type": "stream",
          "text": [
            "\n",
            " 52%|█████▏    | 517/1000 [16:19<23:36,  2.93s/it]\u001b[A"
          ],
          "name": "stderr"
        },
        {
          "output_type": "stream",
          "text": [
            "(516, 20)\n"
          ],
          "name": "stdout"
        },
        {
          "output_type": "stream",
          "text": [
            "\n",
            " 52%|█████▏    | 518/1000 [16:21<22:20,  2.78s/it]\u001b[A"
          ],
          "name": "stderr"
        },
        {
          "output_type": "stream",
          "text": [
            "(517, 20)\n"
          ],
          "name": "stdout"
        },
        {
          "output_type": "stream",
          "text": [
            "\n",
            " 52%|█████▏    | 519/1000 [16:26<25:59,  3.24s/it]\u001b[A"
          ],
          "name": "stderr"
        },
        {
          "output_type": "stream",
          "text": [
            "(518, 20)\n"
          ],
          "name": "stdout"
        },
        {
          "output_type": "stream",
          "text": [
            "\n",
            " 52%|█████▏    | 520/1000 [16:30<28:55,  3.62s/it]\u001b[A"
          ],
          "name": "stderr"
        },
        {
          "output_type": "stream",
          "text": [
            "(519, 20)\n"
          ],
          "name": "stdout"
        },
        {
          "output_type": "stream",
          "text": [
            "\n",
            " 52%|█████▏    | 521/1000 [16:34<28:16,  3.54s/it]\u001b[A"
          ],
          "name": "stderr"
        },
        {
          "output_type": "stream",
          "text": [
            "(520, 20)\n"
          ],
          "name": "stdout"
        },
        {
          "output_type": "stream",
          "text": [
            "\n",
            " 52%|█████▏    | 522/1000 [16:36<25:39,  3.22s/it]\u001b[A"
          ],
          "name": "stderr"
        },
        {
          "output_type": "stream",
          "text": [
            "(521, 20)\n"
          ],
          "name": "stdout"
        },
        {
          "output_type": "stream",
          "text": [
            "\n",
            " 52%|█████▏    | 523/1000 [16:40<28:21,  3.57s/it]\u001b[A"
          ],
          "name": "stderr"
        },
        {
          "output_type": "stream",
          "text": [
            "(522, 20)\n"
          ],
          "name": "stdout"
        },
        {
          "output_type": "stream",
          "text": [
            "\n",
            " 52%|█████▏    | 524/1000 [16:43<25:18,  3.19s/it]\u001b[A"
          ],
          "name": "stderr"
        },
        {
          "output_type": "stream",
          "text": [
            "(523, 20)\n"
          ],
          "name": "stdout"
        },
        {
          "output_type": "stream",
          "text": [
            "\n",
            " 52%|█████▎    | 525/1000 [16:46<24:41,  3.12s/it]\u001b[A"
          ],
          "name": "stderr"
        },
        {
          "output_type": "stream",
          "text": [
            "(524, 20)\n"
          ],
          "name": "stdout"
        },
        {
          "output_type": "stream",
          "text": [
            "\n",
            " 53%|█████▎    | 526/1000 [16:48<22:16,  2.82s/it]\u001b[A"
          ],
          "name": "stderr"
        },
        {
          "output_type": "stream",
          "text": [
            "(525, 20)\n"
          ],
          "name": "stdout"
        },
        {
          "output_type": "stream",
          "text": [
            "\n",
            " 53%|█████▎    | 527/1000 [16:50<21:35,  2.74s/it]\u001b[A"
          ],
          "name": "stderr"
        },
        {
          "output_type": "stream",
          "text": [
            "(526, 20)\n"
          ],
          "name": "stdout"
        },
        {
          "output_type": "stream",
          "text": [
            "\n",
            " 53%|█████▎    | 528/1000 [16:53<20:44,  2.64s/it]\u001b[A"
          ],
          "name": "stderr"
        },
        {
          "output_type": "stream",
          "text": [
            "(527, 20)\n"
          ],
          "name": "stdout"
        },
        {
          "output_type": "stream",
          "text": [
            "\n",
            " 53%|█████▎    | 529/1000 [16:55<20:31,  2.61s/it]\u001b[A"
          ],
          "name": "stderr"
        },
        {
          "output_type": "stream",
          "text": [
            "(528, 20)\n"
          ],
          "name": "stdout"
        },
        {
          "output_type": "stream",
          "text": [
            "\n",
            " 53%|█████▎    | 530/1000 [16:58<19:56,  2.55s/it]\u001b[A"
          ],
          "name": "stderr"
        },
        {
          "output_type": "stream",
          "text": [
            "(529, 20)\n"
          ],
          "name": "stdout"
        },
        {
          "output_type": "stream",
          "text": [
            "\n",
            " 53%|█████▎    | 531/1000 [17:00<19:07,  2.45s/it]\u001b[A"
          ],
          "name": "stderr"
        },
        {
          "output_type": "stream",
          "text": [
            "(530, 20)\n"
          ],
          "name": "stdout"
        },
        {
          "output_type": "stream",
          "text": [
            "\n",
            " 53%|█████▎    | 532/1000 [17:02<19:14,  2.47s/it]\u001b[A"
          ],
          "name": "stderr"
        },
        {
          "output_type": "stream",
          "text": [
            "(531, 20)\n"
          ],
          "name": "stdout"
        },
        {
          "output_type": "stream",
          "text": [
            "\n",
            " 53%|█████▎    | 533/1000 [17:07<23:31,  3.02s/it]\u001b[A"
          ],
          "name": "stderr"
        },
        {
          "output_type": "stream",
          "text": [
            "(532, 20)\n"
          ],
          "name": "stdout"
        },
        {
          "output_type": "stream",
          "text": [
            "\n",
            " 53%|█████▎    | 534/1000 [17:12<28:58,  3.73s/it]\u001b[A"
          ],
          "name": "stderr"
        },
        {
          "output_type": "stream",
          "text": [
            "(533, 20)\n"
          ],
          "name": "stdout"
        },
        {
          "output_type": "stream",
          "text": [
            "\n",
            " 54%|█████▎    | 535/1000 [17:19<37:14,  4.80s/it]\u001b[A"
          ],
          "name": "stderr"
        },
        {
          "output_type": "stream",
          "text": [
            "(534, 20)\n"
          ],
          "name": "stdout"
        },
        {
          "output_type": "stream",
          "text": [
            "\n",
            " 54%|█████▎    | 536/1000 [17:22<31:13,  4.04s/it]\u001b[A"
          ],
          "name": "stderr"
        },
        {
          "output_type": "stream",
          "text": [
            "(535, 20)\n"
          ],
          "name": "stdout"
        },
        {
          "output_type": "stream",
          "text": [
            "\n",
            " 54%|█████▎    | 537/1000 [17:24<27:10,  3.52s/it]\u001b[A"
          ],
          "name": "stderr"
        },
        {
          "output_type": "stream",
          "text": [
            "(536, 20)\n"
          ],
          "name": "stdout"
        },
        {
          "output_type": "stream",
          "text": [
            "\n",
            " 54%|█████▍    | 538/1000 [17:29<29:35,  3.84s/it]\u001b[A"
          ],
          "name": "stderr"
        },
        {
          "output_type": "stream",
          "text": [
            "(537, 20)\n"
          ],
          "name": "stdout"
        },
        {
          "output_type": "stream",
          "text": [
            "\n",
            " 54%|█████▍    | 539/1000 [17:31<25:48,  3.36s/it]\u001b[A"
          ],
          "name": "stderr"
        },
        {
          "output_type": "stream",
          "text": [
            "(538, 20)\n"
          ],
          "name": "stdout"
        },
        {
          "output_type": "stream",
          "text": [
            "\n",
            " 54%|█████▍    | 540/1000 [17:33<23:06,  3.02s/it]\u001b[A"
          ],
          "name": "stderr"
        },
        {
          "output_type": "stream",
          "text": [
            "(539, 20)\n"
          ],
          "name": "stdout"
        },
        {
          "output_type": "stream",
          "text": [
            "\n",
            " 54%|█████▍    | 541/1000 [17:35<21:31,  2.81s/it]\u001b[A"
          ],
          "name": "stderr"
        },
        {
          "output_type": "stream",
          "text": [
            "(540, 20)\n"
          ],
          "name": "stdout"
        },
        {
          "output_type": "stream",
          "text": [
            "\n",
            " 54%|█████▍    | 542/1000 [17:41<28:53,  3.78s/it]\u001b[A"
          ],
          "name": "stderr"
        },
        {
          "output_type": "stream",
          "text": [
            "(541, 20)\n"
          ],
          "name": "stdout"
        },
        {
          "output_type": "stream",
          "text": [
            "\n",
            " 54%|█████▍    | 543/1000 [17:44<26:10,  3.44s/it]\u001b[A"
          ],
          "name": "stderr"
        },
        {
          "output_type": "stream",
          "text": [
            "(542, 20)\n"
          ],
          "name": "stdout"
        },
        {
          "output_type": "stream",
          "text": [
            "\n",
            " 54%|█████▍    | 544/1000 [17:47<24:12,  3.18s/it]\u001b[A"
          ],
          "name": "stderr"
        },
        {
          "output_type": "stream",
          "text": [
            "(543, 20)\n"
          ],
          "name": "stdout"
        },
        {
          "output_type": "stream",
          "text": [
            "\n",
            " 55%|█████▍    | 545/1000 [17:51<27:00,  3.56s/it]\u001b[A"
          ],
          "name": "stderr"
        },
        {
          "output_type": "stream",
          "text": [
            "(544, 20)\n"
          ],
          "name": "stdout"
        },
        {
          "output_type": "stream",
          "text": [
            "\n",
            " 55%|█████▍    | 546/1000 [17:56<28:45,  3.80s/it]\u001b[A"
          ],
          "name": "stderr"
        },
        {
          "output_type": "stream",
          "text": [
            "(545, 20)\n"
          ],
          "name": "stdout"
        },
        {
          "output_type": "stream",
          "text": [
            "\n",
            " 55%|█████▍    | 547/1000 [17:58<25:29,  3.38s/it]\u001b[A"
          ],
          "name": "stderr"
        },
        {
          "output_type": "stream",
          "text": [
            "(546, 20)\n"
          ],
          "name": "stdout"
        },
        {
          "output_type": "stream",
          "text": [
            "\n",
            " 55%|█████▍    | 548/1000 [18:01<23:45,  3.15s/it]\u001b[A"
          ],
          "name": "stderr"
        },
        {
          "output_type": "stream",
          "text": [
            "(547, 20)\n"
          ],
          "name": "stdout"
        },
        {
          "output_type": "stream",
          "text": [
            "\n",
            " 55%|█████▍    | 549/1000 [18:03<21:44,  2.89s/it]\u001b[A"
          ],
          "name": "stderr"
        },
        {
          "output_type": "stream",
          "text": [
            "(548, 20)\n"
          ],
          "name": "stdout"
        },
        {
          "output_type": "stream",
          "text": [
            "\n",
            " 55%|█████▌    | 550/1000 [18:05<19:57,  2.66s/it]\u001b[A"
          ],
          "name": "stderr"
        },
        {
          "output_type": "stream",
          "text": [
            "(549, 20)\n"
          ],
          "name": "stdout"
        },
        {
          "output_type": "stream",
          "text": [
            "\n",
            " 55%|█████▌    | 551/1000 [18:07<18:48,  2.51s/it]\u001b[A"
          ],
          "name": "stderr"
        },
        {
          "output_type": "stream",
          "text": [
            "(550, 20)\n"
          ],
          "name": "stdout"
        },
        {
          "output_type": "stream",
          "text": [
            "\n",
            " 55%|█████▌    | 552/1000 [18:11<21:19,  2.86s/it]\u001b[A"
          ],
          "name": "stderr"
        },
        {
          "output_type": "stream",
          "text": [
            "(551, 20)\n"
          ],
          "name": "stdout"
        },
        {
          "output_type": "stream",
          "text": [
            "\n",
            " 55%|█████▌    | 553/1000 [18:13<20:05,  2.70s/it]\u001b[A"
          ],
          "name": "stderr"
        },
        {
          "output_type": "stream",
          "text": [
            "(552, 20)\n"
          ],
          "name": "stdout"
        },
        {
          "output_type": "stream",
          "text": [
            "\n",
            " 55%|█████▌    | 554/1000 [18:17<22:47,  3.07s/it]\u001b[A"
          ],
          "name": "stderr"
        },
        {
          "output_type": "stream",
          "text": [
            "(553, 20)\n"
          ],
          "name": "stdout"
        },
        {
          "output_type": "stream",
          "text": [
            "\n",
            " 56%|█████▌    | 555/1000 [18:19<21:19,  2.88s/it]\u001b[A"
          ],
          "name": "stderr"
        },
        {
          "output_type": "stream",
          "text": [
            "(554, 20)\n"
          ],
          "name": "stdout"
        },
        {
          "output_type": "stream",
          "text": [
            "\n",
            " 56%|█████▌    | 556/1000 [18:22<20:16,  2.74s/it]\u001b[A"
          ],
          "name": "stderr"
        },
        {
          "output_type": "stream",
          "text": [
            "(555, 20)\n"
          ],
          "name": "stdout"
        },
        {
          "output_type": "stream",
          "text": [
            "\n",
            " 56%|█████▌    | 557/1000 [18:24<19:12,  2.60s/it]\u001b[A"
          ],
          "name": "stderr"
        },
        {
          "output_type": "stream",
          "text": [
            "(556, 20)\n"
          ],
          "name": "stdout"
        },
        {
          "output_type": "stream",
          "text": [
            "\n",
            " 56%|█████▌    | 558/1000 [18:26<18:20,  2.49s/it]\u001b[A"
          ],
          "name": "stderr"
        },
        {
          "output_type": "stream",
          "text": [
            "(557, 20)\n"
          ],
          "name": "stdout"
        },
        {
          "output_type": "stream",
          "text": [
            "\n",
            " 56%|█████▌    | 559/1000 [18:29<17:51,  2.43s/it]\u001b[A"
          ],
          "name": "stderr"
        },
        {
          "output_type": "stream",
          "text": [
            "(558, 20)\n"
          ],
          "name": "stdout"
        },
        {
          "output_type": "stream",
          "text": [
            "\n",
            " 56%|█████▌    | 560/1000 [18:31<17:48,  2.43s/it]\u001b[A"
          ],
          "name": "stderr"
        },
        {
          "output_type": "stream",
          "text": [
            "(559, 20)\n"
          ],
          "name": "stdout"
        },
        {
          "output_type": "stream",
          "text": [
            "\n",
            " 56%|█████▌    | 561/1000 [18:36<22:55,  3.13s/it]\u001b[A"
          ],
          "name": "stderr"
        },
        {
          "output_type": "stream",
          "text": [
            "(560, 20)\n"
          ],
          "name": "stdout"
        },
        {
          "output_type": "stream",
          "text": [
            "\n",
            " 56%|█████▌    | 562/1000 [18:40<25:48,  3.54s/it]\u001b[A"
          ],
          "name": "stderr"
        },
        {
          "output_type": "stream",
          "text": [
            "(561, 20)\n"
          ],
          "name": "stdout"
        },
        {
          "output_type": "stream",
          "text": [
            "\n",
            " 56%|█████▋    | 563/1000 [18:43<24:17,  3.33s/it]\u001b[A"
          ],
          "name": "stderr"
        },
        {
          "output_type": "stream",
          "text": [
            "(562, 20)\n"
          ],
          "name": "stdout"
        },
        {
          "output_type": "stream",
          "text": [
            "\n",
            " 56%|█████▋    | 564/1000 [18:45<21:54,  3.01s/it]\u001b[A"
          ],
          "name": "stderr"
        },
        {
          "output_type": "stream",
          "text": [
            "(563, 20)\n"
          ],
          "name": "stdout"
        },
        {
          "output_type": "stream",
          "text": [
            "\n",
            " 56%|█████▋    | 565/1000 [18:48<20:31,  2.83s/it]\u001b[A"
          ],
          "name": "stderr"
        },
        {
          "output_type": "stream",
          "text": [
            "(564, 20)\n"
          ],
          "name": "stdout"
        },
        {
          "output_type": "stream",
          "text": [
            "\n",
            " 57%|█████▋    | 566/1000 [18:50<19:31,  2.70s/it]\u001b[A"
          ],
          "name": "stderr"
        },
        {
          "output_type": "stream",
          "text": [
            "(565, 20)\n"
          ],
          "name": "stdout"
        },
        {
          "output_type": "stream",
          "text": [
            "\n",
            " 57%|█████▋    | 567/1000 [18:53<18:56,  2.63s/it]\u001b[A"
          ],
          "name": "stderr"
        },
        {
          "output_type": "stream",
          "text": [
            "(566, 20)\n"
          ],
          "name": "stdout"
        },
        {
          "output_type": "stream",
          "text": [
            "\n",
            " 57%|█████▋    | 568/1000 [18:55<18:21,  2.55s/it]\u001b[A"
          ],
          "name": "stderr"
        },
        {
          "output_type": "stream",
          "text": [
            "(567, 20)\n"
          ],
          "name": "stdout"
        },
        {
          "output_type": "stream",
          "text": [
            "\n",
            " 57%|█████▋    | 569/1000 [18:57<17:42,  2.46s/it]\u001b[A"
          ],
          "name": "stderr"
        },
        {
          "output_type": "stream",
          "text": [
            "(568, 20)\n"
          ],
          "name": "stdout"
        },
        {
          "output_type": "stream",
          "text": [
            "\n",
            " 57%|█████▋    | 570/1000 [19:01<20:21,  2.84s/it]\u001b[A"
          ],
          "name": "stderr"
        },
        {
          "output_type": "stream",
          "text": [
            "(569, 20)\n"
          ],
          "name": "stdout"
        },
        {
          "output_type": "stream",
          "text": [
            "\n",
            " 57%|█████▋    | 571/1000 [19:05<22:02,  3.08s/it]\u001b[A"
          ],
          "name": "stderr"
        },
        {
          "output_type": "stream",
          "text": [
            "(570, 20)\n"
          ],
          "name": "stdout"
        },
        {
          "output_type": "stream",
          "text": [
            "\n",
            " 57%|█████▋    | 572/1000 [19:07<20:46,  2.91s/it]\u001b[A"
          ],
          "name": "stderr"
        },
        {
          "output_type": "stream",
          "text": [
            "(571, 20)\n"
          ],
          "name": "stdout"
        },
        {
          "output_type": "stream",
          "text": [
            "\n",
            " 57%|█████▋    | 573/1000 [19:10<19:34,  2.75s/it]\u001b[A"
          ],
          "name": "stderr"
        },
        {
          "output_type": "stream",
          "text": [
            "(572, 20)\n"
          ],
          "name": "stdout"
        },
        {
          "output_type": "stream",
          "text": [
            "\n",
            " 57%|█████▋    | 574/1000 [19:12<19:06,  2.69s/it]\u001b[A"
          ],
          "name": "stderr"
        },
        {
          "output_type": "stream",
          "text": [
            "(573, 20)\n"
          ],
          "name": "stdout"
        },
        {
          "output_type": "stream",
          "text": [
            "\n",
            " 57%|█████▊    | 575/1000 [19:16<21:25,  3.02s/it]\u001b[A"
          ],
          "name": "stderr"
        },
        {
          "output_type": "stream",
          "text": [
            "(574, 20)\n"
          ],
          "name": "stdout"
        },
        {
          "output_type": "stream",
          "text": [
            "\n",
            " 58%|█████▊    | 576/1000 [19:18<19:42,  2.79s/it]\u001b[A"
          ],
          "name": "stderr"
        },
        {
          "output_type": "stream",
          "text": [
            "(575, 20)\n"
          ],
          "name": "stdout"
        },
        {
          "output_type": "stream",
          "text": [
            "\n",
            " 58%|█████▊    | 577/1000 [19:21<18:53,  2.68s/it]\u001b[A"
          ],
          "name": "stderr"
        },
        {
          "output_type": "stream",
          "text": [
            "(576, 20)\n"
          ],
          "name": "stdout"
        },
        {
          "output_type": "stream",
          "text": [
            "\n",
            " 58%|█████▊    | 578/1000 [19:23<17:59,  2.56s/it]\u001b[A"
          ],
          "name": "stderr"
        },
        {
          "output_type": "stream",
          "text": [
            "(577, 20)\n"
          ],
          "name": "stdout"
        },
        {
          "output_type": "stream",
          "text": [
            "\n",
            " 58%|█████▊    | 579/1000 [19:25<17:42,  2.52s/it]\u001b[A"
          ],
          "name": "stderr"
        },
        {
          "output_type": "stream",
          "text": [
            "(578, 20)\n"
          ],
          "name": "stdout"
        },
        {
          "output_type": "stream",
          "text": [
            "\n",
            " 58%|█████▊    | 580/1000 [19:28<17:27,  2.49s/it]\u001b[A"
          ],
          "name": "stderr"
        },
        {
          "output_type": "stream",
          "text": [
            "(579, 20)\n"
          ],
          "name": "stdout"
        },
        {
          "output_type": "stream",
          "text": [
            "\n",
            " 58%|█████▊    | 581/1000 [19:30<17:01,  2.44s/it]\u001b[A"
          ],
          "name": "stderr"
        },
        {
          "output_type": "stream",
          "text": [
            "(580, 20)\n"
          ],
          "name": "stdout"
        },
        {
          "output_type": "stream",
          "text": [
            "\n",
            " 58%|█████▊    | 582/1000 [19:35<22:16,  3.20s/it]\u001b[A"
          ],
          "name": "stderr"
        },
        {
          "output_type": "stream",
          "text": [
            "(581, 20)\n"
          ],
          "name": "stdout"
        },
        {
          "output_type": "stream",
          "text": [
            "\n",
            " 58%|█████▊    | 583/1000 [19:38<22:28,  3.23s/it]\u001b[A"
          ],
          "name": "stderr"
        },
        {
          "output_type": "stream",
          "text": [
            "(582, 20)\n"
          ],
          "name": "stdout"
        },
        {
          "output_type": "stream",
          "text": [
            "\n",
            " 58%|█████▊    | 584/1000 [19:41<20:26,  2.95s/it]\u001b[A"
          ],
          "name": "stderr"
        },
        {
          "output_type": "stream",
          "text": [
            "(583, 20)\n"
          ],
          "name": "stdout"
        },
        {
          "output_type": "stream",
          "text": [
            "\n",
            " 58%|█████▊    | 585/1000 [19:43<19:52,  2.87s/it]\u001b[A"
          ],
          "name": "stderr"
        },
        {
          "output_type": "stream",
          "text": [
            "(584, 20)\n"
          ],
          "name": "stdout"
        },
        {
          "output_type": "stream",
          "text": [
            "\n",
            " 59%|█████▊    | 586/1000 [19:47<21:44,  3.15s/it]\u001b[A"
          ],
          "name": "stderr"
        },
        {
          "output_type": "stream",
          "text": [
            "(585, 20)\n"
          ],
          "name": "stdout"
        },
        {
          "output_type": "stream",
          "text": [
            "\n",
            " 59%|█████▊    | 587/1000 [19:49<19:57,  2.90s/it]\u001b[A"
          ],
          "name": "stderr"
        },
        {
          "output_type": "stream",
          "text": [
            "(586, 20)\n"
          ],
          "name": "stdout"
        },
        {
          "output_type": "stream",
          "text": [
            "\n",
            " 59%|█████▉    | 588/1000 [19:52<18:35,  2.71s/it]\u001b[A"
          ],
          "name": "stderr"
        },
        {
          "output_type": "stream",
          "text": [
            "(587, 20)\n"
          ],
          "name": "stdout"
        },
        {
          "output_type": "stream",
          "text": [
            "\n",
            " 59%|█████▉    | 589/1000 [19:56<21:52,  3.19s/it]\u001b[A"
          ],
          "name": "stderr"
        },
        {
          "output_type": "stream",
          "text": [
            "(588, 20)\n"
          ],
          "name": "stdout"
        },
        {
          "output_type": "stream",
          "text": [
            "\n",
            " 59%|█████▉    | 590/1000 [20:01<24:52,  3.64s/it]\u001b[A"
          ],
          "name": "stderr"
        },
        {
          "output_type": "stream",
          "text": [
            "(589, 20)\n"
          ],
          "name": "stdout"
        },
        {
          "output_type": "stream",
          "text": [
            "\n",
            " 59%|█████▉    | 591/1000 [20:03<22:27,  3.29s/it]\u001b[A"
          ],
          "name": "stderr"
        },
        {
          "output_type": "stream",
          "text": [
            "(590, 20)\n"
          ],
          "name": "stdout"
        },
        {
          "output_type": "stream",
          "text": [
            "\n",
            " 59%|█████▉    | 592/1000 [20:06<20:20,  2.99s/it]\u001b[A"
          ],
          "name": "stderr"
        },
        {
          "output_type": "stream",
          "text": [
            "(591, 20)\n"
          ],
          "name": "stdout"
        },
        {
          "output_type": "stream",
          "text": [
            "\n",
            " 59%|█████▉    | 593/1000 [20:08<18:51,  2.78s/it]\u001b[A"
          ],
          "name": "stderr"
        },
        {
          "output_type": "stream",
          "text": [
            "(592, 20)\n"
          ],
          "name": "stdout"
        },
        {
          "output_type": "stream",
          "text": [
            "\n",
            " 59%|█████▉    | 594/1000 [20:12<21:51,  3.23s/it]\u001b[A"
          ],
          "name": "stderr"
        },
        {
          "output_type": "stream",
          "text": [
            "(593, 20)\n"
          ],
          "name": "stdout"
        },
        {
          "output_type": "stream",
          "text": [
            "\n",
            " 60%|█████▉    | 595/1000 [20:20<30:20,  4.50s/it]\u001b[A"
          ],
          "name": "stderr"
        },
        {
          "output_type": "stream",
          "text": [
            "(594, 20)\n"
          ],
          "name": "stdout"
        },
        {
          "output_type": "stream",
          "text": [
            "\n",
            " 60%|█████▉    | 596/1000 [20:22<26:06,  3.88s/it]\u001b[A"
          ],
          "name": "stderr"
        },
        {
          "output_type": "stream",
          "text": [
            "(595, 20)\n"
          ],
          "name": "stdout"
        },
        {
          "output_type": "stream",
          "text": [
            "\n",
            " 60%|█████▉    | 597/1000 [20:24<22:45,  3.39s/it]\u001b[A"
          ],
          "name": "stderr"
        },
        {
          "output_type": "stream",
          "text": [
            "(596, 20)\n"
          ],
          "name": "stdout"
        },
        {
          "output_type": "stream",
          "text": [
            "\n",
            " 60%|█████▉    | 598/1000 [20:27<20:45,  3.10s/it]\u001b[A"
          ],
          "name": "stderr"
        },
        {
          "output_type": "stream",
          "text": [
            "(597, 20)\n"
          ],
          "name": "stdout"
        },
        {
          "output_type": "stream",
          "text": [
            "\n",
            " 60%|█████▉    | 599/1000 [20:30<21:12,  3.17s/it]\u001b[A"
          ],
          "name": "stderr"
        },
        {
          "output_type": "stream",
          "text": [
            "(598, 20)\n"
          ],
          "name": "stdout"
        },
        {
          "output_type": "stream",
          "text": [
            "\n",
            " 60%|██████    | 600/1000 [20:33<19:59,  3.00s/it]\u001b[A"
          ],
          "name": "stderr"
        },
        {
          "output_type": "stream",
          "text": [
            "(599, 20)\n"
          ],
          "name": "stdout"
        },
        {
          "output_type": "stream",
          "text": [
            "\n",
            " 60%|██████    | 601/1000 [20:35<19:04,  2.87s/it]\u001b[A"
          ],
          "name": "stderr"
        },
        {
          "output_type": "stream",
          "text": [
            "(600, 20)\n"
          ],
          "name": "stdout"
        },
        {
          "output_type": "stream",
          "text": [
            "\n",
            " 60%|██████    | 602/1000 [20:38<18:14,  2.75s/it]\u001b[A"
          ],
          "name": "stderr"
        },
        {
          "output_type": "stream",
          "text": [
            "(601, 20)\n"
          ],
          "name": "stdout"
        },
        {
          "output_type": "stream",
          "text": [
            "\n",
            " 60%|██████    | 603/1000 [20:40<17:14,  2.61s/it]\u001b[A"
          ],
          "name": "stderr"
        },
        {
          "output_type": "stream",
          "text": [
            "(602, 20)\n"
          ],
          "name": "stdout"
        },
        {
          "output_type": "stream",
          "text": [
            "\n",
            " 60%|██████    | 604/1000 [20:42<16:54,  2.56s/it]\u001b[A"
          ],
          "name": "stderr"
        },
        {
          "output_type": "stream",
          "text": [
            "(603, 20)\n"
          ],
          "name": "stdout"
        },
        {
          "output_type": "stream",
          "text": [
            "\n",
            " 60%|██████    | 605/1000 [20:45<16:18,  2.48s/it]\u001b[A"
          ],
          "name": "stderr"
        },
        {
          "output_type": "stream",
          "text": [
            "(604, 20)\n"
          ],
          "name": "stdout"
        },
        {
          "output_type": "stream",
          "text": [
            "\n",
            " 61%|██████    | 606/1000 [20:47<16:12,  2.47s/it]\u001b[A"
          ],
          "name": "stderr"
        },
        {
          "output_type": "stream",
          "text": [
            "(605, 20)\n"
          ],
          "name": "stdout"
        },
        {
          "output_type": "stream",
          "text": [
            "\n",
            " 61%|██████    | 607/1000 [20:49<15:51,  2.42s/it]\u001b[A"
          ],
          "name": "stderr"
        },
        {
          "output_type": "stream",
          "text": [
            "(606, 20)\n"
          ],
          "name": "stdout"
        },
        {
          "output_type": "stream",
          "text": [
            "\n",
            " 61%|██████    | 608/1000 [20:52<15:31,  2.38s/it]\u001b[A"
          ],
          "name": "stderr"
        },
        {
          "output_type": "stream",
          "text": [
            "(607, 20)\n"
          ],
          "name": "stdout"
        },
        {
          "output_type": "stream",
          "text": [
            "\n",
            " 61%|██████    | 609/1000 [20:54<16:00,  2.46s/it]\u001b[A"
          ],
          "name": "stderr"
        },
        {
          "output_type": "stream",
          "text": [
            "(608, 20)\n"
          ],
          "name": "stdout"
        },
        {
          "output_type": "stream",
          "text": [
            "\n",
            " 61%|██████    | 610/1000 [20:57<16:26,  2.53s/it]\u001b[A"
          ],
          "name": "stderr"
        },
        {
          "output_type": "stream",
          "text": [
            "(609, 20)\n"
          ],
          "name": "stdout"
        },
        {
          "output_type": "stream",
          "text": [
            "\n",
            " 61%|██████    | 611/1000 [20:59<15:45,  2.43s/it]\u001b[A"
          ],
          "name": "stderr"
        },
        {
          "output_type": "stream",
          "text": [
            "(610, 20)\n"
          ],
          "name": "stdout"
        },
        {
          "output_type": "stream",
          "text": [
            "\n",
            " 61%|██████    | 612/1000 [21:01<15:16,  2.36s/it]\u001b[A"
          ],
          "name": "stderr"
        },
        {
          "output_type": "stream",
          "text": [
            "(611, 20)\n"
          ],
          "name": "stdout"
        },
        {
          "output_type": "stream",
          "text": [
            "\n",
            " 61%|██████▏   | 613/1000 [21:04<15:17,  2.37s/it]\u001b[A"
          ],
          "name": "stderr"
        },
        {
          "output_type": "stream",
          "text": [
            "(612, 20)\n"
          ],
          "name": "stdout"
        },
        {
          "output_type": "stream",
          "text": [
            "\n",
            " 61%|██████▏   | 614/1000 [21:09<19:52,  3.09s/it]\u001b[A"
          ],
          "name": "stderr"
        },
        {
          "output_type": "stream",
          "text": [
            "(613, 20)\n"
          ],
          "name": "stdout"
        },
        {
          "output_type": "stream",
          "text": [
            "\n",
            " 62%|██████▏   | 615/1000 [21:11<18:16,  2.85s/it]\u001b[A"
          ],
          "name": "stderr"
        },
        {
          "output_type": "stream",
          "text": [
            "(614, 20)\n"
          ],
          "name": "stdout"
        },
        {
          "output_type": "stream",
          "text": [
            "\n",
            " 62%|██████▏   | 616/1000 [21:13<16:53,  2.64s/it]\u001b[A"
          ],
          "name": "stderr"
        },
        {
          "output_type": "stream",
          "text": [
            "(615, 20)\n"
          ],
          "name": "stdout"
        },
        {
          "output_type": "stream",
          "text": [
            "\n",
            " 62%|██████▏   | 617/1000 [21:15<16:08,  2.53s/it]\u001b[A"
          ],
          "name": "stderr"
        },
        {
          "output_type": "stream",
          "text": [
            "(616, 20)\n"
          ],
          "name": "stdout"
        },
        {
          "output_type": "stream",
          "text": [
            "\n",
            " 62%|██████▏   | 618/1000 [21:18<16:50,  2.64s/it]\u001b[A"
          ],
          "name": "stderr"
        },
        {
          "output_type": "stream",
          "text": [
            "(617, 20)\n"
          ],
          "name": "stdout"
        },
        {
          "output_type": "stream",
          "text": [
            "\n",
            " 62%|██████▏   | 619/1000 [21:21<16:14,  2.56s/it]\u001b[A"
          ],
          "name": "stderr"
        },
        {
          "output_type": "stream",
          "text": [
            "(618, 20)\n"
          ],
          "name": "stdout"
        },
        {
          "output_type": "stream",
          "text": [
            "\n",
            " 62%|██████▏   | 620/1000 [21:23<15:47,  2.49s/it]\u001b[A"
          ],
          "name": "stderr"
        },
        {
          "output_type": "stream",
          "text": [
            "(619, 20)\n"
          ],
          "name": "stdout"
        },
        {
          "output_type": "stream",
          "text": [
            "\n",
            " 62%|██████▏   | 621/1000 [21:25<15:33,  2.46s/it]\u001b[A"
          ],
          "name": "stderr"
        },
        {
          "output_type": "stream",
          "text": [
            "(620, 20)\n"
          ],
          "name": "stdout"
        },
        {
          "output_type": "stream",
          "text": [
            "\n",
            " 62%|██████▏   | 622/1000 [21:27<15:03,  2.39s/it]\u001b[A"
          ],
          "name": "stderr"
        },
        {
          "output_type": "stream",
          "text": [
            "(621, 20)\n"
          ],
          "name": "stdout"
        },
        {
          "output_type": "stream",
          "text": [
            "\n",
            " 62%|██████▏   | 623/1000 [21:30<14:47,  2.36s/it]\u001b[A"
          ],
          "name": "stderr"
        },
        {
          "output_type": "stream",
          "text": [
            "(622, 20)\n"
          ],
          "name": "stdout"
        },
        {
          "output_type": "stream",
          "text": [
            "\n",
            " 62%|██████▏   | 624/1000 [21:32<15:03,  2.40s/it]\u001b[A"
          ],
          "name": "stderr"
        },
        {
          "output_type": "stream",
          "text": [
            "(623, 20)\n"
          ],
          "name": "stdout"
        },
        {
          "output_type": "stream",
          "text": [
            "\n",
            " 62%|██████▎   | 625/1000 [21:35<14:54,  2.39s/it]\u001b[A"
          ],
          "name": "stderr"
        },
        {
          "output_type": "stream",
          "text": [
            "(624, 20)\n"
          ],
          "name": "stdout"
        },
        {
          "output_type": "stream",
          "text": [
            "\n",
            " 63%|██████▎   | 626/1000 [21:39<19:13,  3.08s/it]\u001b[A"
          ],
          "name": "stderr"
        },
        {
          "output_type": "stream",
          "text": [
            "(625, 20)\n"
          ],
          "name": "stdout"
        },
        {
          "output_type": "stream",
          "text": [
            "\n",
            " 63%|██████▎   | 627/1000 [21:44<22:22,  3.60s/it]\u001b[A"
          ],
          "name": "stderr"
        },
        {
          "output_type": "stream",
          "text": [
            "(626, 20)\n"
          ],
          "name": "stdout"
        },
        {
          "output_type": "stream",
          "text": [
            "\n",
            " 63%|██████▎   | 628/1000 [21:46<18:50,  3.04s/it]\u001b[A"
          ],
          "name": "stderr"
        },
        {
          "output_type": "stream",
          "text": [
            "(627, 20)\n"
          ],
          "name": "stdout"
        },
        {
          "output_type": "stream",
          "text": [
            "\n",
            " 63%|██████▎   | 629/1000 [21:48<17:21,  2.81s/it]\u001b[A"
          ],
          "name": "stderr"
        },
        {
          "output_type": "stream",
          "text": [
            "(628, 20)\n"
          ],
          "name": "stdout"
        },
        {
          "output_type": "stream",
          "text": [
            "\n",
            " 63%|██████▎   | 630/1000 [21:50<16:31,  2.68s/it]\u001b[A"
          ],
          "name": "stderr"
        },
        {
          "output_type": "stream",
          "text": [
            "(629, 20)\n"
          ],
          "name": "stdout"
        },
        {
          "output_type": "stream",
          "text": [
            "\n",
            " 63%|██████▎   | 631/1000 [21:53<15:52,  2.58s/it]\u001b[A"
          ],
          "name": "stderr"
        },
        {
          "output_type": "stream",
          "text": [
            "(630, 20)\n"
          ],
          "name": "stdout"
        },
        {
          "output_type": "stream",
          "text": [
            "\n",
            " 63%|██████▎   | 632/1000 [21:55<15:13,  2.48s/it]\u001b[A"
          ],
          "name": "stderr"
        },
        {
          "output_type": "stream",
          "text": [
            "(631, 20)\n"
          ],
          "name": "stdout"
        },
        {
          "output_type": "stream",
          "text": [
            "\n",
            " 63%|██████▎   | 633/1000 [21:57<13:59,  2.29s/it]\u001b[A"
          ],
          "name": "stderr"
        },
        {
          "output_type": "stream",
          "text": [
            "(632, 20)\n"
          ],
          "name": "stdout"
        },
        {
          "output_type": "stream",
          "text": [
            "\n",
            " 63%|██████▎   | 634/1000 [21:59<14:18,  2.35s/it]\u001b[A"
          ],
          "name": "stderr"
        },
        {
          "output_type": "stream",
          "text": [
            "(633, 20)\n"
          ],
          "name": "stdout"
        },
        {
          "output_type": "stream",
          "text": [
            "\n",
            " 64%|██████▎   | 635/1000 [22:02<14:52,  2.45s/it]\u001b[A"
          ],
          "name": "stderr"
        },
        {
          "output_type": "stream",
          "text": [
            "(634, 20)\n"
          ],
          "name": "stdout"
        },
        {
          "output_type": "stream",
          "text": [
            "\n",
            " 64%|██████▎   | 636/1000 [22:06<18:15,  3.01s/it]\u001b[A"
          ],
          "name": "stderr"
        },
        {
          "output_type": "stream",
          "text": [
            "(635, 20)\n"
          ],
          "name": "stdout"
        },
        {
          "output_type": "stream",
          "text": [
            "\n",
            " 64%|██████▎   | 637/1000 [22:09<17:20,  2.87s/it]\u001b[A"
          ],
          "name": "stderr"
        },
        {
          "output_type": "stream",
          "text": [
            "(636, 20)\n"
          ],
          "name": "stdout"
        },
        {
          "output_type": "stream",
          "text": [
            "\n",
            " 64%|██████▍   | 638/1000 [22:11<16:22,  2.71s/it]\u001b[A"
          ],
          "name": "stderr"
        },
        {
          "output_type": "stream",
          "text": [
            "(637, 20)\n"
          ],
          "name": "stdout"
        },
        {
          "output_type": "stream",
          "text": [
            "\n",
            " 64%|██████▍   | 639/1000 [22:14<15:44,  2.62s/it]\u001b[A"
          ],
          "name": "stderr"
        },
        {
          "output_type": "stream",
          "text": [
            "(638, 20)\n"
          ],
          "name": "stdout"
        },
        {
          "output_type": "stream",
          "text": [
            "\n",
            " 64%|██████▍   | 640/1000 [22:16<15:06,  2.52s/it]\u001b[A"
          ],
          "name": "stderr"
        },
        {
          "output_type": "stream",
          "text": [
            "(639, 20)\n"
          ],
          "name": "stdout"
        },
        {
          "output_type": "stream",
          "text": [
            "\n",
            " 64%|██████▍   | 641/1000 [22:18<13:43,  2.29s/it]\u001b[A"
          ],
          "name": "stderr"
        },
        {
          "output_type": "stream",
          "text": [
            "(640, 20)\n"
          ],
          "name": "stdout"
        },
        {
          "output_type": "stream",
          "text": [
            "\n",
            " 64%|██████▍   | 642/1000 [22:20<13:41,  2.29s/it]\u001b[A"
          ],
          "name": "stderr"
        },
        {
          "output_type": "stream",
          "text": [
            "(641, 20)\n"
          ],
          "name": "stdout"
        },
        {
          "output_type": "stream",
          "text": [
            "\n",
            " 64%|██████▍   | 643/1000 [22:23<13:56,  2.34s/it]\u001b[A"
          ],
          "name": "stderr"
        },
        {
          "output_type": "stream",
          "text": [
            "(642, 20)\n"
          ],
          "name": "stdout"
        },
        {
          "output_type": "stream",
          "text": [
            "\n",
            " 64%|██████▍   | 644/1000 [22:25<14:05,  2.38s/it]\u001b[A"
          ],
          "name": "stderr"
        },
        {
          "output_type": "stream",
          "text": [
            "(643, 20)\n"
          ],
          "name": "stdout"
        },
        {
          "output_type": "stream",
          "text": [
            "\n",
            " 64%|██████▍   | 645/1000 [22:27<14:05,  2.38s/it]\u001b[A"
          ],
          "name": "stderr"
        },
        {
          "output_type": "stream",
          "text": [
            "(644, 20)\n"
          ],
          "name": "stdout"
        },
        {
          "output_type": "stream",
          "text": [
            "\n",
            " 65%|██████▍   | 646/1000 [22:30<13:57,  2.37s/it]\u001b[A"
          ],
          "name": "stderr"
        },
        {
          "output_type": "stream",
          "text": [
            "(645, 20)\n"
          ],
          "name": "stdout"
        },
        {
          "output_type": "stream",
          "text": [
            "\n",
            " 65%|██████▍   | 647/1000 [22:33<16:12,  2.75s/it]\u001b[A"
          ],
          "name": "stderr"
        },
        {
          "output_type": "stream",
          "text": [
            "(646, 20)\n"
          ],
          "name": "stdout"
        },
        {
          "output_type": "stream",
          "text": [
            "\n",
            " 65%|██████▍   | 648/1000 [22:36<16:08,  2.75s/it]\u001b[A"
          ],
          "name": "stderr"
        },
        {
          "output_type": "stream",
          "text": [
            "(647, 20)\n"
          ],
          "name": "stdout"
        },
        {
          "output_type": "stream",
          "text": [
            "\n",
            " 65%|██████▍   | 649/1000 [22:41<19:00,  3.25s/it]\u001b[A"
          ],
          "name": "stderr"
        },
        {
          "output_type": "stream",
          "text": [
            "(648, 20)\n"
          ],
          "name": "stdout"
        },
        {
          "output_type": "stream",
          "text": [
            "\n",
            " 65%|██████▌   | 650/1000 [22:45<20:50,  3.57s/it]\u001b[A"
          ],
          "name": "stderr"
        },
        {
          "output_type": "stream",
          "text": [
            "(649, 20)\n"
          ],
          "name": "stdout"
        },
        {
          "output_type": "stream",
          "text": [
            "\n",
            " 65%|██████▌   | 651/1000 [22:49<22:02,  3.79s/it]\u001b[A"
          ],
          "name": "stderr"
        },
        {
          "output_type": "stream",
          "text": [
            "(650, 20)\n"
          ],
          "name": "stdout"
        },
        {
          "output_type": "stream",
          "text": [
            "\n",
            " 65%|██████▌   | 652/1000 [22:51<19:29,  3.36s/it]\u001b[A"
          ],
          "name": "stderr"
        },
        {
          "output_type": "stream",
          "text": [
            "(651, 20)\n"
          ],
          "name": "stdout"
        },
        {
          "output_type": "stream",
          "text": [
            "\n",
            " 65%|██████▌   | 653/1000 [22:54<17:53,  3.09s/it]\u001b[A"
          ],
          "name": "stderr"
        },
        {
          "output_type": "stream",
          "text": [
            "(652, 20)\n"
          ],
          "name": "stdout"
        },
        {
          "output_type": "stream",
          "text": [
            "\n",
            " 65%|██████▌   | 654/1000 [22:57<18:11,  3.15s/it]\u001b[A"
          ],
          "name": "stderr"
        },
        {
          "output_type": "stream",
          "text": [
            "(653, 20)\n"
          ],
          "name": "stdout"
        },
        {
          "output_type": "stream",
          "text": [
            "\n",
            " 66%|██████▌   | 655/1000 [23:02<20:05,  3.50s/it]\u001b[A"
          ],
          "name": "stderr"
        },
        {
          "output_type": "stream",
          "text": [
            "(654, 20)\n"
          ],
          "name": "stdout"
        },
        {
          "output_type": "stream",
          "text": [
            "\n",
            " 66%|██████▌   | 656/1000 [23:04<18:00,  3.14s/it]\u001b[A"
          ],
          "name": "stderr"
        },
        {
          "output_type": "stream",
          "text": [
            "(655, 20)\n"
          ],
          "name": "stdout"
        },
        {
          "output_type": "stream",
          "text": [
            "\n",
            " 66%|██████▌   | 657/1000 [23:06<16:31,  2.89s/it]\u001b[A"
          ],
          "name": "stderr"
        },
        {
          "output_type": "stream",
          "text": [
            "(656, 20)\n"
          ],
          "name": "stdout"
        },
        {
          "output_type": "stream",
          "text": [
            "\n",
            " 66%|██████▌   | 658/1000 [23:11<19:16,  3.38s/it]\u001b[A"
          ],
          "name": "stderr"
        },
        {
          "output_type": "stream",
          "text": [
            "(657, 20)\n"
          ],
          "name": "stdout"
        },
        {
          "output_type": "stream",
          "text": [
            "\n",
            " 66%|██████▌   | 659/1000 [23:15<21:29,  3.78s/it]\u001b[A"
          ],
          "name": "stderr"
        },
        {
          "output_type": "stream",
          "text": [
            "(658, 20)\n"
          ],
          "name": "stdout"
        },
        {
          "output_type": "stream",
          "text": [
            "\n",
            " 66%|██████▌   | 660/1000 [23:18<18:57,  3.34s/it]\u001b[A"
          ],
          "name": "stderr"
        },
        {
          "output_type": "stream",
          "text": [
            "(659, 20)\n"
          ],
          "name": "stdout"
        },
        {
          "output_type": "stream",
          "text": [
            "\n",
            " 66%|██████▌   | 661/1000 [23:20<17:14,  3.05s/it]\u001b[A"
          ],
          "name": "stderr"
        },
        {
          "output_type": "stream",
          "text": [
            "(660, 20)\n"
          ],
          "name": "stdout"
        },
        {
          "output_type": "stream",
          "text": [
            "\n",
            " 66%|██████▌   | 662/1000 [23:22<16:01,  2.84s/it]\u001b[A"
          ],
          "name": "stderr"
        },
        {
          "output_type": "stream",
          "text": [
            "(661, 20)\n"
          ],
          "name": "stdout"
        },
        {
          "output_type": "stream",
          "text": [
            "\n",
            " 66%|██████▋   | 663/1000 [23:25<15:00,  2.67s/it]\u001b[A"
          ],
          "name": "stderr"
        },
        {
          "output_type": "stream",
          "text": [
            "(662, 20)\n"
          ],
          "name": "stdout"
        },
        {
          "output_type": "stream",
          "text": [
            "\n",
            " 66%|██████▋   | 664/1000 [23:27<14:23,  2.57s/it]\u001b[A"
          ],
          "name": "stderr"
        },
        {
          "output_type": "stream",
          "text": [
            "(663, 20)\n"
          ],
          "name": "stdout"
        },
        {
          "output_type": "stream",
          "text": [
            "\n",
            " 66%|██████▋   | 665/1000 [23:31<17:10,  3.08s/it]\u001b[A"
          ],
          "name": "stderr"
        },
        {
          "output_type": "stream",
          "text": [
            "(664, 20)\n"
          ],
          "name": "stdout"
        },
        {
          "output_type": "stream",
          "text": [
            "\n",
            " 67%|██████▋   | 666/1000 [23:34<15:43,  2.82s/it]\u001b[A"
          ],
          "name": "stderr"
        },
        {
          "output_type": "stream",
          "text": [
            "(665, 20)\n"
          ],
          "name": "stdout"
        },
        {
          "output_type": "stream",
          "text": [
            "\n",
            " 67%|██████▋   | 667/1000 [23:36<14:43,  2.65s/it]\u001b[A"
          ],
          "name": "stderr"
        },
        {
          "output_type": "stream",
          "text": [
            "(666, 20)\n"
          ],
          "name": "stdout"
        },
        {
          "output_type": "stream",
          "text": [
            "\n",
            " 67%|██████▋   | 668/1000 [23:38<14:07,  2.55s/it]\u001b[A"
          ],
          "name": "stderr"
        },
        {
          "output_type": "stream",
          "text": [
            "(667, 20)\n"
          ],
          "name": "stdout"
        },
        {
          "output_type": "stream",
          "text": [
            "\n",
            " 67%|██████▋   | 669/1000 [23:41<13:50,  2.51s/it]\u001b[A"
          ],
          "name": "stderr"
        },
        {
          "output_type": "stream",
          "text": [
            "(668, 20)\n"
          ],
          "name": "stdout"
        },
        {
          "output_type": "stream",
          "text": [
            "\n",
            " 67%|██████▋   | 670/1000 [23:44<14:42,  2.67s/it]\u001b[A"
          ],
          "name": "stderr"
        },
        {
          "output_type": "stream",
          "text": [
            "(669, 20)\n"
          ],
          "name": "stdout"
        },
        {
          "output_type": "stream",
          "text": [
            "\n",
            " 67%|██████▋   | 671/1000 [23:46<14:48,  2.70s/it]\u001b[A"
          ],
          "name": "stderr"
        },
        {
          "output_type": "stream",
          "text": [
            "(670, 20)\n"
          ],
          "name": "stdout"
        },
        {
          "output_type": "stream",
          "text": [
            "\n",
            " 67%|██████▋   | 672/1000 [23:50<16:32,  3.03s/it]\u001b[A"
          ],
          "name": "stderr"
        },
        {
          "output_type": "stream",
          "text": [
            "(671, 20)\n"
          ],
          "name": "stdout"
        },
        {
          "output_type": "stream",
          "text": [
            "\n",
            " 67%|██████▋   | 673/1000 [23:53<16:04,  2.95s/it]\u001b[A"
          ],
          "name": "stderr"
        },
        {
          "output_type": "stream",
          "text": [
            "(672, 20)\n"
          ],
          "name": "stdout"
        },
        {
          "output_type": "stream",
          "text": [
            "\n",
            " 67%|██████▋   | 674/1000 [23:55<14:54,  2.74s/it]\u001b[A"
          ],
          "name": "stderr"
        },
        {
          "output_type": "stream",
          "text": [
            "(673, 20)\n"
          ],
          "name": "stdout"
        },
        {
          "output_type": "stream",
          "text": [
            "\n",
            " 68%|██████▊   | 675/1000 [23:58<14:17,  2.64s/it]\u001b[A"
          ],
          "name": "stderr"
        },
        {
          "output_type": "stream",
          "text": [
            "(674, 20)\n"
          ],
          "name": "stdout"
        },
        {
          "output_type": "stream",
          "text": [
            "\n",
            " 68%|██████▊   | 676/1000 [24:00<13:58,  2.59s/it]\u001b[A"
          ],
          "name": "stderr"
        },
        {
          "output_type": "stream",
          "text": [
            "(675, 20)\n"
          ],
          "name": "stdout"
        },
        {
          "output_type": "stream",
          "text": [
            "\n",
            " 68%|██████▊   | 677/1000 [24:02<13:27,  2.50s/it]\u001b[A"
          ],
          "name": "stderr"
        },
        {
          "output_type": "stream",
          "text": [
            "(676, 20)\n"
          ],
          "name": "stdout"
        },
        {
          "output_type": "stream",
          "text": [
            "\n",
            " 68%|██████▊   | 678/1000 [24:05<13:04,  2.44s/it]\u001b[A"
          ],
          "name": "stderr"
        },
        {
          "output_type": "stream",
          "text": [
            "(677, 20)\n"
          ],
          "name": "stdout"
        },
        {
          "output_type": "stream",
          "text": [
            "\n",
            " 68%|██████▊   | 679/1000 [24:07<12:45,  2.39s/it]\u001b[A"
          ],
          "name": "stderr"
        },
        {
          "output_type": "stream",
          "text": [
            "(678, 20)\n"
          ],
          "name": "stdout"
        },
        {
          "output_type": "stream",
          "text": [
            "\n",
            " 68%|██████▊   | 680/1000 [24:10<14:22,  2.69s/it]\u001b[A"
          ],
          "name": "stderr"
        },
        {
          "output_type": "stream",
          "text": [
            "(679, 20)\n"
          ],
          "name": "stdout"
        },
        {
          "output_type": "stream",
          "text": [
            "\n",
            " 68%|██████▊   | 681/1000 [24:13<13:47,  2.59s/it]\u001b[A"
          ],
          "name": "stderr"
        },
        {
          "output_type": "stream",
          "text": [
            "(680, 20)\n"
          ],
          "name": "stdout"
        },
        {
          "output_type": "stream",
          "text": [
            "\n",
            " 68%|██████▊   | 682/1000 [24:15<13:08,  2.48s/it]\u001b[A"
          ],
          "name": "stderr"
        },
        {
          "output_type": "stream",
          "text": [
            "(681, 20)\n"
          ],
          "name": "stdout"
        },
        {
          "output_type": "stream",
          "text": [
            "\n",
            " 68%|██████▊   | 683/1000 [24:17<13:15,  2.51s/it]\u001b[A"
          ],
          "name": "stderr"
        },
        {
          "output_type": "stream",
          "text": [
            "(682, 20)\n"
          ],
          "name": "stdout"
        },
        {
          "output_type": "stream",
          "text": [
            "\n",
            " 68%|██████▊   | 684/1000 [24:20<12:52,  2.45s/it]\u001b[A"
          ],
          "name": "stderr"
        },
        {
          "output_type": "stream",
          "text": [
            "(683, 20)\n"
          ],
          "name": "stdout"
        },
        {
          "output_type": "stream",
          "text": [
            "\n",
            " 68%|██████▊   | 685/1000 [24:22<12:42,  2.42s/it]\u001b[A"
          ],
          "name": "stderr"
        },
        {
          "output_type": "stream",
          "text": [
            "(684, 20)\n"
          ],
          "name": "stdout"
        },
        {
          "output_type": "stream",
          "text": [
            "\n",
            " 69%|██████▊   | 686/1000 [24:25<13:45,  2.63s/it]\u001b[A"
          ],
          "name": "stderr"
        },
        {
          "output_type": "stream",
          "text": [
            "(685, 20)\n"
          ],
          "name": "stdout"
        },
        {
          "output_type": "stream",
          "text": [
            "\n",
            " 69%|██████▊   | 687/1000 [24:30<16:32,  3.17s/it]\u001b[A"
          ],
          "name": "stderr"
        },
        {
          "output_type": "stream",
          "text": [
            "(686, 20)\n"
          ],
          "name": "stdout"
        },
        {
          "output_type": "stream",
          "text": [
            "\n",
            " 69%|██████▉   | 688/1000 [24:32<15:38,  3.01s/it]\u001b[A"
          ],
          "name": "stderr"
        },
        {
          "output_type": "stream",
          "text": [
            "(687, 20)\n"
          ],
          "name": "stdout"
        },
        {
          "output_type": "stream",
          "text": [
            "\n",
            " 69%|██████▉   | 689/1000 [24:34<13:44,  2.65s/it]\u001b[A"
          ],
          "name": "stderr"
        },
        {
          "output_type": "stream",
          "text": [
            "(688, 20)\n"
          ],
          "name": "stdout"
        },
        {
          "output_type": "stream",
          "text": [
            "\n",
            " 69%|██████▉   | 690/1000 [24:36<13:10,  2.55s/it]\u001b[A"
          ],
          "name": "stderr"
        },
        {
          "output_type": "stream",
          "text": [
            "(689, 20)\n"
          ],
          "name": "stdout"
        },
        {
          "output_type": "stream",
          "text": [
            "\n",
            " 69%|██████▉   | 691/1000 [24:41<16:26,  3.19s/it]\u001b[A"
          ],
          "name": "stderr"
        },
        {
          "output_type": "stream",
          "text": [
            "(690, 20)\n"
          ],
          "name": "stdout"
        },
        {
          "output_type": "stream",
          "text": [
            "\n",
            " 69%|██████▉   | 692/1000 [24:43<15:02,  2.93s/it]\u001b[A"
          ],
          "name": "stderr"
        },
        {
          "output_type": "stream",
          "text": [
            "(691, 20)\n"
          ],
          "name": "stdout"
        },
        {
          "output_type": "stream",
          "text": [
            "\n",
            " 69%|██████▉   | 693/1000 [24:46<13:57,  2.73s/it]\u001b[A"
          ],
          "name": "stderr"
        },
        {
          "output_type": "stream",
          "text": [
            "(692, 20)\n"
          ],
          "name": "stdout"
        },
        {
          "output_type": "stream",
          "text": [
            "\n",
            " 69%|██████▉   | 694/1000 [24:48<13:04,  2.56s/it]\u001b[A"
          ],
          "name": "stderr"
        },
        {
          "output_type": "stream",
          "text": [
            "(693, 20)\n"
          ],
          "name": "stdout"
        },
        {
          "output_type": "stream",
          "text": [
            "\n",
            " 70%|██████▉   | 695/1000 [24:51<13:25,  2.64s/it]\u001b[A"
          ],
          "name": "stderr"
        },
        {
          "output_type": "stream",
          "text": [
            "(694, 20)\n"
          ],
          "name": "stdout"
        },
        {
          "output_type": "stream",
          "text": [
            "\n",
            " 70%|██████▉   | 696/1000 [24:53<13:01,  2.57s/it]\u001b[A"
          ],
          "name": "stderr"
        },
        {
          "output_type": "stream",
          "text": [
            "(695, 20)\n"
          ],
          "name": "stdout"
        },
        {
          "output_type": "stream",
          "text": [
            "\n",
            " 70%|██████▉   | 697/1000 [24:56<12:49,  2.54s/it]\u001b[A"
          ],
          "name": "stderr"
        },
        {
          "output_type": "stream",
          "text": [
            "(696, 20)\n"
          ],
          "name": "stdout"
        },
        {
          "output_type": "stream",
          "text": [
            "\n",
            " 70%|██████▉   | 698/1000 [24:58<12:18,  2.44s/it]\u001b[A"
          ],
          "name": "stderr"
        },
        {
          "output_type": "stream",
          "text": [
            "(697, 20)\n"
          ],
          "name": "stdout"
        },
        {
          "output_type": "stream",
          "text": [
            "\n",
            " 70%|██████▉   | 699/1000 [25:01<13:41,  2.73s/it]\u001b[A"
          ],
          "name": "stderr"
        },
        {
          "output_type": "stream",
          "text": [
            "(698, 20)\n"
          ],
          "name": "stdout"
        },
        {
          "output_type": "stream",
          "text": [
            "\n",
            " 70%|███████   | 700/1000 [25:06<16:08,  3.23s/it]\u001b[A"
          ],
          "name": "stderr"
        },
        {
          "output_type": "stream",
          "text": [
            "(699, 20)\n"
          ],
          "name": "stdout"
        },
        {
          "output_type": "stream",
          "text": [
            "\n",
            " 70%|███████   | 701/1000 [25:08<15:10,  3.04s/it]\u001b[A"
          ],
          "name": "stderr"
        },
        {
          "output_type": "stream",
          "text": [
            "(700, 20)\n"
          ],
          "name": "stdout"
        },
        {
          "output_type": "stream",
          "text": [
            "\n",
            " 70%|███████   | 702/1000 [25:10<14:00,  2.82s/it]\u001b[A"
          ],
          "name": "stderr"
        },
        {
          "output_type": "stream",
          "text": [
            "(701, 20)\n"
          ],
          "name": "stdout"
        },
        {
          "output_type": "stream",
          "text": [
            "\n",
            " 70%|███████   | 703/1000 [25:13<13:20,  2.70s/it]\u001b[A"
          ],
          "name": "stderr"
        },
        {
          "output_type": "stream",
          "text": [
            "(702, 20)\n"
          ],
          "name": "stdout"
        },
        {
          "output_type": "stream",
          "text": [
            "\n",
            " 70%|███████   | 704/1000 [25:17<15:42,  3.18s/it]\u001b[A"
          ],
          "name": "stderr"
        },
        {
          "output_type": "stream",
          "text": [
            "(703, 20)\n"
          ],
          "name": "stdout"
        },
        {
          "output_type": "stream",
          "text": [
            "\n",
            " 70%|███████   | 705/1000 [25:20<15:14,  3.10s/it]\u001b[A"
          ],
          "name": "stderr"
        },
        {
          "output_type": "stream",
          "text": [
            "(704, 20)\n"
          ],
          "name": "stdout"
        },
        {
          "output_type": "stream",
          "text": [
            "\n",
            " 71%|███████   | 706/1000 [25:23<15:07,  3.09s/it]\u001b[A"
          ],
          "name": "stderr"
        },
        {
          "output_type": "stream",
          "text": [
            "(705, 20)\n"
          ],
          "name": "stdout"
        },
        {
          "output_type": "stream",
          "text": [
            "\n",
            " 71%|███████   | 707/1000 [25:25<13:54,  2.85s/it]\u001b[A"
          ],
          "name": "stderr"
        },
        {
          "output_type": "stream",
          "text": [
            "(706, 20)\n"
          ],
          "name": "stdout"
        },
        {
          "output_type": "stream",
          "text": [
            "\n",
            " 71%|███████   | 708/1000 [25:28<13:25,  2.76s/it]\u001b[A"
          ],
          "name": "stderr"
        },
        {
          "output_type": "stream",
          "text": [
            "(707, 20)\n"
          ],
          "name": "stdout"
        },
        {
          "output_type": "stream",
          "text": [
            "\n",
            " 71%|███████   | 709/1000 [25:31<13:11,  2.72s/it]\u001b[A"
          ],
          "name": "stderr"
        },
        {
          "output_type": "stream",
          "text": [
            "(708, 20)\n"
          ],
          "name": "stdout"
        },
        {
          "output_type": "stream",
          "text": [
            "\n",
            " 71%|███████   | 710/1000 [25:33<13:09,  2.72s/it]\u001b[A"
          ],
          "name": "stderr"
        },
        {
          "output_type": "stream",
          "text": [
            "(709, 20)\n"
          ],
          "name": "stdout"
        },
        {
          "output_type": "stream",
          "text": [
            "\n",
            " 71%|███████   | 711/1000 [25:37<13:47,  2.86s/it]\u001b[A"
          ],
          "name": "stderr"
        },
        {
          "output_type": "stream",
          "text": [
            "(710, 20)\n"
          ],
          "name": "stdout"
        },
        {
          "output_type": "stream",
          "text": [
            "\n",
            " 71%|███████   | 712/1000 [25:40<15:14,  3.18s/it]\u001b[A"
          ],
          "name": "stderr"
        },
        {
          "output_type": "stream",
          "text": [
            "(711, 20)\n"
          ],
          "name": "stdout"
        },
        {
          "output_type": "stream",
          "text": [
            "\n",
            " 71%|███████▏  | 713/1000 [25:43<13:54,  2.91s/it]\u001b[A"
          ],
          "name": "stderr"
        },
        {
          "output_type": "stream",
          "text": [
            "(712, 20)\n"
          ],
          "name": "stdout"
        },
        {
          "output_type": "stream",
          "text": [
            "\n",
            " 71%|███████▏  | 714/1000 [25:47<15:05,  3.17s/it]\u001b[A"
          ],
          "name": "stderr"
        },
        {
          "output_type": "stream",
          "text": [
            "(713, 20)\n"
          ],
          "name": "stdout"
        },
        {
          "output_type": "stream",
          "text": [
            "\n",
            " 72%|███████▏  | 715/1000 [25:49<14:06,  2.97s/it]\u001b[A"
          ],
          "name": "stderr"
        },
        {
          "output_type": "stream",
          "text": [
            "(714, 20)\n"
          ],
          "name": "stdout"
        },
        {
          "output_type": "stream",
          "text": [
            "\n",
            " 72%|███████▏  | 716/1000 [25:52<13:43,  2.90s/it]\u001b[A"
          ],
          "name": "stderr"
        },
        {
          "output_type": "stream",
          "text": [
            "(715, 20)\n"
          ],
          "name": "stdout"
        },
        {
          "output_type": "stream",
          "text": [
            "\n",
            " 72%|███████▏  | 717/1000 [25:55<14:28,  3.07s/it]\u001b[A"
          ],
          "name": "stderr"
        },
        {
          "output_type": "stream",
          "text": [
            "(716, 20)\n"
          ],
          "name": "stdout"
        },
        {
          "output_type": "stream",
          "text": [
            "\n",
            " 72%|███████▏  | 718/1000 [25:58<14:23,  3.06s/it]\u001b[A"
          ],
          "name": "stderr"
        },
        {
          "output_type": "stream",
          "text": [
            "(717, 20)\n"
          ],
          "name": "stdout"
        },
        {
          "output_type": "stream",
          "text": [
            "\n",
            " 72%|███████▏  | 719/1000 [26:01<13:38,  2.91s/it]\u001b[A"
          ],
          "name": "stderr"
        },
        {
          "output_type": "stream",
          "text": [
            "(718, 20)\n"
          ],
          "name": "stdout"
        },
        {
          "output_type": "stream",
          "text": [
            "\n",
            " 72%|███████▏  | 720/1000 [26:03<12:50,  2.75s/it]\u001b[A"
          ],
          "name": "stderr"
        },
        {
          "output_type": "stream",
          "text": [
            "(719, 20)\n"
          ],
          "name": "stdout"
        },
        {
          "output_type": "stream",
          "text": [
            "\n",
            " 72%|███████▏  | 721/1000 [26:07<13:37,  2.93s/it]\u001b[A"
          ],
          "name": "stderr"
        },
        {
          "output_type": "stream",
          "text": [
            "(720, 20)\n"
          ],
          "name": "stdout"
        },
        {
          "output_type": "stream",
          "text": [
            "\n",
            " 72%|███████▏  | 722/1000 [26:09<12:59,  2.80s/it]\u001b[A"
          ],
          "name": "stderr"
        },
        {
          "output_type": "stream",
          "text": [
            "(721, 20)\n"
          ],
          "name": "stdout"
        },
        {
          "output_type": "stream",
          "text": [
            "\n",
            " 72%|███████▏  | 723/1000 [26:11<12:23,  2.69s/it]\u001b[A"
          ],
          "name": "stderr"
        },
        {
          "output_type": "stream",
          "text": [
            "(722, 20)\n"
          ],
          "name": "stdout"
        },
        {
          "output_type": "stream",
          "text": [
            "\n",
            " 72%|███████▏  | 724/1000 [26:14<11:59,  2.61s/it]\u001b[A"
          ],
          "name": "stderr"
        },
        {
          "output_type": "stream",
          "text": [
            "(723, 20)\n"
          ],
          "name": "stdout"
        },
        {
          "output_type": "stream",
          "text": [
            "\n",
            " 72%|███████▎  | 725/1000 [26:18<14:22,  3.14s/it]\u001b[A"
          ],
          "name": "stderr"
        },
        {
          "output_type": "stream",
          "text": [
            "(724, 20)\n"
          ],
          "name": "stdout"
        },
        {
          "output_type": "stream",
          "text": [
            "\n",
            " 73%|███████▎  | 726/1000 [26:21<13:11,  2.89s/it]\u001b[A"
          ],
          "name": "stderr"
        },
        {
          "output_type": "stream",
          "text": [
            "(725, 20)\n"
          ],
          "name": "stdout"
        },
        {
          "output_type": "stream",
          "text": [
            "\n",
            " 73%|███████▎  | 727/1000 [26:23<12:51,  2.83s/it]\u001b[A"
          ],
          "name": "stderr"
        },
        {
          "output_type": "stream",
          "text": [
            "(726, 20)\n"
          ],
          "name": "stdout"
        },
        {
          "output_type": "stream",
          "text": [
            "\n",
            " 73%|███████▎  | 728/1000 [26:26<12:59,  2.87s/it]\u001b[A"
          ],
          "name": "stderr"
        },
        {
          "output_type": "stream",
          "text": [
            "(727, 20)\n"
          ],
          "name": "stdout"
        },
        {
          "output_type": "stream",
          "text": [
            "\n",
            " 73%|███████▎  | 729/1000 [26:28<11:53,  2.63s/it]\u001b[A"
          ],
          "name": "stderr"
        },
        {
          "output_type": "stream",
          "text": [
            "(728, 20)\n"
          ],
          "name": "stdout"
        },
        {
          "output_type": "stream",
          "text": [
            "\n",
            " 73%|███████▎  | 730/1000 [26:31<11:28,  2.55s/it]\u001b[A"
          ],
          "name": "stderr"
        },
        {
          "output_type": "stream",
          "text": [
            "(729, 20)\n"
          ],
          "name": "stdout"
        },
        {
          "output_type": "stream",
          "text": [
            "\n",
            " 73%|███████▎  | 731/1000 [26:33<11:15,  2.51s/it]\u001b[A"
          ],
          "name": "stderr"
        },
        {
          "output_type": "stream",
          "text": [
            "(730, 20)\n"
          ],
          "name": "stdout"
        },
        {
          "output_type": "stream",
          "text": [
            "\n",
            " 73%|███████▎  | 732/1000 [26:35<10:53,  2.44s/it]\u001b[A"
          ],
          "name": "stderr"
        },
        {
          "output_type": "stream",
          "text": [
            "(731, 20)\n"
          ],
          "name": "stdout"
        },
        {
          "output_type": "stream",
          "text": [
            "\n",
            " 73%|███████▎  | 733/1000 [26:38<11:00,  2.48s/it]\u001b[A"
          ],
          "name": "stderr"
        },
        {
          "output_type": "stream",
          "text": [
            "(732, 20)\n"
          ],
          "name": "stdout"
        },
        {
          "output_type": "stream",
          "text": [
            "\n",
            " 73%|███████▎  | 734/1000 [26:41<11:08,  2.51s/it]\u001b[A"
          ],
          "name": "stderr"
        },
        {
          "output_type": "stream",
          "text": [
            "(733, 20)\n"
          ],
          "name": "stdout"
        },
        {
          "output_type": "stream",
          "text": [
            "\n",
            " 74%|███████▎  | 735/1000 [26:43<10:51,  2.46s/it]\u001b[A"
          ],
          "name": "stderr"
        },
        {
          "output_type": "stream",
          "text": [
            "(734, 20)\n"
          ],
          "name": "stdout"
        },
        {
          "output_type": "stream",
          "text": [
            "\n",
            " 74%|███████▎  | 736/1000 [26:45<10:36,  2.41s/it]\u001b[A"
          ],
          "name": "stderr"
        },
        {
          "output_type": "stream",
          "text": [
            "(735, 20)\n"
          ],
          "name": "stdout"
        },
        {
          "output_type": "stream",
          "text": [
            "\n",
            " 74%|███████▎  | 737/1000 [26:49<11:47,  2.69s/it]\u001b[A"
          ],
          "name": "stderr"
        },
        {
          "output_type": "stream",
          "text": [
            "(736, 20)\n"
          ],
          "name": "stdout"
        },
        {
          "output_type": "stream",
          "text": [
            "\n",
            " 74%|███████▍  | 738/1000 [26:51<11:38,  2.67s/it]\u001b[A"
          ],
          "name": "stderr"
        },
        {
          "output_type": "stream",
          "text": [
            "(737, 20)\n"
          ],
          "name": "stdout"
        },
        {
          "output_type": "stream",
          "text": [
            "\n",
            " 74%|███████▍  | 739/1000 [26:53<10:23,  2.39s/it]\u001b[A"
          ],
          "name": "stderr"
        },
        {
          "output_type": "stream",
          "text": [
            "(738, 20)\n"
          ],
          "name": "stdout"
        },
        {
          "output_type": "stream",
          "text": [
            "\n",
            " 74%|███████▍  | 740/1000 [26:55<10:22,  2.40s/it]\u001b[A"
          ],
          "name": "stderr"
        },
        {
          "output_type": "stream",
          "text": [
            "(739, 20)\n"
          ],
          "name": "stdout"
        },
        {
          "output_type": "stream",
          "text": [
            "\n",
            " 74%|███████▍  | 741/1000 [26:58<10:20,  2.39s/it]\u001b[A"
          ],
          "name": "stderr"
        },
        {
          "output_type": "stream",
          "text": [
            "(740, 20)\n"
          ],
          "name": "stdout"
        },
        {
          "output_type": "stream",
          "text": [
            "\n",
            " 74%|███████▍  | 742/1000 [27:02<12:51,  2.99s/it]\u001b[A"
          ],
          "name": "stderr"
        },
        {
          "output_type": "stream",
          "text": [
            "(741, 20)\n"
          ],
          "name": "stdout"
        },
        {
          "output_type": "stream",
          "text": [
            "\n",
            " 74%|███████▍  | 743/1000 [27:04<12:02,  2.81s/it]\u001b[A"
          ],
          "name": "stderr"
        },
        {
          "output_type": "stream",
          "text": [
            "(742, 20)\n"
          ],
          "name": "stdout"
        },
        {
          "output_type": "stream",
          "text": [
            "\n",
            " 74%|███████▍  | 744/1000 [27:07<11:23,  2.67s/it]\u001b[A"
          ],
          "name": "stderr"
        },
        {
          "output_type": "stream",
          "text": [
            "(743, 20)\n"
          ],
          "name": "stdout"
        },
        {
          "output_type": "stream",
          "text": [
            "\n",
            " 74%|███████▍  | 745/1000 [27:09<10:59,  2.59s/it]\u001b[A"
          ],
          "name": "stderr"
        },
        {
          "output_type": "stream",
          "text": [
            "(744, 20)\n"
          ],
          "name": "stdout"
        },
        {
          "output_type": "stream",
          "text": [
            "\n",
            " 75%|███████▍  | 746/1000 [27:12<10:51,  2.57s/it]\u001b[A"
          ],
          "name": "stderr"
        },
        {
          "output_type": "stream",
          "text": [
            "(745, 20)\n"
          ],
          "name": "stdout"
        },
        {
          "output_type": "stream",
          "text": [
            "\n",
            " 75%|███████▍  | 747/1000 [27:14<10:43,  2.55s/it]\u001b[A"
          ],
          "name": "stderr"
        },
        {
          "output_type": "stream",
          "text": [
            "(746, 20)\n"
          ],
          "name": "stdout"
        },
        {
          "output_type": "stream",
          "text": [
            "\n",
            " 75%|███████▍  | 748/1000 [27:17<10:38,  2.54s/it]\u001b[A"
          ],
          "name": "stderr"
        },
        {
          "output_type": "stream",
          "text": [
            "(747, 20)\n"
          ],
          "name": "stdout"
        },
        {
          "output_type": "stream",
          "text": [
            "\n",
            " 75%|███████▍  | 749/1000 [27:19<10:15,  2.45s/it]\u001b[A"
          ],
          "name": "stderr"
        },
        {
          "output_type": "stream",
          "text": [
            "(748, 20)\n"
          ],
          "name": "stdout"
        },
        {
          "output_type": "stream",
          "text": [
            "\n",
            " 75%|███████▌  | 750/1000 [27:21<10:03,  2.41s/it]\u001b[A"
          ],
          "name": "stderr"
        },
        {
          "output_type": "stream",
          "text": [
            "(749, 20)\n"
          ],
          "name": "stdout"
        },
        {
          "output_type": "stream",
          "text": [
            "\n",
            " 75%|███████▌  | 751/1000 [27:28<15:03,  3.63s/it]\u001b[A"
          ],
          "name": "stderr"
        },
        {
          "output_type": "stream",
          "text": [
            "(750, 20)\n"
          ],
          "name": "stdout"
        },
        {
          "output_type": "stream",
          "text": [
            "\n",
            " 75%|███████▌  | 752/1000 [27:30<13:07,  3.17s/it]\u001b[A"
          ],
          "name": "stderr"
        },
        {
          "output_type": "stream",
          "text": [
            "(751, 20)\n"
          ],
          "name": "stdout"
        },
        {
          "output_type": "stream",
          "text": [
            "\n",
            " 75%|███████▌  | 753/1000 [27:32<11:52,  2.88s/it]\u001b[A"
          ],
          "name": "stderr"
        },
        {
          "output_type": "stream",
          "text": [
            "(752, 20)\n"
          ],
          "name": "stdout"
        },
        {
          "output_type": "stream",
          "text": [
            "\n",
            " 75%|███████▌  | 754/1000 [27:34<11:08,  2.72s/it]\u001b[A"
          ],
          "name": "stderr"
        },
        {
          "output_type": "stream",
          "text": [
            "(753, 20)\n"
          ],
          "name": "stdout"
        },
        {
          "output_type": "stream",
          "text": [
            "\n",
            " 76%|███████▌  | 755/1000 [27:37<10:43,  2.63s/it]\u001b[A"
          ],
          "name": "stderr"
        },
        {
          "output_type": "stream",
          "text": [
            "(754, 20)\n"
          ],
          "name": "stdout"
        },
        {
          "output_type": "stream",
          "text": [
            "\n",
            " 76%|███████▌  | 756/1000 [27:42<14:10,  3.49s/it]\u001b[A"
          ],
          "name": "stderr"
        },
        {
          "output_type": "stream",
          "text": [
            "(755, 20)\n"
          ],
          "name": "stdout"
        },
        {
          "output_type": "stream",
          "text": [
            "\n",
            " 76%|███████▌  | 757/1000 [27:45<12:57,  3.20s/it]\u001b[A"
          ],
          "name": "stderr"
        },
        {
          "output_type": "stream",
          "text": [
            "(756, 20)\n"
          ],
          "name": "stdout"
        },
        {
          "output_type": "stream",
          "text": [
            "\n",
            " 76%|███████▌  | 758/1000 [27:47<12:01,  2.98s/it]\u001b[A"
          ],
          "name": "stderr"
        },
        {
          "output_type": "stream",
          "text": [
            "(757, 20)\n"
          ],
          "name": "stdout"
        },
        {
          "output_type": "stream",
          "text": [
            "\n",
            " 76%|███████▌  | 759/1000 [27:50<11:08,  2.77s/it]\u001b[A"
          ],
          "name": "stderr"
        },
        {
          "output_type": "stream",
          "text": [
            "(758, 20)\n"
          ],
          "name": "stdout"
        },
        {
          "output_type": "stream",
          "text": [
            "\n",
            " 76%|███████▌  | 760/1000 [27:52<10:50,  2.71s/it]\u001b[A"
          ],
          "name": "stderr"
        },
        {
          "output_type": "stream",
          "text": [
            "(759, 20)\n"
          ],
          "name": "stdout"
        },
        {
          "output_type": "stream",
          "text": [
            "\n",
            " 76%|███████▌  | 761/1000 [27:56<12:37,  3.17s/it]\u001b[A"
          ],
          "name": "stderr"
        },
        {
          "output_type": "stream",
          "text": [
            "(760, 20)\n"
          ],
          "name": "stdout"
        },
        {
          "output_type": "stream",
          "text": [
            "\n",
            " 76%|███████▌  | 762/1000 [27:59<11:37,  2.93s/it]\u001b[A"
          ],
          "name": "stderr"
        },
        {
          "output_type": "stream",
          "text": [
            "(761, 20)\n"
          ],
          "name": "stdout"
        },
        {
          "output_type": "stream",
          "text": [
            "\n",
            " 76%|███████▋  | 763/1000 [28:02<12:06,  3.06s/it]\u001b[A"
          ],
          "name": "stderr"
        },
        {
          "output_type": "stream",
          "text": [
            "(762, 20)\n"
          ],
          "name": "stdout"
        },
        {
          "output_type": "stream",
          "text": [
            "\n",
            " 76%|███████▋  | 764/1000 [28:05<11:28,  2.92s/it]\u001b[A"
          ],
          "name": "stderr"
        },
        {
          "output_type": "stream",
          "text": [
            "(763, 20)\n"
          ],
          "name": "stdout"
        },
        {
          "output_type": "stream",
          "text": [
            "\n",
            " 76%|███████▋  | 765/1000 [28:07<10:48,  2.76s/it]\u001b[A"
          ],
          "name": "stderr"
        },
        {
          "output_type": "stream",
          "text": [
            "(764, 20)\n"
          ],
          "name": "stdout"
        },
        {
          "output_type": "stream",
          "text": [
            "\n",
            " 77%|███████▋  | 766/1000 [28:10<10:36,  2.72s/it]\u001b[A"
          ],
          "name": "stderr"
        },
        {
          "output_type": "stream",
          "text": [
            "(765, 20)\n"
          ],
          "name": "stdout"
        },
        {
          "output_type": "stream",
          "text": [
            "\n",
            " 77%|███████▋  | 767/1000 [28:12<10:03,  2.59s/it]\u001b[A"
          ],
          "name": "stderr"
        },
        {
          "output_type": "stream",
          "text": [
            "(766, 20)\n"
          ],
          "name": "stdout"
        },
        {
          "output_type": "stream",
          "text": [
            "\n",
            " 77%|███████▋  | 768/1000 [28:17<13:02,  3.37s/it]\u001b[A"
          ],
          "name": "stderr"
        },
        {
          "output_type": "stream",
          "text": [
            "(767, 20)\n"
          ],
          "name": "stdout"
        },
        {
          "output_type": "stream",
          "text": [
            "\n",
            " 77%|███████▋  | 769/1000 [28:20<11:45,  3.05s/it]\u001b[A"
          ],
          "name": "stderr"
        },
        {
          "output_type": "stream",
          "text": [
            "(768, 20)\n"
          ],
          "name": "stdout"
        },
        {
          "output_type": "stream",
          "text": [
            "\n",
            " 77%|███████▋  | 770/1000 [28:22<10:47,  2.81s/it]\u001b[A"
          ],
          "name": "stderr"
        },
        {
          "output_type": "stream",
          "text": [
            "(769, 20)\n"
          ],
          "name": "stdout"
        },
        {
          "output_type": "stream",
          "text": [
            "\n",
            " 77%|███████▋  | 771/1000 [28:24<10:08,  2.66s/it]\u001b[A"
          ],
          "name": "stderr"
        },
        {
          "output_type": "stream",
          "text": [
            "(770, 20)\n"
          ],
          "name": "stdout"
        },
        {
          "output_type": "stream",
          "text": [
            "\n",
            " 77%|███████▋  | 772/1000 [28:27<09:54,  2.61s/it]\u001b[A"
          ],
          "name": "stderr"
        },
        {
          "output_type": "stream",
          "text": [
            "(771, 20)\n"
          ],
          "name": "stdout"
        },
        {
          "output_type": "stream",
          "text": [
            "\n",
            " 77%|███████▋  | 773/1000 [28:29<09:38,  2.55s/it]\u001b[A"
          ],
          "name": "stderr"
        },
        {
          "output_type": "stream",
          "text": [
            "(772, 20)\n"
          ],
          "name": "stdout"
        },
        {
          "output_type": "stream",
          "text": [
            "\n",
            " 77%|███████▋  | 774/1000 [28:31<09:20,  2.48s/it]\u001b[A"
          ],
          "name": "stderr"
        },
        {
          "output_type": "stream",
          "text": [
            "(773, 20)\n"
          ],
          "name": "stdout"
        },
        {
          "output_type": "stream",
          "text": [
            "\n",
            " 78%|███████▊  | 775/1000 [28:34<09:03,  2.42s/it]\u001b[A"
          ],
          "name": "stderr"
        },
        {
          "output_type": "stream",
          "text": [
            "(774, 20)\n"
          ],
          "name": "stdout"
        },
        {
          "output_type": "stream",
          "text": [
            "\n",
            " 78%|███████▊  | 776/1000 [28:36<08:59,  2.41s/it]\u001b[A"
          ],
          "name": "stderr"
        },
        {
          "output_type": "stream",
          "text": [
            "(775, 20)\n"
          ],
          "name": "stdout"
        },
        {
          "output_type": "stream",
          "text": [
            "\n",
            " 78%|███████▊  | 777/1000 [28:38<08:34,  2.31s/it]\u001b[A"
          ],
          "name": "stderr"
        },
        {
          "output_type": "stream",
          "text": [
            "(776, 20)\n"
          ],
          "name": "stdout"
        },
        {
          "output_type": "stream",
          "text": [
            "\n",
            " 78%|███████▊  | 778/1000 [28:40<08:34,  2.32s/it]\u001b[A"
          ],
          "name": "stderr"
        },
        {
          "output_type": "stream",
          "text": [
            "(777, 20)\n"
          ],
          "name": "stdout"
        },
        {
          "output_type": "stream",
          "text": [
            "\n",
            " 78%|███████▊  | 779/1000 [28:43<08:29,  2.30s/it]\u001b[A"
          ],
          "name": "stderr"
        },
        {
          "output_type": "stream",
          "text": [
            "(778, 20)\n"
          ],
          "name": "stdout"
        },
        {
          "output_type": "stream",
          "text": [
            "\n",
            " 78%|███████▊  | 780/1000 [28:45<08:39,  2.36s/it]\u001b[A"
          ],
          "name": "stderr"
        },
        {
          "output_type": "stream",
          "text": [
            "(779, 20)\n"
          ],
          "name": "stdout"
        },
        {
          "output_type": "stream",
          "text": [
            "\n",
            " 78%|███████▊  | 781/1000 [28:49<10:48,  2.96s/it]\u001b[A"
          ],
          "name": "stderr"
        },
        {
          "output_type": "stream",
          "text": [
            "(780, 20)\n"
          ],
          "name": "stdout"
        },
        {
          "output_type": "stream",
          "text": [
            "\n",
            " 78%|███████▊  | 782/1000 [28:52<10:01,  2.76s/it]\u001b[A"
          ],
          "name": "stderr"
        },
        {
          "output_type": "stream",
          "text": [
            "(781, 20)\n"
          ],
          "name": "stdout"
        },
        {
          "output_type": "stream",
          "text": [
            "\n",
            " 78%|███████▊  | 783/1000 [28:54<09:45,  2.70s/it]\u001b[A"
          ],
          "name": "stderr"
        },
        {
          "output_type": "stream",
          "text": [
            "(782, 20)\n"
          ],
          "name": "stdout"
        },
        {
          "output_type": "stream",
          "text": [
            "\n",
            " 78%|███████▊  | 784/1000 [28:57<10:03,  2.79s/it]\u001b[A"
          ],
          "name": "stderr"
        },
        {
          "output_type": "stream",
          "text": [
            "(783, 20)\n"
          ],
          "name": "stdout"
        },
        {
          "output_type": "stream",
          "text": [
            "\n",
            " 78%|███████▊  | 785/1000 [29:00<09:44,  2.72s/it]\u001b[A"
          ],
          "name": "stderr"
        },
        {
          "output_type": "stream",
          "text": [
            "(784, 20)\n"
          ],
          "name": "stdout"
        },
        {
          "output_type": "stream",
          "text": [
            "\n",
            " 79%|███████▊  | 786/1000 [29:04<11:23,  3.19s/it]\u001b[A"
          ],
          "name": "stderr"
        },
        {
          "output_type": "stream",
          "text": [
            "(785, 20)\n"
          ],
          "name": "stdout"
        },
        {
          "output_type": "stream",
          "text": [
            "\n",
            " 79%|███████▊  | 787/1000 [29:09<12:38,  3.56s/it]\u001b[A"
          ],
          "name": "stderr"
        },
        {
          "output_type": "stream",
          "text": [
            "(786, 20)\n"
          ],
          "name": "stdout"
        },
        {
          "output_type": "stream",
          "text": [
            "\n",
            " 79%|███████▉  | 788/1000 [29:11<11:19,  3.21s/it]\u001b[A"
          ],
          "name": "stderr"
        },
        {
          "output_type": "stream",
          "text": [
            "(787, 20)\n"
          ],
          "name": "stdout"
        },
        {
          "output_type": "stream",
          "text": [
            "\n",
            " 79%|███████▉  | 789/1000 [29:13<10:15,  2.92s/it]\u001b[A"
          ],
          "name": "stderr"
        },
        {
          "output_type": "stream",
          "text": [
            "(788, 20)\n"
          ],
          "name": "stdout"
        },
        {
          "output_type": "stream",
          "text": [
            "\n",
            " 79%|███████▉  | 790/1000 [29:16<10:32,  3.01s/it]\u001b[A"
          ],
          "name": "stderr"
        },
        {
          "output_type": "stream",
          "text": [
            "(789, 20)\n"
          ],
          "name": "stdout"
        },
        {
          "output_type": "stream",
          "text": [
            "\n",
            " 79%|███████▉  | 791/1000 [29:19<09:50,  2.83s/it]\u001b[A"
          ],
          "name": "stderr"
        },
        {
          "output_type": "stream",
          "text": [
            "(790, 20)\n"
          ],
          "name": "stdout"
        },
        {
          "output_type": "stream",
          "text": [
            "\n",
            " 79%|███████▉  | 792/1000 [29:21<09:19,  2.69s/it]\u001b[A"
          ],
          "name": "stderr"
        },
        {
          "output_type": "stream",
          "text": [
            "(791, 20)\n"
          ],
          "name": "stdout"
        },
        {
          "output_type": "stream",
          "text": [
            "\n",
            " 79%|███████▉  | 793/1000 [29:24<09:07,  2.64s/it]\u001b[A"
          ],
          "name": "stderr"
        },
        {
          "output_type": "stream",
          "text": [
            "(792, 20)\n"
          ],
          "name": "stdout"
        },
        {
          "output_type": "stream",
          "text": [
            "\n",
            " 79%|███████▉  | 794/1000 [29:27<09:11,  2.68s/it]\u001b[A"
          ],
          "name": "stderr"
        },
        {
          "output_type": "stream",
          "text": [
            "(793, 20)\n"
          ],
          "name": "stdout"
        },
        {
          "output_type": "stream",
          "text": [
            "\n",
            " 80%|███████▉  | 795/1000 [29:29<09:07,  2.67s/it]\u001b[A"
          ],
          "name": "stderr"
        },
        {
          "output_type": "stream",
          "text": [
            "(794, 20)\n"
          ],
          "name": "stdout"
        },
        {
          "output_type": "stream",
          "text": [
            "\n",
            " 80%|███████▉  | 796/1000 [29:32<08:50,  2.60s/it]\u001b[A"
          ],
          "name": "stderr"
        },
        {
          "output_type": "stream",
          "text": [
            "(795, 20)\n"
          ],
          "name": "stdout"
        },
        {
          "output_type": "stream",
          "text": [
            "\n",
            " 80%|███████▉  | 797/1000 [29:34<08:42,  2.57s/it]\u001b[A"
          ],
          "name": "stderr"
        },
        {
          "output_type": "stream",
          "text": [
            "(796, 20)\n"
          ],
          "name": "stdout"
        },
        {
          "output_type": "stream",
          "text": [
            "\n",
            " 80%|███████▉  | 798/1000 [29:36<08:26,  2.51s/it]\u001b[A"
          ],
          "name": "stderr"
        },
        {
          "output_type": "stream",
          "text": [
            "(797, 20)\n"
          ],
          "name": "stdout"
        },
        {
          "output_type": "stream",
          "text": [
            "\n",
            " 80%|███████▉  | 799/1000 [29:39<08:22,  2.50s/it]\u001b[A"
          ],
          "name": "stderr"
        },
        {
          "output_type": "stream",
          "text": [
            "(798, 20)\n"
          ],
          "name": "stdout"
        },
        {
          "output_type": "stream",
          "text": [
            "\n",
            " 80%|████████  | 800/1000 [29:41<08:07,  2.44s/it]\u001b[A"
          ],
          "name": "stderr"
        },
        {
          "output_type": "stream",
          "text": [
            "(799, 20)\n"
          ],
          "name": "stdout"
        },
        {
          "output_type": "stream",
          "text": [
            "\n",
            " 80%|████████  | 801/1000 [29:44<08:31,  2.57s/it]\u001b[A"
          ],
          "name": "stderr"
        },
        {
          "output_type": "stream",
          "text": [
            "(800, 20)\n"
          ],
          "name": "stdout"
        },
        {
          "output_type": "stream",
          "text": [
            "\n",
            " 80%|████████  | 802/1000 [29:47<08:46,  2.66s/it]\u001b[A"
          ],
          "name": "stderr"
        },
        {
          "output_type": "stream",
          "text": [
            "(801, 20)\n"
          ],
          "name": "stdout"
        },
        {
          "output_type": "stream",
          "text": [
            "\n",
            " 80%|████████  | 803/1000 [29:50<08:56,  2.73s/it]\u001b[A"
          ],
          "name": "stderr"
        },
        {
          "output_type": "stream",
          "text": [
            "(802, 20)\n"
          ],
          "name": "stdout"
        },
        {
          "output_type": "stream",
          "text": [
            "\n",
            " 80%|████████  | 804/1000 [29:52<08:29,  2.60s/it]\u001b[A"
          ],
          "name": "stderr"
        },
        {
          "output_type": "stream",
          "text": [
            "(803, 20)\n"
          ],
          "name": "stdout"
        },
        {
          "output_type": "stream",
          "text": [
            "\n",
            " 80%|████████  | 805/1000 [29:54<08:09,  2.51s/it]\u001b[A"
          ],
          "name": "stderr"
        },
        {
          "output_type": "stream",
          "text": [
            "(804, 20)\n"
          ],
          "name": "stdout"
        },
        {
          "output_type": "stream",
          "text": [
            "\n",
            " 81%|████████  | 806/1000 [29:57<08:02,  2.49s/it]\u001b[A"
          ],
          "name": "stderr"
        },
        {
          "output_type": "stream",
          "text": [
            "(805, 20)\n"
          ],
          "name": "stdout"
        },
        {
          "output_type": "stream",
          "text": [
            "\n",
            " 81%|████████  | 807/1000 [29:59<07:46,  2.42s/it]\u001b[A"
          ],
          "name": "stderr"
        },
        {
          "output_type": "stream",
          "text": [
            "(806, 20)\n"
          ],
          "name": "stdout"
        },
        {
          "output_type": "stream",
          "text": [
            "\n",
            " 81%|████████  | 808/1000 [30:02<07:42,  2.41s/it]\u001b[A"
          ],
          "name": "stderr"
        },
        {
          "output_type": "stream",
          "text": [
            "(807, 20)\n"
          ],
          "name": "stdout"
        },
        {
          "output_type": "stream",
          "text": [
            "\n",
            " 81%|████████  | 809/1000 [30:04<07:34,  2.38s/it]\u001b[A"
          ],
          "name": "stderr"
        },
        {
          "output_type": "stream",
          "text": [
            "(808, 20)\n"
          ],
          "name": "stdout"
        },
        {
          "output_type": "stream",
          "text": [
            "\n",
            " 81%|████████  | 810/1000 [30:08<09:27,  2.99s/it]\u001b[A"
          ],
          "name": "stderr"
        },
        {
          "output_type": "stream",
          "text": [
            "(809, 20)\n"
          ],
          "name": "stdout"
        },
        {
          "output_type": "stream",
          "text": [
            "\n",
            " 81%|████████  | 811/1000 [30:11<08:50,  2.81s/it]\u001b[A"
          ],
          "name": "stderr"
        },
        {
          "output_type": "stream",
          "text": [
            "(810, 20)\n"
          ],
          "name": "stdout"
        },
        {
          "output_type": "stream",
          "text": [
            "\n",
            " 81%|████████  | 812/1000 [30:18<13:01,  4.15s/it]\u001b[A"
          ],
          "name": "stderr"
        },
        {
          "output_type": "stream",
          "text": [
            "(811, 20)\n"
          ],
          "name": "stdout"
        },
        {
          "output_type": "stream",
          "text": [
            "\n",
            " 81%|████████▏ | 813/1000 [30:20<11:11,  3.59s/it]\u001b[A"
          ],
          "name": "stderr"
        },
        {
          "output_type": "stream",
          "text": [
            "(812, 20)\n"
          ],
          "name": "stdout"
        },
        {
          "output_type": "stream",
          "text": [
            "\n",
            " 81%|████████▏ | 814/1000 [30:24<11:23,  3.68s/it]\u001b[A"
          ],
          "name": "stderr"
        },
        {
          "output_type": "stream",
          "text": [
            "(813, 20)\n"
          ],
          "name": "stdout"
        },
        {
          "output_type": "stream",
          "text": [
            "\n",
            " 82%|████████▏ | 815/1000 [30:27<10:20,  3.36s/it]\u001b[A"
          ],
          "name": "stderr"
        },
        {
          "output_type": "stream",
          "text": [
            "(814, 20)\n"
          ],
          "name": "stdout"
        },
        {
          "output_type": "stream",
          "text": [
            "\n",
            " 82%|████████▏ | 816/1000 [30:29<09:23,  3.06s/it]\u001b[A"
          ],
          "name": "stderr"
        },
        {
          "output_type": "stream",
          "text": [
            "(815, 20)\n"
          ],
          "name": "stdout"
        },
        {
          "output_type": "stream",
          "text": [
            "\n",
            " 82%|████████▏ | 817/1000 [30:31<08:38,  2.83s/it]\u001b[A"
          ],
          "name": "stderr"
        },
        {
          "output_type": "stream",
          "text": [
            "(816, 20)\n"
          ],
          "name": "stdout"
        },
        {
          "output_type": "stream",
          "text": [
            "\n",
            " 82%|████████▏ | 818/1000 [30:34<08:13,  2.71s/it]\u001b[A"
          ],
          "name": "stderr"
        },
        {
          "output_type": "stream",
          "text": [
            "(817, 20)\n"
          ],
          "name": "stdout"
        },
        {
          "output_type": "stream",
          "text": [
            "\n",
            " 82%|████████▏ | 819/1000 [30:36<07:49,  2.59s/it]\u001b[A"
          ],
          "name": "stderr"
        },
        {
          "output_type": "stream",
          "text": [
            "(818, 20)\n"
          ],
          "name": "stdout"
        },
        {
          "output_type": "stream",
          "text": [
            "\n",
            " 82%|████████▏ | 820/1000 [30:40<08:42,  2.90s/it]\u001b[A"
          ],
          "name": "stderr"
        },
        {
          "output_type": "stream",
          "text": [
            "(819, 20)\n"
          ],
          "name": "stdout"
        },
        {
          "output_type": "stream",
          "text": [
            "\n",
            " 82%|████████▏ | 821/1000 [30:44<09:55,  3.32s/it]\u001b[A"
          ],
          "name": "stderr"
        },
        {
          "output_type": "stream",
          "text": [
            "(820, 20)\n"
          ],
          "name": "stdout"
        },
        {
          "output_type": "stream",
          "text": [
            "\n",
            " 82%|████████▏ | 822/1000 [30:48<10:46,  3.63s/it]\u001b[A"
          ],
          "name": "stderr"
        },
        {
          "output_type": "stream",
          "text": [
            "(821, 20)\n"
          ],
          "name": "stdout"
        },
        {
          "output_type": "stream",
          "text": [
            "\n",
            " 82%|████████▏ | 823/1000 [30:51<09:34,  3.25s/it]\u001b[A"
          ],
          "name": "stderr"
        },
        {
          "output_type": "stream",
          "text": [
            "(822, 20)\n"
          ],
          "name": "stdout"
        },
        {
          "output_type": "stream",
          "text": [
            "\n",
            " 82%|████████▏ | 824/1000 [30:53<09:00,  3.07s/it]\u001b[A"
          ],
          "name": "stderr"
        },
        {
          "output_type": "stream",
          "text": [
            "(823, 20)\n"
          ],
          "name": "stdout"
        },
        {
          "output_type": "stream",
          "text": [
            "\n",
            " 82%|████████▎ | 825/1000 [30:57<09:05,  3.12s/it]\u001b[A"
          ],
          "name": "stderr"
        },
        {
          "output_type": "stream",
          "text": [
            "(824, 20)\n"
          ],
          "name": "stdout"
        },
        {
          "output_type": "stream",
          "text": [
            "\n",
            " 83%|████████▎ | 826/1000 [30:59<08:30,  2.94s/it]\u001b[A"
          ],
          "name": "stderr"
        },
        {
          "output_type": "stream",
          "text": [
            "(825, 20)\n"
          ],
          "name": "stdout"
        },
        {
          "output_type": "stream",
          "text": [
            "\n",
            " 83%|████████▎ | 827/1000 [31:01<07:54,  2.74s/it]\u001b[A"
          ],
          "name": "stderr"
        },
        {
          "output_type": "stream",
          "text": [
            "(826, 20)\n"
          ],
          "name": "stdout"
        },
        {
          "output_type": "stream",
          "text": [
            "\n",
            " 83%|████████▎ | 828/1000 [31:04<07:30,  2.62s/it]\u001b[A"
          ],
          "name": "stderr"
        },
        {
          "output_type": "stream",
          "text": [
            "(827, 20)\n"
          ],
          "name": "stdout"
        },
        {
          "output_type": "stream",
          "text": [
            "\n",
            " 83%|████████▎ | 829/1000 [31:07<07:40,  2.69s/it]\u001b[A"
          ],
          "name": "stderr"
        },
        {
          "output_type": "stream",
          "text": [
            "(828, 20)\n"
          ],
          "name": "stdout"
        },
        {
          "output_type": "stream",
          "text": [
            "\n",
            " 83%|████████▎ | 830/1000 [31:09<07:15,  2.56s/it]\u001b[A"
          ],
          "name": "stderr"
        },
        {
          "output_type": "stream",
          "text": [
            "(829, 20)\n"
          ],
          "name": "stdout"
        },
        {
          "output_type": "stream",
          "text": [
            "\n",
            " 83%|████████▎ | 831/1000 [31:11<07:08,  2.53s/it]\u001b[A"
          ],
          "name": "stderr"
        },
        {
          "output_type": "stream",
          "text": [
            "(830, 20)\n"
          ],
          "name": "stdout"
        },
        {
          "output_type": "stream",
          "text": [
            "\n",
            " 83%|████████▎ | 832/1000 [31:14<06:51,  2.45s/it]\u001b[A"
          ],
          "name": "stderr"
        },
        {
          "output_type": "stream",
          "text": [
            "(831, 20)\n"
          ],
          "name": "stdout"
        },
        {
          "output_type": "stream",
          "text": [
            "\n",
            " 83%|████████▎ | 833/1000 [31:16<06:39,  2.39s/it]\u001b[A"
          ],
          "name": "stderr"
        },
        {
          "output_type": "stream",
          "text": [
            "(832, 20)\n"
          ],
          "name": "stdout"
        },
        {
          "output_type": "stream",
          "text": [
            "\n",
            " 83%|████████▎ | 834/1000 [31:20<08:15,  2.99s/it]\u001b[A"
          ],
          "name": "stderr"
        },
        {
          "output_type": "stream",
          "text": [
            "(833, 20)\n"
          ],
          "name": "stdout"
        },
        {
          "output_type": "stream",
          "text": [
            "\n",
            " 84%|████████▎ | 835/1000 [31:23<08:05,  2.94s/it]\u001b[A"
          ],
          "name": "stderr"
        },
        {
          "output_type": "stream",
          "text": [
            "(834, 20)\n"
          ],
          "name": "stdout"
        },
        {
          "output_type": "stream",
          "text": [
            "\n",
            " 84%|████████▎ | 836/1000 [31:25<07:31,  2.75s/it]\u001b[A"
          ],
          "name": "stderr"
        },
        {
          "output_type": "stream",
          "text": [
            "(835, 20)\n"
          ],
          "name": "stdout"
        },
        {
          "output_type": "stream",
          "text": [
            "\n",
            " 84%|████████▎ | 837/1000 [31:28<07:17,  2.69s/it]\u001b[A"
          ],
          "name": "stderr"
        },
        {
          "output_type": "stream",
          "text": [
            "(836, 20)\n"
          ],
          "name": "stdout"
        },
        {
          "output_type": "stream",
          "text": [
            "\n",
            " 84%|████████▍ | 838/1000 [31:31<07:17,  2.70s/it]\u001b[A"
          ],
          "name": "stderr"
        },
        {
          "output_type": "stream",
          "text": [
            "(837, 20)\n"
          ],
          "name": "stdout"
        },
        {
          "output_type": "stream",
          "text": [
            "\n",
            " 84%|████████▍ | 839/1000 [31:33<06:49,  2.54s/it]\u001b[A"
          ],
          "name": "stderr"
        },
        {
          "output_type": "stream",
          "text": [
            "(838, 20)\n"
          ],
          "name": "stdout"
        },
        {
          "output_type": "stream",
          "text": [
            "\n",
            " 84%|████████▍ | 840/1000 [31:35<06:20,  2.38s/it]\u001b[A"
          ],
          "name": "stderr"
        },
        {
          "output_type": "stream",
          "text": [
            "(839, 20)\n"
          ],
          "name": "stdout"
        },
        {
          "output_type": "stream",
          "text": [
            "\n",
            " 84%|████████▍ | 841/1000 [31:40<08:09,  3.08s/it]\u001b[A"
          ],
          "name": "stderr"
        },
        {
          "output_type": "stream",
          "text": [
            "(840, 20)\n"
          ],
          "name": "stdout"
        },
        {
          "output_type": "stream",
          "text": [
            "\n",
            " 84%|████████▍ | 842/1000 [31:42<07:28,  2.84s/it]\u001b[A"
          ],
          "name": "stderr"
        },
        {
          "output_type": "stream",
          "text": [
            "(841, 20)\n"
          ],
          "name": "stdout"
        },
        {
          "output_type": "stream",
          "text": [
            "\n",
            " 84%|████████▍ | 843/1000 [31:44<07:01,  2.68s/it]\u001b[A"
          ],
          "name": "stderr"
        },
        {
          "output_type": "stream",
          "text": [
            "(842, 20)\n"
          ],
          "name": "stdout"
        },
        {
          "output_type": "stream",
          "text": [
            "\n",
            " 84%|████████▍ | 844/1000 [31:46<06:37,  2.55s/it]\u001b[A"
          ],
          "name": "stderr"
        },
        {
          "output_type": "stream",
          "text": [
            "(843, 20)\n"
          ],
          "name": "stdout"
        },
        {
          "output_type": "stream",
          "text": [
            "\n",
            " 84%|████████▍ | 845/1000 [31:50<07:19,  2.84s/it]\u001b[A"
          ],
          "name": "stderr"
        },
        {
          "output_type": "stream",
          "text": [
            "(844, 20)\n"
          ],
          "name": "stdout"
        },
        {
          "output_type": "stream",
          "text": [
            "\n",
            " 85%|████████▍ | 846/1000 [31:54<08:26,  3.29s/it]\u001b[A"
          ],
          "name": "stderr"
        },
        {
          "output_type": "stream",
          "text": [
            "(845, 20)\n"
          ],
          "name": "stdout"
        },
        {
          "output_type": "stream",
          "text": [
            "\n",
            " 85%|████████▍ | 847/1000 [31:56<07:27,  2.92s/it]\u001b[A"
          ],
          "name": "stderr"
        },
        {
          "output_type": "stream",
          "text": [
            "(846, 20)\n"
          ],
          "name": "stdout"
        },
        {
          "output_type": "stream",
          "text": [
            "\n",
            " 85%|████████▍ | 848/1000 [31:59<06:51,  2.71s/it]\u001b[A"
          ],
          "name": "stderr"
        },
        {
          "output_type": "stream",
          "text": [
            "(847, 20)\n"
          ],
          "name": "stdout"
        },
        {
          "output_type": "stream",
          "text": [
            "\n",
            " 85%|████████▍ | 849/1000 [32:01<06:31,  2.59s/it]\u001b[A"
          ],
          "name": "stderr"
        },
        {
          "output_type": "stream",
          "text": [
            "(848, 20)\n"
          ],
          "name": "stdout"
        },
        {
          "output_type": "stream",
          "text": [
            "\n",
            " 85%|████████▌ | 850/1000 [32:07<09:16,  3.71s/it]\u001b[A"
          ],
          "name": "stderr"
        },
        {
          "output_type": "stream",
          "text": [
            "(849, 20)\n"
          ],
          "name": "stdout"
        },
        {
          "output_type": "stream",
          "text": [
            "\n",
            " 85%|████████▌ | 851/1000 [32:10<08:15,  3.33s/it]\u001b[A"
          ],
          "name": "stderr"
        },
        {
          "output_type": "stream",
          "text": [
            "(850, 20)\n"
          ],
          "name": "stdout"
        },
        {
          "output_type": "stream",
          "text": [
            "\n",
            " 85%|████████▌ | 852/1000 [32:11<07:05,  2.88s/it]\u001b[A"
          ],
          "name": "stderr"
        },
        {
          "output_type": "stream",
          "text": [
            "(851, 20)\n"
          ],
          "name": "stdout"
        },
        {
          "output_type": "stream",
          "text": [
            "\n",
            " 85%|████████▌ | 853/1000 [32:14<06:53,  2.81s/it]\u001b[A"
          ],
          "name": "stderr"
        },
        {
          "output_type": "stream",
          "text": [
            "(852, 20)\n"
          ],
          "name": "stdout"
        },
        {
          "output_type": "stream",
          "text": [
            "\n",
            " 85%|████████▌ | 854/1000 [32:16<06:29,  2.66s/it]\u001b[A"
          ],
          "name": "stderr"
        },
        {
          "output_type": "stream",
          "text": [
            "(853, 20)\n"
          ],
          "name": "stdout"
        },
        {
          "output_type": "stream",
          "text": [
            "\n",
            " 86%|████████▌ | 855/1000 [32:19<06:32,  2.71s/it]\u001b[A"
          ],
          "name": "stderr"
        },
        {
          "output_type": "stream",
          "text": [
            "(854, 20)\n"
          ],
          "name": "stdout"
        },
        {
          "output_type": "stream",
          "text": [
            "\n",
            " 86%|████████▌ | 856/1000 [32:21<05:53,  2.45s/it]\u001b[A"
          ],
          "name": "stderr"
        },
        {
          "output_type": "stream",
          "text": [
            "(855, 20)\n"
          ],
          "name": "stdout"
        },
        {
          "output_type": "stream",
          "text": [
            "\n",
            " 86%|████████▌ | 857/1000 [32:23<05:44,  2.41s/it]\u001b[A"
          ],
          "name": "stderr"
        },
        {
          "output_type": "stream",
          "text": [
            "(856, 20)\n"
          ],
          "name": "stdout"
        },
        {
          "output_type": "stream",
          "text": [
            "\n",
            " 86%|████████▌ | 858/1000 [32:26<05:46,  2.44s/it]\u001b[A"
          ],
          "name": "stderr"
        },
        {
          "output_type": "stream",
          "text": [
            "(857, 20)\n"
          ],
          "name": "stdout"
        },
        {
          "output_type": "stream",
          "text": [
            "\n",
            " 86%|████████▌ | 859/1000 [32:28<05:16,  2.24s/it]\u001b[A"
          ],
          "name": "stderr"
        },
        {
          "output_type": "stream",
          "text": [
            "(858, 20)\n"
          ],
          "name": "stdout"
        },
        {
          "output_type": "stream",
          "text": [
            "\n",
            " 86%|████████▌ | 860/1000 [32:30<05:18,  2.28s/it]\u001b[A"
          ],
          "name": "stderr"
        },
        {
          "output_type": "stream",
          "text": [
            "(859, 20)\n"
          ],
          "name": "stdout"
        },
        {
          "output_type": "stream",
          "text": [
            "\n",
            " 86%|████████▌ | 861/1000 [32:34<06:39,  2.88s/it]\u001b[A"
          ],
          "name": "stderr"
        },
        {
          "output_type": "stream",
          "text": [
            "(860, 20)\n"
          ],
          "name": "stdout"
        },
        {
          "output_type": "stream",
          "text": [
            "\n",
            " 86%|████████▌ | 862/1000 [32:37<06:18,  2.74s/it]\u001b[A"
          ],
          "name": "stderr"
        },
        {
          "output_type": "stream",
          "text": [
            "(861, 20)\n"
          ],
          "name": "stdout"
        },
        {
          "output_type": "stream",
          "text": [
            "\n",
            " 86%|████████▋ | 863/1000 [32:39<05:55,  2.59s/it]\u001b[A"
          ],
          "name": "stderr"
        },
        {
          "output_type": "stream",
          "text": [
            "(862, 20)\n"
          ],
          "name": "stdout"
        },
        {
          "output_type": "stream",
          "text": [
            "\n",
            " 86%|████████▋ | 864/1000 [32:41<05:35,  2.47s/it]\u001b[A"
          ],
          "name": "stderr"
        },
        {
          "output_type": "stream",
          "text": [
            "(863, 20)\n"
          ],
          "name": "stdout"
        },
        {
          "output_type": "stream",
          "text": [
            "\n",
            " 86%|████████▋ | 865/1000 [32:45<06:42,  2.98s/it]\u001b[A"
          ],
          "name": "stderr"
        },
        {
          "output_type": "stream",
          "text": [
            "(864, 20)\n"
          ],
          "name": "stdout"
        },
        {
          "output_type": "stream",
          "text": [
            "\n",
            " 87%|████████▋ | 866/1000 [32:47<05:52,  2.63s/it]\u001b[A"
          ],
          "name": "stderr"
        },
        {
          "output_type": "stream",
          "text": [
            "(865, 20)\n"
          ],
          "name": "stdout"
        },
        {
          "output_type": "stream",
          "text": [
            "\n",
            " 87%|████████▋ | 867/1000 [32:49<05:37,  2.54s/it]\u001b[A"
          ],
          "name": "stderr"
        },
        {
          "output_type": "stream",
          "text": [
            "(866, 20)\n"
          ],
          "name": "stdout"
        },
        {
          "output_type": "stream",
          "text": [
            "\n",
            " 87%|████████▋ | 868/1000 [32:52<05:29,  2.50s/it]\u001b[A"
          ],
          "name": "stderr"
        },
        {
          "output_type": "stream",
          "text": [
            "(867, 20)\n"
          ],
          "name": "stdout"
        },
        {
          "output_type": "stream",
          "text": [
            "\n",
            " 87%|████████▋ | 869/1000 [32:54<05:25,  2.48s/it]\u001b[A"
          ],
          "name": "stderr"
        },
        {
          "output_type": "stream",
          "text": [
            "(868, 20)\n"
          ],
          "name": "stdout"
        },
        {
          "output_type": "stream",
          "text": [
            "\n",
            " 87%|████████▋ | 870/1000 [32:57<05:15,  2.42s/it]\u001b[A"
          ],
          "name": "stderr"
        },
        {
          "output_type": "stream",
          "text": [
            "(869, 20)\n"
          ],
          "name": "stdout"
        },
        {
          "output_type": "stream",
          "text": [
            "\n",
            " 87%|████████▋ | 871/1000 [33:01<06:32,  3.04s/it]\u001b[A"
          ],
          "name": "stderr"
        },
        {
          "output_type": "stream",
          "text": [
            "(870, 20)\n"
          ],
          "name": "stdout"
        },
        {
          "output_type": "stream",
          "text": [
            "\n",
            " 87%|████████▋ | 872/1000 [33:06<07:53,  3.70s/it]\u001b[A"
          ],
          "name": "stderr"
        },
        {
          "output_type": "stream",
          "text": [
            "(871, 20)\n"
          ],
          "name": "stdout"
        },
        {
          "output_type": "stream",
          "text": [
            "\n",
            " 87%|████████▋ | 873/1000 [33:13<09:27,  4.46s/it]\u001b[A"
          ],
          "name": "stderr"
        },
        {
          "output_type": "stream",
          "text": [
            "(872, 20)\n"
          ],
          "name": "stdout"
        },
        {
          "output_type": "stream",
          "text": [
            "\n",
            " 87%|████████▋ | 874/1000 [33:15<08:08,  3.88s/it]\u001b[A"
          ],
          "name": "stderr"
        },
        {
          "output_type": "stream",
          "text": [
            "(873, 20)\n"
          ],
          "name": "stdout"
        },
        {
          "output_type": "stream",
          "text": [
            "\n",
            " 88%|████████▊ | 875/1000 [33:20<08:33,  4.11s/it]\u001b[A"
          ],
          "name": "stderr"
        },
        {
          "output_type": "stream",
          "text": [
            "(874, 20)\n"
          ],
          "name": "stdout"
        },
        {
          "output_type": "stream",
          "text": [
            "\n",
            " 88%|████████▊ | 876/1000 [33:22<07:14,  3.51s/it]\u001b[A"
          ],
          "name": "stderr"
        },
        {
          "output_type": "stream",
          "text": [
            "(875, 20)\n"
          ],
          "name": "stdout"
        },
        {
          "output_type": "stream",
          "text": [
            "\n",
            " 88%|████████▊ | 877/1000 [33:24<06:25,  3.14s/it]\u001b[A"
          ],
          "name": "stderr"
        },
        {
          "output_type": "stream",
          "text": [
            "(876, 20)\n"
          ],
          "name": "stdout"
        },
        {
          "output_type": "stream",
          "text": [
            "\n",
            " 88%|████████▊ | 878/1000 [33:27<05:55,  2.91s/it]\u001b[A"
          ],
          "name": "stderr"
        },
        {
          "output_type": "stream",
          "text": [
            "(877, 20)\n"
          ],
          "name": "stdout"
        },
        {
          "output_type": "stream",
          "text": [
            "\n",
            " 88%|████████▊ | 879/1000 [33:29<05:31,  2.74s/it]\u001b[A"
          ],
          "name": "stderr"
        },
        {
          "output_type": "stream",
          "text": [
            "(878, 20)\n"
          ],
          "name": "stdout"
        },
        {
          "output_type": "stream",
          "text": [
            "\n",
            " 88%|████████▊ | 880/1000 [33:33<06:36,  3.31s/it]\u001b[A"
          ],
          "name": "stderr"
        },
        {
          "output_type": "stream",
          "text": [
            "(879, 20)\n"
          ],
          "name": "stdout"
        },
        {
          "output_type": "stream",
          "text": [
            "\n",
            " 88%|████████▊ | 881/1000 [33:37<06:45,  3.40s/it]\u001b[A"
          ],
          "name": "stderr"
        },
        {
          "output_type": "stream",
          "text": [
            "(880, 20)\n"
          ],
          "name": "stdout"
        },
        {
          "output_type": "stream",
          "text": [
            "\n",
            " 88%|████████▊ | 882/1000 [33:39<06:03,  3.08s/it]\u001b[A"
          ],
          "name": "stderr"
        },
        {
          "output_type": "stream",
          "text": [
            "(881, 20)\n"
          ],
          "name": "stdout"
        },
        {
          "output_type": "stream",
          "text": [
            "\n",
            " 88%|████████▊ | 883/1000 [33:42<05:35,  2.87s/it]\u001b[A"
          ],
          "name": "stderr"
        },
        {
          "output_type": "stream",
          "text": [
            "(882, 20)\n"
          ],
          "name": "stdout"
        },
        {
          "output_type": "stream",
          "text": [
            "\n",
            " 88%|████████▊ | 884/1000 [33:46<06:23,  3.31s/it]\u001b[A"
          ],
          "name": "stderr"
        },
        {
          "output_type": "stream",
          "text": [
            "(883, 20)\n"
          ],
          "name": "stdout"
        },
        {
          "output_type": "stream",
          "text": [
            "\n",
            " 88%|████████▊ | 885/1000 [33:48<05:46,  3.01s/it]\u001b[A"
          ],
          "name": "stderr"
        },
        {
          "output_type": "stream",
          "text": [
            "(884, 20)\n"
          ],
          "name": "stdout"
        },
        {
          "output_type": "stream",
          "text": [
            "\n",
            " 89%|████████▊ | 886/1000 [33:51<05:27,  2.87s/it]\u001b[A"
          ],
          "name": "stderr"
        },
        {
          "output_type": "stream",
          "text": [
            "(885, 20)\n"
          ],
          "name": "stdout"
        },
        {
          "output_type": "stream",
          "text": [
            "\n",
            " 89%|████████▊ | 887/1000 [33:54<05:38,  3.00s/it]\u001b[A"
          ],
          "name": "stderr"
        },
        {
          "output_type": "stream",
          "text": [
            "(886, 20)\n"
          ],
          "name": "stdout"
        },
        {
          "output_type": "stream",
          "text": [
            "\n",
            " 89%|████████▉ | 888/1000 [33:57<05:14,  2.81s/it]\u001b[A"
          ],
          "name": "stderr"
        },
        {
          "output_type": "stream",
          "text": [
            "(887, 20)\n"
          ],
          "name": "stdout"
        },
        {
          "output_type": "stream",
          "text": [
            "\n",
            " 89%|████████▉ | 889/1000 [33:59<05:03,  2.73s/it]\u001b[A"
          ],
          "name": "stderr"
        },
        {
          "output_type": "stream",
          "text": [
            "(888, 20)\n"
          ],
          "name": "stdout"
        },
        {
          "output_type": "stream",
          "text": [
            "\n",
            " 89%|████████▉ | 890/1000 [34:04<05:52,  3.21s/it]\u001b[A"
          ],
          "name": "stderr"
        },
        {
          "output_type": "stream",
          "text": [
            "(889, 20)\n"
          ],
          "name": "stdout"
        },
        {
          "output_type": "stream",
          "text": [
            "\n",
            " 89%|████████▉ | 891/1000 [34:06<05:19,  2.93s/it]\u001b[A"
          ],
          "name": "stderr"
        },
        {
          "output_type": "stream",
          "text": [
            "(890, 20)\n"
          ],
          "name": "stdout"
        },
        {
          "output_type": "stream",
          "text": [
            "\n",
            " 89%|████████▉ | 892/1000 [34:08<04:58,  2.77s/it]\u001b[A"
          ],
          "name": "stderr"
        },
        {
          "output_type": "stream",
          "text": [
            "(891, 20)\n"
          ],
          "name": "stdout"
        },
        {
          "output_type": "stream",
          "text": [
            "\n",
            " 89%|████████▉ | 893/1000 [34:13<05:45,  3.23s/it]\u001b[A"
          ],
          "name": "stderr"
        },
        {
          "output_type": "stream",
          "text": [
            "(892, 20)\n"
          ],
          "name": "stdout"
        },
        {
          "output_type": "stream",
          "text": [
            "\n",
            " 89%|████████▉ | 894/1000 [34:15<05:13,  2.95s/it]\u001b[A"
          ],
          "name": "stderr"
        },
        {
          "output_type": "stream",
          "text": [
            "(893, 20)\n"
          ],
          "name": "stdout"
        },
        {
          "output_type": "stream",
          "text": [
            "\n",
            " 90%|████████▉ | 895/1000 [34:18<05:19,  3.05s/it]\u001b[A"
          ],
          "name": "stderr"
        },
        {
          "output_type": "stream",
          "text": [
            "(894, 20)\n"
          ],
          "name": "stdout"
        },
        {
          "output_type": "stream",
          "text": [
            "\n",
            " 90%|████████▉ | 896/1000 [34:21<05:03,  2.91s/it]\u001b[A"
          ],
          "name": "stderr"
        },
        {
          "output_type": "stream",
          "text": [
            "(895, 20)\n"
          ],
          "name": "stdout"
        },
        {
          "output_type": "stream",
          "text": [
            "\n",
            " 90%|████████▉ | 897/1000 [34:25<05:43,  3.34s/it]\u001b[A"
          ],
          "name": "stderr"
        },
        {
          "output_type": "stream",
          "text": [
            "(896, 20)\n"
          ],
          "name": "stdout"
        },
        {
          "output_type": "stream",
          "text": [
            "\n",
            " 90%|████████▉ | 898/1000 [34:27<05:09,  3.03s/it]\u001b[A"
          ],
          "name": "stderr"
        },
        {
          "output_type": "stream",
          "text": [
            "(897, 20)\n"
          ],
          "name": "stdout"
        },
        {
          "output_type": "stream",
          "text": [
            "\n",
            " 90%|████████▉ | 899/1000 [34:30<04:41,  2.79s/it]\u001b[A"
          ],
          "name": "stderr"
        },
        {
          "output_type": "stream",
          "text": [
            "(898, 20)\n"
          ],
          "name": "stdout"
        },
        {
          "output_type": "stream",
          "text": [
            "\n",
            " 90%|█████████ | 900/1000 [34:32<04:35,  2.75s/it]\u001b[A"
          ],
          "name": "stderr"
        },
        {
          "output_type": "stream",
          "text": [
            "(899, 20)\n"
          ],
          "name": "stdout"
        },
        {
          "output_type": "stream",
          "text": [
            "\n",
            " 90%|█████████ | 901/1000 [34:35<04:26,  2.70s/it]\u001b[A"
          ],
          "name": "stderr"
        },
        {
          "output_type": "stream",
          "text": [
            "(900, 20)\n"
          ],
          "name": "stdout"
        },
        {
          "output_type": "stream",
          "text": [
            "\n",
            " 90%|█████████ | 902/1000 [34:39<05:21,  3.28s/it]\u001b[A"
          ],
          "name": "stderr"
        },
        {
          "output_type": "stream",
          "text": [
            "(901, 20)\n"
          ],
          "name": "stdout"
        },
        {
          "output_type": "stream",
          "text": [
            "\n",
            " 90%|█████████ | 903/1000 [34:42<04:48,  2.98s/it]\u001b[A"
          ],
          "name": "stderr"
        },
        {
          "output_type": "stream",
          "text": [
            "(902, 20)\n"
          ],
          "name": "stdout"
        },
        {
          "output_type": "stream",
          "text": [
            "\n",
            " 90%|█████████ | 904/1000 [34:45<04:40,  2.92s/it]\u001b[A"
          ],
          "name": "stderr"
        },
        {
          "output_type": "stream",
          "text": [
            "(903, 20)\n"
          ],
          "name": "stdout"
        },
        {
          "output_type": "stream",
          "text": [
            "\n",
            " 90%|█████████ | 905/1000 [34:47<04:21,  2.75s/it]\u001b[A"
          ],
          "name": "stderr"
        },
        {
          "output_type": "stream",
          "text": [
            "(904, 20)\n"
          ],
          "name": "stdout"
        },
        {
          "output_type": "stream",
          "text": [
            "\n",
            " 91%|█████████ | 906/1000 [34:50<04:17,  2.74s/it]\u001b[A"
          ],
          "name": "stderr"
        },
        {
          "output_type": "stream",
          "text": [
            "(905, 20)\n"
          ],
          "name": "stdout"
        },
        {
          "output_type": "stream",
          "text": [
            "\n",
            " 91%|█████████ | 907/1000 [34:53<04:33,  2.94s/it]\u001b[A"
          ],
          "name": "stderr"
        },
        {
          "output_type": "stream",
          "text": [
            "(906, 20)\n"
          ],
          "name": "stdout"
        },
        {
          "output_type": "stream",
          "text": [
            "\n",
            " 91%|█████████ | 908/1000 [34:57<05:09,  3.36s/it]\u001b[A"
          ],
          "name": "stderr"
        },
        {
          "output_type": "stream",
          "text": [
            "(907, 20)\n"
          ],
          "name": "stdout"
        },
        {
          "output_type": "stream",
          "text": [
            "\n",
            " 91%|█████████ | 909/1000 [35:00<04:37,  3.05s/it]\u001b[A"
          ],
          "name": "stderr"
        },
        {
          "output_type": "stream",
          "text": [
            "(908, 20)\n"
          ],
          "name": "stdout"
        },
        {
          "output_type": "stream",
          "text": [
            "\n",
            " 91%|█████████ | 910/1000 [35:02<04:16,  2.85s/it]\u001b[A"
          ],
          "name": "stderr"
        },
        {
          "output_type": "stream",
          "text": [
            "(909, 20)\n"
          ],
          "name": "stdout"
        },
        {
          "output_type": "stream",
          "text": [
            "\n",
            " 91%|█████████ | 911/1000 [35:04<03:59,  2.69s/it]\u001b[A"
          ],
          "name": "stderr"
        },
        {
          "output_type": "stream",
          "text": [
            "(910, 20)\n"
          ],
          "name": "stdout"
        },
        {
          "output_type": "stream",
          "text": [
            "\n",
            " 91%|█████████ | 912/1000 [35:06<03:39,  2.50s/it]\u001b[A"
          ],
          "name": "stderr"
        },
        {
          "output_type": "stream",
          "text": [
            "(911, 20)\n"
          ],
          "name": "stdout"
        },
        {
          "output_type": "stream",
          "text": [
            "\n",
            " 91%|█████████▏| 913/1000 [35:09<03:32,  2.45s/it]\u001b[A"
          ],
          "name": "stderr"
        },
        {
          "output_type": "stream",
          "text": [
            "(912, 20)\n"
          ],
          "name": "stdout"
        },
        {
          "output_type": "stream",
          "text": [
            "\n",
            " 91%|█████████▏| 914/1000 [35:11<03:26,  2.40s/it]\u001b[A"
          ],
          "name": "stderr"
        },
        {
          "output_type": "stream",
          "text": [
            "(913, 20)\n"
          ],
          "name": "stdout"
        },
        {
          "output_type": "stream",
          "text": [
            "\n",
            " 92%|█████████▏| 915/1000 [35:14<03:51,  2.72s/it]\u001b[A"
          ],
          "name": "stderr"
        },
        {
          "output_type": "stream",
          "text": [
            "(914, 20)\n"
          ],
          "name": "stdout"
        },
        {
          "output_type": "stream",
          "text": [
            "\n",
            " 92%|█████████▏| 916/1000 [35:17<03:38,  2.60s/it]\u001b[A"
          ],
          "name": "stderr"
        },
        {
          "output_type": "stream",
          "text": [
            "(915, 20)\n"
          ],
          "name": "stdout"
        },
        {
          "output_type": "stream",
          "text": [
            "\n",
            " 92%|█████████▏| 917/1000 [35:19<03:36,  2.61s/it]\u001b[A"
          ],
          "name": "stderr"
        },
        {
          "output_type": "stream",
          "text": [
            "(916, 20)\n"
          ],
          "name": "stdout"
        },
        {
          "output_type": "stream",
          "text": [
            "\n",
            " 92%|█████████▏| 918/1000 [35:22<03:27,  2.53s/it]\u001b[A"
          ],
          "name": "stderr"
        },
        {
          "output_type": "stream",
          "text": [
            "(917, 20)\n"
          ],
          "name": "stdout"
        },
        {
          "output_type": "stream",
          "text": [
            "\n",
            " 92%|█████████▏| 919/1000 [35:24<03:19,  2.46s/it]\u001b[A"
          ],
          "name": "stderr"
        },
        {
          "output_type": "stream",
          "text": [
            "(918, 20)\n"
          ],
          "name": "stdout"
        },
        {
          "output_type": "stream",
          "text": [
            "\n",
            " 92%|█████████▏| 920/1000 [35:27<03:17,  2.46s/it]\u001b[A"
          ],
          "name": "stderr"
        },
        {
          "output_type": "stream",
          "text": [
            "(919, 20)\n"
          ],
          "name": "stdout"
        },
        {
          "output_type": "stream",
          "text": [
            "\n",
            " 92%|█████████▏| 921/1000 [35:29<03:08,  2.39s/it]\u001b[A"
          ],
          "name": "stderr"
        },
        {
          "output_type": "stream",
          "text": [
            "(920, 20)\n"
          ],
          "name": "stdout"
        },
        {
          "output_type": "stream",
          "text": [
            "\n",
            " 92%|█████████▏| 922/1000 [35:31<03:03,  2.35s/it]\u001b[A"
          ],
          "name": "stderr"
        },
        {
          "output_type": "stream",
          "text": [
            "(921, 20)\n"
          ],
          "name": "stdout"
        },
        {
          "output_type": "stream",
          "text": [
            "\n",
            " 92%|█████████▏| 923/1000 [35:33<03:00,  2.35s/it]\u001b[A"
          ],
          "name": "stderr"
        },
        {
          "output_type": "stream",
          "text": [
            "(922, 20)\n"
          ],
          "name": "stdout"
        },
        {
          "output_type": "stream",
          "text": [
            "\n",
            " 92%|█████████▏| 924/1000 [35:36<02:59,  2.37s/it]\u001b[A"
          ],
          "name": "stderr"
        },
        {
          "output_type": "stream",
          "text": [
            "(923, 20)\n"
          ],
          "name": "stdout"
        },
        {
          "output_type": "stream",
          "text": [
            "\n",
            " 92%|█████████▎| 925/1000 [35:40<03:29,  2.79s/it]\u001b[A"
          ],
          "name": "stderr"
        },
        {
          "output_type": "stream",
          "text": [
            "(924, 20)\n"
          ],
          "name": "stdout"
        },
        {
          "output_type": "stream",
          "text": [
            "\n",
            " 93%|█████████▎| 926/1000 [35:42<03:15,  2.65s/it]\u001b[A"
          ],
          "name": "stderr"
        },
        {
          "output_type": "stream",
          "text": [
            "(925, 20)\n"
          ],
          "name": "stdout"
        },
        {
          "output_type": "stream",
          "text": [
            "\n",
            " 93%|█████████▎| 927/1000 [35:44<03:07,  2.57s/it]\u001b[A"
          ],
          "name": "stderr"
        },
        {
          "output_type": "stream",
          "text": [
            "(926, 20)\n"
          ],
          "name": "stdout"
        },
        {
          "output_type": "stream",
          "text": [
            "\n",
            " 93%|█████████▎| 928/1000 [35:47<03:09,  2.63s/it]\u001b[A"
          ],
          "name": "stderr"
        },
        {
          "output_type": "stream",
          "text": [
            "(927, 20)\n"
          ],
          "name": "stdout"
        },
        {
          "output_type": "stream",
          "text": [
            "\n",
            " 93%|█████████▎| 929/1000 [35:49<03:02,  2.56s/it]\u001b[A"
          ],
          "name": "stderr"
        },
        {
          "output_type": "stream",
          "text": [
            "(928, 20)\n"
          ],
          "name": "stdout"
        },
        {
          "output_type": "stream",
          "text": [
            "\n",
            " 93%|█████████▎| 930/1000 [35:52<02:53,  2.48s/it]\u001b[A"
          ],
          "name": "stderr"
        },
        {
          "output_type": "stream",
          "text": [
            "(929, 20)\n"
          ],
          "name": "stdout"
        },
        {
          "output_type": "stream",
          "text": [
            "\n",
            " 93%|█████████▎| 931/1000 [35:54<02:48,  2.45s/it]\u001b[A"
          ],
          "name": "stderr"
        },
        {
          "output_type": "stream",
          "text": [
            "(930, 20)\n"
          ],
          "name": "stdout"
        },
        {
          "output_type": "stream",
          "text": [
            "\n",
            " 93%|█████████▎| 932/1000 [35:56<02:34,  2.27s/it]\u001b[A"
          ],
          "name": "stderr"
        },
        {
          "output_type": "stream",
          "text": [
            "(931, 20)\n"
          ],
          "name": "stdout"
        },
        {
          "output_type": "stream",
          "text": [
            "\n",
            " 93%|█████████▎| 933/1000 [35:58<02:36,  2.33s/it]\u001b[A"
          ],
          "name": "stderr"
        },
        {
          "output_type": "stream",
          "text": [
            "(932, 20)\n"
          ],
          "name": "stdout"
        },
        {
          "output_type": "stream",
          "text": [
            "\n",
            " 93%|█████████▎| 934/1000 [36:01<02:33,  2.33s/it]\u001b[A"
          ],
          "name": "stderr"
        },
        {
          "output_type": "stream",
          "text": [
            "(933, 20)\n"
          ],
          "name": "stdout"
        },
        {
          "output_type": "stream",
          "text": [
            "\n",
            " 94%|█████████▎| 935/1000 [36:03<02:30,  2.31s/it]\u001b[A"
          ],
          "name": "stderr"
        },
        {
          "output_type": "stream",
          "text": [
            "(934, 20)\n"
          ],
          "name": "stdout"
        },
        {
          "output_type": "stream",
          "text": [
            "\n",
            " 94%|█████████▎| 936/1000 [36:06<02:36,  2.45s/it]\u001b[A"
          ],
          "name": "stderr"
        },
        {
          "output_type": "stream",
          "text": [
            "(935, 20)\n"
          ],
          "name": "stdout"
        },
        {
          "output_type": "stream",
          "text": [
            "\n",
            " 94%|█████████▎| 937/1000 [36:08<02:32,  2.42s/it]\u001b[A"
          ],
          "name": "stderr"
        },
        {
          "output_type": "stream",
          "text": [
            "(936, 20)\n"
          ],
          "name": "stdout"
        },
        {
          "output_type": "stream",
          "text": [
            "\n",
            " 94%|█████████▍| 938/1000 [36:12<03:02,  2.95s/it]\u001b[A"
          ],
          "name": "stderr"
        },
        {
          "output_type": "stream",
          "text": [
            "(937, 20)\n"
          ],
          "name": "stdout"
        },
        {
          "output_type": "stream",
          "text": [
            "\n",
            " 94%|█████████▍| 939/1000 [36:15<02:47,  2.75s/it]\u001b[A"
          ],
          "name": "stderr"
        },
        {
          "output_type": "stream",
          "text": [
            "(938, 20)\n"
          ],
          "name": "stdout"
        },
        {
          "output_type": "stream",
          "text": [
            "\n",
            " 94%|█████████▍| 940/1000 [36:17<02:37,  2.63s/it]\u001b[A"
          ],
          "name": "stderr"
        },
        {
          "output_type": "stream",
          "text": [
            "(939, 20)\n"
          ],
          "name": "stdout"
        },
        {
          "output_type": "stream",
          "text": [
            "\n",
            " 94%|█████████▍| 941/1000 [36:19<02:29,  2.53s/it]\u001b[A"
          ],
          "name": "stderr"
        },
        {
          "output_type": "stream",
          "text": [
            "(940, 20)\n"
          ],
          "name": "stdout"
        },
        {
          "output_type": "stream",
          "text": [
            "\n",
            " 94%|█████████▍| 942/1000 [36:22<02:25,  2.50s/it]\u001b[A"
          ],
          "name": "stderr"
        },
        {
          "output_type": "stream",
          "text": [
            "(941, 20)\n"
          ],
          "name": "stdout"
        },
        {
          "output_type": "stream",
          "text": [
            "\n",
            " 94%|█████████▍| 943/1000 [36:24<02:19,  2.44s/it]\u001b[A"
          ],
          "name": "stderr"
        },
        {
          "output_type": "stream",
          "text": [
            "(942, 20)\n"
          ],
          "name": "stdout"
        },
        {
          "output_type": "stream",
          "text": [
            "\n",
            " 94%|█████████▍| 944/1000 [36:26<02:14,  2.39s/it]\u001b[A"
          ],
          "name": "stderr"
        },
        {
          "output_type": "stream",
          "text": [
            "(943, 20)\n"
          ],
          "name": "stdout"
        },
        {
          "output_type": "stream",
          "text": [
            "\n",
            " 94%|█████████▍| 945/1000 [36:28<02:08,  2.34s/it]\u001b[A"
          ],
          "name": "stderr"
        },
        {
          "output_type": "stream",
          "text": [
            "(944, 20)\n"
          ],
          "name": "stdout"
        },
        {
          "output_type": "stream",
          "text": [
            "\n",
            " 95%|█████████▍| 946/1000 [36:31<02:08,  2.38s/it]\u001b[A"
          ],
          "name": "stderr"
        },
        {
          "output_type": "stream",
          "text": [
            "(945, 20)\n"
          ],
          "name": "stdout"
        },
        {
          "output_type": "stream",
          "text": [
            "\n",
            " 95%|█████████▍| 947/1000 [36:33<02:03,  2.34s/it]\u001b[A"
          ],
          "name": "stderr"
        },
        {
          "output_type": "stream",
          "text": [
            "(946, 20)\n"
          ],
          "name": "stdout"
        },
        {
          "output_type": "stream",
          "text": [
            "\n",
            " 95%|█████████▍| 948/1000 [36:36<02:04,  2.39s/it]\u001b[A"
          ],
          "name": "stderr"
        },
        {
          "output_type": "stream",
          "text": [
            "(947, 20)\n"
          ],
          "name": "stdout"
        },
        {
          "output_type": "stream",
          "text": [
            "\n",
            " 95%|█████████▍| 949/1000 [36:38<01:57,  2.31s/it]\u001b[A"
          ],
          "name": "stderr"
        },
        {
          "output_type": "stream",
          "text": [
            "(948, 20)\n"
          ],
          "name": "stdout"
        },
        {
          "output_type": "stream",
          "text": [
            "\n",
            " 95%|█████████▌| 950/1000 [36:40<01:55,  2.31s/it]\u001b[A"
          ],
          "name": "stderr"
        },
        {
          "output_type": "stream",
          "text": [
            "(949, 20)\n"
          ],
          "name": "stdout"
        },
        {
          "output_type": "stream",
          "text": [
            "\n",
            " 95%|█████████▌| 951/1000 [36:43<01:54,  2.34s/it]\u001b[A"
          ],
          "name": "stderr"
        },
        {
          "output_type": "stream",
          "text": [
            "(950, 20)\n"
          ],
          "name": "stdout"
        },
        {
          "output_type": "stream",
          "text": [
            "\n",
            " 95%|█████████▌| 952/1000 [36:45<01:52,  2.33s/it]\u001b[A"
          ],
          "name": "stderr"
        },
        {
          "output_type": "stream",
          "text": [
            "(951, 20)\n"
          ],
          "name": "stdout"
        },
        {
          "output_type": "stream",
          "text": [
            "\n",
            " 95%|█████████▌| 953/1000 [36:47<01:52,  2.39s/it]\u001b[A"
          ],
          "name": "stderr"
        },
        {
          "output_type": "stream",
          "text": [
            "(952, 20)\n"
          ],
          "name": "stdout"
        },
        {
          "output_type": "stream",
          "text": [
            "\n",
            " 95%|█████████▌| 954/1000 [36:50<01:53,  2.46s/it]\u001b[A"
          ],
          "name": "stderr"
        },
        {
          "output_type": "stream",
          "text": [
            "(953, 20)\n"
          ],
          "name": "stdout"
        },
        {
          "output_type": "stream",
          "text": [
            "\n",
            " 96%|█████████▌| 955/1000 [36:52<01:49,  2.44s/it]\u001b[A"
          ],
          "name": "stderr"
        },
        {
          "output_type": "stream",
          "text": [
            "(954, 20)\n"
          ],
          "name": "stdout"
        },
        {
          "output_type": "stream",
          "text": [
            "\n",
            " 96%|█████████▌| 956/1000 [36:57<02:14,  3.05s/it]\u001b[A"
          ],
          "name": "stderr"
        },
        {
          "output_type": "stream",
          "text": [
            "(955, 20)\n"
          ],
          "name": "stdout"
        },
        {
          "output_type": "stream",
          "text": [
            "\n",
            " 96%|█████████▌| 957/1000 [37:00<02:07,  2.96s/it]\u001b[A"
          ],
          "name": "stderr"
        },
        {
          "output_type": "stream",
          "text": [
            "(956, 20)\n"
          ],
          "name": "stdout"
        },
        {
          "output_type": "stream",
          "text": [
            "\n",
            " 96%|█████████▌| 958/1000 [37:03<02:04,  2.96s/it]\u001b[A"
          ],
          "name": "stderr"
        },
        {
          "output_type": "stream",
          "text": [
            "(957, 20)\n"
          ],
          "name": "stdout"
        },
        {
          "output_type": "stream",
          "text": [
            "\n",
            " 96%|█████████▌| 959/1000 [37:05<02:00,  2.93s/it]\u001b[A"
          ],
          "name": "stderr"
        },
        {
          "output_type": "stream",
          "text": [
            "(958, 20)\n"
          ],
          "name": "stdout"
        },
        {
          "output_type": "stream",
          "text": [
            "\n",
            " 96%|█████████▌| 960/1000 [37:08<01:51,  2.78s/it]\u001b[A"
          ],
          "name": "stderr"
        },
        {
          "output_type": "stream",
          "text": [
            "(959, 20)\n"
          ],
          "name": "stdout"
        },
        {
          "output_type": "stream",
          "text": [
            "\n",
            " 96%|█████████▌| 961/1000 [37:10<01:43,  2.66s/it]\u001b[A"
          ],
          "name": "stderr"
        },
        {
          "output_type": "stream",
          "text": [
            "(960, 20)\n"
          ],
          "name": "stdout"
        },
        {
          "output_type": "stream",
          "text": [
            "\n",
            " 96%|█████████▌| 962/1000 [37:15<02:00,  3.17s/it]\u001b[A"
          ],
          "name": "stderr"
        },
        {
          "output_type": "stream",
          "text": [
            "(961, 20)\n"
          ],
          "name": "stdout"
        },
        {
          "output_type": "stream",
          "text": [
            "\n",
            " 96%|█████████▋| 963/1000 [37:17<01:51,  3.01s/it]\u001b[A"
          ],
          "name": "stderr"
        },
        {
          "output_type": "stream",
          "text": [
            "(962, 20)\n"
          ],
          "name": "stdout"
        },
        {
          "output_type": "stream",
          "text": [
            "\n",
            " 96%|█████████▋| 964/1000 [37:20<01:41,  2.81s/it]\u001b[A"
          ],
          "name": "stderr"
        },
        {
          "output_type": "stream",
          "text": [
            "(963, 20)\n"
          ],
          "name": "stdout"
        },
        {
          "output_type": "stream",
          "text": [
            "\n",
            " 96%|█████████▋| 965/1000 [37:23<01:48,  3.10s/it]\u001b[A"
          ],
          "name": "stderr"
        },
        {
          "output_type": "stream",
          "text": [
            "(964, 20)\n"
          ],
          "name": "stdout"
        },
        {
          "output_type": "stream",
          "text": [
            "\n",
            " 97%|█████████▋| 966/1000 [37:26<01:42,  3.01s/it]\u001b[A"
          ],
          "name": "stderr"
        },
        {
          "output_type": "stream",
          "text": [
            "(965, 20)\n"
          ],
          "name": "stdout"
        },
        {
          "output_type": "stream",
          "text": [
            "\n",
            " 97%|█████████▋| 967/1000 [37:29<01:34,  2.85s/it]\u001b[A"
          ],
          "name": "stderr"
        },
        {
          "output_type": "stream",
          "text": [
            "(966, 20)\n"
          ],
          "name": "stdout"
        },
        {
          "output_type": "stream",
          "text": [
            "\n",
            " 97%|█████████▋| 968/1000 [37:33<01:46,  3.34s/it]\u001b[A"
          ],
          "name": "stderr"
        },
        {
          "output_type": "stream",
          "text": [
            "(967, 20)\n"
          ],
          "name": "stdout"
        },
        {
          "output_type": "stream",
          "text": [
            "\n",
            " 97%|█████████▋| 969/1000 [37:35<01:34,  3.03s/it]\u001b[A"
          ],
          "name": "stderr"
        },
        {
          "output_type": "stream",
          "text": [
            "(968, 20)\n"
          ],
          "name": "stdout"
        },
        {
          "output_type": "stream",
          "text": [
            "\n",
            " 97%|█████████▋| 970/1000 [37:40<01:43,  3.44s/it]\u001b[A"
          ],
          "name": "stderr"
        },
        {
          "output_type": "stream",
          "text": [
            "(969, 20)\n"
          ],
          "name": "stdout"
        },
        {
          "output_type": "stream",
          "text": [
            "\n",
            " 97%|█████████▋| 971/1000 [37:43<01:36,  3.34s/it]\u001b[A"
          ],
          "name": "stderr"
        },
        {
          "output_type": "stream",
          "text": [
            "(970, 20)\n"
          ],
          "name": "stdout"
        },
        {
          "output_type": "stream",
          "text": [
            "\n",
            " 97%|█████████▋| 972/1000 [37:45<01:25,  3.04s/it]\u001b[A"
          ],
          "name": "stderr"
        },
        {
          "output_type": "stream",
          "text": [
            "(971, 20)\n"
          ],
          "name": "stdout"
        },
        {
          "output_type": "stream",
          "text": [
            "\n",
            " 97%|█████████▋| 973/1000 [37:48<01:15,  2.81s/it]\u001b[A"
          ],
          "name": "stderr"
        },
        {
          "output_type": "stream",
          "text": [
            "(972, 20)\n"
          ],
          "name": "stdout"
        },
        {
          "output_type": "stream",
          "text": [
            "\n",
            " 97%|█████████▋| 974/1000 [37:52<01:25,  3.30s/it]\u001b[A"
          ],
          "name": "stderr"
        },
        {
          "output_type": "stream",
          "text": [
            "(973, 20)\n"
          ],
          "name": "stdout"
        },
        {
          "output_type": "stream",
          "text": [
            "\n",
            " 98%|█████████▊| 975/1000 [37:54<01:15,  3.03s/it]\u001b[A"
          ],
          "name": "stderr"
        },
        {
          "output_type": "stream",
          "text": [
            "(974, 20)\n"
          ],
          "name": "stdout"
        },
        {
          "output_type": "stream",
          "text": [
            "\n",
            " 98%|█████████▊| 976/1000 [37:58<01:13,  3.08s/it]\u001b[A"
          ],
          "name": "stderr"
        },
        {
          "output_type": "stream",
          "text": [
            "(975, 20)\n"
          ],
          "name": "stdout"
        },
        {
          "output_type": "stream",
          "text": [
            "\n",
            " 98%|█████████▊| 977/1000 [38:00<01:04,  2.81s/it]\u001b[A"
          ],
          "name": "stderr"
        },
        {
          "output_type": "stream",
          "text": [
            "(976, 20)\n"
          ],
          "name": "stdout"
        },
        {
          "output_type": "stream",
          "text": [
            "\n",
            " 98%|█████████▊| 978/1000 [38:02<00:58,  2.65s/it]\u001b[A"
          ],
          "name": "stderr"
        },
        {
          "output_type": "stream",
          "text": [
            "(977, 20)\n"
          ],
          "name": "stdout"
        },
        {
          "output_type": "stream",
          "text": [
            "\n",
            " 98%|█████████▊| 979/1000 [38:04<00:53,  2.56s/it]\u001b[A"
          ],
          "name": "stderr"
        },
        {
          "output_type": "stream",
          "text": [
            "(978, 20)\n"
          ],
          "name": "stdout"
        },
        {
          "output_type": "stream",
          "text": [
            "\n",
            " 98%|█████████▊| 980/1000 [38:07<00:50,  2.54s/it]\u001b[A"
          ],
          "name": "stderr"
        },
        {
          "output_type": "stream",
          "text": [
            "(979, 20)\n"
          ],
          "name": "stdout"
        },
        {
          "output_type": "stream",
          "text": [
            "\n",
            " 98%|█████████▊| 981/1000 [38:09<00:47,  2.47s/it]\u001b[A"
          ],
          "name": "stderr"
        },
        {
          "output_type": "stream",
          "text": [
            "(980, 20)\n"
          ],
          "name": "stdout"
        },
        {
          "output_type": "stream",
          "text": [
            "\n",
            " 98%|█████████▊| 982/1000 [38:12<00:46,  2.56s/it]\u001b[A"
          ],
          "name": "stderr"
        },
        {
          "output_type": "stream",
          "text": [
            "(981, 20)\n"
          ],
          "name": "stdout"
        },
        {
          "output_type": "stream",
          "text": [
            "\n",
            " 98%|█████████▊| 983/1000 [38:14<00:42,  2.50s/it]\u001b[A"
          ],
          "name": "stderr"
        },
        {
          "output_type": "stream",
          "text": [
            "(982, 20)\n"
          ],
          "name": "stdout"
        },
        {
          "output_type": "stream",
          "text": [
            "\n",
            " 98%|█████████▊| 984/1000 [38:17<00:40,  2.51s/it]\u001b[A"
          ],
          "name": "stderr"
        },
        {
          "output_type": "stream",
          "text": [
            "(983, 20)\n"
          ],
          "name": "stdout"
        },
        {
          "output_type": "stream",
          "text": [
            "\n",
            " 98%|█████████▊| 985/1000 [38:20<00:42,  2.80s/it]\u001b[A"
          ],
          "name": "stderr"
        },
        {
          "output_type": "stream",
          "text": [
            "(984, 20)\n"
          ],
          "name": "stdout"
        },
        {
          "output_type": "stream",
          "text": [
            "\n",
            " 99%|█████████▊| 986/1000 [38:23<00:38,  2.73s/it]\u001b[A"
          ],
          "name": "stderr"
        },
        {
          "output_type": "stream",
          "text": [
            "(985, 20)\n"
          ],
          "name": "stdout"
        },
        {
          "output_type": "stream",
          "text": [
            "\n",
            " 99%|█████████▊| 987/1000 [38:28<00:42,  3.30s/it]\u001b[A"
          ],
          "name": "stderr"
        },
        {
          "output_type": "stream",
          "text": [
            "(986, 20)\n"
          ],
          "name": "stdout"
        },
        {
          "output_type": "stream",
          "text": [
            "\n",
            " 99%|█████████▉| 988/1000 [38:30<00:36,  3.02s/it]\u001b[A"
          ],
          "name": "stderr"
        },
        {
          "output_type": "stream",
          "text": [
            "(987, 20)\n"
          ],
          "name": "stdout"
        },
        {
          "output_type": "stream",
          "text": [
            "\n",
            " 99%|█████████▉| 989/1000 [38:34<00:38,  3.46s/it]\u001b[A"
          ],
          "name": "stderr"
        },
        {
          "output_type": "stream",
          "text": [
            "(988, 20)\n"
          ],
          "name": "stdout"
        },
        {
          "output_type": "stream",
          "text": [
            "\n",
            " 99%|█████████▉| 990/1000 [38:38<00:35,  3.60s/it]\u001b[A"
          ],
          "name": "stderr"
        },
        {
          "output_type": "stream",
          "text": [
            "(989, 20)\n"
          ],
          "name": "stdout"
        },
        {
          "output_type": "stream",
          "text": [
            "\n",
            " 99%|█████████▉| 991/1000 [38:41<00:29,  3.23s/it]\u001b[A"
          ],
          "name": "stderr"
        },
        {
          "output_type": "stream",
          "text": [
            "(990, 20)\n"
          ],
          "name": "stdout"
        },
        {
          "output_type": "stream",
          "text": [
            "\n",
            " 99%|█████████▉| 992/1000 [38:43<00:23,  2.98s/it]\u001b[A"
          ],
          "name": "stderr"
        },
        {
          "output_type": "stream",
          "text": [
            "(991, 20)\n"
          ],
          "name": "stdout"
        },
        {
          "output_type": "stream",
          "text": [
            "\n",
            " 99%|█████████▉| 993/1000 [38:45<00:19,  2.78s/it]\u001b[A"
          ],
          "name": "stderr"
        },
        {
          "output_type": "stream",
          "text": [
            "(992, 20)\n"
          ],
          "name": "stdout"
        },
        {
          "output_type": "stream",
          "text": [
            "\n",
            " 99%|█████████▉| 994/1000 [38:48<00:15,  2.62s/it]\u001b[A"
          ],
          "name": "stderr"
        },
        {
          "output_type": "stream",
          "text": [
            "(993, 20)\n"
          ],
          "name": "stdout"
        },
        {
          "output_type": "stream",
          "text": [
            "\n",
            "100%|█████████▉| 995/1000 [38:50<00:12,  2.54s/it]\u001b[A"
          ],
          "name": "stderr"
        },
        {
          "output_type": "stream",
          "text": [
            "(994, 20)\n"
          ],
          "name": "stdout"
        },
        {
          "output_type": "stream",
          "text": [
            "\n",
            "100%|█████████▉| 996/1000 [38:52<00:10,  2.51s/it]\u001b[A"
          ],
          "name": "stderr"
        },
        {
          "output_type": "stream",
          "text": [
            "(995, 20)\n"
          ],
          "name": "stdout"
        },
        {
          "output_type": "stream",
          "text": [
            "\n",
            "100%|█████████▉| 997/1000 [38:55<00:07,  2.48s/it]\u001b[A"
          ],
          "name": "stderr"
        },
        {
          "output_type": "stream",
          "text": [
            "(996, 20)\n"
          ],
          "name": "stdout"
        },
        {
          "output_type": "stream",
          "text": [
            "\n",
            "100%|█████████▉| 998/1000 [38:57<00:04,  2.43s/it]\u001b[A"
          ],
          "name": "stderr"
        },
        {
          "output_type": "stream",
          "text": [
            "(997, 20)\n"
          ],
          "name": "stdout"
        },
        {
          "output_type": "stream",
          "text": [
            "\n",
            "100%|█████████▉| 999/1000 [39:01<00:02,  2.75s/it]\u001b[A"
          ],
          "name": "stderr"
        },
        {
          "output_type": "stream",
          "text": [
            "(998, 20)\n"
          ],
          "name": "stdout"
        },
        {
          "output_type": "stream",
          "text": [
            "\n",
            "100%|██████████| 1000/1000 [39:03<00:00,  2.61s/it]\u001b[A\n",
            "\u001b[A"
          ],
          "name": "stderr"
        },
        {
          "output_type": "stream",
          "text": [
            "(999, 20)\n",
            "(1000, 20)\n"
          ],
          "name": "stdout"
        }
      ]
    },
    {
      "cell_type": "code",
      "metadata": {
        "id": "NkRkJG_x_eZd",
        "colab_type": "code",
        "colab": {}
      },
      "source": [
        "\n",
        "with open('drive/My Drive/Colab Notebooks/spotify/input/singing_voice_lpmcc.pickle', mode='wb') as f:\n",
        "  pickle.dump(M, f)"
      ],
      "execution_count": 0,
      "outputs": []
    },
    {
      "cell_type": "markdown",
      "metadata": {
        "id": "0fWY0l7DAY0R",
        "colab_type": "text"
      },
      "source": [
        "# Calculate Cosine Similarity"
      ]
    },
    {
      "cell_type": "code",
      "metadata": {
        "id": "LXVh_qKE7s-X",
        "colab_type": "code",
        "colab": {}
      },
      "source": [
        "import pickle\n",
        "with open('drive/My Drive/Colab Notebooks/spotify/input/singing_voice_lpmcc.pickle', mode='rb') as f:\n",
        "  M = pickle.load(f)"
      ],
      "execution_count": 0,
      "outputs": []
    },
    {
      "cell_type": "markdown",
      "metadata": {
        "id": "Nm8q4zrG7skt",
        "colab_type": "text"
      },
      "source": [
        ""
      ]
    },
    {
      "cell_type": "code",
      "metadata": {
        "id": "luGIGd59gTOO",
        "colab_type": "code",
        "colab": {}
      },
      "source": [
        "def cos_sim(v1, v2):\n",
        "    return np.dot(v1, v2) / (np.linalg.norm(v1) * np.linalg.norm(v2))"
      ],
      "execution_count": 0,
      "outputs": []
    },
    {
      "cell_type": "code",
      "metadata": {
        "id": "UmhTZt-25Uca",
        "colab_type": "code",
        "colab": {}
      },
      "source": [
        "S = np.zeros([1000,1000])\n",
        "for i in range(S.shape[0]):\n",
        "  for j in range(S.shape[1]):\n",
        "    S[i][j] = cos_sim(M[i,:], M[j,:])"
      ],
      "execution_count": 0,
      "outputs": []
    },
    {
      "cell_type": "code",
      "metadata": {
        "id": "r3VdJoGLA5Js",
        "colab_type": "code",
        "outputId": "e1487a9b-bfde-4fce-e7de-bda602d8a510",
        "colab": {
          "base_uri": "https://localhost:8080/",
          "height": 286
        }
      },
      "source": [
        "import matplotlib.pyplot as plt\n",
        "%matplotlib inline\n",
        "plt.imshow(S)"
      ],
      "execution_count": 20,
      "outputs": [
        {
          "output_type": "execute_result",
          "data": {
            "text/plain": [
              "<matplotlib.image.AxesImage at 0x7fd4b14bd668>"
            ]
          },
          "metadata": {
            "tags": []
          },
          "execution_count": 20
        },
        {
          "output_type": "display_data",
          "data": {
            "image/png": "[encoded data removed]",
            "text/plain": [
              "<Figure size 432x288 with 1 Axes>"
            ]
          },
          "metadata": {
            "tags": []
          }
        }
      ]
    },
    {
      "cell_type": "code",
      "metadata": {
        "id": "wi-M_TpUCpFE",
        "colab_type": "code",
        "colab": {}
      },
      "source": [
        "df = pd.read_csv('drive/My Drive/Colab Notebooks/spotify/input/all_tracks.csv')"
      ],
      "execution_count": 0,
      "outputs": []
    },
    {
      "cell_type": "code",
      "metadata": {
        "id": "ODO62lGyCwf3",
        "colab_type": "code",
        "outputId": "f2ffc72f-4eb1-470d-98e9-2e2abff9e347",
        "colab": {
          "base_uri": "https://localhost:8080/",
          "height": 367
        }
      },
      "source": [
        "df.head()"
      ],
      "execution_count": 22,
      "outputs": [
        {
          "output_type": "execute_result",
          "data": {
            "text/html": [
              "<div>\n",
              "<style scoped>\n",
              "    .dataframe tbody tr th:only-of-type {\n",
              "        vertical-align: middle;\n",
              "    }\n",
              "\n",
              "    .dataframe tbody tr th {\n",
              "        vertical-align: top;\n",
              "    }\n",
              "\n",
              "    .dataframe thead th {\n",
              "        text-align: right;\n",
              "    }\n",
              "</style>\n",
              "<table border=\"1\" class=\"dataframe\">\n",
              "  <thead>\n",
              "    <tr style=\"text-align: right;\">\n",
              "      <th></th>\n",
              "      <th>Unnamed: 0</th>\n",
              "      <th>track_id</th>\n",
              "      <th>track_name</th>\n",
              "      <th>track_url</th>\n",
              "      <th>available_markets</th>\n",
              "      <th>disc_number</th>\n",
              "      <th>duration_ms</th>\n",
              "      <th>popularity</th>\n",
              "      <th>preview_url</th>\n",
              "      <th>track_number</th>\n",
              "      <th>acousticness</th>\n",
              "      <th>danceability</th>\n",
              "      <th>energy</th>\n",
              "      <th>instrumentalness</th>\n",
              "      <th>liveness</th>\n",
              "      <th>loudness</th>\n",
              "      <th>valence</th>\n",
              "      <th>speechiness</th>\n",
              "      <th>key</th>\n",
              "      <th>mode</th>\n",
              "      <th>tempo</th>\n",
              "      <th>time_signature</th>\n",
              "      <th>artist_id</th>\n",
              "      <th>artist_name</th>\n",
              "      <th>artist_url</th>\n",
              "      <th>artist_type</th>\n",
              "      <th>album_url</th>\n",
              "      <th>album_id</th>\n",
              "      <th>album_name</th>\n",
              "      <th>album_image_url</th>\n",
              "      <th>release_date</th>\n",
              "      <th>total_tracks</th>\n",
              "      <th>genre</th>\n",
              "    </tr>\n",
              "  </thead>\n",
              "  <tbody>\n",
              "    <tr>\n",
              "      <th>0</th>\n",
              "      <td>0</td>\n",
              "      <td>18kopBY404pwnBMYoUwQYi</td>\n",
              "      <td>白日</td>\n",
              "      <td>https://open.spotify.com/track/18kopBY404pwnBM...</td>\n",
              "      <td>JP</td>\n",
              "      <td>1</td>\n",
              "      <td>274912</td>\n",
              "      <td>74</td>\n",
              "      <td>https://p.scdn.co/mp3-preview/ea4b717ce07ca1f7...</td>\n",
              "      <td>1</td>\n",
              "      <td>0.67000</td>\n",
              "      <td>0.606</td>\n",
              "      <td>0.901</td>\n",
              "      <td>0.0</td>\n",
              "      <td>0.2890</td>\n",
              "      <td>-2.552</td>\n",
              "      <td>0.748</td>\n",
              "      <td>0.1100</td>\n",
              "      <td>1</td>\n",
              "      <td>1</td>\n",
              "      <td>93.012</td>\n",
              "      <td>4</td>\n",
              "      <td>6wxfx1yhyqjCPYwwxJktR2</td>\n",
              "      <td>King Gnu</td>\n",
              "      <td>https://open.spotify.com/artist/6wxfx1yhyqjCPY...</td>\n",
              "      <td>artist</td>\n",
              "      <td>https://open.spotify.com/album/3cl7Jz2Ul0f2tBI...</td>\n",
              "      <td>3cl7Jz2Ul0f2tBIwtxRtEG</td>\n",
              "      <td>白日</td>\n",
              "      <td>https://i.scdn.co/image/ab67616d0000b27334547f...</td>\n",
              "      <td>2019-02-22</td>\n",
              "      <td>1</td>\n",
              "      <td>j-pop</td>\n",
              "    </tr>\n",
              "    <tr>\n",
              "      <th>1</th>\n",
              "      <td>1</td>\n",
              "      <td>58dxGXavrcagRqA58fNB0Z</td>\n",
              "      <td>Pretender</td>\n",
              "      <td>https://open.spotify.com/track/58dxGXavrcagRqA...</td>\n",
              "      <td>JP</td>\n",
              "      <td>1</td>\n",
              "      <td>326842</td>\n",
              "      <td>73</td>\n",
              "      <td>https://p.scdn.co/mp3-preview/be38b0e8369611ca...</td>\n",
              "      <td>7</td>\n",
              "      <td>0.04700</td>\n",
              "      <td>0.538</td>\n",
              "      <td>0.869</td>\n",
              "      <td>0.0</td>\n",
              "      <td>0.1400</td>\n",
              "      <td>-3.464</td>\n",
              "      <td>0.369</td>\n",
              "      <td>0.0275</td>\n",
              "      <td>8</td>\n",
              "      <td>1</td>\n",
              "      <td>91.972</td>\n",
              "      <td>4</td>\n",
              "      <td>5Vo1hnCRmCM6M4thZCInCj</td>\n",
              "      <td>Official HIGE DANdism</td>\n",
              "      <td>https://open.spotify.com/artist/5Vo1hnCRmCM6M4...</td>\n",
              "      <td>artist</td>\n",
              "      <td>https://open.spotify.com/album/2vwgYzudvFwyFe1...</td>\n",
              "      <td>2vwgYzudvFwyFe1Ho9gdUQ</td>\n",
              "      <td>Traveler</td>\n",
              "      <td>https://i.scdn.co/image/d840bba5b8b0528f5277d1...</td>\n",
              "      <td>2019-09-11</td>\n",
              "      <td>7</td>\n",
              "      <td>j-pop</td>\n",
              "    </tr>\n",
              "    <tr>\n",
              "      <th>2</th>\n",
              "      <td>2</td>\n",
              "      <td>2cKiHG16JBiqHdi7Llq0r7</td>\n",
              "      <td>マリーゴールド</td>\n",
              "      <td>https://open.spotify.com/track/2cKiHG16JBiqHdi...</td>\n",
              "      <td>JP</td>\n",
              "      <td>1</td>\n",
              "      <td>306626</td>\n",
              "      <td>70</td>\n",
              "      <td>https://p.scdn.co/mp3-preview/3e7e7b371ffc326a...</td>\n",
              "      <td>2</td>\n",
              "      <td>0.04520</td>\n",
              "      <td>0.545</td>\n",
              "      <td>0.745</td>\n",
              "      <td>0.0</td>\n",
              "      <td>0.0907</td>\n",
              "      <td>-3.098</td>\n",
              "      <td>0.413</td>\n",
              "      <td>0.0286</td>\n",
              "      <td>2</td>\n",
              "      <td>1</td>\n",
              "      <td>106.094</td>\n",
              "      <td>4</td>\n",
              "      <td>5kVZa4lFUmAQlBogl1fkd6</td>\n",
              "      <td>Aimyon</td>\n",
              "      <td>https://open.spotify.com/artist/5kVZa4lFUmAQlB...</td>\n",
              "      <td>artist</td>\n",
              "      <td>https://open.spotify.com/album/7fIqmc4GIaueaiA...</td>\n",
              "      <td>7fIqmc4GIaueaiAoDifAaA</td>\n",
              "      <td>瞬間的シックスセンス</td>\n",
              "      <td>https://i.scdn.co/image/ab67616d0000b273c12d78...</td>\n",
              "      <td>2019-02-13</td>\n",
              "      <td>12</td>\n",
              "      <td>j-pop</td>\n",
              "    </tr>\n",
              "    <tr>\n",
              "      <th>3</th>\n",
              "      <td>3</td>\n",
              "      <td>5DMEvbg3gUmiR5HIBWdveV</td>\n",
              "      <td>ノーダウト</td>\n",
              "      <td>https://open.spotify.com/track/5DMEvbg3gUmiR5H...</td>\n",
              "      <td>AD,AE,AR,AT,AU,BE,BG,BH,BO,BR,CA,CH,CL,CO,CR,C...</td>\n",
              "      <td>1</td>\n",
              "      <td>202394</td>\n",
              "      <td>72</td>\n",
              "      <td>https://p.scdn.co/mp3-preview/b3409baf6c3f0023...</td>\n",
              "      <td>2</td>\n",
              "      <td>0.05850</td>\n",
              "      <td>0.574</td>\n",
              "      <td>0.936</td>\n",
              "      <td>0.0</td>\n",
              "      <td>0.3360</td>\n",
              "      <td>-3.185</td>\n",
              "      <td>0.793</td>\n",
              "      <td>0.0700</td>\n",
              "      <td>2</td>\n",
              "      <td>1</td>\n",
              "      <td>149.953</td>\n",
              "      <td>4</td>\n",
              "      <td>5Vo1hnCRmCM6M4thZCInCj</td>\n",
              "      <td>Official HIGE DANdism</td>\n",
              "      <td>https://open.spotify.com/artist/5Vo1hnCRmCM6M4...</td>\n",
              "      <td>artist</td>\n",
              "      <td>https://open.spotify.com/album/0Iz8ByVqKvdlyl7...</td>\n",
              "      <td>0Iz8ByVqKvdlyl77DV3y3p</td>\n",
              "      <td>エスカパレード</td>\n",
              "      <td>https://i.scdn.co/image/ab67616d0000b273b483b5...</td>\n",
              "      <td>2018-04-11</td>\n",
              "      <td>13</td>\n",
              "      <td>j-pop</td>\n",
              "    </tr>\n",
              "    <tr>\n",
              "      <th>4</th>\n",
              "      <td>4</td>\n",
              "      <td>278JqkBGkjDovOYAwE8TW7</td>\n",
              "      <td>115万キロのフィルム</td>\n",
              "      <td>https://open.spotify.com/track/278JqkBGkjDovOY...</td>\n",
              "      <td>AD,AE,AR,AT,AU,BE,BG,BH,BO,BR,CA,CH,CL,CO,CR,C...</td>\n",
              "      <td>1</td>\n",
              "      <td>324633</td>\n",
              "      <td>71</td>\n",
              "      <td>https://p.scdn.co/mp3-preview/40f3707f230ab26e...</td>\n",
              "      <td>1</td>\n",
              "      <td>0.00345</td>\n",
              "      <td>0.514</td>\n",
              "      <td>0.791</td>\n",
              "      <td>0.0</td>\n",
              "      <td>0.1410</td>\n",
              "      <td>-1.927</td>\n",
              "      <td>0.482</td>\n",
              "      <td>0.0318</td>\n",
              "      <td>3</td>\n",
              "      <td>1</td>\n",
              "      <td>96.966</td>\n",
              "      <td>4</td>\n",
              "      <td>5Vo1hnCRmCM6M4thZCInCj</td>\n",
              "      <td>Official HIGE DANdism</td>\n",
              "      <td>https://open.spotify.com/artist/5Vo1hnCRmCM6M4...</td>\n",
              "      <td>artist</td>\n",
              "      <td>https://open.spotify.com/album/0Iz8ByVqKvdlyl7...</td>\n",
              "      <td>0Iz8ByVqKvdlyl77DV3y3p</td>\n",
              "      <td>エスカパレード</td>\n",
              "      <td>https://i.scdn.co/image/ab67616d0000b273b483b5...</td>\n",
              "      <td>2018-04-11</td>\n",
              "      <td>13</td>\n",
              "      <td>j-pop</td>\n",
              "    </tr>\n",
              "  </tbody>\n",
              "</table>\n",
              "</div>"
            ],
            "text/plain": [
              "   Unnamed: 0                track_id  ... total_tracks  genre\n",
              "0           0  18kopBY404pwnBMYoUwQYi  ...            1  j-pop\n",
              "1           1  58dxGXavrcagRqA58fNB0Z  ...            7  j-pop\n",
              "2           2  2cKiHG16JBiqHdi7Llq0r7  ...           12  j-pop\n",
              "3           3  5DMEvbg3gUmiR5HIBWdveV  ...           13  j-pop\n",
              "4           4  278JqkBGkjDovOYAwE8TW7  ...           13  j-pop\n",
              "\n",
              "[5 rows x 33 columns]"
            ]
          },
          "metadata": {
            "tags": []
          },
          "execution_count": 22
        }
      ]
    },
    {
      "cell_type": "code",
      "metadata": {
        "id": "SlJdGu1iC2Yc",
        "colab_type": "code",
        "colab": {}
      },
      "source": [
        "df = df.sort_values(by=['track_id'])"
      ],
      "execution_count": 0,
      "outputs": []
    },
    {
      "cell_type": "code",
      "metadata": {
        "id": "hLHnDr5CDBpc",
        "colab_type": "code",
        "outputId": "8504abc1-8785-4ea4-b402-e4e3308ad5dc",
        "colab": {
          "base_uri": "https://localhost:8080/",
          "height": 1000
        }
      },
      "source": [
        "df.head(20)"
      ],
      "execution_count": 16,
      "outputs": [
        {
          "output_type": "execute_result",
          "data": {
            "text/html": [
              "<div>\n",
              "<style scoped>\n",
              "    .dataframe tbody tr th:only-of-type {\n",
              "        vertical-align: middle;\n",
              "    }\n",
              "\n",
              "    .dataframe tbody tr th {\n",
              "        vertical-align: top;\n",
              "    }\n",
              "\n",
              "    .dataframe thead th {\n",
              "        text-align: right;\n",
              "    }\n",
              "</style>\n",
              "<table border=\"1\" class=\"dataframe\">\n",
              "  <thead>\n",
              "    <tr style=\"text-align: right;\">\n",
              "      <th></th>\n",
              "      <th>Unnamed: 0</th>\n",
              "      <th>track_id</th>\n",
              "      <th>track_name</th>\n",
              "      <th>track_url</th>\n",
              "      <th>available_markets</th>\n",
              "      <th>disc_number</th>\n",
              "      <th>duration_ms</th>\n",
              "      <th>popularity</th>\n",
              "      <th>preview_url</th>\n",
              "      <th>track_number</th>\n",
              "      <th>acousticness</th>\n",
              "      <th>danceability</th>\n",
              "      <th>energy</th>\n",
              "      <th>instrumentalness</th>\n",
              "      <th>liveness</th>\n",
              "      <th>loudness</th>\n",
              "      <th>valence</th>\n",
              "      <th>speechiness</th>\n",
              "      <th>key</th>\n",
              "      <th>mode</th>\n",
              "      <th>tempo</th>\n",
              "      <th>time_signature</th>\n",
              "      <th>artist_id</th>\n",
              "      <th>artist_name</th>\n",
              "      <th>artist_url</th>\n",
              "      <th>artist_type</th>\n",
              "      <th>album_url</th>\n",
              "      <th>album_id</th>\n",
              "      <th>album_name</th>\n",
              "      <th>album_image_url</th>\n",
              "      <th>release_date</th>\n",
              "      <th>total_tracks</th>\n",
              "      <th>genre</th>\n",
              "    </tr>\n",
              "  </thead>\n",
              "  <tbody>\n",
              "    <tr>\n",
              "      <th>632</th>\n",
              "      <td>632</td>\n",
              "      <td>008jrQKCdBGzQdxp9Fk40z</td>\n",
              "      <td>little flower</td>\n",
              "      <td>https://open.spotify.com/track/008jrQKCdBGzQdx...</td>\n",
              "      <td>JP</td>\n",
              "      <td>1</td>\n",
              "      <td>273306</td>\n",
              "      <td>45</td>\n",
              "      <td>https://p.scdn.co/mp3-preview/543c20dcb851f64b...</td>\n",
              "      <td>1</td>\n",
              "      <td>0.000607</td>\n",
              "      <td>0.584</td>\n",
              "      <td>0.904</td>\n",
              "      <td>0.000000</td>\n",
              "      <td>0.1830</td>\n",
              "      <td>-4.102</td>\n",
              "      <td>0.514</td>\n",
              "      <td>0.0315</td>\n",
              "      <td>2</td>\n",
              "      <td>1</td>\n",
              "      <td>103.966</td>\n",
              "      <td>4</td>\n",
              "      <td>6SY4uTql6IMmzbAJH9oAsJ</td>\n",
              "      <td>Kana Adachi</td>\n",
              "      <td>https://open.spotify.com/artist/6SY4uTql6IMmzb...</td>\n",
              "      <td>artist</td>\n",
              "      <td>https://open.spotify.com/album/74VmT6SHwO273G9...</td>\n",
              "      <td>74VmT6SHwO273G9fxEl2VQ</td>\n",
              "      <td>little flower</td>\n",
              "      <td>https://i.scdn.co/image/ab67616d0000b273fc05bf...</td>\n",
              "      <td>2019-04-15</td>\n",
              "      <td>1</td>\n",
              "      <td>j-pop</td>\n",
              "    </tr>\n",
              "    <tr>\n",
              "      <th>361</th>\n",
              "      <td>361</td>\n",
              "      <td>00Nw7w9YQQmJLOmG4ZEGYH</td>\n",
              "      <td>parade</td>\n",
              "      <td>https://open.spotify.com/track/00Nw7w9YQQmJLOm...</td>\n",
              "      <td>JP</td>\n",
              "      <td>1</td>\n",
              "      <td>280320</td>\n",
              "      <td>53</td>\n",
              "      <td>https://p.scdn.co/mp3-preview/47ad5a2c4528ba81...</td>\n",
              "      <td>7</td>\n",
              "      <td>0.199000</td>\n",
              "      <td>0.428</td>\n",
              "      <td>0.667</td>\n",
              "      <td>0.000000</td>\n",
              "      <td>0.2270</td>\n",
              "      <td>-4.000</td>\n",
              "      <td>0.804</td>\n",
              "      <td>0.0397</td>\n",
              "      <td>4</td>\n",
              "      <td>1</td>\n",
              "      <td>204.136</td>\n",
              "      <td>4</td>\n",
              "      <td>5Vo1hnCRmCM6M4thZCInCj</td>\n",
              "      <td>Official HIGE DANdism</td>\n",
              "      <td>https://open.spotify.com/artist/5Vo1hnCRmCM6M4...</td>\n",
              "      <td>artist</td>\n",
              "      <td>https://open.spotify.com/album/5k754JGg1QCJrQv...</td>\n",
              "      <td>5k754JGg1QCJrQvU9YGA1E</td>\n",
              "      <td>ラブとピースは君の中</td>\n",
              "      <td>https://i.scdn.co/image/ab67616d0000b273173158...</td>\n",
              "      <td>2015-04-22</td>\n",
              "      <td>8</td>\n",
              "      <td>j-pop</td>\n",
              "    </tr>\n",
              "    <tr>\n",
              "      <th>812</th>\n",
              "      <td>812</td>\n",
              "      <td>01k7uuVtfuOKtbCZ3YMN2L</td>\n",
              "      <td>時代</td>\n",
              "      <td>https://open.spotify.com/track/01k7uuVtfuOKtbC...</td>\n",
              "      <td>AD,AE,AR,AT,AU,BE,BG,BH,BO,BR,CA,CH,CL,CO,CR,C...</td>\n",
              "      <td>1</td>\n",
              "      <td>293172</td>\n",
              "      <td>48</td>\n",
              "      <td>https://p.scdn.co/mp3-preview/64e21e2809b51586...</td>\n",
              "      <td>1</td>\n",
              "      <td>0.001980</td>\n",
              "      <td>0.585</td>\n",
              "      <td>0.944</td>\n",
              "      <td>0.000002</td>\n",
              "      <td>0.2920</td>\n",
              "      <td>-3.931</td>\n",
              "      <td>0.591</td>\n",
              "      <td>0.0488</td>\n",
              "      <td>7</td>\n",
              "      <td>1</td>\n",
              "      <td>100.043</td>\n",
              "      <td>4</td>\n",
              "      <td>1XYuC1vxinTjHCNd5clB8C</td>\n",
              "      <td>ARASHI</td>\n",
              "      <td>https://open.spotify.com/artist/1XYuC1vxinTjHC...</td>\n",
              "      <td>artist</td>\n",
              "      <td>https://open.spotify.com/album/6IA1t0U9TjzwtJw...</td>\n",
              "      <td>6IA1t0U9TjzwtJwGdLXD4G</td>\n",
              "      <td>時代</td>\n",
              "      <td>https://i.scdn.co/image/56c467b5478b617edb5e55...</td>\n",
              "      <td>2001-08-01</td>\n",
              "      <td>1</td>\n",
              "      <td>j-pop</td>\n",
              "    </tr>\n",
              "    <tr>\n",
              "      <th>85</th>\n",
              "      <td>85</td>\n",
              "      <td>022X58N6Tv7klHzcMzCtAl</td>\n",
              "      <td>飛行艇</td>\n",
              "      <td>https://open.spotify.com/track/022X58N6Tv7klHz...</td>\n",
              "      <td>JP</td>\n",
              "      <td>1</td>\n",
              "      <td>260893</td>\n",
              "      <td>0</td>\n",
              "      <td>https://p.scdn.co/mp3-preview/fe562fd541fed47a...</td>\n",
              "      <td>7</td>\n",
              "      <td>0.071100</td>\n",
              "      <td>0.475</td>\n",
              "      <td>0.841</td>\n",
              "      <td>0.000000</td>\n",
              "      <td>0.3580</td>\n",
              "      <td>-2.940</td>\n",
              "      <td>0.469</td>\n",
              "      <td>0.0446</td>\n",
              "      <td>1</td>\n",
              "      <td>1</td>\n",
              "      <td>79.930</td>\n",
              "      <td>4</td>\n",
              "      <td>6wxfx1yhyqjCPYwwxJktR2</td>\n",
              "      <td>King Gnu</td>\n",
              "      <td>https://open.spotify.com/artist/6wxfx1yhyqjCPY...</td>\n",
              "      <td>artist</td>\n",
              "      <td>https://open.spotify.com/album/7i52WTMXSBFAx6k...</td>\n",
              "      <td>7i52WTMXSBFAx6kUnNdjIK</td>\n",
              "      <td>CEREMONY</td>\n",
              "      <td>https://i.scdn.co/image/a85d880e10ea5ce09c6d95...</td>\n",
              "      <td>2020-01-15</td>\n",
              "      <td>12</td>\n",
              "      <td>j-pop</td>\n",
              "    </tr>\n",
              "    <tr>\n",
              "      <th>848</th>\n",
              "      <td>848</td>\n",
              "      <td>02me5PrRaF8baUbyiJ0bv7</td>\n",
              "      <td>プライド革命</td>\n",
              "      <td>https://open.spotify.com/track/02me5PrRaF8baUb...</td>\n",
              "      <td>JP</td>\n",
              "      <td>1</td>\n",
              "      <td>235586</td>\n",
              "      <td>48</td>\n",
              "      <td>https://p.scdn.co/mp3-preview/d889efd7b5e8ccb7...</td>\n",
              "      <td>13</td>\n",
              "      <td>0.005280</td>\n",
              "      <td>0.336</td>\n",
              "      <td>0.937</td>\n",
              "      <td>0.000054</td>\n",
              "      <td>0.3650</td>\n",
              "      <td>-2.249</td>\n",
              "      <td>0.514</td>\n",
              "      <td>0.3570</td>\n",
              "      <td>1</td>\n",
              "      <td>0</td>\n",
              "      <td>184.908</td>\n",
              "      <td>4</td>\n",
              "      <td>7qpGWSiolU9E5WbkvTaMDd</td>\n",
              "      <td>CHiCO with HoneyWorks</td>\n",
              "      <td>https://open.spotify.com/artist/7qpGWSiolU9E5W...</td>\n",
              "      <td>artist</td>\n",
              "      <td>https://open.spotify.com/album/6eyndpBwWu0k0W3...</td>\n",
              "      <td>6eyndpBwWu0k0W3NBhSPfZ</td>\n",
              "      <td>世界はiに満ちている</td>\n",
              "      <td>https://i.scdn.co/image/ab67616d0000b273c1136b...</td>\n",
              "      <td>2015-11-18</td>\n",
              "      <td>14</td>\n",
              "      <td>j-pop</td>\n",
              "    </tr>\n",
              "    <tr>\n",
              "      <th>464</th>\n",
              "      <td>464</td>\n",
              "      <td>02xCHhTG3lRknzXq6cbcJh</td>\n",
              "      <td>M</td>\n",
              "      <td>https://open.spotify.com/track/02xCHhTG3lRknzX...</td>\n",
              "      <td>JP</td>\n",
              "      <td>1</td>\n",
              "      <td>275333</td>\n",
              "      <td>52</td>\n",
              "      <td>https://p.scdn.co/mp3-preview/5e6200e3ae371e47...</td>\n",
              "      <td>10</td>\n",
              "      <td>0.106000</td>\n",
              "      <td>0.318</td>\n",
              "      <td>0.482</td>\n",
              "      <td>0.000011</td>\n",
              "      <td>0.2810</td>\n",
              "      <td>-12.015</td>\n",
              "      <td>0.392</td>\n",
              "      <td>0.0353</td>\n",
              "      <td>0</td>\n",
              "      <td>1</td>\n",
              "      <td>81.917</td>\n",
              "      <td>4</td>\n",
              "      <td>2fpbR8VQWHUivTaeLTR5MJ</td>\n",
              "      <td>Princess Princess</td>\n",
              "      <td>https://open.spotify.com/artist/2fpbR8VQWHUivT...</td>\n",
              "      <td>artist</td>\n",
              "      <td>https://open.spotify.com/album/1efWSPtU01xnWdv...</td>\n",
              "      <td>1efWSPtU01xnWdvYeydR43</td>\n",
              "      <td>LET'S GET CRAZY</td>\n",
              "      <td>https://i.scdn.co/image/ab67616d0000b273727579...</td>\n",
              "      <td>1988-11-21</td>\n",
              "      <td>11</td>\n",
              "      <td>j-pop</td>\n",
              "    </tr>\n",
              "    <tr>\n",
              "      <th>126</th>\n",
              "      <td>126</td>\n",
              "      <td>03RvvQSoODrEUrK5qF1zXu</td>\n",
              "      <td>Bedtown</td>\n",
              "      <td>https://open.spotify.com/track/03RvvQSoODrEUrK...</td>\n",
              "      <td>JP</td>\n",
              "      <td>1</td>\n",
              "      <td>185466</td>\n",
              "      <td>57</td>\n",
              "      <td>https://p.scdn.co/mp3-preview/662133efe57b6cc4...</td>\n",
              "      <td>11</td>\n",
              "      <td>0.073700</td>\n",
              "      <td>0.619</td>\n",
              "      <td>0.990</td>\n",
              "      <td>0.000000</td>\n",
              "      <td>0.0695</td>\n",
              "      <td>-3.740</td>\n",
              "      <td>0.501</td>\n",
              "      <td>0.2160</td>\n",
              "      <td>7</td>\n",
              "      <td>1</td>\n",
              "      <td>120.018</td>\n",
              "      <td>4</td>\n",
              "      <td>6wxfx1yhyqjCPYwwxJktR2</td>\n",
              "      <td>King Gnu</td>\n",
              "      <td>https://open.spotify.com/artist/6wxfx1yhyqjCPY...</td>\n",
              "      <td>artist</td>\n",
              "      <td>https://open.spotify.com/album/3Dzbad1d0IQnhGk...</td>\n",
              "      <td>3Dzbad1d0IQnhGkrTuLehL</td>\n",
              "      <td>Sympa</td>\n",
              "      <td>https://i.scdn.co/image/ab67616d0000b273c4a739...</td>\n",
              "      <td>2019-01-16</td>\n",
              "      <td>13</td>\n",
              "      <td>j-pop</td>\n",
              "    </tr>\n",
              "    <tr>\n",
              "      <th>609</th>\n",
              "      <td>609</td>\n",
              "      <td>04EuDx4WKmkN9NyZ6kk5lj</td>\n",
              "      <td>Do Well</td>\n",
              "      <td>https://open.spotify.com/track/04EuDx4WKmkN9Ny...</td>\n",
              "      <td>AD,AE,AR,AT,AU,BE,BG,BH,BO,BR,CA,CH,CL,CO,CR,C...</td>\n",
              "      <td>1</td>\n",
              "      <td>205237</td>\n",
              "      <td>51</td>\n",
              "      <td>https://p.scdn.co/mp3-preview/8a7a420ed6c8b994...</td>\n",
              "      <td>1</td>\n",
              "      <td>0.131000</td>\n",
              "      <td>0.780</td>\n",
              "      <td>0.723</td>\n",
              "      <td>0.000110</td>\n",
              "      <td>0.1440</td>\n",
              "      <td>-8.365</td>\n",
              "      <td>0.478</td>\n",
              "      <td>0.0887</td>\n",
              "      <td>2</td>\n",
              "      <td>1</td>\n",
              "      <td>116.010</td>\n",
              "      <td>4</td>\n",
              "      <td>1HzcHe0WFm4koBalCEOkVh</td>\n",
              "      <td>SIRUP</td>\n",
              "      <td>https://open.spotify.com/artist/1HzcHe0WFm4koB...</td>\n",
              "      <td>artist</td>\n",
              "      <td>https://open.spotify.com/album/3nVzDxlsx6dfX8n...</td>\n",
              "      <td>3nVzDxlsx6dfX8nqaLEM6C</td>\n",
              "      <td>SIRUP EP2</td>\n",
              "      <td>https://i.scdn.co/image/ab67616d0000b2730b7f6c...</td>\n",
              "      <td>2018-08-01</td>\n",
              "      <td>7</td>\n",
              "      <td>j-pop</td>\n",
              "    </tr>\n",
              "    <tr>\n",
              "      <th>456</th>\n",
              "      <td>456</td>\n",
              "      <td>04LvVWwoYPYRjJklOpppyf</td>\n",
              "      <td>抱きしめたい</td>\n",
              "      <td>https://open.spotify.com/track/04LvVWwoYPYRjJk...</td>\n",
              "      <td>JP,TW</td>\n",
              "      <td>1</td>\n",
              "      <td>324440</td>\n",
              "      <td>51</td>\n",
              "      <td>https://p.scdn.co/mp3-preview/b1ccfdeb35715319...</td>\n",
              "      <td>4</td>\n",
              "      <td>0.131000</td>\n",
              "      <td>0.525</td>\n",
              "      <td>0.526</td>\n",
              "      <td>0.000008</td>\n",
              "      <td>0.1070</td>\n",
              "      <td>-8.647</td>\n",
              "      <td>0.379</td>\n",
              "      <td>0.0265</td>\n",
              "      <td>5</td>\n",
              "      <td>1</td>\n",
              "      <td>144.027</td>\n",
              "      <td>4</td>\n",
              "      <td>1qma7XhwZotCAucL7NHVLY</td>\n",
              "      <td>Mr.Children</td>\n",
              "      <td>https://open.spotify.com/artist/1qma7XhwZotCAu...</td>\n",
              "      <td>artist</td>\n",
              "      <td>https://open.spotify.com/album/6eiXCaf4DeCfRQB...</td>\n",
              "      <td>6eiXCaf4DeCfRQBE5ggs0x</td>\n",
              "      <td>Kind of Love</td>\n",
              "      <td>https://i.scdn.co/image/ab67616d0000b2734c4b97...</td>\n",
              "      <td>1992-12-01</td>\n",
              "      <td>11</td>\n",
              "      <td>j-pop</td>\n",
              "    </tr>\n",
              "    <tr>\n",
              "      <th>250</th>\n",
              "      <td>250</td>\n",
              "      <td>05OHGzibvNF0oPyQ2zbyYd</td>\n",
              "      <td>やさしさで溢れるように</td>\n",
              "      <td>https://open.spotify.com/track/05OHGzibvNF0oPy...</td>\n",
              "      <td>JP</td>\n",
              "      <td>1</td>\n",
              "      <td>290773</td>\n",
              "      <td>56</td>\n",
              "      <td>https://p.scdn.co/mp3-preview/0a2081ace47e5650...</td>\n",
              "      <td>12</td>\n",
              "      <td>0.327000</td>\n",
              "      <td>0.312</td>\n",
              "      <td>0.723</td>\n",
              "      <td>0.000000</td>\n",
              "      <td>0.1140</td>\n",
              "      <td>-4.106</td>\n",
              "      <td>0.373</td>\n",
              "      <td>0.0368</td>\n",
              "      <td>8</td>\n",
              "      <td>1</td>\n",
              "      <td>78.396</td>\n",
              "      <td>4</td>\n",
              "      <td>5VLVogbPeBgFHXQPZQzBej</td>\n",
              "      <td>JUJU</td>\n",
              "      <td>https://open.spotify.com/artist/5VLVogbPeBgFHX...</td>\n",
              "      <td>artist</td>\n",
              "      <td>https://open.spotify.com/album/74vhPPCXah107pE...</td>\n",
              "      <td>74vhPPCXah107pEnFKZVjp</td>\n",
              "      <td>What's Love?</td>\n",
              "      <td>https://i.scdn.co/image/ab67616d0000b273d595a3...</td>\n",
              "      <td>2009-03-04</td>\n",
              "      <td>14</td>\n",
              "      <td>j-pop</td>\n",
              "    </tr>\n",
              "    <tr>\n",
              "      <th>389</th>\n",
              "      <td>389</td>\n",
              "      <td>06BIna6ik1U4hoR0XlSfzw</td>\n",
              "      <td>輝きだして走ってく</td>\n",
              "      <td>https://open.spotify.com/track/06BIna6ik1U4hoR...</td>\n",
              "      <td>AD,AE,AR,AT,AU,BE,BG,BH,BO,BR,CA,CH,CL,CO,CR,C...</td>\n",
              "      <td>1</td>\n",
              "      <td>269466</td>\n",
              "      <td>46</td>\n",
              "      <td>https://p.scdn.co/mp3-preview/6d7c0a54cb14c863...</td>\n",
              "      <td>1</td>\n",
              "      <td>0.005100</td>\n",
              "      <td>0.444</td>\n",
              "      <td>0.833</td>\n",
              "      <td>0.000000</td>\n",
              "      <td>0.3620</td>\n",
              "      <td>-3.182</td>\n",
              "      <td>0.604</td>\n",
              "      <td>0.0898</td>\n",
              "      <td>2</td>\n",
              "      <td>1</td>\n",
              "      <td>178.061</td>\n",
              "      <td>4</td>\n",
              "      <td>5ydDSP9qSxEOlHWnpbblFB</td>\n",
              "      <td>Sambomaster</td>\n",
              "      <td>https://open.spotify.com/artist/5ydDSP9qSxEOlH...</td>\n",
              "      <td>artist</td>\n",
              "      <td>https://open.spotify.com/album/0sRYo3ohyfkv8Yf...</td>\n",
              "      <td>0sRYo3ohyfkv8YfQy7kU7i</td>\n",
              "      <td>輝きだして走ってく</td>\n",
              "      <td>https://i.scdn.co/image/ab67616d0000b2732db767...</td>\n",
              "      <td>2018-08-15</td>\n",
              "      <td>2</td>\n",
              "      <td>j-pop</td>\n",
              "    </tr>\n",
              "    <tr>\n",
              "      <th>117</th>\n",
              "      <td>117</td>\n",
              "      <td>06rnOHo8fOFUfG7hw4bZL7</td>\n",
              "      <td>糸</td>\n",
              "      <td>https://open.spotify.com/track/06rnOHo8fOFUfG7...</td>\n",
              "      <td>JP</td>\n",
              "      <td>1</td>\n",
              "      <td>223946</td>\n",
              "      <td>46</td>\n",
              "      <td>https://p.scdn.co/mp3-preview/d02003127a62819c...</td>\n",
              "      <td>4</td>\n",
              "      <td>0.635000</td>\n",
              "      <td>0.385</td>\n",
              "      <td>0.266</td>\n",
              "      <td>0.000000</td>\n",
              "      <td>0.1690</td>\n",
              "      <td>-9.828</td>\n",
              "      <td>0.267</td>\n",
              "      <td>0.0305</td>\n",
              "      <td>0</td>\n",
              "      <td>1</td>\n",
              "      <td>142.345</td>\n",
              "      <td>4</td>\n",
              "      <td>0bAsR2unSRpn6BQPEnNlZm</td>\n",
              "      <td>Aimer</td>\n",
              "      <td>https://open.spotify.com/artist/0bAsR2unSRpn6B...</td>\n",
              "      <td>artist</td>\n",
              "      <td>https://open.spotify.com/album/3JkJiPX9hgLUZ0Q...</td>\n",
              "      <td>3JkJiPX9hgLUZ0QX2iM4aK</td>\n",
              "      <td>ONE / 花の唄 / 六等星の夜 Magic Blue ver.</td>\n",
              "      <td>https://i.scdn.co/image/ab67616d0000b27371e586...</td>\n",
              "      <td>2017-10-11</td>\n",
              "      <td>4</td>\n",
              "      <td>j-pop</td>\n",
              "    </tr>\n",
              "    <tr>\n",
              "      <th>682</th>\n",
              "      <td>682</td>\n",
              "      <td>06tS8DJvpQPGW9MBpbnuaL</td>\n",
              "      <td>Your Eyes</td>\n",
              "      <td>https://open.spotify.com/track/06tS8DJvpQPGW9M...</td>\n",
              "      <td>AD,AE,AR,AT,AU,BE,BG,BH,BO,BR,CA,CH,CL,CO,CR,C...</td>\n",
              "      <td>1</td>\n",
              "      <td>278193</td>\n",
              "      <td>49</td>\n",
              "      <td>https://p.scdn.co/mp3-preview/a48f706df33edd83...</td>\n",
              "      <td>1</td>\n",
              "      <td>0.263000</td>\n",
              "      <td>0.381</td>\n",
              "      <td>0.821</td>\n",
              "      <td>0.000000</td>\n",
              "      <td>0.1540</td>\n",
              "      <td>-3.872</td>\n",
              "      <td>0.439</td>\n",
              "      <td>0.0499</td>\n",
              "      <td>4</td>\n",
              "      <td>0</td>\n",
              "      <td>186.116</td>\n",
              "      <td>4</td>\n",
              "      <td>1XYuC1vxinTjHCNd5clB8C</td>\n",
              "      <td>ARASHI</td>\n",
              "      <td>https://open.spotify.com/artist/1XYuC1vxinTjHC...</td>\n",
              "      <td>artist</td>\n",
              "      <td>https://open.spotify.com/album/2juQlQHDmAmjZDL...</td>\n",
              "      <td>2juQlQHDmAmjZDLi9ZmGh9</td>\n",
              "      <td>Your Eyes</td>\n",
              "      <td>https://i.scdn.co/image/4aa3cc67010455eb10f03d...</td>\n",
              "      <td>2012-06-06</td>\n",
              "      <td>1</td>\n",
              "      <td>j-pop</td>\n",
              "    </tr>\n",
              "    <tr>\n",
              "      <th>542</th>\n",
              "      <td>542</td>\n",
              "      <td>06yfLJC5pMcFw8hoNovLaT</td>\n",
              "      <td>Follow Me</td>\n",
              "      <td>https://open.spotify.com/track/06yfLJC5pMcFw8h...</td>\n",
              "      <td>AD,AE,AR,AT,AU,BE,BG,BH,BO,BR,CA,CH,CL,CO,CR,C...</td>\n",
              "      <td>1</td>\n",
              "      <td>246160</td>\n",
              "      <td>50</td>\n",
              "      <td>https://p.scdn.co/mp3-preview/580d604eb0261e4e...</td>\n",
              "      <td>1</td>\n",
              "      <td>0.111000</td>\n",
              "      <td>0.644</td>\n",
              "      <td>0.945</td>\n",
              "      <td>0.000000</td>\n",
              "      <td>0.0900</td>\n",
              "      <td>-2.008</td>\n",
              "      <td>0.744</td>\n",
              "      <td>0.0384</td>\n",
              "      <td>7</td>\n",
              "      <td>1</td>\n",
              "      <td>142.958</td>\n",
              "      <td>4</td>\n",
              "      <td>6CKN3GUiWMrESH1RKn3ecz</td>\n",
              "      <td>E-girls</td>\n",
              "      <td>https://open.spotify.com/artist/6CKN3GUiWMrESH...</td>\n",
              "      <td>artist</td>\n",
              "      <td>https://open.spotify.com/album/6aEY7KP62kBQHc3...</td>\n",
              "      <td>6aEY7KP62kBQHc3y9PQ0B4</td>\n",
              "      <td>Lesson 1</td>\n",
              "      <td>https://i.scdn.co/image/ab67616d0000b273d27b90...</td>\n",
              "      <td>2013-04-17</td>\n",
              "      <td>14</td>\n",
              "      <td>j-pop</td>\n",
              "    </tr>\n",
              "    <tr>\n",
              "      <th>820</th>\n",
              "      <td>820</td>\n",
              "      <td>07dXzyjKSSuQDsSjpZCNeP</td>\n",
              "      <td>恋人失格</td>\n",
              "      <td>https://open.spotify.com/track/07dXzyjKSSuQDsS...</td>\n",
              "      <td>JP</td>\n",
              "      <td>1</td>\n",
              "      <td>298000</td>\n",
              "      <td>49</td>\n",
              "      <td>https://p.scdn.co/mp3-preview/e0e95a51ff8b9b92...</td>\n",
              "      <td>1</td>\n",
              "      <td>0.112000</td>\n",
              "      <td>0.599</td>\n",
              "      <td>0.553</td>\n",
              "      <td>0.000000</td>\n",
              "      <td>0.0611</td>\n",
              "      <td>-6.522</td>\n",
              "      <td>0.379</td>\n",
              "      <td>0.0242</td>\n",
              "      <td>8</td>\n",
              "      <td>1</td>\n",
              "      <td>88.998</td>\n",
              "      <td>4</td>\n",
              "      <td>6sX1XKgDIiAcVZof0SgWUe</td>\n",
              "      <td>Koresawa</td>\n",
              "      <td>https://open.spotify.com/artist/6sX1XKgDIiAcVZ...</td>\n",
              "      <td>artist</td>\n",
              "      <td>https://open.spotify.com/album/193gcSJA3X0WIBH...</td>\n",
              "      <td>193gcSJA3X0WIBHvoSmz2M</td>\n",
              "      <td>恋人失格</td>\n",
              "      <td>https://i.scdn.co/image/ab67616d0000b2739350ce...</td>\n",
              "      <td>2019</td>\n",
              "      <td>1</td>\n",
              "      <td>j-pop</td>\n",
              "    </tr>\n",
              "    <tr>\n",
              "      <th>116</th>\n",
              "      <td>116</td>\n",
              "      <td>07sSvnON76NcKWwh9wNsmy</td>\n",
              "      <td>サイレントマジョリティー</td>\n",
              "      <td>https://open.spotify.com/track/07sSvnON76NcKWw...</td>\n",
              "      <td>JP</td>\n",
              "      <td>1</td>\n",
              "      <td>265826</td>\n",
              "      <td>58</td>\n",
              "      <td>https://p.scdn.co/mp3-preview/8667fb46ad1e91b4...</td>\n",
              "      <td>2</td>\n",
              "      <td>0.266000</td>\n",
              "      <td>0.583</td>\n",
              "      <td>0.952</td>\n",
              "      <td>0.000000</td>\n",
              "      <td>0.3140</td>\n",
              "      <td>-2.491</td>\n",
              "      <td>0.812</td>\n",
              "      <td>0.0803</td>\n",
              "      <td>1</td>\n",
              "      <td>1</td>\n",
              "      <td>123.029</td>\n",
              "      <td>4</td>\n",
              "      <td>03E7w8NrBr4lNCK33TQyil</td>\n",
              "      <td>Keyakizaka46</td>\n",
              "      <td>https://open.spotify.com/artist/03E7w8NrBr4lNC...</td>\n",
              "      <td>artist</td>\n",
              "      <td>https://open.spotify.com/album/1PaXSQv2uhOfbq4...</td>\n",
              "      <td>1PaXSQv2uhOfbq4HvzVNr7</td>\n",
              "      <td>真っ白なものは汚したくなる (Complete Edition)</td>\n",
              "      <td>https://i.scdn.co/image/ab67616d0000b2732f741e...</td>\n",
              "      <td>2017-07-19</td>\n",
              "      <td>40</td>\n",
              "      <td>j-pop</td>\n",
              "    </tr>\n",
              "    <tr>\n",
              "      <th>62</th>\n",
              "      <td>62</td>\n",
              "      <td>08Xhmc5B5gDPYFrL1uKVJI</td>\n",
              "      <td>おっぱい</td>\n",
              "      <td>https://open.spotify.com/track/08Xhmc5B5gDPYFr...</td>\n",
              "      <td>AD,AE,AR,AT,AU,BE,BG,BH,BO,BR,CA,CH,CL,CO,CR,C...</td>\n",
              "      <td>1</td>\n",
              "      <td>324400</td>\n",
              "      <td>46</td>\n",
              "      <td>https://p.scdn.co/mp3-preview/14bc08b50fddb3f2...</td>\n",
              "      <td>5</td>\n",
              "      <td>0.457000</td>\n",
              "      <td>0.550</td>\n",
              "      <td>0.561</td>\n",
              "      <td>0.000000</td>\n",
              "      <td>0.0401</td>\n",
              "      <td>-3.798</td>\n",
              "      <td>0.799</td>\n",
              "      <td>0.0325</td>\n",
              "      <td>2</td>\n",
              "      <td>1</td>\n",
              "      <td>154.074</td>\n",
              "      <td>4</td>\n",
              "      <td>5kVZa4lFUmAQlBogl1fkd6</td>\n",
              "      <td>Aimyon</td>\n",
              "      <td>https://open.spotify.com/artist/5kVZa4lFUmAQlB...</td>\n",
              "      <td>artist</td>\n",
              "      <td>https://open.spotify.com/album/6qkgONFlIASOpkZ...</td>\n",
              "      <td>6qkgONFlIASOpkZinBbCAY</td>\n",
              "      <td>憎まれっ子世に憚る</td>\n",
              "      <td>https://i.scdn.co/image/ab67616d0000b273a927ea...</td>\n",
              "      <td>2015-12-02</td>\n",
              "      <td>7</td>\n",
              "      <td>j-pop</td>\n",
              "    </tr>\n",
              "    <tr>\n",
              "      <th>773</th>\n",
              "      <td>773</td>\n",
              "      <td>0Asf9zPjR1XCgcqPKvk0v4</td>\n",
              "      <td>ミス・ブランニュー・デイ(MISS BRAND-NEW DAY)</td>\n",
              "      <td>https://open.spotify.com/track/0Asf9zPjR1XCgcq...</td>\n",
              "      <td>AD,AE,AR,AT,AU,BE,BG,BH,BO,BR,CA,CH,CL,CO,CR,C...</td>\n",
              "      <td>1</td>\n",
              "      <td>299933</td>\n",
              "      <td>48</td>\n",
              "      <td>https://p.scdn.co/mp3-preview/f1bf507e43a6988b...</td>\n",
              "      <td>1</td>\n",
              "      <td>0.598000</td>\n",
              "      <td>0.678</td>\n",
              "      <td>0.877</td>\n",
              "      <td>0.000051</td>\n",
              "      <td>0.0714</td>\n",
              "      <td>-7.362</td>\n",
              "      <td>0.880</td>\n",
              "      <td>0.0280</td>\n",
              "      <td>9</td>\n",
              "      <td>0</td>\n",
              "      <td>139.896</td>\n",
              "      <td>4</td>\n",
              "      <td>79nkC8XZ5ohEVU0Xlf5Ael</td>\n",
              "      <td>サザンオールスターズ</td>\n",
              "      <td>https://open.spotify.com/artist/79nkC8XZ5ohEVU...</td>\n",
              "      <td>artist</td>\n",
              "      <td>https://open.spotify.com/album/3g1XAorWWoGRgDB...</td>\n",
              "      <td>3g1XAorWWoGRgDB5orNPip</td>\n",
              "      <td>ミス・ブランニュー・デイ(MISS BRAND-NEW DAY)</td>\n",
              "      <td>https://i.scdn.co/image/ca63516fe72e932ffff450...</td>\n",
              "      <td>1984-06-25</td>\n",
              "      <td>2</td>\n",
              "      <td>j-pop</td>\n",
              "    </tr>\n",
              "    <tr>\n",
              "      <th>147</th>\n",
              "      <td>147</td>\n",
              "      <td>0BdKPVRZlsQU00OJE4AiVh</td>\n",
              "      <td>Perfect World</td>\n",
              "      <td>https://open.spotify.com/track/0BdKPVRZlsQU00O...</td>\n",
              "      <td>AD,AE,AR,AT,AU,BE,BG,BH,BO,BR,CA,CH,CL,CO,CR,C...</td>\n",
              "      <td>1</td>\n",
              "      <td>285346</td>\n",
              "      <td>47</td>\n",
              "      <td>https://p.scdn.co/mp3-preview/35fceb37de5d3704...</td>\n",
              "      <td>1</td>\n",
              "      <td>0.227000</td>\n",
              "      <td>0.642</td>\n",
              "      <td>0.827</td>\n",
              "      <td>0.000000</td>\n",
              "      <td>0.3010</td>\n",
              "      <td>-3.516</td>\n",
              "      <td>0.481</td>\n",
              "      <td>0.0323</td>\n",
              "      <td>0</td>\n",
              "      <td>0</td>\n",
              "      <td>107.988</td>\n",
              "      <td>4</td>\n",
              "      <td>6CKN3GUiWMrESH1RKn3ecz</td>\n",
              "      <td>E-girls</td>\n",
              "      <td>https://open.spotify.com/artist/6CKN3GUiWMrESH...</td>\n",
              "      <td>artist</td>\n",
              "      <td>https://open.spotify.com/album/5JRR5zyh9bNXh1g...</td>\n",
              "      <td>5JRR5zyh9bNXh1go1agOon</td>\n",
              "      <td>Perfect World</td>\n",
              "      <td>https://i.scdn.co/image/ab67616d0000b273581d75...</td>\n",
              "      <td>2018-10-03</td>\n",
              "      <td>1</td>\n",
              "      <td>j-pop</td>\n",
              "    </tr>\n",
              "    <tr>\n",
              "      <th>928</th>\n",
              "      <td>928</td>\n",
              "      <td>0CMFJXFDYUs9idk51LRPz1</td>\n",
              "      <td>フレア</td>\n",
              "      <td>https://open.spotify.com/track/0CMFJXFDYUs9idk...</td>\n",
              "      <td>AE,AU,BG,BH,CY,EE,EG,FI,GR,HK,ID,IL,JO,JP,KW,L...</td>\n",
              "      <td>1</td>\n",
              "      <td>252573</td>\n",
              "      <td>0</td>\n",
              "      <td>https://p.scdn.co/mp3-preview/af361bacf444aecc...</td>\n",
              "      <td>2</td>\n",
              "      <td>0.131000</td>\n",
              "      <td>0.563</td>\n",
              "      <td>0.789</td>\n",
              "      <td>0.000587</td>\n",
              "      <td>0.3680</td>\n",
              "      <td>-3.481</td>\n",
              "      <td>0.541</td>\n",
              "      <td>0.0310</td>\n",
              "      <td>2</td>\n",
              "      <td>1</td>\n",
              "      <td>109.986</td>\n",
              "      <td>4</td>\n",
              "      <td>5M8AXrOifBT8elkLKbGPQZ</td>\n",
              "      <td>Superfly</td>\n",
              "      <td>https://open.spotify.com/artist/5M8AXrOifBT8el...</td>\n",
              "      <td>artist</td>\n",
              "      <td>https://open.spotify.com/album/6Oa8tjPIVfB0LgO...</td>\n",
              "      <td>6Oa8tjPIVfB0LgO1hwVw61</td>\n",
              "      <td>0</td>\n",
              "      <td>https://i.scdn.co/image/ef72768613899138255272...</td>\n",
              "      <td>2020-01-15</td>\n",
              "      <td>11</td>\n",
              "      <td>j-pop</td>\n",
              "    </tr>\n",
              "  </tbody>\n",
              "</table>\n",
              "</div>"
            ],
            "text/plain": [
              "     Unnamed: 0                track_id  ... total_tracks  genre\n",
              "632         632  008jrQKCdBGzQdxp9Fk40z  ...            1  j-pop\n",
              "361         361  00Nw7w9YQQmJLOmG4ZEGYH  ...            8  j-pop\n",
              "812         812  01k7uuVtfuOKtbCZ3YMN2L  ...            1  j-pop\n",
              "85           85  022X58N6Tv7klHzcMzCtAl  ...           12  j-pop\n",
              "848         848  02me5PrRaF8baUbyiJ0bv7  ...           14  j-pop\n",
              "464         464  02xCHhTG3lRknzXq6cbcJh  ...           11  j-pop\n",
              "126         126  03RvvQSoODrEUrK5qF1zXu  ...           13  j-pop\n",
              "609         609  04EuDx4WKmkN9NyZ6kk5lj  ...            7  j-pop\n",
              "456         456  04LvVWwoYPYRjJklOpppyf  ...           11  j-pop\n",
              "250         250  05OHGzibvNF0oPyQ2zbyYd  ...           14  j-pop\n",
              "389         389  06BIna6ik1U4hoR0XlSfzw  ...            2  j-pop\n",
              "117         117  06rnOHo8fOFUfG7hw4bZL7  ...            4  j-pop\n",
              "682         682  06tS8DJvpQPGW9MBpbnuaL  ...            1  j-pop\n",
              "542         542  06yfLJC5pMcFw8hoNovLaT  ...           14  j-pop\n",
              "820         820  07dXzyjKSSuQDsSjpZCNeP  ...            1  j-pop\n",
              "116         116  07sSvnON76NcKWwh9wNsmy  ...           40  j-pop\n",
              "62           62  08Xhmc5B5gDPYFrL1uKVJI  ...            7  j-pop\n",
              "773         773  0Asf9zPjR1XCgcqPKvk0v4  ...            2  j-pop\n",
              "147         147  0BdKPVRZlsQU00OJE4AiVh  ...            1  j-pop\n",
              "928         928  0CMFJXFDYUs9idk51LRPz1  ...           11  j-pop\n",
              "\n",
              "[20 rows x 33 columns]"
            ]
          },
          "metadata": {
            "tags": []
          },
          "execution_count": 16
        }
      ]
    },
    {
      "cell_type": "code",
      "metadata": {
        "id": "hlP_8-xEDOpo",
        "colab_type": "code",
        "outputId": "3c5cd708-4159-458e-9089-d58f033ecf6c",
        "colab": {
          "base_uri": "https://localhost:8080/",
          "height": 34
        }
      },
      "source": [
        "list(df.reset_index().query('track_id == \"6ODZT1FGTE2q4two05giS1\"').index)"
      ],
      "execution_count": 26,
      "outputs": [
        {
          "output_type": "execute_result",
          "data": {
            "text/plain": [
              "[793]"
            ]
          },
          "metadata": {
            "tags": []
          },
          "execution_count": 26
        }
      ]
    },
    {
      "cell_type": "code",
      "metadata": {
        "id": "b_jRpbfuD8kf",
        "colab_type": "code",
        "colab": {}
      },
      "source": [
        "df_sim = pd.DataFrame(S)"
      ],
      "execution_count": 0,
      "outputs": []
    },
    {
      "cell_type": "code",
      "metadata": {
        "id": "e4IKJKeYEVfP",
        "colab_type": "code",
        "outputId": "09742462-2a1e-4b36-9f20-ce8490bc4400",
        "colab": {
          "base_uri": "https://localhost:8080/",
          "height": 245
        }
      },
      "source": [
        "df_sim.head()"
      ],
      "execution_count": 28,
      "outputs": [
        {
          "output_type": "execute_result",
          "data": {
            "text/html": [
              "<div>\n",
              "<style scoped>\n",
              "    .dataframe tbody tr th:only-of-type {\n",
              "        vertical-align: middle;\n",
              "    }\n",
              "\n",
              "    .dataframe tbody tr th {\n",
              "        vertical-align: top;\n",
              "    }\n",
              "\n",
              "    .dataframe thead th {\n",
              "        text-align: right;\n",
              "    }\n",
              "</style>\n",
              "<table border=\"1\" class=\"dataframe\">\n",
              "  <thead>\n",
              "    <tr style=\"text-align: right;\">\n",
              "      <th></th>\n",
              "      <th>0</th>\n",
              "      <th>1</th>\n",
              "      <th>2</th>\n",
              "      <th>3</th>\n",
              "      <th>4</th>\n",
              "      <th>5</th>\n",
              "      <th>6</th>\n",
              "      <th>7</th>\n",
              "      <th>8</th>\n",
              "      <th>9</th>\n",
              "      <th>10</th>\n",
              "      <th>11</th>\n",
              "      <th>12</th>\n",
              "      <th>13</th>\n",
              "      <th>14</th>\n",
              "      <th>15</th>\n",
              "      <th>16</th>\n",
              "      <th>17</th>\n",
              "      <th>18</th>\n",
              "      <th>19</th>\n",
              "      <th>20</th>\n",
              "      <th>21</th>\n",
              "      <th>22</th>\n",
              "      <th>23</th>\n",
              "      <th>24</th>\n",
              "      <th>25</th>\n",
              "      <th>26</th>\n",
              "      <th>27</th>\n",
              "      <th>28</th>\n",
              "      <th>29</th>\n",
              "      <th>30</th>\n",
              "      <th>31</th>\n",
              "      <th>32</th>\n",
              "      <th>33</th>\n",
              "      <th>34</th>\n",
              "      <th>35</th>\n",
              "      <th>36</th>\n",
              "      <th>37</th>\n",
              "      <th>38</th>\n",
              "      <th>39</th>\n",
              "      <th>...</th>\n",
              "      <th>960</th>\n",
              "      <th>961</th>\n",
              "      <th>962</th>\n",
              "      <th>963</th>\n",
              "      <th>964</th>\n",
              "      <th>965</th>\n",
              "      <th>966</th>\n",
              "      <th>967</th>\n",
              "      <th>968</th>\n",
              "      <th>969</th>\n",
              "      <th>970</th>\n",
              "      <th>971</th>\n",
              "      <th>972</th>\n",
              "      <th>973</th>\n",
              "      <th>974</th>\n",
              "      <th>975</th>\n",
              "      <th>976</th>\n",
              "      <th>977</th>\n",
              "      <th>978</th>\n",
              "      <th>979</th>\n",
              "      <th>980</th>\n",
              "      <th>981</th>\n",
              "      <th>982</th>\n",
              "      <th>983</th>\n",
              "      <th>984</th>\n",
              "      <th>985</th>\n",
              "      <th>986</th>\n",
              "      <th>987</th>\n",
              "      <th>988</th>\n",
              "      <th>989</th>\n",
              "      <th>990</th>\n",
              "      <th>991</th>\n",
              "      <th>992</th>\n",
              "      <th>993</th>\n",
              "      <th>994</th>\n",
              "      <th>995</th>\n",
              "      <th>996</th>\n",
              "      <th>997</th>\n",
              "      <th>998</th>\n",
              "      <th>999</th>\n",
              "    </tr>\n",
              "  </thead>\n",
              "  <tbody>\n",
              "    <tr>\n",
              "      <th>0</th>\n",
              "      <td>1.000000</td>\n",
              "      <td>0.969795</td>\n",
              "      <td>0.826778</td>\n",
              "      <td>0.952877</td>\n",
              "      <td>0.979364</td>\n",
              "      <td>0.985751</td>\n",
              "      <td>0.949834</td>\n",
              "      <td>0.893311</td>\n",
              "      <td>0.906505</td>\n",
              "      <td>0.952781</td>\n",
              "      <td>0.962733</td>\n",
              "      <td>0.946966</td>\n",
              "      <td>0.882226</td>\n",
              "      <td>0.932498</td>\n",
              "      <td>0.944775</td>\n",
              "      <td>0.971906</td>\n",
              "      <td>0.957764</td>\n",
              "      <td>0.878867</td>\n",
              "      <td>0.927139</td>\n",
              "      <td>0.936032</td>\n",
              "      <td>0.843979</td>\n",
              "      <td>0.958917</td>\n",
              "      <td>0.969667</td>\n",
              "      <td>0.933209</td>\n",
              "      <td>0.978751</td>\n",
              "      <td>0.940573</td>\n",
              "      <td>0.887504</td>\n",
              "      <td>0.978698</td>\n",
              "      <td>0.938423</td>\n",
              "      <td>0.974886</td>\n",
              "      <td>0.974366</td>\n",
              "      <td>0.960577</td>\n",
              "      <td>0.942892</td>\n",
              "      <td>0.958689</td>\n",
              "      <td>0.902165</td>\n",
              "      <td>0.910914</td>\n",
              "      <td>0.902187</td>\n",
              "      <td>0.937056</td>\n",
              "      <td>0.943583</td>\n",
              "      <td>0.934634</td>\n",
              "      <td>...</td>\n",
              "      <td>0.967452</td>\n",
              "      <td>0.974264</td>\n",
              "      <td>0.926672</td>\n",
              "      <td>0.933927</td>\n",
              "      <td>0.935062</td>\n",
              "      <td>0.936063</td>\n",
              "      <td>0.944866</td>\n",
              "      <td>0.974242</td>\n",
              "      <td>0.930909</td>\n",
              "      <td>0.888065</td>\n",
              "      <td>0.956008</td>\n",
              "      <td>0.963108</td>\n",
              "      <td>0.868455</td>\n",
              "      <td>0.927892</td>\n",
              "      <td>0.948167</td>\n",
              "      <td>0.851111</td>\n",
              "      <td>0.971659</td>\n",
              "      <td>0.827702</td>\n",
              "      <td>0.976263</td>\n",
              "      <td>0.901142</td>\n",
              "      <td>0.976408</td>\n",
              "      <td>0.969513</td>\n",
              "      <td>0.973614</td>\n",
              "      <td>0.960280</td>\n",
              "      <td>0.932568</td>\n",
              "      <td>0.938000</td>\n",
              "      <td>0.968752</td>\n",
              "      <td>0.975932</td>\n",
              "      <td>0.926753</td>\n",
              "      <td>0.926045</td>\n",
              "      <td>0.970435</td>\n",
              "      <td>0.940130</td>\n",
              "      <td>0.980548</td>\n",
              "      <td>0.952784</td>\n",
              "      <td>0.956969</td>\n",
              "      <td>0.822204</td>\n",
              "      <td>0.971677</td>\n",
              "      <td>0.954308</td>\n",
              "      <td>0.916904</td>\n",
              "      <td>0.776505</td>\n",
              "    </tr>\n",
              "    <tr>\n",
              "      <th>1</th>\n",
              "      <td>0.969795</td>\n",
              "      <td>1.000000</td>\n",
              "      <td>0.806800</td>\n",
              "      <td>0.974505</td>\n",
              "      <td>0.986561</td>\n",
              "      <td>0.967658</td>\n",
              "      <td>0.932704</td>\n",
              "      <td>0.912108</td>\n",
              "      <td>0.924452</td>\n",
              "      <td>0.907314</td>\n",
              "      <td>0.987219</td>\n",
              "      <td>0.962066</td>\n",
              "      <td>0.853487</td>\n",
              "      <td>0.882573</td>\n",
              "      <td>0.964832</td>\n",
              "      <td>0.963187</td>\n",
              "      <td>0.927318</td>\n",
              "      <td>0.902114</td>\n",
              "      <td>0.885447</td>\n",
              "      <td>0.895335</td>\n",
              "      <td>0.784315</td>\n",
              "      <td>0.912798</td>\n",
              "      <td>0.956864</td>\n",
              "      <td>0.948822</td>\n",
              "      <td>0.984325</td>\n",
              "      <td>0.936690</td>\n",
              "      <td>0.876166</td>\n",
              "      <td>0.952123</td>\n",
              "      <td>0.939919</td>\n",
              "      <td>0.974997</td>\n",
              "      <td>0.938268</td>\n",
              "      <td>0.966361</td>\n",
              "      <td>0.945111</td>\n",
              "      <td>0.947979</td>\n",
              "      <td>0.914720</td>\n",
              "      <td>0.936340</td>\n",
              "      <td>0.924472</td>\n",
              "      <td>0.949784</td>\n",
              "      <td>0.923037</td>\n",
              "      <td>0.944891</td>\n",
              "      <td>...</td>\n",
              "      <td>0.982678</td>\n",
              "      <td>0.976567</td>\n",
              "      <td>0.923939</td>\n",
              "      <td>0.930507</td>\n",
              "      <td>0.959656</td>\n",
              "      <td>0.931403</td>\n",
              "      <td>0.953045</td>\n",
              "      <td>0.965842</td>\n",
              "      <td>0.917822</td>\n",
              "      <td>0.862689</td>\n",
              "      <td>0.940768</td>\n",
              "      <td>0.975292</td>\n",
              "      <td>0.820025</td>\n",
              "      <td>0.917951</td>\n",
              "      <td>0.957059</td>\n",
              "      <td>0.807643</td>\n",
              "      <td>0.962936</td>\n",
              "      <td>0.843036</td>\n",
              "      <td>0.985270</td>\n",
              "      <td>0.897050</td>\n",
              "      <td>0.984665</td>\n",
              "      <td>0.957348</td>\n",
              "      <td>0.989681</td>\n",
              "      <td>0.953926</td>\n",
              "      <td>0.933452</td>\n",
              "      <td>0.973464</td>\n",
              "      <td>0.950622</td>\n",
              "      <td>0.994677</td>\n",
              "      <td>0.937162</td>\n",
              "      <td>0.906183</td>\n",
              "      <td>0.986359</td>\n",
              "      <td>0.973311</td>\n",
              "      <td>0.984440</td>\n",
              "      <td>0.979739</td>\n",
              "      <td>0.958427</td>\n",
              "      <td>0.792711</td>\n",
              "      <td>0.924430</td>\n",
              "      <td>0.970151</td>\n",
              "      <td>0.849381</td>\n",
              "      <td>0.738208</td>\n",
              "    </tr>\n",
              "    <tr>\n",
              "      <th>2</th>\n",
              "      <td>0.826778</td>\n",
              "      <td>0.806800</td>\n",
              "      <td>1.000000</td>\n",
              "      <td>0.867867</td>\n",
              "      <td>0.805469</td>\n",
              "      <td>0.844256</td>\n",
              "      <td>0.934587</td>\n",
              "      <td>0.911880</td>\n",
              "      <td>0.835037</td>\n",
              "      <td>0.793772</td>\n",
              "      <td>0.791286</td>\n",
              "      <td>0.863267</td>\n",
              "      <td>0.983625</td>\n",
              "      <td>0.893080</td>\n",
              "      <td>0.831910</td>\n",
              "      <td>0.873941</td>\n",
              "      <td>0.786396</td>\n",
              "      <td>0.933220</td>\n",
              "      <td>0.927055</td>\n",
              "      <td>0.907033</td>\n",
              "      <td>0.931229</td>\n",
              "      <td>0.858458</td>\n",
              "      <td>0.849858</td>\n",
              "      <td>0.868269</td>\n",
              "      <td>0.821591</td>\n",
              "      <td>0.855223</td>\n",
              "      <td>0.879014</td>\n",
              "      <td>0.866189</td>\n",
              "      <td>0.872273</td>\n",
              "      <td>0.880673</td>\n",
              "      <td>0.847804</td>\n",
              "      <td>0.888605</td>\n",
              "      <td>0.910549</td>\n",
              "      <td>0.894524</td>\n",
              "      <td>0.898863</td>\n",
              "      <td>0.876238</td>\n",
              "      <td>0.827788</td>\n",
              "      <td>0.897608</td>\n",
              "      <td>0.913938</td>\n",
              "      <td>0.891597</td>\n",
              "      <td>...</td>\n",
              "      <td>0.814118</td>\n",
              "      <td>0.864545</td>\n",
              "      <td>0.935540</td>\n",
              "      <td>0.923510</td>\n",
              "      <td>0.859440</td>\n",
              "      <td>0.881007</td>\n",
              "      <td>0.888585</td>\n",
              "      <td>0.902034</td>\n",
              "      <td>0.858854</td>\n",
              "      <td>0.975800</td>\n",
              "      <td>0.874432</td>\n",
              "      <td>0.857052</td>\n",
              "      <td>0.955303</td>\n",
              "      <td>0.958219</td>\n",
              "      <td>0.833345</td>\n",
              "      <td>0.912449</td>\n",
              "      <td>0.809516</td>\n",
              "      <td>0.950188</td>\n",
              "      <td>0.828243</td>\n",
              "      <td>0.873997</td>\n",
              "      <td>0.834268</td>\n",
              "      <td>0.878269</td>\n",
              "      <td>0.828142</td>\n",
              "      <td>0.826663</td>\n",
              "      <td>0.829309</td>\n",
              "      <td>0.790412</td>\n",
              "      <td>0.868200</td>\n",
              "      <td>0.815961</td>\n",
              "      <td>0.845363</td>\n",
              "      <td>0.803132</td>\n",
              "      <td>0.834691</td>\n",
              "      <td>0.812671</td>\n",
              "      <td>0.815803</td>\n",
              "      <td>0.757201</td>\n",
              "      <td>0.883105</td>\n",
              "      <td>0.981787</td>\n",
              "      <td>0.768379</td>\n",
              "      <td>0.798032</td>\n",
              "      <td>0.925832</td>\n",
              "      <td>0.971321</td>\n",
              "    </tr>\n",
              "    <tr>\n",
              "      <th>3</th>\n",
              "      <td>0.952877</td>\n",
              "      <td>0.974505</td>\n",
              "      <td>0.867867</td>\n",
              "      <td>1.000000</td>\n",
              "      <td>0.971320</td>\n",
              "      <td>0.967413</td>\n",
              "      <td>0.957967</td>\n",
              "      <td>0.922766</td>\n",
              "      <td>0.905497</td>\n",
              "      <td>0.881682</td>\n",
              "      <td>0.979263</td>\n",
              "      <td>0.942576</td>\n",
              "      <td>0.894152</td>\n",
              "      <td>0.883232</td>\n",
              "      <td>0.960983</td>\n",
              "      <td>0.962960</td>\n",
              "      <td>0.884018</td>\n",
              "      <td>0.938754</td>\n",
              "      <td>0.914208</td>\n",
              "      <td>0.931023</td>\n",
              "      <td>0.827348</td>\n",
              "      <td>0.900710</td>\n",
              "      <td>0.929094</td>\n",
              "      <td>0.970944</td>\n",
              "      <td>0.970294</td>\n",
              "      <td>0.905709</td>\n",
              "      <td>0.865221</td>\n",
              "      <td>0.953341</td>\n",
              "      <td>0.955444</td>\n",
              "      <td>0.974082</td>\n",
              "      <td>0.935208</td>\n",
              "      <td>0.950773</td>\n",
              "      <td>0.946010</td>\n",
              "      <td>0.933912</td>\n",
              "      <td>0.940894</td>\n",
              "      <td>0.951334</td>\n",
              "      <td>0.883922</td>\n",
              "      <td>0.954763</td>\n",
              "      <td>0.927255</td>\n",
              "      <td>0.982332</td>\n",
              "      <td>...</td>\n",
              "      <td>0.969260</td>\n",
              "      <td>0.978208</td>\n",
              "      <td>0.930621</td>\n",
              "      <td>0.932363</td>\n",
              "      <td>0.952405</td>\n",
              "      <td>0.923797</td>\n",
              "      <td>0.951426</td>\n",
              "      <td>0.978691</td>\n",
              "      <td>0.907254</td>\n",
              "      <td>0.895589</td>\n",
              "      <td>0.964648</td>\n",
              "      <td>0.976547</td>\n",
              "      <td>0.880418</td>\n",
              "      <td>0.958923</td>\n",
              "      <td>0.938833</td>\n",
              "      <td>0.808088</td>\n",
              "      <td>0.938144</td>\n",
              "      <td>0.893321</td>\n",
              "      <td>0.979126</td>\n",
              "      <td>0.868392</td>\n",
              "      <td>0.980345</td>\n",
              "      <td>0.958953</td>\n",
              "      <td>0.977005</td>\n",
              "      <td>0.929083</td>\n",
              "      <td>0.926309</td>\n",
              "      <td>0.950015</td>\n",
              "      <td>0.960867</td>\n",
              "      <td>0.984737</td>\n",
              "      <td>0.915546</td>\n",
              "      <td>0.861272</td>\n",
              "      <td>0.978234</td>\n",
              "      <td>0.956890</td>\n",
              "      <td>0.969485</td>\n",
              "      <td>0.963174</td>\n",
              "      <td>0.949598</td>\n",
              "      <td>0.840836</td>\n",
              "      <td>0.892395</td>\n",
              "      <td>0.930816</td>\n",
              "      <td>0.879949</td>\n",
              "      <td>0.802334</td>\n",
              "    </tr>\n",
              "    <tr>\n",
              "      <th>4</th>\n",
              "      <td>0.979364</td>\n",
              "      <td>0.986561</td>\n",
              "      <td>0.805469</td>\n",
              "      <td>0.971320</td>\n",
              "      <td>1.000000</td>\n",
              "      <td>0.987368</td>\n",
              "      <td>0.945417</td>\n",
              "      <td>0.883669</td>\n",
              "      <td>0.907430</td>\n",
              "      <td>0.918468</td>\n",
              "      <td>0.990964</td>\n",
              "      <td>0.962567</td>\n",
              "      <td>0.857083</td>\n",
              "      <td>0.904264</td>\n",
              "      <td>0.958748</td>\n",
              "      <td>0.983126</td>\n",
              "      <td>0.954430</td>\n",
              "      <td>0.873069</td>\n",
              "      <td>0.915502</td>\n",
              "      <td>0.902756</td>\n",
              "      <td>0.796356</td>\n",
              "      <td>0.937083</td>\n",
              "      <td>0.955588</td>\n",
              "      <td>0.943468</td>\n",
              "      <td>0.988322</td>\n",
              "      <td>0.948523</td>\n",
              "      <td>0.849575</td>\n",
              "      <td>0.971511</td>\n",
              "      <td>0.925536</td>\n",
              "      <td>0.985032</td>\n",
              "      <td>0.941413</td>\n",
              "      <td>0.957891</td>\n",
              "      <td>0.934462</td>\n",
              "      <td>0.931569</td>\n",
              "      <td>0.882616</td>\n",
              "      <td>0.907267</td>\n",
              "      <td>0.893364</td>\n",
              "      <td>0.930366</td>\n",
              "      <td>0.917302</td>\n",
              "      <td>0.933795</td>\n",
              "      <td>...</td>\n",
              "      <td>0.989436</td>\n",
              "      <td>0.968758</td>\n",
              "      <td>0.909969</td>\n",
              "      <td>0.919746</td>\n",
              "      <td>0.934691</td>\n",
              "      <td>0.911534</td>\n",
              "      <td>0.935686</td>\n",
              "      <td>0.967720</td>\n",
              "      <td>0.906773</td>\n",
              "      <td>0.865881</td>\n",
              "      <td>0.936196</td>\n",
              "      <td>0.965560</td>\n",
              "      <td>0.830729</td>\n",
              "      <td>0.916689</td>\n",
              "      <td>0.936913</td>\n",
              "      <td>0.800743</td>\n",
              "      <td>0.979849</td>\n",
              "      <td>0.805908</td>\n",
              "      <td>0.995570</td>\n",
              "      <td>0.874618</td>\n",
              "      <td>0.995002</td>\n",
              "      <td>0.978675</td>\n",
              "      <td>0.983778</td>\n",
              "      <td>0.969705</td>\n",
              "      <td>0.908454</td>\n",
              "      <td>0.956699</td>\n",
              "      <td>0.966977</td>\n",
              "      <td>0.990730</td>\n",
              "      <td>0.919671</td>\n",
              "      <td>0.887199</td>\n",
              "      <td>0.983011</td>\n",
              "      <td>0.961029</td>\n",
              "      <td>0.994367</td>\n",
              "      <td>0.987921</td>\n",
              "      <td>0.952598</td>\n",
              "      <td>0.787107</td>\n",
              "      <td>0.956864</td>\n",
              "      <td>0.955193</td>\n",
              "      <td>0.869398</td>\n",
              "      <td>0.743206</td>\n",
              "    </tr>\n",
              "  </tbody>\n",
              "</table>\n",
              "<p>5 rows × 1000 columns</p>\n",
              "</div>"
            ],
            "text/plain": [
              "        0         1         2    ...       997       998       999\n",
              "0  1.000000  0.969795  0.826778  ...  0.954308  0.916904  0.776505\n",
              "1  0.969795  1.000000  0.806800  ...  0.970151  0.849381  0.738208\n",
              "2  0.826778  0.806800  1.000000  ...  0.798032  0.925832  0.971321\n",
              "3  0.952877  0.974505  0.867867  ...  0.930816  0.879949  0.802334\n",
              "4  0.979364  0.986561  0.805469  ...  0.955193  0.869398  0.743206\n",
              "\n",
              "[5 rows x 1000 columns]"
            ]
          },
          "metadata": {
            "tags": []
          },
          "execution_count": 28
        }
      ]
    },
    {
      "cell_type": "code",
      "metadata": {
        "id": "7ZlVS1XEEWnc",
        "colab_type": "code",
        "outputId": "e61cc735-0235-4826-8c08-2a9fbb10163a",
        "colab": {
          "base_uri": "https://localhost:8080/",
          "height": 139
        }
      },
      "source": [
        "df_sim.iloc[793,:].sort_values(ascending=False).head(6)"
      ],
      "execution_count": 29,
      "outputs": [
        {
          "output_type": "execute_result",
          "data": {
            "text/plain": [
              "793    1.000000\n",
              "574    0.999656\n",
              "254    0.993154\n",
              "850    0.990121\n",
              "880    0.989247\n",
              "632    0.988965\n",
              "Name: 793, dtype: float64"
            ]
          },
          "metadata": {
            "tags": []
          },
          "execution_count": 29
        }
      ]
    },
    {
      "cell_type": "code",
      "metadata": {
        "id": "rPvm9HStEf11",
        "colab_type": "code",
        "outputId": "975b673d-1eab-488b-fbdb-5f4aa97bc887",
        "colab": {
          "base_uri": "https://localhost:8080/",
          "height": 610
        }
      },
      "source": [
        "df.iloc[574,:]"
      ],
      "execution_count": 31,
      "outputs": [
        {
          "output_type": "execute_result",
          "data": {
            "text/plain": [
              "Unnamed: 0                                                         846\n",
              "track_id                                        4a48lWUd64bZgHUDx0GZlj\n",
              "track_name                                                         新宝島\n",
              "track_url            https://open.spotify.com/track/4a48lWUd64bZgHU...\n",
              "available_markets    AD,AE,AR,AT,AU,BE,BG,BH,BO,BR,CA,CH,CL,CO,CR,C...\n",
              "disc_number                                                          1\n",
              "duration_ms                                                     305000\n",
              "popularity                                                          52\n",
              "preview_url          https://p.scdn.co/mp3-preview/1ffb1bb16fd3f875...\n",
              "track_number                                                         5\n",
              "acousticness                                                    0.0013\n",
              "danceability                                                     0.551\n",
              "energy                                                           0.919\n",
              "instrumentalness                                               0.00638\n",
              "liveness                                                         0.352\n",
              "loudness                                                        -3.484\n",
              "valence                                                          0.652\n",
              "speechiness                                                      0.074\n",
              "key                                                                  7\n",
              "mode                                                                 0\n",
              "tempo                                                          157.989\n",
              "time_signature                                                       4\n",
              "artist_id                                       0hCWVMGGQnRVfDgmhwLIxq\n",
              "artist_name                                                Sakanaction\n",
              "artist_url           https://open.spotify.com/artist/0hCWVMGGQnRVfD...\n",
              "artist_type                                                     artist\n",
              "album_url            https://open.spotify.com/album/5pLmzFu2ienSbr1...\n",
              "album_id                                        5pLmzFu2ienSbr1SxBJvwB\n",
              "album_name                                                     834.194\n",
              "album_image_url      https://i.scdn.co/image/ab67616d0000b2733bffc3...\n",
              "release_date                                                2019-06-19\n",
              "total_tracks                                                        18\n",
              "genre                                                            j-pop\n",
              "Name: 846, dtype: object"
            ]
          },
          "metadata": {
            "tags": []
          },
          "execution_count": 31
        }
      ]
    },
    {
      "cell_type": "code",
      "metadata": {
        "id": "6eYUa28MFGgt",
        "colab_type": "code",
        "outputId": "99530178-d456-4b1f-e3a0-9e70e4189c14",
        "colab": {
          "base_uri": "https://localhost:8080/",
          "height": 610
        }
      },
      "source": [
        "df.iloc[254,:]"
      ],
      "execution_count": 32,
      "outputs": [
        {
          "output_type": "execute_result",
          "data": {
            "text/plain": [
              "Unnamed: 0                                                         556\n",
              "track_id                                        1v9EovC0CD8tKq88ZEI3Ri\n",
              "track_name                                                  Everything\n",
              "track_url            https://open.spotify.com/track/1v9EovC0CD8tKq8...\n",
              "available_markets    AD,AE,AR,AT,AU,BE,BG,BH,BO,BR,CA,CH,CL,CO,CR,C...\n",
              "disc_number                                                          1\n",
              "duration_ms                                                     240972\n",
              "popularity                                                          50\n",
              "preview_url          https://p.scdn.co/mp3-preview/a716dfe04da917b6...\n",
              "track_number                                                         1\n",
              "acousticness                                                     0.413\n",
              "danceability                                                     0.645\n",
              "energy                                                           0.892\n",
              "instrumentalness                                                     0\n",
              "liveness                                                         0.116\n",
              "loudness                                                        -3.371\n",
              "valence                                                          0.922\n",
              "speechiness                                                     0.0396\n",
              "key                                                                  1\n",
              "mode                                                                 1\n",
              "tempo                                                          121.014\n",
              "time_signature                                                       4\n",
              "artist_id                                       1XYuC1vxinTjHCNd5clB8C\n",
              "artist_name                                                     ARASHI\n",
              "artist_url           https://open.spotify.com/artist/1XYuC1vxinTjHC...\n",
              "artist_type                                                     artist\n",
              "album_url            https://open.spotify.com/album/6DK6abeZ2jNzt2Q...\n",
              "album_id                                        6DK6abeZ2jNzt2QzUN0h14\n",
              "album_name                                                  Everything\n",
              "album_image_url      https://i.scdn.co/image/6d62f6a661f33bc89b3956...\n",
              "release_date                                                2009-07-01\n",
              "total_tracks                                                         1\n",
              "genre                                                            j-pop\n",
              "Name: 556, dtype: object"
            ]
          },
          "metadata": {
            "tags": []
          },
          "execution_count": 32
        }
      ]
    },
    {
      "cell_type": "code",
      "metadata": {
        "id": "OIVg5VqNFiC6",
        "colab_type": "code",
        "outputId": "ccb72f3b-16db-4f14-bdff-bf0490dd60b3",
        "colab": {
          "base_uri": "https://localhost:8080/",
          "height": 610
        }
      },
      "source": [
        "df.iloc[850,:]"
      ],
      "execution_count": 33,
      "outputs": [
        {
          "output_type": "execute_result",
          "data": {
            "text/plain": [
              "Unnamed: 0                                                         171\n",
              "track_id                                        6rEReeuYDZdggaSMF1sybO\n",
              "track_name                                                       ドラえもん\n",
              "track_url            https://open.spotify.com/track/6rEReeuYDZdggaS...\n",
              "available_markets                                                   JP\n",
              "disc_number                                                          1\n",
              "duration_ms                                                     239933\n",
              "popularity                                                          56\n",
              "preview_url          https://p.scdn.co/mp3-preview/c3bd47814215483d...\n",
              "track_number                                                         1\n",
              "acousticness                                                   0.00676\n",
              "danceability                                                      0.64\n",
              "energy                                                           0.547\n",
              "instrumentalness                                              4.95e-05\n",
              "liveness                                                        0.0585\n",
              "loudness                                                        -4.129\n",
              "valence                                                           0.95\n",
              "speechiness                                                      0.038\n",
              "key                                                                  4\n",
              "mode                                                                 1\n",
              "tempo                                                          159.992\n",
              "time_signature                                                       4\n",
              "artist_id                                       1S2S00lgLYLGHWA44qGEUs\n",
              "artist_name                                                Gen Hoshino\n",
              "artist_url           https://open.spotify.com/artist/1S2S00lgLYLGHW...\n",
              "artist_type                                                     artist\n",
              "album_url            https://open.spotify.com/album/1LdrgeXgpJkelki...\n",
              "album_id                                        1LdrgeXgpJkelkirMtgFxq\n",
              "album_name                                                       ドラえもん\n",
              "album_image_url      https://i.scdn.co/image/ab67616d0000b27374f6b1...\n",
              "release_date                                                2018-02-28\n",
              "total_tracks                                                         4\n",
              "genre                                                            j-pop\n",
              "Name: 171, dtype: object"
            ]
          },
          "metadata": {
            "tags": []
          },
          "execution_count": 33
        }
      ]
    },
    {
      "cell_type": "code",
      "metadata": {
        "id": "Mw4iNliNHIIB",
        "colab_type": "code",
        "outputId": "3a224ba1-d30d-4d81-b905-a4b0bf4a2f71",
        "colab": {
          "base_uri": "https://localhost:8080/",
          "height": 610
        }
      },
      "source": [
        "df.iloc[880,:]"
      ],
      "execution_count": 34,
      "outputs": [
        {
          "output_type": "execute_result",
          "data": {
            "text/plain": [
              "Unnamed: 0                                                         677\n",
              "track_id                                        71vDsonFaYcVNPqJFBHiVJ\n",
              "track_name                                                 ロングホープ・フィリア\n",
              "track_url            https://open.spotify.com/track/71vDsonFaYcVNPq...\n",
              "available_markets                                                   JP\n",
              "disc_number                                                          1\n",
              "duration_ms                                                     295800\n",
              "popularity                                                          52\n",
              "preview_url          https://p.scdn.co/mp3-preview/4bdd89de3a107078...\n",
              "track_number                                                         3\n",
              "acousticness                                                    0.0202\n",
              "danceability                                                     0.591\n",
              "energy                                                           0.962\n",
              "instrumentalness                                                     0\n",
              "liveness                                                          0.36\n",
              "loudness                                                        -2.486\n",
              "valence                                                          0.523\n",
              "speechiness                                                     0.0411\n",
              "key                                                                  0\n",
              "mode                                                                 1\n",
              "tempo                                                          111.941\n",
              "time_signature                                                       4\n",
              "artist_id                                       6n4SsAp5VjvIBg3s9QCcPX\n",
              "artist_name                                                Masaki Suda\n",
              "artist_url           https://open.spotify.com/artist/6n4SsAp5VjvIBg...\n",
              "artist_type                                                     artist\n",
              "album_url            https://open.spotify.com/album/0iSNkxOcMtCmuOb...\n",
              "album_id                                        0iSNkxOcMtCmuOb59ityJG\n",
              "album_name                                                        LOVE\n",
              "album_image_url      https://i.scdn.co/image/ab67616d0000b2736599ee...\n",
              "release_date                                                2019-07-10\n",
              "total_tracks                                                        11\n",
              "genre                                                            j-pop\n",
              "Name: 677, dtype: object"
            ]
          },
          "metadata": {
            "tags": []
          },
          "execution_count": 34
        }
      ]
    },
    {
      "cell_type": "code",
      "metadata": {
        "id": "hbyF2xq1HYf2",
        "colab_type": "code",
        "outputId": "a9aad821-2757-4fde-d1ed-9e320bd375ff",
        "colab": {
          "base_uri": "https://localhost:8080/",
          "height": 610
        }
      },
      "source": [
        "df.iloc[632,:]"
      ],
      "execution_count": 35,
      "outputs": [
        {
          "output_type": "execute_result",
          "data": {
            "text/plain": [
              "Unnamed: 0                                                          47\n",
              "track_id                                        53WuztMfY1VH3rLIm0zApQ\n",
              "track_name                                                      イエスタデイ\n",
              "track_url            https://open.spotify.com/track/53WuztMfY1VH3rL...\n",
              "available_markets                                                   JP\n",
              "disc_number                                                          1\n",
              "duration_ms                                                     299164\n",
              "popularity                                                          63\n",
              "preview_url          https://p.scdn.co/mp3-preview/9f78871f94336fc4...\n",
              "track_number                                                         1\n",
              "acousticness                                                    0.0442\n",
              "danceability                                                     0.541\n",
              "energy                                                             0.8\n",
              "instrumentalness                                                     0\n",
              "liveness                                                         0.398\n",
              "loudness                                                        -3.687\n",
              "valence                                                           0.56\n",
              "speechiness                                                     0.0382\n",
              "key                                                                  6\n",
              "mode                                                                 1\n",
              "tempo                                                          129.939\n",
              "time_signature                                                       4\n",
              "artist_id                                       5Vo1hnCRmCM6M4thZCInCj\n",
              "artist_name                                      Official HIGE DANdism\n",
              "artist_url           https://open.spotify.com/artist/5Vo1hnCRmCM6M4...\n",
              "artist_type                                                     artist\n",
              "album_url            https://open.spotify.com/album/0AcDdZ01F1DSv6X...\n",
              "album_id                                        0AcDdZ01F1DSv6XSvLunkb\n",
              "album_name                                                    Traveler\n",
              "album_image_url      https://i.scdn.co/image/d840bba5b8b0528f5277d1...\n",
              "release_date                                                2019-10-09\n",
              "total_tracks                                                        14\n",
              "genre                                                            j-pop\n",
              "Name: 47, dtype: object"
            ]
          },
          "metadata": {
            "tags": []
          },
          "execution_count": 35
        }
      ]
    },
    {
      "cell_type": "code",
      "metadata": {
        "id": "lkKk2jtQIat7",
        "colab_type": "code",
        "outputId": "9372c9eb-dd27-4974-e279-6c630c594370",
        "colab": {
          "base_uri": "https://localhost:8080/",
          "height": 34
        }
      },
      "source": [
        "list(df.reset_index().query('track_id == \"2OCtw3vaD0urZuYOeuNw4V\"').index)\n"
      ],
      "execution_count": 36,
      "outputs": [
        {
          "output_type": "execute_result",
          "data": {
            "text/plain": [
              "[316]"
            ]
          },
          "metadata": {
            "tags": []
          },
          "execution_count": 36
        }
      ]
    },
    {
      "cell_type": "code",
      "metadata": {
        "id": "A6rPmziaMekg",
        "colab_type": "code",
        "outputId": "a5c87b04-0ffb-4339-d735-d39cc9b98fad",
        "colab": {
          "base_uri": "https://localhost:8080/",
          "height": 139
        }
      },
      "source": [
        "df_sim.iloc[316,:].sort_values(ascending=False).head(6)"
      ],
      "execution_count": 37,
      "outputs": [
        {
          "output_type": "execute_result",
          "data": {
            "text/plain": [
              "316    1.000000\n",
              "10     0.996833\n",
              "987    0.994463\n",
              "654    0.994090\n",
              "415    0.993934\n",
              "665    0.993751\n",
              "Name: 316, dtype: float64"
            ]
          },
          "metadata": {
            "tags": []
          },
          "execution_count": 37
        }
      ]
    },
    {
      "cell_type": "code",
      "metadata": {
        "id": "aQetKOqXMisn",
        "colab_type": "code",
        "outputId": "0ebc9eb0-00b5-429a-a6e6-d7707c19f6dc",
        "colab": {
          "base_uri": "https://localhost:8080/",
          "height": 610
        }
      },
      "source": [
        "df.iloc[10,:]"
      ],
      "execution_count": 0,
      "outputs": [
        {
          "output_type": "execute_result",
          "data": {
            "text/plain": [
              "Unnamed: 0                                                         389\n",
              "track_id                                        06BIna6ik1U4hoR0XlSfzw\n",
              "track_name                                                   輝きだして走ってく\n",
              "track_url            https://open.spotify.com/track/06BIna6ik1U4hoR...\n",
              "available_markets    AD,AE,AR,AT,AU,BE,BG,BH,BO,BR,CA,CH,CL,CO,CR,C...\n",
              "disc_number                                                          1\n",
              "duration_ms                                                     269466\n",
              "popularity                                                          46\n",
              "preview_url          https://p.scdn.co/mp3-preview/6d7c0a54cb14c863...\n",
              "track_number                                                         1\n",
              "acousticness                                                    0.0051\n",
              "danceability                                                     0.444\n",
              "energy                                                           0.833\n",
              "instrumentalness                                                     0\n",
              "liveness                                                         0.362\n",
              "loudness                                                        -3.182\n",
              "valence                                                          0.604\n",
              "speechiness                                                     0.0898\n",
              "key                                                                  2\n",
              "mode                                                                 1\n",
              "tempo                                                          178.061\n",
              "time_signature                                                       4\n",
              "artist_id                                       5ydDSP9qSxEOlHWnpbblFB\n",
              "artist_name                                                Sambomaster\n",
              "artist_url           https://open.spotify.com/artist/5ydDSP9qSxEOlH...\n",
              "artist_type                                                     artist\n",
              "album_url            https://open.spotify.com/album/0sRYo3ohyfkv8Yf...\n",
              "album_id                                        0sRYo3ohyfkv8YfQy7kU7i\n",
              "album_name                                                   輝きだして走ってく\n",
              "album_image_url      https://i.scdn.co/image/ab67616d0000b2732db767...\n",
              "release_date                                                2018-08-15\n",
              "total_tracks                                                         2\n",
              "genre                                                            j-pop\n",
              "Name: 389, dtype: object"
            ]
          },
          "metadata": {
            "tags": []
          },
          "execution_count": 82
        }
      ]
    },
    {
      "cell_type": "code",
      "metadata": {
        "id": "cDtP1ZXuMmY8",
        "colab_type": "code",
        "outputId": "6d48e21c-c3c8-45b4-cd16-e080b46f3b58",
        "colab": {
          "base_uri": "https://localhost:8080/",
          "height": 610
        }
      },
      "source": [
        "df.iloc[987,:]"
      ],
      "execution_count": 38,
      "outputs": [
        {
          "output_type": "execute_result",
          "data": {
            "text/plain": [
              "Unnamed: 0                                                         347\n",
              "track_id                                        7vBt0nLQ1uPurkqiW7Pibs\n",
              "track_name                                                      夏のどこかへ\n",
              "track_url            https://open.spotify.com/track/7vBt0nLQ1uPurkq...\n",
              "available_markets    AD,AE,AR,AT,AU,BE,BG,BH,BO,BR,CA,CH,CL,CO,CR,C...\n",
              "disc_number                                                          1\n",
              "duration_ms                                                     238917\n",
              "popularity                                                          54\n",
              "preview_url          https://p.scdn.co/mp3-preview/e50777aeef75d860...\n",
              "track_number                                                         2\n",
              "acousticness                                                   0.00174\n",
              "danceability                                                     0.549\n",
              "energy                                                           0.939\n",
              "instrumentalness                                                     0\n",
              "liveness                                                          0.32\n",
              "loudness                                                         -3.19\n",
              "valence                                                          0.579\n",
              "speechiness                                                     0.0577\n",
              "key                                                                  7\n",
              "mode                                                                 1\n",
              "tempo                                                           97.451\n",
              "time_signature                                                       4\n",
              "artist_id                                       6YqdtpUutxodni6lUD4stM\n",
              "artist_name                                                     WANIMA\n",
              "artist_url           https://open.spotify.com/artist/6YqdtpUutxodni...\n",
              "artist_type                                                     artist\n",
              "album_url            https://open.spotify.com/album/1R6DH3ahYHOQxqQ...\n",
              "album_id                                        1R6DH3ahYHOQxqQUBFl3au\n",
              "album_name                                                COMINATCHA!!\n",
              "album_image_url      https://i.scdn.co/image/05996661e982d4036b1613...\n",
              "release_date                                                2019-10-23\n",
              "total_tracks                                                        15\n",
              "genre                                                            j-pop\n",
              "Name: 347, dtype: object"
            ]
          },
          "metadata": {
            "tags": []
          },
          "execution_count": 38
        }
      ]
    },
    {
      "cell_type": "code",
      "metadata": {
        "id": "jPJfoTU_NvpW",
        "colab_type": "code",
        "outputId": "bb092233-f4a0-43f9-b530-4d9c7cc898b8",
        "colab": {
          "base_uri": "https://localhost:8080/",
          "height": 610
        }
      },
      "source": [
        "df.iloc[654,:]"
      ],
      "execution_count": 39,
      "outputs": [
        {
          "output_type": "execute_result",
          "data": {
            "text/plain": [
              "Unnamed: 0                                                         906\n",
              "track_id                                        5DtsD7m3yQAD4KyrsjzHA1\n",
              "track_name                                                         エソラ\n",
              "track_url            https://open.spotify.com/track/5DtsD7m3yQAD4Ky...\n",
              "available_markets                                                JP,TW\n",
              "disc_number                                                          1\n",
              "duration_ms                                                     304213\n",
              "popularity                                                          44\n",
              "preview_url          https://p.scdn.co/mp3-preview/482a805d7cbbbce6...\n",
              "track_number                                                         3\n",
              "acousticness                                                   0.00643\n",
              "danceability                                                     0.547\n",
              "energy                                                           0.899\n",
              "instrumentalness                                              2.45e-05\n",
              "liveness                                                         0.198\n",
              "loudness                                                        -4.709\n",
              "valence                                                          0.702\n",
              "speechiness                                                     0.0434\n",
              "key                                                                  8\n",
              "mode                                                                 1\n",
              "tempo                                                          127.014\n",
              "time_signature                                                       4\n",
              "artist_id                                       1qma7XhwZotCAucL7NHVLY\n",
              "artist_name                                                Mr.Children\n",
              "artist_url           https://open.spotify.com/artist/1qma7XhwZotCAu...\n",
              "artist_type                                                     artist\n",
              "album_url            https://open.spotify.com/album/4Um0RZAJzJ9lHpz...\n",
              "album_id                                        4Um0RZAJzJ9lHpzDW247mm\n",
              "album_name                                         SUPERMARKET FANTASY\n",
              "album_image_url      https://i.scdn.co/image/ab67616d0000b273b263a8...\n",
              "release_date                                                2008-12-10\n",
              "total_tracks                                                        14\n",
              "genre                                                            j-pop\n",
              "Name: 906, dtype: object"
            ]
          },
          "metadata": {
            "tags": []
          },
          "execution_count": 39
        }
      ]
    },
    {
      "cell_type": "code",
      "metadata": {
        "id": "PdAnQUiuN9Kz",
        "colab_type": "code",
        "outputId": "c69f4ba2-1a64-4c86-bda5-4cd14c1d4419",
        "colab": {
          "base_uri": "https://localhost:8080/",
          "height": 610
        }
      },
      "source": [
        "df.iloc[415,:]"
      ],
      "execution_count": 40,
      "outputs": [
        {
          "output_type": "execute_result",
          "data": {
            "text/plain": [
              "Unnamed: 0                                                         833\n",
              "track_id                                        3DgBxV8oklNgwhnkfQNIdi\n",
              "track_name                                                    努努-ゆめゆめ-\n",
              "track_url            https://open.spotify.com/track/3DgBxV8oklNgwhn...\n",
              "available_markets                                                   JP\n",
              "disc_number                                                          1\n",
              "duration_ms                                                     195666\n",
              "popularity                                                          48\n",
              "preview_url          https://p.scdn.co/mp3-preview/255f71ba58fe116d...\n",
              "track_number                                                         5\n",
              "acousticness                                                   0.00307\n",
              "danceability                                                     0.554\n",
              "energy                                                           0.951\n",
              "instrumentalness                                                     0\n",
              "liveness                                                         0.124\n",
              "loudness                                                        -3.853\n",
              "valence                                                          0.646\n",
              "speechiness                                                     0.0855\n",
              "key                                                                 10\n",
              "mode                                                                 1\n",
              "tempo                                                          125.975\n",
              "time_signature                                                       4\n",
              "artist_id                                       7k73EtZwoPs516ZxE72KsO\n",
              "artist_name                                                ONE OK ROCK\n",
              "artist_url           https://open.spotify.com/artist/7k73EtZwoPs516...\n",
              "artist_type                                                     artist\n",
              "album_url            https://open.spotify.com/album/46tj8YcIiWYdrkS...\n",
              "album_id                                        46tj8YcIiWYdrkS8QcDNrP\n",
              "album_name                                                     ゼイタクビョウ\n",
              "album_image_url      https://i.scdn.co/image/ab67616d0000b2736878b8...\n",
              "release_date                                                2007-11-21\n",
              "total_tracks                                                        11\n",
              "genre                                                            j-pop\n",
              "Name: 833, dtype: object"
            ]
          },
          "metadata": {
            "tags": []
          },
          "execution_count": 40
        }
      ]
    },
    {
      "cell_type": "code",
      "metadata": {
        "id": "QvsBZuRUQXN4",
        "colab_type": "code",
        "outputId": "c13a00bd-3ad1-4521-8431-6fc316e9cf90",
        "colab": {
          "base_uri": "https://localhost:8080/",
          "height": 610
        }
      },
      "source": [
        "df.iloc[665,:]"
      ],
      "execution_count": 41,
      "outputs": [
        {
          "output_type": "execute_result",
          "data": {
            "text/plain": [
              "Unnamed: 0                                                         598\n",
              "track_id                                        5IwRgi599tbwNi9wqPYyIX\n",
              "track_name                                                     Jupiter\n",
              "track_url            https://open.spotify.com/track/5IwRgi599tbwNi9...\n",
              "available_markets                                                   JP\n",
              "disc_number                                                          1\n",
              "duration_ms                                                     361000\n",
              "popularity                                                          52\n",
              "preview_url          https://p.scdn.co/mp3-preview/0485b31aad8a770f...\n",
              "track_number                                                        13\n",
              "acousticness                                                      0.42\n",
              "danceability                                                     0.333\n",
              "energy                                                           0.577\n",
              "instrumentalness                                                     0\n",
              "liveness                                                         0.388\n",
              "loudness                                                        -8.064\n",
              "valence                                                          0.366\n",
              "speechiness                                                     0.0306\n",
              "key                                                                  1\n",
              "mode                                                                 1\n",
              "tempo                                                           88.886\n",
              "time_signature                                                       4\n",
              "artist_id                                       0AzJGufY9eXWy5wHZWQ71H\n",
              "artist_name                                             Ayaka Hirahara\n",
              "artist_url           https://open.spotify.com/artist/0AzJGufY9eXWy5...\n",
              "artist_type                                                     artist\n",
              "album_url            https://open.spotify.com/album/7c2avNmlnMehoWD...\n",
              "album_id                                        7c2avNmlnMehoWD77vy3Dn\n",
              "album_name                                                     Odyssey\n",
              "album_image_url      https://i.scdn.co/image/ab67616d0000b273bdfb0a...\n",
              "release_date                                                2005-09-21\n",
              "total_tracks                                                        13\n",
              "genre                                                            j-pop\n",
              "Name: 598, dtype: object"
            ]
          },
          "metadata": {
            "tags": []
          },
          "execution_count": 41
        }
      ]
    },
    {
      "cell_type": "code",
      "metadata": {
        "id": "IuBLseYS8PoR",
        "colab_type": "code",
        "colab": {}
      },
      "source": [
        "def d_euc(v1, v2):\n",
        "    return np.sum((v1- v2)**2) "
      ],
      "execution_count": 0,
      "outputs": []
    },
    {
      "cell_type": "code",
      "metadata": {
        "id": "1p8A06ZeQynW",
        "colab_type": "code",
        "colab": {}
      },
      "source": [
        "D = np.zeros([1000,1000])\n",
        "for i in range(S.shape[0]):\n",
        "  for j in range(S.shape[1]):\n",
        "    if j >= i:\n",
        "      D[i][j] = d_euc(M[i,:], M[j,:])\n",
        "    else:\n",
        "      D[i][j] = D[j][i]"
      ],
      "execution_count": 0,
      "outputs": []
    },
    {
      "cell_type": "code",
      "metadata": {
        "id": "fekrcsMO8Jzt",
        "colab_type": "code",
        "colab": {
          "base_uri": "https://localhost:8080/",
          "height": 531
        },
        "outputId": "b9270d6a-535c-4027-bdc4-3c620069bd81"
      },
      "source": [
        "import matplotlib.pyplot as plt\n",
        "%matplotlib inline\n",
        "plt.imshow(np.log(D))\n",
        "D"
      ],
      "execution_count": 49,
      "outputs": [
        {
          "output_type": "stream",
          "text": [
            "/usr/local/lib/python3.6/dist-packages/ipykernel_launcher.py:3: RuntimeWarning: divide by zero encountered in log\n",
            "  This is separate from the ipykernel package so we can avoid doing imports until\n"
          ],
          "name": "stderr"
        },
        {
          "output_type": "execute_result",
          "data": {
            "text/plain": [
              "array([[    0.        ,  7077.32080078, 29848.6875    , ...,\n",
              "         7846.03564453, 16809.50585938, 35686.38671875],\n",
              "       [ 7077.32080078,     0.        , 20742.26171875, ...,\n",
              "         6110.40332031, 16665.64453125, 27414.59765625],\n",
              "       [29848.6875    , 20742.26171875,     0.        , ...,\n",
              "        31013.21679688,  6787.24267578,  2269.90063477],\n",
              "       ...,\n",
              "       [ 7846.03564453,  6110.40332031, 31013.21679688, ...,\n",
              "            0.        , 24489.984375  , 39615.58984375],\n",
              "       [16809.50585938, 16665.64453125,  6787.24267578, ...,\n",
              "        24489.984375  ,     0.        ,  6653.50341797],\n",
              "       [35686.38671875, 27414.59765625,  2269.90063477, ...,\n",
              "        39615.58984375,  6653.50341797,     0.        ]])"
            ]
          },
          "metadata": {
            "tags": []
          },
          "execution_count": 49
        },
        {
          "output_type": "display_data",
          "data": {
            "image/png": "[encoded data removed]",
            "text/plain": [
              "<Figure size 432x288 with 1 Axes>"
            ]
          },
          "metadata": {
            "tags": []
          }
        }
      ]
    },
    {
      "cell_type": "code",
      "metadata": {
        "id": "8Oqz2U7P8WlP",
        "colab_type": "code",
        "colab": {}
      },
      "source": [
        "df_sim = pd.DataFrame(D)"
      ],
      "execution_count": 0,
      "outputs": []
    },
    {
      "cell_type": "code",
      "metadata": {
        "id": "qfevxYK_8oS4",
        "colab_type": "code",
        "colab": {
          "base_uri": "https://localhost:8080/",
          "height": 156
        },
        "outputId": "f2aff8cb-07b4-490a-8749-06bb32423cd7"
      },
      "source": [
        "df_sim.iloc[793,:].sort_values(ascending=True).head(7)"
      ],
      "execution_count": 66,
      "outputs": [
        {
          "output_type": "execute_result",
          "data": {
            "text/plain": [
              "793       0.000000\n",
              "574      82.532257\n",
              "431    2071.754150\n",
              "632    2071.754150\n",
              "850    2427.842529\n",
              "876    2510.567139\n",
              "668    2527.824707\n",
              "Name: 793, dtype: float64"
            ]
          },
          "metadata": {
            "tags": []
          },
          "execution_count": 66
        }
      ]
    },
    {
      "cell_type": "code",
      "metadata": {
        "id": "Nen3z-Du8usi",
        "colab_type": "code",
        "colab": {
          "base_uri": "https://localhost:8080/",
          "height": 610
        },
        "outputId": "1c03a170-cc78-4310-d852-2b1ed77cc0fa"
      },
      "source": [
        "df.iloc[574,:]"
      ],
      "execution_count": 52,
      "outputs": [
        {
          "output_type": "execute_result",
          "data": {
            "text/plain": [
              "Unnamed: 0                                                         846\n",
              "track_id                                        4a48lWUd64bZgHUDx0GZlj\n",
              "track_name                                                         新宝島\n",
              "track_url            https://open.spotify.com/track/4a48lWUd64bZgHU...\n",
              "available_markets    AD,AE,AR,AT,AU,BE,BG,BH,BO,BR,CA,CH,CL,CO,CR,C...\n",
              "disc_number                                                          1\n",
              "duration_ms                                                     305000\n",
              "popularity                                                          52\n",
              "preview_url          https://p.scdn.co/mp3-preview/1ffb1bb16fd3f875...\n",
              "track_number                                                         5\n",
              "acousticness                                                    0.0013\n",
              "danceability                                                     0.551\n",
              "energy                                                           0.919\n",
              "instrumentalness                                               0.00638\n",
              "liveness                                                         0.352\n",
              "loudness                                                        -3.484\n",
              "valence                                                          0.652\n",
              "speechiness                                                      0.074\n",
              "key                                                                  7\n",
              "mode                                                                 0\n",
              "tempo                                                          157.989\n",
              "time_signature                                                       4\n",
              "artist_id                                       0hCWVMGGQnRVfDgmhwLIxq\n",
              "artist_name                                                Sakanaction\n",
              "artist_url           https://open.spotify.com/artist/0hCWVMGGQnRVfD...\n",
              "artist_type                                                     artist\n",
              "album_url            https://open.spotify.com/album/5pLmzFu2ienSbr1...\n",
              "album_id                                        5pLmzFu2ienSbr1SxBJvwB\n",
              "album_name                                                     834.194\n",
              "album_image_url      https://i.scdn.co/image/ab67616d0000b2733bffc3...\n",
              "release_date                                                2019-06-19\n",
              "total_tracks                                                        18\n",
              "genre                                                            j-pop\n",
              "Name: 846, dtype: object"
            ]
          },
          "metadata": {
            "tags": []
          },
          "execution_count": 52
        }
      ]
    },
    {
      "cell_type": "code",
      "metadata": {
        "id": "dn9C4j-088J1",
        "colab_type": "code",
        "colab": {
          "base_uri": "https://localhost:8080/",
          "height": 610
        },
        "outputId": "12436200-dc68-4139-9f3d-ae3c91c55619"
      },
      "source": [
        "df.iloc[431,:]"
      ],
      "execution_count": 53,
      "outputs": [
        {
          "output_type": "execute_result",
          "data": {
            "text/plain": [
              "Unnamed: 0                                                          11\n",
              "track_id                                        3S3DDZrPOYTirleXRyHnNM\n",
              "track_name                                                      イエスタデイ\n",
              "track_url            https://open.spotify.com/track/3S3DDZrPOYTirle...\n",
              "available_markets                                                   JP\n",
              "disc_number                                                          1\n",
              "duration_ms                                                     299164\n",
              "popularity                                                          69\n",
              "preview_url          https://p.scdn.co/mp3-preview/9f78871f94336fc4...\n",
              "track_number                                                         1\n",
              "acousticness                                                    0.0442\n",
              "danceability                                                     0.541\n",
              "energy                                                             0.8\n",
              "instrumentalness                                                     0\n",
              "liveness                                                         0.398\n",
              "loudness                                                        -3.687\n",
              "valence                                                           0.56\n",
              "speechiness                                                     0.0382\n",
              "key                                                                  6\n",
              "mode                                                                 1\n",
              "tempo                                                          129.939\n",
              "time_signature                                                       4\n",
              "artist_id                                       5Vo1hnCRmCM6M4thZCInCj\n",
              "artist_name                                      Official HIGE DANdism\n",
              "artist_url           https://open.spotify.com/artist/5Vo1hnCRmCM6M4...\n",
              "artist_type                                                     artist\n",
              "album_url            https://open.spotify.com/album/2vwgYzudvFwyFe1...\n",
              "album_id                                        2vwgYzudvFwyFe1Ho9gdUQ\n",
              "album_name                                                    Traveler\n",
              "album_image_url      https://i.scdn.co/image/d840bba5b8b0528f5277d1...\n",
              "release_date                                                2019-09-11\n",
              "total_tracks                                                         7\n",
              "genre                                                            j-pop\n",
              "Name: 11, dtype: object"
            ]
          },
          "metadata": {
            "tags": []
          },
          "execution_count": 53
        }
      ]
    },
    {
      "cell_type": "code",
      "metadata": {
        "id": "vUp2GYqP9A0c",
        "colab_type": "code",
        "colab": {
          "base_uri": "https://localhost:8080/",
          "height": 610
        },
        "outputId": "b98f438f-a1e4-4f8e-d7b2-4079ee06c0fa"
      },
      "source": [
        "df.iloc[632,:]"
      ],
      "execution_count": 54,
      "outputs": [
        {
          "output_type": "execute_result",
          "data": {
            "text/plain": [
              "Unnamed: 0                                                          47\n",
              "track_id                                        53WuztMfY1VH3rLIm0zApQ\n",
              "track_name                                                      イエスタデイ\n",
              "track_url            https://open.spotify.com/track/53WuztMfY1VH3rL...\n",
              "available_markets                                                   JP\n",
              "disc_number                                                          1\n",
              "duration_ms                                                     299164\n",
              "popularity                                                          63\n",
              "preview_url          https://p.scdn.co/mp3-preview/9f78871f94336fc4...\n",
              "track_number                                                         1\n",
              "acousticness                                                    0.0442\n",
              "danceability                                                     0.541\n",
              "energy                                                             0.8\n",
              "instrumentalness                                                     0\n",
              "liveness                                                         0.398\n",
              "loudness                                                        -3.687\n",
              "valence                                                           0.56\n",
              "speechiness                                                     0.0382\n",
              "key                                                                  6\n",
              "mode                                                                 1\n",
              "tempo                                                          129.939\n",
              "time_signature                                                       4\n",
              "artist_id                                       5Vo1hnCRmCM6M4thZCInCj\n",
              "artist_name                                      Official HIGE DANdism\n",
              "artist_url           https://open.spotify.com/artist/5Vo1hnCRmCM6M4...\n",
              "artist_type                                                     artist\n",
              "album_url            https://open.spotify.com/album/0AcDdZ01F1DSv6X...\n",
              "album_id                                        0AcDdZ01F1DSv6XSvLunkb\n",
              "album_name                                                    Traveler\n",
              "album_image_url      https://i.scdn.co/image/d840bba5b8b0528f5277d1...\n",
              "release_date                                                2019-10-09\n",
              "total_tracks                                                        14\n",
              "genre                                                            j-pop\n",
              "Name: 47, dtype: object"
            ]
          },
          "metadata": {
            "tags": []
          },
          "execution_count": 54
        }
      ]
    },
    {
      "cell_type": "code",
      "metadata": {
        "id": "UcKCAha09Fpz",
        "colab_type": "code",
        "colab": {
          "base_uri": "https://localhost:8080/",
          "height": 610
        },
        "outputId": "f2d92666-1018-4703-b6f4-a558f448986e"
      },
      "source": [
        "df.iloc[850,:]"
      ],
      "execution_count": 55,
      "outputs": [
        {
          "output_type": "execute_result",
          "data": {
            "text/plain": [
              "Unnamed: 0                                                         171\n",
              "track_id                                        6rEReeuYDZdggaSMF1sybO\n",
              "track_name                                                       ドラえもん\n",
              "track_url            https://open.spotify.com/track/6rEReeuYDZdggaS...\n",
              "available_markets                                                   JP\n",
              "disc_number                                                          1\n",
              "duration_ms                                                     239933\n",
              "popularity                                                          56\n",
              "preview_url          https://p.scdn.co/mp3-preview/c3bd47814215483d...\n",
              "track_number                                                         1\n",
              "acousticness                                                   0.00676\n",
              "danceability                                                      0.64\n",
              "energy                                                           0.547\n",
              "instrumentalness                                              4.95e-05\n",
              "liveness                                                        0.0585\n",
              "loudness                                                        -4.129\n",
              "valence                                                           0.95\n",
              "speechiness                                                      0.038\n",
              "key                                                                  4\n",
              "mode                                                                 1\n",
              "tempo                                                          159.992\n",
              "time_signature                                                       4\n",
              "artist_id                                       1S2S00lgLYLGHWA44qGEUs\n",
              "artist_name                                                Gen Hoshino\n",
              "artist_url           https://open.spotify.com/artist/1S2S00lgLYLGHW...\n",
              "artist_type                                                     artist\n",
              "album_url            https://open.spotify.com/album/1LdrgeXgpJkelki...\n",
              "album_id                                        1LdrgeXgpJkelkirMtgFxq\n",
              "album_name                                                       ドラえもん\n",
              "album_image_url      https://i.scdn.co/image/ab67616d0000b27374f6b1...\n",
              "release_date                                                2018-02-28\n",
              "total_tracks                                                         4\n",
              "genre                                                            j-pop\n",
              "Name: 171, dtype: object"
            ]
          },
          "metadata": {
            "tags": []
          },
          "execution_count": 55
        }
      ]
    },
    {
      "cell_type": "code",
      "metadata": {
        "id": "Cb7JcZxF9L_7",
        "colab_type": "code",
        "colab": {
          "base_uri": "https://localhost:8080/",
          "height": 610
        },
        "outputId": "417355e7-b3d2-4f5d-e9a5-279f0b1ad367"
      },
      "source": [
        "df.iloc[876,:]"
      ],
      "execution_count": 56,
      "outputs": [
        {
          "output_type": "execute_result",
          "data": {
            "text/plain": [
              "Unnamed: 0                                                         496\n",
              "track_id                                        70deSMfvYqELhxcTnOlvuW\n",
              "track_name                                                       オドループ\n",
              "track_url            https://open.spotify.com/track/70deSMfvYqELhxc...\n",
              "available_markets                                                   JP\n",
              "disc_number                                                          1\n",
              "duration_ms                                                     255293\n",
              "popularity                                                          45\n",
              "preview_url          https://p.scdn.co/mp3-preview/124ba179bf261d54...\n",
              "track_number                                                         1\n",
              "acousticness                                                    0.0034\n",
              "danceability                                                     0.424\n",
              "energy                                                           0.899\n",
              "instrumentalness                                               8.1e-05\n",
              "liveness                                                         0.223\n",
              "loudness                                                        -3.937\n",
              "valence                                                           0.74\n",
              "speechiness                                                     0.0572\n",
              "key                                                                 11\n",
              "mode                                                                 0\n",
              "tempo                                                          171.832\n",
              "time_signature                                                       4\n",
              "artist_id                                       3srPc1Mytv5GmTWqsQuoXW\n",
              "artist_name                                                   frederic\n",
              "artist_url           https://open.spotify.com/artist/3srPc1Mytv5GmT...\n",
              "artist_type                                                     artist\n",
              "album_url            https://open.spotify.com/album/5pvfE6yz1Av7MkK...\n",
              "album_id                                        5pvfE6yz1Av7MkK5MjvBVH\n",
              "album_name                                                     oddloop\n",
              "album_image_url      https://i.scdn.co/image/ab67616d0000b27336e84f...\n",
              "release_date                                                2014-09-24\n",
              "total_tracks                                                         7\n",
              "genre                                                            j-pop\n",
              "Name: 496, dtype: object"
            ]
          },
          "metadata": {
            "tags": []
          },
          "execution_count": 56
        }
      ]
    },
    {
      "cell_type": "code",
      "metadata": {
        "id": "RNVl7QqODJjK",
        "colab_type": "code",
        "colab": {
          "base_uri": "https://localhost:8080/",
          "height": 610
        },
        "outputId": "f368cff4-e41c-43b0-c353-de2ff03ae382"
      },
      "source": [
        "df.iloc[668,:]"
      ],
      "execution_count": 67,
      "outputs": [
        {
          "output_type": "execute_result",
          "data": {
            "text/plain": [
              "Unnamed: 0                                                         510\n",
              "track_id                                        5KCJprz0gbE2ZucMkVsTfJ\n",
              "track_name                                                           嘘\n",
              "track_url            https://open.spotify.com/track/5KCJprz0gbE2Zuc...\n",
              "available_markets                                                   JP\n",
              "disc_number                                                          1\n",
              "duration_ms                                                     225327\n",
              "popularity                                                          45\n",
              "preview_url          https://p.scdn.co/mp3-preview/986d6b25563ff3cb...\n",
              "track_number                                                         4\n",
              "acousticness                                                     0.133\n",
              "danceability                                                     0.661\n",
              "energy                                                           0.872\n",
              "instrumentalness                                                     0\n",
              "liveness                                                         0.133\n",
              "loudness                                                        -4.291\n",
              "valence                                                          0.706\n",
              "speechiness                                                     0.0462\n",
              "key                                                                  1\n",
              "mode                                                                 1\n",
              "tempo                                                           90.038\n",
              "time_signature                                                       4\n",
              "artist_id                                       16E27V4q0TPZXIriwMYTWV\n",
              "artist_name                                                     SANARI\n",
              "artist_url           https://open.spotify.com/artist/16E27V4q0TPZXI...\n",
              "artist_type                                                     artist\n",
              "album_url            https://open.spotify.com/album/3kKn1VYoNN3b5cb...\n",
              "album_id                                        3kKn1VYoNN3b5cbOn3brhc\n",
              "album_name                                                   SICKSTEEN\n",
              "album_image_url      https://i.scdn.co/image/ab67616d0000b273bb5365...\n",
              "release_date                                                2019-06-05\n",
              "total_tracks                                                        11\n",
              "genre                                                            j-pop\n",
              "Name: 510, dtype: object"
            ]
          },
          "metadata": {
            "tags": []
          },
          "execution_count": 67
        }
      ]
    },
    {
      "cell_type": "code",
      "metadata": {
        "id": "TCrSaEk-9Ouz",
        "colab_type": "code",
        "colab": {
          "base_uri": "https://localhost:8080/",
          "height": 156
        },
        "outputId": "726f9f32-99f8-490c-8556-a7f7108eaa0f"
      },
      "source": [
        "df_sim.iloc[316,:].sort_values(ascending=True).head(7)"
      ],
      "execution_count": 63,
      "outputs": [
        {
          "output_type": "execute_result",
          "data": {
            "text/plain": [
              "316       0.000000\n",
              "566    2641.438477\n",
              "289    2773.531982\n",
              "846    2926.623535\n",
              "604    3086.854248\n",
              "236    3906.346191\n",
              "125    3963.815918\n",
              "Name: 316, dtype: float64"
            ]
          },
          "metadata": {
            "tags": []
          },
          "execution_count": 63
        }
      ]
    },
    {
      "cell_type": "code",
      "metadata": {
        "id": "977htssX9_ce",
        "colab_type": "code",
        "colab": {
          "base_uri": "https://localhost:8080/",
          "height": 610
        },
        "outputId": "cba5c57b-4441-4f20-bdfa-b1d7ad378e17"
      },
      "source": [
        "df.iloc[566,:]"
      ],
      "execution_count": 58,
      "outputs": [
        {
          "output_type": "execute_result",
          "data": {
            "text/plain": [
              "Unnamed: 0                                                         245\n",
              "track_id                                        4XkqVSWIPb07iLEDvAPq93\n",
              "track_name                                                    やさしくなりたい\n",
              "track_url            https://open.spotify.com/track/4XkqVSWIPb07iLE...\n",
              "available_markets                                                   JP\n",
              "disc_number                                                          1\n",
              "duration_ms                                                     316106\n",
              "popularity                                                          54\n",
              "preview_url          https://p.scdn.co/mp3-preview/34510be551b4c1b1...\n",
              "track_number                                                         1\n",
              "acousticness                                                   0.00877\n",
              "danceability                                                     0.496\n",
              "energy                                                           0.915\n",
              "instrumentalness                                               0.00189\n",
              "liveness                                                         0.108\n",
              "loudness                                                        -3.533\n",
              "valence                                                          0.446\n",
              "speechiness                                                     0.0371\n",
              "key                                                                  1\n",
              "mode                                                                 1\n",
              "tempo                                                          132.017\n",
              "time_signature                                                       4\n",
              "artist_id                                       7sl3PZyhzAqUpL3M6WVD8G\n",
              "artist_name                                            Kazuyoshi Saito\n",
              "artist_url           https://open.spotify.com/artist/7sl3PZyhzAqUpL...\n",
              "artist_type                                                     artist\n",
              "album_url            https://open.spotify.com/album/5YQqIBCgVCei0A3...\n",
              "album_id                                        5YQqIBCgVCei0A3v1l1jcQ\n",
              "album_name                                                          斉藤\n",
              "album_image_url      https://i.scdn.co/image/ab67616d0000b273c18a33...\n",
              "release_date                                                2013-10-23\n",
              "total_tracks                                                        10\n",
              "genre                                                            j-pop\n",
              "Name: 245, dtype: object"
            ]
          },
          "metadata": {
            "tags": []
          },
          "execution_count": 58
        }
      ]
    },
    {
      "cell_type": "code",
      "metadata": {
        "id": "veMpuL1s-DxV",
        "colab_type": "code",
        "colab": {
          "base_uri": "https://localhost:8080/",
          "height": 610
        },
        "outputId": "ded28897-0dd4-4ec4-baf2-48f32f36d0f7"
      },
      "source": [
        "df.iloc[289,:]"
      ],
      "execution_count": 59,
      "outputs": [
        {
          "output_type": "execute_result",
          "data": {
            "text/plain": [
              "Unnamed: 0                                                         640\n",
              "track_id                                        2A0t0Cgbb6PA5JJqBXRMgJ\n",
              "track_name                                                    やさしくなりたい\n",
              "track_url            https://open.spotify.com/track/2A0t0Cgbb6PA5JJ...\n",
              "available_markets                                                   JP\n",
              "disc_number                                                          1\n",
              "duration_ms                                                     315900\n",
              "popularity                                                          45\n",
              "preview_url          https://p.scdn.co/mp3-preview/17e85ba3a6187457...\n",
              "track_number                                                         1\n",
              "acousticness                                                   0.00795\n",
              "danceability                                                     0.495\n",
              "energy                                                            0.91\n",
              "instrumentalness                                               0.00123\n",
              "liveness                                                         0.106\n",
              "loudness                                                         -3.82\n",
              "valence                                                          0.472\n",
              "speechiness                                                     0.0365\n",
              "key                                                                  1\n",
              "mode                                                                 1\n",
              "tempo                                                          132.026\n",
              "time_signature                                                       4\n",
              "artist_id                                       7sl3PZyhzAqUpL3M6WVD8G\n",
              "artist_name                                            Kazuyoshi Saito\n",
              "artist_url           https://open.spotify.com/artist/7sl3PZyhzAqUpL...\n",
              "artist_type                                                     artist\n",
              "album_url            https://open.spotify.com/album/0vLZyO3HktfOyIk...\n",
              "album_id                                        0vLZyO3HktfOyIkZbXVMYS\n",
              "album_name                                                    やさしくなりたい\n",
              "album_image_url      https://i.scdn.co/image/ab67616d0000b2734999d4...\n",
              "release_date                                                2011-11-02\n",
              "total_tracks                                                         3\n",
              "genre                                                            j-pop\n",
              "Name: 640, dtype: object"
            ]
          },
          "metadata": {
            "tags": []
          },
          "execution_count": 59
        }
      ]
    },
    {
      "cell_type": "code",
      "metadata": {
        "id": "4drfVgbO-YOW",
        "colab_type": "code",
        "colab": {
          "base_uri": "https://localhost:8080/",
          "height": 610
        },
        "outputId": "dae35c8a-5ec6-4bff-c8ad-6fda5a321b74"
      },
      "source": [
        "df.iloc[846,:]"
      ],
      "execution_count": 60,
      "outputs": [
        {
          "output_type": "execute_result",
          "data": {
            "text/plain": [
              "Unnamed: 0                                                         999\n",
              "track_id                                        6mmHwsfy9QU42LeV6c9UT7\n",
              "track_name                                                        さすらい\n",
              "track_url            https://open.spotify.com/track/6mmHwsfy9QU42Le...\n",
              "available_markets                                                   JP\n",
              "disc_number                                                          1\n",
              "duration_ms                                                     203160\n",
              "popularity                                                          45\n",
              "preview_url          https://p.scdn.co/mp3-preview/9eb5f50499556e45...\n",
              "track_number                                                        10\n",
              "acousticness                                                    0.0126\n",
              "danceability                                                     0.591\n",
              "energy                                                           0.792\n",
              "instrumentalness                                              1.52e-05\n",
              "liveness                                                         0.157\n",
              "loudness                                                        -6.128\n",
              "valence                                                          0.812\n",
              "speechiness                                                     0.0316\n",
              "key                                                                  4\n",
              "mode                                                                 1\n",
              "tempo                                                          118.247\n",
              "time_signature                                                       4\n",
              "artist_id                                       3ZWE1TnryM03rfzVin17K0\n",
              "artist_name                                                Tamio Okuda\n",
              "artist_url           https://open.spotify.com/artist/3ZWE1TnryM03rf...\n",
              "artist_type                                                     artist\n",
              "album_url            https://open.spotify.com/album/6kQabUiwRiFATWj...\n",
              "album_id                                        6kQabUiwRiFATWj2brKURj\n",
              "album_name                                                          股旅\n",
              "album_image_url      https://i.scdn.co/image/ab67616d0000b273694956...\n",
              "release_date                                                1998-03-18\n",
              "total_tracks                                                        11\n",
              "genre                                                            j-pop\n",
              "Name: 999, dtype: object"
            ]
          },
          "metadata": {
            "tags": []
          },
          "execution_count": 60
        }
      ]
    },
    {
      "cell_type": "code",
      "metadata": {
        "id": "3nOnpd6A-c8V",
        "colab_type": "code",
        "colab": {
          "base_uri": "https://localhost:8080/",
          "height": 610
        },
        "outputId": "06e7f5ac-7c0e-4273-9c90-b66976f81a60"
      },
      "source": [
        "df.iloc[604,:]"
      ],
      "execution_count": 61,
      "outputs": [
        {
          "output_type": "execute_result",
          "data": {
            "text/plain": [
              "Unnamed: 0                                                         320\n",
              "track_id                                        4nYrT4h72JvsNh3t80FmG0\n",
              "track_name                                                      悲しみの果て\n",
              "track_url            https://open.spotify.com/track/4nYrT4h72JvsNh3...\n",
              "available_markets                                                   JP\n",
              "disc_number                                                          1\n",
              "duration_ms                                                     154173\n",
              "popularity                                                          46\n",
              "preview_url          https://p.scdn.co/mp3-preview/5060938595af150c...\n",
              "track_number                                                         2\n",
              "acousticness                                                   0.00544\n",
              "danceability                                                     0.441\n",
              "energy                                                           0.486\n",
              "instrumentalness                                              6.17e-06\n",
              "liveness                                                         0.181\n",
              "loudness                                                        -7.644\n",
              "valence                                                           0.48\n",
              "speechiness                                                     0.0271\n",
              "key                                                                  1\n",
              "mode                                                                 1\n",
              "tempo                                                           84.781\n",
              "time_signature                                                       4\n",
              "artist_id                                       24ljrnVUlUZ2apxF6GZsrm\n",
              "artist_name                                        Elephant Kashimashi\n",
              "artist_url           https://open.spotify.com/artist/24ljrnVUlUZ2ap...\n",
              "artist_type                                                     artist\n",
              "album_url            https://open.spotify.com/album/6ZiH1sEKirgojyL...\n",
              "album_id                                        6ZiH1sEKirgojyLwKsNx0y\n",
              "album_name                                                      ココロに花を\n",
              "album_image_url      https://i.scdn.co/image/ab67616d0000b2733ff2a5...\n",
              "release_date                                                      1996\n",
              "total_tracks                                                        11\n",
              "genre                                                            j-pop\n",
              "Name: 320, dtype: object"
            ]
          },
          "metadata": {
            "tags": []
          },
          "execution_count": 61
        }
      ]
    },
    {
      "cell_type": "code",
      "metadata": {
        "id": "X7zJ6H1D-wbh",
        "colab_type": "code",
        "colab": {
          "base_uri": "https://localhost:8080/",
          "height": 610
        },
        "outputId": "f93e1ceb-f370-4f48-ddc0-9ca537aa1ade"
      },
      "source": [
        "df.iloc[236,:]"
      ],
      "execution_count": 62,
      "outputs": [
        {
          "output_type": "execute_result",
          "data": {
            "text/plain": [
              "Unnamed: 0                                                         742\n",
              "track_id                                        1mbMo0w6TMyPSi4NFDsKbD\n",
              "track_name                                                          陽炎\n",
              "track_url            https://open.spotify.com/track/1mbMo0w6TMyPSi4...\n",
              "available_markets    AD,AE,AR,AT,AU,BE,BG,BH,BO,BR,CA,CH,CL,CO,CR,C...\n",
              "disc_number                                                          1\n",
              "duration_ms                                                     273000\n",
              "popularity                                                          49\n",
              "preview_url          https://p.scdn.co/mp3-preview/d54ddc972c2bafe2...\n",
              "track_number                                                         3\n",
              "acousticness                                                    0.0614\n",
              "danceability                                                     0.671\n",
              "energy                                                           0.889\n",
              "instrumentalness                                               0.00956\n",
              "liveness                                                         0.319\n",
              "loudness                                                        -4.014\n",
              "valence                                                          0.879\n",
              "speechiness                                                     0.0371\n",
              "key                                                                  0\n",
              "mode                                                                 1\n",
              "tempo                                                          131.965\n",
              "time_signature                                                       4\n",
              "artist_id                                       0hCWVMGGQnRVfDgmhwLIxq\n",
              "artist_name                                                Sakanaction\n",
              "artist_url           https://open.spotify.com/artist/0hCWVMGGQnRVfD...\n",
              "artist_type                                                     artist\n",
              "album_url            https://open.spotify.com/album/5pLmzFu2ienSbr1...\n",
              "album_id                                        5pLmzFu2ienSbr1SxBJvwB\n",
              "album_name                                                     834.194\n",
              "album_image_url      https://i.scdn.co/image/ab67616d0000b2733bffc3...\n",
              "release_date                                                2019-06-19\n",
              "total_tracks                                                        18\n",
              "genre                                                            j-pop\n",
              "Name: 742, dtype: object"
            ]
          },
          "metadata": {
            "tags": []
          },
          "execution_count": 62
        }
      ]
    },
    {
      "cell_type": "code",
      "metadata": {
        "id": "gxq4boNF_C2h",
        "colab_type": "code",
        "colab": {
          "base_uri": "https://localhost:8080/",
          "height": 610
        },
        "outputId": "c10282af-d9fd-4cb7-bdd5-d35d4aec4b29"
      },
      "source": [
        "df.iloc[125,:]"
      ],
      "execution_count": 64,
      "outputs": [
        {
          "output_type": "execute_result",
          "data": {
            "text/plain": [
              "Unnamed: 0                                                         344\n",
              "track_id                                        11AbfhB0FNNs6yRClQMVfC\n",
              "track_name                                                        イコール\n",
              "track_url            https://open.spotify.com/track/11AbfhB0FNNs6yR...\n",
              "available_markets                                                   JP\n",
              "disc_number                                                          1\n",
              "duration_ms                                                     320053\n",
              "popularity                                                          54\n",
              "preview_url          https://p.scdn.co/mp3-preview/d95cb78532405e2e...\n",
              "track_number                                                         6\n",
              "acousticness                                                     0.392\n",
              "danceability                                                     0.495\n",
              "energy                                                           0.504\n",
              "instrumentalness                                                     0\n",
              "liveness                                                         0.292\n",
              "loudness                                                        -6.913\n",
              "valence                                                          0.292\n",
              "speechiness                                                     0.0264\n",
              "key                                                                  5\n",
              "mode                                                                 1\n",
              "tempo                                                          139.969\n",
              "time_signature                                                       4\n",
              "artist_id                                       5Vo1hnCRmCM6M4thZCInCj\n",
              "artist_name                                      Official HIGE DANdism\n",
              "artist_url           https://open.spotify.com/artist/5Vo1hnCRmCM6M4...\n",
              "artist_type                                                     artist\n",
              "album_url            https://open.spotify.com/album/01XybFr7Z1pWdKN...\n",
              "album_id                                        01XybFr7Z1pWdKNKUuLi0X\n",
              "album_name                                                        レポート\n",
              "album_image_url      https://i.scdn.co/image/ab67616d0000b2731c5075...\n",
              "release_date                                                2017-04-19\n",
              "total_tracks                                                         7\n",
              "genre                                                            j-pop\n",
              "Name: 344, dtype: object"
            ]
          },
          "metadata": {
            "tags": []
          },
          "execution_count": 64
        }
      ]
    },
    {
      "cell_type": "code",
      "metadata": {
        "id": "62g8eXiK_f2i",
        "colab_type": "code",
        "colab": {
          "base_uri": "https://localhost:8080/",
          "height": 69
        },
        "outputId": "7356076e-83fe-466e-a9be-f7da5a5e2f43"
      },
      "source": [
        "filename='drive/My Drive/Colab Notebooks/spotify/input/masuda_voice.m4a'\n",
        "print(filename)\n",
        "try:\n",
        "  y, sr = librosa.core.load(filename, sr=sr, mono=False,offset=0.0,\n",
        "                          duration=None, res_type='kaiser_best')\n",
        "except:\n",
        "  print(filename + \"has loading error!\")\n",
        "  y = np.zeros([2,48000])\n",
        "print(y.shape)\n",
        "mfcc = librosa.feature.mfcc(y, sr=sr, S=None, n_mfcc=n_mfcc, dct_type=2, norm='ortho')\n",
        "mfcc_median = np.median(mfcc, axis=1)\n",
        "assert mfcc_median.shape == (n_mfcc,)\n",
        "mfcc_median = np.reshape(mfcc_median, [20,1])\n",
        "print(mfcc_median.shape)\n",
        "assert mfcc_median.shape == (n_mfcc,1)"
      ],
      "execution_count": 6,
      "outputs": [
        {
          "output_type": "stream",
          "text": [
            "drive/My Drive/Colab Notebooks/spotify/input/masuda_voice.m4a\n",
            "(164160,)\n",
            "(20, 1)\n"
          ],
          "name": "stdout"
        }
      ]
    },
    {
      "cell_type": "code",
      "metadata": {
        "id": "LUBXO4qIcTbr",
        "colab_type": "code",
        "colab": {}
      },
      "source": [
        "D = np.zeros(1000)\n",
        "for i in range(D.shape[0]):\n",
        "      D[i] = d_euc(M[i,:], mfcc_median)"
      ],
      "execution_count": 0,
      "outputs": []
    },
    {
      "cell_type": "code",
      "metadata": {
        "id": "JkcGi9YvdEP9",
        "colab_type": "code",
        "colab": {
          "base_uri": "https://localhost:8080/",
          "height": 256
        },
        "outputId": "2328ed7b-cf40-406e-fc76-eb2aa6969caf"
      },
      "source": [
        "df_dist = pd.DataFrame(D)\n",
        "#df_dist.head()\n",
        "df_dist.sort_values(ascending=True, by=0).head(7)"
      ],
      "execution_count": 12,
      "outputs": [
        {
          "output_type": "execute_result",
          "data": {
            "text/html": [
              "<div>\n",
              "<style scoped>\n",
              "    .dataframe tbody tr th:only-of-type {\n",
              "        vertical-align: middle;\n",
              "    }\n",
              "\n",
              "    .dataframe tbody tr th {\n",
              "        vertical-align: top;\n",
              "    }\n",
              "\n",
              "    .dataframe thead th {\n",
              "        text-align: right;\n",
              "    }\n",
              "</style>\n",
              "<table border=\"1\" class=\"dataframe\">\n",
              "  <thead>\n",
              "    <tr style=\"text-align: right;\">\n",
              "      <th></th>\n",
              "      <th>0</th>\n",
              "    </tr>\n",
              "  </thead>\n",
              "  <tbody>\n",
              "    <tr>\n",
              "      <th>505</th>\n",
              "      <td>1.705793e+06</td>\n",
              "    </tr>\n",
              "    <tr>\n",
              "      <th>977</th>\n",
              "      <td>1.800790e+06</td>\n",
              "    </tr>\n",
              "    <tr>\n",
              "      <th>917</th>\n",
              "      <td>1.856326e+06</td>\n",
              "    </tr>\n",
              "    <tr>\n",
              "      <th>56</th>\n",
              "      <td>1.886387e+06</td>\n",
              "    </tr>\n",
              "    <tr>\n",
              "      <th>294</th>\n",
              "      <td>1.887455e+06</td>\n",
              "    </tr>\n",
              "    <tr>\n",
              "      <th>785</th>\n",
              "      <td>1.904440e+06</td>\n",
              "    </tr>\n",
              "    <tr>\n",
              "      <th>213</th>\n",
              "      <td>1.930564e+06</td>\n",
              "    </tr>\n",
              "  </tbody>\n",
              "</table>\n",
              "</div>"
            ],
            "text/plain": [
              "                0\n",
              "505  1.705793e+06\n",
              "977  1.800790e+06\n",
              "917  1.856326e+06\n",
              "56   1.886387e+06\n",
              "294  1.887455e+06\n",
              "785  1.904440e+06\n",
              "213  1.930564e+06"
            ]
          },
          "metadata": {
            "tags": []
          },
          "execution_count": 12
        }
      ]
    },
    {
      "cell_type": "code",
      "metadata": {
        "id": "KSqWrecjdkaS",
        "colab_type": "code",
        "colab": {
          "base_uri": "https://localhost:8080/",
          "height": 610
        },
        "outputId": "13ed2252-748e-4b0d-9e33-466470c2f659"
      },
      "source": [
        "df.iloc[505,:]"
      ],
      "execution_count": 17,
      "outputs": [
        {
          "output_type": "execute_result",
          "data": {
            "text/plain": [
              "Unnamed: 0                                                         505\n",
              "track_id                                        3z6X1pQSGdky5rQADTLM2g\n",
              "track_name                                                  合法的トビ方ノススメ\n",
              "track_url            https://open.spotify.com/track/3z6X1pQSGdky5rQ...\n",
              "available_markets                                                   JP\n",
              "disc_number                                                          1\n",
              "duration_ms                                                     240328\n",
              "popularity                                                          50\n",
              "preview_url          https://p.scdn.co/mp3-preview/8aa908e966387933...\n",
              "track_number                                                         2\n",
              "acousticness                                                     0.791\n",
              "danceability                                                     0.737\n",
              "energy                                                           0.971\n",
              "instrumentalness                                                     0\n",
              "liveness                                                         0.358\n",
              "loudness                                                        -3.292\n",
              "valence                                                          0.777\n",
              "speechiness                                                       0.21\n",
              "key                                                                  6\n",
              "mode                                                                 1\n",
              "tempo                                                          133.032\n",
              "time_signature                                                       4\n",
              "artist_id                                       0pWR7TsFhvSCnbmHDjWgrE\n",
              "artist_name                                                Creepy Nuts\n",
              "artist_url           https://open.spotify.com/artist/0pWR7TsFhvSCnb...\n",
              "artist_type                                                     artist\n",
              "album_url            https://open.spotify.com/album/77eV8yKbsB79ANt...\n",
              "album_id                                        77eV8yKbsB79ANtICA6ZN9\n",
              "album_name                                             INDIES COMPLETE\n",
              "album_image_url      https://i.scdn.co/image/ab67616d0000b273933816...\n",
              "release_date                                                2018-07-25\n",
              "total_tracks                                                        13\n",
              "genre                                                            j-pop\n",
              "Name: 505, dtype: object"
            ]
          },
          "metadata": {
            "tags": []
          },
          "execution_count": 17
        }
      ]
    },
    {
      "cell_type": "code",
      "metadata": {
        "id": "Ub4QabCodyx0",
        "colab_type": "code",
        "colab": {
          "base_uri": "https://localhost:8080/",
          "height": 610
        },
        "outputId": "849210f8-bb0b-40ee-ff35-0eb2353ffa7e"
      },
      "source": [
        "df.iloc[977,:]"
      ],
      "execution_count": 18,
      "outputs": [
        {
          "output_type": "execute_result",
          "data": {
            "text/plain": [
              "Unnamed: 0                                                         966\n",
              "track_id                                        7rGtDLI0FPGKv07A0fHGTu\n",
              "track_name                                                        SWIM\n",
              "track_url            https://open.spotify.com/track/7rGtDLI0FPGKv07...\n",
              "available_markets                                                   JP\n",
              "disc_number                                                          1\n",
              "duration_ms                                                     243933\n",
              "popularity                                                          45\n",
              "preview_url          https://p.scdn.co/mp3-preview/0648358d99662ed5...\n",
              "track_number                                                        10\n",
              "acousticness                                                     0.488\n",
              "danceability                                                     0.645\n",
              "energy                                                           0.584\n",
              "instrumentalness                                                     0\n",
              "liveness                                                         0.104\n",
              "loudness                                                        -5.889\n",
              "valence                                                          0.861\n",
              "speechiness                                                        0.1\n",
              "key                                                                  7\n",
              "mode                                                                 1\n",
              "tempo                                                           87.853\n",
              "time_signature                                                       4\n",
              "artist_id                                       1HzcHe0WFm4koBalCEOkVh\n",
              "artist_name                                                      SIRUP\n",
              "artist_url           https://open.spotify.com/artist/1HzcHe0WFm4koB...\n",
              "artist_type                                                     artist\n",
              "album_url            https://open.spotify.com/album/3rpZ8w31gIKrqWX...\n",
              "album_id                                        3rpZ8w31gIKrqWXI4hSlmn\n",
              "album_name                                                   FEEL GOOD\n",
              "album_image_url      https://i.scdn.co/image/ab67616d0000b273f12684...\n",
              "release_date                                                2019-05-29\n",
              "total_tracks                                                        12\n",
              "genre                                                            j-pop\n",
              "Name: 966, dtype: object"
            ]
          },
          "metadata": {
            "tags": []
          },
          "execution_count": 18
        }
      ]
    },
    {
      "cell_type": "code",
      "metadata": {
        "id": "ezP_C4vHeMhC",
        "colab_type": "code",
        "colab": {
          "base_uri": "https://localhost:8080/",
          "height": 610
        },
        "outputId": "996533a0-9f1f-422e-b8b4-902af77abaf2"
      },
      "source": [
        "df.iloc[917,:]"
      ],
      "execution_count": 19,
      "outputs": [
        {
          "output_type": "execute_result",
          "data": {
            "text/plain": [
              "Unnamed: 0                                                         741\n",
              "track_id                                        7HLvTKv1JgBLKz3KdBHNtM\n",
              "track_name                                                     よふかしのうた\n",
              "track_url            https://open.spotify.com/track/7HLvTKv1JgBLKz3...\n",
              "available_markets                                                   JP\n",
              "disc_number                                                          1\n",
              "duration_ms                                                     237913\n",
              "popularity                                                          48\n",
              "preview_url          https://p.scdn.co/mp3-preview/ae150f09adc4f05e...\n",
              "track_number                                                         1\n",
              "acousticness                                                     0.188\n",
              "danceability                                                     0.747\n",
              "energy                                                           0.976\n",
              "instrumentalness                                                     0\n",
              "liveness                                                         0.353\n",
              "loudness                                                        -3.123\n",
              "valence                                                          0.913\n",
              "speechiness                                                      0.188\n",
              "key                                                                  5\n",
              "mode                                                                 0\n",
              "tempo                                                          115.047\n",
              "time_signature                                                       4\n",
              "artist_id                                       0pWR7TsFhvSCnbmHDjWgrE\n",
              "artist_name                                                Creepy Nuts\n",
              "artist_url           https://open.spotify.com/artist/0pWR7TsFhvSCnb...\n",
              "artist_type                                                     artist\n",
              "album_url            https://open.spotify.com/album/3aXEuXBF3AeAn6g...\n",
              "album_id                                        3aXEuXBF3AeAn6gcGTT6OH\n",
              "album_name                                                     よふかしのうた\n",
              "album_image_url      https://i.scdn.co/image/ab67616d0000b273c2be34...\n",
              "release_date                                                2018-12-12\n",
              "total_tracks                                                         1\n",
              "genre                                                            j-pop\n",
              "Name: 741, dtype: object"
            ]
          },
          "metadata": {
            "tags": []
          },
          "execution_count": 19
        }
      ]
    },
    {
      "cell_type": "code",
      "metadata": {
        "id": "kDNE0fHFfV18",
        "colab_type": "code",
        "colab": {
          "base_uri": "https://localhost:8080/",
          "height": 610
        },
        "outputId": "aea8f596-a3b5-4f8a-ea32-488409934a90"
      },
      "source": [
        "df.iloc[56,:]"
      ],
      "execution_count": 20,
      "outputs": [
        {
          "output_type": "execute_result",
          "data": {
            "text/plain": [
              "Unnamed: 0                                                          10\n",
              "track_id                                        0V5QLyzA5gMuDeWuiltg9F\n",
              "track_name                                                  栞(しおり)のテーマ\n",
              "track_url            https://open.spotify.com/track/0V5QLyzA5gMuDeW...\n",
              "available_markets    AD,AE,AR,AT,AU,BE,BG,BH,BO,BR,CA,CH,CL,CO,CR,C...\n",
              "disc_number                                                          1\n",
              "duration_ms                                                     274300\n",
              "popularity                                                          46\n",
              "preview_url          https://p.scdn.co/mp3-preview/4db912850dbb659b...\n",
              "track_number                                                         1\n",
              "acousticness                                                     0.276\n",
              "danceability                                                     0.461\n",
              "energy                                                           0.763\n",
              "instrumentalness                                              4.13e-06\n",
              "liveness                                                          0.18\n",
              "loudness                                                        -4.699\n",
              "valence                                                          0.542\n",
              "speechiness                                                     0.0366\n",
              "key                                                                  0\n",
              "mode                                                                 1\n",
              "tempo                                                          119.026\n",
              "time_signature                                                       3\n",
              "artist_id                                       79nkC8XZ5ohEVU0Xlf5Ael\n",
              "artist_name                                                 サザンオールスターズ\n",
              "artist_url           https://open.spotify.com/artist/79nkC8XZ5ohEVU...\n",
              "artist_type                                                     artist\n",
              "album_url            https://open.spotify.com/album/0UVRQBkemLSxV0t...\n",
              "album_id                                        0UVRQBkemLSxV0t9G6H17A\n",
              "album_name                                                  栞(しおり)のテーマ\n",
              "album_image_url      https://i.scdn.co/image/752e64bd57f2089207cbd3...\n",
              "release_date                                                1981-09-21\n",
              "total_tracks                                                         2\n",
              "genre                                                            j-pop\n",
              "Name: 10, dtype: object"
            ]
          },
          "metadata": {
            "tags": []
          },
          "execution_count": 20
        }
      ]
    },
    {
      "cell_type": "code",
      "metadata": {
        "id": "tAU2L1fYf5NX",
        "colab_type": "code",
        "colab": {
          "base_uri": "https://localhost:8080/",
          "height": 610
        },
        "outputId": "08b0dada-4ecc-45e9-98fa-d2a48d9e30ba"
      },
      "source": [
        "df.iloc[294,:]"
      ],
      "execution_count": 21,
      "outputs": [
        {
          "output_type": "execute_result",
          "data": {
            "text/plain": [
              "Unnamed: 0                                                         416\n",
              "track_id                                        2BM4k1nxxuR1hmxoOB4d9x\n",
              "track_name                                                          告白\n",
              "track_url            https://open.spotify.com/track/2BM4k1nxxuR1hmx...\n",
              "available_markets                                                   JP\n",
              "disc_number                                                          1\n",
              "duration_ms                                                     281400\n",
              "popularity                                                          51\n",
              "preview_url          https://p.scdn.co/mp3-preview/2ffdc29b84b9a543...\n",
              "track_number                                                         6\n",
              "acousticness                                                     0.105\n",
              "danceability                                                     0.479\n",
              "energy                                                           0.877\n",
              "instrumentalness                                                     0\n",
              "liveness                                                         0.209\n",
              "loudness                                                         -3.41\n",
              "valence                                                          0.529\n",
              "speechiness                                                      0.147\n",
              "key                                                                  0\n",
              "mode                                                                 1\n",
              "tempo                                                          184.042\n",
              "time_signature                                                       4\n",
              "artist_id                                       6ecCVdF55fHdbVlAu1lJXU\n",
              "artist_name                                         FUNKY MONKEY BABYS\n",
              "artist_url           https://open.spotify.com/artist/6ecCVdF55fHdbV...\n",
              "artist_type                                                     artist\n",
              "album_url            https://open.spotify.com/album/3okJNEcYvtMj18s...\n",
              "album_id                                        3okJNEcYvtMj18smHqqIZ7\n",
              "album_name                                             ファンキーモンキーベイビーズ3\n",
              "album_image_url      https://i.scdn.co/image/ab67616d0000b2733d0e89...\n",
              "release_date                                                2009-03-04\n",
              "total_tracks                                                        13\n",
              "genre                                                            j-pop\n",
              "Name: 416, dtype: object"
            ]
          },
          "metadata": {
            "tags": []
          },
          "execution_count": 21
        }
      ]
    },
    {
      "cell_type": "code",
      "metadata": {
        "id": "tt0-XBAIgzqJ",
        "colab_type": "code",
        "colab": {}
      },
      "source": [
        ""
      ],
      "execution_count": 0,
      "outputs": []
    }
  ]
}