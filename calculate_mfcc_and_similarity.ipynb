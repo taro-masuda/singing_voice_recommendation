{
  "nbformat": 4,
  "nbformat_minor": 0,
  "metadata": {
    "colab": {
      "name": "calculate_mfcc_and_similarity.ipynb",
      "provenance": [],
      "collapsed_sections": [],
      "authorship_tag": "ABX9TyPxxS4ulRfIlKPcPBRJTjc5",
      "include_colab_link": true
    },
    "kernelspec": {
      "name": "python3",
      "display_name": "Python 3"
    }
  },
  "cells": [
    {
      "cell_type": "markdown",
      "metadata": {
        "id": "view-in-github",
        "colab_type": "text"
      },
      "source": [
        "<a href=\"https://colab.research.google.com/github/taro-masuda/singing_voice_recommendation/blob/master/calculate_mfcc_and_similarity.ipynb\" target=\"_parent\"><img src=\"https://colab.research.google.com/assets/colab-badge.svg\" alt=\"Open In Colab\"/></a>"
      ]
    },
    {
      "cell_type": "code",
      "metadata": {
        "id": "53SPJWxxV1gH",
        "colab_type": "code",
        "colab": {}
      },
      "source": [
        "import librosa\n",
        "import glob\n",
        "import numpy as np\n",
        "from tqdm import tqdm"
      ],
      "execution_count": 0,
      "outputs": []
    },
    {
      "cell_type": "code",
      "metadata": {
        "id": "HnqLUUtxXaD9",
        "colab_type": "code",
        "colab": {}
      },
      "source": [
        ""
      ],
      "execution_count": 0,
      "outputs": []
    },
    {
      "cell_type": "code",
      "metadata": {
        "id": "1cEJtz6hrUlP",
        "colab_type": "code",
        "colab": {
          "base_uri": "https://localhost:8080/",
          "height": 124
        },
        "outputId": "e94fad19-facb-4b7e-fd25-71fb60b76a25"
      },
      "source": [
        "from google.colab import drive \n",
        "drive.mount('/content/drive')"
      ],
      "execution_count": 3,
      "outputs": [
        {
          "output_type": "stream",
          "text": [
            "Go to this URL in a browser: https://accounts.google.com/o/oauth2/auth?client_id=947318989803-6bn6qk8qdgf4n4g3pfee6491hc0brc4i.apps.googleusercontent.com&redirect_uri=urn%3aietf%3awg%3aoauth%3a2.0%3aoob&response_type=code&scope=email%20https%3a%2f%2fwww.googleapis.com%2fauth%2fdocs.test%20https%3a%2f%2fwww.googleapis.com%2fauth%2fdrive%20https%3a%2f%2fwww.googleapis.com%2fauth%2fdrive.photos.readonly%20https%3a%2f%2fwww.googleapis.com%2fauth%2fpeopleapi.readonly\n",
            "\n",
            "Enter your authorization code:\n",
            "··········\n",
            "Mounted at /content/drive\n"
          ],
          "name": "stdout"
        }
      ]
    },
    {
      "cell_type": "code",
      "metadata": {
        "id": "UE2R_mt9qy4j",
        "colab_type": "code",
        "colab": {}
      },
      "source": [
        "sr=16000\n",
        "n_mfcc=20"
      ],
      "execution_count": 0,
      "outputs": []
    },
    {
      "cell_type": "code",
      "metadata": {
        "id": "_w9cDDmdrf8R",
        "colab_type": "code",
        "colab": {}
      },
      "source": [
        "file_list = glob.glob(\"drive/My Drive/Colab Notebooks/spotify/input/tracks_sv/*.wav\")\n",
        "file_list = sorted(file_list)"
      ],
      "execution_count": 0,
      "outputs": []
    },
    {
      "cell_type": "markdown",
      "metadata": {
        "id": "d5kX1V2__6WU",
        "colab_type": "text"
      },
      "source": [
        "# MFCC Extraction"
      ]
    },
    {
      "cell_type": "code",
      "metadata": {
        "id": "TXUht88geQot",
        "colab_type": "code",
        "outputId": "563dea5d-4488-4887-df9e-5686b1fadee7",
        "colab": {
          "base_uri": "https://localhost:8080/",
          "height": 1000
        }
      },
      "source": [
        "M = np.empty(0)\n",
        "count = 0\n",
        "for filename in tqdm(file_list):\n",
        "  print(filename)\n",
        "  try:\n",
        "    y, sr = librosa.core.load(filename, sr=sr, mono=False,offset=0.0,\n",
        "                            duration=None, res_type='kaiser_best')\n",
        "  except:\n",
        "    print(filename + \"has loading error!\")\n",
        "    y = np.zeros([2,48000])\n",
        "  mfcc = librosa.feature.mfcc(y.mean(axis=0), sr=sr, S=None, n_mfcc=n_mfcc, dct_type=2, norm='ortho')\n",
        "  mfcc_median = np.median(mfcc, axis=1)\n",
        "  assert mfcc_median.shape == (n_mfcc,)\n",
        "  mfcc_median = np.reshape(mfcc_median, [-1,20])\n",
        "  print(M.shape)  \n",
        "\n",
        "  if count > 0:\n",
        "    M = np.concatenate([M, mfcc_median], axis=0)  \n",
        "  else:\n",
        "    M = mfcc_median\n",
        "    M = np.reshape(M,[-1,20])\n",
        "  if count > 0:\n",
        "    assert M.shape[1] == n_mfcc\n",
        "  count += 1\n",
        "print(M.shape)\n",
        "assert M.shape[0] == 1000\n",
        "assert M.shape[1] == 20"
      ],
      "execution_count": 11,
      "outputs": [
        {
          "output_type": "stream",
          "text": [
            "\r  0%|          | 0/1000 [00:00<?, ?it/s]"
          ],
          "name": "stderr"
        },
        {
          "output_type": "stream",
          "text": [
            "drive/My Drive/Colab Notebooks/spotify/input/tracks_sv/008jrQKCdBGzQdxp9Fk40z.wav\n"
          ],
          "name": "stdout"
        },
        {
          "output_type": "stream",
          "text": [
            "\r  0%|          | 1/1000 [00:03<1:01:38,  3.70s/it]"
          ],
          "name": "stderr"
        },
        {
          "output_type": "stream",
          "text": [
            "(0,)\n",
            "drive/My Drive/Colab Notebooks/spotify/input/tracks_sv/00Nw7w9YQQmJLOmG4ZEGYH.wav\n"
          ],
          "name": "stdout"
        },
        {
          "output_type": "stream",
          "text": [
            "\r  0%|          | 2/1000 [00:05<52:49,  3.18s/it]  "
          ],
          "name": "stderr"
        },
        {
          "output_type": "stream",
          "text": [
            "(1, 20)\n",
            "drive/My Drive/Colab Notebooks/spotify/input/tracks_sv/01k7uuVtfuOKtbCZ3YMN2L.wav\n"
          ],
          "name": "stdout"
        },
        {
          "output_type": "stream",
          "text": [
            "\r  0%|          | 3/1000 [00:07<46:26,  2.79s/it]"
          ],
          "name": "stderr"
        },
        {
          "output_type": "stream",
          "text": [
            "(2, 20)\n",
            "drive/My Drive/Colab Notebooks/spotify/input/tracks_sv/022X58N6Tv7klHzcMzCtAl.wav\n"
          ],
          "name": "stdout"
        },
        {
          "output_type": "stream",
          "text": [
            "\r  0%|          | 4/1000 [00:09<43:07,  2.60s/it]"
          ],
          "name": "stderr"
        },
        {
          "output_type": "stream",
          "text": [
            "(3, 20)\n",
            "drive/My Drive/Colab Notebooks/spotify/input/tracks_sv/02me5PrRaF8baUbyiJ0bv7.wav\n"
          ],
          "name": "stdout"
        },
        {
          "output_type": "stream",
          "text": [
            "\r  0%|          | 5/1000 [00:11<39:40,  2.39s/it]"
          ],
          "name": "stderr"
        },
        {
          "output_type": "stream",
          "text": [
            "(4, 20)\n",
            "drive/My Drive/Colab Notebooks/spotify/input/tracks_sv/02xCHhTG3lRknzXq6cbcJh.wav\n"
          ],
          "name": "stdout"
        },
        {
          "output_type": "stream",
          "text": [
            "\r  1%|          | 6/1000 [00:13<37:06,  2.24s/it]"
          ],
          "name": "stderr"
        },
        {
          "output_type": "stream",
          "text": [
            "(5, 20)\n",
            "drive/My Drive/Colab Notebooks/spotify/input/tracks_sv/03RvvQSoODrEUrK5qF1zXu.wav\n"
          ],
          "name": "stdout"
        },
        {
          "output_type": "stream",
          "text": [
            "\r  1%|          | 7/1000 [00:15<35:50,  2.17s/it]"
          ],
          "name": "stderr"
        },
        {
          "output_type": "stream",
          "text": [
            "(6, 20)\n",
            "drive/My Drive/Colab Notebooks/spotify/input/tracks_sv/04EuDx4WKmkN9NyZ6kk5lj.wav\n"
          ],
          "name": "stdout"
        },
        {
          "output_type": "stream",
          "text": [
            "\r  1%|          | 8/1000 [00:17<36:45,  2.22s/it]"
          ],
          "name": "stderr"
        },
        {
          "output_type": "stream",
          "text": [
            "(7, 20)\n",
            "drive/My Drive/Colab Notebooks/spotify/input/tracks_sv/04LvVWwoYPYRjJklOpppyf.wav\n"
          ],
          "name": "stdout"
        },
        {
          "output_type": "stream",
          "text": [
            "\r  1%|          | 9/1000 [00:19<35:02,  2.12s/it]"
          ],
          "name": "stderr"
        },
        {
          "output_type": "stream",
          "text": [
            "(8, 20)\n",
            "drive/My Drive/Colab Notebooks/spotify/input/tracks_sv/05OHGzibvNF0oPyQ2zbyYd.wav\n"
          ],
          "name": "stdout"
        },
        {
          "output_type": "stream",
          "text": [
            "\r  1%|          | 10/1000 [00:22<36:23,  2.21s/it]"
          ],
          "name": "stderr"
        },
        {
          "output_type": "stream",
          "text": [
            "(9, 20)\n",
            "drive/My Drive/Colab Notebooks/spotify/input/tracks_sv/06BIna6ik1U4hoR0XlSfzw.wav\n"
          ],
          "name": "stdout"
        },
        {
          "output_type": "stream",
          "text": [
            "\r  1%|          | 11/1000 [00:24<36:08,  2.19s/it]"
          ],
          "name": "stderr"
        },
        {
          "output_type": "stream",
          "text": [
            "(10, 20)\n",
            "drive/My Drive/Colab Notebooks/spotify/input/tracks_sv/06rnOHo8fOFUfG7hw4bZL7.wav\n"
          ],
          "name": "stdout"
        },
        {
          "output_type": "stream",
          "text": [
            "\r  1%|          | 12/1000 [00:26<35:33,  2.16s/it]"
          ],
          "name": "stderr"
        },
        {
          "output_type": "stream",
          "text": [
            "(11, 20)\n",
            "drive/My Drive/Colab Notebooks/spotify/input/tracks_sv/06tS8DJvpQPGW9MBpbnuaL.wav\n"
          ],
          "name": "stdout"
        },
        {
          "output_type": "stream",
          "text": [
            "\r  1%|▏         | 13/1000 [00:28<34:04,  2.07s/it]"
          ],
          "name": "stderr"
        },
        {
          "output_type": "stream",
          "text": [
            "(12, 20)\n",
            "drive/My Drive/Colab Notebooks/spotify/input/tracks_sv/06yfLJC5pMcFw8hoNovLaT.wav\n"
          ],
          "name": "stdout"
        },
        {
          "output_type": "stream",
          "text": [
            "\r  1%|▏         | 14/1000 [00:30<34:33,  2.10s/it]"
          ],
          "name": "stderr"
        },
        {
          "output_type": "stream",
          "text": [
            "(13, 20)\n",
            "drive/My Drive/Colab Notebooks/spotify/input/tracks_sv/07dXzyjKSSuQDsSjpZCNeP.wav\n"
          ],
          "name": "stdout"
        },
        {
          "output_type": "stream",
          "text": [
            "\r  2%|▏         | 15/1000 [00:32<33:38,  2.05s/it]"
          ],
          "name": "stderr"
        },
        {
          "output_type": "stream",
          "text": [
            "(14, 20)\n",
            "drive/My Drive/Colab Notebooks/spotify/input/tracks_sv/07sSvnON76NcKWwh9wNsmy.wav\n"
          ],
          "name": "stdout"
        },
        {
          "output_type": "stream",
          "text": [
            "\r  2%|▏         | 16/1000 [00:34<33:02,  2.01s/it]"
          ],
          "name": "stderr"
        },
        {
          "output_type": "stream",
          "text": [
            "(15, 20)\n",
            "drive/My Drive/Colab Notebooks/spotify/input/tracks_sv/08Xhmc5B5gDPYFrL1uKVJI.wav\n"
          ],
          "name": "stdout"
        },
        {
          "output_type": "stream",
          "text": [
            "\r  2%|▏         | 17/1000 [00:36<32:42,  2.00s/it]"
          ],
          "name": "stderr"
        },
        {
          "output_type": "stream",
          "text": [
            "(16, 20)\n",
            "drive/My Drive/Colab Notebooks/spotify/input/tracks_sv/0Asf9zPjR1XCgcqPKvk0v4.wav\n"
          ],
          "name": "stdout"
        },
        {
          "output_type": "stream",
          "text": [
            "\r  2%|▏         | 18/1000 [00:38<32:15,  1.97s/it]"
          ],
          "name": "stderr"
        },
        {
          "output_type": "stream",
          "text": [
            "(17, 20)\n",
            "drive/My Drive/Colab Notebooks/spotify/input/tracks_sv/0BdKPVRZlsQU00OJE4AiVh.wav\n"
          ],
          "name": "stdout"
        },
        {
          "output_type": "stream",
          "text": [
            "\r  2%|▏         | 19/1000 [00:40<32:13,  1.97s/it]"
          ],
          "name": "stderr"
        },
        {
          "output_type": "stream",
          "text": [
            "(18, 20)\n",
            "drive/My Drive/Colab Notebooks/spotify/input/tracks_sv/0CMFJXFDYUs9idk51LRPz1.wav\n"
          ],
          "name": "stdout"
        },
        {
          "output_type": "stream",
          "text": [
            "\r  2%|▏         | 20/1000 [00:42<32:26,  1.99s/it]"
          ],
          "name": "stderr"
        },
        {
          "output_type": "stream",
          "text": [
            "(19, 20)\n",
            "drive/My Drive/Colab Notebooks/spotify/input/tracks_sv/0Ce8ASx3cTB3WnVYeSJRvR.wav\n"
          ],
          "name": "stdout"
        },
        {
          "output_type": "stream",
          "text": [
            "\r  2%|▏         | 21/1000 [00:44<32:02,  1.96s/it]"
          ],
          "name": "stderr"
        },
        {
          "output_type": "stream",
          "text": [
            "(20, 20)\n",
            "drive/My Drive/Colab Notebooks/spotify/input/tracks_sv/0DFebZOmQDHxNEHxcCbLBn.wav\n"
          ],
          "name": "stdout"
        },
        {
          "output_type": "stream",
          "text": [
            "\r  2%|▏         | 22/1000 [00:46<32:25,  1.99s/it]"
          ],
          "name": "stderr"
        },
        {
          "output_type": "stream",
          "text": [
            "(21, 20)\n",
            "drive/My Drive/Colab Notebooks/spotify/input/tracks_sv/0DcGSvzd1EJtZw7ZZee6ZK.wav\n"
          ],
          "name": "stdout"
        },
        {
          "output_type": "stream",
          "text": [
            "\r  2%|▏         | 23/1000 [00:47<31:51,  1.96s/it]"
          ],
          "name": "stderr"
        },
        {
          "output_type": "stream",
          "text": [
            "(22, 20)\n",
            "drive/My Drive/Colab Notebooks/spotify/input/tracks_sv/0EFfTMjuUG7bbQ9cUVcZFv.wav\n"
          ],
          "name": "stdout"
        },
        {
          "output_type": "stream",
          "text": [
            "\r  2%|▏         | 24/1000 [00:49<31:27,  1.93s/it]"
          ],
          "name": "stderr"
        },
        {
          "output_type": "stream",
          "text": [
            "(23, 20)\n",
            "drive/My Drive/Colab Notebooks/spotify/input/tracks_sv/0EXNPq82CgREkQRfLWLZDC.wav\n"
          ],
          "name": "stdout"
        },
        {
          "output_type": "stream",
          "text": [
            "\r  2%|▎         | 25/1000 [00:52<32:34,  2.00s/it]"
          ],
          "name": "stderr"
        },
        {
          "output_type": "stream",
          "text": [
            "(24, 20)\n",
            "drive/My Drive/Colab Notebooks/spotify/input/tracks_sv/0FxlEdRB0G35XXn8gXU2qA.wav\n"
          ],
          "name": "stdout"
        },
        {
          "output_type": "stream",
          "text": [
            "\r  3%|▎         | 26/1000 [00:53<31:55,  1.97s/it]"
          ],
          "name": "stderr"
        },
        {
          "output_type": "stream",
          "text": [
            "(25, 20)\n",
            "drive/My Drive/Colab Notebooks/spotify/input/tracks_sv/0GKXPZH3Fo93sl4XEBM3cw.wav\n"
          ],
          "name": "stdout"
        },
        {
          "output_type": "stream",
          "text": [
            "\r  3%|▎         | 27/1000 [00:56<33:47,  2.08s/it]"
          ],
          "name": "stderr"
        },
        {
          "output_type": "stream",
          "text": [
            "(26, 20)\n",
            "drive/My Drive/Colab Notebooks/spotify/input/tracks_sv/0GMJ7kzycGbeoVISKvWSZv.wav\n"
          ],
          "name": "stdout"
        },
        {
          "output_type": "stream",
          "text": [
            "\r  3%|▎         | 28/1000 [00:58<32:35,  2.01s/it]"
          ],
          "name": "stderr"
        },
        {
          "output_type": "stream",
          "text": [
            "(27, 20)\n",
            "drive/My Drive/Colab Notebooks/spotify/input/tracks_sv/0GT5m0eIa0OATOECdQtcsk.wav\n"
          ],
          "name": "stdout"
        },
        {
          "output_type": "stream",
          "text": [
            "\r  3%|▎         | 29/1000 [01:00<32:03,  1.98s/it]"
          ],
          "name": "stderr"
        },
        {
          "output_type": "stream",
          "text": [
            "(28, 20)\n",
            "drive/My Drive/Colab Notebooks/spotify/input/tracks_sv/0GTz1mytQUBlGaSF7s4Rdz.wav\n"
          ],
          "name": "stdout"
        },
        {
          "output_type": "stream",
          "text": [
            "\r  3%|▎         | 30/1000 [01:01<32:01,  1.98s/it]"
          ],
          "name": "stderr"
        },
        {
          "output_type": "stream",
          "text": [
            "(29, 20)\n",
            "drive/My Drive/Colab Notebooks/spotify/input/tracks_sv/0GhhU1qpdbKG1AUMKkFGbi.wav\n"
          ],
          "name": "stdout"
        },
        {
          "output_type": "stream",
          "text": [
            "\r  3%|▎         | 31/1000 [01:04<32:15,  2.00s/it]"
          ],
          "name": "stderr"
        },
        {
          "output_type": "stream",
          "text": [
            "(30, 20)\n",
            "drive/My Drive/Colab Notebooks/spotify/input/tracks_sv/0H4FcH2YvH08ZK3tIxmf1S.wav\n"
          ],
          "name": "stdout"
        },
        {
          "output_type": "stream",
          "text": [
            "\r  3%|▎         | 32/1000 [01:05<31:49,  1.97s/it]"
          ],
          "name": "stderr"
        },
        {
          "output_type": "stream",
          "text": [
            "(31, 20)\n",
            "drive/My Drive/Colab Notebooks/spotify/input/tracks_sv/0HCVA2I2rPnT4s6CUGRWOe.wav\n"
          ],
          "name": "stdout"
        },
        {
          "output_type": "stream",
          "text": [
            "\r  3%|▎         | 33/1000 [01:08<32:54,  2.04s/it]"
          ],
          "name": "stderr"
        },
        {
          "output_type": "stream",
          "text": [
            "(32, 20)\n",
            "drive/My Drive/Colab Notebooks/spotify/input/tracks_sv/0HO0vfo0CKu3WeCfLZA5iM.wav\n"
          ],
          "name": "stdout"
        },
        {
          "output_type": "stream",
          "text": [
            "\r  3%|▎         | 34/1000 [01:10<32:08,  2.00s/it]"
          ],
          "name": "stderr"
        },
        {
          "output_type": "stream",
          "text": [
            "(33, 20)\n",
            "drive/My Drive/Colab Notebooks/spotify/input/tracks_sv/0IGFPQy1tVBEOh5hUeK8RH.wav\n"
          ],
          "name": "stdout"
        },
        {
          "output_type": "stream",
          "text": [
            "\r  4%|▎         | 35/1000 [01:12<32:57,  2.05s/it]"
          ],
          "name": "stderr"
        },
        {
          "output_type": "stream",
          "text": [
            "(34, 20)\n",
            "drive/My Drive/Colab Notebooks/spotify/input/tracks_sv/0ISs7mttdHCOnC4VMm24rN.wav\n"
          ],
          "name": "stdout"
        },
        {
          "output_type": "stream",
          "text": [
            "\r  4%|▎         | 36/1000 [01:14<32:32,  2.03s/it]"
          ],
          "name": "stderr"
        },
        {
          "output_type": "stream",
          "text": [
            "(35, 20)\n",
            "drive/My Drive/Colab Notebooks/spotify/input/tracks_sv/0K4Wg6Pwx0cOuJkN8xvuto.wav\n"
          ],
          "name": "stdout"
        },
        {
          "output_type": "stream",
          "text": [
            "\r  4%|▎         | 37/1000 [01:16<31:48,  1.98s/it]"
          ],
          "name": "stderr"
        },
        {
          "output_type": "stream",
          "text": [
            "(36, 20)\n",
            "drive/My Drive/Colab Notebooks/spotify/input/tracks_sv/0KuX5JwRcmB7316EcvhmLS.wav\n"
          ],
          "name": "stdout"
        },
        {
          "output_type": "stream",
          "text": [
            "\r  4%|▍         | 38/1000 [01:18<33:18,  2.08s/it]"
          ],
          "name": "stderr"
        },
        {
          "output_type": "stream",
          "text": [
            "(37, 20)\n",
            "drive/My Drive/Colab Notebooks/spotify/input/tracks_sv/0LD0QEJ3Z3914mLogLxA6J.wav\n"
          ],
          "name": "stdout"
        },
        {
          "output_type": "stream",
          "text": [
            "\r  4%|▍         | 39/1000 [01:20<32:25,  2.02s/it]"
          ],
          "name": "stderr"
        },
        {
          "output_type": "stream",
          "text": [
            "(38, 20)\n",
            "drive/My Drive/Colab Notebooks/spotify/input/tracks_sv/0LwktKzh7qjyrWpcrUsqhn.wav\n"
          ],
          "name": "stdout"
        },
        {
          "output_type": "stream",
          "text": [
            "\r  4%|▍         | 40/1000 [01:22<31:53,  1.99s/it]"
          ],
          "name": "stderr"
        },
        {
          "output_type": "stream",
          "text": [
            "(39, 20)\n",
            "drive/My Drive/Colab Notebooks/spotify/input/tracks_sv/0MzHXJnEoxcWM9oN3xWCXD.wav\n"
          ],
          "name": "stdout"
        },
        {
          "output_type": "stream",
          "text": [
            "\r  4%|▍         | 41/1000 [01:24<31:28,  1.97s/it]"
          ],
          "name": "stderr"
        },
        {
          "output_type": "stream",
          "text": [
            "(40, 20)\n",
            "drive/My Drive/Colab Notebooks/spotify/input/tracks_sv/0N1nRekZyuX4Pa6Vsj2KzT.wav\n"
          ],
          "name": "stdout"
        },
        {
          "output_type": "stream",
          "text": [
            "\r  4%|▍         | 42/1000 [01:25<31:02,  1.94s/it]"
          ],
          "name": "stderr"
        },
        {
          "output_type": "stream",
          "text": [
            "(41, 20)\n",
            "drive/My Drive/Colab Notebooks/spotify/input/tracks_sv/0N5urzquLnvet6MgGsZMoI.wav\n"
          ],
          "name": "stdout"
        },
        {
          "output_type": "stream",
          "text": [
            "\r  4%|▍         | 43/1000 [01:27<30:55,  1.94s/it]"
          ],
          "name": "stderr"
        },
        {
          "output_type": "stream",
          "text": [
            "(42, 20)\n",
            "drive/My Drive/Colab Notebooks/spotify/input/tracks_sv/0N8Xztr4pBHJ7V0moJWhbO.wav\n"
          ],
          "name": "stdout"
        },
        {
          "output_type": "stream",
          "text": [
            "\r  4%|▍         | 44/1000 [01:29<30:48,  1.93s/it]"
          ],
          "name": "stderr"
        },
        {
          "output_type": "stream",
          "text": [
            "(43, 20)\n",
            "drive/My Drive/Colab Notebooks/spotify/input/tracks_sv/0NYG1R49m9sZ8TYBWZ8MZe.wav\n"
          ],
          "name": "stdout"
        },
        {
          "output_type": "stream",
          "text": [
            "\r  4%|▍         | 45/1000 [01:31<31:18,  1.97s/it]"
          ],
          "name": "stderr"
        },
        {
          "output_type": "stream",
          "text": [
            "(44, 20)\n",
            "drive/My Drive/Colab Notebooks/spotify/input/tracks_sv/0NZNtJar3qon6oVIR6XjIA.wav\n"
          ],
          "name": "stdout"
        },
        {
          "output_type": "stream",
          "text": [
            "\r  5%|▍         | 46/1000 [01:34<32:03,  2.02s/it]"
          ],
          "name": "stderr"
        },
        {
          "output_type": "stream",
          "text": [
            "(45, 20)\n",
            "drive/My Drive/Colab Notebooks/spotify/input/tracks_sv/0Ns63lt28epRgED3Tnhmth.wav\n"
          ],
          "name": "stdout"
        },
        {
          "output_type": "stream",
          "text": [
            "\r  5%|▍         | 47/1000 [01:35<31:28,  1.98s/it]"
          ],
          "name": "stderr"
        },
        {
          "output_type": "stream",
          "text": [
            "(46, 20)\n",
            "drive/My Drive/Colab Notebooks/spotify/input/tracks_sv/0O5c881FanD1eIc3cy8F8t.wav\n"
          ],
          "name": "stdout"
        },
        {
          "output_type": "stream",
          "text": [
            "\r  5%|▍         | 48/1000 [01:37<30:49,  1.94s/it]"
          ],
          "name": "stderr"
        },
        {
          "output_type": "stream",
          "text": [
            "(47, 20)\n",
            "drive/My Drive/Colab Notebooks/spotify/input/tracks_sv/0OBqj2PbWYWWw3XanA7It8.wav\n"
          ],
          "name": "stdout"
        },
        {
          "output_type": "stream",
          "text": [
            "\r  5%|▍         | 49/1000 [01:39<30:38,  1.93s/it]"
          ],
          "name": "stderr"
        },
        {
          "output_type": "stream",
          "text": [
            "(48, 20)\n",
            "drive/My Drive/Colab Notebooks/spotify/input/tracks_sv/0PsJ2oCQZ9TTtstHmeg2jc.wav\n"
          ],
          "name": "stdout"
        },
        {
          "output_type": "stream",
          "text": [
            "\r  5%|▌         | 50/1000 [01:41<32:10,  2.03s/it]"
          ],
          "name": "stderr"
        },
        {
          "output_type": "stream",
          "text": [
            "(49, 20)\n",
            "drive/My Drive/Colab Notebooks/spotify/input/tracks_sv/0QEpnoucesXS24jp4HczTq.wav\n"
          ],
          "name": "stdout"
        },
        {
          "output_type": "stream",
          "text": [
            "\r  5%|▌         | 51/1000 [01:43<31:30,  1.99s/it]"
          ],
          "name": "stderr"
        },
        {
          "output_type": "stream",
          "text": [
            "(50, 20)\n",
            "drive/My Drive/Colab Notebooks/spotify/input/tracks_sv/0QcVKhVp9iHGZ1pj04yTbO.wav\n"
          ],
          "name": "stdout"
        },
        {
          "output_type": "stream",
          "text": [
            "\r  5%|▌         | 52/1000 [01:45<31:12,  1.98s/it]"
          ],
          "name": "stderr"
        },
        {
          "output_type": "stream",
          "text": [
            "(51, 20)\n",
            "drive/My Drive/Colab Notebooks/spotify/input/tracks_sv/0RcMSVVFSXfNRXuPoPYoQh.wav\n"
          ],
          "name": "stdout"
        },
        {
          "output_type": "stream",
          "text": [
            "\r  5%|▌         | 53/1000 [01:47<31:24,  1.99s/it]"
          ],
          "name": "stderr"
        },
        {
          "output_type": "stream",
          "text": [
            "(52, 20)\n",
            "drive/My Drive/Colab Notebooks/spotify/input/tracks_sv/0U9vBvoG3LN1PnuVl47E3W.wav\n"
          ],
          "name": "stdout"
        },
        {
          "output_type": "stream",
          "text": [
            "\r  5%|▌         | 54/1000 [01:49<30:55,  1.96s/it]"
          ],
          "name": "stderr"
        },
        {
          "output_type": "stream",
          "text": [
            "(53, 20)\n",
            "drive/My Drive/Colab Notebooks/spotify/input/tracks_sv/0UQ1SbLVGLyMSv6BtPFnpW.wav\n"
          ],
          "name": "stdout"
        },
        {
          "output_type": "stream",
          "text": [
            "\r  6%|▌         | 55/1000 [01:51<32:31,  2.07s/it]"
          ],
          "name": "stderr"
        },
        {
          "output_type": "stream",
          "text": [
            "(54, 20)\n",
            "drive/My Drive/Colab Notebooks/spotify/input/tracks_sv/0UocKrxUBu1UCEfiieLe7L.wav\n"
          ],
          "name": "stdout"
        },
        {
          "output_type": "stream",
          "text": [
            "\r  6%|▌         | 56/1000 [01:54<32:15,  2.05s/it]"
          ],
          "name": "stderr"
        },
        {
          "output_type": "stream",
          "text": [
            "(55, 20)\n",
            "drive/My Drive/Colab Notebooks/spotify/input/tracks_sv/0V5QLyzA5gMuDeWuiltg9F.wav\n"
          ],
          "name": "stdout"
        },
        {
          "output_type": "stream",
          "text": [
            "\r  6%|▌         | 57/1000 [01:55<31:35,  2.01s/it]"
          ],
          "name": "stderr"
        },
        {
          "output_type": "stream",
          "text": [
            "(56, 20)\n",
            "drive/My Drive/Colab Notebooks/spotify/input/tracks_sv/0VHW9EilHsDa4HOyJoYfLP.wav\n"
          ],
          "name": "stdout"
        },
        {
          "output_type": "stream",
          "text": [
            "\r  6%|▌         | 58/1000 [01:57<31:12,  1.99s/it]"
          ],
          "name": "stderr"
        },
        {
          "output_type": "stream",
          "text": [
            "(57, 20)\n",
            "drive/My Drive/Colab Notebooks/spotify/input/tracks_sv/0VMnjyswtcoZ8wSBNwcgqB.wav\n"
          ],
          "name": "stdout"
        },
        {
          "output_type": "stream",
          "text": [
            "\r  6%|▌         | 59/1000 [01:59<30:52,  1.97s/it]"
          ],
          "name": "stderr"
        },
        {
          "output_type": "stream",
          "text": [
            "(58, 20)\n",
            "drive/My Drive/Colab Notebooks/spotify/input/tracks_sv/0X4mJkYZ7JzhqbpAlTbqLT.wav\n"
          ],
          "name": "stdout"
        },
        {
          "output_type": "stream",
          "text": [
            "\r  6%|▌         | 60/1000 [02:01<30:50,  1.97s/it]"
          ],
          "name": "stderr"
        },
        {
          "output_type": "stream",
          "text": [
            "(59, 20)\n",
            "drive/My Drive/Colab Notebooks/spotify/input/tracks_sv/0XD9Y5k92RmagB3qMQf9DV.wav\n"
          ],
          "name": "stdout"
        },
        {
          "output_type": "stream",
          "text": [
            "\r  6%|▌         | 61/1000 [02:03<30:55,  1.98s/it]"
          ],
          "name": "stderr"
        },
        {
          "output_type": "stream",
          "text": [
            "(60, 20)\n",
            "drive/My Drive/Colab Notebooks/spotify/input/tracks_sv/0XvOvUbvflmXxU8yqnF8Cp.wav\n"
          ],
          "name": "stdout"
        },
        {
          "output_type": "stream",
          "text": [
            "\r  6%|▌         | 62/1000 [02:05<30:43,  1.96s/it]"
          ],
          "name": "stderr"
        },
        {
          "output_type": "stream",
          "text": [
            "(61, 20)\n",
            "drive/My Drive/Colab Notebooks/spotify/input/tracks_sv/0YEjAa5T0NQwvB7uz1dJvW.wav\n"
          ],
          "name": "stdout"
        },
        {
          "output_type": "stream",
          "text": [
            "\r  6%|▋         | 63/1000 [02:07<30:14,  1.94s/it]"
          ],
          "name": "stderr"
        },
        {
          "output_type": "stream",
          "text": [
            "(62, 20)\n",
            "drive/My Drive/Colab Notebooks/spotify/input/tracks_sv/0Z7jQmJVr8BZ1Jh3AKHxAf.wav\n"
          ],
          "name": "stdout"
        },
        {
          "output_type": "stream",
          "text": [
            "\r  6%|▋         | 64/1000 [02:09<29:44,  1.91s/it]"
          ],
          "name": "stderr"
        },
        {
          "output_type": "stream",
          "text": [
            "(63, 20)\n",
            "drive/My Drive/Colab Notebooks/spotify/input/tracks_sv/0Zx9UoN735NPQxsQia53T5.wav\n"
          ],
          "name": "stdout"
        },
        {
          "output_type": "stream",
          "text": [
            "\r  6%|▋         | 65/1000 [02:11<31:49,  2.04s/it]"
          ],
          "name": "stderr"
        },
        {
          "output_type": "stream",
          "text": [
            "(64, 20)\n",
            "drive/My Drive/Colab Notebooks/spotify/input/tracks_sv/0a5rZP8sYdlvBRVmcNovyC.wav\n"
          ],
          "name": "stdout"
        },
        {
          "output_type": "stream",
          "text": [
            "\r  7%|▋         | 66/1000 [02:13<31:19,  2.01s/it]"
          ],
          "name": "stderr"
        },
        {
          "output_type": "stream",
          "text": [
            "(65, 20)\n",
            "drive/My Drive/Colab Notebooks/spotify/input/tracks_sv/0aFUi8kAIUcLEaM6LylNui.wav\n"
          ],
          "name": "stdout"
        },
        {
          "output_type": "stream",
          "text": [
            "\r  7%|▋         | 67/1000 [02:15<31:38,  2.04s/it]"
          ],
          "name": "stderr"
        },
        {
          "output_type": "stream",
          "text": [
            "(66, 20)\n",
            "drive/My Drive/Colab Notebooks/spotify/input/tracks_sv/0aFdhIdrR4R0KUdpbyZxL2.wav\n"
          ],
          "name": "stdout"
        },
        {
          "output_type": "stream",
          "text": [
            "\r  7%|▋         | 68/1000 [02:17<30:51,  1.99s/it]"
          ],
          "name": "stderr"
        },
        {
          "output_type": "stream",
          "text": [
            "(67, 20)\n",
            "drive/My Drive/Colab Notebooks/spotify/input/tracks_sv/0ahbzg4GCq3wJzUM3cjS3N.wav\n"
          ],
          "name": "stdout"
        },
        {
          "output_type": "stream",
          "text": [
            "\r  7%|▋         | 69/1000 [02:19<30:17,  1.95s/it]"
          ],
          "name": "stderr"
        },
        {
          "output_type": "stream",
          "text": [
            "(68, 20)\n",
            "drive/My Drive/Colab Notebooks/spotify/input/tracks_sv/0albLGvYx6ftOUJ7KF0i5I.wav\n"
          ],
          "name": "stdout"
        },
        {
          "output_type": "stream",
          "text": [
            "\r  7%|▋         | 70/1000 [02:21<30:32,  1.97s/it]"
          ],
          "name": "stderr"
        },
        {
          "output_type": "stream",
          "text": [
            "(69, 20)\n",
            "drive/My Drive/Colab Notebooks/spotify/input/tracks_sv/0ax0UBVE6S1Qh6ReyJbyXk.wav\n"
          ],
          "name": "stdout"
        },
        {
          "output_type": "stream",
          "text": [
            "\r  7%|▋         | 71/1000 [02:23<30:22,  1.96s/it]"
          ],
          "name": "stderr"
        },
        {
          "output_type": "stream",
          "text": [
            "(70, 20)\n",
            "drive/My Drive/Colab Notebooks/spotify/input/tracks_sv/0b7XIioG3TWOOZpGWFGNKj.wav\n"
          ],
          "name": "stdout"
        },
        {
          "output_type": "stream",
          "text": [
            "\r  7%|▋         | 72/1000 [02:25<30:09,  1.95s/it]"
          ],
          "name": "stderr"
        },
        {
          "output_type": "stream",
          "text": [
            "(71, 20)\n",
            "drive/My Drive/Colab Notebooks/spotify/input/tracks_sv/0bSvOb29g2KQkqrrJwUQ5X.wav\n"
          ],
          "name": "stdout"
        },
        {
          "output_type": "stream",
          "text": [
            "\r  7%|▋         | 73/1000 [02:27<29:47,  1.93s/it]"
          ],
          "name": "stderr"
        },
        {
          "output_type": "stream",
          "text": [
            "(72, 20)\n",
            "drive/My Drive/Colab Notebooks/spotify/input/tracks_sv/0cYED5os08J3tJ7UU3EV8w.wav\n"
          ],
          "name": "stdout"
        },
        {
          "output_type": "stream",
          "text": [
            "\r  7%|▋         | 74/1000 [02:29<29:40,  1.92s/it]"
          ],
          "name": "stderr"
        },
        {
          "output_type": "stream",
          "text": [
            "(73, 20)\n",
            "drive/My Drive/Colab Notebooks/spotify/input/tracks_sv/0d10uTughutLB3jhlwZzTH.wav\n"
          ],
          "name": "stdout"
        },
        {
          "output_type": "stream",
          "text": [
            "\r  8%|▊         | 75/1000 [02:31<29:35,  1.92s/it]"
          ],
          "name": "stderr"
        },
        {
          "output_type": "stream",
          "text": [
            "(74, 20)\n",
            "drive/My Drive/Colab Notebooks/spotify/input/tracks_sv/0d4lixnAOojZyVfCydVSLM.wav\n"
          ],
          "name": "stdout"
        },
        {
          "output_type": "stream",
          "text": [
            "\r  8%|▊         | 76/1000 [02:33<31:08,  2.02s/it]"
          ],
          "name": "stderr"
        },
        {
          "output_type": "stream",
          "text": [
            "(75, 20)\n",
            "drive/My Drive/Colab Notebooks/spotify/input/tracks_sv/0dGfnCuCfGRTURi0yegnWW.wav\n"
          ],
          "name": "stdout"
        },
        {
          "output_type": "stream",
          "text": [
            "\r  8%|▊         | 77/1000 [02:35<32:12,  2.09s/it]"
          ],
          "name": "stderr"
        },
        {
          "output_type": "stream",
          "text": [
            "(76, 20)\n",
            "drive/My Drive/Colab Notebooks/spotify/input/tracks_sv/0dKJGmhY4Hh40bOkPz9n6N.wav\n"
          ],
          "name": "stdout"
        },
        {
          "output_type": "stream",
          "text": [
            "\r  8%|▊         | 78/1000 [02:37<31:03,  2.02s/it]"
          ],
          "name": "stderr"
        },
        {
          "output_type": "stream",
          "text": [
            "(77, 20)\n",
            "drive/My Drive/Colab Notebooks/spotify/input/tracks_sv/0dPBNetntZnPNR4MzrA26i.wav\n"
          ],
          "name": "stdout"
        },
        {
          "output_type": "stream",
          "text": [
            "\r  8%|▊         | 79/1000 [02:39<30:15,  1.97s/it]"
          ],
          "name": "stderr"
        },
        {
          "output_type": "stream",
          "text": [
            "(78, 20)\n",
            "drive/My Drive/Colab Notebooks/spotify/input/tracks_sv/0fR3KUbePrrlmyg9rU1LLZ.wav\n"
          ],
          "name": "stdout"
        },
        {
          "output_type": "stream",
          "text": [
            "\r  8%|▊         | 80/1000 [02:41<29:46,  1.94s/it]"
          ],
          "name": "stderr"
        },
        {
          "output_type": "stream",
          "text": [
            "(79, 20)\n",
            "drive/My Drive/Colab Notebooks/spotify/input/tracks_sv/0fgn8Lp7NIdlPWKQW2Wm2v.wav\n"
          ],
          "name": "stdout"
        },
        {
          "output_type": "stream",
          "text": [
            "\r  8%|▊         | 81/1000 [02:43<29:51,  1.95s/it]"
          ],
          "name": "stderr"
        },
        {
          "output_type": "stream",
          "text": [
            "(80, 20)\n",
            "drive/My Drive/Colab Notebooks/spotify/input/tracks_sv/0flmTQIOIBWb7D5fEIe7S6.wav\n"
          ],
          "name": "stdout"
        },
        {
          "output_type": "stream",
          "text": [
            "\r  8%|▊         | 82/1000 [02:45<30:18,  1.98s/it]"
          ],
          "name": "stderr"
        },
        {
          "output_type": "stream",
          "text": [
            "(81, 20)\n",
            "drive/My Drive/Colab Notebooks/spotify/input/tracks_sv/0h9VlXphgiAHN1gQ9xtnNa.wav\n"
          ],
          "name": "stdout"
        },
        {
          "output_type": "stream",
          "text": [
            "\r  8%|▊         | 83/1000 [02:47<29:45,  1.95s/it]"
          ],
          "name": "stderr"
        },
        {
          "output_type": "stream",
          "text": [
            "(82, 20)\n",
            "drive/My Drive/Colab Notebooks/spotify/input/tracks_sv/0hGQravWbsUo7goikMweSR.wav\n"
          ],
          "name": "stdout"
        },
        {
          "output_type": "stream",
          "text": [
            "\r  8%|▊         | 84/1000 [02:49<30:58,  2.03s/it]"
          ],
          "name": "stderr"
        },
        {
          "output_type": "stream",
          "text": [
            "(83, 20)\n",
            "drive/My Drive/Colab Notebooks/spotify/input/tracks_sv/0hq1cLVaFYZwNf7Nepy5NF.wav\n"
          ],
          "name": "stdout"
        },
        {
          "output_type": "stream",
          "text": [
            "\r  8%|▊         | 85/1000 [02:51<30:16,  1.99s/it]"
          ],
          "name": "stderr"
        },
        {
          "output_type": "stream",
          "text": [
            "(84, 20)\n",
            "drive/My Drive/Colab Notebooks/spotify/input/tracks_sv/0iP3mQBghTHHZx1ZEl9Lc7.wav\n"
          ],
          "name": "stdout"
        },
        {
          "output_type": "stream",
          "text": [
            "\r  9%|▊         | 86/1000 [02:53<30:56,  2.03s/it]"
          ],
          "name": "stderr"
        },
        {
          "output_type": "stream",
          "text": [
            "(85, 20)\n",
            "drive/My Drive/Colab Notebooks/spotify/input/tracks_sv/0jWVUKsIoyo3zw64RaEWYg.wav\n"
          ],
          "name": "stdout"
        },
        {
          "output_type": "stream",
          "text": [
            "\r  9%|▊         | 87/1000 [02:55<31:32,  2.07s/it]"
          ],
          "name": "stderr"
        },
        {
          "output_type": "stream",
          "text": [
            "(86, 20)\n",
            "drive/My Drive/Colab Notebooks/spotify/input/tracks_sv/0jfGU9W9jZwW6K5Cs3YTmd.wav\n"
          ],
          "name": "stdout"
        },
        {
          "output_type": "stream",
          "text": [
            "\r  9%|▉         | 88/1000 [02:57<30:35,  2.01s/it]"
          ],
          "name": "stderr"
        },
        {
          "output_type": "stream",
          "text": [
            "(87, 20)\n",
            "drive/My Drive/Colab Notebooks/spotify/input/tracks_sv/0jpFywocwiJkt1tvRf6Opw.wav\n"
          ],
          "name": "stdout"
        },
        {
          "output_type": "stream",
          "text": [
            "\r  9%|▉         | 89/1000 [02:59<30:11,  1.99s/it]"
          ],
          "name": "stderr"
        },
        {
          "output_type": "stream",
          "text": [
            "(88, 20)\n",
            "drive/My Drive/Colab Notebooks/spotify/input/tracks_sv/0jqGYadZK1V17mTSNy1I73.wav\n"
          ],
          "name": "stdout"
        },
        {
          "output_type": "stream",
          "text": [
            "\r  9%|▉         | 90/1000 [03:01<30:46,  2.03s/it]"
          ],
          "name": "stderr"
        },
        {
          "output_type": "stream",
          "text": [
            "(89, 20)\n",
            "drive/My Drive/Colab Notebooks/spotify/input/tracks_sv/0kA7SWxWPYqSyIbMl51X5b.wav\n"
          ],
          "name": "stdout"
        },
        {
          "output_type": "stream",
          "text": [
            "\r  9%|▉         | 91/1000 [03:03<30:10,  1.99s/it]"
          ],
          "name": "stderr"
        },
        {
          "output_type": "stream",
          "text": [
            "(90, 20)\n",
            "drive/My Drive/Colab Notebooks/spotify/input/tracks_sv/0kcvHw6LoLPhcJhEvoHgto.wav\n"
          ],
          "name": "stdout"
        },
        {
          "output_type": "stream",
          "text": [
            "\r  9%|▉         | 92/1000 [03:05<30:05,  1.99s/it]"
          ],
          "name": "stderr"
        },
        {
          "output_type": "stream",
          "text": [
            "(91, 20)\n",
            "drive/My Drive/Colab Notebooks/spotify/input/tracks_sv/0kxHVcTJLxjrRaWpE5ombO.wav\n"
          ],
          "name": "stdout"
        },
        {
          "output_type": "stream",
          "text": [
            "\r  9%|▉         | 93/1000 [03:07<31:00,  2.05s/it]"
          ],
          "name": "stderr"
        },
        {
          "output_type": "stream",
          "text": [
            "(92, 20)\n",
            "drive/My Drive/Colab Notebooks/spotify/input/tracks_sv/0lEtvVl7QQ4edqn75PmP4I.wav\n"
          ],
          "name": "stdout"
        },
        {
          "output_type": "stream",
          "text": [
            "\r  9%|▉         | 94/1000 [03:09<30:14,  2.00s/it]"
          ],
          "name": "stderr"
        },
        {
          "output_type": "stream",
          "text": [
            "(93, 20)\n",
            "drive/My Drive/Colab Notebooks/spotify/input/tracks_sv/0lPCZSxu5cWCTGpmu0FvLo.wav\n"
          ],
          "name": "stdout"
        },
        {
          "output_type": "stream",
          "text": [
            "\r 10%|▉         | 95/1000 [03:11<30:17,  2.01s/it]"
          ],
          "name": "stderr"
        },
        {
          "output_type": "stream",
          "text": [
            "(94, 20)\n",
            "drive/My Drive/Colab Notebooks/spotify/input/tracks_sv/0lxCYqeiD6OR5mZfpX2weB.wav\n"
          ],
          "name": "stdout"
        },
        {
          "output_type": "stream",
          "text": [
            "\r 10%|▉         | 96/1000 [03:13<29:47,  1.98s/it]"
          ],
          "name": "stderr"
        },
        {
          "output_type": "stream",
          "text": [
            "(95, 20)\n",
            "drive/My Drive/Colab Notebooks/spotify/input/tracks_sv/0mRm9OJxlTf7XNd1uT6BR5.wav\n"
          ],
          "name": "stdout"
        },
        {
          "output_type": "stream",
          "text": [
            "\r 10%|▉         | 97/1000 [03:15<29:31,  1.96s/it]"
          ],
          "name": "stderr"
        },
        {
          "output_type": "stream",
          "text": [
            "(96, 20)\n",
            "drive/My Drive/Colab Notebooks/spotify/input/tracks_sv/0mSueW5i2ME6O3xyEFzEd2.wav\n"
          ],
          "name": "stdout"
        },
        {
          "output_type": "stream",
          "text": [
            "\r 10%|▉         | 98/1000 [03:17<29:05,  1.94s/it]"
          ],
          "name": "stderr"
        },
        {
          "output_type": "stream",
          "text": [
            "(97, 20)\n",
            "drive/My Drive/Colab Notebooks/spotify/input/tracks_sv/0nvvaKnWZABiknO5fcRifn.wav\n"
          ],
          "name": "stdout"
        },
        {
          "output_type": "stream",
          "text": [
            "\r 10%|▉         | 99/1000 [03:19<29:05,  1.94s/it]"
          ],
          "name": "stderr"
        },
        {
          "output_type": "stream",
          "text": [
            "(98, 20)\n",
            "drive/My Drive/Colab Notebooks/spotify/input/tracks_sv/0oE3Txaoz81bIsuiF1IPC9.wav\n"
          ],
          "name": "stdout"
        },
        {
          "output_type": "stream",
          "text": [
            "\r 10%|█         | 100/1000 [03:21<29:39,  1.98s/it]"
          ],
          "name": "stderr"
        },
        {
          "output_type": "stream",
          "text": [
            "(99, 20)\n",
            "drive/My Drive/Colab Notebooks/spotify/input/tracks_sv/0oRe0ce8jFqL0S1Rl0Hawc.wav\n"
          ],
          "name": "stdout"
        },
        {
          "output_type": "stream",
          "text": [
            "\r 10%|█         | 101/1000 [03:23<29:49,  1.99s/it]"
          ],
          "name": "stderr"
        },
        {
          "output_type": "stream",
          "text": [
            "(100, 20)\n",
            "drive/My Drive/Colab Notebooks/spotify/input/tracks_sv/0pfjlc96u3vv2cJkXEnrPC.wav\n"
          ],
          "name": "stdout"
        },
        {
          "output_type": "stream",
          "text": [
            "\r 10%|█         | 102/1000 [03:25<29:16,  1.96s/it]"
          ],
          "name": "stderr"
        },
        {
          "output_type": "stream",
          "text": [
            "(101, 20)\n",
            "drive/My Drive/Colab Notebooks/spotify/input/tracks_sv/0qUFcni7O3J4TDti1MOtRD.wav\n"
          ],
          "name": "stdout"
        },
        {
          "output_type": "stream",
          "text": [
            "\r 10%|█         | 103/1000 [03:27<30:18,  2.03s/it]"
          ],
          "name": "stderr"
        },
        {
          "output_type": "stream",
          "text": [
            "(102, 20)\n",
            "drive/My Drive/Colab Notebooks/spotify/input/tracks_sv/0sSG83UxY15ft1E2N9THYF.wav\n"
          ],
          "name": "stdout"
        },
        {
          "output_type": "stream",
          "text": [
            "\r 10%|█         | 104/1000 [03:29<29:45,  1.99s/it]"
          ],
          "name": "stderr"
        },
        {
          "output_type": "stream",
          "text": [
            "(103, 20)\n",
            "drive/My Drive/Colab Notebooks/spotify/input/tracks_sv/0ssfDRyW2nv5lJ5Rqbx9Ye.wav\n"
          ],
          "name": "stdout"
        },
        {
          "output_type": "stream",
          "text": [
            "\r 10%|█         | 105/1000 [03:31<30:15,  2.03s/it]"
          ],
          "name": "stderr"
        },
        {
          "output_type": "stream",
          "text": [
            "(104, 20)\n",
            "drive/My Drive/Colab Notebooks/spotify/input/tracks_sv/0tAr21qoXD1kf6HHclM2V9.wav\n"
          ],
          "name": "stdout"
        },
        {
          "output_type": "stream",
          "text": [
            "\r 11%|█         | 106/1000 [03:33<30:25,  2.04s/it]"
          ],
          "name": "stderr"
        },
        {
          "output_type": "stream",
          "text": [
            "(105, 20)\n",
            "drive/My Drive/Colab Notebooks/spotify/input/tracks_sv/0tQySFDn99PuKY5o3HB2ur.wav\n"
          ],
          "name": "stdout"
        },
        {
          "output_type": "stream",
          "text": [
            "\r 11%|█         | 107/1000 [03:35<29:56,  2.01s/it]"
          ],
          "name": "stderr"
        },
        {
          "output_type": "stream",
          "text": [
            "(106, 20)\n",
            "drive/My Drive/Colab Notebooks/spotify/input/tracks_sv/0uHaPSj0c5QpCzSyZa26g3.wav\n"
          ],
          "name": "stdout"
        },
        {
          "output_type": "stream",
          "text": [
            "\r 11%|█         | 108/1000 [03:37<29:43,  2.00s/it]"
          ],
          "name": "stderr"
        },
        {
          "output_type": "stream",
          "text": [
            "(107, 20)\n",
            "drive/My Drive/Colab Notebooks/spotify/input/tracks_sv/0uOHiGSYDxuG5BNT9HYVGs.wav\n"
          ],
          "name": "stdout"
        },
        {
          "output_type": "stream",
          "text": [
            "\r 11%|█         | 109/1000 [03:39<29:15,  1.97s/it]"
          ],
          "name": "stderr"
        },
        {
          "output_type": "stream",
          "text": [
            "(108, 20)\n",
            "drive/My Drive/Colab Notebooks/spotify/input/tracks_sv/0ute1561phyNGAZuPYziXZ.wav\n"
          ],
          "name": "stdout"
        },
        {
          "output_type": "stream",
          "text": [
            "\r 11%|█         | 110/1000 [03:41<28:58,  1.95s/it]"
          ],
          "name": "stderr"
        },
        {
          "output_type": "stream",
          "text": [
            "(109, 20)\n",
            "drive/My Drive/Colab Notebooks/spotify/input/tracks_sv/0v3iUTe5rskRsxbUhboRlT.wav\n"
          ],
          "name": "stdout"
        },
        {
          "output_type": "stream",
          "text": [
            "\r 11%|█         | 111/1000 [03:42<28:42,  1.94s/it]"
          ],
          "name": "stderr"
        },
        {
          "output_type": "stream",
          "text": [
            "(110, 20)\n",
            "drive/My Drive/Colab Notebooks/spotify/input/tracks_sv/0wMfMGp7nz7JMNw7tei9f5.wav\n"
          ],
          "name": "stdout"
        },
        {
          "output_type": "stream",
          "text": [
            "\r 11%|█         | 112/1000 [03:44<28:29,  1.92s/it]"
          ],
          "name": "stderr"
        },
        {
          "output_type": "stream",
          "text": [
            "(111, 20)\n",
            "drive/My Drive/Colab Notebooks/spotify/input/tracks_sv/0wRfhRWNX6WEJmxp5ed4Dy.wav\n"
          ],
          "name": "stdout"
        },
        {
          "output_type": "stream",
          "text": [
            "\r 11%|█▏        | 113/1000 [03:46<29:19,  1.98s/it]"
          ],
          "name": "stderr"
        },
        {
          "output_type": "stream",
          "text": [
            "(112, 20)\n",
            "drive/My Drive/Colab Notebooks/spotify/input/tracks_sv/0wTDvm3s5COanWlqf91hdS.wav\n"
          ],
          "name": "stdout"
        },
        {
          "output_type": "stream",
          "text": [
            "\r 11%|█▏        | 114/1000 [03:49<29:59,  2.03s/it]"
          ],
          "name": "stderr"
        },
        {
          "output_type": "stream",
          "text": [
            "(113, 20)\n",
            "drive/My Drive/Colab Notebooks/spotify/input/tracks_sv/0wdy92OkNw3hdKjUaUseTV.wav\n"
          ],
          "name": "stdout"
        },
        {
          "output_type": "stream",
          "text": [
            "\r 12%|█▏        | 115/1000 [03:51<30:52,  2.09s/it]"
          ],
          "name": "stderr"
        },
        {
          "output_type": "stream",
          "text": [
            "(114, 20)\n",
            "drive/My Drive/Colab Notebooks/spotify/input/tracks_sv/0xYSgQHddr1lh6IfqWgn2W.wav\n"
          ],
          "name": "stdout"
        },
        {
          "output_type": "stream",
          "text": [
            "\r 12%|█▏        | 116/1000 [03:53<30:01,  2.04s/it]"
          ],
          "name": "stderr"
        },
        {
          "output_type": "stream",
          "text": [
            "(115, 20)\n",
            "drive/My Drive/Colab Notebooks/spotify/input/tracks_sv/0y0lQ10KHJCZqRQtXIvh1T.wav\n"
          ],
          "name": "stdout"
        },
        {
          "output_type": "stream",
          "text": [
            "\r 12%|█▏        | 117/1000 [03:55<29:30,  2.01s/it]"
          ],
          "name": "stderr"
        },
        {
          "output_type": "stream",
          "text": [
            "(116, 20)\n",
            "drive/My Drive/Colab Notebooks/spotify/input/tracks_sv/0yt6toATQ5qwIADXUKtGn5.wav\n"
          ],
          "name": "stdout"
        },
        {
          "output_type": "stream",
          "text": [
            "\r 12%|█▏        | 118/1000 [03:57<29:03,  1.98s/it]"
          ],
          "name": "stderr"
        },
        {
          "output_type": "stream",
          "text": [
            "(117, 20)\n",
            "drive/My Drive/Colab Notebooks/spotify/input/tracks_sv/0z6XUSiw6WTT8uZNWJwWcO.wav\n"
          ],
          "name": "stdout"
        },
        {
          "output_type": "stream",
          "text": [
            "\r 12%|█▏        | 119/1000 [03:59<30:02,  2.05s/it]"
          ],
          "name": "stderr"
        },
        {
          "output_type": "stream",
          "text": [
            "(118, 20)\n",
            "drive/My Drive/Colab Notebooks/spotify/input/tracks_sv/0zCVt8MWpafLCcMcLMMsVi.wav\n"
          ],
          "name": "stdout"
        },
        {
          "output_type": "stream",
          "text": [
            "\r 12%|█▏        | 120/1000 [04:01<29:37,  2.02s/it]"
          ],
          "name": "stderr"
        },
        {
          "output_type": "stream",
          "text": [
            "(119, 20)\n",
            "drive/My Drive/Colab Notebooks/spotify/input/tracks_sv/0zmBxLyCOMoiZY1VOFFNhd.wav\n"
          ],
          "name": "stdout"
        },
        {
          "output_type": "stream",
          "text": [
            "\r 12%|█▏        | 121/1000 [04:03<29:17,  2.00s/it]"
          ],
          "name": "stderr"
        },
        {
          "output_type": "stream",
          "text": [
            "(120, 20)\n",
            "drive/My Drive/Colab Notebooks/spotify/input/tracks_sv/104khLFCpBOpjFjH2irQjY.wav\n"
          ],
          "name": "stdout"
        },
        {
          "output_type": "stream",
          "text": [
            "\r 12%|█▏        | 122/1000 [04:05<28:56,  1.98s/it]"
          ],
          "name": "stderr"
        },
        {
          "output_type": "stream",
          "text": [
            "(121, 20)\n",
            "drive/My Drive/Colab Notebooks/spotify/input/tracks_sv/10G6iBGzoMi9qXgDV9qyBy.wav\n"
          ],
          "name": "stdout"
        },
        {
          "output_type": "stream",
          "text": [
            "\r 12%|█▏        | 123/1000 [04:07<28:41,  1.96s/it]"
          ],
          "name": "stderr"
        },
        {
          "output_type": "stream",
          "text": [
            "(122, 20)\n",
            "drive/My Drive/Colab Notebooks/spotify/input/tracks_sv/114GDozk3l0sNgKwzdGszX.wav\n"
          ],
          "name": "stdout"
        },
        {
          "output_type": "stream",
          "text": [
            "\r 12%|█▏        | 124/1000 [04:08<28:23,  1.94s/it]"
          ],
          "name": "stderr"
        },
        {
          "output_type": "stream",
          "text": [
            "(123, 20)\n",
            "drive/My Drive/Colab Notebooks/spotify/input/tracks_sv/114dhrEROFYM484HNadj7G.wav\n"
          ],
          "name": "stdout"
        },
        {
          "output_type": "stream",
          "text": [
            "\r 12%|█▎        | 125/1000 [04:10<28:19,  1.94s/it]"
          ],
          "name": "stderr"
        },
        {
          "output_type": "stream",
          "text": [
            "(124, 20)\n",
            "drive/My Drive/Colab Notebooks/spotify/input/tracks_sv/11AbfhB0FNNs6yRClQMVfC.wav\n"
          ],
          "name": "stdout"
        },
        {
          "output_type": "stream",
          "text": [
            "\r 13%|█▎        | 126/1000 [04:12<28:20,  1.95s/it]"
          ],
          "name": "stderr"
        },
        {
          "output_type": "stream",
          "text": [
            "(125, 20)\n",
            "drive/My Drive/Colab Notebooks/spotify/input/tracks_sv/11WJDHjQmUpIO6nbhB0DHz.wav\n"
          ],
          "name": "stdout"
        },
        {
          "output_type": "stream",
          "text": [
            "\r 13%|█▎        | 127/1000 [04:14<28:06,  1.93s/it]"
          ],
          "name": "stderr"
        },
        {
          "output_type": "stream",
          "text": [
            "(126, 20)\n",
            "drive/My Drive/Colab Notebooks/spotify/input/tracks_sv/1297AiyQKnBze8mntF6Jzp.wav\n"
          ],
          "name": "stdout"
        },
        {
          "output_type": "stream",
          "text": [
            "\r 13%|█▎        | 128/1000 [04:16<29:11,  2.01s/it]"
          ],
          "name": "stderr"
        },
        {
          "output_type": "stream",
          "text": [
            "(127, 20)\n",
            "drive/My Drive/Colab Notebooks/spotify/input/tracks_sv/133odAIOO5E6SowSS0TAJ1.wav\n"
          ],
          "name": "stdout"
        },
        {
          "output_type": "stream",
          "text": [
            "\r 13%|█▎        | 129/1000 [04:18<28:49,  1.99s/it]"
          ],
          "name": "stderr"
        },
        {
          "output_type": "stream",
          "text": [
            "(128, 20)\n",
            "drive/My Drive/Colab Notebooks/spotify/input/tracks_sv/13CtZJqJk1G5dOx7iJWMa1.wav\n"
          ],
          "name": "stdout"
        },
        {
          "output_type": "stream",
          "text": [
            "\r 13%|█▎        | 130/1000 [04:21<29:41,  2.05s/it]"
          ],
          "name": "stderr"
        },
        {
          "output_type": "stream",
          "text": [
            "(129, 20)\n",
            "drive/My Drive/Colab Notebooks/spotify/input/tracks_sv/144pIQC3mpmUkZXMt8fIwb.wav\n"
          ],
          "name": "stdout"
        },
        {
          "output_type": "stream",
          "text": [
            "\r 13%|█▎        | 131/1000 [04:23<29:11,  2.01s/it]"
          ],
          "name": "stderr"
        },
        {
          "output_type": "stream",
          "text": [
            "(130, 20)\n",
            "drive/My Drive/Colab Notebooks/spotify/input/tracks_sv/145gfVpHftg96PJAmXcQZl.wav\n"
          ],
          "name": "stdout"
        },
        {
          "output_type": "stream",
          "text": [
            "\r 13%|█▎        | 132/1000 [04:24<28:37,  1.98s/it]"
          ],
          "name": "stderr"
        },
        {
          "output_type": "stream",
          "text": [
            "(131, 20)\n",
            "drive/My Drive/Colab Notebooks/spotify/input/tracks_sv/14DNw6R24Vcm4lzaSFn3oz.wav\n"
          ],
          "name": "stdout"
        },
        {
          "output_type": "stream",
          "text": [
            "\r 13%|█▎        | 133/1000 [04:26<28:50,  2.00s/it]"
          ],
          "name": "stderr"
        },
        {
          "output_type": "stream",
          "text": [
            "(132, 20)\n",
            "drive/My Drive/Colab Notebooks/spotify/input/tracks_sv/14EMiURqDNcVa6ZNSFfQsa.wav\n"
          ],
          "name": "stdout"
        },
        {
          "output_type": "stream",
          "text": [
            "\r 13%|█▎        | 134/1000 [04:28<28:24,  1.97s/it]"
          ],
          "name": "stderr"
        },
        {
          "output_type": "stream",
          "text": [
            "(133, 20)\n",
            "drive/My Drive/Colab Notebooks/spotify/input/tracks_sv/14N6mo39jk8aYWqY1qdS3Y.wav\n"
          ],
          "name": "stdout"
        },
        {
          "output_type": "stream",
          "text": [
            "\r 14%|█▎        | 135/1000 [04:30<28:15,  1.96s/it]"
          ],
          "name": "stderr"
        },
        {
          "output_type": "stream",
          "text": [
            "(134, 20)\n",
            "drive/My Drive/Colab Notebooks/spotify/input/tracks_sv/14QzgobDQlHXrdwQEcbpRz.wav\n"
          ],
          "name": "stdout"
        },
        {
          "output_type": "stream",
          "text": [
            "\r 14%|█▎        | 136/1000 [04:32<28:14,  1.96s/it]"
          ],
          "name": "stderr"
        },
        {
          "output_type": "stream",
          "text": [
            "(135, 20)\n",
            "drive/My Drive/Colab Notebooks/spotify/input/tracks_sv/14kMf7G4lQeTD83XGkDwop.wav\n"
          ],
          "name": "stdout"
        },
        {
          "output_type": "stream",
          "text": [
            "\r 14%|█▎        | 137/1000 [04:34<28:08,  1.96s/it]"
          ],
          "name": "stderr"
        },
        {
          "output_type": "stream",
          "text": [
            "(136, 20)\n",
            "drive/My Drive/Colab Notebooks/spotify/input/tracks_sv/14oj0hnWYeFZcPMRZd8s12.wav\n"
          ],
          "name": "stdout"
        },
        {
          "output_type": "stream",
          "text": [
            "\r 14%|█▍        | 138/1000 [04:36<27:47,  1.93s/it]"
          ],
          "name": "stderr"
        },
        {
          "output_type": "stream",
          "text": [
            "(137, 20)\n",
            "drive/My Drive/Colab Notebooks/spotify/input/tracks_sv/153lRbNmhQZVi69kbhmjY8.wav\n"
          ],
          "name": "stdout"
        },
        {
          "output_type": "stream",
          "text": [
            "\r 14%|█▍        | 139/1000 [04:38<27:37,  1.92s/it]"
          ],
          "name": "stderr"
        },
        {
          "output_type": "stream",
          "text": [
            "(138, 20)\n",
            "drive/My Drive/Colab Notebooks/spotify/input/tracks_sv/15oxNabhznCpO8WGEWFaLr.wav\n"
          ],
          "name": "stdout"
        },
        {
          "output_type": "stream",
          "text": [
            "\r 14%|█▍        | 140/1000 [04:40<28:16,  1.97s/it]"
          ],
          "name": "stderr"
        },
        {
          "output_type": "stream",
          "text": [
            "(139, 20)\n",
            "drive/My Drive/Colab Notebooks/spotify/input/tracks_sv/15tibGaIkWWEma7pgsybcZ.wav\n"
          ],
          "name": "stdout"
        },
        {
          "output_type": "stream",
          "text": [
            "\r 14%|█▍        | 141/1000 [04:42<28:08,  1.97s/it]"
          ],
          "name": "stderr"
        },
        {
          "output_type": "stream",
          "text": [
            "(140, 20)\n",
            "drive/My Drive/Colab Notebooks/spotify/input/tracks_sv/160zwUorVrB6MX15lCHzZq.wav\n"
          ],
          "name": "stdout"
        },
        {
          "output_type": "stream",
          "text": [
            "\r 14%|█▍        | 142/1000 [04:44<28:05,  1.96s/it]"
          ],
          "name": "stderr"
        },
        {
          "output_type": "stream",
          "text": [
            "(141, 20)\n",
            "drive/My Drive/Colab Notebooks/spotify/input/tracks_sv/16LTIvNG7DLSTc48flc1NZ.wav\n"
          ],
          "name": "stdout"
        },
        {
          "output_type": "stream",
          "text": [
            "\r 14%|█▍        | 143/1000 [04:46<27:42,  1.94s/it]"
          ],
          "name": "stderr"
        },
        {
          "output_type": "stream",
          "text": [
            "(142, 20)\n",
            "drive/My Drive/Colab Notebooks/spotify/input/tracks_sv/16YBTXP6WsBNegME3VOKBv.wav\n"
          ],
          "name": "stdout"
        },
        {
          "output_type": "stream",
          "text": [
            "\r 14%|█▍        | 144/1000 [04:48<27:26,  1.92s/it]"
          ],
          "name": "stderr"
        },
        {
          "output_type": "stream",
          "text": [
            "(143, 20)\n",
            "drive/My Drive/Colab Notebooks/spotify/input/tracks_sv/17EiIn0d2tftCjJrGOrbFj.wav\n"
          ],
          "name": "stdout"
        },
        {
          "output_type": "stream",
          "text": [
            "\r 14%|█▍        | 145/1000 [04:50<27:27,  1.93s/it]"
          ],
          "name": "stderr"
        },
        {
          "output_type": "stream",
          "text": [
            "(144, 20)\n",
            "drive/My Drive/Colab Notebooks/spotify/input/tracks_sv/17rid8FA0jmdYicyGbaXZr.wav\n"
          ],
          "name": "stdout"
        },
        {
          "output_type": "stream",
          "text": [
            "\r 15%|█▍        | 146/1000 [04:52<27:24,  1.93s/it]"
          ],
          "name": "stderr"
        },
        {
          "output_type": "stream",
          "text": [
            "(145, 20)\n",
            "drive/My Drive/Colab Notebooks/spotify/input/tracks_sv/18kopBY404pwnBMYoUwQYi.wav\n"
          ],
          "name": "stdout"
        },
        {
          "output_type": "stream",
          "text": [
            "\r 15%|█▍        | 147/1000 [04:53<27:11,  1.91s/it]"
          ],
          "name": "stderr"
        },
        {
          "output_type": "stream",
          "text": [
            "(146, 20)\n",
            "drive/My Drive/Colab Notebooks/spotify/input/tracks_sv/18x4YOIMUZObF4jUpUaqt6.wav\n"
          ],
          "name": "stdout"
        },
        {
          "output_type": "stream",
          "text": [
            "\r 15%|█▍        | 148/1000 [04:55<27:28,  1.94s/it]"
          ],
          "name": "stderr"
        },
        {
          "output_type": "stream",
          "text": [
            "(147, 20)\n",
            "drive/My Drive/Colab Notebooks/spotify/input/tracks_sv/19DoAguq7yDD3n09TZaGIQ.wav\n"
          ],
          "name": "stdout"
        },
        {
          "output_type": "stream",
          "text": [
            "\r 15%|█▍        | 149/1000 [04:57<27:22,  1.93s/it]"
          ],
          "name": "stderr"
        },
        {
          "output_type": "stream",
          "text": [
            "(148, 20)\n",
            "drive/My Drive/Colab Notebooks/spotify/input/tracks_sv/1ANLP8huTzDGR0Lqj230dG.wav\n"
          ],
          "name": "stdout"
        },
        {
          "output_type": "stream",
          "text": [
            "\r 15%|█▌        | 150/1000 [04:59<27:29,  1.94s/it]"
          ],
          "name": "stderr"
        },
        {
          "output_type": "stream",
          "text": [
            "(149, 20)\n",
            "drive/My Drive/Colab Notebooks/spotify/input/tracks_sv/1Alsp6EVIAHTDorSjPeRuY.wav\n"
          ],
          "name": "stdout"
        },
        {
          "output_type": "stream",
          "text": [
            "\r 15%|█▌        | 151/1000 [05:01<28:09,  1.99s/it]"
          ],
          "name": "stderr"
        },
        {
          "output_type": "stream",
          "text": [
            "(150, 20)\n",
            "drive/My Drive/Colab Notebooks/spotify/input/tracks_sv/1AsLOHNlBlBVPrROZdfxu1.wav\n"
          ],
          "name": "stdout"
        },
        {
          "output_type": "stream",
          "text": [
            "\r 15%|█▌        | 152/1000 [05:03<28:07,  1.99s/it]"
          ],
          "name": "stderr"
        },
        {
          "output_type": "stream",
          "text": [
            "(151, 20)\n",
            "drive/My Drive/Colab Notebooks/spotify/input/tracks_sv/1C14dtVHQfglaX1yaWnANg.wav\n"
          ],
          "name": "stdout"
        },
        {
          "output_type": "stream",
          "text": [
            "\r 15%|█▌        | 153/1000 [05:06<28:28,  2.02s/it]"
          ],
          "name": "stderr"
        },
        {
          "output_type": "stream",
          "text": [
            "(152, 20)\n",
            "drive/My Drive/Colab Notebooks/spotify/input/tracks_sv/1CUySISI1Hhlr54QxBKYvV.wav\n"
          ],
          "name": "stdout"
        },
        {
          "output_type": "stream",
          "text": [
            "\r 15%|█▌        | 154/1000 [05:07<27:59,  1.99s/it]"
          ],
          "name": "stderr"
        },
        {
          "output_type": "stream",
          "text": [
            "(153, 20)\n",
            "drive/My Drive/Colab Notebooks/spotify/input/tracks_sv/1Ch6OawPetEs9nJTvT5Q5s.wav\n"
          ],
          "name": "stdout"
        },
        {
          "output_type": "stream",
          "text": [
            "\r 16%|█▌        | 155/1000 [05:09<27:49,  1.98s/it]"
          ],
          "name": "stderr"
        },
        {
          "output_type": "stream",
          "text": [
            "(154, 20)\n",
            "drive/My Drive/Colab Notebooks/spotify/input/tracks_sv/1Chpng5LbC4eS8SYpIswzs.wav\n"
          ],
          "name": "stdout"
        },
        {
          "output_type": "stream",
          "text": [
            "\r 16%|█▌        | 156/1000 [05:11<27:38,  1.96s/it]"
          ],
          "name": "stderr"
        },
        {
          "output_type": "stream",
          "text": [
            "(155, 20)\n",
            "drive/My Drive/Colab Notebooks/spotify/input/tracks_sv/1CiHjA3EVaYCVJ3oXURHvk.wav\n"
          ],
          "name": "stdout"
        },
        {
          "output_type": "stream",
          "text": [
            "\r 16%|█▌        | 157/1000 [05:13<27:29,  1.96s/it]"
          ],
          "name": "stderr"
        },
        {
          "output_type": "stream",
          "text": [
            "(156, 20)\n",
            "drive/My Drive/Colab Notebooks/spotify/input/tracks_sv/1DOZa2VoazIiDjGYlUQTlW.wav\n"
          ],
          "name": "stdout"
        },
        {
          "output_type": "stream",
          "text": [
            "\r 16%|█▌        | 158/1000 [05:15<27:12,  1.94s/it]"
          ],
          "name": "stderr"
        },
        {
          "output_type": "stream",
          "text": [
            "(157, 20)\n",
            "drive/My Drive/Colab Notebooks/spotify/input/tracks_sv/1E529ug6zRzAs8lk6DAXMs.wav\n"
          ],
          "name": "stdout"
        },
        {
          "output_type": "stream",
          "text": [
            "\r 16%|█▌        | 159/1000 [05:17<26:52,  1.92s/it]"
          ],
          "name": "stderr"
        },
        {
          "output_type": "stream",
          "text": [
            "(158, 20)\n",
            "drive/My Drive/Colab Notebooks/spotify/input/tracks_sv/1GlWT1gs1Ecqba0UuEfpVe.wav\n"
          ],
          "name": "stdout"
        },
        {
          "output_type": "stream",
          "text": [
            "\r 16%|█▌        | 160/1000 [05:19<27:19,  1.95s/it]"
          ],
          "name": "stderr"
        },
        {
          "output_type": "stream",
          "text": [
            "(159, 20)\n",
            "drive/My Drive/Colab Notebooks/spotify/input/tracks_sv/1HD7YyTYAQ4LPussdtj7Ui.wav\n"
          ],
          "name": "stdout"
        },
        {
          "output_type": "stream",
          "text": [
            "\r 16%|█▌        | 161/1000 [05:21<27:08,  1.94s/it]"
          ],
          "name": "stderr"
        },
        {
          "output_type": "stream",
          "text": [
            "(160, 20)\n",
            "drive/My Drive/Colab Notebooks/spotify/input/tracks_sv/1HVDo1B73jbeHEanIDOpIC.wav\n"
          ],
          "name": "stdout"
        },
        {
          "output_type": "stream",
          "text": [
            "\r 16%|█▌        | 162/1000 [05:23<26:57,  1.93s/it]"
          ],
          "name": "stderr"
        },
        {
          "output_type": "stream",
          "text": [
            "(161, 20)\n",
            "drive/My Drive/Colab Notebooks/spotify/input/tracks_sv/1IN2yNg8C5SfOcWpJ9kxwe.wav\n"
          ],
          "name": "stdout"
        },
        {
          "output_type": "stream",
          "text": [
            "\r 16%|█▋        | 163/1000 [05:25<26:46,  1.92s/it]"
          ],
          "name": "stderr"
        },
        {
          "output_type": "stream",
          "text": [
            "(162, 20)\n",
            "drive/My Drive/Colab Notebooks/spotify/input/tracks_sv/1J6MFj60gFCvYqOtjoYkM0.wav\n"
          ],
          "name": "stdout"
        },
        {
          "output_type": "stream",
          "text": [
            "\r 16%|█▋        | 164/1000 [05:27<26:35,  1.91s/it]"
          ],
          "name": "stderr"
        },
        {
          "output_type": "stream",
          "text": [
            "(163, 20)\n",
            "drive/My Drive/Colab Notebooks/spotify/input/tracks_sv/1JKI1pTB2WZMMw7wF2jCTg.wav\n"
          ],
          "name": "stdout"
        },
        {
          "output_type": "stream",
          "text": [
            "\r 16%|█▋        | 165/1000 [05:29<26:37,  1.91s/it]"
          ],
          "name": "stderr"
        },
        {
          "output_type": "stream",
          "text": [
            "(164, 20)\n",
            "drive/My Drive/Colab Notebooks/spotify/input/tracks_sv/1JUxTt2bYpzcAfdpD44pnc.wav\n"
          ],
          "name": "stdout"
        },
        {
          "output_type": "stream",
          "text": [
            "\r 17%|█▋        | 166/1000 [05:31<27:29,  1.98s/it]"
          ],
          "name": "stderr"
        },
        {
          "output_type": "stream",
          "text": [
            "(165, 20)\n",
            "drive/My Drive/Colab Notebooks/spotify/input/tracks_sv/1Jw8h20nLaqTxIAznSbxfS.wav\n"
          ],
          "name": "stdout"
        },
        {
          "output_type": "stream",
          "text": [
            "\r 17%|█▋        | 167/1000 [05:33<28:14,  2.03s/it]"
          ],
          "name": "stderr"
        },
        {
          "output_type": "stream",
          "text": [
            "(166, 20)\n",
            "drive/My Drive/Colab Notebooks/spotify/input/tracks_sv/1JwTpIQeQqcqIBAgwottNU.wav\n"
          ],
          "name": "stdout"
        },
        {
          "output_type": "stream",
          "text": [
            "\r 17%|█▋        | 168/1000 [05:35<27:36,  1.99s/it]"
          ],
          "name": "stderr"
        },
        {
          "output_type": "stream",
          "text": [
            "(167, 20)\n",
            "drive/My Drive/Colab Notebooks/spotify/input/tracks_sv/1KrxCtv0mmDc5lvmsNITAT.wav\n"
          ],
          "name": "stdout"
        },
        {
          "output_type": "stream",
          "text": [
            "\r 17%|█▋        | 169/1000 [05:37<27:14,  1.97s/it]"
          ],
          "name": "stderr"
        },
        {
          "output_type": "stream",
          "text": [
            "(168, 20)\n",
            "drive/My Drive/Colab Notebooks/spotify/input/tracks_sv/1L5nG7AwmjCAcxfuubekFb.wav\n"
          ],
          "name": "stdout"
        },
        {
          "output_type": "stream",
          "text": [
            "\r 17%|█▋        | 170/1000 [05:39<27:01,  1.95s/it]"
          ],
          "name": "stderr"
        },
        {
          "output_type": "stream",
          "text": [
            "(169, 20)\n",
            "drive/My Drive/Colab Notebooks/spotify/input/tracks_sv/1LFahtJlgtc9iC71m7jrtE.wav\n"
          ],
          "name": "stdout"
        },
        {
          "output_type": "stream",
          "text": [
            "\r 17%|█▋        | 171/1000 [05:41<26:51,  1.94s/it]"
          ],
          "name": "stderr"
        },
        {
          "output_type": "stream",
          "text": [
            "(170, 20)\n",
            "drive/My Drive/Colab Notebooks/spotify/input/tracks_sv/1LIbyTY4G04Hl8wLiUxuM9.wav\n"
          ],
          "name": "stdout"
        },
        {
          "output_type": "stream",
          "text": [
            "\r 17%|█▋        | 172/1000 [05:42<26:37,  1.93s/it]"
          ],
          "name": "stderr"
        },
        {
          "output_type": "stream",
          "text": [
            "(171, 20)\n",
            "drive/My Drive/Colab Notebooks/spotify/input/tracks_sv/1Lvj0LzUdf9GgGgVi0txEu.wav\n"
          ],
          "name": "stdout"
        },
        {
          "output_type": "stream",
          "text": [
            "\r 17%|█▋        | 173/1000 [05:44<26:31,  1.92s/it]"
          ],
          "name": "stderr"
        },
        {
          "output_type": "stream",
          "text": [
            "(172, 20)\n",
            "drive/My Drive/Colab Notebooks/spotify/input/tracks_sv/1MO9nfvsVcW3Hgh0FqYfXq.wav\n"
          ],
          "name": "stdout"
        },
        {
          "output_type": "stream",
          "text": [
            "\r 17%|█▋        | 174/1000 [05:46<26:18,  1.91s/it]"
          ],
          "name": "stderr"
        },
        {
          "output_type": "stream",
          "text": [
            "(173, 20)\n",
            "drive/My Drive/Colab Notebooks/spotify/input/tracks_sv/1MlVQAK45PcFhl4yp1djKZ.wav\n"
          ],
          "name": "stdout"
        },
        {
          "output_type": "stream",
          "text": [
            "\r 18%|█▊        | 175/1000 [05:48<26:21,  1.92s/it]"
          ],
          "name": "stderr"
        },
        {
          "output_type": "stream",
          "text": [
            "(174, 20)\n",
            "drive/My Drive/Colab Notebooks/spotify/input/tracks_sv/1NAkjqsp5HHJj9fA4kf4Td.wav\n"
          ],
          "name": "stdout"
        },
        {
          "output_type": "stream",
          "text": [
            "\r 18%|█▊        | 176/1000 [05:50<26:07,  1.90s/it]"
          ],
          "name": "stderr"
        },
        {
          "output_type": "stream",
          "text": [
            "(175, 20)\n",
            "drive/My Drive/Colab Notebooks/spotify/input/tracks_sv/1NIzw8VBmRDLo4Fi5Vh5Qy.wav\n"
          ],
          "name": "stdout"
        },
        {
          "output_type": "stream",
          "text": [
            "\r 18%|█▊        | 177/1000 [05:52<26:15,  1.91s/it]"
          ],
          "name": "stderr"
        },
        {
          "output_type": "stream",
          "text": [
            "(176, 20)\n",
            "drive/My Drive/Colab Notebooks/spotify/input/tracks_sv/1NKf7YQ4jsRc5zCPzqbexT.wav\n"
          ],
          "name": "stdout"
        },
        {
          "output_type": "stream",
          "text": [
            "\r 18%|█▊        | 178/1000 [05:54<26:03,  1.90s/it]"
          ],
          "name": "stderr"
        },
        {
          "output_type": "stream",
          "text": [
            "(177, 20)\n",
            "drive/My Drive/Colab Notebooks/spotify/input/tracks_sv/1NmksRNnKu84kZNFbwuZ5Y.wav\n"
          ],
          "name": "stdout"
        },
        {
          "output_type": "stream",
          "text": [
            "\r 18%|█▊        | 179/1000 [05:56<26:32,  1.94s/it]"
          ],
          "name": "stderr"
        },
        {
          "output_type": "stream",
          "text": [
            "(178, 20)\n",
            "drive/My Drive/Colab Notebooks/spotify/input/tracks_sv/1Og9KjObwErS46X2VJfpAs.wav\n"
          ],
          "name": "stdout"
        },
        {
          "output_type": "stream",
          "text": [
            "\r 18%|█▊        | 180/1000 [05:58<26:37,  1.95s/it]"
          ],
          "name": "stderr"
        },
        {
          "output_type": "stream",
          "text": [
            "(179, 20)\n",
            "drive/My Drive/Colab Notebooks/spotify/input/tracks_sv/1Oisel6dhI9QNXaFQpq6Ro.wav\n"
          ],
          "name": "stdout"
        },
        {
          "output_type": "stream",
          "text": [
            "\r 18%|█▊        | 181/1000 [06:00<26:20,  1.93s/it]"
          ],
          "name": "stderr"
        },
        {
          "output_type": "stream",
          "text": [
            "(180, 20)\n",
            "drive/My Drive/Colab Notebooks/spotify/input/tracks_sv/1P3cdB5wydoRlTFRz0bNLO.wav\n"
          ],
          "name": "stdout"
        },
        {
          "output_type": "stream",
          "text": [
            "\r 18%|█▊        | 182/1000 [06:02<26:17,  1.93s/it]"
          ],
          "name": "stderr"
        },
        {
          "output_type": "stream",
          "text": [
            "(181, 20)\n",
            "drive/My Drive/Colab Notebooks/spotify/input/tracks_sv/1Pokmu0TSWcf7Af3EMSCNv.wav\n"
          ],
          "name": "stdout"
        },
        {
          "output_type": "stream",
          "text": [
            "\r 18%|█▊        | 183/1000 [06:04<27:21,  2.01s/it]"
          ],
          "name": "stderr"
        },
        {
          "output_type": "stream",
          "text": [
            "(182, 20)\n",
            "drive/My Drive/Colab Notebooks/spotify/input/tracks_sv/1QrR4mWXPY9bLsA4FKYtJF.wav\n"
          ],
          "name": "stdout"
        },
        {
          "output_type": "stream",
          "text": [
            "\r 18%|█▊        | 184/1000 [06:06<27:13,  2.00s/it]"
          ],
          "name": "stderr"
        },
        {
          "output_type": "stream",
          "text": [
            "(183, 20)\n",
            "drive/My Drive/Colab Notebooks/spotify/input/tracks_sv/1QrtegTLMBCqBAxHBP7zc0.wav\n"
          ],
          "name": "stdout"
        },
        {
          "output_type": "stream",
          "text": [
            "\r 18%|█▊        | 185/1000 [06:08<26:58,  1.99s/it]"
          ],
          "name": "stderr"
        },
        {
          "output_type": "stream",
          "text": [
            "(184, 20)\n",
            "drive/My Drive/Colab Notebooks/spotify/input/tracks_sv/1Qxa1g8FYiyZqTY1WA3Aa1.wav\n"
          ],
          "name": "stdout"
        },
        {
          "output_type": "stream",
          "text": [
            "\r 19%|█▊        | 186/1000 [06:10<26:28,  1.95s/it]"
          ],
          "name": "stderr"
        },
        {
          "output_type": "stream",
          "text": [
            "(185, 20)\n",
            "drive/My Drive/Colab Notebooks/spotify/input/tracks_sv/1REflSkxm1ZUvSIlgfZJVT.wav\n"
          ],
          "name": "stdout"
        },
        {
          "output_type": "stream",
          "text": [
            "\r 19%|█▊        | 187/1000 [06:12<27:37,  2.04s/it]"
          ],
          "name": "stderr"
        },
        {
          "output_type": "stream",
          "text": [
            "(186, 20)\n",
            "drive/My Drive/Colab Notebooks/spotify/input/tracks_sv/1RW9aS1EwV1KOktcCe98Sz.wav\n"
          ],
          "name": "stdout"
        },
        {
          "output_type": "stream",
          "text": [
            "\r 19%|█▉        | 188/1000 [06:14<27:18,  2.02s/it]"
          ],
          "name": "stderr"
        },
        {
          "output_type": "stream",
          "text": [
            "(187, 20)\n",
            "drive/My Drive/Colab Notebooks/spotify/input/tracks_sv/1TdYXsTtYbud0IieSW5wbh.wav\n"
          ],
          "name": "stdout"
        },
        {
          "output_type": "stream",
          "text": [
            "\r 19%|█▉        | 189/1000 [06:16<26:36,  1.97s/it]"
          ],
          "name": "stderr"
        },
        {
          "output_type": "stream",
          "text": [
            "(188, 20)\n",
            "drive/My Drive/Colab Notebooks/spotify/input/tracks_sv/1U2It4ydGIJ9L2LKyyRYCc.wav\n"
          ],
          "name": "stdout"
        },
        {
          "output_type": "stream",
          "text": [
            "\r 19%|█▉        | 190/1000 [06:18<26:12,  1.94s/it]"
          ],
          "name": "stderr"
        },
        {
          "output_type": "stream",
          "text": [
            "(189, 20)\n",
            "drive/My Drive/Colab Notebooks/spotify/input/tracks_sv/1UbkL53f1bbMbdaDpmZD2T.wav\n"
          ],
          "name": "stdout"
        },
        {
          "output_type": "stream",
          "text": [
            "\r 19%|█▉        | 191/1000 [06:19<25:53,  1.92s/it]"
          ],
          "name": "stderr"
        },
        {
          "output_type": "stream",
          "text": [
            "(190, 20)\n",
            "drive/My Drive/Colab Notebooks/spotify/input/tracks_sv/1UecRXVM3ZQUYnGs5HkEy1.wav\n"
          ],
          "name": "stdout"
        },
        {
          "output_type": "stream",
          "text": [
            "\r 19%|█▉        | 192/1000 [06:22<27:02,  2.01s/it]"
          ],
          "name": "stderr"
        },
        {
          "output_type": "stream",
          "text": [
            "(191, 20)\n",
            "drive/My Drive/Colab Notebooks/spotify/input/tracks_sv/1V9fhEM1WBJuwdrmRFrxIo.wav\n"
          ],
          "name": "stdout"
        },
        {
          "output_type": "stream",
          "text": [
            "\r 19%|█▉        | 193/1000 [06:24<26:41,  1.99s/it]"
          ],
          "name": "stderr"
        },
        {
          "output_type": "stream",
          "text": [
            "(192, 20)\n",
            "drive/My Drive/Colab Notebooks/spotify/input/tracks_sv/1VOe1daaRqlRCW0cGf53g2.wav\n"
          ],
          "name": "stdout"
        },
        {
          "output_type": "stream",
          "text": [
            "\r 19%|█▉        | 194/1000 [06:26<26:29,  1.97s/it]"
          ],
          "name": "stderr"
        },
        {
          "output_type": "stream",
          "text": [
            "(193, 20)\n",
            "drive/My Drive/Colab Notebooks/spotify/input/tracks_sv/1VXWxHDyPFUBPQDJy26IUm.wav\n"
          ],
          "name": "stdout"
        },
        {
          "output_type": "stream",
          "text": [
            "\r 20%|█▉        | 195/1000 [06:27<26:07,  1.95s/it]"
          ],
          "name": "stderr"
        },
        {
          "output_type": "stream",
          "text": [
            "(194, 20)\n",
            "drive/My Drive/Colab Notebooks/spotify/input/tracks_sv/1VYkyV2KfznZ2dg23HNRIN.wav\n"
          ],
          "name": "stdout"
        },
        {
          "output_type": "stream",
          "text": [
            "\r 20%|█▉        | 196/1000 [06:29<26:00,  1.94s/it]"
          ],
          "name": "stderr"
        },
        {
          "output_type": "stream",
          "text": [
            "(195, 20)\n",
            "drive/My Drive/Colab Notebooks/spotify/input/tracks_sv/1Vimcaq6kgTq6xgHSnr4pS.wav\n"
          ],
          "name": "stdout"
        },
        {
          "output_type": "stream",
          "text": [
            "\r 20%|█▉        | 197/1000 [06:31<25:54,  1.94s/it]"
          ],
          "name": "stderr"
        },
        {
          "output_type": "stream",
          "text": [
            "(196, 20)\n",
            "drive/My Drive/Colab Notebooks/spotify/input/tracks_sv/1VjiZjzitQ7MweLmRxwLNW.wav\n"
          ],
          "name": "stdout"
        },
        {
          "output_type": "stream",
          "text": [
            "\r 20%|█▉        | 198/1000 [06:33<25:45,  1.93s/it]"
          ],
          "name": "stderr"
        },
        {
          "output_type": "stream",
          "text": [
            "(197, 20)\n",
            "drive/My Drive/Colab Notebooks/spotify/input/tracks_sv/1WKosIBIBEMRLp9n5obQK5.wav\n"
          ],
          "name": "stdout"
        },
        {
          "output_type": "stream",
          "text": [
            "\r 20%|█▉        | 199/1000 [06:35<25:37,  1.92s/it]"
          ],
          "name": "stderr"
        },
        {
          "output_type": "stream",
          "text": [
            "(198, 20)\n",
            "drive/My Drive/Colab Notebooks/spotify/input/tracks_sv/1X7VQFZ23MgWshmLHYFRsZ.wav\n"
          ],
          "name": "stdout"
        },
        {
          "output_type": "stream",
          "text": [
            "\r 20%|██        | 200/1000 [06:37<25:34,  1.92s/it]"
          ],
          "name": "stderr"
        },
        {
          "output_type": "stream",
          "text": [
            "(199, 20)\n",
            "drive/My Drive/Colab Notebooks/spotify/input/tracks_sv/1XJm40ma6nPodQkRNvTkir.wav\n"
          ],
          "name": "stdout"
        },
        {
          "output_type": "stream",
          "text": [
            "\r 20%|██        | 201/1000 [06:39<25:25,  1.91s/it]"
          ],
          "name": "stderr"
        },
        {
          "output_type": "stream",
          "text": [
            "(200, 20)\n",
            "drive/My Drive/Colab Notebooks/spotify/input/tracks_sv/1XPzVq4TS2D38MUb9uu0hi.wav\n"
          ],
          "name": "stdout"
        },
        {
          "output_type": "stream",
          "text": [
            "\r 20%|██        | 202/1000 [06:41<25:44,  1.94s/it]"
          ],
          "name": "stderr"
        },
        {
          "output_type": "stream",
          "text": [
            "(201, 20)\n",
            "drive/My Drive/Colab Notebooks/spotify/input/tracks_sv/1XqaWVZ3waEQb0qRJtVimI.wav\n"
          ],
          "name": "stdout"
        },
        {
          "output_type": "stream",
          "text": [
            "\r 20%|██        | 203/1000 [06:43<25:35,  1.93s/it]"
          ],
          "name": "stderr"
        },
        {
          "output_type": "stream",
          "text": [
            "(202, 20)\n",
            "drive/My Drive/Colab Notebooks/spotify/input/tracks_sv/1YqVJ2YSgwxWpfuENocF2t.wav\n"
          ],
          "name": "stdout"
        },
        {
          "output_type": "stream",
          "text": [
            "\r 20%|██        | 204/1000 [06:45<25:23,  1.91s/it]"
          ],
          "name": "stderr"
        },
        {
          "output_type": "stream",
          "text": [
            "(203, 20)\n",
            "drive/My Drive/Colab Notebooks/spotify/input/tracks_sv/1YykWT9Ry8SNMp4Y1tUhKJ.wav\n"
          ],
          "name": "stdout"
        },
        {
          "output_type": "stream",
          "text": [
            "\r 20%|██        | 205/1000 [06:47<25:24,  1.92s/it]"
          ],
          "name": "stderr"
        },
        {
          "output_type": "stream",
          "text": [
            "(204, 20)\n",
            "drive/My Drive/Colab Notebooks/spotify/input/tracks_sv/1ZV1J63dNsRBojHLH0mQbm.wav\n"
          ],
          "name": "stdout"
        },
        {
          "output_type": "stream",
          "text": [
            "\r 21%|██        | 206/1000 [06:49<25:27,  1.92s/it]"
          ],
          "name": "stderr"
        },
        {
          "output_type": "stream",
          "text": [
            "(205, 20)\n",
            "drive/My Drive/Colab Notebooks/spotify/input/tracks_sv/1Zs49k4wxNqIHhbIMq3dZ6.wav\n"
          ],
          "name": "stdout"
        },
        {
          "output_type": "stream",
          "text": [
            "\r 21%|██        | 207/1000 [06:51<25:53,  1.96s/it]"
          ],
          "name": "stderr"
        },
        {
          "output_type": "stream",
          "text": [
            "(206, 20)\n",
            "drive/My Drive/Colab Notebooks/spotify/input/tracks_sv/1ZwZRpRBph6BjdZU1awEJN.wav\n"
          ],
          "name": "stdout"
        },
        {
          "output_type": "stream",
          "text": [
            "\r 21%|██        | 208/1000 [06:53<26:24,  2.00s/it]"
          ],
          "name": "stderr"
        },
        {
          "output_type": "stream",
          "text": [
            "(207, 20)\n",
            "drive/My Drive/Colab Notebooks/spotify/input/tracks_sv/1ZzQEg44uDR6264dGman64.wav\n"
          ],
          "name": "stdout"
        },
        {
          "output_type": "stream",
          "text": [
            "\r 21%|██        | 209/1000 [06:55<25:57,  1.97s/it]"
          ],
          "name": "stderr"
        },
        {
          "output_type": "stream",
          "text": [
            "(208, 20)\n",
            "drive/My Drive/Colab Notebooks/spotify/input/tracks_sv/1a2CdI5ysXBHfNKF6ofGHR.wav\n"
          ],
          "name": "stdout"
        },
        {
          "output_type": "stream",
          "text": [
            "\r 21%|██        | 210/1000 [06:56<25:39,  1.95s/it]"
          ],
          "name": "stderr"
        },
        {
          "output_type": "stream",
          "text": [
            "(209, 20)\n",
            "drive/My Drive/Colab Notebooks/spotify/input/tracks_sv/1aCvj5he8HsgdROfcEW7Ax.wav\n"
          ],
          "name": "stdout"
        },
        {
          "output_type": "stream",
          "text": [
            "\r 21%|██        | 211/1000 [06:58<25:31,  1.94s/it]"
          ],
          "name": "stderr"
        },
        {
          "output_type": "stream",
          "text": [
            "(210, 20)\n",
            "drive/My Drive/Colab Notebooks/spotify/input/tracks_sv/1apuIXBJVSikl9JGqDsM4H.wav\n"
          ],
          "name": "stdout"
        },
        {
          "output_type": "stream",
          "text": [
            "\r 21%|██        | 212/1000 [07:00<25:31,  1.94s/it]"
          ],
          "name": "stderr"
        },
        {
          "output_type": "stream",
          "text": [
            "(211, 20)\n",
            "drive/My Drive/Colab Notebooks/spotify/input/tracks_sv/1cCCyitql94rJmxEmArn9P.wav\n"
          ],
          "name": "stdout"
        },
        {
          "output_type": "stream",
          "text": [
            "\r 21%|██▏       | 213/1000 [07:02<25:32,  1.95s/it]"
          ],
          "name": "stderr"
        },
        {
          "output_type": "stream",
          "text": [
            "(212, 20)\n",
            "drive/My Drive/Colab Notebooks/spotify/input/tracks_sv/1cHq6keYJRg8FjVgkqvRIA.wav\n"
          ],
          "name": "stdout"
        },
        {
          "output_type": "stream",
          "text": [
            "\r 21%|██▏       | 214/1000 [07:04<26:07,  1.99s/it]"
          ],
          "name": "stderr"
        },
        {
          "output_type": "stream",
          "text": [
            "(213, 20)\n",
            "drive/My Drive/Colab Notebooks/spotify/input/tracks_sv/1cqpwSj2BFeKYKavle5FYL.wav\n"
          ],
          "name": "stdout"
        },
        {
          "output_type": "stream",
          "text": [
            "\r 22%|██▏       | 215/1000 [07:06<25:54,  1.98s/it]"
          ],
          "name": "stderr"
        },
        {
          "output_type": "stream",
          "text": [
            "(214, 20)\n",
            "drive/My Drive/Colab Notebooks/spotify/input/tracks_sv/1ddkJGH4FPTXQ6UuDO6mMw.wav\n"
          ],
          "name": "stdout"
        },
        {
          "output_type": "stream",
          "text": [
            "\r 22%|██▏       | 216/1000 [07:08<25:31,  1.95s/it]"
          ],
          "name": "stderr"
        },
        {
          "output_type": "stream",
          "text": [
            "(215, 20)\n",
            "drive/My Drive/Colab Notebooks/spotify/input/tracks_sv/1dsh4buvcBs2u7YtHy29c7.wav\n"
          ],
          "name": "stdout"
        },
        {
          "output_type": "stream",
          "text": [
            "\r 22%|██▏       | 217/1000 [07:10<25:14,  1.93s/it]"
          ],
          "name": "stderr"
        },
        {
          "output_type": "stream",
          "text": [
            "(216, 20)\n",
            "drive/My Drive/Colab Notebooks/spotify/input/tracks_sv/1eIl9qFUGihchPAfSF258T.wav\n"
          ],
          "name": "stdout"
        },
        {
          "output_type": "stream",
          "text": [
            "\r 22%|██▏       | 218/1000 [07:12<25:09,  1.93s/it]"
          ],
          "name": "stderr"
        },
        {
          "output_type": "stream",
          "text": [
            "(217, 20)\n",
            "drive/My Drive/Colab Notebooks/spotify/input/tracks_sv/1eYWPiHNH5xpZMZ4z6BlyZ.wav\n"
          ],
          "name": "stdout"
        },
        {
          "output_type": "stream",
          "text": [
            "\r 22%|██▏       | 219/1000 [07:14<24:59,  1.92s/it]"
          ],
          "name": "stderr"
        },
        {
          "output_type": "stream",
          "text": [
            "(218, 20)\n",
            "drive/My Drive/Colab Notebooks/spotify/input/tracks_sv/1egQB7JmuDdaWdWtODlrja.wav\n"
          ],
          "name": "stdout"
        },
        {
          "output_type": "stream",
          "text": [
            "\r 22%|██▏       | 220/1000 [07:16<24:51,  1.91s/it]"
          ],
          "name": "stderr"
        },
        {
          "output_type": "stream",
          "text": [
            "(219, 20)\n",
            "drive/My Drive/Colab Notebooks/spotify/input/tracks_sv/1ep3vnJjjHqXySMAYro0kN.wav\n"
          ],
          "name": "stdout"
        },
        {
          "output_type": "stream",
          "text": [
            "\r 22%|██▏       | 221/1000 [07:18<24:50,  1.91s/it]"
          ],
          "name": "stderr"
        },
        {
          "output_type": "stream",
          "text": [
            "(220, 20)\n",
            "drive/My Drive/Colab Notebooks/spotify/input/tracks_sv/1fRaznZsAB2i63TtmYv2Hc.wav\n"
          ],
          "name": "stdout"
        },
        {
          "output_type": "stream",
          "text": [
            "\r 22%|██▏       | 222/1000 [07:20<24:40,  1.90s/it]"
          ],
          "name": "stderr"
        },
        {
          "output_type": "stream",
          "text": [
            "(221, 20)\n",
            "drive/My Drive/Colab Notebooks/spotify/input/tracks_sv/1flvuaMS27JxpEBL0u2cWc.wav\n"
          ],
          "name": "stdout"
        },
        {
          "output_type": "stream",
          "text": [
            "\r 22%|██▏       | 223/1000 [07:22<25:39,  1.98s/it]"
          ],
          "name": "stderr"
        },
        {
          "output_type": "stream",
          "text": [
            "(222, 20)\n",
            "drive/My Drive/Colab Notebooks/spotify/input/tracks_sv/1fooGB6yJLKiOk8jW3thn6.wav\n"
          ],
          "name": "stdout"
        },
        {
          "output_type": "stream",
          "text": [
            "\r 22%|██▏       | 224/1000 [07:24<25:52,  2.00s/it]"
          ],
          "name": "stderr"
        },
        {
          "output_type": "stream",
          "text": [
            "(223, 20)\n",
            "drive/My Drive/Colab Notebooks/spotify/input/tracks_sv/1g89JASxN75856KEYGmZTt.wav\n"
          ],
          "name": "stdout"
        },
        {
          "output_type": "stream",
          "text": [
            "\r 22%|██▎       | 225/1000 [07:26<25:28,  1.97s/it]"
          ],
          "name": "stderr"
        },
        {
          "output_type": "stream",
          "text": [
            "(224, 20)\n",
            "drive/My Drive/Colab Notebooks/spotify/input/tracks_sv/1gfFrbGVf9ABIEtRGfbf81.wav\n"
          ],
          "name": "stdout"
        },
        {
          "output_type": "stream",
          "text": [
            "\r 23%|██▎       | 226/1000 [07:28<26:37,  2.06s/it]"
          ],
          "name": "stderr"
        },
        {
          "output_type": "stream",
          "text": [
            "(225, 20)\n",
            "drive/My Drive/Colab Notebooks/spotify/input/tracks_sv/1i6F01jxN0Qy7xFk3EldRO.wav\n"
          ],
          "name": "stdout"
        },
        {
          "output_type": "stream",
          "text": [
            "\r 23%|██▎       | 227/1000 [07:30<26:04,  2.02s/it]"
          ],
          "name": "stderr"
        },
        {
          "output_type": "stream",
          "text": [
            "(226, 20)\n",
            "drive/My Drive/Colab Notebooks/spotify/input/tracks_sv/1iDqwj70Issvx6IIRRpCgS.wav\n"
          ],
          "name": "stdout"
        },
        {
          "output_type": "stream",
          "text": [
            "\r 23%|██▎       | 228/1000 [07:32<25:49,  2.01s/it]"
          ],
          "name": "stderr"
        },
        {
          "output_type": "stream",
          "text": [
            "(227, 20)\n",
            "drive/My Drive/Colab Notebooks/spotify/input/tracks_sv/1j6WY5rZRcvYIk1FmXg3Qp.wav\n"
          ],
          "name": "stdout"
        },
        {
          "output_type": "stream",
          "text": [
            "\r 23%|██▎       | 229/1000 [07:34<25:20,  1.97s/it]"
          ],
          "name": "stderr"
        },
        {
          "output_type": "stream",
          "text": [
            "(228, 20)\n",
            "drive/My Drive/Colab Notebooks/spotify/input/tracks_sv/1jys54e6BegJgkNenkaFCl.wav\n"
          ],
          "name": "stdout"
        },
        {
          "output_type": "stream",
          "text": [
            "\r 23%|██▎       | 230/1000 [07:36<25:00,  1.95s/it]"
          ],
          "name": "stderr"
        },
        {
          "output_type": "stream",
          "text": [
            "(229, 20)\n",
            "drive/My Drive/Colab Notebooks/spotify/input/tracks_sv/1lEcNMnqk05TMXxLnVCwe1.wav\n"
          ],
          "name": "stdout"
        },
        {
          "output_type": "stream",
          "text": [
            "\r 23%|██▎       | 231/1000 [07:38<25:01,  1.95s/it]"
          ],
          "name": "stderr"
        },
        {
          "output_type": "stream",
          "text": [
            "(230, 20)\n",
            "drive/My Drive/Colab Notebooks/spotify/input/tracks_sv/1lPAees2nI1INnFcjlUjH5.wav\n"
          ],
          "name": "stdout"
        },
        {
          "output_type": "stream",
          "text": [
            "\r 23%|██▎       | 232/1000 [07:40<24:51,  1.94s/it]"
          ],
          "name": "stderr"
        },
        {
          "output_type": "stream",
          "text": [
            "(231, 20)\n",
            "drive/My Drive/Colab Notebooks/spotify/input/tracks_sv/1lZgpaHTGgMh6Nr0ABNyh0.wav\n"
          ],
          "name": "stdout"
        },
        {
          "output_type": "stream",
          "text": [
            "\r 23%|██▎       | 233/1000 [07:42<24:41,  1.93s/it]"
          ],
          "name": "stderr"
        },
        {
          "output_type": "stream",
          "text": [
            "(232, 20)\n",
            "drive/My Drive/Colab Notebooks/spotify/input/tracks_sv/1ls4tZv48TWxYoWDIci2qO.wav\n"
          ],
          "name": "stdout"
        },
        {
          "output_type": "stream",
          "text": [
            "\r 23%|██▎       | 234/1000 [07:43<24:48,  1.94s/it]"
          ],
          "name": "stderr"
        },
        {
          "output_type": "stream",
          "text": [
            "(233, 20)\n",
            "drive/My Drive/Colab Notebooks/spotify/input/tracks_sv/1lzOJ1bIBkdUQEH8Yo9pa4.wav\n"
          ],
          "name": "stdout"
        },
        {
          "output_type": "stream",
          "text": [
            "\r 24%|██▎       | 235/1000 [07:46<26:05,  2.05s/it]"
          ],
          "name": "stderr"
        },
        {
          "output_type": "stream",
          "text": [
            "(234, 20)\n",
            "drive/My Drive/Colab Notebooks/spotify/input/tracks_sv/1mBnMthO7pZYXHgNRcBswK.wav\n"
          ],
          "name": "stdout"
        },
        {
          "output_type": "stream",
          "text": [
            "\r 24%|██▎       | 236/1000 [07:48<26:21,  2.07s/it]"
          ],
          "name": "stderr"
        },
        {
          "output_type": "stream",
          "text": [
            "(235, 20)\n",
            "drive/My Drive/Colab Notebooks/spotify/input/tracks_sv/1mbMo0w6TMyPSi4NFDsKbD.wav\n"
          ],
          "name": "stdout"
        },
        {
          "output_type": "stream",
          "text": [
            "\r 24%|██▎       | 237/1000 [07:50<25:35,  2.01s/it]"
          ],
          "name": "stderr"
        },
        {
          "output_type": "stream",
          "text": [
            "(236, 20)\n",
            "drive/My Drive/Colab Notebooks/spotify/input/tracks_sv/1mcWqzc6INaGmu9qAsJ494.wav\n"
          ],
          "name": "stdout"
        },
        {
          "output_type": "stream",
          "text": [
            "\r 24%|██▍       | 238/1000 [07:52<25:10,  1.98s/it]"
          ],
          "name": "stderr"
        },
        {
          "output_type": "stream",
          "text": [
            "(237, 20)\n",
            "drive/My Drive/Colab Notebooks/spotify/input/tracks_sv/1n3F4sfx4QTLyxSdgRHzgL.wav\n"
          ],
          "name": "stdout"
        },
        {
          "output_type": "stream",
          "text": [
            "\r 24%|██▍       | 239/1000 [07:54<24:39,  1.94s/it]"
          ],
          "name": "stderr"
        },
        {
          "output_type": "stream",
          "text": [
            "(238, 20)\n",
            "drive/My Drive/Colab Notebooks/spotify/input/tracks_sv/1nNWYZSPqfBVaDgyVvqk3o.wav\n"
          ],
          "name": "stdout"
        },
        {
          "output_type": "stream",
          "text": [
            "\r 24%|██▍       | 240/1000 [07:56<24:49,  1.96s/it]"
          ],
          "name": "stderr"
        },
        {
          "output_type": "stream",
          "text": [
            "(239, 20)\n",
            "drive/My Drive/Colab Notebooks/spotify/input/tracks_sv/1nOZ3WfyV2t7uBRvobs4Dz.wav\n"
          ],
          "name": "stdout"
        },
        {
          "output_type": "stream",
          "text": [
            "\r 24%|██▍       | 241/1000 [07:57<24:35,  1.94s/it]"
          ],
          "name": "stderr"
        },
        {
          "output_type": "stream",
          "text": [
            "(240, 20)\n",
            "drive/My Drive/Colab Notebooks/spotify/input/tracks_sv/1nzXHTsKy6aLsmOMcOEip6.wav\n"
          ],
          "name": "stdout"
        },
        {
          "output_type": "stream",
          "text": [
            "\r 24%|██▍       | 242/1000 [08:00<25:22,  2.01s/it]"
          ],
          "name": "stderr"
        },
        {
          "output_type": "stream",
          "text": [
            "(241, 20)\n",
            "drive/My Drive/Colab Notebooks/spotify/input/tracks_sv/1oHbI3fZToSugPMcCcrhp5.wav\n"
          ],
          "name": "stdout"
        },
        {
          "output_type": "stream",
          "text": [
            "\r 24%|██▍       | 243/1000 [08:02<24:59,  1.98s/it]"
          ],
          "name": "stderr"
        },
        {
          "output_type": "stream",
          "text": [
            "(242, 20)\n",
            "drive/My Drive/Colab Notebooks/spotify/input/tracks_sv/1oouUW7rXRt0NYWnaSHS3O.wav\n"
          ],
          "name": "stdout"
        },
        {
          "output_type": "stream",
          "text": [
            "\r 24%|██▍       | 244/1000 [08:03<24:39,  1.96s/it]"
          ],
          "name": "stderr"
        },
        {
          "output_type": "stream",
          "text": [
            "(243, 20)\n",
            "drive/My Drive/Colab Notebooks/spotify/input/tracks_sv/1pcbZGYNepdnU53r3vTDN6.wav\n"
          ],
          "name": "stdout"
        },
        {
          "output_type": "stream",
          "text": [
            "\r 24%|██▍       | 245/1000 [08:05<24:34,  1.95s/it]"
          ],
          "name": "stderr"
        },
        {
          "output_type": "stream",
          "text": [
            "(244, 20)\n",
            "drive/My Drive/Colab Notebooks/spotify/input/tracks_sv/1pfZ0POxTGl7JbQyCdst5Q.wav\n"
          ],
          "name": "stdout"
        },
        {
          "output_type": "stream",
          "text": [
            "\r 25%|██▍       | 246/1000 [08:07<24:39,  1.96s/it]"
          ],
          "name": "stderr"
        },
        {
          "output_type": "stream",
          "text": [
            "(245, 20)\n",
            "drive/My Drive/Colab Notebooks/spotify/input/tracks_sv/1sK707k14LThyEA2LNb3eC.wav\n"
          ],
          "name": "stdout"
        },
        {
          "output_type": "stream",
          "text": [
            "\r 25%|██▍       | 247/1000 [08:09<24:10,  1.93s/it]"
          ],
          "name": "stderr"
        },
        {
          "output_type": "stream",
          "text": [
            "(246, 20)\n",
            "drive/My Drive/Colab Notebooks/spotify/input/tracks_sv/1sq6wQoIHqIC2Vn2bgNLUi.wav\n"
          ],
          "name": "stdout"
        },
        {
          "output_type": "stream",
          "text": [
            "\r 25%|██▍       | 248/1000 [08:11<24:01,  1.92s/it]"
          ],
          "name": "stderr"
        },
        {
          "output_type": "stream",
          "text": [
            "(247, 20)\n",
            "drive/My Drive/Colab Notebooks/spotify/input/tracks_sv/1tNP63SI0nJgLFHFAPUwFK.wav\n"
          ],
          "name": "stdout"
        },
        {
          "output_type": "stream",
          "text": [
            "\r 25%|██▍       | 249/1000 [08:13<25:15,  2.02s/it]"
          ],
          "name": "stderr"
        },
        {
          "output_type": "stream",
          "text": [
            "(248, 20)\n",
            "drive/My Drive/Colab Notebooks/spotify/input/tracks_sv/1tT50QmglqVon0ihYSQrkB.wav\n"
          ],
          "name": "stdout"
        },
        {
          "output_type": "stream",
          "text": [
            "\r 25%|██▌       | 250/1000 [08:16<25:50,  2.07s/it]"
          ],
          "name": "stderr"
        },
        {
          "output_type": "stream",
          "text": [
            "(249, 20)\n",
            "drive/My Drive/Colab Notebooks/spotify/input/tracks_sv/1tYBBOU6eqPXcKJ2gxIElV.wav\n"
          ],
          "name": "stdout"
        },
        {
          "output_type": "stream",
          "text": [
            "\r 25%|██▌       | 251/1000 [08:17<25:01,  2.00s/it]"
          ],
          "name": "stderr"
        },
        {
          "output_type": "stream",
          "text": [
            "(250, 20)\n",
            "drive/My Drive/Colab Notebooks/spotify/input/tracks_sv/1u0uSC80Cv9FsQBLz7ksPb.wav\n"
          ],
          "name": "stdout"
        },
        {
          "output_type": "stream",
          "text": [
            "\r 25%|██▌       | 252/1000 [08:19<25:11,  2.02s/it]"
          ],
          "name": "stderr"
        },
        {
          "output_type": "stream",
          "text": [
            "(251, 20)\n",
            "drive/My Drive/Colab Notebooks/spotify/input/tracks_sv/1uEQMDZLa7SgTaCA46y1NA.wav\n"
          ],
          "name": "stdout"
        },
        {
          "output_type": "stream",
          "text": [
            "\r 25%|██▌       | 253/1000 [08:21<24:39,  1.98s/it]"
          ],
          "name": "stderr"
        },
        {
          "output_type": "stream",
          "text": [
            "(252, 20)\n",
            "drive/My Drive/Colab Notebooks/spotify/input/tracks_sv/1unfv1IZFYR9YHiPmWchVS.wav\n"
          ],
          "name": "stdout"
        },
        {
          "output_type": "stream",
          "text": [
            "\r 25%|██▌       | 254/1000 [08:23<24:31,  1.97s/it]"
          ],
          "name": "stderr"
        },
        {
          "output_type": "stream",
          "text": [
            "(253, 20)\n",
            "drive/My Drive/Colab Notebooks/spotify/input/tracks_sv/1v9EovC0CD8tKq88ZEI3Ri.wav\n"
          ],
          "name": "stdout"
        },
        {
          "output_type": "stream",
          "text": [
            "\r 26%|██▌       | 255/1000 [08:25<24:05,  1.94s/it]"
          ],
          "name": "stderr"
        },
        {
          "output_type": "stream",
          "text": [
            "(254, 20)\n",
            "drive/My Drive/Colab Notebooks/spotify/input/tracks_sv/1vUsWxkJB3FDyCk5TJse7W.wav\n"
          ],
          "name": "stdout"
        },
        {
          "output_type": "stream",
          "text": [
            "\r 26%|██▌       | 256/1000 [08:27<23:58,  1.93s/it]"
          ],
          "name": "stderr"
        },
        {
          "output_type": "stream",
          "text": [
            "(255, 20)\n",
            "drive/My Drive/Colab Notebooks/spotify/input/tracks_sv/1wXWsqDM0Df6XNI2qyWwSB.wav\n"
          ],
          "name": "stdout"
        },
        {
          "output_type": "stream",
          "text": [
            "\r 26%|██▌       | 257/1000 [08:29<23:59,  1.94s/it]"
          ],
          "name": "stderr"
        },
        {
          "output_type": "stream",
          "text": [
            "(256, 20)\n",
            "drive/My Drive/Colab Notebooks/spotify/input/tracks_sv/1xcPUZbShVeytb14kzRkdT.wav\n"
          ],
          "name": "stdout"
        },
        {
          "output_type": "stream",
          "text": [
            "\r 26%|██▌       | 258/1000 [08:31<23:52,  1.93s/it]"
          ],
          "name": "stderr"
        },
        {
          "output_type": "stream",
          "text": [
            "(257, 20)\n",
            "drive/My Drive/Colab Notebooks/spotify/input/tracks_sv/1yBotjNu1ZfOAltQkgIypY.wav\n"
          ],
          "name": "stdout"
        },
        {
          "output_type": "stream",
          "text": [
            "\r 26%|██▌       | 259/1000 [08:33<23:49,  1.93s/it]"
          ],
          "name": "stderr"
        },
        {
          "output_type": "stream",
          "text": [
            "(258, 20)\n",
            "drive/My Drive/Colab Notebooks/spotify/input/tracks_sv/1yDQHmQ4uxcC3qrYpd702l.wav\n"
          ],
          "name": "stdout"
        },
        {
          "output_type": "stream",
          "text": [
            "\r 26%|██▌       | 260/1000 [08:35<24:55,  2.02s/it]"
          ],
          "name": "stderr"
        },
        {
          "output_type": "stream",
          "text": [
            "(259, 20)\n",
            "drive/My Drive/Colab Notebooks/spotify/input/tracks_sv/1yGiuCOSDhVvifpmMO9yHP.wav\n"
          ],
          "name": "stdout"
        },
        {
          "output_type": "stream",
          "text": [
            "\r 26%|██▌       | 261/1000 [08:37<24:43,  2.01s/it]"
          ],
          "name": "stderr"
        },
        {
          "output_type": "stream",
          "text": [
            "(260, 20)\n",
            "drive/My Drive/Colab Notebooks/spotify/input/tracks_sv/1yzFm9vJwlJH9iBSm2ElRY.wav\n"
          ],
          "name": "stdout"
        },
        {
          "output_type": "stream",
          "text": [
            "\r 26%|██▌       | 262/1000 [08:39<24:20,  1.98s/it]"
          ],
          "name": "stderr"
        },
        {
          "output_type": "stream",
          "text": [
            "(261, 20)\n",
            "drive/My Drive/Colab Notebooks/spotify/input/tracks_sv/1ztvcwLRCduTXgnUgYehVa.wav\n"
          ],
          "name": "stdout"
        },
        {
          "output_type": "stream",
          "text": [
            "\r 26%|██▋       | 263/1000 [08:41<24:39,  2.01s/it]"
          ],
          "name": "stderr"
        },
        {
          "output_type": "stream",
          "text": [
            "(262, 20)\n",
            "drive/My Drive/Colab Notebooks/spotify/input/tracks_sv/206UfaQVJWFWA7yJIKwS4s.wav\n"
          ],
          "name": "stdout"
        },
        {
          "output_type": "stream",
          "text": [
            "\r 26%|██▋       | 264/1000 [08:43<25:07,  2.05s/it]"
          ],
          "name": "stderr"
        },
        {
          "output_type": "stream",
          "text": [
            "(263, 20)\n",
            "drive/My Drive/Colab Notebooks/spotify/input/tracks_sv/20VGCJzkwHCgchhy5JwKq1.wav\n"
          ],
          "name": "stdout"
        },
        {
          "output_type": "stream",
          "text": [
            "\r 26%|██▋       | 265/1000 [08:45<24:40,  2.01s/it]"
          ],
          "name": "stderr"
        },
        {
          "output_type": "stream",
          "text": [
            "(264, 20)\n",
            "drive/My Drive/Colab Notebooks/spotify/input/tracks_sv/20nuvkWTNP8m1qqssMFYvB.wav\n"
          ],
          "name": "stdout"
        },
        {
          "output_type": "stream",
          "text": [
            "\r 27%|██▋       | 266/1000 [08:47<25:22,  2.07s/it]"
          ],
          "name": "stderr"
        },
        {
          "output_type": "stream",
          "text": [
            "(265, 20)\n",
            "drive/My Drive/Colab Notebooks/spotify/input/tracks_sv/20q1rtDNXO8s9zjxUWGy82.wav\n"
          ],
          "name": "stdout"
        },
        {
          "output_type": "stream",
          "text": [
            "\r 27%|██▋       | 267/1000 [08:49<24:51,  2.03s/it]"
          ],
          "name": "stderr"
        },
        {
          "output_type": "stream",
          "text": [
            "(266, 20)\n",
            "drive/My Drive/Colab Notebooks/spotify/input/tracks_sv/21kn2sWOZANPZHGOpW7pG9.wav\n"
          ],
          "name": "stdout"
        },
        {
          "output_type": "stream",
          "text": [
            "\r 27%|██▋       | 268/1000 [08:51<24:18,  1.99s/it]"
          ],
          "name": "stderr"
        },
        {
          "output_type": "stream",
          "text": [
            "(267, 20)\n",
            "drive/My Drive/Colab Notebooks/spotify/input/tracks_sv/21rmnC2DMlDC3bAxnEzFnz.wav\n"
          ],
          "name": "stdout"
        },
        {
          "output_type": "stream",
          "text": [
            "\r 27%|██▋       | 269/1000 [08:53<24:37,  2.02s/it]"
          ],
          "name": "stderr"
        },
        {
          "output_type": "stream",
          "text": [
            "(268, 20)\n",
            "drive/My Drive/Colab Notebooks/spotify/input/tracks_sv/22aZD7yaGYfhgCYazL4nbc.wav\n"
          ],
          "name": "stdout"
        },
        {
          "output_type": "stream",
          "text": [
            "\r 27%|██▋       | 270/1000 [08:55<24:46,  2.04s/it]"
          ],
          "name": "stderr"
        },
        {
          "output_type": "stream",
          "text": [
            "(269, 20)\n",
            "drive/My Drive/Colab Notebooks/spotify/input/tracks_sv/23VkJhoXjUWNBKNfAH1iOw.wav\n"
          ],
          "name": "stdout"
        },
        {
          "output_type": "stream",
          "text": [
            "\r 27%|██▋       | 271/1000 [08:57<24:17,  2.00s/it]"
          ],
          "name": "stderr"
        },
        {
          "output_type": "stream",
          "text": [
            "(270, 20)\n",
            "drive/My Drive/Colab Notebooks/spotify/input/tracks_sv/23atyJacJVHvB9RHBNhr35.wav\n"
          ],
          "name": "stdout"
        },
        {
          "output_type": "stream",
          "text": [
            "\r 27%|██▋       | 272/1000 [08:59<23:59,  1.98s/it]"
          ],
          "name": "stderr"
        },
        {
          "output_type": "stream",
          "text": [
            "(271, 20)\n",
            "drive/My Drive/Colab Notebooks/spotify/input/tracks_sv/23fzJFfYBDMLO7FbwR9HME.wav\n"
          ],
          "name": "stdout"
        },
        {
          "output_type": "stream",
          "text": [
            "\r 27%|██▋       | 273/1000 [09:01<24:05,  1.99s/it]"
          ],
          "name": "stderr"
        },
        {
          "output_type": "stream",
          "text": [
            "(272, 20)\n",
            "drive/My Drive/Colab Notebooks/spotify/input/tracks_sv/23s5IySxOHA6stnoS1yBLQ.wav\n"
          ],
          "name": "stdout"
        },
        {
          "output_type": "stream",
          "text": [
            "\r 27%|██▋       | 274/1000 [09:03<23:56,  1.98s/it]"
          ],
          "name": "stderr"
        },
        {
          "output_type": "stream",
          "text": [
            "(273, 20)\n",
            "drive/My Drive/Colab Notebooks/spotify/input/tracks_sv/23uQiOQOedghJ4Jmwp5zLa.wav\n"
          ],
          "name": "stdout"
        },
        {
          "output_type": "stream",
          "text": [
            "\r 28%|██▊       | 275/1000 [09:05<23:49,  1.97s/it]"
          ],
          "name": "stderr"
        },
        {
          "output_type": "stream",
          "text": [
            "(274, 20)\n",
            "drive/My Drive/Colab Notebooks/spotify/input/tracks_sv/23xQDJNhu2KFaz2oscslaE.wav\n"
          ],
          "name": "stdout"
        },
        {
          "output_type": "stream",
          "text": [
            "\r 28%|██▊       | 276/1000 [09:07<24:35,  2.04s/it]"
          ],
          "name": "stderr"
        },
        {
          "output_type": "stream",
          "text": [
            "(275, 20)\n",
            "drive/My Drive/Colab Notebooks/spotify/input/tracks_sv/24BG2nboedaLDaTZ7WmY2R.wav\n"
          ],
          "name": "stdout"
        },
        {
          "output_type": "stream",
          "text": [
            "\r 28%|██▊       | 277/1000 [09:09<24:15,  2.01s/it]"
          ],
          "name": "stderr"
        },
        {
          "output_type": "stream",
          "text": [
            "(276, 20)\n",
            "drive/My Drive/Colab Notebooks/spotify/input/tracks_sv/24BhYE4GTnDoVnzmNJVwEe.wav\n"
          ],
          "name": "stdout"
        },
        {
          "output_type": "stream",
          "text": [
            "\r 28%|██▊       | 278/1000 [09:11<24:21,  2.02s/it]"
          ],
          "name": "stderr"
        },
        {
          "output_type": "stream",
          "text": [
            "(277, 20)\n",
            "drive/My Drive/Colab Notebooks/spotify/input/tracks_sv/24WOKllIT2yySSqtcTFmMf.wav\n"
          ],
          "name": "stdout"
        },
        {
          "output_type": "stream",
          "text": [
            "\r 28%|██▊       | 279/1000 [09:13<23:52,  1.99s/it]"
          ],
          "name": "stderr"
        },
        {
          "output_type": "stream",
          "text": [
            "(278, 20)\n",
            "drive/My Drive/Colab Notebooks/spotify/input/tracks_sv/26GW1dAtZ9Ya1GB7bbB9aO.wav\n"
          ],
          "name": "stdout"
        },
        {
          "output_type": "stream",
          "text": [
            "\r 28%|██▊       | 280/1000 [09:15<23:34,  1.96s/it]"
          ],
          "name": "stderr"
        },
        {
          "output_type": "stream",
          "text": [
            "(279, 20)\n",
            "drive/My Drive/Colab Notebooks/spotify/input/tracks_sv/26kZBhPe4OpH8uq4luJaTb.wav\n"
          ],
          "name": "stdout"
        },
        {
          "output_type": "stream",
          "text": [
            "\r 28%|██▊       | 281/1000 [09:17<23:12,  1.94s/it]"
          ],
          "name": "stderr"
        },
        {
          "output_type": "stream",
          "text": [
            "(280, 20)\n",
            "drive/My Drive/Colab Notebooks/spotify/input/tracks_sv/278JqkBGkjDovOYAwE8TW7.wav\n"
          ],
          "name": "stdout"
        },
        {
          "output_type": "stream",
          "text": [
            "\r 28%|██▊       | 282/1000 [09:19<22:57,  1.92s/it]"
          ],
          "name": "stderr"
        },
        {
          "output_type": "stream",
          "text": [
            "(281, 20)\n",
            "drive/My Drive/Colab Notebooks/spotify/input/tracks_sv/27ZIwGuQ4dapegDtkDF421.wav\n"
          ],
          "name": "stdout"
        },
        {
          "output_type": "stream",
          "text": [
            "\r 28%|██▊       | 283/1000 [09:21<22:48,  1.91s/it]"
          ],
          "name": "stderr"
        },
        {
          "output_type": "stream",
          "text": [
            "(282, 20)\n",
            "drive/My Drive/Colab Notebooks/spotify/input/tracks_sv/27vc4a30zJQ04Cg1YYLapp.wav\n"
          ],
          "name": "stdout"
        },
        {
          "output_type": "stream",
          "text": [
            "\r 28%|██▊       | 284/1000 [09:23<22:41,  1.90s/it]"
          ],
          "name": "stderr"
        },
        {
          "output_type": "stream",
          "text": [
            "(283, 20)\n",
            "drive/My Drive/Colab Notebooks/spotify/input/tracks_sv/28QP3jpaBPGgKKH4x3y5Dg.wav\n"
          ],
          "name": "stdout"
        },
        {
          "output_type": "stream",
          "text": [
            "\r 28%|██▊       | 285/1000 [09:25<22:37,  1.90s/it]"
          ],
          "name": "stderr"
        },
        {
          "output_type": "stream",
          "text": [
            "(284, 20)\n",
            "drive/My Drive/Colab Notebooks/spotify/input/tracks_sv/28qbKNucYvPU1QaMAPkeSC.wav\n"
          ],
          "name": "stdout"
        },
        {
          "output_type": "stream",
          "text": [
            "\r 29%|██▊       | 286/1000 [09:27<22:55,  1.93s/it]"
          ],
          "name": "stderr"
        },
        {
          "output_type": "stream",
          "text": [
            "(285, 20)\n",
            "drive/My Drive/Colab Notebooks/spotify/input/tracks_sv/28wIgY0xdgV5P4bzE9oQUS.wav\n"
          ],
          "name": "stdout"
        },
        {
          "output_type": "stream",
          "text": [
            "\r 29%|██▊       | 287/1000 [09:28<22:49,  1.92s/it]"
          ],
          "name": "stderr"
        },
        {
          "output_type": "stream",
          "text": [
            "(286, 20)\n",
            "drive/My Drive/Colab Notebooks/spotify/input/tracks_sv/296KL1ypxKWHl4Pw9dYvsC.wav\n"
          ],
          "name": "stdout"
        },
        {
          "output_type": "stream",
          "text": [
            "\r 29%|██▉       | 288/1000 [09:30<22:49,  1.92s/it]"
          ],
          "name": "stderr"
        },
        {
          "output_type": "stream",
          "text": [
            "(287, 20)\n",
            "drive/My Drive/Colab Notebooks/spotify/input/tracks_sv/296hhXjbt43FQe30TvlZTE.wav\n"
          ],
          "name": "stdout"
        },
        {
          "output_type": "stream",
          "text": [
            "\r 29%|██▉       | 289/1000 [09:32<22:58,  1.94s/it]"
          ],
          "name": "stderr"
        },
        {
          "output_type": "stream",
          "text": [
            "(288, 20)\n",
            "drive/My Drive/Colab Notebooks/spotify/input/tracks_sv/2A0t0Cgbb6PA5JJqBXRMgJ.wav\n"
          ],
          "name": "stdout"
        },
        {
          "output_type": "stream",
          "text": [
            "\r 29%|██▉       | 290/1000 [09:35<27:16,  2.30s/it]"
          ],
          "name": "stderr"
        },
        {
          "output_type": "stream",
          "text": [
            "(289, 20)\n",
            "drive/My Drive/Colab Notebooks/spotify/input/tracks_sv/2A0zCiphI5e6Vxat20qyEv.wav\n"
          ],
          "name": "stdout"
        },
        {
          "output_type": "stream",
          "text": [
            "\r 29%|██▉       | 291/1000 [09:38<26:21,  2.23s/it]"
          ],
          "name": "stderr"
        },
        {
          "output_type": "stream",
          "text": [
            "(290, 20)\n",
            "drive/My Drive/Colab Notebooks/spotify/input/tracks_sv/2A4LsIB13iw8GQFu7EcxSt.wav\n"
          ],
          "name": "stdout"
        },
        {
          "output_type": "stream",
          "text": [
            "\r 29%|██▉       | 292/1000 [09:40<26:24,  2.24s/it]"
          ],
          "name": "stderr"
        },
        {
          "output_type": "stream",
          "text": [
            "(291, 20)\n",
            "drive/My Drive/Colab Notebooks/spotify/input/tracks_sv/2AVA9gTyJsZaan4PcsNHSn.wav\n"
          ],
          "name": "stdout"
        },
        {
          "output_type": "stream",
          "text": [
            "\r 29%|██▉       | 293/1000 [09:42<25:31,  2.17s/it]"
          ],
          "name": "stderr"
        },
        {
          "output_type": "stream",
          "text": [
            "(292, 20)\n",
            "drive/My Drive/Colab Notebooks/spotify/input/tracks_sv/2B2Hmy4HkO0ihxmfrtYZwi.wav\n"
          ],
          "name": "stdout"
        },
        {
          "output_type": "stream",
          "text": [
            "\r 29%|██▉       | 294/1000 [09:44<25:07,  2.14s/it]"
          ],
          "name": "stderr"
        },
        {
          "output_type": "stream",
          "text": [
            "(293, 20)\n",
            "drive/My Drive/Colab Notebooks/spotify/input/tracks_sv/2BM4k1nxxuR1hmxoOB4d9x.wav\n"
          ],
          "name": "stdout"
        },
        {
          "output_type": "stream",
          "text": [
            "\r 30%|██▉       | 295/1000 [09:46<24:22,  2.08s/it]"
          ],
          "name": "stderr"
        },
        {
          "output_type": "stream",
          "text": [
            "(294, 20)\n",
            "drive/My Drive/Colab Notebooks/spotify/input/tracks_sv/2DMHUE1Inway1eCAaq4Vua.wav\n"
          ],
          "name": "stdout"
        },
        {
          "output_type": "stream",
          "text": [
            "\r 30%|██▉       | 296/1000 [09:48<23:48,  2.03s/it]"
          ],
          "name": "stderr"
        },
        {
          "output_type": "stream",
          "text": [
            "(295, 20)\n",
            "drive/My Drive/Colab Notebooks/spotify/input/tracks_sv/2EtscG8xGvOITpTS3O9DuF.wav\n"
          ],
          "name": "stdout"
        },
        {
          "output_type": "stream",
          "text": [
            "\r 30%|██▉       | 297/1000 [09:50<23:21,  1.99s/it]"
          ],
          "name": "stderr"
        },
        {
          "output_type": "stream",
          "text": [
            "(296, 20)\n",
            "drive/My Drive/Colab Notebooks/spotify/input/tracks_sv/2F8nES9LUn51YRuIEKYacn.wav\n"
          ],
          "name": "stdout"
        },
        {
          "output_type": "stream",
          "text": [
            "\r 30%|██▉       | 298/1000 [09:52<23:11,  1.98s/it]"
          ],
          "name": "stderr"
        },
        {
          "output_type": "stream",
          "text": [
            "(297, 20)\n",
            "drive/My Drive/Colab Notebooks/spotify/input/tracks_sv/2F94go6ibyV0VSw3ovWIEc.wav\n"
          ],
          "name": "stdout"
        },
        {
          "output_type": "stream",
          "text": [
            "\r 30%|██▉       | 299/1000 [09:54<23:22,  2.00s/it]"
          ],
          "name": "stderr"
        },
        {
          "output_type": "stream",
          "text": [
            "(298, 20)\n",
            "drive/My Drive/Colab Notebooks/spotify/input/tracks_sv/2FMRNbqsLkzZIMP1zXYp3f.wav\n"
          ],
          "name": "stdout"
        },
        {
          "output_type": "stream",
          "text": [
            "\r 30%|███       | 300/1000 [09:56<24:06,  2.07s/it]"
          ],
          "name": "stderr"
        },
        {
          "output_type": "stream",
          "text": [
            "(299, 20)\n",
            "drive/My Drive/Colab Notebooks/spotify/input/tracks_sv/2GLp1Arz4ZtihdjdL9m80W.wav\n"
          ],
          "name": "stdout"
        },
        {
          "output_type": "stream",
          "text": [
            "\r 30%|███       | 301/1000 [09:58<23:28,  2.01s/it]"
          ],
          "name": "stderr"
        },
        {
          "output_type": "stream",
          "text": [
            "(300, 20)\n",
            "drive/My Drive/Colab Notebooks/spotify/input/tracks_sv/2GcMsWWplrmVUOpjZJGwoZ.wav\n"
          ],
          "name": "stdout"
        },
        {
          "output_type": "stream",
          "text": [
            "\r 30%|███       | 302/1000 [10:00<22:57,  1.97s/it]"
          ],
          "name": "stderr"
        },
        {
          "output_type": "stream",
          "text": [
            "(301, 20)\n",
            "drive/My Drive/Colab Notebooks/spotify/input/tracks_sv/2GlOmBRGlF9B2ylosoYRim.wav\n"
          ],
          "name": "stdout"
        },
        {
          "output_type": "stream",
          "text": [
            "\r 30%|███       | 303/1000 [10:02<22:48,  1.96s/it]"
          ],
          "name": "stderr"
        },
        {
          "output_type": "stream",
          "text": [
            "(302, 20)\n",
            "drive/My Drive/Colab Notebooks/spotify/input/tracks_sv/2H3bOGOE50qEo5wAYoJiwL.wav\n"
          ],
          "name": "stdout"
        },
        {
          "output_type": "stream",
          "text": [
            "\r 30%|███       | 304/1000 [10:04<23:41,  2.04s/it]"
          ],
          "name": "stderr"
        },
        {
          "output_type": "stream",
          "text": [
            "(303, 20)\n",
            "drive/My Drive/Colab Notebooks/spotify/input/tracks_sv/2HIpmjJfeKVwkXgbT3vwqi.wav\n"
          ],
          "name": "stdout"
        },
        {
          "output_type": "stream",
          "text": [
            "\r 30%|███       | 305/1000 [10:06<23:14,  2.01s/it]"
          ],
          "name": "stderr"
        },
        {
          "output_type": "stream",
          "text": [
            "(304, 20)\n",
            "drive/My Drive/Colab Notebooks/spotify/input/tracks_sv/2IPqNqkVIs2BHdwNys44lY.wav\n"
          ],
          "name": "stdout"
        },
        {
          "output_type": "stream",
          "text": [
            "\r 31%|███       | 306/1000 [10:08<24:05,  2.08s/it]"
          ],
          "name": "stderr"
        },
        {
          "output_type": "stream",
          "text": [
            "(305, 20)\n",
            "drive/My Drive/Colab Notebooks/spotify/input/tracks_sv/2IzJEUmIJS1Q9sPTcqEkvF.wav\n"
          ],
          "name": "stdout"
        },
        {
          "output_type": "stream",
          "text": [
            "\r 31%|███       | 307/1000 [10:10<23:36,  2.04s/it]"
          ],
          "name": "stderr"
        },
        {
          "output_type": "stream",
          "text": [
            "(306, 20)\n",
            "drive/My Drive/Colab Notebooks/spotify/input/tracks_sv/2JMRKnYT49Mw1eKqYPaKOA.wav\n"
          ],
          "name": "stdout"
        },
        {
          "output_type": "stream",
          "text": [
            "\r 31%|███       | 308/1000 [10:12<23:12,  2.01s/it]"
          ],
          "name": "stderr"
        },
        {
          "output_type": "stream",
          "text": [
            "(307, 20)\n",
            "drive/My Drive/Colab Notebooks/spotify/input/tracks_sv/2KBEZQEPc5d0yl5WhPr26x.wav\n"
          ],
          "name": "stdout"
        },
        {
          "output_type": "stream",
          "text": [
            "\r 31%|███       | 309/1000 [10:14<22:52,  1.99s/it]"
          ],
          "name": "stderr"
        },
        {
          "output_type": "stream",
          "text": [
            "(308, 20)\n",
            "drive/My Drive/Colab Notebooks/spotify/input/tracks_sv/2KPWD6wisEBH2CS2vzJEkB.wav\n"
          ],
          "name": "stdout"
        },
        {
          "output_type": "stream",
          "text": [
            "\r 31%|███       | 310/1000 [10:16<22:33,  1.96s/it]"
          ],
          "name": "stderr"
        },
        {
          "output_type": "stream",
          "text": [
            "(309, 20)\n",
            "drive/My Drive/Colab Notebooks/spotify/input/tracks_sv/2KjcakFuQw4uYwgJnGU5Iy.wav\n"
          ],
          "name": "stdout"
        },
        {
          "output_type": "stream",
          "text": [
            "\r 31%|███       | 311/1000 [10:18<22:13,  1.94s/it]"
          ],
          "name": "stderr"
        },
        {
          "output_type": "stream",
          "text": [
            "(310, 20)\n",
            "drive/My Drive/Colab Notebooks/spotify/input/tracks_sv/2L9dBaAmQ5qydXHSz8bN96.wav\n"
          ],
          "name": "stdout"
        },
        {
          "output_type": "stream",
          "text": [
            "\r 31%|███       | 312/1000 [10:20<22:12,  1.94s/it]"
          ],
          "name": "stderr"
        },
        {
          "output_type": "stream",
          "text": [
            "(311, 20)\n",
            "drive/My Drive/Colab Notebooks/spotify/input/tracks_sv/2LGAEjv5kVW69reMF7Qmeh.wav\n"
          ],
          "name": "stdout"
        },
        {
          "output_type": "stream",
          "text": [
            "\r 31%|███▏      | 313/1000 [10:22<22:48,  1.99s/it]"
          ],
          "name": "stderr"
        },
        {
          "output_type": "stream",
          "text": [
            "(312, 20)\n",
            "drive/My Drive/Colab Notebooks/spotify/input/tracks_sv/2LTD3HZawOhBaj0je219aA.wav\n"
          ],
          "name": "stdout"
        },
        {
          "output_type": "stream",
          "text": [
            "\r 31%|███▏      | 314/1000 [10:24<22:27,  1.96s/it]"
          ],
          "name": "stderr"
        },
        {
          "output_type": "stream",
          "text": [
            "(313, 20)\n",
            "drive/My Drive/Colab Notebooks/spotify/input/tracks_sv/2Ma2rfgMwGVOCGNECYp1Er.wav\n"
          ],
          "name": "stdout"
        },
        {
          "output_type": "stream",
          "text": [
            "\r 32%|███▏      | 315/1000 [10:26<23:28,  2.06s/it]"
          ],
          "name": "stderr"
        },
        {
          "output_type": "stream",
          "text": [
            "(314, 20)\n",
            "drive/My Drive/Colab Notebooks/spotify/input/tracks_sv/2MbrVxNKpsg0bu9LMlPiri.wav\n"
          ],
          "name": "stdout"
        },
        {
          "output_type": "stream",
          "text": [
            "\r 32%|███▏      | 316/1000 [10:28<22:52,  2.01s/it]"
          ],
          "name": "stderr"
        },
        {
          "output_type": "stream",
          "text": [
            "(315, 20)\n",
            "drive/My Drive/Colab Notebooks/spotify/input/tracks_sv/2OCtw3vaD0urZuYOeuNw4V.wav\n"
          ],
          "name": "stdout"
        },
        {
          "output_type": "stream",
          "text": [
            "\r 32%|███▏      | 317/1000 [10:30<22:41,  1.99s/it]"
          ],
          "name": "stderr"
        },
        {
          "output_type": "stream",
          "text": [
            "(316, 20)\n",
            "drive/My Drive/Colab Notebooks/spotify/input/tracks_sv/2OTMaSpL6re81Z1mL9RSb6.wav\n"
          ],
          "name": "stdout"
        },
        {
          "output_type": "stream",
          "text": [
            "\r 32%|███▏      | 318/1000 [10:32<22:20,  1.97s/it]"
          ],
          "name": "stderr"
        },
        {
          "output_type": "stream",
          "text": [
            "(317, 20)\n",
            "drive/My Drive/Colab Notebooks/spotify/input/tracks_sv/2OaZsIyIo3wPvysXYpGGcF.wav\n"
          ],
          "name": "stdout"
        },
        {
          "output_type": "stream",
          "text": [
            "\r 32%|███▏      | 319/1000 [10:34<23:01,  2.03s/it]"
          ],
          "name": "stderr"
        },
        {
          "output_type": "stream",
          "text": [
            "(318, 20)\n",
            "drive/My Drive/Colab Notebooks/spotify/input/tracks_sv/2PeCrMLUayMPZnLZPkJxOJ.wav\n"
          ],
          "name": "stdout"
        },
        {
          "output_type": "stream",
          "text": [
            "\r 32%|███▏      | 320/1000 [10:36<23:38,  2.09s/it]"
          ],
          "name": "stderr"
        },
        {
          "output_type": "stream",
          "text": [
            "(319, 20)\n",
            "drive/My Drive/Colab Notebooks/spotify/input/tracks_sv/2PtVVsedFFTzyl3KdZgfDE.wav\n"
          ],
          "name": "stdout"
        },
        {
          "output_type": "stream",
          "text": [
            "\r 32%|███▏      | 321/1000 [10:38<23:00,  2.03s/it]"
          ],
          "name": "stderr"
        },
        {
          "output_type": "stream",
          "text": [
            "(320, 20)\n",
            "drive/My Drive/Colab Notebooks/spotify/input/tracks_sv/2PwOOgg8PavBNIWsPLIkr3.wav\n"
          ],
          "name": "stdout"
        },
        {
          "output_type": "stream",
          "text": [
            "\r 32%|███▏      | 322/1000 [10:40<22:27,  1.99s/it]"
          ],
          "name": "stderr"
        },
        {
          "output_type": "stream",
          "text": [
            "(321, 20)\n",
            "drive/My Drive/Colab Notebooks/spotify/input/tracks_sv/2Q2xgTPY9PpBIEM6UlW1gM.wav\n"
          ],
          "name": "stdout"
        },
        {
          "output_type": "stream",
          "text": [
            "\r 32%|███▏      | 323/1000 [10:42<23:48,  2.11s/it]"
          ],
          "name": "stderr"
        },
        {
          "output_type": "stream",
          "text": [
            "(322, 20)\n",
            "drive/My Drive/Colab Notebooks/spotify/input/tracks_sv/2QQMR6Mo3QHtzyg7FcPH79.wav\n"
          ],
          "name": "stdout"
        },
        {
          "output_type": "stream",
          "text": [
            "\r 32%|███▏      | 324/1000 [10:44<23:36,  2.09s/it]"
          ],
          "name": "stderr"
        },
        {
          "output_type": "stream",
          "text": [
            "(323, 20)\n",
            "drive/My Drive/Colab Notebooks/spotify/input/tracks_sv/2R3Sw7x7TZn9vAkcAbZvus.wav\n"
          ],
          "name": "stdout"
        },
        {
          "output_type": "stream",
          "text": [
            "\r 32%|███▎      | 325/1000 [10:46<23:26,  2.08s/it]"
          ],
          "name": "stderr"
        },
        {
          "output_type": "stream",
          "text": [
            "(324, 20)\n",
            "drive/My Drive/Colab Notebooks/spotify/input/tracks_sv/2RW1HOGoXSEMGUfqhCfinE.wav\n"
          ],
          "name": "stdout"
        },
        {
          "output_type": "stream",
          "text": [
            "\r 33%|███▎      | 326/1000 [10:50<27:41,  2.47s/it]"
          ],
          "name": "stderr"
        },
        {
          "output_type": "stream",
          "text": [
            "(325, 20)\n",
            "drive/My Drive/Colab Notebooks/spotify/input/tracks_sv/2SJAhpAZZLKYIWWu7S2idS.wav\n"
          ],
          "name": "stdout"
        },
        {
          "output_type": "stream",
          "text": [
            "\r 33%|███▎      | 327/1000 [10:52<26:39,  2.38s/it]"
          ],
          "name": "stderr"
        },
        {
          "output_type": "stream",
          "text": [
            "(326, 20)\n",
            "drive/My Drive/Colab Notebooks/spotify/input/tracks_sv/2SdXNiI9ny1WunIx4A7Bjg.wav\n"
          ],
          "name": "stdout"
        },
        {
          "output_type": "stream",
          "text": [
            "\r 33%|███▎      | 328/1000 [10:54<25:04,  2.24s/it]"
          ],
          "name": "stderr"
        },
        {
          "output_type": "stream",
          "text": [
            "(327, 20)\n",
            "drive/My Drive/Colab Notebooks/spotify/input/tracks_sv/2TPfHxwvW133V94KlTxzno.wav\n"
          ],
          "name": "stdout"
        },
        {
          "output_type": "stream",
          "text": [
            "\r 33%|███▎      | 329/1000 [10:56<25:00,  2.24s/it]"
          ],
          "name": "stderr"
        },
        {
          "output_type": "stream",
          "text": [
            "(328, 20)\n",
            "drive/My Drive/Colab Notebooks/spotify/input/tracks_sv/2U0RKuknHTQPIuKw2gDTHI.wav\n"
          ],
          "name": "stdout"
        },
        {
          "output_type": "stream",
          "text": [
            "\r 33%|███▎      | 330/1000 [10:58<23:48,  2.13s/it]"
          ],
          "name": "stderr"
        },
        {
          "output_type": "stream",
          "text": [
            "(329, 20)\n",
            "drive/My Drive/Colab Notebooks/spotify/input/tracks_sv/2U5ZwR2qdRfwRUmBsUBwOi.wav\n"
          ],
          "name": "stdout"
        },
        {
          "output_type": "stream",
          "text": [
            "\r 33%|███▎      | 331/1000 [11:00<23:42,  2.13s/it]"
          ],
          "name": "stderr"
        },
        {
          "output_type": "stream",
          "text": [
            "(330, 20)\n",
            "drive/My Drive/Colab Notebooks/spotify/input/tracks_sv/2UM4ucGnzbD1bp0G67xkj7.wav\n"
          ],
          "name": "stdout"
        },
        {
          "output_type": "stream",
          "text": [
            "\r 33%|███▎      | 332/1000 [11:02<23:58,  2.15s/it]"
          ],
          "name": "stderr"
        },
        {
          "output_type": "stream",
          "text": [
            "(331, 20)\n",
            "drive/My Drive/Colab Notebooks/spotify/input/tracks_sv/2Vpw980lvmxOodIW51cMnJ.wav\n"
          ],
          "name": "stdout"
        },
        {
          "output_type": "stream",
          "text": [
            "\r 33%|███▎      | 333/1000 [11:04<23:04,  2.08s/it]"
          ],
          "name": "stderr"
        },
        {
          "output_type": "stream",
          "text": [
            "(332, 20)\n",
            "drive/My Drive/Colab Notebooks/spotify/input/tracks_sv/2WyKYQD4jFhHwJfWCVM8yc.wav\n"
          ],
          "name": "stdout"
        },
        {
          "output_type": "stream",
          "text": [
            "\r 33%|███▎      | 334/1000 [11:06<22:25,  2.02s/it]"
          ],
          "name": "stderr"
        },
        {
          "output_type": "stream",
          "text": [
            "(333, 20)\n",
            "drive/My Drive/Colab Notebooks/spotify/input/tracks_sv/2YyI6tBurS8dCVhdPkpZp3.wav\n"
          ],
          "name": "stdout"
        },
        {
          "output_type": "stream",
          "text": [
            "\r 34%|███▎      | 335/1000 [11:08<22:05,  1.99s/it]"
          ],
          "name": "stderr"
        },
        {
          "output_type": "stream",
          "text": [
            "(334, 20)\n",
            "drive/My Drive/Colab Notebooks/spotify/input/tracks_sv/2YzaZOU7UCEV1IzAC0dQq8.wav\n"
          ],
          "name": "stdout"
        },
        {
          "output_type": "stream",
          "text": [
            "\r 34%|███▎      | 336/1000 [11:10<21:50,  1.97s/it]"
          ],
          "name": "stderr"
        },
        {
          "output_type": "stream",
          "text": [
            "(335, 20)\n",
            "drive/My Drive/Colab Notebooks/spotify/input/tracks_sv/2ZCkl705ROXLgLtXXKhBp2.wav\n"
          ],
          "name": "stdout"
        },
        {
          "output_type": "stream",
          "text": [
            "\r 34%|███▎      | 337/1000 [11:12<21:42,  1.96s/it]"
          ],
          "name": "stderr"
        },
        {
          "output_type": "stream",
          "text": [
            "(336, 20)\n",
            "drive/My Drive/Colab Notebooks/spotify/input/tracks_sv/2ZQdj815zFC7lKTYQqjhSZ.wav\n"
          ],
          "name": "stdout"
        },
        {
          "output_type": "stream",
          "text": [
            "\r 34%|███▍      | 338/1000 [11:14<21:32,  1.95s/it]"
          ],
          "name": "stderr"
        },
        {
          "output_type": "stream",
          "text": [
            "(337, 20)\n",
            "drive/My Drive/Colab Notebooks/spotify/input/tracks_sv/2ZcOr5lHz4qY7b177BINul.wav\n"
          ],
          "name": "stdout"
        },
        {
          "output_type": "stream",
          "text": [
            "\r 34%|███▍      | 339/1000 [11:16<21:21,  1.94s/it]"
          ],
          "name": "stderr"
        },
        {
          "output_type": "stream",
          "text": [
            "(338, 20)\n",
            "drive/My Drive/Colab Notebooks/spotify/input/tracks_sv/2ZuuKApsUqQYW13eXQua9E.wav\n"
          ],
          "name": "stdout"
        },
        {
          "output_type": "stream",
          "text": [
            "\r 34%|███▍      | 340/1000 [11:18<21:21,  1.94s/it]"
          ],
          "name": "stderr"
        },
        {
          "output_type": "stream",
          "text": [
            "(339, 20)\n",
            "drive/My Drive/Colab Notebooks/spotify/input/tracks_sv/2aIpLgMBgRTAeNh8ys2AH0.wav\n"
          ],
          "name": "stdout"
        },
        {
          "output_type": "stream",
          "text": [
            "\r 34%|███▍      | 341/1000 [11:20<22:03,  2.01s/it]"
          ],
          "name": "stderr"
        },
        {
          "output_type": "stream",
          "text": [
            "(340, 20)\n",
            "drive/My Drive/Colab Notebooks/spotify/input/tracks_sv/2blM0SIqgptXPpCan2lGXh.wav\n"
          ],
          "name": "stdout"
        },
        {
          "output_type": "stream",
          "text": [
            "\r 34%|███▍      | 342/1000 [11:22<21:38,  1.97s/it]"
          ],
          "name": "stderr"
        },
        {
          "output_type": "stream",
          "text": [
            "(341, 20)\n",
            "drive/My Drive/Colab Notebooks/spotify/input/tracks_sv/2cKiHG16JBiqHdi7Llq0r7.wav\n"
          ],
          "name": "stdout"
        },
        {
          "output_type": "stream",
          "text": [
            "\r 34%|███▍      | 343/1000 [11:25<26:25,  2.41s/it]"
          ],
          "name": "stderr"
        },
        {
          "output_type": "stream",
          "text": [
            "(342, 20)\n",
            "drive/My Drive/Colab Notebooks/spotify/input/tracks_sv/2dI6l4P1ihOIDrp38yZuhC.wav\n"
          ],
          "name": "stdout"
        },
        {
          "output_type": "stream",
          "text": [
            "\r 34%|███▍      | 344/1000 [11:27<24:38,  2.25s/it]"
          ],
          "name": "stderr"
        },
        {
          "output_type": "stream",
          "text": [
            "(343, 20)\n",
            "drive/My Drive/Colab Notebooks/spotify/input/tracks_sv/2dQ4alICWrgs9gyYUOWlEg.wav\n"
          ],
          "name": "stdout"
        },
        {
          "output_type": "stream",
          "text": [
            "\r 34%|███▍      | 345/1000 [11:29<23:48,  2.18s/it]"
          ],
          "name": "stderr"
        },
        {
          "output_type": "stream",
          "text": [
            "(344, 20)\n",
            "drive/My Drive/Colab Notebooks/spotify/input/tracks_sv/2dZP7UEXGIvn1HXgfWFA3Z.wav\n"
          ],
          "name": "stdout"
        },
        {
          "output_type": "stream",
          "text": [
            "\r 35%|███▍      | 346/1000 [11:31<22:52,  2.10s/it]"
          ],
          "name": "stderr"
        },
        {
          "output_type": "stream",
          "text": [
            "(345, 20)\n",
            "drive/My Drive/Colab Notebooks/spotify/input/tracks_sv/2eBIaTAW8i8Q7GMotWojdH.wav\n"
          ],
          "name": "stdout"
        },
        {
          "output_type": "stream",
          "text": [
            "\r 35%|███▍      | 347/1000 [11:33<22:31,  2.07s/it]"
          ],
          "name": "stderr"
        },
        {
          "output_type": "stream",
          "text": [
            "(346, 20)\n",
            "drive/My Drive/Colab Notebooks/spotify/input/tracks_sv/2f53pWAc7NAdOWeHYcroxX.wav\n"
          ],
          "name": "stdout"
        },
        {
          "output_type": "stream",
          "text": [
            "\r 35%|███▍      | 348/1000 [11:35<22:12,  2.04s/it]"
          ],
          "name": "stderr"
        },
        {
          "output_type": "stream",
          "text": [
            "(347, 20)\n",
            "drive/My Drive/Colab Notebooks/spotify/input/tracks_sv/2f5lu9ArgqYPcMtQ5kGGwe.wav\n"
          ],
          "name": "stdout"
        },
        {
          "output_type": "stream",
          "text": [
            "\r 35%|███▍      | 349/1000 [11:37<21:42,  2.00s/it]"
          ],
          "name": "stderr"
        },
        {
          "output_type": "stream",
          "text": [
            "(348, 20)\n",
            "drive/My Drive/Colab Notebooks/spotify/input/tracks_sv/2fGCcf4H4MFITMMPquu2f9.wav\n"
          ],
          "name": "stdout"
        },
        {
          "output_type": "stream",
          "text": [
            "\r 35%|███▌      | 350/1000 [11:39<21:16,  1.96s/it]"
          ],
          "name": "stderr"
        },
        {
          "output_type": "stream",
          "text": [
            "(349, 20)\n",
            "drive/My Drive/Colab Notebooks/spotify/input/tracks_sv/2fUq6dltKy0EP9pV976nQH.wav\n"
          ],
          "name": "stdout"
        },
        {
          "output_type": "stream",
          "text": [
            "\r 35%|███▌      | 351/1000 [11:41<21:26,  1.98s/it]"
          ],
          "name": "stderr"
        },
        {
          "output_type": "stream",
          "text": [
            "(350, 20)\n",
            "drive/My Drive/Colab Notebooks/spotify/input/tracks_sv/2gSQoIbvF2hDfIayhF7QLa.wav\n"
          ],
          "name": "stdout"
        },
        {
          "output_type": "stream",
          "text": [
            "\r 35%|███▌      | 352/1000 [11:43<22:08,  2.05s/it]"
          ],
          "name": "stderr"
        },
        {
          "output_type": "stream",
          "text": [
            "(351, 20)\n",
            "drive/My Drive/Colab Notebooks/spotify/input/tracks_sv/2ggw0Py9eptisSvB1xkgkc.wav\n"
          ],
          "name": "stdout"
        },
        {
          "output_type": "stream",
          "text": [
            "\r 35%|███▌      | 353/1000 [11:45<21:41,  2.01s/it]"
          ],
          "name": "stderr"
        },
        {
          "output_type": "stream",
          "text": [
            "(352, 20)\n",
            "drive/My Drive/Colab Notebooks/spotify/input/tracks_sv/2gzApyJhCWVdTRxL9HB1EO.wav\n"
          ],
          "name": "stdout"
        },
        {
          "output_type": "stream",
          "text": [
            "\r 35%|███▌      | 354/1000 [11:47<21:15,  1.97s/it]"
          ],
          "name": "stderr"
        },
        {
          "output_type": "stream",
          "text": [
            "(353, 20)\n",
            "drive/My Drive/Colab Notebooks/spotify/input/tracks_sv/2i5oDo54orHsdiktTAuvFl.wav\n"
          ],
          "name": "stdout"
        },
        {
          "output_type": "stream",
          "text": [
            "\r 36%|███▌      | 355/1000 [11:49<20:57,  1.95s/it]"
          ],
          "name": "stderr"
        },
        {
          "output_type": "stream",
          "text": [
            "(354, 20)\n",
            "drive/My Drive/Colab Notebooks/spotify/input/tracks_sv/2i6yll6tD5VVPcZidxa1xu.wav\n"
          ],
          "name": "stdout"
        },
        {
          "output_type": "stream",
          "text": [
            "\r 36%|███▌      | 356/1000 [11:50<20:49,  1.94s/it]"
          ],
          "name": "stderr"
        },
        {
          "output_type": "stream",
          "text": [
            "(355, 20)\n",
            "drive/My Drive/Colab Notebooks/spotify/input/tracks_sv/2i9TJAX6zyvj9kpzDZoG1v.wav\n"
          ],
          "name": "stdout"
        },
        {
          "output_type": "stream",
          "text": [
            "\r 36%|███▌      | 357/1000 [11:52<20:55,  1.95s/it]"
          ],
          "name": "stderr"
        },
        {
          "output_type": "stream",
          "text": [
            "(356, 20)\n",
            "drive/My Drive/Colab Notebooks/spotify/input/tracks_sv/2iNwXpajcXzBFq1vTM8aMR.wav\n"
          ],
          "name": "stdout"
        },
        {
          "output_type": "stream",
          "text": [
            "\r 36%|███▌      | 358/1000 [11:54<20:40,  1.93s/it]"
          ],
          "name": "stderr"
        },
        {
          "output_type": "stream",
          "text": [
            "(357, 20)\n",
            "drive/My Drive/Colab Notebooks/spotify/input/tracks_sv/2iQeswvPmr9pAlBjx6Ilyb.wav\n"
          ],
          "name": "stdout"
        },
        {
          "output_type": "stream",
          "text": [
            "\r 36%|███▌      | 359/1000 [11:56<20:28,  1.92s/it]"
          ],
          "name": "stderr"
        },
        {
          "output_type": "stream",
          "text": [
            "(358, 20)\n",
            "drive/My Drive/Colab Notebooks/spotify/input/tracks_sv/2iXZA6Ecf9AZHw92tZBNLv.wav\n"
          ],
          "name": "stdout"
        },
        {
          "output_type": "stream",
          "text": [
            "\r 36%|███▌      | 360/1000 [11:58<20:16,  1.90s/it]"
          ],
          "name": "stderr"
        },
        {
          "output_type": "stream",
          "text": [
            "(359, 20)\n",
            "drive/My Drive/Colab Notebooks/spotify/input/tracks_sv/2im8jqte4utp2s1ZI52OFv.wav\n"
          ],
          "name": "stdout"
        },
        {
          "output_type": "stream",
          "text": [
            "\r 36%|███▌      | 361/1000 [12:00<21:03,  1.98s/it]"
          ],
          "name": "stderr"
        },
        {
          "output_type": "stream",
          "text": [
            "(360, 20)\n",
            "drive/My Drive/Colab Notebooks/spotify/input/tracks_sv/2j11iOMPFYnTfqc4Ku2dbh.wav\n"
          ],
          "name": "stdout"
        },
        {
          "output_type": "stream",
          "text": [
            " 36%|███▋      | 363/1000 [12:02<15:02,  1.42s/it]"
          ],
          "name": "stderr"
        },
        {
          "output_type": "stream",
          "text": [
            "(361, 20)\n",
            "drive/My Drive/Colab Notebooks/spotify/input/tracks_sv/2j4tvLun1exAnExCkjzAfM.wav\n",
            "drive/My Drive/Colab Notebooks/spotify/input/tracks_sv/2j4tvLun1exAnExCkjzAfM.wavhas loading error!\n",
            "(362, 20)\n",
            "drive/My Drive/Colab Notebooks/spotify/input/tracks_sv/2jwzmMGP79rMAxWNetsoCL.wav\n"
          ],
          "name": "stdout"
        },
        {
          "output_type": "stream",
          "text": [
            "\r 36%|███▋      | 364/1000 [12:04<16:40,  1.57s/it]"
          ],
          "name": "stderr"
        },
        {
          "output_type": "stream",
          "text": [
            "(363, 20)\n",
            "drive/My Drive/Colab Notebooks/spotify/input/tracks_sv/2kIp7nX8XEKvkluP0GYnYY.wav\n"
          ],
          "name": "stdout"
        },
        {
          "output_type": "stream",
          "text": [
            "\r 36%|███▋      | 365/1000 [12:06<17:44,  1.68s/it]"
          ],
          "name": "stderr"
        },
        {
          "output_type": "stream",
          "text": [
            "(364, 20)\n",
            "drive/My Drive/Colab Notebooks/spotify/input/tracks_sv/2kajcwb8P2UBvPAD2QjFl5.wav\n"
          ],
          "name": "stdout"
        },
        {
          "output_type": "stream",
          "text": [
            "\r 37%|███▋      | 366/1000 [12:08<19:03,  1.80s/it]"
          ],
          "name": "stderr"
        },
        {
          "output_type": "stream",
          "text": [
            "(365, 20)\n",
            "drive/My Drive/Colab Notebooks/spotify/input/tracks_sv/2myzCVDwfwvDzEEmGwMNBN.wav\n"
          ],
          "name": "stdout"
        },
        {
          "output_type": "stream",
          "text": [
            "\r 37%|███▋      | 367/1000 [12:10<19:20,  1.83s/it]"
          ],
          "name": "stderr"
        },
        {
          "output_type": "stream",
          "text": [
            "(366, 20)\n",
            "drive/My Drive/Colab Notebooks/spotify/input/tracks_sv/2oLFvIUF0qfyLybZwQOPUe.wav\n"
          ],
          "name": "stdout"
        },
        {
          "output_type": "stream",
          "text": [
            "\r 37%|███▋      | 368/1000 [12:12<19:44,  1.87s/it]"
          ],
          "name": "stderr"
        },
        {
          "output_type": "stream",
          "text": [
            "(367, 20)\n",
            "drive/My Drive/Colab Notebooks/spotify/input/tracks_sv/2oxGW884ZesJ179yK2ggsd.wav\n"
          ],
          "name": "stdout"
        },
        {
          "output_type": "stream",
          "text": [
            "\r 37%|███▋      | 369/1000 [12:14<19:48,  1.88s/it]"
          ],
          "name": "stderr"
        },
        {
          "output_type": "stream",
          "text": [
            "(368, 20)\n",
            "drive/My Drive/Colab Notebooks/spotify/input/tracks_sv/2p4BoXg0Km9NUY9lIzpjWo.wav\n"
          ],
          "name": "stdout"
        },
        {
          "output_type": "stream",
          "text": [
            "\r 37%|███▋      | 370/1000 [12:16<20:29,  1.95s/it]"
          ],
          "name": "stderr"
        },
        {
          "output_type": "stream",
          "text": [
            "(369, 20)\n",
            "drive/My Drive/Colab Notebooks/spotify/input/tracks_sv/2pI6Avig0HNZGsZ777MKXM.wav\n"
          ],
          "name": "stdout"
        },
        {
          "output_type": "stream",
          "text": [
            "\r 37%|███▋      | 371/1000 [12:18<20:27,  1.95s/it]"
          ],
          "name": "stderr"
        },
        {
          "output_type": "stream",
          "text": [
            "(370, 20)\n",
            "drive/My Drive/Colab Notebooks/spotify/input/tracks_sv/2pRDePLZ711P88ixSfkYuS.wav\n"
          ],
          "name": "stdout"
        },
        {
          "output_type": "stream",
          "text": [
            "\r 37%|███▋      | 372/1000 [12:20<20:22,  1.95s/it]"
          ],
          "name": "stderr"
        },
        {
          "output_type": "stream",
          "text": [
            "(371, 20)\n",
            "drive/My Drive/Colab Notebooks/spotify/input/tracks_sv/2rGjXDGNs1AWlPBzuLJefN.wav\n"
          ],
          "name": "stdout"
        },
        {
          "output_type": "stream",
          "text": [
            "\r 37%|███▋      | 373/1000 [12:22<20:12,  1.93s/it]"
          ],
          "name": "stderr"
        },
        {
          "output_type": "stream",
          "text": [
            "(372, 20)\n",
            "drive/My Drive/Colab Notebooks/spotify/input/tracks_sv/2rKsRZo4RlZCYrOlNr1f4n.wav\n"
          ],
          "name": "stdout"
        },
        {
          "output_type": "stream",
          "text": [
            "\r 37%|███▋      | 374/1000 [12:24<19:58,  1.91s/it]"
          ],
          "name": "stderr"
        },
        {
          "output_type": "stream",
          "text": [
            "(373, 20)\n",
            "drive/My Drive/Colab Notebooks/spotify/input/tracks_sv/2rVEb3f1HldrmaMUIgbMiM.wav\n"
          ],
          "name": "stdout"
        },
        {
          "output_type": "stream",
          "text": [
            "\r 38%|███▊      | 375/1000 [12:26<19:53,  1.91s/it]"
          ],
          "name": "stderr"
        },
        {
          "output_type": "stream",
          "text": [
            "(374, 20)\n",
            "drive/My Drive/Colab Notebooks/spotify/input/tracks_sv/2ruHYPN3a77Ra8WvvPyfwb.wav\n"
          ],
          "name": "stdout"
        },
        {
          "output_type": "stream",
          "text": [
            "\r 38%|███▊      | 376/1000 [12:28<19:47,  1.90s/it]"
          ],
          "name": "stderr"
        },
        {
          "output_type": "stream",
          "text": [
            "(375, 20)\n",
            "drive/My Drive/Colab Notebooks/spotify/input/tracks_sv/2tHQgtm46XngnOFgATFJWM.wav\n"
          ],
          "name": "stdout"
        },
        {
          "output_type": "stream",
          "text": [
            "\r 38%|███▊      | 377/1000 [12:29<19:46,  1.90s/it]"
          ],
          "name": "stderr"
        },
        {
          "output_type": "stream",
          "text": [
            "(376, 20)\n",
            "drive/My Drive/Colab Notebooks/spotify/input/tracks_sv/2tgWF9EZzqiq4Qzdzeow1A.wav\n"
          ],
          "name": "stdout"
        },
        {
          "output_type": "stream",
          "text": [
            "\r 38%|███▊      | 378/1000 [12:32<20:23,  1.97s/it]"
          ],
          "name": "stderr"
        },
        {
          "output_type": "stream",
          "text": [
            "(377, 20)\n",
            "drive/My Drive/Colab Notebooks/spotify/input/tracks_sv/2tnX0ZvYBMRQbSetHscqAP.wav\n"
          ],
          "name": "stdout"
        },
        {
          "output_type": "stream",
          "text": [
            "\r 38%|███▊      | 379/1000 [12:34<21:14,  2.05s/it]"
          ],
          "name": "stderr"
        },
        {
          "output_type": "stream",
          "text": [
            "(378, 20)\n",
            "drive/My Drive/Colab Notebooks/spotify/input/tracks_sv/2ttzli3A7SOXUvMv69xEKs.wav\n"
          ],
          "name": "stdout"
        },
        {
          "output_type": "stream",
          "text": [
            "\r 38%|███▊      | 380/1000 [12:36<20:49,  2.02s/it]"
          ],
          "name": "stderr"
        },
        {
          "output_type": "stream",
          "text": [
            "(379, 20)\n",
            "drive/My Drive/Colab Notebooks/spotify/input/tracks_sv/2u1Po5gK2GOHipcOt36EJ3.wav\n"
          ],
          "name": "stdout"
        },
        {
          "output_type": "stream",
          "text": [
            "\r 38%|███▊      | 381/1000 [12:38<20:28,  1.98s/it]"
          ],
          "name": "stderr"
        },
        {
          "output_type": "stream",
          "text": [
            "(380, 20)\n",
            "drive/My Drive/Colab Notebooks/spotify/input/tracks_sv/2uJ2C2eQY1EwHWxhCffSlx.wav\n"
          ],
          "name": "stdout"
        },
        {
          "output_type": "stream",
          "text": [
            "\r 38%|███▊      | 382/1000 [12:40<20:13,  1.96s/it]"
          ],
          "name": "stderr"
        },
        {
          "output_type": "stream",
          "text": [
            "(381, 20)\n",
            "drive/My Drive/Colab Notebooks/spotify/input/tracks_sv/2uZO9HX0ShlPjTnn7LCCWd.wav\n"
          ],
          "name": "stdout"
        },
        {
          "output_type": "stream",
          "text": [
            "\r 38%|███▊      | 383/1000 [12:42<20:25,  1.99s/it]"
          ],
          "name": "stderr"
        },
        {
          "output_type": "stream",
          "text": [
            "(382, 20)\n",
            "drive/My Drive/Colab Notebooks/spotify/input/tracks_sv/2uibf6FnhL7cpcqsAuBBNf.wav\n"
          ],
          "name": "stdout"
        },
        {
          "output_type": "stream",
          "text": [
            "\r 38%|███▊      | 384/1000 [12:44<20:09,  1.96s/it]"
          ],
          "name": "stderr"
        },
        {
          "output_type": "stream",
          "text": [
            "(383, 20)\n",
            "drive/My Drive/Colab Notebooks/spotify/input/tracks_sv/2urQz0oHV4icwbBDa6GYmA.wav\n"
          ],
          "name": "stdout"
        },
        {
          "output_type": "stream",
          "text": [
            "\r 38%|███▊      | 385/1000 [12:45<19:55,  1.94s/it]"
          ],
          "name": "stderr"
        },
        {
          "output_type": "stream",
          "text": [
            "(384, 20)\n",
            "drive/My Drive/Colab Notebooks/spotify/input/tracks_sv/2vESvd6dRvfd0HjKV8vQ9R.wav\n"
          ],
          "name": "stdout"
        },
        {
          "output_type": "stream",
          "text": [
            "\r 39%|███▊      | 386/1000 [12:47<20:01,  1.96s/it]"
          ],
          "name": "stderr"
        },
        {
          "output_type": "stream",
          "text": [
            "(385, 20)\n",
            "drive/My Drive/Colab Notebooks/spotify/input/tracks_sv/2vOeE2Uh2UDG5jow8F2WQ9.wav\n"
          ],
          "name": "stdout"
        },
        {
          "output_type": "stream",
          "text": [
            "\r 39%|███▊      | 387/1000 [12:49<19:47,  1.94s/it]"
          ],
          "name": "stderr"
        },
        {
          "output_type": "stream",
          "text": [
            "(386, 20)\n",
            "drive/My Drive/Colab Notebooks/spotify/input/tracks_sv/2vXuVpGXqIXF6KB2jeWhXI.wav\n"
          ],
          "name": "stdout"
        },
        {
          "output_type": "stream",
          "text": [
            "\r 39%|███▉      | 388/1000 [12:51<19:34,  1.92s/it]"
          ],
          "name": "stderr"
        },
        {
          "output_type": "stream",
          "text": [
            "(387, 20)\n",
            "drive/My Drive/Colab Notebooks/spotify/input/tracks_sv/2vkY3IcpPmRSbC6r9Apspw.wav\n"
          ],
          "name": "stdout"
        },
        {
          "output_type": "stream",
          "text": [
            "\r 39%|███▉      | 389/1000 [12:53<19:27,  1.91s/it]"
          ],
          "name": "stderr"
        },
        {
          "output_type": "stream",
          "text": [
            "(388, 20)\n",
            "drive/My Drive/Colab Notebooks/spotify/input/tracks_sv/2wolXstn4T2gdlaQKcG7pS.wav\n"
          ],
          "name": "stdout"
        },
        {
          "output_type": "stream",
          "text": [
            "\r 39%|███▉      | 390/1000 [12:55<19:44,  1.94s/it]"
          ],
          "name": "stderr"
        },
        {
          "output_type": "stream",
          "text": [
            "(389, 20)\n",
            "drive/My Drive/Colab Notebooks/spotify/input/tracks_sv/2xD9nEfXbHxa5nVXQjHb33.wav\n"
          ],
          "name": "stdout"
        },
        {
          "output_type": "stream",
          "text": [
            "\r 39%|███▉      | 391/1000 [12:57<19:36,  1.93s/it]"
          ],
          "name": "stderr"
        },
        {
          "output_type": "stream",
          "text": [
            "(390, 20)\n",
            "drive/My Drive/Colab Notebooks/spotify/input/tracks_sv/2xtvVD3Ym2CRh7dV0NHacK.wav\n"
          ],
          "name": "stdout"
        },
        {
          "output_type": "stream",
          "text": [
            "\r 39%|███▉      | 392/1000 [12:59<19:22,  1.91s/it]"
          ],
          "name": "stderr"
        },
        {
          "output_type": "stream",
          "text": [
            "(391, 20)\n",
            "drive/My Drive/Colab Notebooks/spotify/input/tracks_sv/2y3xoWRbl23ZfVc7nM7rQO.wav\n"
          ],
          "name": "stdout"
        },
        {
          "output_type": "stream",
          "text": [
            "\r 39%|███▉      | 393/1000 [13:01<19:19,  1.91s/it]"
          ],
          "name": "stderr"
        },
        {
          "output_type": "stream",
          "text": [
            "(392, 20)\n",
            "drive/My Drive/Colab Notebooks/spotify/input/tracks_sv/2yozZfRYHP7Elsymghu5t3.wav\n"
          ],
          "name": "stdout"
        },
        {
          "output_type": "stream",
          "text": [
            "\r 39%|███▉      | 394/1000 [13:03<19:18,  1.91s/it]"
          ],
          "name": "stderr"
        },
        {
          "output_type": "stream",
          "text": [
            "(393, 20)\n",
            "drive/My Drive/Colab Notebooks/spotify/input/tracks_sv/2zQvXBathQUvQPLKl9ra8P.wav\n"
          ],
          "name": "stdout"
        },
        {
          "output_type": "stream",
          "text": [
            "\r 40%|███▉      | 395/1000 [13:05<19:50,  1.97s/it]"
          ],
          "name": "stderr"
        },
        {
          "output_type": "stream",
          "text": [
            "(394, 20)\n",
            "drive/My Drive/Colab Notebooks/spotify/input/tracks_sv/309EElyk6QFrJu9MMbz52k.wav\n"
          ],
          "name": "stdout"
        },
        {
          "output_type": "stream",
          "text": [
            "\r 40%|███▉      | 396/1000 [13:07<19:48,  1.97s/it]"
          ],
          "name": "stderr"
        },
        {
          "output_type": "stream",
          "text": [
            "(395, 20)\n",
            "drive/My Drive/Colab Notebooks/spotify/input/tracks_sv/30hzxa3MaRd2XXB6kXGlPh.wav\n"
          ],
          "name": "stdout"
        },
        {
          "output_type": "stream",
          "text": [
            "\r 40%|███▉      | 397/1000 [13:09<19:42,  1.96s/it]"
          ],
          "name": "stderr"
        },
        {
          "output_type": "stream",
          "text": [
            "(396, 20)\n",
            "drive/My Drive/Colab Notebooks/spotify/input/tracks_sv/32THUNL57330TYg9eBkLAX.wav\n"
          ],
          "name": "stdout"
        },
        {
          "output_type": "stream",
          "text": [
            "\r 40%|███▉      | 398/1000 [13:11<19:30,  1.94s/it]"
          ],
          "name": "stderr"
        },
        {
          "output_type": "stream",
          "text": [
            "(397, 20)\n",
            "drive/My Drive/Colab Notebooks/spotify/input/tracks_sv/33NfPE6285Ef2nSrFSn88N.wav\n"
          ],
          "name": "stdout"
        },
        {
          "output_type": "stream",
          "text": [
            "\r 40%|███▉      | 399/1000 [13:12<19:19,  1.93s/it]"
          ],
          "name": "stderr"
        },
        {
          "output_type": "stream",
          "text": [
            "(398, 20)\n",
            "drive/My Drive/Colab Notebooks/spotify/input/tracks_sv/34s49nvRfQy1kzx7DBqVRC.wav\n"
          ],
          "name": "stdout"
        },
        {
          "output_type": "stream",
          "text": [
            "\r 40%|████      | 400/1000 [13:15<19:36,  1.96s/it]"
          ],
          "name": "stderr"
        },
        {
          "output_type": "stream",
          "text": [
            "(399, 20)\n",
            "drive/My Drive/Colab Notebooks/spotify/input/tracks_sv/34zQpV511YhoQjhueyKG7B.wav\n"
          ],
          "name": "stdout"
        },
        {
          "output_type": "stream",
          "text": [
            "\r 40%|████      | 401/1000 [13:17<19:50,  1.99s/it]"
          ],
          "name": "stderr"
        },
        {
          "output_type": "stream",
          "text": [
            "(400, 20)\n",
            "drive/My Drive/Colab Notebooks/spotify/input/tracks_sv/35u1HQH5grjygDHlmImpax.wav\n"
          ],
          "name": "stdout"
        },
        {
          "output_type": "stream",
          "text": [
            "\r 40%|████      | 402/1000 [13:19<20:13,  2.03s/it]"
          ],
          "name": "stderr"
        },
        {
          "output_type": "stream",
          "text": [
            "(401, 20)\n",
            "drive/My Drive/Colab Notebooks/spotify/input/tracks_sv/369Hij6w8bRwahCIlhYW5A.wav\n"
          ],
          "name": "stdout"
        },
        {
          "output_type": "stream",
          "text": [
            "\r 40%|████      | 403/1000 [13:21<19:56,  2.00s/it]"
          ],
          "name": "stderr"
        },
        {
          "output_type": "stream",
          "text": [
            "(402, 20)\n",
            "drive/My Drive/Colab Notebooks/spotify/input/tracks_sv/378EsxeP43WTpveXLfj4hh.wav\n"
          ],
          "name": "stdout"
        },
        {
          "output_type": "stream",
          "text": [
            "\r 40%|████      | 404/1000 [13:23<19:38,  1.98s/it]"
          ],
          "name": "stderr"
        },
        {
          "output_type": "stream",
          "text": [
            "(403, 20)\n",
            "drive/My Drive/Colab Notebooks/spotify/input/tracks_sv/37I06qdLBPJTsvCZl4kzYI.wav\n"
          ],
          "name": "stdout"
        },
        {
          "output_type": "stream",
          "text": [
            "\r 40%|████      | 405/1000 [13:25<19:33,  1.97s/it]"
          ],
          "name": "stderr"
        },
        {
          "output_type": "stream",
          "text": [
            "(404, 20)\n",
            "drive/My Drive/Colab Notebooks/spotify/input/tracks_sv/384jVNcJAiC2XGPMRnZj1H.wav\n"
          ],
          "name": "stdout"
        },
        {
          "output_type": "stream",
          "text": [
            "\r 41%|████      | 406/1000 [13:26<19:20,  1.95s/it]"
          ],
          "name": "stderr"
        },
        {
          "output_type": "stream",
          "text": [
            "(405, 20)\n",
            "drive/My Drive/Colab Notebooks/spotify/input/tracks_sv/39YVSEgOMIbTB6xghRf24x.wav\n"
          ],
          "name": "stdout"
        },
        {
          "output_type": "stream",
          "text": [
            "\r 41%|████      | 407/1000 [13:28<19:09,  1.94s/it]"
          ],
          "name": "stderr"
        },
        {
          "output_type": "stream",
          "text": [
            "(406, 20)\n",
            "drive/My Drive/Colab Notebooks/spotify/input/tracks_sv/39dwfO7nL89y7Uv7CYb6OD.wav\n"
          ],
          "name": "stdout"
        },
        {
          "output_type": "stream",
          "text": [
            "\r 41%|████      | 408/1000 [13:30<19:00,  1.93s/it]"
          ],
          "name": "stderr"
        },
        {
          "output_type": "stream",
          "text": [
            "(407, 20)\n",
            "drive/My Drive/Colab Notebooks/spotify/input/tracks_sv/39vePmrWVXcFn9jfIBxhw3.wav\n"
          ],
          "name": "stdout"
        },
        {
          "output_type": "stream",
          "text": [
            "\r 41%|████      | 409/1000 [13:33<20:24,  2.07s/it]"
          ],
          "name": "stderr"
        },
        {
          "output_type": "stream",
          "text": [
            "(408, 20)\n",
            "drive/My Drive/Colab Notebooks/spotify/input/tracks_sv/3A0VFRUxhqpJeOxo0rklqC.wav\n"
          ],
          "name": "stdout"
        },
        {
          "output_type": "stream",
          "text": [
            "\r 41%|████      | 410/1000 [13:35<20:01,  2.04s/it]"
          ],
          "name": "stderr"
        },
        {
          "output_type": "stream",
          "text": [
            "(409, 20)\n",
            "drive/My Drive/Colab Notebooks/spotify/input/tracks_sv/3AVLsBieDGotYuo5RPEL64.wav\n"
          ],
          "name": "stdout"
        },
        {
          "output_type": "stream",
          "text": [
            "\r 41%|████      | 411/1000 [13:37<19:49,  2.02s/it]"
          ],
          "name": "stderr"
        },
        {
          "output_type": "stream",
          "text": [
            "(410, 20)\n",
            "drive/My Drive/Colab Notebooks/spotify/input/tracks_sv/3Bxs8Kc7R6V4sE3gB2d5Xl.wav\n"
          ],
          "name": "stdout"
        },
        {
          "output_type": "stream",
          "text": [
            "\r 41%|████      | 412/1000 [13:39<19:51,  2.03s/it]"
          ],
          "name": "stderr"
        },
        {
          "output_type": "stream",
          "text": [
            "(411, 20)\n",
            "drive/My Drive/Colab Notebooks/spotify/input/tracks_sv/3CUMIkvvarUDjD5bVIWKl8.wav\n"
          ],
          "name": "stdout"
        },
        {
          "output_type": "stream",
          "text": [
            "\r 41%|████▏     | 413/1000 [13:41<19:24,  1.98s/it]"
          ],
          "name": "stderr"
        },
        {
          "output_type": "stream",
          "text": [
            "(412, 20)\n",
            "drive/My Drive/Colab Notebooks/spotify/input/tracks_sv/3DFCauuiiVYTEjxIPYIc3f.wav\n"
          ],
          "name": "stdout"
        },
        {
          "output_type": "stream",
          "text": [
            "\r 41%|████▏     | 414/1000 [13:42<19:06,  1.96s/it]"
          ],
          "name": "stderr"
        },
        {
          "output_type": "stream",
          "text": [
            "(413, 20)\n",
            "drive/My Drive/Colab Notebooks/spotify/input/tracks_sv/3DMz5XiVasCKSHXgYrSc9i.wav\n"
          ],
          "name": "stdout"
        },
        {
          "output_type": "stream",
          "text": [
            "\r 42%|████▏     | 415/1000 [13:44<19:01,  1.95s/it]"
          ],
          "name": "stderr"
        },
        {
          "output_type": "stream",
          "text": [
            "(414, 20)\n",
            "drive/My Drive/Colab Notebooks/spotify/input/tracks_sv/3DgBxV8oklNgwhnkfQNIdi.wav\n"
          ],
          "name": "stdout"
        },
        {
          "output_type": "stream",
          "text": [
            "\r 42%|████▏     | 416/1000 [13:46<19:34,  2.01s/it]"
          ],
          "name": "stderr"
        },
        {
          "output_type": "stream",
          "text": [
            "(415, 20)\n",
            "drive/My Drive/Colab Notebooks/spotify/input/tracks_sv/3F1sIT01dK5APMtHu5QJhz.wav\n"
          ],
          "name": "stdout"
        },
        {
          "output_type": "stream",
          "text": [
            "\r 42%|████▏     | 417/1000 [13:48<19:11,  1.97s/it]"
          ],
          "name": "stderr"
        },
        {
          "output_type": "stream",
          "text": [
            "(416, 20)\n",
            "drive/My Drive/Colab Notebooks/spotify/input/tracks_sv/3HUpfIdFGQ02XlDp1f2F8t.wav\n"
          ],
          "name": "stdout"
        },
        {
          "output_type": "stream",
          "text": [
            "\r 42%|████▏     | 418/1000 [13:50<19:24,  2.00s/it]"
          ],
          "name": "stderr"
        },
        {
          "output_type": "stream",
          "text": [
            "(417, 20)\n",
            "drive/My Drive/Colab Notebooks/spotify/input/tracks_sv/3HbyFbxDryIfoWrS6GXuBw.wav\n"
          ],
          "name": "stdout"
        },
        {
          "output_type": "stream",
          "text": [
            "\r 42%|████▏     | 419/1000 [13:52<19:13,  1.99s/it]"
          ],
          "name": "stderr"
        },
        {
          "output_type": "stream",
          "text": [
            "(418, 20)\n",
            "drive/My Drive/Colab Notebooks/spotify/input/tracks_sv/3HksEr55KOyDGjkWF8SFbh.wav\n"
          ],
          "name": "stdout"
        },
        {
          "output_type": "stream",
          "text": [
            "\r 42%|████▏     | 420/1000 [13:54<18:56,  1.96s/it]"
          ],
          "name": "stderr"
        },
        {
          "output_type": "stream",
          "text": [
            "(419, 20)\n",
            "drive/My Drive/Colab Notebooks/spotify/input/tracks_sv/3Iijc6o5OAik05xE2MTNHl.wav\n"
          ],
          "name": "stdout"
        },
        {
          "output_type": "stream",
          "text": [
            "\r 42%|████▏     | 421/1000 [13:56<18:45,  1.94s/it]"
          ],
          "name": "stderr"
        },
        {
          "output_type": "stream",
          "text": [
            "(420, 20)\n",
            "drive/My Drive/Colab Notebooks/spotify/input/tracks_sv/3JrxNi0sQ1Lnx8eGonp3Ma.wav\n"
          ],
          "name": "stdout"
        },
        {
          "output_type": "stream",
          "text": [
            "\r 42%|████▏     | 422/1000 [13:58<18:44,  1.95s/it]"
          ],
          "name": "stderr"
        },
        {
          "output_type": "stream",
          "text": [
            "(421, 20)\n",
            "drive/My Drive/Colab Notebooks/spotify/input/tracks_sv/3Kry3dqpeN4PoGRrC9NxAb.wav\n"
          ],
          "name": "stdout"
        },
        {
          "output_type": "stream",
          "text": [
            "\r 42%|████▏     | 423/1000 [14:00<19:19,  2.01s/it]"
          ],
          "name": "stderr"
        },
        {
          "output_type": "stream",
          "text": [
            "(422, 20)\n",
            "drive/My Drive/Colab Notebooks/spotify/input/tracks_sv/3L4Z5i8oVS0srXX5t6OBGr.wav\n"
          ],
          "name": "stdout"
        },
        {
          "output_type": "stream",
          "text": [
            "\r 42%|████▏     | 424/1000 [14:02<19:00,  1.98s/it]"
          ],
          "name": "stderr"
        },
        {
          "output_type": "stream",
          "text": [
            "(423, 20)\n",
            "drive/My Drive/Colab Notebooks/spotify/input/tracks_sv/3LPLfXuotB7yfXxK25YC7T.wav\n"
          ],
          "name": "stdout"
        },
        {
          "output_type": "stream",
          "text": [
            "\r 42%|████▎     | 425/1000 [14:04<18:50,  1.97s/it]"
          ],
          "name": "stderr"
        },
        {
          "output_type": "stream",
          "text": [
            "(424, 20)\n",
            "drive/My Drive/Colab Notebooks/spotify/input/tracks_sv/3Lt9AnanwwfU9KG1QmrOW4.wav\n"
          ],
          "name": "stdout"
        },
        {
          "output_type": "stream",
          "text": [
            "\r 43%|████▎     | 426/1000 [14:06<18:40,  1.95s/it]"
          ],
          "name": "stderr"
        },
        {
          "output_type": "stream",
          "text": [
            "(425, 20)\n",
            "drive/My Drive/Colab Notebooks/spotify/input/tracks_sv/3Mer4UWc9bqQCAl6zyHn63.wav\n"
          ],
          "name": "stdout"
        },
        {
          "output_type": "stream",
          "text": [
            "\r 43%|████▎     | 427/1000 [14:08<18:30,  1.94s/it]"
          ],
          "name": "stderr"
        },
        {
          "output_type": "stream",
          "text": [
            "(426, 20)\n",
            "drive/My Drive/Colab Notebooks/spotify/input/tracks_sv/3Od9KboHdqw7eJiR1jCwz7.wav\n"
          ],
          "name": "stdout"
        },
        {
          "output_type": "stream",
          "text": [
            "\r 43%|████▎     | 428/1000 [14:10<19:03,  2.00s/it]"
          ],
          "name": "stderr"
        },
        {
          "output_type": "stream",
          "text": [
            "(427, 20)\n",
            "drive/My Drive/Colab Notebooks/spotify/input/tracks_sv/3PBsyDUyJNvQouc1zzD9Ei.wav\n"
          ],
          "name": "stdout"
        },
        {
          "output_type": "stream",
          "text": [
            "\r 43%|████▎     | 429/1000 [14:12<18:58,  1.99s/it]"
          ],
          "name": "stderr"
        },
        {
          "output_type": "stream",
          "text": [
            "(428, 20)\n",
            "drive/My Drive/Colab Notebooks/spotify/input/tracks_sv/3PwyYPqtXM1WRy5HV6hICE.wav\n"
          ],
          "name": "stdout"
        },
        {
          "output_type": "stream",
          "text": [
            "\r 43%|████▎     | 430/1000 [14:14<18:45,  1.97s/it]"
          ],
          "name": "stderr"
        },
        {
          "output_type": "stream",
          "text": [
            "(429, 20)\n",
            "drive/My Drive/Colab Notebooks/spotify/input/tracks_sv/3ROII5AGBGpehdt7yN7VwD.wav\n"
          ],
          "name": "stdout"
        },
        {
          "output_type": "stream",
          "text": [
            "\r 43%|████▎     | 431/1000 [14:16<18:36,  1.96s/it]"
          ],
          "name": "stderr"
        },
        {
          "output_type": "stream",
          "text": [
            "(430, 20)\n",
            "drive/My Drive/Colab Notebooks/spotify/input/tracks_sv/3S3DDZrPOYTirleXRyHnNM.wav\n"
          ],
          "name": "stdout"
        },
        {
          "output_type": "stream",
          "text": [
            "\r 43%|████▎     | 432/1000 [14:18<18:29,  1.95s/it]"
          ],
          "name": "stderr"
        },
        {
          "output_type": "stream",
          "text": [
            "(431, 20)\n",
            "drive/My Drive/Colab Notebooks/spotify/input/tracks_sv/3SjtQBle9ChDYCjJzWQkaY.wav\n"
          ],
          "name": "stdout"
        },
        {
          "output_type": "stream",
          "text": [
            "\r 43%|████▎     | 433/1000 [14:20<18:34,  1.97s/it]"
          ],
          "name": "stderr"
        },
        {
          "output_type": "stream",
          "text": [
            "(432, 20)\n",
            "drive/My Drive/Colab Notebooks/spotify/input/tracks_sv/3Stp3sGkx3Gp8W58HxDxjA.wav\n"
          ],
          "name": "stdout"
        },
        {
          "output_type": "stream",
          "text": [
            "\r 43%|████▎     | 434/1000 [14:22<19:14,  2.04s/it]"
          ],
          "name": "stderr"
        },
        {
          "output_type": "stream",
          "text": [
            "(433, 20)\n",
            "drive/My Drive/Colab Notebooks/spotify/input/tracks_sv/3SvfMMAkNKJWwvTPQEvAto.wav\n"
          ],
          "name": "stdout"
        },
        {
          "output_type": "stream",
          "text": [
            "\r 44%|████▎     | 435/1000 [14:24<18:49,  2.00s/it]"
          ],
          "name": "stderr"
        },
        {
          "output_type": "stream",
          "text": [
            "(434, 20)\n",
            "drive/My Drive/Colab Notebooks/spotify/input/tracks_sv/3TKRAK52N5L8b9E82TC8eq.wav\n"
          ],
          "name": "stdout"
        },
        {
          "output_type": "stream",
          "text": [
            "\r 44%|████▎     | 436/1000 [14:26<18:33,  1.97s/it]"
          ],
          "name": "stderr"
        },
        {
          "output_type": "stream",
          "text": [
            "(435, 20)\n",
            "drive/My Drive/Colab Notebooks/spotify/input/tracks_sv/3Tw2WaAaeRj0YKtTUogJVz.wav\n"
          ],
          "name": "stdout"
        },
        {
          "output_type": "stream",
          "text": [
            "\r 44%|████▎     | 437/1000 [14:28<18:13,  1.94s/it]"
          ],
          "name": "stderr"
        },
        {
          "output_type": "stream",
          "text": [
            "(436, 20)\n",
            "drive/My Drive/Colab Notebooks/spotify/input/tracks_sv/3U1oxOCPWqP3iNesdGts2R.wav\n"
          ],
          "name": "stdout"
        },
        {
          "output_type": "stream",
          "text": [
            "\r 44%|████▍     | 438/1000 [14:30<18:06,  1.93s/it]"
          ],
          "name": "stderr"
        },
        {
          "output_type": "stream",
          "text": [
            "(437, 20)\n",
            "drive/My Drive/Colab Notebooks/spotify/input/tracks_sv/3U65fx7rlq4CnoEiDHfoES.wav\n"
          ],
          "name": "stdout"
        },
        {
          "output_type": "stream",
          "text": [
            "\r 44%|████▍     | 439/1000 [14:32<17:59,  1.92s/it]"
          ],
          "name": "stderr"
        },
        {
          "output_type": "stream",
          "text": [
            "(438, 20)\n",
            "drive/My Drive/Colab Notebooks/spotify/input/tracks_sv/3UAdH6a0WcbxSgrWQ2y0K8.wav\n"
          ],
          "name": "stdout"
        },
        {
          "output_type": "stream",
          "text": [
            "\r 44%|████▍     | 440/1000 [14:34<17:55,  1.92s/it]"
          ],
          "name": "stderr"
        },
        {
          "output_type": "stream",
          "text": [
            "(439, 20)\n",
            "drive/My Drive/Colab Notebooks/spotify/input/tracks_sv/3UI3U1mYSihv362nzPEMCP.wav\n"
          ],
          "name": "stdout"
        },
        {
          "output_type": "stream",
          "text": [
            "\r 44%|████▍     | 441/1000 [14:35<18:03,  1.94s/it]"
          ],
          "name": "stderr"
        },
        {
          "output_type": "stream",
          "text": [
            "(440, 20)\n",
            "drive/My Drive/Colab Notebooks/spotify/input/tracks_sv/3URpaOYix5RFWfSvbFMbyZ.wav\n"
          ],
          "name": "stdout"
        },
        {
          "output_type": "stream",
          "text": [
            "\r 44%|████▍     | 442/1000 [14:38<18:15,  1.96s/it]"
          ],
          "name": "stderr"
        },
        {
          "output_type": "stream",
          "text": [
            "(441, 20)\n",
            "drive/My Drive/Colab Notebooks/spotify/input/tracks_sv/3V1cA16e4yCbebAITF5sRb.wav\n"
          ],
          "name": "stdout"
        },
        {
          "output_type": "stream",
          "text": [
            "\r 44%|████▍     | 443/1000 [14:39<18:15,  1.97s/it]"
          ],
          "name": "stderr"
        },
        {
          "output_type": "stream",
          "text": [
            "(442, 20)\n",
            "drive/My Drive/Colab Notebooks/spotify/input/tracks_sv/3VESewT7ERH2wtE5OyuKWH.wav\n"
          ],
          "name": "stdout"
        },
        {
          "output_type": "stream",
          "text": [
            "\r 44%|████▍     | 444/1000 [14:42<18:47,  2.03s/it]"
          ],
          "name": "stderr"
        },
        {
          "output_type": "stream",
          "text": [
            "(443, 20)\n",
            "drive/My Drive/Colab Notebooks/spotify/input/tracks_sv/3Vcyge0Cog3IWiKWP9mycE.wav\n"
          ],
          "name": "stdout"
        },
        {
          "output_type": "stream",
          "text": [
            "\r 44%|████▍     | 445/1000 [14:44<18:40,  2.02s/it]"
          ],
          "name": "stderr"
        },
        {
          "output_type": "stream",
          "text": [
            "(444, 20)\n",
            "drive/My Drive/Colab Notebooks/spotify/input/tracks_sv/3WXfDfksGm2eArxmqgcSrb.wav\n"
          ],
          "name": "stdout"
        },
        {
          "output_type": "stream",
          "text": [
            "\r 45%|████▍     | 446/1000 [14:46<18:19,  1.99s/it]"
          ],
          "name": "stderr"
        },
        {
          "output_type": "stream",
          "text": [
            "(445, 20)\n",
            "drive/My Drive/Colab Notebooks/spotify/input/tracks_sv/3Wi7z7mZ8A8g5XLqLADweU.wav\n"
          ],
          "name": "stdout"
        },
        {
          "output_type": "stream",
          "text": [
            "\r 45%|████▍     | 447/1000 [14:47<18:00,  1.95s/it]"
          ],
          "name": "stderr"
        },
        {
          "output_type": "stream",
          "text": [
            "(446, 20)\n",
            "drive/My Drive/Colab Notebooks/spotify/input/tracks_sv/3XJdz1bsN53ULzKHhQoInk.wav\n"
          ],
          "name": "stdout"
        },
        {
          "output_type": "stream",
          "text": [
            "\r 45%|████▍     | 448/1000 [14:50<18:19,  1.99s/it]"
          ],
          "name": "stderr"
        },
        {
          "output_type": "stream",
          "text": [
            "(447, 20)\n",
            "drive/My Drive/Colab Notebooks/spotify/input/tracks_sv/3Z6Li4ySCGc1Cqjm2QU6qT.wav\n"
          ],
          "name": "stdout"
        },
        {
          "output_type": "stream",
          "text": [
            "\r 45%|████▍     | 449/1000 [14:52<18:58,  2.07s/it]"
          ],
          "name": "stderr"
        },
        {
          "output_type": "stream",
          "text": [
            "(448, 20)\n",
            "drive/My Drive/Colab Notebooks/spotify/input/tracks_sv/3ZKTwPyVDoDh8vRvyBcXvV.wav\n"
          ],
          "name": "stdout"
        },
        {
          "output_type": "stream",
          "text": [
            "\r 45%|████▌     | 450/1000 [14:54<18:25,  2.01s/it]"
          ],
          "name": "stderr"
        },
        {
          "output_type": "stream",
          "text": [
            "(449, 20)\n",
            "drive/My Drive/Colab Notebooks/spotify/input/tracks_sv/3ZW5MghuMy9jgr9VPBwxyn.wav\n"
          ],
          "name": "stdout"
        },
        {
          "output_type": "stream",
          "text": [
            "\r 45%|████▌     | 451/1000 [14:56<18:03,  1.97s/it]"
          ],
          "name": "stderr"
        },
        {
          "output_type": "stream",
          "text": [
            "(450, 20)\n",
            "drive/My Drive/Colab Notebooks/spotify/input/tracks_sv/3a2NRNrYTygApFhfDdvol5.wav\n"
          ],
          "name": "stdout"
        },
        {
          "output_type": "stream",
          "text": [
            "\r 45%|████▌     | 452/1000 [14:57<17:53,  1.96s/it]"
          ],
          "name": "stderr"
        },
        {
          "output_type": "stream",
          "text": [
            "(451, 20)\n",
            "drive/My Drive/Colab Notebooks/spotify/input/tracks_sv/3ajrKXemgopg06ol0PnSb9.wav\n"
          ],
          "name": "stdout"
        },
        {
          "output_type": "stream",
          "text": [
            "\r 45%|████▌     | 453/1000 [14:59<17:45,  1.95s/it]"
          ],
          "name": "stderr"
        },
        {
          "output_type": "stream",
          "text": [
            "(452, 20)\n",
            "drive/My Drive/Colab Notebooks/spotify/input/tracks_sv/3awymLmIrvn9lkJeFpmRSf.wav\n"
          ],
          "name": "stdout"
        },
        {
          "output_type": "stream",
          "text": [
            "\r 45%|████▌     | 454/1000 [15:01<17:36,  1.93s/it]"
          ],
          "name": "stderr"
        },
        {
          "output_type": "stream",
          "text": [
            "(453, 20)\n",
            "drive/My Drive/Colab Notebooks/spotify/input/tracks_sv/3ayTR482XA5dvsAiPU3di6.wav\n"
          ],
          "name": "stdout"
        },
        {
          "output_type": "stream",
          "text": [
            "\r 46%|████▌     | 455/1000 [15:03<17:57,  1.98s/it]"
          ],
          "name": "stderr"
        },
        {
          "output_type": "stream",
          "text": [
            "(454, 20)\n",
            "drive/My Drive/Colab Notebooks/spotify/input/tracks_sv/3bKTmEW4MK3Gg0IPesJSfF.wav\n"
          ],
          "name": "stdout"
        },
        {
          "output_type": "stream",
          "text": [
            "\r 46%|████▌     | 456/1000 [15:05<17:45,  1.96s/it]"
          ],
          "name": "stderr"
        },
        {
          "output_type": "stream",
          "text": [
            "(455, 20)\n",
            "drive/My Drive/Colab Notebooks/spotify/input/tracks_sv/3bSVMSV35vwdTnH6amox6o.wav\n"
          ],
          "name": "stdout"
        },
        {
          "output_type": "stream",
          "text": [
            "\r 46%|████▌     | 457/1000 [15:07<17:48,  1.97s/it]"
          ],
          "name": "stderr"
        },
        {
          "output_type": "stream",
          "text": [
            "(456, 20)\n",
            "drive/My Drive/Colab Notebooks/spotify/input/tracks_sv/3cL7lXa3QIPDSiWFbKEyke.wav\n"
          ],
          "name": "stdout"
        },
        {
          "output_type": "stream",
          "text": [
            "\r 46%|████▌     | 458/1000 [15:09<17:58,  1.99s/it]"
          ],
          "name": "stderr"
        },
        {
          "output_type": "stream",
          "text": [
            "(457, 20)\n",
            "drive/My Drive/Colab Notebooks/spotify/input/tracks_sv/3cLjbLRIwHYQTUZ6ormpCd.wav\n"
          ],
          "name": "stdout"
        },
        {
          "output_type": "stream",
          "text": [
            "\r 46%|████▌     | 459/1000 [15:11<18:24,  2.04s/it]"
          ],
          "name": "stderr"
        },
        {
          "output_type": "stream",
          "text": [
            "(458, 20)\n",
            "drive/My Drive/Colab Notebooks/spotify/input/tracks_sv/3cZq1rDxyYmkfzsPguX3fD.wav\n"
          ],
          "name": "stdout"
        },
        {
          "output_type": "stream",
          "text": [
            "\r 46%|████▌     | 460/1000 [15:13<18:02,  2.00s/it]"
          ],
          "name": "stderr"
        },
        {
          "output_type": "stream",
          "text": [
            "(459, 20)\n",
            "drive/My Drive/Colab Notebooks/spotify/input/tracks_sv/3ci0yvrzssec1bqDzMkXuu.wav\n"
          ],
          "name": "stdout"
        },
        {
          "output_type": "stream",
          "text": [
            "\r 46%|████▌     | 461/1000 [15:16<18:33,  2.07s/it]"
          ],
          "name": "stderr"
        },
        {
          "output_type": "stream",
          "text": [
            "(460, 20)\n",
            "drive/My Drive/Colab Notebooks/spotify/input/tracks_sv/3crxDMVtX8YNLwxoEePJSc.wav\n"
          ],
          "name": "stdout"
        },
        {
          "output_type": "stream",
          "text": [
            "\r 46%|████▌     | 462/1000 [15:18<18:06,  2.02s/it]"
          ],
          "name": "stderr"
        },
        {
          "output_type": "stream",
          "text": [
            "(461, 20)\n",
            "drive/My Drive/Colab Notebooks/spotify/input/tracks_sv/3fPTFUoEHKy93bP8lGDdLY.wav\n"
          ],
          "name": "stdout"
        },
        {
          "output_type": "stream",
          "text": [
            "\r 46%|████▋     | 463/1000 [15:19<17:54,  2.00s/it]"
          ],
          "name": "stderr"
        },
        {
          "output_type": "stream",
          "text": [
            "(462, 20)\n",
            "drive/My Drive/Colab Notebooks/spotify/input/tracks_sv/3fxaN9pj6g4crVCzMTqRd0.wav\n"
          ],
          "name": "stdout"
        },
        {
          "output_type": "stream",
          "text": [
            "\r 46%|████▋     | 464/1000 [15:21<17:40,  1.98s/it]"
          ],
          "name": "stderr"
        },
        {
          "output_type": "stream",
          "text": [
            "(463, 20)\n",
            "drive/My Drive/Colab Notebooks/spotify/input/tracks_sv/3fzCO5mdnxKvxOT03Ao0RI.wav\n"
          ],
          "name": "stdout"
        },
        {
          "output_type": "stream",
          "text": [
            "\r 46%|████▋     | 465/1000 [15:23<17:33,  1.97s/it]"
          ],
          "name": "stderr"
        },
        {
          "output_type": "stream",
          "text": [
            "(464, 20)\n",
            "drive/My Drive/Colab Notebooks/spotify/input/tracks_sv/3h5e4tpgR9q0cjQXzo8FMD.wav\n"
          ],
          "name": "stdout"
        },
        {
          "output_type": "stream",
          "text": [
            "\r 47%|████▋     | 466/1000 [15:25<17:46,  2.00s/it]"
          ],
          "name": "stderr"
        },
        {
          "output_type": "stream",
          "text": [
            "(465, 20)\n",
            "drive/My Drive/Colab Notebooks/spotify/input/tracks_sv/3hMIcOHAoWah28OYeRzw7N.wav\n"
          ],
          "name": "stdout"
        },
        {
          "output_type": "stream",
          "text": [
            "\r 47%|████▋     | 467/1000 [15:27<17:27,  1.97s/it]"
          ],
          "name": "stderr"
        },
        {
          "output_type": "stream",
          "text": [
            "(466, 20)\n",
            "drive/My Drive/Colab Notebooks/spotify/input/tracks_sv/3hRRYgBeunE3PTmnzATTS0.wav\n"
          ],
          "name": "stdout"
        },
        {
          "output_type": "stream",
          "text": [
            "\r 47%|████▋     | 468/1000 [15:29<17:13,  1.94s/it]"
          ],
          "name": "stderr"
        },
        {
          "output_type": "stream",
          "text": [
            "(467, 20)\n",
            "drive/My Drive/Colab Notebooks/spotify/input/tracks_sv/3hU894Qkl9nFw4XzN0WzvZ.wav\n"
          ],
          "name": "stdout"
        },
        {
          "output_type": "stream",
          "text": [
            "\r 47%|████▋     | 469/1000 [15:31<17:22,  1.96s/it]"
          ],
          "name": "stderr"
        },
        {
          "output_type": "stream",
          "text": [
            "(468, 20)\n",
            "drive/My Drive/Colab Notebooks/spotify/input/tracks_sv/3hdd3WJLagemc3ynu6LyKE.wav\n"
          ],
          "name": "stdout"
        },
        {
          "output_type": "stream",
          "text": [
            "\r 47%|████▋     | 470/1000 [15:33<17:15,  1.95s/it]"
          ],
          "name": "stderr"
        },
        {
          "output_type": "stream",
          "text": [
            "(469, 20)\n",
            "drive/My Drive/Colab Notebooks/spotify/input/tracks_sv/3hrplYBqjpNFQrdoOgRAPV.wav\n"
          ],
          "name": "stdout"
        },
        {
          "output_type": "stream",
          "text": [
            "\r 47%|████▋     | 471/1000 [15:35<17:03,  1.93s/it]"
          ],
          "name": "stderr"
        },
        {
          "output_type": "stream",
          "text": [
            "(470, 20)\n",
            "drive/My Drive/Colab Notebooks/spotify/input/tracks_sv/3iKJWOQJtENE3kFWMXh8JM.wav\n"
          ],
          "name": "stdout"
        },
        {
          "output_type": "stream",
          "text": [
            "\r 47%|████▋     | 472/1000 [15:37<16:55,  1.92s/it]"
          ],
          "name": "stderr"
        },
        {
          "output_type": "stream",
          "text": [
            "(471, 20)\n",
            "drive/My Drive/Colab Notebooks/spotify/input/tracks_sv/3irOIvVhzCCPeJ5j9TBceP.wav\n"
          ],
          "name": "stdout"
        },
        {
          "output_type": "stream",
          "text": [
            "\r 47%|████▋     | 473/1000 [15:39<17:28,  1.99s/it]"
          ],
          "name": "stderr"
        },
        {
          "output_type": "stream",
          "text": [
            "(472, 20)\n",
            "drive/My Drive/Colab Notebooks/spotify/input/tracks_sv/3jAjSQXOTgQDHjRtlvW6P6.wav\n"
          ],
          "name": "stdout"
        },
        {
          "output_type": "stream",
          "text": [
            "\r 47%|████▋     | 474/1000 [15:41<18:00,  2.05s/it]"
          ],
          "name": "stderr"
        },
        {
          "output_type": "stream",
          "text": [
            "(473, 20)\n",
            "drive/My Drive/Colab Notebooks/spotify/input/tracks_sv/3jEtk7Ecral0SfpTZRpAmN.wav\n"
          ],
          "name": "stdout"
        },
        {
          "output_type": "stream",
          "text": [
            "\r 48%|████▊     | 475/1000 [15:44<18:28,  2.11s/it]"
          ],
          "name": "stderr"
        },
        {
          "output_type": "stream",
          "text": [
            "(474, 20)\n",
            "drive/My Drive/Colab Notebooks/spotify/input/tracks_sv/3jqUXwQkxIKneVz1kUbE5D.wav\n"
          ],
          "name": "stdout"
        },
        {
          "output_type": "stream",
          "text": [
            "\r 48%|████▊     | 476/1000 [15:45<17:53,  2.05s/it]"
          ],
          "name": "stderr"
        },
        {
          "output_type": "stream",
          "text": [
            "(475, 20)\n",
            "drive/My Drive/Colab Notebooks/spotify/input/tracks_sv/3k7gn5SmwUW1yjem40Cm5s.wav\n"
          ],
          "name": "stdout"
        },
        {
          "output_type": "stream",
          "text": [
            "\r 48%|████▊     | 477/1000 [15:47<17:25,  2.00s/it]"
          ],
          "name": "stderr"
        },
        {
          "output_type": "stream",
          "text": [
            "(476, 20)\n",
            "drive/My Drive/Colab Notebooks/spotify/input/tracks_sv/3kZYsH7fjeButbFxeyCXIx.wav\n"
          ],
          "name": "stdout"
        },
        {
          "output_type": "stream",
          "text": [
            "\r 48%|████▊     | 478/1000 [15:49<17:23,  2.00s/it]"
          ],
          "name": "stderr"
        },
        {
          "output_type": "stream",
          "text": [
            "(477, 20)\n",
            "drive/My Drive/Colab Notebooks/spotify/input/tracks_sv/3lXRfEE4Zbq7jXXm7h0k5d.wav\n"
          ],
          "name": "stdout"
        },
        {
          "output_type": "stream",
          "text": [
            "\r 48%|████▊     | 479/1000 [15:52<18:28,  2.13s/it]"
          ],
          "name": "stderr"
        },
        {
          "output_type": "stream",
          "text": [
            "(478, 20)\n",
            "drive/My Drive/Colab Notebooks/spotify/input/tracks_sv/3lZOn52eWVvolCEsDKYKl6.wav\n"
          ],
          "name": "stdout"
        },
        {
          "output_type": "stream",
          "text": [
            "\r 48%|████▊     | 480/1000 [15:54<18:12,  2.10s/it]"
          ],
          "name": "stderr"
        },
        {
          "output_type": "stream",
          "text": [
            "(479, 20)\n",
            "drive/My Drive/Colab Notebooks/spotify/input/tracks_sv/3lmetbCuVpRCPSHyW1DxCg.wav\n"
          ],
          "name": "stdout"
        },
        {
          "output_type": "stream",
          "text": [
            "\r 48%|████▊     | 481/1000 [15:56<17:37,  2.04s/it]"
          ],
          "name": "stderr"
        },
        {
          "output_type": "stream",
          "text": [
            "(480, 20)\n",
            "drive/My Drive/Colab Notebooks/spotify/input/tracks_sv/3mGgLK9iDhtt5SxMlOND9u.wav\n"
          ],
          "name": "stdout"
        },
        {
          "output_type": "stream",
          "text": [
            "\r 48%|████▊     | 482/1000 [15:58<17:16,  2.00s/it]"
          ],
          "name": "stderr"
        },
        {
          "output_type": "stream",
          "text": [
            "(481, 20)\n",
            "drive/My Drive/Colab Notebooks/spotify/input/tracks_sv/3mS5wxn8XrBMcfxW0bnmiT.wav\n"
          ],
          "name": "stdout"
        },
        {
          "output_type": "stream",
          "text": [
            "\r 48%|████▊     | 483/1000 [15:59<16:53,  1.96s/it]"
          ],
          "name": "stderr"
        },
        {
          "output_type": "stream",
          "text": [
            "(482, 20)\n",
            "drive/My Drive/Colab Notebooks/spotify/input/tracks_sv/3mj7vEw5A8MQ35p8wFLvZc.wav\n"
          ],
          "name": "stdout"
        },
        {
          "output_type": "stream",
          "text": [
            "\r 48%|████▊     | 484/1000 [16:01<16:43,  1.94s/it]"
          ],
          "name": "stderr"
        },
        {
          "output_type": "stream",
          "text": [
            "(483, 20)\n",
            "drive/My Drive/Colab Notebooks/spotify/input/tracks_sv/3mmVyzaXFaRvZCJc79r0yB.wav\n"
          ],
          "name": "stdout"
        },
        {
          "output_type": "stream",
          "text": [
            "\r 48%|████▊     | 485/1000 [16:03<16:38,  1.94s/it]"
          ],
          "name": "stderr"
        },
        {
          "output_type": "stream",
          "text": [
            "(484, 20)\n",
            "drive/My Drive/Colab Notebooks/spotify/input/tracks_sv/3nD8q4dCCybzh5L3HU8PWH.wav\n"
          ],
          "name": "stdout"
        },
        {
          "output_type": "stream",
          "text": [
            "\r 49%|████▊     | 486/1000 [16:05<16:34,  1.93s/it]"
          ],
          "name": "stderr"
        },
        {
          "output_type": "stream",
          "text": [
            "(485, 20)\n",
            "drive/My Drive/Colab Notebooks/spotify/input/tracks_sv/3nQCJDXq3Msdi3c2ZN1pbK.wav\n"
          ],
          "name": "stdout"
        },
        {
          "output_type": "stream",
          "text": [
            "\r 49%|████▊     | 487/1000 [16:07<16:34,  1.94s/it]"
          ],
          "name": "stderr"
        },
        {
          "output_type": "stream",
          "text": [
            "(486, 20)\n",
            "drive/My Drive/Colab Notebooks/spotify/input/tracks_sv/3nYe3TNoETmeXkseSdnUFz.wav\n"
          ],
          "name": "stdout"
        },
        {
          "output_type": "stream",
          "text": [
            "\r 49%|████▉     | 488/1000 [16:09<16:48,  1.97s/it]"
          ],
          "name": "stderr"
        },
        {
          "output_type": "stream",
          "text": [
            "(487, 20)\n",
            "drive/My Drive/Colab Notebooks/spotify/input/tracks_sv/3nv98wBl1k2IcyIINyLMFx.wav\n"
          ],
          "name": "stdout"
        },
        {
          "output_type": "stream",
          "text": [
            "\r 49%|████▉     | 489/1000 [16:11<16:33,  1.94s/it]"
          ],
          "name": "stderr"
        },
        {
          "output_type": "stream",
          "text": [
            "(488, 20)\n",
            "drive/My Drive/Colab Notebooks/spotify/input/tracks_sv/3ouZoixdw9pSbIq8aHDh3V.wav\n"
          ],
          "name": "stdout"
        },
        {
          "output_type": "stream",
          "text": [
            "\r 49%|████▉     | 490/1000 [16:13<16:17,  1.92s/it]"
          ],
          "name": "stderr"
        },
        {
          "output_type": "stream",
          "text": [
            "(489, 20)\n",
            "drive/My Drive/Colab Notebooks/spotify/input/tracks_sv/3pwe5YS438tETO53DSfTnl.wav\n"
          ],
          "name": "stdout"
        },
        {
          "output_type": "stream",
          "text": [
            "\r 49%|████▉     | 491/1000 [16:15<16:15,  1.92s/it]"
          ],
          "name": "stderr"
        },
        {
          "output_type": "stream",
          "text": [
            "(490, 20)\n",
            "drive/My Drive/Colab Notebooks/spotify/input/tracks_sv/3qKs3zP6lWdBdzC2yWk9W2.wav\n"
          ],
          "name": "stdout"
        },
        {
          "output_type": "stream",
          "text": [
            "\r 49%|████▉     | 492/1000 [16:17<16:05,  1.90s/it]"
          ],
          "name": "stderr"
        },
        {
          "output_type": "stream",
          "text": [
            "(491, 20)\n",
            "drive/My Drive/Colab Notebooks/spotify/input/tracks_sv/3qmZlJRJjliV3a9LKRiIMT.wav\n"
          ],
          "name": "stdout"
        },
        {
          "output_type": "stream",
          "text": [
            "\r 49%|████▉     | 493/1000 [16:19<16:02,  1.90s/it]"
          ],
          "name": "stderr"
        },
        {
          "output_type": "stream",
          "text": [
            "(492, 20)\n",
            "drive/My Drive/Colab Notebooks/spotify/input/tracks_sv/3r6Am8NvUDbuS2Yqv76ivi.wav\n"
          ],
          "name": "stdout"
        },
        {
          "output_type": "stream",
          "text": [
            "\r 49%|████▉     | 494/1000 [16:20<15:53,  1.88s/it]"
          ],
          "name": "stderr"
        },
        {
          "output_type": "stream",
          "text": [
            "(493, 20)\n",
            "drive/My Drive/Colab Notebooks/spotify/input/tracks_sv/3t5I7uoAOyRtzkAVaHgmfL.wav\n"
          ],
          "name": "stdout"
        },
        {
          "output_type": "stream",
          "text": [
            "\r 50%|████▉     | 495/1000 [16:22<16:01,  1.90s/it]"
          ],
          "name": "stderr"
        },
        {
          "output_type": "stream",
          "text": [
            "(494, 20)\n",
            "drive/My Drive/Colab Notebooks/spotify/input/tracks_sv/3tt66bLwdkgFnMJ1uygDP7.wav\n"
          ],
          "name": "stdout"
        },
        {
          "output_type": "stream",
          "text": [
            "\r 50%|████▉     | 496/1000 [16:24<15:56,  1.90s/it]"
          ],
          "name": "stderr"
        },
        {
          "output_type": "stream",
          "text": [
            "(495, 20)\n",
            "drive/My Drive/Colab Notebooks/spotify/input/tracks_sv/3u0e8pyoVc7l2u3T5thohY.wav\n"
          ],
          "name": "stdout"
        },
        {
          "output_type": "stream",
          "text": [
            "\r 50%|████▉     | 497/1000 [16:26<15:52,  1.89s/it]"
          ],
          "name": "stderr"
        },
        {
          "output_type": "stream",
          "text": [
            "(496, 20)\n",
            "drive/My Drive/Colab Notebooks/spotify/input/tracks_sv/3vWRsBKvOpj8iITRh8ERlZ.wav\n"
          ],
          "name": "stdout"
        },
        {
          "output_type": "stream",
          "text": [
            "\r 50%|████▉     | 498/1000 [16:28<15:56,  1.91s/it]"
          ],
          "name": "stderr"
        },
        {
          "output_type": "stream",
          "text": [
            "(497, 20)\n",
            "drive/My Drive/Colab Notebooks/spotify/input/tracks_sv/3wJHCry960drNlAUGrJLmz.wav\n"
          ],
          "name": "stdout"
        },
        {
          "output_type": "stream",
          "text": [
            "\r 50%|████▉     | 499/1000 [16:30<16:25,  1.97s/it]"
          ],
          "name": "stderr"
        },
        {
          "output_type": "stream",
          "text": [
            "(498, 20)\n",
            "drive/My Drive/Colab Notebooks/spotify/input/tracks_sv/3wJObP1chwFzb2kTGnNrP8.wav\n"
          ],
          "name": "stdout"
        },
        {
          "output_type": "stream",
          "text": [
            "\r 50%|█████     | 500/1000 [16:32<16:18,  1.96s/it]"
          ],
          "name": "stderr"
        },
        {
          "output_type": "stream",
          "text": [
            "(499, 20)\n",
            "drive/My Drive/Colab Notebooks/spotify/input/tracks_sv/3wYEcZ2YkTkQPNUqNPF5sO.wav\n"
          ],
          "name": "stdout"
        },
        {
          "output_type": "stream",
          "text": [
            "\r 50%|█████     | 501/1000 [16:34<16:17,  1.96s/it]"
          ],
          "name": "stderr"
        },
        {
          "output_type": "stream",
          "text": [
            "(500, 20)\n",
            "drive/My Drive/Colab Notebooks/spotify/input/tracks_sv/3xn1n2Mh5uKtfP3TA2vQAl.wav\n"
          ],
          "name": "stdout"
        },
        {
          "output_type": "stream",
          "text": [
            "\r 50%|█████     | 502/1000 [16:36<16:07,  1.94s/it]"
          ],
          "name": "stderr"
        },
        {
          "output_type": "stream",
          "text": [
            "(501, 20)\n",
            "drive/My Drive/Colab Notebooks/spotify/input/tracks_sv/3yEI3RhrEfWfhFOfu154M1.wav\n"
          ],
          "name": "stdout"
        },
        {
          "output_type": "stream",
          "text": [
            "\r 50%|█████     | 503/1000 [16:38<16:52,  2.04s/it]"
          ],
          "name": "stderr"
        },
        {
          "output_type": "stream",
          "text": [
            "(502, 20)\n",
            "drive/My Drive/Colab Notebooks/spotify/input/tracks_sv/3yJBEaVWZ5HmUp8nGtHbWt.wav\n"
          ],
          "name": "stdout"
        },
        {
          "output_type": "stream",
          "text": [
            "\r 50%|█████     | 504/1000 [16:40<16:33,  2.00s/it]"
          ],
          "name": "stderr"
        },
        {
          "output_type": "stream",
          "text": [
            "(503, 20)\n",
            "drive/My Drive/Colab Notebooks/spotify/input/tracks_sv/3z0beJnuXO2Z8jAdZrLRUS.wav\n"
          ],
          "name": "stdout"
        },
        {
          "output_type": "stream",
          "text": [
            "\r 50%|█████     | 505/1000 [16:42<16:16,  1.97s/it]"
          ],
          "name": "stderr"
        },
        {
          "output_type": "stream",
          "text": [
            "(504, 20)\n",
            "drive/My Drive/Colab Notebooks/spotify/input/tracks_sv/3z6X1pQSGdky5rQADTLM2g.wav\n"
          ],
          "name": "stdout"
        },
        {
          "output_type": "stream",
          "text": [
            "\r 51%|█████     | 506/1000 [16:44<16:04,  1.95s/it]"
          ],
          "name": "stderr"
        },
        {
          "output_type": "stream",
          "text": [
            "(505, 20)\n",
            "drive/My Drive/Colab Notebooks/spotify/input/tracks_sv/3zYklKjGLqqliuuY7iBprG.wav\n"
          ],
          "name": "stdout"
        },
        {
          "output_type": "stream",
          "text": [
            "\r 51%|█████     | 507/1000 [16:46<15:58,  1.94s/it]"
          ],
          "name": "stderr"
        },
        {
          "output_type": "stream",
          "text": [
            "(506, 20)\n",
            "drive/My Drive/Colab Notebooks/spotify/input/tracks_sv/3zfyzbHuqcT2AAffAyLm02.wav\n"
          ],
          "name": "stdout"
        },
        {
          "output_type": "stream",
          "text": [
            "\r 51%|█████     | 508/1000 [16:48<16:16,  1.99s/it]"
          ],
          "name": "stderr"
        },
        {
          "output_type": "stream",
          "text": [
            "(507, 20)\n",
            "drive/My Drive/Colab Notebooks/spotify/input/tracks_sv/40qyjzGdWia4KfBR95ciwP.wav\n"
          ],
          "name": "stdout"
        },
        {
          "output_type": "stream",
          "text": [
            "\r 51%|█████     | 509/1000 [16:50<16:07,  1.97s/it]"
          ],
          "name": "stderr"
        },
        {
          "output_type": "stream",
          "text": [
            "(508, 20)\n",
            "drive/My Drive/Colab Notebooks/spotify/input/tracks_sv/413hyUXuVPG7rphYbDAicx.wav\n"
          ],
          "name": "stdout"
        },
        {
          "output_type": "stream",
          "text": [
            "\r 51%|█████     | 510/1000 [16:52<15:57,  1.95s/it]"
          ],
          "name": "stderr"
        },
        {
          "output_type": "stream",
          "text": [
            "(509, 20)\n",
            "drive/My Drive/Colab Notebooks/spotify/input/tracks_sv/42JrgapwGBuPHG9YKjR6dj.wav\n"
          ],
          "name": "stdout"
        },
        {
          "output_type": "stream",
          "text": [
            "\r 51%|█████     | 511/1000 [16:54<15:43,  1.93s/it]"
          ],
          "name": "stderr"
        },
        {
          "output_type": "stream",
          "text": [
            "(510, 20)\n",
            "drive/My Drive/Colab Notebooks/spotify/input/tracks_sv/42rv9MGtyeFmIEtlUP0M6e.wav\n"
          ],
          "name": "stdout"
        },
        {
          "output_type": "stream",
          "text": [
            "\r 51%|█████     | 512/1000 [16:56<16:07,  1.98s/it]"
          ],
          "name": "stderr"
        },
        {
          "output_type": "stream",
          "text": [
            "(511, 20)\n",
            "drive/My Drive/Colab Notebooks/spotify/input/tracks_sv/44b6xAryr35RSB9nqTkGlr.wav\n"
          ],
          "name": "stdout"
        },
        {
          "output_type": "stream",
          "text": [
            "\r 51%|█████▏    | 513/1000 [16:58<15:53,  1.96s/it]"
          ],
          "name": "stderr"
        },
        {
          "output_type": "stream",
          "text": [
            "(512, 20)\n",
            "drive/My Drive/Colab Notebooks/spotify/input/tracks_sv/45CuOrOZgxqD1pI6JPLVm7.wav\n"
          ],
          "name": "stdout"
        },
        {
          "output_type": "stream",
          "text": [
            "\r 51%|█████▏    | 514/1000 [17:00<15:45,  1.94s/it]"
          ],
          "name": "stderr"
        },
        {
          "output_type": "stream",
          "text": [
            "(513, 20)\n",
            "drive/My Drive/Colab Notebooks/spotify/input/tracks_sv/45lFNdVfFUKpc9uwLYNvf8.wav\n"
          ],
          "name": "stdout"
        },
        {
          "output_type": "stream",
          "text": [
            "\r 52%|█████▏    | 515/1000 [17:02<16:54,  2.09s/it]"
          ],
          "name": "stderr"
        },
        {
          "output_type": "stream",
          "text": [
            "(514, 20)\n",
            "drive/My Drive/Colab Notebooks/spotify/input/tracks_sv/469v6OYBSwcdGRTTvj37ps.wav\n"
          ],
          "name": "stdout"
        },
        {
          "output_type": "stream",
          "text": [
            "\r 52%|█████▏    | 516/1000 [17:04<16:29,  2.04s/it]"
          ],
          "name": "stderr"
        },
        {
          "output_type": "stream",
          "text": [
            "(515, 20)\n",
            "drive/My Drive/Colab Notebooks/spotify/input/tracks_sv/46gSY0U7ZZCmd7EuJuo15N.wav\n"
          ],
          "name": "stdout"
        },
        {
          "output_type": "stream",
          "text": [
            "\r 52%|█████▏    | 517/1000 [17:08<20:08,  2.50s/it]"
          ],
          "name": "stderr"
        },
        {
          "output_type": "stream",
          "text": [
            "(516, 20)\n",
            "drive/My Drive/Colab Notebooks/spotify/input/tracks_sv/476xcqVtLUWp9Tvzvb0t1F.wav\n"
          ],
          "name": "stdout"
        },
        {
          "output_type": "stream",
          "text": [
            "\r 52%|█████▏    | 518/1000 [17:09<18:38,  2.32s/it]"
          ],
          "name": "stderr"
        },
        {
          "output_type": "stream",
          "text": [
            "(517, 20)\n",
            "drive/My Drive/Colab Notebooks/spotify/input/tracks_sv/477CB93mH986mrIheQD0RR.wav\n"
          ],
          "name": "stdout"
        },
        {
          "output_type": "stream",
          "text": [
            "\r 52%|█████▏    | 519/1000 [17:13<20:39,  2.58s/it]"
          ],
          "name": "stderr"
        },
        {
          "output_type": "stream",
          "text": [
            "(518, 20)\n",
            "drive/My Drive/Colab Notebooks/spotify/input/tracks_sv/47VbfluMsR8PyYpIDCeiMb.wav\n"
          ],
          "name": "stdout"
        },
        {
          "output_type": "stream",
          "text": [
            "\r 52%|█████▏    | 520/1000 [17:15<19:07,  2.39s/it]"
          ],
          "name": "stderr"
        },
        {
          "output_type": "stream",
          "text": [
            "(519, 20)\n",
            "drive/My Drive/Colab Notebooks/spotify/input/tracks_sv/47ykT7pfFgvjCpk0c2MxBI.wav\n"
          ],
          "name": "stdout"
        },
        {
          "output_type": "stream",
          "text": [
            "\r 52%|█████▏    | 521/1000 [17:17<17:54,  2.24s/it]"
          ],
          "name": "stderr"
        },
        {
          "output_type": "stream",
          "text": [
            "(520, 20)\n",
            "drive/My Drive/Colab Notebooks/spotify/input/tracks_sv/48TDad2mRj7U8BukDWPTkM.wav\n"
          ],
          "name": "stdout"
        },
        {
          "output_type": "stream",
          "text": [
            "\r 52%|█████▏    | 522/1000 [17:18<17:05,  2.15s/it]"
          ],
          "name": "stderr"
        },
        {
          "output_type": "stream",
          "text": [
            "(521, 20)\n",
            "drive/My Drive/Colab Notebooks/spotify/input/tracks_sv/48i5fnfno9AkejHBJBuZJH.wav\n"
          ],
          "name": "stdout"
        },
        {
          "output_type": "stream",
          "text": [
            "\r 52%|█████▏    | 523/1000 [17:20<16:29,  2.07s/it]"
          ],
          "name": "stderr"
        },
        {
          "output_type": "stream",
          "text": [
            "(522, 20)\n",
            "drive/My Drive/Colab Notebooks/spotify/input/tracks_sv/49PikvvglqURtw3AKDSasx.wav\n"
          ],
          "name": "stdout"
        },
        {
          "output_type": "stream",
          "text": [
            "\r 52%|█████▏    | 524/1000 [17:22<16:15,  2.05s/it]"
          ],
          "name": "stderr"
        },
        {
          "output_type": "stream",
          "text": [
            "(523, 20)\n",
            "drive/My Drive/Colab Notebooks/spotify/input/tracks_sv/4AK6TjpIybCTe1QphPXFn9.wav\n"
          ],
          "name": "stdout"
        },
        {
          "output_type": "stream",
          "text": [
            "\r 52%|█████▎    | 525/1000 [17:24<15:50,  2.00s/it]"
          ],
          "name": "stderr"
        },
        {
          "output_type": "stream",
          "text": [
            "(524, 20)\n",
            "drive/My Drive/Colab Notebooks/spotify/input/tracks_sv/4B2fPJLD7nGuIj1VxiTMe6.wav\n"
          ],
          "name": "stdout"
        },
        {
          "output_type": "stream",
          "text": [
            "\r 53%|█████▎    | 526/1000 [17:26<15:49,  2.00s/it]"
          ],
          "name": "stderr"
        },
        {
          "output_type": "stream",
          "text": [
            "(525, 20)\n",
            "drive/My Drive/Colab Notebooks/spotify/input/tracks_sv/4BNo7jHTdqU7bl6wocxdsD.wav\n"
          ],
          "name": "stdout"
        },
        {
          "output_type": "stream",
          "text": [
            "\r 53%|█████▎    | 527/1000 [17:28<15:39,  1.99s/it]"
          ],
          "name": "stderr"
        },
        {
          "output_type": "stream",
          "text": [
            "(526, 20)\n",
            "drive/My Drive/Colab Notebooks/spotify/input/tracks_sv/4CJqWuSLXclenqRcmFvQsI.wav\n"
          ],
          "name": "stdout"
        },
        {
          "output_type": "stream",
          "text": [
            "\r 53%|█████▎    | 528/1000 [17:30<16:26,  2.09s/it]"
          ],
          "name": "stderr"
        },
        {
          "output_type": "stream",
          "text": [
            "(527, 20)\n",
            "drive/My Drive/Colab Notebooks/spotify/input/tracks_sv/4DPvj7gOATIuNxWy4Gl6bI.wav\n"
          ],
          "name": "stdout"
        },
        {
          "output_type": "stream",
          "text": [
            "\r 53%|█████▎    | 529/1000 [17:33<16:22,  2.09s/it]"
          ],
          "name": "stderr"
        },
        {
          "output_type": "stream",
          "text": [
            "(528, 20)\n",
            "drive/My Drive/Colab Notebooks/spotify/input/tracks_sv/4DcF5SAToAmmaF06vMstfJ.wav\n"
          ],
          "name": "stdout"
        },
        {
          "output_type": "stream",
          "text": [
            "\r 53%|█████▎    | 530/1000 [17:34<15:58,  2.04s/it]"
          ],
          "name": "stderr"
        },
        {
          "output_type": "stream",
          "text": [
            "(529, 20)\n",
            "drive/My Drive/Colab Notebooks/spotify/input/tracks_sv/4E88SLBhlKjBh2cpIHrYso.wav\n"
          ],
          "name": "stdout"
        },
        {
          "output_type": "stream",
          "text": [
            "\r 53%|█████▎    | 531/1000 [17:36<15:44,  2.01s/it]"
          ],
          "name": "stderr"
        },
        {
          "output_type": "stream",
          "text": [
            "(530, 20)\n",
            "drive/My Drive/Colab Notebooks/spotify/input/tracks_sv/4FZMeNTYzuJIw6HkEoLeHi.wav\n"
          ],
          "name": "stdout"
        },
        {
          "output_type": "stream",
          "text": [
            "\r 53%|█████▎    | 532/1000 [17:38<15:25,  1.98s/it]"
          ],
          "name": "stderr"
        },
        {
          "output_type": "stream",
          "text": [
            "(531, 20)\n",
            "drive/My Drive/Colab Notebooks/spotify/input/tracks_sv/4FdpXwtpJfRltvFuTcpNL6.wav\n"
          ],
          "name": "stdout"
        },
        {
          "output_type": "stream",
          "text": [
            "\r 53%|█████▎    | 533/1000 [17:40<15:11,  1.95s/it]"
          ],
          "name": "stderr"
        },
        {
          "output_type": "stream",
          "text": [
            "(532, 20)\n",
            "drive/My Drive/Colab Notebooks/spotify/input/tracks_sv/4Fl3L0aTUT6eA3RQjTjOGS.wav\n"
          ],
          "name": "stdout"
        },
        {
          "output_type": "stream",
          "text": [
            "\r 53%|█████▎    | 534/1000 [17:42<15:06,  1.95s/it]"
          ],
          "name": "stderr"
        },
        {
          "output_type": "stream",
          "text": [
            "(533, 20)\n",
            "drive/My Drive/Colab Notebooks/spotify/input/tracks_sv/4GbISDmTf7DKzEkP3iFOQt.wav\n"
          ],
          "name": "stdout"
        },
        {
          "output_type": "stream",
          "text": [
            "\r 54%|█████▎    | 535/1000 [17:44<14:58,  1.93s/it]"
          ],
          "name": "stderr"
        },
        {
          "output_type": "stream",
          "text": [
            "(534, 20)\n",
            "drive/My Drive/Colab Notebooks/spotify/input/tracks_sv/4HXWj1wwojJX3bOeJL7ByL.wav\n"
          ],
          "name": "stdout"
        },
        {
          "output_type": "stream",
          "text": [
            "\r 54%|█████▎    | 536/1000 [17:46<14:53,  1.93s/it]"
          ],
          "name": "stderr"
        },
        {
          "output_type": "stream",
          "text": [
            "(535, 20)\n",
            "drive/My Drive/Colab Notebooks/spotify/input/tracks_sv/4IZsR3mLLjE1g7YEi7Hs6N.wav\n"
          ],
          "name": "stdout"
        },
        {
          "output_type": "stream",
          "text": [
            "\r 54%|█████▎    | 537/1000 [17:48<14:47,  1.92s/it]"
          ],
          "name": "stderr"
        },
        {
          "output_type": "stream",
          "text": [
            "(536, 20)\n",
            "drive/My Drive/Colab Notebooks/spotify/input/tracks_sv/4IouQaO9GkaHC7AtMErdSa.wav\n"
          ],
          "name": "stdout"
        },
        {
          "output_type": "stream",
          "text": [
            "\r 54%|█████▍    | 538/1000 [17:50<14:40,  1.91s/it]"
          ],
          "name": "stderr"
        },
        {
          "output_type": "stream",
          "text": [
            "(537, 20)\n",
            "drive/My Drive/Colab Notebooks/spotify/input/tracks_sv/4IqBRdBiSN251FuHM8k4Bp.wav\n"
          ],
          "name": "stdout"
        },
        {
          "output_type": "stream",
          "text": [
            "\r 54%|█████▍    | 539/1000 [17:52<14:45,  1.92s/it]"
          ],
          "name": "stderr"
        },
        {
          "output_type": "stream",
          "text": [
            "(538, 20)\n",
            "drive/My Drive/Colab Notebooks/spotify/input/tracks_sv/4JQxHZpx0yg6e0vhTZetMC.wav\n"
          ],
          "name": "stdout"
        },
        {
          "output_type": "stream",
          "text": [
            "\r 54%|█████▍    | 540/1000 [17:54<14:50,  1.94s/it]"
          ],
          "name": "stderr"
        },
        {
          "output_type": "stream",
          "text": [
            "(539, 20)\n",
            "drive/My Drive/Colab Notebooks/spotify/input/tracks_sv/4KW6NQOebHXQsqnCTZq5V7.wav\n"
          ],
          "name": "stdout"
        },
        {
          "output_type": "stream",
          "text": [
            "\r 54%|█████▍    | 541/1000 [17:56<14:48,  1.94s/it]"
          ],
          "name": "stderr"
        },
        {
          "output_type": "stream",
          "text": [
            "(540, 20)\n",
            "drive/My Drive/Colab Notebooks/spotify/input/tracks_sv/4Kr9G3ZG0TTTav6x2GlBNZ.wav\n"
          ],
          "name": "stdout"
        },
        {
          "output_type": "stream",
          "text": [
            "\r 54%|█████▍    | 542/1000 [17:58<14:43,  1.93s/it]"
          ],
          "name": "stderr"
        },
        {
          "output_type": "stream",
          "text": [
            "(541, 20)\n",
            "drive/My Drive/Colab Notebooks/spotify/input/tracks_sv/4L6ZAAjGMMK6IL1orx4zhJ.wav\n"
          ],
          "name": "stdout"
        },
        {
          "output_type": "stream",
          "text": [
            "\r 54%|█████▍    | 543/1000 [17:59<14:40,  1.93s/it]"
          ],
          "name": "stderr"
        },
        {
          "output_type": "stream",
          "text": [
            "(542, 20)\n",
            "drive/My Drive/Colab Notebooks/spotify/input/tracks_sv/4LjzrLpEG9VeKiZTngLfov.wav\n"
          ],
          "name": "stdout"
        },
        {
          "output_type": "stream",
          "text": [
            "\r 54%|█████▍    | 544/1000 [18:01<14:43,  1.94s/it]"
          ],
          "name": "stderr"
        },
        {
          "output_type": "stream",
          "text": [
            "(543, 20)\n",
            "drive/My Drive/Colab Notebooks/spotify/input/tracks_sv/4Ms2FB2oo1y7giydhxcuJE.wav\n"
          ],
          "name": "stdout"
        },
        {
          "output_type": "stream",
          "text": [
            "\r 55%|█████▍    | 545/1000 [18:03<14:39,  1.93s/it]"
          ],
          "name": "stderr"
        },
        {
          "output_type": "stream",
          "text": [
            "(544, 20)\n",
            "drive/My Drive/Colab Notebooks/spotify/input/tracks_sv/4MzdrjWuEShth6tyABlzYo.wav\n"
          ],
          "name": "stdout"
        },
        {
          "output_type": "stream",
          "text": [
            "\r 55%|█████▍    | 546/1000 [18:05<14:49,  1.96s/it]"
          ],
          "name": "stderr"
        },
        {
          "output_type": "stream",
          "text": [
            "(545, 20)\n",
            "drive/My Drive/Colab Notebooks/spotify/input/tracks_sv/4NMxGFkQzHoYIgnj6ElNwk.wav\n"
          ],
          "name": "stdout"
        },
        {
          "output_type": "stream",
          "text": [
            "\r 55%|█████▍    | 547/1000 [18:07<14:57,  1.98s/it]"
          ],
          "name": "stderr"
        },
        {
          "output_type": "stream",
          "text": [
            "(546, 20)\n",
            "drive/My Drive/Colab Notebooks/spotify/input/tracks_sv/4P4LF3swFiKHmNkCknPZE9.wav\n"
          ],
          "name": "stdout"
        },
        {
          "output_type": "stream",
          "text": [
            "\r 55%|█████▍    | 548/1000 [18:09<14:48,  1.97s/it]"
          ],
          "name": "stderr"
        },
        {
          "output_type": "stream",
          "text": [
            "(547, 20)\n",
            "drive/My Drive/Colab Notebooks/spotify/input/tracks_sv/4QL5DKkPZwBXkph4fW2Y0Z.wav\n"
          ],
          "name": "stdout"
        },
        {
          "output_type": "stream",
          "text": [
            "\r 55%|█████▍    | 549/1000 [18:11<15:03,  2.00s/it]"
          ],
          "name": "stderr"
        },
        {
          "output_type": "stream",
          "text": [
            "(548, 20)\n",
            "drive/My Drive/Colab Notebooks/spotify/input/tracks_sv/4QXpGTmnWwftsbcSVhBeAm.wav\n"
          ],
          "name": "stdout"
        },
        {
          "output_type": "stream",
          "text": [
            "\r 55%|█████▌    | 550/1000 [18:13<14:58,  2.00s/it]"
          ],
          "name": "stderr"
        },
        {
          "output_type": "stream",
          "text": [
            "(549, 20)\n",
            "drive/My Drive/Colab Notebooks/spotify/input/tracks_sv/4Qoy76tEOBaCEvuydNQ2ep.wav\n"
          ],
          "name": "stdout"
        },
        {
          "output_type": "stream",
          "text": [
            "\r 55%|█████▌    | 551/1000 [18:15<14:48,  1.98s/it]"
          ],
          "name": "stderr"
        },
        {
          "output_type": "stream",
          "text": [
            "(550, 20)\n",
            "drive/My Drive/Colab Notebooks/spotify/input/tracks_sv/4QvXuhkV47BEdyvVZTiChu.wav\n"
          ],
          "name": "stdout"
        },
        {
          "output_type": "stream",
          "text": [
            "\r 55%|█████▌    | 552/1000 [18:17<14:36,  1.96s/it]"
          ],
          "name": "stderr"
        },
        {
          "output_type": "stream",
          "text": [
            "(551, 20)\n",
            "drive/My Drive/Colab Notebooks/spotify/input/tracks_sv/4S3aU06ISAWFb0hIdZ4WL8.wav\n"
          ],
          "name": "stdout"
        },
        {
          "output_type": "stream",
          "text": [
            "\r 55%|█████▌    | 553/1000 [18:19<14:43,  1.98s/it]"
          ],
          "name": "stderr"
        },
        {
          "output_type": "stream",
          "text": [
            "(552, 20)\n",
            "drive/My Drive/Colab Notebooks/spotify/input/tracks_sv/4SZDkESMCRG61BhvbmLUqS.wav\n"
          ],
          "name": "stdout"
        },
        {
          "output_type": "stream",
          "text": [
            "\r 55%|█████▌    | 554/1000 [18:21<14:37,  1.97s/it]"
          ],
          "name": "stderr"
        },
        {
          "output_type": "stream",
          "text": [
            "(553, 20)\n",
            "drive/My Drive/Colab Notebooks/spotify/input/tracks_sv/4SZsTKrSPRfZIYcMSqsCMa.wav\n"
          ],
          "name": "stdout"
        },
        {
          "output_type": "stream",
          "text": [
            "\r 56%|█████▌    | 555/1000 [18:23<14:35,  1.97s/it]"
          ],
          "name": "stderr"
        },
        {
          "output_type": "stream",
          "text": [
            "(554, 20)\n",
            "drive/My Drive/Colab Notebooks/spotify/input/tracks_sv/4TFUsim1NVJGvQjE2Ppeno.wav\n"
          ],
          "name": "stdout"
        },
        {
          "output_type": "stream",
          "text": [
            "\r 56%|█████▌    | 556/1000 [18:25<14:21,  1.94s/it]"
          ],
          "name": "stderr"
        },
        {
          "output_type": "stream",
          "text": [
            "(555, 20)\n",
            "drive/My Drive/Colab Notebooks/spotify/input/tracks_sv/4UGgUuiM1YOeEShIoZDTzb.wav\n"
          ],
          "name": "stdout"
        },
        {
          "output_type": "stream",
          "text": [
            "\r 56%|█████▌    | 557/1000 [18:27<14:22,  1.95s/it]"
          ],
          "name": "stderr"
        },
        {
          "output_type": "stream",
          "text": [
            "(556, 20)\n",
            "drive/My Drive/Colab Notebooks/spotify/input/tracks_sv/4UgUArf7laRrELMyEhEqS8.wav\n"
          ],
          "name": "stdout"
        },
        {
          "output_type": "stream",
          "text": [
            "\r 56%|█████▌    | 558/1000 [18:29<14:16,  1.94s/it]"
          ],
          "name": "stderr"
        },
        {
          "output_type": "stream",
          "text": [
            "(557, 20)\n",
            "drive/My Drive/Colab Notebooks/spotify/input/tracks_sv/4VNuoEWbaDFRb5uizQtrcS.wav\n"
          ],
          "name": "stdout"
        },
        {
          "output_type": "stream",
          "text": [
            "\r 56%|█████▌    | 559/1000 [18:31<14:38,  1.99s/it]"
          ],
          "name": "stderr"
        },
        {
          "output_type": "stream",
          "text": [
            "(558, 20)\n",
            "drive/My Drive/Colab Notebooks/spotify/input/tracks_sv/4Vm9XIi9AD1oK39xACmqk5.wav\n"
          ],
          "name": "stdout"
        },
        {
          "output_type": "stream",
          "text": [
            "\r 56%|█████▌    | 560/1000 [18:33<14:39,  2.00s/it]"
          ],
          "name": "stderr"
        },
        {
          "output_type": "stream",
          "text": [
            "(559, 20)\n",
            "drive/My Drive/Colab Notebooks/spotify/input/tracks_sv/4WAi4TMGQxktQ8uNBSeT4y.wav\n"
          ],
          "name": "stdout"
        },
        {
          "output_type": "stream",
          "text": [
            "\r 56%|█████▌    | 561/1000 [18:35<14:34,  1.99s/it]"
          ],
          "name": "stderr"
        },
        {
          "output_type": "stream",
          "text": [
            "(560, 20)\n",
            "drive/My Drive/Colab Notebooks/spotify/input/tracks_sv/4WP2orSVpKRcPT39rXVtyg.wav\n"
          ],
          "name": "stdout"
        },
        {
          "output_type": "stream",
          "text": [
            "\r 56%|█████▌    | 562/1000 [18:37<14:26,  1.98s/it]"
          ],
          "name": "stderr"
        },
        {
          "output_type": "stream",
          "text": [
            "(561, 20)\n",
            "drive/My Drive/Colab Notebooks/spotify/input/tracks_sv/4WPtHBZO3wpoBc4xV2PRFi.wav\n"
          ],
          "name": "stdout"
        },
        {
          "output_type": "stream",
          "text": [
            "\r 56%|█████▋    | 563/1000 [18:39<14:19,  1.97s/it]"
          ],
          "name": "stderr"
        },
        {
          "output_type": "stream",
          "text": [
            "(562, 20)\n",
            "drive/My Drive/Colab Notebooks/spotify/input/tracks_sv/4WWlxCFO5M0gva6GYgFGHs.wav\n"
          ],
          "name": "stdout"
        },
        {
          "output_type": "stream",
          "text": [
            "\r 56%|█████▋    | 564/1000 [18:41<15:25,  2.12s/it]"
          ],
          "name": "stderr"
        },
        {
          "output_type": "stream",
          "text": [
            "(563, 20)\n",
            "drive/My Drive/Colab Notebooks/spotify/input/tracks_sv/4WkWq05mOmxDibjt10VrNi.wav\n"
          ],
          "name": "stdout"
        },
        {
          "output_type": "stream",
          "text": [
            "\r 56%|█████▋    | 565/1000 [18:44<15:59,  2.20s/it]"
          ],
          "name": "stderr"
        },
        {
          "output_type": "stream",
          "text": [
            "(564, 20)\n",
            "drive/My Drive/Colab Notebooks/spotify/input/tracks_sv/4XdzCpY4Ekv5SezuuFpBDG.wav\n"
          ],
          "name": "stdout"
        },
        {
          "output_type": "stream",
          "text": [
            "\r 57%|█████▋    | 566/1000 [18:46<15:20,  2.12s/it]"
          ],
          "name": "stderr"
        },
        {
          "output_type": "stream",
          "text": [
            "(565, 20)\n",
            "drive/My Drive/Colab Notebooks/spotify/input/tracks_sv/4XkqVSWIPb07iLEDvAPq93.wav\n"
          ],
          "name": "stdout"
        },
        {
          "output_type": "stream",
          "text": [
            "\r 57%|█████▋    | 567/1000 [18:48<14:58,  2.07s/it]"
          ],
          "name": "stderr"
        },
        {
          "output_type": "stream",
          "text": [
            "(566, 20)\n",
            "drive/My Drive/Colab Notebooks/spotify/input/tracks_sv/4XnY5LBp2C37Cr0VrQmGl2.wav\n"
          ],
          "name": "stdout"
        },
        {
          "output_type": "stream",
          "text": [
            "\r 57%|█████▋    | 568/1000 [18:50<14:32,  2.02s/it]"
          ],
          "name": "stderr"
        },
        {
          "output_type": "stream",
          "text": [
            "(567, 20)\n",
            "drive/My Drive/Colab Notebooks/spotify/input/tracks_sv/4XpP4fXwIfO5OxQdmuJevx.wav\n"
          ],
          "name": "stdout"
        },
        {
          "output_type": "stream",
          "text": [
            "\r 57%|█████▋    | 569/1000 [18:52<14:28,  2.01s/it]"
          ],
          "name": "stderr"
        },
        {
          "output_type": "stream",
          "text": [
            "(568, 20)\n",
            "drive/My Drive/Colab Notebooks/spotify/input/tracks_sv/4XzPIb477SU8SNx6Sy0v49.wav\n"
          ],
          "name": "stdout"
        },
        {
          "output_type": "stream",
          "text": [
            "\r 57%|█████▋    | 570/1000 [18:53<14:07,  1.97s/it]"
          ],
          "name": "stderr"
        },
        {
          "output_type": "stream",
          "text": [
            "(569, 20)\n",
            "drive/My Drive/Colab Notebooks/spotify/input/tracks_sv/4Ybp3UvVXvraRNwOCWnrNq.wav\n"
          ],
          "name": "stdout"
        },
        {
          "output_type": "stream",
          "text": [
            "\r 57%|█████▋    | 571/1000 [18:55<13:54,  1.94s/it]"
          ],
          "name": "stderr"
        },
        {
          "output_type": "stream",
          "text": [
            "(570, 20)\n",
            "drive/My Drive/Colab Notebooks/spotify/input/tracks_sv/4YzvGHH3ys44jDWTqRdzwI.wav\n"
          ],
          "name": "stdout"
        },
        {
          "output_type": "stream",
          "text": [
            "\r 57%|█████▋    | 572/1000 [18:57<13:43,  1.92s/it]"
          ],
          "name": "stderr"
        },
        {
          "output_type": "stream",
          "text": [
            "(571, 20)\n",
            "drive/My Drive/Colab Notebooks/spotify/input/tracks_sv/4Z8WSP6i30vg05WTDyvw0X.wav\n"
          ],
          "name": "stdout"
        },
        {
          "output_type": "stream",
          "text": [
            "\r 57%|█████▋    | 573/1000 [18:59<14:01,  1.97s/it]"
          ],
          "name": "stderr"
        },
        {
          "output_type": "stream",
          "text": [
            "(572, 20)\n",
            "drive/My Drive/Colab Notebooks/spotify/input/tracks_sv/4ZXFRUod7wpphYc7rfiBVH.wav\n"
          ],
          "name": "stdout"
        },
        {
          "output_type": "stream",
          "text": [
            "\r 57%|█████▋    | 574/1000 [19:01<13:54,  1.96s/it]"
          ],
          "name": "stderr"
        },
        {
          "output_type": "stream",
          "text": [
            "(573, 20)\n",
            "drive/My Drive/Colab Notebooks/spotify/input/tracks_sv/4a48lWUd64bZgHUDx0GZlj.wav\n"
          ],
          "name": "stdout"
        },
        {
          "output_type": "stream",
          "text": [
            "\r 57%|█████▊    | 575/1000 [19:03<13:52,  1.96s/it]"
          ],
          "name": "stderr"
        },
        {
          "output_type": "stream",
          "text": [
            "(574, 20)\n",
            "drive/My Drive/Colab Notebooks/spotify/input/tracks_sv/4aFmalruqRj8KKoImTIeUM.wav\n"
          ],
          "name": "stdout"
        },
        {
          "output_type": "stream",
          "text": [
            "\r 58%|█████▊    | 576/1000 [19:05<13:43,  1.94s/it]"
          ],
          "name": "stderr"
        },
        {
          "output_type": "stream",
          "text": [
            "(575, 20)\n",
            "drive/My Drive/Colab Notebooks/spotify/input/tracks_sv/4aKXovP9f4JPsDSOXofZvt.wav\n"
          ],
          "name": "stdout"
        },
        {
          "output_type": "stream",
          "text": [
            "\r 58%|█████▊    | 577/1000 [19:07<13:35,  1.93s/it]"
          ],
          "name": "stderr"
        },
        {
          "output_type": "stream",
          "text": [
            "(576, 20)\n",
            "drive/My Drive/Colab Notebooks/spotify/input/tracks_sv/4axOFO3x2sQFfLnyTYNRYD.wav\n"
          ],
          "name": "stdout"
        },
        {
          "output_type": "stream",
          "text": [
            "\r 58%|█████▊    | 578/1000 [19:09<13:32,  1.93s/it]"
          ],
          "name": "stderr"
        },
        {
          "output_type": "stream",
          "text": [
            "(577, 20)\n",
            "drive/My Drive/Colab Notebooks/spotify/input/tracks_sv/4b5oBON2DgamONUxvP4JyQ.wav\n"
          ],
          "name": "stdout"
        },
        {
          "output_type": "stream",
          "text": [
            "\r 58%|█████▊    | 579/1000 [19:11<13:35,  1.94s/it]"
          ],
          "name": "stderr"
        },
        {
          "output_type": "stream",
          "text": [
            "(578, 20)\n",
            "drive/My Drive/Colab Notebooks/spotify/input/tracks_sv/4bSCCWsoo7Xdk6pHgEmtww.wav\n"
          ],
          "name": "stdout"
        },
        {
          "output_type": "stream",
          "text": [
            "\r 58%|█████▊    | 580/1000 [19:13<13:28,  1.92s/it]"
          ],
          "name": "stderr"
        },
        {
          "output_type": "stream",
          "text": [
            "(579, 20)\n",
            "drive/My Drive/Colab Notebooks/spotify/input/tracks_sv/4bcTGxE7oljiiStL4jItFB.wav\n"
          ],
          "name": "stdout"
        },
        {
          "output_type": "stream",
          "text": [
            "\r 58%|█████▊    | 581/1000 [19:15<13:37,  1.95s/it]"
          ],
          "name": "stderr"
        },
        {
          "output_type": "stream",
          "text": [
            "(580, 20)\n",
            "drive/My Drive/Colab Notebooks/spotify/input/tracks_sv/4bcaeuq2Lpip6s6neIDsOL.wav\n"
          ],
          "name": "stdout"
        },
        {
          "output_type": "stream",
          "text": [
            "\r 58%|█████▊    | 582/1000 [19:17<14:06,  2.02s/it]"
          ],
          "name": "stderr"
        },
        {
          "output_type": "stream",
          "text": [
            "(581, 20)\n",
            "drive/My Drive/Colab Notebooks/spotify/input/tracks_sv/4bl4bZDrJdffqwtDUDG0Om.wav\n"
          ],
          "name": "stdout"
        },
        {
          "output_type": "stream",
          "text": [
            "\r 58%|█████▊    | 583/1000 [19:19<13:47,  1.99s/it]"
          ],
          "name": "stderr"
        },
        {
          "output_type": "stream",
          "text": [
            "(582, 20)\n",
            "drive/My Drive/Colab Notebooks/spotify/input/tracks_sv/4cKEW1EDlagnqmExM6lVcm.wav\n"
          ],
          "name": "stdout"
        },
        {
          "output_type": "stream",
          "text": [
            "\r 58%|█████▊    | 584/1000 [19:21<13:35,  1.96s/it]"
          ],
          "name": "stderr"
        },
        {
          "output_type": "stream",
          "text": [
            "(583, 20)\n",
            "drive/My Drive/Colab Notebooks/spotify/input/tracks_sv/4cP6KmNvTFkLHZo6fVJq0c.wav\n"
          ],
          "name": "stdout"
        },
        {
          "output_type": "stream",
          "text": [
            "\r 58%|█████▊    | 585/1000 [19:23<13:56,  2.02s/it]"
          ],
          "name": "stderr"
        },
        {
          "output_type": "stream",
          "text": [
            "(584, 20)\n",
            "drive/My Drive/Colab Notebooks/spotify/input/tracks_sv/4cX15DHo6jR2b5oE4zp28t.wav\n"
          ],
          "name": "stdout"
        },
        {
          "output_type": "stream",
          "text": [
            "\r 59%|█████▊    | 586/1000 [19:25<13:52,  2.01s/it]"
          ],
          "name": "stderr"
        },
        {
          "output_type": "stream",
          "text": [
            "(585, 20)\n",
            "drive/My Drive/Colab Notebooks/spotify/input/tracks_sv/4ckFhzbM0p2DfRphovGP3X.wav\n"
          ],
          "name": "stdout"
        },
        {
          "output_type": "stream",
          "text": [
            "\r 59%|█████▊    | 587/1000 [19:27<13:36,  1.98s/it]"
          ],
          "name": "stderr"
        },
        {
          "output_type": "stream",
          "text": [
            "(586, 20)\n",
            "drive/My Drive/Colab Notebooks/spotify/input/tracks_sv/4eO27bYFUJBDOenGKfe4YX.wav\n"
          ],
          "name": "stdout"
        },
        {
          "output_type": "stream",
          "text": [
            "\r 59%|█████▉    | 588/1000 [19:29<13:27,  1.96s/it]"
          ],
          "name": "stderr"
        },
        {
          "output_type": "stream",
          "text": [
            "(587, 20)\n",
            "drive/My Drive/Colab Notebooks/spotify/input/tracks_sv/4f7YxnNIp3eGNUNIie9nKc.wav\n"
          ],
          "name": "stdout"
        },
        {
          "output_type": "stream",
          "text": [
            "\r 59%|█████▉    | 589/1000 [19:31<13:20,  1.95s/it]"
          ],
          "name": "stderr"
        },
        {
          "output_type": "stream",
          "text": [
            "(588, 20)\n",
            "drive/My Drive/Colab Notebooks/spotify/input/tracks_sv/4fAWPV5MwPulFtPCcebTQn.wav\n"
          ],
          "name": "stdout"
        },
        {
          "output_type": "stream",
          "text": [
            "\r 59%|█████▉    | 590/1000 [19:33<13:15,  1.94s/it]"
          ],
          "name": "stderr"
        },
        {
          "output_type": "stream",
          "text": [
            "(589, 20)\n",
            "drive/My Drive/Colab Notebooks/spotify/input/tracks_sv/4fT8isC75wJe9CCsJdnNdI.wav\n"
          ],
          "name": "stdout"
        },
        {
          "output_type": "stream",
          "text": [
            "\r 59%|█████▉    | 591/1000 [19:35<13:36,  2.00s/it]"
          ],
          "name": "stderr"
        },
        {
          "output_type": "stream",
          "text": [
            "(590, 20)\n",
            "drive/My Drive/Colab Notebooks/spotify/input/tracks_sv/4feDzcxtXRU8clyOluco5Y.wav\n"
          ],
          "name": "stdout"
        },
        {
          "output_type": "stream",
          "text": [
            "\r 59%|█████▉    | 592/1000 [19:37<13:41,  2.01s/it]"
          ],
          "name": "stderr"
        },
        {
          "output_type": "stream",
          "text": [
            "(591, 20)\n",
            "drive/My Drive/Colab Notebooks/spotify/input/tracks_sv/4gCKSBVrsOay3HYj5AvBq2.wav\n"
          ],
          "name": "stdout"
        },
        {
          "output_type": "stream",
          "text": [
            "\r 59%|█████▉    | 593/1000 [19:39<13:27,  1.98s/it]"
          ],
          "name": "stderr"
        },
        {
          "output_type": "stream",
          "text": [
            "(592, 20)\n",
            "drive/My Drive/Colab Notebooks/spotify/input/tracks_sv/4gIxoEiImPtGVI4skcf3xT.wav\n"
          ],
          "name": "stdout"
        },
        {
          "output_type": "stream",
          "text": [
            "\r 59%|█████▉    | 594/1000 [19:42<15:59,  2.36s/it]"
          ],
          "name": "stderr"
        },
        {
          "output_type": "stream",
          "text": [
            "(593, 20)\n",
            "drive/My Drive/Colab Notebooks/spotify/input/tracks_sv/4hQ5tBCwPRkzhFB424U63U.wav\n"
          ],
          "name": "stdout"
        },
        {
          "output_type": "stream",
          "text": [
            "\r 60%|█████▉    | 595/1000 [19:44<15:08,  2.24s/it]"
          ],
          "name": "stderr"
        },
        {
          "output_type": "stream",
          "text": [
            "(594, 20)\n",
            "drive/My Drive/Colab Notebooks/spotify/input/tracks_sv/4iRgN2h6iRkFVHareKcL14.wav\n"
          ],
          "name": "stdout"
        },
        {
          "output_type": "stream",
          "text": [
            "\r 60%|█████▉    | 596/1000 [19:46<14:21,  2.13s/it]"
          ],
          "name": "stderr"
        },
        {
          "output_type": "stream",
          "text": [
            "(595, 20)\n",
            "drive/My Drive/Colab Notebooks/spotify/input/tracks_sv/4jcSJrDnKSmOLqMkGJmFL6.wav\n"
          ],
          "name": "stdout"
        },
        {
          "output_type": "stream",
          "text": [
            "\r 60%|█████▉    | 597/1000 [19:48<13:51,  2.06s/it]"
          ],
          "name": "stderr"
        },
        {
          "output_type": "stream",
          "text": [
            "(596, 20)\n",
            "drive/My Drive/Colab Notebooks/spotify/input/tracks_sv/4je3QjYSt5H7QmSV5zO0Qo.wav\n"
          ],
          "name": "stdout"
        },
        {
          "output_type": "stream",
          "text": [
            "\r 60%|█████▉    | 598/1000 [19:50<13:28,  2.01s/it]"
          ],
          "name": "stderr"
        },
        {
          "output_type": "stream",
          "text": [
            "(597, 20)\n",
            "drive/My Drive/Colab Notebooks/spotify/input/tracks_sv/4k2PM4aQLN5E0UAGEb8dpr.wav\n"
          ],
          "name": "stdout"
        },
        {
          "output_type": "stream",
          "text": [
            "\r 60%|█████▉    | 599/1000 [19:51<13:11,  1.97s/it]"
          ],
          "name": "stderr"
        },
        {
          "output_type": "stream",
          "text": [
            "(598, 20)\n",
            "drive/My Drive/Colab Notebooks/spotify/input/tracks_sv/4kFY1RxOo6Wd8hgVL3t6Rb.wav\n"
          ],
          "name": "stdout"
        },
        {
          "output_type": "stream",
          "text": [
            "\r 60%|██████    | 600/1000 [19:53<13:13,  1.98s/it]"
          ],
          "name": "stderr"
        },
        {
          "output_type": "stream",
          "text": [
            "(599, 20)\n",
            "drive/My Drive/Colab Notebooks/spotify/input/tracks_sv/4lPJfyYw9hQuWu9kV26qhG.wav\n"
          ],
          "name": "stdout"
        },
        {
          "output_type": "stream",
          "text": [
            "\r 60%|██████    | 601/1000 [19:55<12:57,  1.95s/it]"
          ],
          "name": "stderr"
        },
        {
          "output_type": "stream",
          "text": [
            "(600, 20)\n",
            "drive/My Drive/Colab Notebooks/spotify/input/tracks_sv/4mM52ajs23IhFjXOflr60u.wav\n"
          ],
          "name": "stdout"
        },
        {
          "output_type": "stream",
          "text": [
            "\r 60%|██████    | 602/1000 [19:57<12:50,  1.94s/it]"
          ],
          "name": "stderr"
        },
        {
          "output_type": "stream",
          "text": [
            "(601, 20)\n",
            "drive/My Drive/Colab Notebooks/spotify/input/tracks_sv/4mSLOTpYJ44lswS9MH7kEl.wav\n"
          ],
          "name": "stdout"
        },
        {
          "output_type": "stream",
          "text": [
            "\r 60%|██████    | 603/1000 [19:59<13:09,  1.99s/it]"
          ],
          "name": "stderr"
        },
        {
          "output_type": "stream",
          "text": [
            "(602, 20)\n",
            "drive/My Drive/Colab Notebooks/spotify/input/tracks_sv/4mn2av7YVGC3G5ZuSkKoBD.wav\n"
          ],
          "name": "stdout"
        },
        {
          "output_type": "stream",
          "text": [
            "\r 60%|██████    | 604/1000 [20:01<13:01,  1.97s/it]"
          ],
          "name": "stderr"
        },
        {
          "output_type": "stream",
          "text": [
            "(603, 20)\n",
            "drive/My Drive/Colab Notebooks/spotify/input/tracks_sv/4nYrT4h72JvsNh3t80FmG0.wav\n"
          ],
          "name": "stdout"
        },
        {
          "output_type": "stream",
          "text": [
            "\r 60%|██████    | 605/1000 [20:03<13:18,  2.02s/it]"
          ],
          "name": "stderr"
        },
        {
          "output_type": "stream",
          "text": [
            "(604, 20)\n",
            "drive/My Drive/Colab Notebooks/spotify/input/tracks_sv/4q8gfiDFF4YI7LRJa6GhBL.wav\n"
          ],
          "name": "stdout"
        },
        {
          "output_type": "stream",
          "text": [
            "\r 61%|██████    | 606/1000 [20:05<13:10,  2.01s/it]"
          ],
          "name": "stderr"
        },
        {
          "output_type": "stream",
          "text": [
            "(605, 20)\n",
            "drive/My Drive/Colab Notebooks/spotify/input/tracks_sv/4qIQn9YSS8hPc6ItNjxySJ.wav\n"
          ],
          "name": "stdout"
        },
        {
          "output_type": "stream",
          "text": [
            "\r 61%|██████    | 607/1000 [20:08<13:28,  2.06s/it]"
          ],
          "name": "stderr"
        },
        {
          "output_type": "stream",
          "text": [
            "(606, 20)\n",
            "drive/My Drive/Colab Notebooks/spotify/input/tracks_sv/4qZyuyqLoZ3CaH79rGvJFR.wav\n"
          ],
          "name": "stdout"
        },
        {
          "output_type": "stream",
          "text": [
            "\r 61%|██████    | 608/1000 [20:09<13:10,  2.02s/it]"
          ],
          "name": "stderr"
        },
        {
          "output_type": "stream",
          "text": [
            "(607, 20)\n",
            "drive/My Drive/Colab Notebooks/spotify/input/tracks_sv/4qfwXvY82pkSt6moeAguje.wav\n"
          ],
          "name": "stdout"
        },
        {
          "output_type": "stream",
          "text": [
            "\r 61%|██████    | 609/1000 [20:11<12:57,  1.99s/it]"
          ],
          "name": "stderr"
        },
        {
          "output_type": "stream",
          "text": [
            "(608, 20)\n",
            "drive/My Drive/Colab Notebooks/spotify/input/tracks_sv/4rCulqb4ESDihQsfcjI3qo.wav\n"
          ],
          "name": "stdout"
        },
        {
          "output_type": "stream",
          "text": [
            "\r 61%|██████    | 610/1000 [20:13<12:44,  1.96s/it]"
          ],
          "name": "stderr"
        },
        {
          "output_type": "stream",
          "text": [
            "(609, 20)\n",
            "drive/My Drive/Colab Notebooks/spotify/input/tracks_sv/4rf6m9hF1RGwR57Vv5NXv8.wav\n"
          ],
          "name": "stdout"
        },
        {
          "output_type": "stream",
          "text": [
            "\r 61%|██████    | 611/1000 [20:15<12:34,  1.94s/it]"
          ],
          "name": "stderr"
        },
        {
          "output_type": "stream",
          "text": [
            "(610, 20)\n",
            "drive/My Drive/Colab Notebooks/spotify/input/tracks_sv/4tCtZzE58XDHUAZjoCZiPg.wav\n"
          ],
          "name": "stdout"
        },
        {
          "output_type": "stream",
          "text": [
            "\r 61%|██████    | 612/1000 [20:17<12:27,  1.93s/it]"
          ],
          "name": "stderr"
        },
        {
          "output_type": "stream",
          "text": [
            "(611, 20)\n",
            "drive/My Drive/Colab Notebooks/spotify/input/tracks_sv/4tcmy6H92IBL7Ps2KFjfs6.wav\n"
          ],
          "name": "stdout"
        },
        {
          "output_type": "stream",
          "text": [
            "\r 61%|██████▏   | 613/1000 [20:19<12:27,  1.93s/it]"
          ],
          "name": "stderr"
        },
        {
          "output_type": "stream",
          "text": [
            "(612, 20)\n",
            "drive/My Drive/Colab Notebooks/spotify/input/tracks_sv/4tpvAxVQFZiFIaQ610YHR8.wav\n"
          ],
          "name": "stdout"
        },
        {
          "output_type": "stream",
          "text": [
            "\r 61%|██████▏   | 614/1000 [20:21<12:39,  1.97s/it]"
          ],
          "name": "stderr"
        },
        {
          "output_type": "stream",
          "text": [
            "(613, 20)\n",
            "drive/My Drive/Colab Notebooks/spotify/input/tracks_sv/4uSoMPAEXXI8ztBWC6SXIm.wav\n"
          ],
          "name": "stdout"
        },
        {
          "output_type": "stream",
          "text": [
            "\r 62%|██████▏   | 615/1000 [20:23<12:28,  1.94s/it]"
          ],
          "name": "stderr"
        },
        {
          "output_type": "stream",
          "text": [
            "(614, 20)\n",
            "drive/My Drive/Colab Notebooks/spotify/input/tracks_sv/4ux6NjzqD98nXZs4hMPrxA.wav\n"
          ],
          "name": "stdout"
        },
        {
          "output_type": "stream",
          "text": [
            "\r 62%|██████▏   | 616/1000 [20:25<12:24,  1.94s/it]"
          ],
          "name": "stderr"
        },
        {
          "output_type": "stream",
          "text": [
            "(615, 20)\n",
            "drive/My Drive/Colab Notebooks/spotify/input/tracks_sv/4v5JwgpMOAYGevASour7Fd.wav\n"
          ],
          "name": "stdout"
        },
        {
          "output_type": "stream",
          "text": [
            "\r 62%|██████▏   | 617/1000 [20:27<12:31,  1.96s/it]"
          ],
          "name": "stderr"
        },
        {
          "output_type": "stream",
          "text": [
            "(616, 20)\n",
            "drive/My Drive/Colab Notebooks/spotify/input/tracks_sv/4vKqFdyIEKkbXdAdGESLJq.wav\n"
          ],
          "name": "stdout"
        },
        {
          "output_type": "stream",
          "text": [
            "\r 62%|██████▏   | 618/1000 [20:29<12:25,  1.95s/it]"
          ],
          "name": "stderr"
        },
        {
          "output_type": "stream",
          "text": [
            "(617, 20)\n",
            "drive/My Drive/Colab Notebooks/spotify/input/tracks_sv/4vXiNswx89Q5jE9eB8KCT9.wav\n"
          ],
          "name": "stdout"
        },
        {
          "output_type": "stream",
          "text": [
            "\r 62%|██████▏   | 619/1000 [20:31<12:19,  1.94s/it]"
          ],
          "name": "stderr"
        },
        {
          "output_type": "stream",
          "text": [
            "(618, 20)\n",
            "drive/My Drive/Colab Notebooks/spotify/input/tracks_sv/4vrCxIPGj6nUdvm1zsiKxO.wav\n"
          ],
          "name": "stdout"
        },
        {
          "output_type": "stream",
          "text": [
            "\r 62%|██████▏   | 620/1000 [20:33<12:33,  1.98s/it]"
          ],
          "name": "stderr"
        },
        {
          "output_type": "stream",
          "text": [
            "(619, 20)\n",
            "drive/My Drive/Colab Notebooks/spotify/input/tracks_sv/4wLQr28uORriOx5rNM8by7.wav\n"
          ],
          "name": "stdout"
        },
        {
          "output_type": "stream",
          "text": [
            "\r 62%|██████▏   | 621/1000 [20:35<12:20,  1.95s/it]"
          ],
          "name": "stderr"
        },
        {
          "output_type": "stream",
          "text": [
            "(620, 20)\n",
            "drive/My Drive/Colab Notebooks/spotify/input/tracks_sv/4weY9jkPw2d1daBnhHhacD.wav\n"
          ],
          "name": "stdout"
        },
        {
          "output_type": "stream",
          "text": [
            "\r 62%|██████▏   | 622/1000 [20:37<12:46,  2.03s/it]"
          ],
          "name": "stderr"
        },
        {
          "output_type": "stream",
          "text": [
            "(621, 20)\n",
            "drive/My Drive/Colab Notebooks/spotify/input/tracks_sv/4wyLnL9ZCeEOHOBkBEBzPk.wav\n"
          ],
          "name": "stdout"
        },
        {
          "output_type": "stream",
          "text": [
            "\r 62%|██████▏   | 623/1000 [20:39<12:29,  1.99s/it]"
          ],
          "name": "stderr"
        },
        {
          "output_type": "stream",
          "text": [
            "(622, 20)\n",
            "drive/My Drive/Colab Notebooks/spotify/input/tracks_sv/4xPw1qPBhkkSZbRRPndUGh.wav\n"
          ],
          "name": "stdout"
        },
        {
          "output_type": "stream",
          "text": [
            "\r 62%|██████▏   | 624/1000 [20:41<12:44,  2.03s/it]"
          ],
          "name": "stderr"
        },
        {
          "output_type": "stream",
          "text": [
            "(623, 20)\n",
            "drive/My Drive/Colab Notebooks/spotify/input/tracks_sv/4yBciZ52BnlfqsbwmRKKKp.wav\n"
          ],
          "name": "stdout"
        },
        {
          "output_type": "stream",
          "text": [
            "\r 62%|██████▎   | 625/1000 [20:43<12:31,  2.00s/it]"
          ],
          "name": "stderr"
        },
        {
          "output_type": "stream",
          "text": [
            "(624, 20)\n",
            "drive/My Drive/Colab Notebooks/spotify/input/tracks_sv/4yeXlttewvmRiv9Pkh5dnv.wav\n"
          ],
          "name": "stdout"
        },
        {
          "output_type": "stream",
          "text": [
            "\r 63%|██████▎   | 626/1000 [20:45<12:27,  2.00s/it]"
          ],
          "name": "stderr"
        },
        {
          "output_type": "stream",
          "text": [
            "(625, 20)\n",
            "drive/My Drive/Colab Notebooks/spotify/input/tracks_sv/4zdQmfTLWgGd5mAX4MUIaX.wav\n"
          ],
          "name": "stdout"
        },
        {
          "output_type": "stream",
          "text": [
            "\r 63%|██████▎   | 627/1000 [20:47<12:16,  1.97s/it]"
          ],
          "name": "stderr"
        },
        {
          "output_type": "stream",
          "text": [
            "(626, 20)\n",
            "drive/My Drive/Colab Notebooks/spotify/input/tracks_sv/4zqL8VPaENBwu8GVD08jyr.wav\n"
          ],
          "name": "stdout"
        },
        {
          "output_type": "stream",
          "text": [
            "\r 63%|██████▎   | 628/1000 [20:49<12:03,  1.94s/it]"
          ],
          "name": "stderr"
        },
        {
          "output_type": "stream",
          "text": [
            "(627, 20)\n",
            "drive/My Drive/Colab Notebooks/spotify/input/tracks_sv/501qBoW0MQEBySm9c7CcTQ.wav\n"
          ],
          "name": "stdout"
        },
        {
          "output_type": "stream",
          "text": [
            "\r 63%|██████▎   | 629/1000 [20:51<11:56,  1.93s/it]"
          ],
          "name": "stderr"
        },
        {
          "output_type": "stream",
          "text": [
            "(628, 20)\n",
            "drive/My Drive/Colab Notebooks/spotify/input/tracks_sv/50vcsEWs3n0HKT8qTwF2pd.wav\n"
          ],
          "name": "stdout"
        },
        {
          "output_type": "stream",
          "text": [
            "\r 63%|██████▎   | 630/1000 [20:52<11:54,  1.93s/it]"
          ],
          "name": "stderr"
        },
        {
          "output_type": "stream",
          "text": [
            "(629, 20)\n",
            "drive/My Drive/Colab Notebooks/spotify/input/tracks_sv/526NsA2BI2b10l05a13VWm.wav\n"
          ],
          "name": "stdout"
        },
        {
          "output_type": "stream",
          "text": [
            "\r 63%|██████▎   | 631/1000 [20:54<11:48,  1.92s/it]"
          ],
          "name": "stderr"
        },
        {
          "output_type": "stream",
          "text": [
            "(630, 20)\n",
            "drive/My Drive/Colab Notebooks/spotify/input/tracks_sv/52ixoWfbiMfknnUAtgTut7.wav\n"
          ],
          "name": "stdout"
        },
        {
          "output_type": "stream",
          "text": [
            "\r 63%|██████▎   | 632/1000 [20:56<11:46,  1.92s/it]"
          ],
          "name": "stderr"
        },
        {
          "output_type": "stream",
          "text": [
            "(631, 20)\n",
            "drive/My Drive/Colab Notebooks/spotify/input/tracks_sv/53WuztMfY1VH3rLIm0zApQ.wav\n"
          ],
          "name": "stdout"
        },
        {
          "output_type": "stream",
          "text": [
            "\r 63%|██████▎   | 633/1000 [20:58<11:41,  1.91s/it]"
          ],
          "name": "stderr"
        },
        {
          "output_type": "stream",
          "text": [
            "(632, 20)\n",
            "drive/My Drive/Colab Notebooks/spotify/input/tracks_sv/55IQJwAFD69t2hh75Uz6Sb.wav\n"
          ],
          "name": "stdout"
        },
        {
          "output_type": "stream",
          "text": [
            "\r 63%|██████▎   | 634/1000 [21:00<11:40,  1.91s/it]"
          ],
          "name": "stderr"
        },
        {
          "output_type": "stream",
          "text": [
            "(633, 20)\n",
            "drive/My Drive/Colab Notebooks/spotify/input/tracks_sv/55vjKvDgczpngRvZYZTFTe.wav\n"
          ],
          "name": "stdout"
        },
        {
          "output_type": "stream",
          "text": [
            "\r 64%|██████▎   | 635/1000 [21:02<11:41,  1.92s/it]"
          ],
          "name": "stderr"
        },
        {
          "output_type": "stream",
          "text": [
            "(634, 20)\n",
            "drive/My Drive/Colab Notebooks/spotify/input/tracks_sv/56WnKtj8prAR2WoZdCGFBW.wav\n"
          ],
          "name": "stdout"
        },
        {
          "output_type": "stream",
          "text": [
            "\r 64%|██████▎   | 636/1000 [21:04<11:40,  1.93s/it]"
          ],
          "name": "stderr"
        },
        {
          "output_type": "stream",
          "text": [
            "(635, 20)\n",
            "drive/My Drive/Colab Notebooks/spotify/input/tracks_sv/56buJqVoRPgpbNGkPUHHQd.wav\n"
          ],
          "name": "stdout"
        },
        {
          "output_type": "stream",
          "text": [
            "\r 64%|██████▎   | 637/1000 [21:06<11:43,  1.94s/it]"
          ],
          "name": "stderr"
        },
        {
          "output_type": "stream",
          "text": [
            "(636, 20)\n",
            "drive/My Drive/Colab Notebooks/spotify/input/tracks_sv/57AzqLHi016buHqx4fdHyq.wav\n"
          ],
          "name": "stdout"
        },
        {
          "output_type": "stream",
          "text": [
            "\r 64%|██████▍   | 638/1000 [21:08<11:46,  1.95s/it]"
          ],
          "name": "stderr"
        },
        {
          "output_type": "stream",
          "text": [
            "(637, 20)\n",
            "drive/My Drive/Colab Notebooks/spotify/input/tracks_sv/57T1nEAUura1AX0JgJDVDu.wav\n"
          ],
          "name": "stdout"
        },
        {
          "output_type": "stream",
          "text": [
            "\r 64%|██████▍   | 639/1000 [21:10<11:38,  1.93s/it]"
          ],
          "name": "stderr"
        },
        {
          "output_type": "stream",
          "text": [
            "(638, 20)\n",
            "drive/My Drive/Colab Notebooks/spotify/input/tracks_sv/57ZCBEDn2ziqdKlBT7FJIO.wav\n"
          ],
          "name": "stdout"
        },
        {
          "output_type": "stream",
          "text": [
            "\r 64%|██████▍   | 640/1000 [21:12<11:35,  1.93s/it]"
          ],
          "name": "stderr"
        },
        {
          "output_type": "stream",
          "text": [
            "(639, 20)\n",
            "drive/My Drive/Colab Notebooks/spotify/input/tracks_sv/58dxGXavrcagRqA58fNB0Z.wav\n"
          ],
          "name": "stdout"
        },
        {
          "output_type": "stream",
          "text": [
            "\r 64%|██████▍   | 641/1000 [21:14<11:35,  1.94s/it]"
          ],
          "name": "stderr"
        },
        {
          "output_type": "stream",
          "text": [
            "(640, 20)\n",
            "drive/My Drive/Colab Notebooks/spotify/input/tracks_sv/590HV9S4m776vmsT1NORTQ.wav\n"
          ],
          "name": "stdout"
        },
        {
          "output_type": "stream",
          "text": [
            "\r 64%|██████▍   | 642/1000 [21:16<11:30,  1.93s/it]"
          ],
          "name": "stderr"
        },
        {
          "output_type": "stream",
          "text": [
            "(641, 20)\n",
            "drive/My Drive/Colab Notebooks/spotify/input/tracks_sv/59DxJYdRVA1SGwAhNpigTi.wav\n"
          ],
          "name": "stdout"
        },
        {
          "output_type": "stream",
          "text": [
            "\r 64%|██████▍   | 643/1000 [21:18<11:30,  1.93s/it]"
          ],
          "name": "stderr"
        },
        {
          "output_type": "stream",
          "text": [
            "(642, 20)\n",
            "drive/My Drive/Colab Notebooks/spotify/input/tracks_sv/59eluCMn0XbOWqeWQ91FTM.wav\n"
          ],
          "name": "stdout"
        },
        {
          "output_type": "stream",
          "text": [
            "\r 64%|██████▍   | 644/1000 [21:19<11:25,  1.93s/it]"
          ],
          "name": "stderr"
        },
        {
          "output_type": "stream",
          "text": [
            "(643, 20)\n",
            "drive/My Drive/Colab Notebooks/spotify/input/tracks_sv/5A4xCfm0MybwPbAdVqoJe2.wav\n"
          ],
          "name": "stdout"
        },
        {
          "output_type": "stream",
          "text": [
            "\r 64%|██████▍   | 645/1000 [21:21<11:23,  1.93s/it]"
          ],
          "name": "stderr"
        },
        {
          "output_type": "stream",
          "text": [
            "(644, 20)\n",
            "drive/My Drive/Colab Notebooks/spotify/input/tracks_sv/5B36byNsxLer31rJz1jlKT.wav\n"
          ],
          "name": "stdout"
        },
        {
          "output_type": "stream",
          "text": [
            "\r 65%|██████▍   | 646/1000 [21:24<11:41,  1.98s/it]"
          ],
          "name": "stderr"
        },
        {
          "output_type": "stream",
          "text": [
            "(645, 20)\n",
            "drive/My Drive/Colab Notebooks/spotify/input/tracks_sv/5B7R75fl4btkacH5gOnyvm.wav\n"
          ],
          "name": "stdout"
        },
        {
          "output_type": "stream",
          "text": [
            "\r 65%|██████▍   | 647/1000 [21:26<11:45,  2.00s/it]"
          ],
          "name": "stderr"
        },
        {
          "output_type": "stream",
          "text": [
            "(646, 20)\n",
            "drive/My Drive/Colab Notebooks/spotify/input/tracks_sv/5CJYN79pP3DVxGhdeE13yi.wav\n"
          ],
          "name": "stdout"
        },
        {
          "output_type": "stream",
          "text": [
            "\r 65%|██████▍   | 648/1000 [21:27<11:32,  1.97s/it]"
          ],
          "name": "stderr"
        },
        {
          "output_type": "stream",
          "text": [
            "(647, 20)\n",
            "drive/My Drive/Colab Notebooks/spotify/input/tracks_sv/5CUDK5QhCIqQqfoBUo2cAm.wav\n"
          ],
          "name": "stdout"
        },
        {
          "output_type": "stream",
          "text": [
            "\r 65%|██████▍   | 649/1000 [21:29<11:22,  1.94s/it]"
          ],
          "name": "stderr"
        },
        {
          "output_type": "stream",
          "text": [
            "(648, 20)\n",
            "drive/My Drive/Colab Notebooks/spotify/input/tracks_sv/5CtETHMj3Bs0YzA9CC4aaR.wav\n"
          ],
          "name": "stdout"
        },
        {
          "output_type": "stream",
          "text": [
            "\r 65%|██████▌   | 650/1000 [21:31<11:28,  1.97s/it]"
          ],
          "name": "stderr"
        },
        {
          "output_type": "stream",
          "text": [
            "(649, 20)\n",
            "drive/My Drive/Colab Notebooks/spotify/input/tracks_sv/5D8UugGdM9n9hMsiminaZN.wav\n"
          ],
          "name": "stdout"
        },
        {
          "output_type": "stream",
          "text": [
            "\r 65%|██████▌   | 651/1000 [21:33<11:21,  1.95s/it]"
          ],
          "name": "stderr"
        },
        {
          "output_type": "stream",
          "text": [
            "(650, 20)\n",
            "drive/My Drive/Colab Notebooks/spotify/input/tracks_sv/5DJByOTv5ef2u5TDPjCFsE.wav\n"
          ],
          "name": "stdout"
        },
        {
          "output_type": "stream",
          "text": [
            "\r 65%|██████▌   | 652/1000 [21:35<11:19,  1.95s/it]"
          ],
          "name": "stderr"
        },
        {
          "output_type": "stream",
          "text": [
            "(651, 20)\n",
            "drive/My Drive/Colab Notebooks/spotify/input/tracks_sv/5DMEvbg3gUmiR5HIBWdveV.wav\n"
          ],
          "name": "stdout"
        },
        {
          "output_type": "stream",
          "text": [
            "\r 65%|██████▌   | 653/1000 [21:37<11:15,  1.95s/it]"
          ],
          "name": "stderr"
        },
        {
          "output_type": "stream",
          "text": [
            "(652, 20)\n",
            "drive/My Drive/Colab Notebooks/spotify/input/tracks_sv/5DUJ8q3tEeRPEoZEw0YjGn.wav\n"
          ],
          "name": "stdout"
        },
        {
          "output_type": "stream",
          "text": [
            "\r 65%|██████▌   | 654/1000 [21:39<11:08,  1.93s/it]"
          ],
          "name": "stderr"
        },
        {
          "output_type": "stream",
          "text": [
            "(653, 20)\n",
            "drive/My Drive/Colab Notebooks/spotify/input/tracks_sv/5DtsD7m3yQAD4KyrsjzHA1.wav\n"
          ],
          "name": "stdout"
        },
        {
          "output_type": "stream",
          "text": [
            "\r 66%|██████▌   | 655/1000 [21:41<11:06,  1.93s/it]"
          ],
          "name": "stderr"
        },
        {
          "output_type": "stream",
          "text": [
            "(654, 20)\n",
            "drive/My Drive/Colab Notebooks/spotify/input/tracks_sv/5EoAAIHhFmcKtkF26mzqp9.wav\n"
          ],
          "name": "stdout"
        },
        {
          "output_type": "stream",
          "text": [
            "\r 66%|██████▌   | 656/1000 [21:43<11:31,  2.01s/it]"
          ],
          "name": "stderr"
        },
        {
          "output_type": "stream",
          "text": [
            "(655, 20)\n",
            "drive/My Drive/Colab Notebooks/spotify/input/tracks_sv/5FD8hfeNHqXqRxaGSxMr4p.wav\n"
          ],
          "name": "stdout"
        },
        {
          "output_type": "stream",
          "text": [
            "\r 66%|██████▌   | 657/1000 [21:45<11:41,  2.05s/it]"
          ],
          "name": "stderr"
        },
        {
          "output_type": "stream",
          "text": [
            "(656, 20)\n",
            "drive/My Drive/Colab Notebooks/spotify/input/tracks_sv/5FZxhUOniU4ROKbM0VW7C7.wav\n"
          ],
          "name": "stdout"
        },
        {
          "output_type": "stream",
          "text": [
            "\r 66%|██████▌   | 658/1000 [21:47<11:31,  2.02s/it]"
          ],
          "name": "stderr"
        },
        {
          "output_type": "stream",
          "text": [
            "(657, 20)\n",
            "drive/My Drive/Colab Notebooks/spotify/input/tracks_sv/5Fw07rxmvCU97W1ffx2LaI.wav\n"
          ],
          "name": "stdout"
        },
        {
          "output_type": "stream",
          "text": [
            "\r 66%|██████▌   | 659/1000 [21:49<11:23,  2.00s/it]"
          ],
          "name": "stderr"
        },
        {
          "output_type": "stream",
          "text": [
            "(658, 20)\n",
            "drive/My Drive/Colab Notebooks/spotify/input/tracks_sv/5G24eB35Ucu4A8MPKLNV9B.wav\n"
          ],
          "name": "stdout"
        },
        {
          "output_type": "stream",
          "text": [
            "\r 66%|██████▌   | 660/1000 [21:51<11:24,  2.01s/it]"
          ],
          "name": "stderr"
        },
        {
          "output_type": "stream",
          "text": [
            "(659, 20)\n",
            "drive/My Drive/Colab Notebooks/spotify/input/tracks_sv/5Gap4rp2OPWWYxi517OG7L.wav\n"
          ],
          "name": "stdout"
        },
        {
          "output_type": "stream",
          "text": [
            "\r 66%|██████▌   | 661/1000 [21:53<11:06,  1.97s/it]"
          ],
          "name": "stderr"
        },
        {
          "output_type": "stream",
          "text": [
            "(660, 20)\n",
            "drive/My Drive/Colab Notebooks/spotify/input/tracks_sv/5HXCP7b8k64WdZ1G0Bbc13.wav\n"
          ],
          "name": "stdout"
        },
        {
          "output_type": "stream",
          "text": [
            "\r 66%|██████▌   | 662/1000 [21:55<11:22,  2.02s/it]"
          ],
          "name": "stderr"
        },
        {
          "output_type": "stream",
          "text": [
            "(661, 20)\n",
            "drive/My Drive/Colab Notebooks/spotify/input/tracks_sv/5Hi4IAtdFZzg6IfAVMd6lZ.wav\n"
          ],
          "name": "stdout"
        },
        {
          "output_type": "stream",
          "text": [
            "\r 66%|██████▋   | 663/1000 [21:57<11:12,  2.00s/it]"
          ],
          "name": "stderr"
        },
        {
          "output_type": "stream",
          "text": [
            "(662, 20)\n",
            "drive/My Drive/Colab Notebooks/spotify/input/tracks_sv/5Hu29JT4xtbRUBTZeOAjxW.wav\n"
          ],
          "name": "stdout"
        },
        {
          "output_type": "stream",
          "text": [
            "\r 66%|██████▋   | 664/1000 [21:59<10:58,  1.96s/it]"
          ],
          "name": "stderr"
        },
        {
          "output_type": "stream",
          "text": [
            "(663, 20)\n",
            "drive/My Drive/Colab Notebooks/spotify/input/tracks_sv/5I4F90RmT6Bo46Uk8jjuDS.wav\n"
          ],
          "name": "stdout"
        },
        {
          "output_type": "stream",
          "text": [
            "\r 66%|██████▋   | 665/1000 [22:01<10:54,  1.95s/it]"
          ],
          "name": "stderr"
        },
        {
          "output_type": "stream",
          "text": [
            "(664, 20)\n",
            "drive/My Drive/Colab Notebooks/spotify/input/tracks_sv/5IwRgi599tbwNi9wqPYyIX.wav\n"
          ],
          "name": "stdout"
        },
        {
          "output_type": "stream",
          "text": [
            "\r 67%|██████▋   | 666/1000 [22:03<10:48,  1.94s/it]"
          ],
          "name": "stderr"
        },
        {
          "output_type": "stream",
          "text": [
            "(665, 20)\n",
            "drive/My Drive/Colab Notebooks/spotify/input/tracks_sv/5JUdOlFASwTo3ZvJWE77mr.wav\n"
          ],
          "name": "stdout"
        },
        {
          "output_type": "stream",
          "text": [
            "\r 67%|██████▋   | 667/1000 [22:05<10:45,  1.94s/it]"
          ],
          "name": "stderr"
        },
        {
          "output_type": "stream",
          "text": [
            "(666, 20)\n",
            "drive/My Drive/Colab Notebooks/spotify/input/tracks_sv/5JXd3XM2cT68cIeuofZQ0I.wav\n"
          ],
          "name": "stdout"
        },
        {
          "output_type": "stream",
          "text": [
            "\r 67%|██████▋   | 668/1000 [22:07<10:38,  1.92s/it]"
          ],
          "name": "stderr"
        },
        {
          "output_type": "stream",
          "text": [
            "(667, 20)\n",
            "drive/My Drive/Colab Notebooks/spotify/input/tracks_sv/5KCJprz0gbE2ZucMkVsTfJ.wav\n"
          ],
          "name": "stdout"
        },
        {
          "output_type": "stream",
          "text": [
            "\r 67%|██████▋   | 669/1000 [22:09<10:38,  1.93s/it]"
          ],
          "name": "stderr"
        },
        {
          "output_type": "stream",
          "text": [
            "(668, 20)\n",
            "drive/My Drive/Colab Notebooks/spotify/input/tracks_sv/5KjpVjzswXSbrUuIKds12T.wav\n"
          ],
          "name": "stdout"
        },
        {
          "output_type": "stream",
          "text": [
            "\r 67%|██████▋   | 670/1000 [22:11<10:38,  1.93s/it]"
          ],
          "name": "stderr"
        },
        {
          "output_type": "stream",
          "text": [
            "(669, 20)\n",
            "drive/My Drive/Colab Notebooks/spotify/input/tracks_sv/5LPabcbq8wANcTYtxi0mia.wav\n"
          ],
          "name": "stdout"
        },
        {
          "output_type": "stream",
          "text": [
            "\r 67%|██████▋   | 671/1000 [22:13<10:31,  1.92s/it]"
          ],
          "name": "stderr"
        },
        {
          "output_type": "stream",
          "text": [
            "(670, 20)\n",
            "drive/My Drive/Colab Notebooks/spotify/input/tracks_sv/5LkWXxDxUTwEVHL0pfKL55.wav\n"
          ],
          "name": "stdout"
        },
        {
          "output_type": "stream",
          "text": [
            "\r 67%|██████▋   | 672/1000 [22:15<10:36,  1.94s/it]"
          ],
          "name": "stderr"
        },
        {
          "output_type": "stream",
          "text": [
            "(671, 20)\n",
            "drive/My Drive/Colab Notebooks/spotify/input/tracks_sv/5Lv0iSBtzwULPjjQLKbdZO.wav\n"
          ],
          "name": "stdout"
        },
        {
          "output_type": "stream",
          "text": [
            "\r 67%|██████▋   | 673/1000 [22:16<10:31,  1.93s/it]"
          ],
          "name": "stderr"
        },
        {
          "output_type": "stream",
          "text": [
            "(672, 20)\n",
            "drive/My Drive/Colab Notebooks/spotify/input/tracks_sv/5MeWLqxE0fiAcn6KpXc5y4.wav\n"
          ],
          "name": "stdout"
        },
        {
          "output_type": "stream",
          "text": [
            "\r 67%|██████▋   | 674/1000 [22:18<10:33,  1.94s/it]"
          ],
          "name": "stderr"
        },
        {
          "output_type": "stream",
          "text": [
            "(673, 20)\n",
            "drive/My Drive/Colab Notebooks/spotify/input/tracks_sv/5NFyTOIDaq9ldGMuNfypgg.wav\n"
          ],
          "name": "stdout"
        },
        {
          "output_type": "stream",
          "text": [
            "\r 68%|██████▊   | 675/1000 [22:20<10:26,  1.93s/it]"
          ],
          "name": "stderr"
        },
        {
          "output_type": "stream",
          "text": [
            "(674, 20)\n",
            "drive/My Drive/Colab Notebooks/spotify/input/tracks_sv/5O3KHkEMQMGmO1mPtlpsMe.wav\n"
          ],
          "name": "stdout"
        },
        {
          "output_type": "stream",
          "text": [
            "\r 68%|██████▊   | 676/1000 [22:22<10:26,  1.93s/it]"
          ],
          "name": "stderr"
        },
        {
          "output_type": "stream",
          "text": [
            "(675, 20)\n",
            "drive/My Drive/Colab Notebooks/spotify/input/tracks_sv/5PFsSn38aMVt1qkBsGPrp9.wav\n"
          ],
          "name": "stdout"
        },
        {
          "output_type": "stream",
          "text": [
            "\r 68%|██████▊   | 677/1000 [22:24<10:26,  1.94s/it]"
          ],
          "name": "stderr"
        },
        {
          "output_type": "stream",
          "text": [
            "(676, 20)\n",
            "drive/My Drive/Colab Notebooks/spotify/input/tracks_sv/5Q6z8rqbH1CfYaUOqktJbE.wav\n"
          ],
          "name": "stdout"
        },
        {
          "output_type": "stream",
          "text": [
            "\r 68%|██████▊   | 678/1000 [22:27<11:13,  2.09s/it]"
          ],
          "name": "stderr"
        },
        {
          "output_type": "stream",
          "text": [
            "(677, 20)\n",
            "drive/My Drive/Colab Notebooks/spotify/input/tracks_sv/5Qfw76KLvvMgrq6xtajJIO.wav\n"
          ],
          "name": "stdout"
        },
        {
          "output_type": "stream",
          "text": [
            "\r 68%|██████▊   | 679/1000 [22:29<10:54,  2.04s/it]"
          ],
          "name": "stderr"
        },
        {
          "output_type": "stream",
          "text": [
            "(678, 20)\n",
            "drive/My Drive/Colab Notebooks/spotify/input/tracks_sv/5Qypifn5KQJcOOZy1Idzub.wav\n"
          ],
          "name": "stdout"
        },
        {
          "output_type": "stream",
          "text": [
            "\r 68%|██████▊   | 680/1000 [22:30<10:40,  2.00s/it]"
          ],
          "name": "stderr"
        },
        {
          "output_type": "stream",
          "text": [
            "(679, 20)\n",
            "drive/My Drive/Colab Notebooks/spotify/input/tracks_sv/5R73heiC9M9u94jsNrS2BF.wav\n"
          ],
          "name": "stdout"
        },
        {
          "output_type": "stream",
          "text": [
            "\r 68%|██████▊   | 681/1000 [22:32<10:34,  1.99s/it]"
          ],
          "name": "stderr"
        },
        {
          "output_type": "stream",
          "text": [
            "(680, 20)\n",
            "drive/My Drive/Colab Notebooks/spotify/input/tracks_sv/5RF0svjqbG1ZV7RwxjrTxl.wav\n"
          ],
          "name": "stdout"
        },
        {
          "output_type": "stream",
          "text": [
            "\r 68%|██████▊   | 682/1000 [22:35<11:09,  2.11s/it]"
          ],
          "name": "stderr"
        },
        {
          "output_type": "stream",
          "text": [
            "(681, 20)\n",
            "drive/My Drive/Colab Notebooks/spotify/input/tracks_sv/5RXmLhscstsdvWPN0XtUa0.wav\n"
          ],
          "name": "stdout"
        },
        {
          "output_type": "stream",
          "text": [
            "\r 68%|██████▊   | 683/1000 [22:37<10:50,  2.05s/it]"
          ],
          "name": "stderr"
        },
        {
          "output_type": "stream",
          "text": [
            "(682, 20)\n",
            "drive/My Drive/Colab Notebooks/spotify/input/tracks_sv/5SAfCuYGb48kyOlTira3nD.wav\n"
          ],
          "name": "stdout"
        },
        {
          "output_type": "stream",
          "text": [
            "\r 68%|██████▊   | 684/1000 [22:39<11:14,  2.13s/it]"
          ],
          "name": "stderr"
        },
        {
          "output_type": "stream",
          "text": [
            "(683, 20)\n",
            "drive/My Drive/Colab Notebooks/spotify/input/tracks_sv/5SDVaYU4nfaIV0rNSlWSCa.wav\n"
          ],
          "name": "stdout"
        },
        {
          "output_type": "stream",
          "text": [
            "\r 68%|██████▊   | 685/1000 [22:41<11:06,  2.12s/it]"
          ],
          "name": "stderr"
        },
        {
          "output_type": "stream",
          "text": [
            "(684, 20)\n",
            "drive/My Drive/Colab Notebooks/spotify/input/tracks_sv/5SdZWiJLe7xcSOZztJvtKN.wav\n"
          ],
          "name": "stdout"
        },
        {
          "output_type": "stream",
          "text": [
            "\r 69%|██████▊   | 686/1000 [22:43<11:01,  2.11s/it]"
          ],
          "name": "stderr"
        },
        {
          "output_type": "stream",
          "text": [
            "(685, 20)\n",
            "drive/My Drive/Colab Notebooks/spotify/input/tracks_sv/5TwVwAlOcrMV0VMp0PgZzq.wav\n"
          ],
          "name": "stdout"
        },
        {
          "output_type": "stream",
          "text": [
            "\r 69%|██████▊   | 687/1000 [22:45<10:47,  2.07s/it]"
          ],
          "name": "stderr"
        },
        {
          "output_type": "stream",
          "text": [
            "(686, 20)\n",
            "drive/My Drive/Colab Notebooks/spotify/input/tracks_sv/5U1xJmlRimUm6DtRd0kM6f.wav\n"
          ],
          "name": "stdout"
        },
        {
          "output_type": "stream",
          "text": [
            "\r 69%|██████▉   | 688/1000 [22:47<10:39,  2.05s/it]"
          ],
          "name": "stderr"
        },
        {
          "output_type": "stream",
          "text": [
            "(687, 20)\n",
            "drive/My Drive/Colab Notebooks/spotify/input/tracks_sv/5UM4sOpIxRZpIHZh23ctx1.wav\n"
          ],
          "name": "stdout"
        },
        {
          "output_type": "stream",
          "text": [
            "\r 69%|██████▉   | 689/1000 [22:49<10:38,  2.05s/it]"
          ],
          "name": "stderr"
        },
        {
          "output_type": "stream",
          "text": [
            "(688, 20)\n",
            "drive/My Drive/Colab Notebooks/spotify/input/tracks_sv/5VBSeHT84TB0d6EcKt8VCk.wav\n"
          ],
          "name": "stdout"
        },
        {
          "output_type": "stream",
          "text": [
            "\r 69%|██████▉   | 690/1000 [22:51<10:19,  2.00s/it]"
          ],
          "name": "stderr"
        },
        {
          "output_type": "stream",
          "text": [
            "(689, 20)\n",
            "drive/My Drive/Colab Notebooks/spotify/input/tracks_sv/5VZLy9ErgfGWiHc1Tq2Dx7.wav\n"
          ],
          "name": "stdout"
        },
        {
          "output_type": "stream",
          "text": [
            "\r 69%|██████▉   | 691/1000 [22:53<10:07,  1.97s/it]"
          ],
          "name": "stderr"
        },
        {
          "output_type": "stream",
          "text": [
            "(690, 20)\n",
            "drive/My Drive/Colab Notebooks/spotify/input/tracks_sv/5WTXWw3ExdMtpozfFNH25d.wav\n"
          ],
          "name": "stdout"
        },
        {
          "output_type": "stream",
          "text": [
            "\r 69%|██████▉   | 692/1000 [22:55<10:00,  1.95s/it]"
          ],
          "name": "stderr"
        },
        {
          "output_type": "stream",
          "text": [
            "(691, 20)\n",
            "drive/My Drive/Colab Notebooks/spotify/input/tracks_sv/5WaPED3htHGdn0Yl37OLWC.wav\n"
          ],
          "name": "stdout"
        },
        {
          "output_type": "stream",
          "text": [
            "\r 69%|██████▉   | 693/1000 [22:57<09:55,  1.94s/it]"
          ],
          "name": "stderr"
        },
        {
          "output_type": "stream",
          "text": [
            "(692, 20)\n",
            "drive/My Drive/Colab Notebooks/spotify/input/tracks_sv/5X5dZALmQKMV4p8pm9V1FP.wav\n"
          ],
          "name": "stdout"
        },
        {
          "output_type": "stream",
          "text": [
            "\r 69%|██████▉   | 694/1000 [22:59<09:50,  1.93s/it]"
          ],
          "name": "stderr"
        },
        {
          "output_type": "stream",
          "text": [
            "(693, 20)\n",
            "drive/My Drive/Colab Notebooks/spotify/input/tracks_sv/5Xhe6quw4D0bQp7WxLLec6.wav\n"
          ],
          "name": "stdout"
        },
        {
          "output_type": "stream",
          "text": [
            "\r 70%|██████▉   | 695/1000 [23:01<09:47,  1.93s/it]"
          ],
          "name": "stderr"
        },
        {
          "output_type": "stream",
          "text": [
            "(694, 20)\n",
            "drive/My Drive/Colab Notebooks/spotify/input/tracks_sv/5XhqWow7MNpWsXRsg1mUl5.wav\n"
          ],
          "name": "stdout"
        },
        {
          "output_type": "stream",
          "text": [
            "\r 70%|██████▉   | 696/1000 [23:03<09:50,  1.94s/it]"
          ],
          "name": "stderr"
        },
        {
          "output_type": "stream",
          "text": [
            "(695, 20)\n",
            "drive/My Drive/Colab Notebooks/spotify/input/tracks_sv/5XoKMMsaXR6tjrgGs9l8wd.wav\n"
          ],
          "name": "stdout"
        },
        {
          "output_type": "stream",
          "text": [
            "\r 70%|██████▉   | 697/1000 [23:05<09:47,  1.94s/it]"
          ],
          "name": "stderr"
        },
        {
          "output_type": "stream",
          "text": [
            "(696, 20)\n",
            "drive/My Drive/Colab Notebooks/spotify/input/tracks_sv/5Yl2cEh8Z6E0siVTaQZyCi.wav\n"
          ],
          "name": "stdout"
        },
        {
          "output_type": "stream",
          "text": [
            "\r 70%|██████▉   | 698/1000 [23:07<09:47,  1.95s/it]"
          ],
          "name": "stderr"
        },
        {
          "output_type": "stream",
          "text": [
            "(697, 20)\n",
            "drive/My Drive/Colab Notebooks/spotify/input/tracks_sv/5Ywyag9zGnY8w11MKIszuP.wav\n"
          ],
          "name": "stdout"
        },
        {
          "output_type": "stream",
          "text": [
            "\r 70%|██████▉   | 699/1000 [23:08<09:42,  1.93s/it]"
          ],
          "name": "stderr"
        },
        {
          "output_type": "stream",
          "text": [
            "(698, 20)\n",
            "drive/My Drive/Colab Notebooks/spotify/input/tracks_sv/5aDgM8rYPT15CqjkN1EIKq.wav\n"
          ],
          "name": "stdout"
        },
        {
          "output_type": "stream",
          "text": [
            "\r 70%|███████   | 700/1000 [23:11<09:56,  1.99s/it]"
          ],
          "name": "stderr"
        },
        {
          "output_type": "stream",
          "text": [
            "(699, 20)\n",
            "drive/My Drive/Colab Notebooks/spotify/input/tracks_sv/5ajuYPSm8un3HZ106W30Gg.wav\n"
          ],
          "name": "stdout"
        },
        {
          "output_type": "stream",
          "text": [
            "\r 70%|███████   | 701/1000 [23:13<09:49,  1.97s/it]"
          ],
          "name": "stderr"
        },
        {
          "output_type": "stream",
          "text": [
            "(700, 20)\n",
            "drive/My Drive/Colab Notebooks/spotify/input/tracks_sv/5axy6KzoG6RMSFkwgEnGvd.wav\n"
          ],
          "name": "stdout"
        },
        {
          "output_type": "stream",
          "text": [
            "\r 70%|███████   | 702/1000 [23:16<11:36,  2.34s/it]"
          ],
          "name": "stderr"
        },
        {
          "output_type": "stream",
          "text": [
            "(701, 20)\n",
            "drive/My Drive/Colab Notebooks/spotify/input/tracks_sv/5bD5IZhjdT6KqMjoWAtXyo.wav\n"
          ],
          "name": "stdout"
        },
        {
          "output_type": "stream",
          "text": [
            "\r 70%|███████   | 703/1000 [23:18<10:52,  2.20s/it]"
          ],
          "name": "stderr"
        },
        {
          "output_type": "stream",
          "text": [
            "(702, 20)\n",
            "drive/My Drive/Colab Notebooks/spotify/input/tracks_sv/5bIqpSL4zYypm5yhsOy7wX.wav\n"
          ],
          "name": "stdout"
        },
        {
          "output_type": "stream",
          "text": [
            "\r 70%|███████   | 704/1000 [23:19<10:22,  2.10s/it]"
          ],
          "name": "stderr"
        },
        {
          "output_type": "stream",
          "text": [
            "(703, 20)\n",
            "drive/My Drive/Colab Notebooks/spotify/input/tracks_sv/5bdgq735hCO46J98oi2Wpe.wav\n"
          ],
          "name": "stdout"
        },
        {
          "output_type": "stream",
          "text": [
            "\r 70%|███████   | 705/1000 [23:21<10:03,  2.05s/it]"
          ],
          "name": "stderr"
        },
        {
          "output_type": "stream",
          "text": [
            "(704, 20)\n",
            "drive/My Drive/Colab Notebooks/spotify/input/tracks_sv/5dcY3tnR5Id4R9hvM3Fpvp.wav\n"
          ],
          "name": "stdout"
        },
        {
          "output_type": "stream",
          "text": [
            "\r 71%|███████   | 706/1000 [23:23<09:55,  2.02s/it]"
          ],
          "name": "stderr"
        },
        {
          "output_type": "stream",
          "text": [
            "(705, 20)\n",
            "drive/My Drive/Colab Notebooks/spotify/input/tracks_sv/5djCaAAifB1DmhcDkK7UKm.wav\n"
          ],
          "name": "stdout"
        },
        {
          "output_type": "stream",
          "text": [
            "\r 71%|███████   | 707/1000 [23:25<09:47,  2.01s/it]"
          ],
          "name": "stderr"
        },
        {
          "output_type": "stream",
          "text": [
            "(706, 20)\n",
            "drive/My Drive/Colab Notebooks/spotify/input/tracks_sv/5eAkw6em1YXlcEDfbdtjqm.wav\n"
          ],
          "name": "stdout"
        },
        {
          "output_type": "stream",
          "text": [
            "\r 71%|███████   | 708/1000 [23:27<09:39,  1.98s/it]"
          ],
          "name": "stderr"
        },
        {
          "output_type": "stream",
          "text": [
            "(707, 20)\n",
            "drive/My Drive/Colab Notebooks/spotify/input/tracks_sv/5eie6nT6y80qjpuHhUxhuX.wav\n"
          ],
          "name": "stdout"
        },
        {
          "output_type": "stream",
          "text": [
            "\r 71%|███████   | 709/1000 [23:29<09:44,  2.01s/it]"
          ],
          "name": "stderr"
        },
        {
          "output_type": "stream",
          "text": [
            "(708, 20)\n",
            "drive/My Drive/Colab Notebooks/spotify/input/tracks_sv/5esQPEA5WO5rvIVfRpiIY7.wav\n"
          ],
          "name": "stdout"
        },
        {
          "output_type": "stream",
          "text": [
            "\r 71%|███████   | 710/1000 [23:31<09:56,  2.06s/it]"
          ],
          "name": "stderr"
        },
        {
          "output_type": "stream",
          "text": [
            "(709, 20)\n",
            "drive/My Drive/Colab Notebooks/spotify/input/tracks_sv/5fe5C7gajVhNIwDgewFOEd.wav\n"
          ],
          "name": "stdout"
        },
        {
          "output_type": "stream",
          "text": [
            "\r 71%|███████   | 711/1000 [23:33<09:43,  2.02s/it]"
          ],
          "name": "stderr"
        },
        {
          "output_type": "stream",
          "text": [
            "(710, 20)\n",
            "drive/My Drive/Colab Notebooks/spotify/input/tracks_sv/5g1SvaEtzlKEqre9FbPQEc.wav\n"
          ],
          "name": "stdout"
        },
        {
          "output_type": "stream",
          "text": [
            "\r 71%|███████   | 712/1000 [23:36<10:02,  2.09s/it]"
          ],
          "name": "stderr"
        },
        {
          "output_type": "stream",
          "text": [
            "(711, 20)\n",
            "drive/My Drive/Colab Notebooks/spotify/input/tracks_sv/5g2k3oo9SlwYvITJIwJR1k.wav\n"
          ],
          "name": "stdout"
        },
        {
          "output_type": "stream",
          "text": [
            "\r 71%|███████▏  | 713/1000 [23:38<09:41,  2.02s/it]"
          ],
          "name": "stderr"
        },
        {
          "output_type": "stream",
          "text": [
            "(712, 20)\n",
            "drive/My Drive/Colab Notebooks/spotify/input/tracks_sv/5gKzA0Ypi1E2tGTf3JJleM.wav\n"
          ],
          "name": "stdout"
        },
        {
          "output_type": "stream",
          "text": [
            "\r 71%|███████▏  | 714/1000 [23:40<09:40,  2.03s/it]"
          ],
          "name": "stderr"
        },
        {
          "output_type": "stream",
          "text": [
            "(713, 20)\n",
            "drive/My Drive/Colab Notebooks/spotify/input/tracks_sv/5h8WtFCBDwgggkXMm5aDLU.wav\n"
          ],
          "name": "stdout"
        },
        {
          "output_type": "stream",
          "text": [
            "\r 72%|███████▏  | 715/1000 [23:42<09:33,  2.01s/it]"
          ],
          "name": "stderr"
        },
        {
          "output_type": "stream",
          "text": [
            "(714, 20)\n",
            "drive/My Drive/Colab Notebooks/spotify/input/tracks_sv/5hrS405iyU1OLU4BFwGWGY.wav\n"
          ],
          "name": "stdout"
        },
        {
          "output_type": "stream",
          "text": [
            "\r 72%|███████▏  | 716/1000 [23:43<09:20,  1.97s/it]"
          ],
          "name": "stderr"
        },
        {
          "output_type": "stream",
          "text": [
            "(715, 20)\n",
            "drive/My Drive/Colab Notebooks/spotify/input/tracks_sv/5i3R1qBOvyVVHEa1hVwrrD.wav\n"
          ],
          "name": "stdout"
        },
        {
          "output_type": "stream",
          "text": [
            "\r 72%|███████▏  | 717/1000 [23:45<09:14,  1.96s/it]"
          ],
          "name": "stderr"
        },
        {
          "output_type": "stream",
          "text": [
            "(716, 20)\n",
            "drive/My Drive/Colab Notebooks/spotify/input/tracks_sv/5iSNxrAoctBnFfyz8J9bDO.wav\n"
          ],
          "name": "stdout"
        },
        {
          "output_type": "stream",
          "text": [
            "\r 72%|███████▏  | 718/1000 [23:47<09:06,  1.94s/it]"
          ],
          "name": "stderr"
        },
        {
          "output_type": "stream",
          "text": [
            "(717, 20)\n",
            "drive/My Drive/Colab Notebooks/spotify/input/tracks_sv/5j7ixaLeGTGSv4DzKs0pCM.wav\n"
          ],
          "name": "stdout"
        },
        {
          "output_type": "stream",
          "text": [
            "\r 72%|███████▏  | 719/1000 [23:49<08:59,  1.92s/it]"
          ],
          "name": "stderr"
        },
        {
          "output_type": "stream",
          "text": [
            "(718, 20)\n",
            "drive/My Drive/Colab Notebooks/spotify/input/tracks_sv/5jc5WQlrri3B5MkLByPsuv.wav\n"
          ],
          "name": "stdout"
        },
        {
          "output_type": "stream",
          "text": [
            "\r 72%|███████▏  | 720/1000 [23:51<08:54,  1.91s/it]"
          ],
          "name": "stderr"
        },
        {
          "output_type": "stream",
          "text": [
            "(719, 20)\n",
            "drive/My Drive/Colab Notebooks/spotify/input/tracks_sv/5k6DwtL38uTMioBwIxX0Lx.wav\n"
          ],
          "name": "stdout"
        },
        {
          "output_type": "stream",
          "text": [
            "\r 72%|███████▏  | 721/1000 [23:53<08:55,  1.92s/it]"
          ],
          "name": "stderr"
        },
        {
          "output_type": "stream",
          "text": [
            "(720, 20)\n",
            "drive/My Drive/Colab Notebooks/spotify/input/tracks_sv/5k81p59tAYN1V1CmKSMM75.wav\n"
          ],
          "name": "stdout"
        },
        {
          "output_type": "stream",
          "text": [
            "\r 72%|███████▏  | 722/1000 [23:55<08:55,  1.93s/it]"
          ],
          "name": "stderr"
        },
        {
          "output_type": "stream",
          "text": [
            "(721, 20)\n",
            "drive/My Drive/Colab Notebooks/spotify/input/tracks_sv/5kDz0Wrx0UpaVRttDZ4KtI.wav\n"
          ],
          "name": "stdout"
        },
        {
          "output_type": "stream",
          "text": [
            "\r 72%|███████▏  | 723/1000 [23:57<08:57,  1.94s/it]"
          ],
          "name": "stderr"
        },
        {
          "output_type": "stream",
          "text": [
            "(722, 20)\n",
            "drive/My Drive/Colab Notebooks/spotify/input/tracks_sv/5kIYyeGwlDKCFUN2SFofGd.wav\n"
          ],
          "name": "stdout"
        },
        {
          "output_type": "stream",
          "text": [
            "\r 72%|███████▏  | 724/1000 [23:59<08:55,  1.94s/it]"
          ],
          "name": "stderr"
        },
        {
          "output_type": "stream",
          "text": [
            "(723, 20)\n",
            "drive/My Drive/Colab Notebooks/spotify/input/tracks_sv/5kfsa8umNApDtGrVG8uHeI.wav\n"
          ],
          "name": "stdout"
        },
        {
          "output_type": "stream",
          "text": [
            "\r 72%|███████▎  | 725/1000 [24:01<08:53,  1.94s/it]"
          ],
          "name": "stderr"
        },
        {
          "output_type": "stream",
          "text": [
            "(724, 20)\n",
            "drive/My Drive/Colab Notebooks/spotify/input/tracks_sv/5lP7oqYYLpIhUv33KdS4HX.wav\n"
          ],
          "name": "stdout"
        },
        {
          "output_type": "stream",
          "text": [
            "\r 73%|███████▎  | 726/1000 [24:03<08:55,  1.96s/it]"
          ],
          "name": "stderr"
        },
        {
          "output_type": "stream",
          "text": [
            "(725, 20)\n",
            "drive/My Drive/Colab Notebooks/spotify/input/tracks_sv/5lTR5MO5zhoFncxrFaXMB8.wav\n"
          ],
          "name": "stdout"
        },
        {
          "output_type": "stream",
          "text": [
            "\r 73%|███████▎  | 727/1000 [24:05<09:15,  2.04s/it]"
          ],
          "name": "stderr"
        },
        {
          "output_type": "stream",
          "text": [
            "(726, 20)\n",
            "drive/My Drive/Colab Notebooks/spotify/input/tracks_sv/5m29aktEkdDFBiBpDUfVOh.wav\n"
          ],
          "name": "stdout"
        },
        {
          "output_type": "stream",
          "text": [
            "\r 73%|███████▎  | 728/1000 [24:07<09:02,  1.99s/it]"
          ],
          "name": "stderr"
        },
        {
          "output_type": "stream",
          "text": [
            "(727, 20)\n",
            "drive/My Drive/Colab Notebooks/spotify/input/tracks_sv/5mOOwyOGev9frlXm5NDEQy.wav\n"
          ],
          "name": "stdout"
        },
        {
          "output_type": "stream",
          "text": [
            "\r 73%|███████▎  | 729/1000 [24:09<08:52,  1.96s/it]"
          ],
          "name": "stderr"
        },
        {
          "output_type": "stream",
          "text": [
            "(728, 20)\n",
            "drive/My Drive/Colab Notebooks/spotify/input/tracks_sv/5mVt55yfKXh5bWfm6teGEV.wav\n"
          ],
          "name": "stdout"
        },
        {
          "output_type": "stream",
          "text": [
            "\r 73%|███████▎  | 730/1000 [24:11<09:12,  2.04s/it]"
          ],
          "name": "stderr"
        },
        {
          "output_type": "stream",
          "text": [
            "(729, 20)\n",
            "drive/My Drive/Colab Notebooks/spotify/input/tracks_sv/5nnEGWycHraBQ0EhfOFToK.wav\n"
          ],
          "name": "stdout"
        },
        {
          "output_type": "stream",
          "text": [
            "\r 73%|███████▎  | 731/1000 [24:13<08:59,  2.01s/it]"
          ],
          "name": "stderr"
        },
        {
          "output_type": "stream",
          "text": [
            "(730, 20)\n",
            "drive/My Drive/Colab Notebooks/spotify/input/tracks_sv/5nwb3UKxWWDTYgvbnLCCgU.wav\n"
          ],
          "name": "stdout"
        },
        {
          "output_type": "stream",
          "text": [
            "\r 73%|███████▎  | 732/1000 [24:18<13:41,  3.06s/it]"
          ],
          "name": "stderr"
        },
        {
          "output_type": "stream",
          "text": [
            "(731, 20)\n",
            "drive/My Drive/Colab Notebooks/spotify/input/tracks_sv/5o5gR6R356cbWbz2mVGiZN.wav\n"
          ],
          "name": "stdout"
        },
        {
          "output_type": "stream",
          "text": [
            "\r 73%|███████▎  | 733/1000 [24:20<12:02,  2.71s/it]"
          ],
          "name": "stderr"
        },
        {
          "output_type": "stream",
          "text": [
            "(732, 20)\n",
            "drive/My Drive/Colab Notebooks/spotify/input/tracks_sv/5pGY9aQWCTdBXqSHHaNJ0J.wav\n"
          ],
          "name": "stdout"
        },
        {
          "output_type": "stream",
          "text": [
            "\r 73%|███████▎  | 734/1000 [24:22<11:00,  2.48s/it]"
          ],
          "name": "stderr"
        },
        {
          "output_type": "stream",
          "text": [
            "(733, 20)\n",
            "drive/My Drive/Colab Notebooks/spotify/input/tracks_sv/5qTwnr6WbWeeUDS9dcl5g6.wav\n"
          ],
          "name": "stdout"
        },
        {
          "output_type": "stream",
          "text": [
            "\r 74%|███████▎  | 735/1000 [24:25<10:46,  2.44s/it]"
          ],
          "name": "stderr"
        },
        {
          "output_type": "stream",
          "text": [
            "(734, 20)\n",
            "drive/My Drive/Colab Notebooks/spotify/input/tracks_sv/5qqWTGgelCt5gqAfvkj6gG.wav\n"
          ],
          "name": "stdout"
        },
        {
          "output_type": "stream",
          "text": [
            "\r 74%|███████▎  | 736/1000 [24:27<11:12,  2.55s/it]"
          ],
          "name": "stderr"
        },
        {
          "output_type": "stream",
          "text": [
            "(735, 20)\n",
            "drive/My Drive/Colab Notebooks/spotify/input/tracks_sv/5rfUCmoI7axj6mjpu1Rto5.wav\n"
          ],
          "name": "stdout"
        },
        {
          "output_type": "stream",
          "text": [
            "\r 74%|███████▎  | 737/1000 [24:29<10:17,  2.35s/it]"
          ],
          "name": "stderr"
        },
        {
          "output_type": "stream",
          "text": [
            "(736, 20)\n",
            "drive/My Drive/Colab Notebooks/spotify/input/tracks_sv/5toHSjplFp3ocroYBTS53G.wav\n"
          ],
          "name": "stdout"
        },
        {
          "output_type": "stream",
          "text": [
            "\r 74%|███████▍  | 738/1000 [24:31<09:39,  2.21s/it]"
          ],
          "name": "stderr"
        },
        {
          "output_type": "stream",
          "text": [
            "(737, 20)\n",
            "drive/My Drive/Colab Notebooks/spotify/input/tracks_sv/5uEuQcdrZkxZAXbVBXhIwg.wav\n"
          ],
          "name": "stdout"
        },
        {
          "output_type": "stream",
          "text": [
            "\r 74%|███████▍  | 739/1000 [24:33<09:15,  2.13s/it]"
          ],
          "name": "stderr"
        },
        {
          "output_type": "stream",
          "text": [
            "(738, 20)\n",
            "drive/My Drive/Colab Notebooks/spotify/input/tracks_sv/5uLFI9nPznzlTx67Pze4ME.wav\n"
          ],
          "name": "stdout"
        },
        {
          "output_type": "stream",
          "text": [
            "\r 74%|███████▍  | 740/1000 [24:35<09:12,  2.12s/it]"
          ],
          "name": "stderr"
        },
        {
          "output_type": "stream",
          "text": [
            "(739, 20)\n",
            "drive/My Drive/Colab Notebooks/spotify/input/tracks_sv/5umPOWMg1gi40bqhFx0lIz.wav\n"
          ],
          "name": "stdout"
        },
        {
          "output_type": "stream",
          "text": [
            "\r 74%|███████▍  | 741/1000 [24:37<08:55,  2.07s/it]"
          ],
          "name": "stderr"
        },
        {
          "output_type": "stream",
          "text": [
            "(740, 20)\n",
            "drive/My Drive/Colab Notebooks/spotify/input/tracks_sv/5vMxNgotDOAxdmyOox3tBl.wav\n"
          ],
          "name": "stdout"
        },
        {
          "output_type": "stream",
          "text": [
            "\r 74%|███████▍  | 742/1000 [24:39<08:42,  2.02s/it]"
          ],
          "name": "stderr"
        },
        {
          "output_type": "stream",
          "text": [
            "(741, 20)\n",
            "drive/My Drive/Colab Notebooks/spotify/input/tracks_sv/5vnTYL1H4uGzNaMB14wagO.wav\n"
          ],
          "name": "stdout"
        },
        {
          "output_type": "stream",
          "text": [
            "\r 74%|███████▍  | 743/1000 [24:41<08:33,  2.00s/it]"
          ],
          "name": "stderr"
        },
        {
          "output_type": "stream",
          "text": [
            "(742, 20)\n",
            "drive/My Drive/Colab Notebooks/spotify/input/tracks_sv/5wOxdyn9qYyhFPefzxDeEO.wav\n"
          ],
          "name": "stdout"
        },
        {
          "output_type": "stream",
          "text": [
            "\r 74%|███████▍  | 744/1000 [24:43<08:40,  2.03s/it]"
          ],
          "name": "stderr"
        },
        {
          "output_type": "stream",
          "text": [
            "(743, 20)\n",
            "drive/My Drive/Colab Notebooks/spotify/input/tracks_sv/5wbM5DwZfnfM0U1UFpq8xQ.wav\n"
          ],
          "name": "stdout"
        },
        {
          "output_type": "stream",
          "text": [
            "\r 74%|███████▍  | 745/1000 [24:45<08:32,  2.01s/it]"
          ],
          "name": "stderr"
        },
        {
          "output_type": "stream",
          "text": [
            "(744, 20)\n",
            "drive/My Drive/Colab Notebooks/spotify/input/tracks_sv/5xJgF12zKoxMqayN8YldLB.wav\n"
          ],
          "name": "stdout"
        },
        {
          "output_type": "stream",
          "text": [
            "\r 75%|███████▍  | 746/1000 [24:47<08:38,  2.04s/it]"
          ],
          "name": "stderr"
        },
        {
          "output_type": "stream",
          "text": [
            "(745, 20)\n",
            "drive/My Drive/Colab Notebooks/spotify/input/tracks_sv/5yeXw1L7CqKXkHaJ0W4RrT.wav\n"
          ],
          "name": "stdout"
        },
        {
          "output_type": "stream",
          "text": [
            "\r 75%|███████▍  | 747/1000 [24:49<08:25,  2.00s/it]"
          ],
          "name": "stderr"
        },
        {
          "output_type": "stream",
          "text": [
            "(746, 20)\n",
            "drive/My Drive/Colab Notebooks/spotify/input/tracks_sv/5zNBixUKk94nh9vh7LBOLs.wav\n"
          ],
          "name": "stdout"
        },
        {
          "output_type": "stream",
          "text": [
            "\r 75%|███████▍  | 748/1000 [24:51<08:15,  1.96s/it]"
          ],
          "name": "stderr"
        },
        {
          "output_type": "stream",
          "text": [
            "(747, 20)\n",
            "drive/My Drive/Colab Notebooks/spotify/input/tracks_sv/5zjKTd03R9yMYl8jdudlnY.wav\n"
          ],
          "name": "stdout"
        },
        {
          "output_type": "stream",
          "text": [
            "\r 75%|███████▍  | 749/1000 [24:53<08:09,  1.95s/it]"
          ],
          "name": "stderr"
        },
        {
          "output_type": "stream",
          "text": [
            "(748, 20)\n",
            "drive/My Drive/Colab Notebooks/spotify/input/tracks_sv/5zos6B7GXjYwoX5nqzNwGG.wav\n"
          ],
          "name": "stdout"
        },
        {
          "output_type": "stream",
          "text": [
            "\r 75%|███████▌  | 750/1000 [24:55<08:03,  1.93s/it]"
          ],
          "name": "stderr"
        },
        {
          "output_type": "stream",
          "text": [
            "(749, 20)\n",
            "drive/My Drive/Colab Notebooks/spotify/input/tracks_sv/614p1GWtIjXCHUgFjFndy3.wav\n"
          ],
          "name": "stdout"
        },
        {
          "output_type": "stream",
          "text": [
            "\r 75%|███████▌  | 751/1000 [24:57<08:03,  1.94s/it]"
          ],
          "name": "stderr"
        },
        {
          "output_type": "stream",
          "text": [
            "(750, 20)\n",
            "drive/My Drive/Colab Notebooks/spotify/input/tracks_sv/61Kvg3tFjHfVGikpkX1QBu.wav\n"
          ],
          "name": "stdout"
        },
        {
          "output_type": "stream",
          "text": [
            "\r 75%|███████▌  | 752/1000 [24:59<07:56,  1.92s/it]"
          ],
          "name": "stderr"
        },
        {
          "output_type": "stream",
          "text": [
            "(751, 20)\n",
            "drive/My Drive/Colab Notebooks/spotify/input/tracks_sv/61Yl4bWKSUeNxe6jPgKq5c.wav\n"
          ],
          "name": "stdout"
        },
        {
          "output_type": "stream",
          "text": [
            "\r 75%|███████▌  | 753/1000 [25:01<07:58,  1.94s/it]"
          ],
          "name": "stderr"
        },
        {
          "output_type": "stream",
          "text": [
            "(752, 20)\n",
            "drive/My Drive/Colab Notebooks/spotify/input/tracks_sv/61znEgS6PbjGHLmQcNr0xZ.wav\n"
          ],
          "name": "stdout"
        },
        {
          "output_type": "stream",
          "text": [
            "\r 75%|███████▌  | 754/1000 [25:03<07:57,  1.94s/it]"
          ],
          "name": "stderr"
        },
        {
          "output_type": "stream",
          "text": [
            "(753, 20)\n",
            "drive/My Drive/Colab Notebooks/spotify/input/tracks_sv/62CKK11WA3VFYIjzkMZGTl.wav\n"
          ],
          "name": "stdout"
        },
        {
          "output_type": "stream",
          "text": [
            "\r 76%|███████▌  | 755/1000 [25:05<08:03,  1.97s/it]"
          ],
          "name": "stderr"
        },
        {
          "output_type": "stream",
          "text": [
            "(754, 20)\n",
            "drive/My Drive/Colab Notebooks/spotify/input/tracks_sv/62IibjqxoHbddtTCqgbbwD.wav\n"
          ],
          "name": "stdout"
        },
        {
          "output_type": "stream",
          "text": [
            "\r 76%|███████▌  | 756/1000 [25:06<07:55,  1.95s/it]"
          ],
          "name": "stderr"
        },
        {
          "output_type": "stream",
          "text": [
            "(755, 20)\n",
            "drive/My Drive/Colab Notebooks/spotify/input/tracks_sv/62i2LI6iDmAHbE9H9wa99z.wav\n"
          ],
          "name": "stdout"
        },
        {
          "output_type": "stream",
          "text": [
            "\r 76%|███████▌  | 757/1000 [25:08<07:53,  1.95s/it]"
          ],
          "name": "stderr"
        },
        {
          "output_type": "stream",
          "text": [
            "(756, 20)\n",
            "drive/My Drive/Colab Notebooks/spotify/input/tracks_sv/63cSJmrM5vHdYPrwg8C36Q.wav\n"
          ],
          "name": "stdout"
        },
        {
          "output_type": "stream",
          "text": [
            "\r 76%|███████▌  | 758/1000 [25:11<07:59,  1.98s/it]"
          ],
          "name": "stderr"
        },
        {
          "output_type": "stream",
          "text": [
            "(757, 20)\n",
            "drive/My Drive/Colab Notebooks/spotify/input/tracks_sv/641v1GDGA1OYzn4LKksAyt.wav\n"
          ],
          "name": "stdout"
        },
        {
          "output_type": "stream",
          "text": [
            "\r 76%|███████▌  | 759/1000 [25:12<07:51,  1.96s/it]"
          ],
          "name": "stderr"
        },
        {
          "output_type": "stream",
          "text": [
            "(758, 20)\n",
            "drive/My Drive/Colab Notebooks/spotify/input/tracks_sv/64zj6HxPacPMf8449VALmT.wav\n"
          ],
          "name": "stdout"
        },
        {
          "output_type": "stream",
          "text": [
            "\r 76%|███████▌  | 760/1000 [25:15<08:19,  2.08s/it]"
          ],
          "name": "stderr"
        },
        {
          "output_type": "stream",
          "text": [
            "(759, 20)\n",
            "drive/My Drive/Colab Notebooks/spotify/input/tracks_sv/65sA6FiT9jtmj6rRogspAP.wav\n"
          ],
          "name": "stdout"
        },
        {
          "output_type": "stream",
          "text": [
            "\r 76%|███████▌  | 761/1000 [25:17<08:04,  2.03s/it]"
          ],
          "name": "stderr"
        },
        {
          "output_type": "stream",
          "text": [
            "(760, 20)\n",
            "drive/My Drive/Colab Notebooks/spotify/input/tracks_sv/67h4DgNPYpHuK0t1HcAK7I.wav\n"
          ],
          "name": "stdout"
        },
        {
          "output_type": "stream",
          "text": [
            "\r 76%|███████▌  | 762/1000 [25:19<07:55,  2.00s/it]"
          ],
          "name": "stderr"
        },
        {
          "output_type": "stream",
          "text": [
            "(761, 20)\n",
            "drive/My Drive/Colab Notebooks/spotify/input/tracks_sv/68cXRMf08Op1dgJGENftWF.wav\n"
          ],
          "name": "stdout"
        },
        {
          "output_type": "stream",
          "text": [
            "\r 76%|███████▋  | 763/1000 [25:21<07:47,  1.97s/it]"
          ],
          "name": "stderr"
        },
        {
          "output_type": "stream",
          "text": [
            "(762, 20)\n",
            "drive/My Drive/Colab Notebooks/spotify/input/tracks_sv/68gE1PN0bgrIyuw5BzzyEP.wav\n"
          ],
          "name": "stdout"
        },
        {
          "output_type": "stream",
          "text": [
            "\r 76%|███████▋  | 764/1000 [25:23<07:50,  1.99s/it]"
          ],
          "name": "stderr"
        },
        {
          "output_type": "stream",
          "text": [
            "(763, 20)\n",
            "drive/My Drive/Colab Notebooks/spotify/input/tracks_sv/69jrtjVjyzRyPCDg0dHYCX.wav\n"
          ],
          "name": "stdout"
        },
        {
          "output_type": "stream",
          "text": [
            "\r 76%|███████▋  | 765/1000 [25:24<07:41,  1.96s/it]"
          ],
          "name": "stderr"
        },
        {
          "output_type": "stream",
          "text": [
            "(764, 20)\n",
            "drive/My Drive/Colab Notebooks/spotify/input/tracks_sv/6AyF586o8MrRISwAM6dCeh.wav\n"
          ],
          "name": "stdout"
        },
        {
          "output_type": "stream",
          "text": [
            "\r 77%|███████▋  | 766/1000 [25:26<07:33,  1.94s/it]"
          ],
          "name": "stderr"
        },
        {
          "output_type": "stream",
          "text": [
            "(765, 20)\n",
            "drive/My Drive/Colab Notebooks/spotify/input/tracks_sv/6BQkSdgPMRdXTfW3ZT0WHY.wav\n"
          ],
          "name": "stdout"
        },
        {
          "output_type": "stream",
          "text": [
            "\r 77%|███████▋  | 767/1000 [25:29<08:04,  2.08s/it]"
          ],
          "name": "stderr"
        },
        {
          "output_type": "stream",
          "text": [
            "(766, 20)\n",
            "drive/My Drive/Colab Notebooks/spotify/input/tracks_sv/6BT7rw4MPWaJHjuixcLUfr.wav\n"
          ],
          "name": "stdout"
        },
        {
          "output_type": "stream",
          "text": [
            "\r 77%|███████▋  | 768/1000 [25:31<07:51,  2.03s/it]"
          ],
          "name": "stderr"
        },
        {
          "output_type": "stream",
          "text": [
            "(767, 20)\n",
            "drive/My Drive/Colab Notebooks/spotify/input/tracks_sv/6BV77pE4JyUQUtaqnXeKa5.wav\n"
          ],
          "name": "stdout"
        },
        {
          "output_type": "stream",
          "text": [
            "\r 77%|███████▋  | 769/1000 [25:33<07:43,  2.01s/it]"
          ],
          "name": "stderr"
        },
        {
          "output_type": "stream",
          "text": [
            "(768, 20)\n",
            "drive/My Drive/Colab Notebooks/spotify/input/tracks_sv/6BZYpggFF6V1ioPkXxNb5U.wav\n"
          ],
          "name": "stdout"
        },
        {
          "output_type": "stream",
          "text": [
            "\r 77%|███████▋  | 770/1000 [25:35<07:39,  2.00s/it]"
          ],
          "name": "stderr"
        },
        {
          "output_type": "stream",
          "text": [
            "(769, 20)\n",
            "drive/My Drive/Colab Notebooks/spotify/input/tracks_sv/6CTH7f1xm03ABnpEKBstRo.wav\n"
          ],
          "name": "stdout"
        },
        {
          "output_type": "stream",
          "text": [
            "\r 77%|███████▋  | 771/1000 [25:37<07:42,  2.02s/it]"
          ],
          "name": "stderr"
        },
        {
          "output_type": "stream",
          "text": [
            "(770, 20)\n",
            "drive/My Drive/Colab Notebooks/spotify/input/tracks_sv/6CU3VvoeQgkg4Wb1vS0zj7.wav\n"
          ],
          "name": "stdout"
        },
        {
          "output_type": "stream",
          "text": [
            "\r 77%|███████▋  | 772/1000 [25:39<07:32,  1.98s/it]"
          ],
          "name": "stderr"
        },
        {
          "output_type": "stream",
          "text": [
            "(771, 20)\n",
            "drive/My Drive/Colab Notebooks/spotify/input/tracks_sv/6Ch42vMAxSrEWPeZ5UKP6h.wav\n"
          ],
          "name": "stdout"
        },
        {
          "output_type": "stream",
          "text": [
            "\r 77%|███████▋  | 773/1000 [25:40<07:26,  1.97s/it]"
          ],
          "name": "stderr"
        },
        {
          "output_type": "stream",
          "text": [
            "(772, 20)\n",
            "drive/My Drive/Colab Notebooks/spotify/input/tracks_sv/6D6Pybzey0shI8U9ttRAPx.wav\n"
          ],
          "name": "stdout"
        },
        {
          "output_type": "stream",
          "text": [
            "\r 77%|███████▋  | 774/1000 [25:42<07:23,  1.96s/it]"
          ],
          "name": "stderr"
        },
        {
          "output_type": "stream",
          "text": [
            "(773, 20)\n",
            "drive/My Drive/Colab Notebooks/spotify/input/tracks_sv/6Dhc1JwsRoSqBoWFUBKg5j.wav\n"
          ],
          "name": "stdout"
        },
        {
          "output_type": "stream",
          "text": [
            "\r 78%|███████▊  | 775/1000 [25:44<07:18,  1.95s/it]"
          ],
          "name": "stderr"
        },
        {
          "output_type": "stream",
          "text": [
            "(774, 20)\n",
            "drive/My Drive/Colab Notebooks/spotify/input/tracks_sv/6EWES7nAfiT9ur5nvpWN4s.wav\n"
          ],
          "name": "stdout"
        },
        {
          "output_type": "stream",
          "text": [
            "\r 78%|███████▊  | 776/1000 [25:46<07:16,  1.95s/it]"
          ],
          "name": "stderr"
        },
        {
          "output_type": "stream",
          "text": [
            "(775, 20)\n",
            "drive/My Drive/Colab Notebooks/spotify/input/tracks_sv/6EgfsKfCwz0vbwLymrZcsN.wav\n"
          ],
          "name": "stdout"
        },
        {
          "output_type": "stream",
          "text": [
            "\r 78%|███████▊  | 777/1000 [25:48<07:16,  1.96s/it]"
          ],
          "name": "stderr"
        },
        {
          "output_type": "stream",
          "text": [
            "(776, 20)\n",
            "drive/My Drive/Colab Notebooks/spotify/input/tracks_sv/6EnWLKttoqHlbi0lJN0Vbr.wav\n"
          ],
          "name": "stdout"
        },
        {
          "output_type": "stream",
          "text": [
            "\r 78%|███████▊  | 778/1000 [25:50<07:14,  1.96s/it]"
          ],
          "name": "stderr"
        },
        {
          "output_type": "stream",
          "text": [
            "(777, 20)\n",
            "drive/My Drive/Colab Notebooks/spotify/input/tracks_sv/6FHgHDXiGnRfhrSok9xAz3.wav\n"
          ],
          "name": "stdout"
        },
        {
          "output_type": "stream",
          "text": [
            "\r 78%|███████▊  | 779/1000 [25:52<07:13,  1.96s/it]"
          ],
          "name": "stderr"
        },
        {
          "output_type": "stream",
          "text": [
            "(778, 20)\n",
            "drive/My Drive/Colab Notebooks/spotify/input/tracks_sv/6FoQmfTaX4fXxwL9lu6ZHp.wav\n"
          ],
          "name": "stdout"
        },
        {
          "output_type": "stream",
          "text": [
            "\r 78%|███████▊  | 780/1000 [25:54<07:08,  1.95s/it]"
          ],
          "name": "stderr"
        },
        {
          "output_type": "stream",
          "text": [
            "(779, 20)\n",
            "drive/My Drive/Colab Notebooks/spotify/input/tracks_sv/6Fv9M9nUKvuMD7roafIm8j.wav\n"
          ],
          "name": "stdout"
        },
        {
          "output_type": "stream",
          "text": [
            "\r 78%|███████▊  | 781/1000 [25:56<07:04,  1.94s/it]"
          ],
          "name": "stderr"
        },
        {
          "output_type": "stream",
          "text": [
            "(780, 20)\n",
            "drive/My Drive/Colab Notebooks/spotify/input/tracks_sv/6FvC8pJN0uZcWJKzihjACb.wav\n"
          ],
          "name": "stdout"
        },
        {
          "output_type": "stream",
          "text": [
            "\r 78%|███████▊  | 782/1000 [25:58<06:59,  1.92s/it]"
          ],
          "name": "stderr"
        },
        {
          "output_type": "stream",
          "text": [
            "(781, 20)\n",
            "drive/My Drive/Colab Notebooks/spotify/input/tracks_sv/6G7DuXoSGeAf6BZivJdEjF.wav\n"
          ],
          "name": "stdout"
        },
        {
          "output_type": "stream",
          "text": [
            "\r 78%|███████▊  | 783/1000 [26:00<07:09,  1.98s/it]"
          ],
          "name": "stderr"
        },
        {
          "output_type": "stream",
          "text": [
            "(782, 20)\n",
            "drive/My Drive/Colab Notebooks/spotify/input/tracks_sv/6GwzaIVJL5DEimt18lokq9.wav\n"
          ],
          "name": "stdout"
        },
        {
          "output_type": "stream",
          "text": [
            "\r 78%|███████▊  | 784/1000 [26:02<07:05,  1.97s/it]"
          ],
          "name": "stderr"
        },
        {
          "output_type": "stream",
          "text": [
            "(783, 20)\n",
            "drive/My Drive/Colab Notebooks/spotify/input/tracks_sv/6IJij43nz5tZPqVVslXCRH.wav\n"
          ],
          "name": "stdout"
        },
        {
          "output_type": "stream",
          "text": [
            "\r 78%|███████▊  | 785/1000 [26:04<07:00,  1.96s/it]"
          ],
          "name": "stderr"
        },
        {
          "output_type": "stream",
          "text": [
            "(784, 20)\n",
            "drive/My Drive/Colab Notebooks/spotify/input/tracks_sv/6KWTefh1cVx76SxLo5HGvm.wav\n"
          ],
          "name": "stdout"
        },
        {
          "output_type": "stream",
          "text": [
            "\r 79%|███████▊  | 786/1000 [26:06<06:55,  1.94s/it]"
          ],
          "name": "stderr"
        },
        {
          "output_type": "stream",
          "text": [
            "(785, 20)\n",
            "drive/My Drive/Colab Notebooks/spotify/input/tracks_sv/6KppQJLGEbIvebbqC3zcqp.wav\n"
          ],
          "name": "stdout"
        },
        {
          "output_type": "stream",
          "text": [
            "\r 79%|███████▊  | 787/1000 [26:08<07:20,  2.07s/it]"
          ],
          "name": "stderr"
        },
        {
          "output_type": "stream",
          "text": [
            "(786, 20)\n",
            "drive/My Drive/Colab Notebooks/spotify/input/tracks_sv/6KvUX0WvAMzMLwA8PdzjB6.wav\n"
          ],
          "name": "stdout"
        },
        {
          "output_type": "stream",
          "text": [
            "\r 79%|███████▉  | 788/1000 [26:10<07:08,  2.02s/it]"
          ],
          "name": "stderr"
        },
        {
          "output_type": "stream",
          "text": [
            "(787, 20)\n",
            "drive/My Drive/Colab Notebooks/spotify/input/tracks_sv/6LRtD3283UaFLqOju2KRvA.wav\n"
          ],
          "name": "stdout"
        },
        {
          "output_type": "stream",
          "text": [
            "\r 79%|███████▉  | 789/1000 [26:12<07:03,  2.01s/it]"
          ],
          "name": "stderr"
        },
        {
          "output_type": "stream",
          "text": [
            "(788, 20)\n",
            "drive/My Drive/Colab Notebooks/spotify/input/tracks_sv/6LtgrHfq3Q7O9PHcAZxkEH.wav\n"
          ],
          "name": "stdout"
        },
        {
          "output_type": "stream",
          "text": [
            "\r 79%|███████▉  | 790/1000 [26:14<06:57,  1.99s/it]"
          ],
          "name": "stderr"
        },
        {
          "output_type": "stream",
          "text": [
            "(789, 20)\n",
            "drive/My Drive/Colab Notebooks/spotify/input/tracks_sv/6Mavd9uk89Y9OTdvcDTfGG.wav\n"
          ],
          "name": "stdout"
        },
        {
          "output_type": "stream",
          "text": [
            "\r 79%|███████▉  | 791/1000 [26:16<06:51,  1.97s/it]"
          ],
          "name": "stderr"
        },
        {
          "output_type": "stream",
          "text": [
            "(790, 20)\n",
            "drive/My Drive/Colab Notebooks/spotify/input/tracks_sv/6N8cOtfd7bIw8rbzUCeSvR.wav\n"
          ],
          "name": "stdout"
        },
        {
          "output_type": "stream",
          "text": [
            "\r 79%|███████▉  | 792/1000 [26:18<06:42,  1.94s/it]"
          ],
          "name": "stderr"
        },
        {
          "output_type": "stream",
          "text": [
            "(791, 20)\n",
            "drive/My Drive/Colab Notebooks/spotify/input/tracks_sv/6NmJjeEWNr7qTZy6YrCr5h.wav\n"
          ],
          "name": "stdout"
        },
        {
          "output_type": "stream",
          "text": [
            "\r 79%|███████▉  | 793/1000 [26:20<06:48,  1.97s/it]"
          ],
          "name": "stderr"
        },
        {
          "output_type": "stream",
          "text": [
            "(792, 20)\n",
            "drive/My Drive/Colab Notebooks/spotify/input/tracks_sv/6ODZT1FGTE2q4two05giS1.wav\n"
          ],
          "name": "stdout"
        },
        {
          "output_type": "stream",
          "text": [
            "\r 79%|███████▉  | 794/1000 [26:22<06:52,  2.00s/it]"
          ],
          "name": "stderr"
        },
        {
          "output_type": "stream",
          "text": [
            "(793, 20)\n",
            "drive/My Drive/Colab Notebooks/spotify/input/tracks_sv/6PUYHWmPShEc5EU9B9YAS9.wav\n"
          ],
          "name": "stdout"
        },
        {
          "output_type": "stream",
          "text": [
            "\r 80%|███████▉  | 795/1000 [26:24<06:44,  1.97s/it]"
          ],
          "name": "stderr"
        },
        {
          "output_type": "stream",
          "text": [
            "(794, 20)\n",
            "drive/My Drive/Colab Notebooks/spotify/input/tracks_sv/6PXk100Wk2eFS94uoS0Umj.wav\n"
          ],
          "name": "stdout"
        },
        {
          "output_type": "stream",
          "text": [
            "\r 80%|███████▉  | 796/1000 [26:26<06:38,  1.95s/it]"
          ],
          "name": "stderr"
        },
        {
          "output_type": "stream",
          "text": [
            "(795, 20)\n",
            "drive/My Drive/Colab Notebooks/spotify/input/tracks_sv/6RI4vcMGJk6cqAuipV7soH.wav\n"
          ],
          "name": "stdout"
        },
        {
          "output_type": "stream",
          "text": [
            "\r 80%|███████▉  | 797/1000 [26:28<06:40,  1.97s/it]"
          ],
          "name": "stderr"
        },
        {
          "output_type": "stream",
          "text": [
            "(796, 20)\n",
            "drive/My Drive/Colab Notebooks/spotify/input/tracks_sv/6SkHCwuXmDgOUW4kANhvk6.wav\n"
          ],
          "name": "stdout"
        },
        {
          "output_type": "stream",
          "text": [
            "\r 80%|███████▉  | 798/1000 [26:30<06:34,  1.95s/it]"
          ],
          "name": "stderr"
        },
        {
          "output_type": "stream",
          "text": [
            "(797, 20)\n",
            "drive/My Drive/Colab Notebooks/spotify/input/tracks_sv/6TFzT4oCM5vamJWRI4sWlu.wav\n"
          ],
          "name": "stdout"
        },
        {
          "output_type": "stream",
          "text": [
            "\r 80%|███████▉  | 799/1000 [26:32<06:34,  1.96s/it]"
          ],
          "name": "stderr"
        },
        {
          "output_type": "stream",
          "text": [
            "(798, 20)\n",
            "drive/My Drive/Colab Notebooks/spotify/input/tracks_sv/6TMRe5uN622SzHfrLx78S3.wav\n"
          ],
          "name": "stdout"
        },
        {
          "output_type": "stream",
          "text": [
            "\r 80%|████████  | 800/1000 [26:34<06:50,  2.05s/it]"
          ],
          "name": "stderr"
        },
        {
          "output_type": "stream",
          "text": [
            "(799, 20)\n",
            "drive/My Drive/Colab Notebooks/spotify/input/tracks_sv/6TWPTr6DdDpjkf9wYkHz8v.wav\n"
          ],
          "name": "stdout"
        },
        {
          "output_type": "stream",
          "text": [
            "\r 80%|████████  | 801/1000 [26:36<06:40,  2.01s/it]"
          ],
          "name": "stderr"
        },
        {
          "output_type": "stream",
          "text": [
            "(800, 20)\n",
            "drive/My Drive/Colab Notebooks/spotify/input/tracks_sv/6TruEu3FiZV0O4ezdGZta5.wav\n"
          ],
          "name": "stdout"
        },
        {
          "output_type": "stream",
          "text": [
            "\r 80%|████████  | 802/1000 [26:38<06:41,  2.03s/it]"
          ],
          "name": "stderr"
        },
        {
          "output_type": "stream",
          "text": [
            "(801, 20)\n",
            "drive/My Drive/Colab Notebooks/spotify/input/tracks_sv/6U8IIxNILFbGR4LC1okQod.wav\n"
          ],
          "name": "stdout"
        },
        {
          "output_type": "stream",
          "text": [
            "\r 80%|████████  | 803/1000 [26:40<06:31,  1.99s/it]"
          ],
          "name": "stderr"
        },
        {
          "output_type": "stream",
          "text": [
            "(802, 20)\n",
            "drive/My Drive/Colab Notebooks/spotify/input/tracks_sv/6USff5XMwjmuyOC6HXZECg.wav\n"
          ],
          "name": "stdout"
        },
        {
          "output_type": "stream",
          "text": [
            "\r 80%|████████  | 804/1000 [26:42<06:27,  1.98s/it]"
          ],
          "name": "stderr"
        },
        {
          "output_type": "stream",
          "text": [
            "(803, 20)\n",
            "drive/My Drive/Colab Notebooks/spotify/input/tracks_sv/6UfzyOza3E5A79BJrEKd3U.wav\n"
          ],
          "name": "stdout"
        },
        {
          "output_type": "stream",
          "text": [
            "\r 80%|████████  | 805/1000 [26:44<06:25,  1.98s/it]"
          ],
          "name": "stderr"
        },
        {
          "output_type": "stream",
          "text": [
            "(804, 20)\n",
            "drive/My Drive/Colab Notebooks/spotify/input/tracks_sv/6UuFA519L632UBpMbueCi0.wav\n"
          ],
          "name": "stdout"
        },
        {
          "output_type": "stream",
          "text": [
            "\r 81%|████████  | 806/1000 [26:46<06:34,  2.03s/it]"
          ],
          "name": "stderr"
        },
        {
          "output_type": "stream",
          "text": [
            "(805, 20)\n",
            "drive/My Drive/Colab Notebooks/spotify/input/tracks_sv/6V90svq6ex0XsvLxgQ5dGm.wav\n"
          ],
          "name": "stdout"
        },
        {
          "output_type": "stream",
          "text": [
            "\r 81%|████████  | 807/1000 [26:48<06:33,  2.04s/it]"
          ],
          "name": "stderr"
        },
        {
          "output_type": "stream",
          "text": [
            "(806, 20)\n",
            "drive/My Drive/Colab Notebooks/spotify/input/tracks_sv/6WK6o4eymfN2I6wVDqB8gB.wav\n"
          ],
          "name": "stdout"
        },
        {
          "output_type": "stream",
          "text": [
            "\r 81%|████████  | 808/1000 [26:50<06:30,  2.03s/it]"
          ],
          "name": "stderr"
        },
        {
          "output_type": "stream",
          "text": [
            "(807, 20)\n",
            "drive/My Drive/Colab Notebooks/spotify/input/tracks_sv/6XfTow9VT9OhotJDnXjEkT.wav\n"
          ],
          "name": "stdout"
        },
        {
          "output_type": "stream",
          "text": [
            "\r 81%|████████  | 809/1000 [26:52<06:33,  2.06s/it]"
          ],
          "name": "stderr"
        },
        {
          "output_type": "stream",
          "text": [
            "(808, 20)\n",
            "drive/My Drive/Colab Notebooks/spotify/input/tracks_sv/6XzDz5r1bGMkcOKeXQwTqM.wav\n"
          ],
          "name": "stdout"
        },
        {
          "output_type": "stream",
          "text": [
            "\r 81%|████████  | 810/1000 [26:54<06:22,  2.01s/it]"
          ],
          "name": "stderr"
        },
        {
          "output_type": "stream",
          "text": [
            "(809, 20)\n",
            "drive/My Drive/Colab Notebooks/spotify/input/tracks_sv/6YcvfXy4wTvjaIniIBuh30.wav\n"
          ],
          "name": "stdout"
        },
        {
          "output_type": "stream",
          "text": [
            "\r 81%|████████  | 811/1000 [26:56<06:13,  1.97s/it]"
          ],
          "name": "stderr"
        },
        {
          "output_type": "stream",
          "text": [
            "(810, 20)\n",
            "drive/My Drive/Colab Notebooks/spotify/input/tracks_sv/6YjimBPZFdK0svohmSxjXv.wav\n"
          ],
          "name": "stdout"
        },
        {
          "output_type": "stream",
          "text": [
            "\r 81%|████████  | 812/1000 [26:58<06:09,  1.97s/it]"
          ],
          "name": "stderr"
        },
        {
          "output_type": "stream",
          "text": [
            "(811, 20)\n",
            "drive/My Drive/Colab Notebooks/spotify/input/tracks_sv/6Z7LayRg0N3mkFFjGsO8fN.wav\n"
          ],
          "name": "stdout"
        },
        {
          "output_type": "stream",
          "text": [
            "\r 81%|████████▏ | 813/1000 [27:00<06:07,  1.96s/it]"
          ],
          "name": "stderr"
        },
        {
          "output_type": "stream",
          "text": [
            "(812, 20)\n",
            "drive/My Drive/Colab Notebooks/spotify/input/tracks_sv/6ZK9phWuRKwT1E3EUUevz1.wav\n"
          ],
          "name": "stdout"
        },
        {
          "output_type": "stream",
          "text": [
            "\r 81%|████████▏ | 814/1000 [27:02<06:21,  2.05s/it]"
          ],
          "name": "stderr"
        },
        {
          "output_type": "stream",
          "text": [
            "(813, 20)\n",
            "drive/My Drive/Colab Notebooks/spotify/input/tracks_sv/6ZiLv9k6kNxKTApVQnDGF6.wav\n"
          ],
          "name": "stdout"
        },
        {
          "output_type": "stream",
          "text": [
            "\r 82%|████████▏ | 815/1000 [27:04<06:12,  2.01s/it]"
          ],
          "name": "stderr"
        },
        {
          "output_type": "stream",
          "text": [
            "(814, 20)\n",
            "drive/My Drive/Colab Notebooks/spotify/input/tracks_sv/6a80fkKgyxKRrgysxBbf3J.wav\n"
          ],
          "name": "stdout"
        },
        {
          "output_type": "stream",
          "text": [
            "\r 82%|████████▏ | 816/1000 [27:06<06:12,  2.03s/it]"
          ],
          "name": "stderr"
        },
        {
          "output_type": "stream",
          "text": [
            "(815, 20)\n",
            "drive/My Drive/Colab Notebooks/spotify/input/tracks_sv/6ahKnsl2tuTCyaBwt45WAz.wav\n"
          ],
          "name": "stdout"
        },
        {
          "output_type": "stream",
          "text": [
            "\r 82%|████████▏ | 817/1000 [27:08<06:05,  1.99s/it]"
          ],
          "name": "stderr"
        },
        {
          "output_type": "stream",
          "text": [
            "(816, 20)\n",
            "drive/My Drive/Colab Notebooks/spotify/input/tracks_sv/6b0wum5uIKLGHC6TIRPYZW.wav\n"
          ],
          "name": "stdout"
        },
        {
          "output_type": "stream",
          "text": [
            "\r 82%|████████▏ | 818/1000 [27:10<06:00,  1.98s/it]"
          ],
          "name": "stderr"
        },
        {
          "output_type": "stream",
          "text": [
            "(817, 20)\n",
            "drive/My Drive/Colab Notebooks/spotify/input/tracks_sv/6bP3s5PPKcI7ZegqSFCcbt.wav\n"
          ],
          "name": "stdout"
        },
        {
          "output_type": "stream",
          "text": [
            "\r 82%|████████▏ | 819/1000 [27:12<05:53,  1.95s/it]"
          ],
          "name": "stderr"
        },
        {
          "output_type": "stream",
          "text": [
            "(818, 20)\n",
            "drive/My Drive/Colab Notebooks/spotify/input/tracks_sv/6bPz9s7wvYe1u7xL4PfNlq.wav\n"
          ],
          "name": "stdout"
        },
        {
          "output_type": "stream",
          "text": [
            "\r 82%|████████▏ | 820/1000 [27:14<05:51,  1.95s/it]"
          ],
          "name": "stderr"
        },
        {
          "output_type": "stream",
          "text": [
            "(819, 20)\n",
            "drive/My Drive/Colab Notebooks/spotify/input/tracks_sv/6bnJ8ivLzjAZ0KIRHTeP4l.wav\n"
          ],
          "name": "stdout"
        },
        {
          "output_type": "stream",
          "text": [
            "\r 82%|████████▏ | 821/1000 [27:16<05:57,  1.99s/it]"
          ],
          "name": "stderr"
        },
        {
          "output_type": "stream",
          "text": [
            "(820, 20)\n",
            "drive/My Drive/Colab Notebooks/spotify/input/tracks_sv/6brQE7nT4OpF9wq9T1pQ3H.wav\n"
          ],
          "name": "stdout"
        },
        {
          "output_type": "stream",
          "text": [
            "\r 82%|████████▏ | 822/1000 [27:18<05:48,  1.96s/it]"
          ],
          "name": "stderr"
        },
        {
          "output_type": "stream",
          "text": [
            "(821, 20)\n",
            "drive/My Drive/Colab Notebooks/spotify/input/tracks_sv/6c1e5UUXX6NbqI20vyNlZ3.wav\n"
          ],
          "name": "stdout"
        },
        {
          "output_type": "stream",
          "text": [
            "\r 82%|████████▏ | 823/1000 [27:20<05:42,  1.93s/it]"
          ],
          "name": "stderr"
        },
        {
          "output_type": "stream",
          "text": [
            "(822, 20)\n",
            "drive/My Drive/Colab Notebooks/spotify/input/tracks_sv/6cMp1SJGCf8Df8YiFJMz00.wav\n"
          ],
          "name": "stdout"
        },
        {
          "output_type": "stream",
          "text": [
            "\r 82%|████████▏ | 824/1000 [27:21<05:37,  1.92s/it]"
          ],
          "name": "stderr"
        },
        {
          "output_type": "stream",
          "text": [
            "(823, 20)\n",
            "drive/My Drive/Colab Notebooks/spotify/input/tracks_sv/6ciR4Nq5gpRDLREtW5ENtw.wav\n"
          ],
          "name": "stdout"
        },
        {
          "output_type": "stream",
          "text": [
            "\r 82%|████████▎ | 825/1000 [27:23<05:34,  1.91s/it]"
          ],
          "name": "stderr"
        },
        {
          "output_type": "stream",
          "text": [
            "(824, 20)\n",
            "drive/My Drive/Colab Notebooks/spotify/input/tracks_sv/6cp9BHId51g9jc2bpOUsnj.wav\n"
          ],
          "name": "stdout"
        },
        {
          "output_type": "stream",
          "text": [
            "\r 83%|████████▎ | 826/1000 [27:25<05:34,  1.92s/it]"
          ],
          "name": "stderr"
        },
        {
          "output_type": "stream",
          "text": [
            "(825, 20)\n",
            "drive/My Drive/Colab Notebooks/spotify/input/tracks_sv/6csS2XiMAmGIWIQlLWP4CC.wav\n"
          ],
          "name": "stdout"
        },
        {
          "output_type": "stream",
          "text": [
            "\r 83%|████████▎ | 827/1000 [27:28<06:04,  2.11s/it]"
          ],
          "name": "stderr"
        },
        {
          "output_type": "stream",
          "text": [
            "(826, 20)\n",
            "drive/My Drive/Colab Notebooks/spotify/input/tracks_sv/6dYfDot5uMz33vtxipSXLS.wav\n"
          ],
          "name": "stdout"
        },
        {
          "output_type": "stream",
          "text": [
            "\r 83%|████████▎ | 828/1000 [27:30<05:58,  2.08s/it]"
          ],
          "name": "stderr"
        },
        {
          "output_type": "stream",
          "text": [
            "(827, 20)\n",
            "drive/My Drive/Colab Notebooks/spotify/input/tracks_sv/6dZT5MmHLEfSJoLVlX76wo.wav\n"
          ],
          "name": "stdout"
        },
        {
          "output_type": "stream",
          "text": [
            "\r 83%|████████▎ | 829/1000 [27:32<05:49,  2.04s/it]"
          ],
          "name": "stderr"
        },
        {
          "output_type": "stream",
          "text": [
            "(828, 20)\n",
            "drive/My Drive/Colab Notebooks/spotify/input/tracks_sv/6drUY5MlA6NpZcpotC7aQP.wav\n"
          ],
          "name": "stdout"
        },
        {
          "output_type": "stream",
          "text": [
            "\r 83%|████████▎ | 830/1000 [27:34<05:48,  2.05s/it]"
          ],
          "name": "stderr"
        },
        {
          "output_type": "stream",
          "text": [
            "(829, 20)\n",
            "drive/My Drive/Colab Notebooks/spotify/input/tracks_sv/6dvvId7aLlH52O98GzYuWH.wav\n"
          ],
          "name": "stdout"
        },
        {
          "output_type": "stream",
          "text": [
            "\r 83%|████████▎ | 831/1000 [27:36<05:48,  2.06s/it]"
          ],
          "name": "stderr"
        },
        {
          "output_type": "stream",
          "text": [
            "(830, 20)\n",
            "drive/My Drive/Colab Notebooks/spotify/input/tracks_sv/6fZhokT7ADLeCcOyKL914T.wav\n"
          ],
          "name": "stdout"
        },
        {
          "output_type": "stream",
          "text": [
            "\r 83%|████████▎ | 832/1000 [27:38<05:37,  2.01s/it]"
          ],
          "name": "stderr"
        },
        {
          "output_type": "stream",
          "text": [
            "(831, 20)\n",
            "drive/My Drive/Colab Notebooks/spotify/input/tracks_sv/6hVP8RR1FrtqCCFcd4Jwyh.wav\n"
          ],
          "name": "stdout"
        },
        {
          "output_type": "stream",
          "text": [
            "\r 83%|████████▎ | 833/1000 [27:40<05:32,  1.99s/it]"
          ],
          "name": "stderr"
        },
        {
          "output_type": "stream",
          "text": [
            "(832, 20)\n",
            "drive/My Drive/Colab Notebooks/spotify/input/tracks_sv/6hk0cM0LbyEc24LUSzDYfp.wav\n"
          ],
          "name": "stdout"
        },
        {
          "output_type": "stream",
          "text": [
            "\r 83%|████████▎ | 834/1000 [27:42<05:31,  1.99s/it]"
          ],
          "name": "stderr"
        },
        {
          "output_type": "stream",
          "text": [
            "(833, 20)\n",
            "drive/My Drive/Colab Notebooks/spotify/input/tracks_sv/6ipI4opzmJ3zqkIUSwSZC2.wav\n"
          ],
          "name": "stdout"
        },
        {
          "output_type": "stream",
          "text": [
            "\r 84%|████████▎ | 835/1000 [27:44<05:28,  1.99s/it]"
          ],
          "name": "stderr"
        },
        {
          "output_type": "stream",
          "text": [
            "(834, 20)\n",
            "drive/My Drive/Colab Notebooks/spotify/input/tracks_sv/6iyKwsCmtdXvs19uKyBFfS.wav\n"
          ],
          "name": "stdout"
        },
        {
          "output_type": "stream",
          "text": [
            "\r 84%|████████▎ | 836/1000 [27:46<05:24,  1.98s/it]"
          ],
          "name": "stderr"
        },
        {
          "output_type": "stream",
          "text": [
            "(835, 20)\n",
            "drive/My Drive/Colab Notebooks/spotify/input/tracks_sv/6jGB8Elznkw3445mTX9EWz.wav\n"
          ],
          "name": "stdout"
        },
        {
          "output_type": "stream",
          "text": [
            "\r 84%|████████▎ | 837/1000 [27:48<05:18,  1.96s/it]"
          ],
          "name": "stderr"
        },
        {
          "output_type": "stream",
          "text": [
            "(836, 20)\n",
            "drive/My Drive/Colab Notebooks/spotify/input/tracks_sv/6jPk1077fiZcJvRLHlyN4u.wav\n"
          ],
          "name": "stdout"
        },
        {
          "output_type": "stream",
          "text": [
            "\r 84%|████████▍ | 838/1000 [27:50<05:13,  1.93s/it]"
          ],
          "name": "stderr"
        },
        {
          "output_type": "stream",
          "text": [
            "(837, 20)\n",
            "drive/My Drive/Colab Notebooks/spotify/input/tracks_sv/6jljTubNfEw3OWdhItKGDG.wav\n"
          ],
          "name": "stdout"
        },
        {
          "output_type": "stream",
          "text": [
            "\r 84%|████████▍ | 839/1000 [27:52<05:19,  1.98s/it]"
          ],
          "name": "stderr"
        },
        {
          "output_type": "stream",
          "text": [
            "(838, 20)\n",
            "drive/My Drive/Colab Notebooks/spotify/input/tracks_sv/6kKvmT4i0Dercz6f3kftg3.wav\n"
          ],
          "name": "stdout"
        },
        {
          "output_type": "stream",
          "text": [
            "\r 84%|████████▍ | 840/1000 [27:53<05:12,  1.95s/it]"
          ],
          "name": "stderr"
        },
        {
          "output_type": "stream",
          "text": [
            "(839, 20)\n",
            "drive/My Drive/Colab Notebooks/spotify/input/tracks_sv/6kMwT0NGt2UU8bjJx78sFm.wav\n"
          ],
          "name": "stdout"
        },
        {
          "output_type": "stream",
          "text": [
            "\r 84%|████████▍ | 841/1000 [27:55<05:09,  1.95s/it]"
          ],
          "name": "stderr"
        },
        {
          "output_type": "stream",
          "text": [
            "(840, 20)\n",
            "drive/My Drive/Colab Notebooks/spotify/input/tracks_sv/6l1P9avGqv8oHBjwxp2ABq.wav\n"
          ],
          "name": "stdout"
        },
        {
          "output_type": "stream",
          "text": [
            "\r 84%|████████▍ | 842/1000 [27:57<05:04,  1.93s/it]"
          ],
          "name": "stderr"
        },
        {
          "output_type": "stream",
          "text": [
            "(841, 20)\n",
            "drive/My Drive/Colab Notebooks/spotify/input/tracks_sv/6leEaeB8UcImnLQo1OVMUx.wav\n"
          ],
          "name": "stdout"
        },
        {
          "output_type": "stream",
          "text": [
            "\r 84%|████████▍ | 843/1000 [27:59<05:02,  1.93s/it]"
          ],
          "name": "stderr"
        },
        {
          "output_type": "stream",
          "text": [
            "(842, 20)\n",
            "drive/My Drive/Colab Notebooks/spotify/input/tracks_sv/6lp8NnDQVSQW0osTYSwSkc.wav\n"
          ],
          "name": "stdout"
        },
        {
          "output_type": "stream",
          "text": [
            "\r 84%|████████▍ | 844/1000 [28:01<05:01,  1.93s/it]"
          ],
          "name": "stderr"
        },
        {
          "output_type": "stream",
          "text": [
            "(843, 20)\n",
            "drive/My Drive/Colab Notebooks/spotify/input/tracks_sv/6luU1WV52yrZW2QLBXaV4M.wav\n"
          ],
          "name": "stdout"
        },
        {
          "output_type": "stream",
          "text": [
            "\r 84%|████████▍ | 845/1000 [28:03<05:08,  1.99s/it]"
          ],
          "name": "stderr"
        },
        {
          "output_type": "stream",
          "text": [
            "(844, 20)\n",
            "drive/My Drive/Colab Notebooks/spotify/input/tracks_sv/6mUGyBfwJnECt2tVIJauow.wav\n"
          ],
          "name": "stdout"
        },
        {
          "output_type": "stream",
          "text": [
            "\r 85%|████████▍ | 846/1000 [28:05<05:03,  1.97s/it]"
          ],
          "name": "stderr"
        },
        {
          "output_type": "stream",
          "text": [
            "(845, 20)\n",
            "drive/My Drive/Colab Notebooks/spotify/input/tracks_sv/6mmHwsfy9QU42LeV6c9UT7.wav\n"
          ],
          "name": "stdout"
        },
        {
          "output_type": "stream",
          "text": [
            "\r 85%|████████▍ | 847/1000 [28:07<04:59,  1.96s/it]"
          ],
          "name": "stderr"
        },
        {
          "output_type": "stream",
          "text": [
            "(846, 20)\n",
            "drive/My Drive/Colab Notebooks/spotify/input/tracks_sv/6nrZbMdEyzymBIwsxaJkda.wav\n"
          ],
          "name": "stdout"
        },
        {
          "output_type": "stream",
          "text": [
            "\r 85%|████████▍ | 848/1000 [28:09<04:53,  1.93s/it]"
          ],
          "name": "stderr"
        },
        {
          "output_type": "stream",
          "text": [
            "(847, 20)\n",
            "drive/My Drive/Colab Notebooks/spotify/input/tracks_sv/6qt4DNJ94JlcYw5aZJP9D1.wav\n"
          ],
          "name": "stdout"
        },
        {
          "output_type": "stream",
          "text": [
            "\r 85%|████████▍ | 849/1000 [28:11<04:51,  1.93s/it]"
          ],
          "name": "stderr"
        },
        {
          "output_type": "stream",
          "text": [
            "(848, 20)\n",
            "drive/My Drive/Colab Notebooks/spotify/input/tracks_sv/6rCaPvmNWMCgrG7luwaHs5.wav\n"
          ],
          "name": "stdout"
        },
        {
          "output_type": "stream",
          "text": [
            "\r 85%|████████▌ | 850/1000 [28:13<04:50,  1.94s/it]"
          ],
          "name": "stderr"
        },
        {
          "output_type": "stream",
          "text": [
            "(849, 20)\n",
            "drive/My Drive/Colab Notebooks/spotify/input/tracks_sv/6rEReeuYDZdggaSMF1sybO.wav\n"
          ],
          "name": "stdout"
        },
        {
          "output_type": "stream",
          "text": [
            "\r 85%|████████▌ | 851/1000 [28:15<04:46,  1.92s/it]"
          ],
          "name": "stderr"
        },
        {
          "output_type": "stream",
          "text": [
            "(850, 20)\n",
            "drive/My Drive/Colab Notebooks/spotify/input/tracks_sv/6rH3dc5bGzqrJv6ZARFfJX.wav\n"
          ],
          "name": "stdout"
        },
        {
          "output_type": "stream",
          "text": [
            "\r 85%|████████▌ | 852/1000 [28:17<04:50,  1.96s/it]"
          ],
          "name": "stderr"
        },
        {
          "output_type": "stream",
          "text": [
            "(851, 20)\n",
            "drive/My Drive/Colab Notebooks/spotify/input/tracks_sv/6rs2HJbUijsoIwvPdQn5wJ.wav\n"
          ],
          "name": "stdout"
        },
        {
          "output_type": "stream",
          "text": [
            "\r 85%|████████▌ | 853/1000 [28:19<04:49,  1.97s/it]"
          ],
          "name": "stderr"
        },
        {
          "output_type": "stream",
          "text": [
            "(852, 20)\n",
            "drive/My Drive/Colab Notebooks/spotify/input/tracks_sv/6sESCqEL3UmdmOO2UBrg8c.wav\n"
          ],
          "name": "stdout"
        },
        {
          "output_type": "stream",
          "text": [
            "\r 85%|████████▌ | 854/1000 [28:21<04:48,  1.98s/it]"
          ],
          "name": "stderr"
        },
        {
          "output_type": "stream",
          "text": [
            "(853, 20)\n",
            "drive/My Drive/Colab Notebooks/spotify/input/tracks_sv/6sLqMbsQdpBT9DLidUjPgG.wav\n"
          ],
          "name": "stdout"
        },
        {
          "output_type": "stream",
          "text": [
            "\r 86%|████████▌ | 855/1000 [28:23<04:43,  1.96s/it]"
          ],
          "name": "stderr"
        },
        {
          "output_type": "stream",
          "text": [
            "(854, 20)\n",
            "drive/My Drive/Colab Notebooks/spotify/input/tracks_sv/6soBVGy9lZHTZ0MA3jmDVW.wav\n"
          ],
          "name": "stdout"
        },
        {
          "output_type": "stream",
          "text": [
            "\r 86%|████████▌ | 856/1000 [28:25<04:40,  1.95s/it]"
          ],
          "name": "stderr"
        },
        {
          "output_type": "stream",
          "text": [
            "(855, 20)\n",
            "drive/My Drive/Colab Notebooks/spotify/input/tracks_sv/6tabCvmL6P7BtFT5HTM3Sn.wav\n"
          ],
          "name": "stdout"
        },
        {
          "output_type": "stream",
          "text": [
            "\r 86%|████████▌ | 857/1000 [28:27<04:48,  2.01s/it]"
          ],
          "name": "stderr"
        },
        {
          "output_type": "stream",
          "text": [
            "(856, 20)\n",
            "drive/My Drive/Colab Notebooks/spotify/input/tracks_sv/6tcmYE9F8i2EHJEPDzu8s4.wav\n"
          ],
          "name": "stdout"
        },
        {
          "output_type": "stream",
          "text": [
            "\r 86%|████████▌ | 858/1000 [28:29<04:40,  1.98s/it]"
          ],
          "name": "stderr"
        },
        {
          "output_type": "stream",
          "text": [
            "(857, 20)\n",
            "drive/My Drive/Colab Notebooks/spotify/input/tracks_sv/6ticgZxVwwP3naFwq9mPsZ.wav\n"
          ],
          "name": "stdout"
        },
        {
          "output_type": "stream",
          "text": [
            "\r 86%|████████▌ | 859/1000 [28:31<04:40,  1.99s/it]"
          ],
          "name": "stderr"
        },
        {
          "output_type": "stream",
          "text": [
            "(858, 20)\n",
            "drive/My Drive/Colab Notebooks/spotify/input/tracks_sv/6tq8SKPPIm0sozduVVbFK6.wav\n"
          ],
          "name": "stdout"
        },
        {
          "output_type": "stream",
          "text": [
            "\r 86%|████████▌ | 860/1000 [28:33<04:37,  1.98s/it]"
          ],
          "name": "stderr"
        },
        {
          "output_type": "stream",
          "text": [
            "(859, 20)\n",
            "drive/My Drive/Colab Notebooks/spotify/input/tracks_sv/6uR92injo4PDzSrOPRFfHt.wav\n"
          ],
          "name": "stdout"
        },
        {
          "output_type": "stream",
          "text": [
            "\r 86%|████████▌ | 861/1000 [28:35<04:33,  1.97s/it]"
          ],
          "name": "stderr"
        },
        {
          "output_type": "stream",
          "text": [
            "(860, 20)\n",
            "drive/My Drive/Colab Notebooks/spotify/input/tracks_sv/6ueqIFxAqxPnFdZXKNPSrr.wav\n"
          ],
          "name": "stdout"
        },
        {
          "output_type": "stream",
          "text": [
            "\r 86%|████████▌ | 862/1000 [28:36<04:27,  1.94s/it]"
          ],
          "name": "stderr"
        },
        {
          "output_type": "stream",
          "text": [
            "(861, 20)\n",
            "drive/My Drive/Colab Notebooks/spotify/input/tracks_sv/6vSdQaCEnVrGoBaOL2dOzG.wav\n"
          ],
          "name": "stdout"
        },
        {
          "output_type": "stream",
          "text": [
            "\r 86%|████████▋ | 863/1000 [28:38<04:23,  1.92s/it]"
          ],
          "name": "stderr"
        },
        {
          "output_type": "stream",
          "text": [
            "(862, 20)\n",
            "drive/My Drive/Colab Notebooks/spotify/input/tracks_sv/6vTB2QZxvVp9u2ChC3rgtC.wav\n"
          ],
          "name": "stdout"
        },
        {
          "output_type": "stream",
          "text": [
            "\r 86%|████████▋ | 864/1000 [28:40<04:21,  1.92s/it]"
          ],
          "name": "stderr"
        },
        {
          "output_type": "stream",
          "text": [
            "(863, 20)\n",
            "drive/My Drive/Colab Notebooks/spotify/input/tracks_sv/6vcaiCF2960ECAVrO6g6mj.wav\n"
          ],
          "name": "stdout"
        },
        {
          "output_type": "stream",
          "text": [
            "\r 86%|████████▋ | 865/1000 [28:42<04:29,  2.00s/it]"
          ],
          "name": "stderr"
        },
        {
          "output_type": "stream",
          "text": [
            "(864, 20)\n",
            "drive/My Drive/Colab Notebooks/spotify/input/tracks_sv/6vouE8aBEY5sgCxpBDWbpu.wav\n"
          ],
          "name": "stdout"
        },
        {
          "output_type": "stream",
          "text": [
            "\r 87%|████████▋ | 866/1000 [28:44<04:22,  1.96s/it]"
          ],
          "name": "stderr"
        },
        {
          "output_type": "stream",
          "text": [
            "(865, 20)\n",
            "drive/My Drive/Colab Notebooks/spotify/input/tracks_sv/6vtHQ7FcAXSOKSOeaBm5bc.wav\n"
          ],
          "name": "stdout"
        },
        {
          "output_type": "stream",
          "text": [
            "\r 87%|████████▋ | 867/1000 [28:46<04:17,  1.94s/it]"
          ],
          "name": "stderr"
        },
        {
          "output_type": "stream",
          "text": [
            "(866, 20)\n",
            "drive/My Drive/Colab Notebooks/spotify/input/tracks_sv/6wXILdpRNAlb1P1I4DH3le.wav\n"
          ],
          "name": "stdout"
        },
        {
          "output_type": "stream",
          "text": [
            "\r 87%|████████▋ | 868/1000 [28:48<04:23,  1.99s/it]"
          ],
          "name": "stderr"
        },
        {
          "output_type": "stream",
          "text": [
            "(867, 20)\n",
            "drive/My Drive/Colab Notebooks/spotify/input/tracks_sv/6wlUtMxqW0E4V0ZzPtRMkt.wav\n"
          ],
          "name": "stdout"
        },
        {
          "output_type": "stream",
          "text": [
            "\r 87%|████████▋ | 869/1000 [28:50<04:19,  1.98s/it]"
          ],
          "name": "stderr"
        },
        {
          "output_type": "stream",
          "text": [
            "(868, 20)\n",
            "drive/My Drive/Colab Notebooks/spotify/input/tracks_sv/6woHdm2NKm0RHbuO7qt4ww.wav\n"
          ],
          "name": "stdout"
        },
        {
          "output_type": "stream",
          "text": [
            "\r 87%|████████▋ | 870/1000 [28:52<04:13,  1.95s/it]"
          ],
          "name": "stderr"
        },
        {
          "output_type": "stream",
          "text": [
            "(869, 20)\n",
            "drive/My Drive/Colab Notebooks/spotify/input/tracks_sv/6xJCrI7afxAyh6C2X3tqkI.wav\n"
          ],
          "name": "stdout"
        },
        {
          "output_type": "stream",
          "text": [
            "\r 87%|████████▋ | 871/1000 [28:54<04:10,  1.94s/it]"
          ],
          "name": "stderr"
        },
        {
          "output_type": "stream",
          "text": [
            "(870, 20)\n",
            "drive/My Drive/Colab Notebooks/spotify/input/tracks_sv/6xkRAXgNOwPXjpl8bD0WRe.wav\n"
          ],
          "name": "stdout"
        },
        {
          "output_type": "stream",
          "text": [
            "\r 87%|████████▋ | 872/1000 [28:56<04:06,  1.93s/it]"
          ],
          "name": "stderr"
        },
        {
          "output_type": "stream",
          "text": [
            "(871, 20)\n",
            "drive/My Drive/Colab Notebooks/spotify/input/tracks_sv/6xolPSoBWkzOnK28TAOKRx.wav\n"
          ],
          "name": "stdout"
        },
        {
          "output_type": "stream",
          "text": [
            "\r 87%|████████▋ | 873/1000 [28:58<04:04,  1.92s/it]"
          ],
          "name": "stderr"
        },
        {
          "output_type": "stream",
          "text": [
            "(872, 20)\n",
            "drive/My Drive/Colab Notebooks/spotify/input/tracks_sv/6yQamGJr96NZtMBXbrIcr8.wav\n"
          ],
          "name": "stdout"
        },
        {
          "output_type": "stream",
          "text": [
            "\r 87%|████████▋ | 874/1000 [29:00<04:11,  1.99s/it]"
          ],
          "name": "stderr"
        },
        {
          "output_type": "stream",
          "text": [
            "(873, 20)\n",
            "drive/My Drive/Colab Notebooks/spotify/input/tracks_sv/6z1TvLTR0oOsWSJfDrERmj.wav\n"
          ],
          "name": "stdout"
        },
        {
          "output_type": "stream",
          "text": [
            "\r 88%|████████▊ | 875/1000 [29:02<04:23,  2.11s/it]"
          ],
          "name": "stderr"
        },
        {
          "output_type": "stream",
          "text": [
            "(874, 20)\n",
            "drive/My Drive/Colab Notebooks/spotify/input/tracks_sv/70Idwg2x2J4iGySsV7gMJR.wav\n"
          ],
          "name": "stdout"
        },
        {
          "output_type": "stream",
          "text": [
            "\r 88%|████████▊ | 876/1000 [29:04<04:12,  2.04s/it]"
          ],
          "name": "stderr"
        },
        {
          "output_type": "stream",
          "text": [
            "(875, 20)\n",
            "drive/My Drive/Colab Notebooks/spotify/input/tracks_sv/70deSMfvYqELhxcTnOlvuW.wav\n"
          ],
          "name": "stdout"
        },
        {
          "output_type": "stream",
          "text": [
            "\r 88%|████████▊ | 877/1000 [29:06<04:09,  2.03s/it]"
          ],
          "name": "stderr"
        },
        {
          "output_type": "stream",
          "text": [
            "(876, 20)\n",
            "drive/My Drive/Colab Notebooks/spotify/input/tracks_sv/70xcWRujaf34LOu0Vdubtp.wav\n"
          ],
          "name": "stdout"
        },
        {
          "output_type": "stream",
          "text": [
            "\r 88%|████████▊ | 878/1000 [29:08<04:01,  1.98s/it]"
          ],
          "name": "stderr"
        },
        {
          "output_type": "stream",
          "text": [
            "(877, 20)\n",
            "drive/My Drive/Colab Notebooks/spotify/input/tracks_sv/71MTBfRQTn7AxOPVtAB8gB.wav\n"
          ],
          "name": "stdout"
        },
        {
          "output_type": "stream",
          "text": [
            "\r 88%|████████▊ | 879/1000 [29:10<03:58,  1.97s/it]"
          ],
          "name": "stderr"
        },
        {
          "output_type": "stream",
          "text": [
            "(878, 20)\n",
            "drive/My Drive/Colab Notebooks/spotify/input/tracks_sv/71eARne1HTlvqgcBvge03z.wav\n"
          ],
          "name": "stdout"
        },
        {
          "output_type": "stream",
          "text": [
            "\r 88%|████████▊ | 880/1000 [29:12<03:53,  1.95s/it]"
          ],
          "name": "stderr"
        },
        {
          "output_type": "stream",
          "text": [
            "(879, 20)\n",
            "drive/My Drive/Colab Notebooks/spotify/input/tracks_sv/71vDsonFaYcVNPqJFBHiVJ.wav\n"
          ],
          "name": "stdout"
        },
        {
          "output_type": "stream",
          "text": [
            "\r 88%|████████▊ | 881/1000 [29:14<03:53,  1.96s/it]"
          ],
          "name": "stderr"
        },
        {
          "output_type": "stream",
          "text": [
            "(880, 20)\n",
            "drive/My Drive/Colab Notebooks/spotify/input/tracks_sv/72CAbDIuiTIerMusyaQ0hv.wav\n"
          ],
          "name": "stdout"
        },
        {
          "output_type": "stream",
          "text": [
            "\r 88%|████████▊ | 882/1000 [29:16<03:58,  2.02s/it]"
          ],
          "name": "stderr"
        },
        {
          "output_type": "stream",
          "text": [
            "(881, 20)\n",
            "drive/My Drive/Colab Notebooks/spotify/input/tracks_sv/72TTklcEwZA03XJtnJ9m7t.wav\n"
          ],
          "name": "stdout"
        },
        {
          "output_type": "stream",
          "text": [
            "\r 88%|████████▊ | 883/1000 [29:18<03:51,  1.98s/it]"
          ],
          "name": "stderr"
        },
        {
          "output_type": "stream",
          "text": [
            "(882, 20)\n",
            "drive/My Drive/Colab Notebooks/spotify/input/tracks_sv/72hNepjvepk9pKEcnGOs2f.wav\n"
          ],
          "name": "stdout"
        },
        {
          "output_type": "stream",
          "text": [
            "\r 88%|████████▊ | 884/1000 [29:20<03:47,  1.96s/it]"
          ],
          "name": "stderr"
        },
        {
          "output_type": "stream",
          "text": [
            "(883, 20)\n",
            "drive/My Drive/Colab Notebooks/spotify/input/tracks_sv/72lrebaqFNOZt8GMS32gvZ.wav\n"
          ],
          "name": "stdout"
        },
        {
          "output_type": "stream",
          "text": [
            "\r 88%|████████▊ | 885/1000 [29:22<03:55,  2.05s/it]"
          ],
          "name": "stderr"
        },
        {
          "output_type": "stream",
          "text": [
            "(884, 20)\n",
            "drive/My Drive/Colab Notebooks/spotify/input/tracks_sv/73PNz6VijBkRpZWjgMSght.wav\n"
          ],
          "name": "stdout"
        },
        {
          "output_type": "stream",
          "text": [
            "\r 89%|████████▊ | 886/1000 [29:24<03:48,  2.00s/it]"
          ],
          "name": "stderr"
        },
        {
          "output_type": "stream",
          "text": [
            "(885, 20)\n",
            "drive/My Drive/Colab Notebooks/spotify/input/tracks_sv/73TEyhGLxixHAwzOdoamgV.wav\n"
          ],
          "name": "stdout"
        },
        {
          "output_type": "stream",
          "text": [
            "\r 89%|████████▊ | 887/1000 [29:26<03:43,  1.98s/it]"
          ],
          "name": "stderr"
        },
        {
          "output_type": "stream",
          "text": [
            "(886, 20)\n",
            "drive/My Drive/Colab Notebooks/spotify/input/tracks_sv/73UxQ4j3bZaOTCZmWCxATT.wav\n"
          ],
          "name": "stdout"
        },
        {
          "output_type": "stream",
          "text": [
            "\r 89%|████████▉ | 888/1000 [29:28<03:41,  1.97s/it]"
          ],
          "name": "stderr"
        },
        {
          "output_type": "stream",
          "text": [
            "(887, 20)\n",
            "drive/My Drive/Colab Notebooks/spotify/input/tracks_sv/74hkaAZads4YzzfJBy2Fyy.wav\n"
          ],
          "name": "stdout"
        },
        {
          "output_type": "stream",
          "text": [
            "\r 89%|████████▉ | 889/1000 [29:30<03:39,  1.98s/it]"
          ],
          "name": "stderr"
        },
        {
          "output_type": "stream",
          "text": [
            "(888, 20)\n",
            "drive/My Drive/Colab Notebooks/spotify/input/tracks_sv/74ld99VmvPdKUdF2jZdQS8.wav\n"
          ],
          "name": "stdout"
        },
        {
          "output_type": "stream",
          "text": [
            "\r 89%|████████▉ | 890/1000 [29:32<03:34,  1.95s/it]"
          ],
          "name": "stderr"
        },
        {
          "output_type": "stream",
          "text": [
            "(889, 20)\n",
            "drive/My Drive/Colab Notebooks/spotify/input/tracks_sv/74pDUQdoYsQSeaghKleMOK.wav\n"
          ],
          "name": "stdout"
        },
        {
          "output_type": "stream",
          "text": [
            "\r 89%|████████▉ | 891/1000 [29:34<03:31,  1.94s/it]"
          ],
          "name": "stderr"
        },
        {
          "output_type": "stream",
          "text": [
            "(890, 20)\n",
            "drive/My Drive/Colab Notebooks/spotify/input/tracks_sv/769M0ezv1bE1Mz1d4xP7gc.wav\n"
          ],
          "name": "stdout"
        },
        {
          "output_type": "stream",
          "text": [
            "\r 89%|████████▉ | 892/1000 [29:36<03:31,  1.96s/it]"
          ],
          "name": "stderr"
        },
        {
          "output_type": "stream",
          "text": [
            "(891, 20)\n",
            "drive/My Drive/Colab Notebooks/spotify/input/tracks_sv/77lmDcPPyY6kK907gdgC6i.wav\n"
          ],
          "name": "stdout"
        },
        {
          "output_type": "stream",
          "text": [
            "\r 89%|████████▉ | 893/1000 [29:38<03:28,  1.95s/it]"
          ],
          "name": "stderr"
        },
        {
          "output_type": "stream",
          "text": [
            "(892, 20)\n",
            "drive/My Drive/Colab Notebooks/spotify/input/tracks_sv/78LQTUp1f8APWgFNZNOD5y.wav\n"
          ],
          "name": "stdout"
        },
        {
          "output_type": "stream",
          "text": [
            "\r 89%|████████▉ | 894/1000 [29:40<03:25,  1.94s/it]"
          ],
          "name": "stderr"
        },
        {
          "output_type": "stream",
          "text": [
            "(893, 20)\n",
            "drive/My Drive/Colab Notebooks/spotify/input/tracks_sv/78fqyscPrZNBVZuEEgEDCR.wav\n"
          ],
          "name": "stdout"
        },
        {
          "output_type": "stream",
          "text": [
            "\r 90%|████████▉ | 895/1000 [29:42<03:21,  1.92s/it]"
          ],
          "name": "stderr"
        },
        {
          "output_type": "stream",
          "text": [
            "(894, 20)\n",
            "drive/My Drive/Colab Notebooks/spotify/input/tracks_sv/79oyoDlPustmUs5yIlhbBI.wav\n"
          ],
          "name": "stdout"
        },
        {
          "output_type": "stream",
          "text": [
            "\r 90%|████████▉ | 896/1000 [29:43<03:18,  1.91s/it]"
          ],
          "name": "stderr"
        },
        {
          "output_type": "stream",
          "text": [
            "(895, 20)\n",
            "drive/My Drive/Colab Notebooks/spotify/input/tracks_sv/7AiL7ynOfaUpp87L1nVjI6.wav\n"
          ],
          "name": "stdout"
        },
        {
          "output_type": "stream",
          "text": [
            "\r 90%|████████▉ | 897/1000 [29:45<03:15,  1.90s/it]"
          ],
          "name": "stderr"
        },
        {
          "output_type": "stream",
          "text": [
            "(896, 20)\n",
            "drive/My Drive/Colab Notebooks/spotify/input/tracks_sv/7Avl3ZmZf5B80YSzfmdYuT.wav\n"
          ],
          "name": "stdout"
        },
        {
          "output_type": "stream",
          "text": [
            "\r 90%|████████▉ | 898/1000 [29:47<03:14,  1.91s/it]"
          ],
          "name": "stderr"
        },
        {
          "output_type": "stream",
          "text": [
            "(897, 20)\n",
            "drive/My Drive/Colab Notebooks/spotify/input/tracks_sv/7BpEquyzR7uIC8Kg3maMdf.wav\n"
          ],
          "name": "stdout"
        },
        {
          "output_type": "stream",
          "text": [
            "\r 90%|████████▉ | 899/1000 [29:49<03:12,  1.90s/it]"
          ],
          "name": "stderr"
        },
        {
          "output_type": "stream",
          "text": [
            "(898, 20)\n",
            "drive/My Drive/Colab Notebooks/spotify/input/tracks_sv/7ByNI68MoWyy56LLzJeyc2.wav\n"
          ],
          "name": "stdout"
        },
        {
          "output_type": "stream",
          "text": [
            "\r 90%|█████████ | 900/1000 [29:51<03:11,  1.92s/it]"
          ],
          "name": "stderr"
        },
        {
          "output_type": "stream",
          "text": [
            "(899, 20)\n",
            "drive/My Drive/Colab Notebooks/spotify/input/tracks_sv/7C3XXjKEliuC4PF3jmATgV.wav\n"
          ],
          "name": "stdout"
        },
        {
          "output_type": "stream",
          "text": [
            "\r 90%|█████████ | 901/1000 [29:53<03:14,  1.96s/it]"
          ],
          "name": "stderr"
        },
        {
          "output_type": "stream",
          "text": [
            "(900, 20)\n",
            "drive/My Drive/Colab Notebooks/spotify/input/tracks_sv/7CT7g5dAGUg585sJ3RRKkp.wav\n"
          ],
          "name": "stdout"
        },
        {
          "output_type": "stream",
          "text": [
            "\r 90%|█████████ | 902/1000 [29:55<03:16,  2.01s/it]"
          ],
          "name": "stderr"
        },
        {
          "output_type": "stream",
          "text": [
            "(901, 20)\n",
            "drive/My Drive/Colab Notebooks/spotify/input/tracks_sv/7CmWXD3w1xOO53AAO4LRVQ.wav\n"
          ],
          "name": "stdout"
        },
        {
          "output_type": "stream",
          "text": [
            "\r 90%|█████████ | 903/1000 [29:57<03:12,  1.98s/it]"
          ],
          "name": "stderr"
        },
        {
          "output_type": "stream",
          "text": [
            "(902, 20)\n",
            "drive/My Drive/Colab Notebooks/spotify/input/tracks_sv/7Ctxbd5WtJAHeSFf5FsPOm.wav\n"
          ],
          "name": "stdout"
        },
        {
          "output_type": "stream",
          "text": [
            "\r 90%|█████████ | 904/1000 [29:59<03:07,  1.95s/it]"
          ],
          "name": "stderr"
        },
        {
          "output_type": "stream",
          "text": [
            "(903, 20)\n",
            "drive/My Drive/Colab Notebooks/spotify/input/tracks_sv/7D2nJ2WvQISZTAP7gLjxy0.wav\n"
          ],
          "name": "stdout"
        },
        {
          "output_type": "stream",
          "text": [
            "\r 90%|█████████ | 905/1000 [30:01<03:04,  1.94s/it]"
          ],
          "name": "stderr"
        },
        {
          "output_type": "stream",
          "text": [
            "(904, 20)\n",
            "drive/My Drive/Colab Notebooks/spotify/input/tracks_sv/7DW5Dro8AHE7x19COl26E3.wav\n"
          ],
          "name": "stdout"
        },
        {
          "output_type": "stream",
          "text": [
            "\r 91%|█████████ | 906/1000 [30:03<03:06,  1.98s/it]"
          ],
          "name": "stderr"
        },
        {
          "output_type": "stream",
          "text": [
            "(905, 20)\n",
            "drive/My Drive/Colab Notebooks/spotify/input/tracks_sv/7DtqESlze2aUSyOgjCpe7X.wav\n"
          ],
          "name": "stdout"
        },
        {
          "output_type": "stream",
          "text": [
            "\r 91%|█████████ | 907/1000 [30:05<03:07,  2.01s/it]"
          ],
          "name": "stderr"
        },
        {
          "output_type": "stream",
          "text": [
            "(906, 20)\n",
            "drive/My Drive/Colab Notebooks/spotify/input/tracks_sv/7E0HrAjY5imdytUxy8Nerf.wav\n"
          ],
          "name": "stdout"
        },
        {
          "output_type": "stream",
          "text": [
            "\r 91%|█████████ | 908/1000 [30:07<03:02,  1.98s/it]"
          ],
          "name": "stderr"
        },
        {
          "output_type": "stream",
          "text": [
            "(907, 20)\n",
            "drive/My Drive/Colab Notebooks/spotify/input/tracks_sv/7E9KrPyrePEdpw2B59cm3F.wav\n"
          ],
          "name": "stdout"
        },
        {
          "output_type": "stream",
          "text": [
            "\r 91%|█████████ | 909/1000 [30:09<03:07,  2.06s/it]"
          ],
          "name": "stderr"
        },
        {
          "output_type": "stream",
          "text": [
            "(908, 20)\n",
            "drive/My Drive/Colab Notebooks/spotify/input/tracks_sv/7FkHGoKfvpNGow83hzFiix.wav\n"
          ],
          "name": "stdout"
        },
        {
          "output_type": "stream",
          "text": [
            "\r 91%|█████████ | 910/1000 [30:11<03:04,  2.05s/it]"
          ],
          "name": "stderr"
        },
        {
          "output_type": "stream",
          "text": [
            "(909, 20)\n",
            "drive/My Drive/Colab Notebooks/spotify/input/tracks_sv/7FyAo5GRj2qYtanhmHCAND.wav\n"
          ],
          "name": "stdout"
        },
        {
          "output_type": "stream",
          "text": [
            "\r 91%|█████████ | 911/1000 [30:14<03:07,  2.11s/it]"
          ],
          "name": "stderr"
        },
        {
          "output_type": "stream",
          "text": [
            "(910, 20)\n",
            "drive/My Drive/Colab Notebooks/spotify/input/tracks_sv/7FyHSAzfTFu88aDOpOIVtH.wav\n"
          ],
          "name": "stdout"
        },
        {
          "output_type": "stream",
          "text": [
            "\r 91%|█████████ | 912/1000 [30:15<02:59,  2.04s/it]"
          ],
          "name": "stderr"
        },
        {
          "output_type": "stream",
          "text": [
            "(911, 20)\n",
            "drive/My Drive/Colab Notebooks/spotify/input/tracks_sv/7G8MeUheQ3wCWVvrduZGPk.wav\n"
          ],
          "name": "stdout"
        },
        {
          "output_type": "stream",
          "text": [
            "\r 91%|█████████▏| 913/1000 [30:17<02:53,  2.00s/it]"
          ],
          "name": "stderr"
        },
        {
          "output_type": "stream",
          "text": [
            "(912, 20)\n",
            "drive/My Drive/Colab Notebooks/spotify/input/tracks_sv/7GYGVDPbi0zQUBIkuOPAY0.wav\n"
          ],
          "name": "stdout"
        },
        {
          "output_type": "stream",
          "text": [
            "\r 91%|█████████▏| 914/1000 [30:19<02:48,  1.96s/it]"
          ],
          "name": "stderr"
        },
        {
          "output_type": "stream",
          "text": [
            "(913, 20)\n",
            "drive/My Drive/Colab Notebooks/spotify/input/tracks_sv/7GhHehiu9DCXcTF6H2TOBO.wav\n"
          ],
          "name": "stdout"
        },
        {
          "output_type": "stream",
          "text": [
            "\r 92%|█████████▏| 915/1000 [30:21<02:44,  1.94s/it]"
          ],
          "name": "stderr"
        },
        {
          "output_type": "stream",
          "text": [
            "(914, 20)\n",
            "drive/My Drive/Colab Notebooks/spotify/input/tracks_sv/7GtT3QKpGNQnGDv1B9H0ZJ.wav\n"
          ],
          "name": "stdout"
        },
        {
          "output_type": "stream",
          "text": [
            "\r 92%|█████████▏| 916/1000 [30:23<02:41,  1.93s/it]"
          ],
          "name": "stderr"
        },
        {
          "output_type": "stream",
          "text": [
            "(915, 20)\n",
            "drive/My Drive/Colab Notebooks/spotify/input/tracks_sv/7H5uStZMOGpcVw7eW0eyTi.wav\n"
          ],
          "name": "stdout"
        },
        {
          "output_type": "stream",
          "text": [
            "\r 92%|█████████▏| 917/1000 [30:25<02:39,  1.92s/it]"
          ],
          "name": "stderr"
        },
        {
          "output_type": "stream",
          "text": [
            "(916, 20)\n",
            "drive/My Drive/Colab Notebooks/spotify/input/tracks_sv/7HLvTKv1JgBLKz3KdBHNtM.wav\n"
          ],
          "name": "stdout"
        },
        {
          "output_type": "stream",
          "text": [
            "\r 92%|█████████▏| 918/1000 [30:27<02:37,  1.92s/it]"
          ],
          "name": "stderr"
        },
        {
          "output_type": "stream",
          "text": [
            "(917, 20)\n",
            "drive/My Drive/Colab Notebooks/spotify/input/tracks_sv/7I06RChgJrFMjO1mi59uTO.wav\n"
          ],
          "name": "stdout"
        },
        {
          "output_type": "stream",
          "text": [
            "\r 92%|█████████▏| 919/1000 [30:29<02:36,  1.93s/it]"
          ],
          "name": "stderr"
        },
        {
          "output_type": "stream",
          "text": [
            "(918, 20)\n",
            "drive/My Drive/Colab Notebooks/spotify/input/tracks_sv/7IOHcSwKskrAFMA1gZwD1d.wav\n"
          ],
          "name": "stdout"
        },
        {
          "output_type": "stream",
          "text": [
            "\r 92%|█████████▏| 920/1000 [30:31<02:32,  1.91s/it]"
          ],
          "name": "stderr"
        },
        {
          "output_type": "stream",
          "text": [
            "(919, 20)\n",
            "drive/My Drive/Colab Notebooks/spotify/input/tracks_sv/7IV7n5PxCPwDqOnVQGPwnU.wav\n"
          ],
          "name": "stdout"
        },
        {
          "output_type": "stream",
          "text": [
            "\r 92%|█████████▏| 921/1000 [30:33<02:30,  1.91s/it]"
          ],
          "name": "stderr"
        },
        {
          "output_type": "stream",
          "text": [
            "(920, 20)\n",
            "drive/My Drive/Colab Notebooks/spotify/input/tracks_sv/7IvSeee2WmcfFNZaOyc8Fh.wav\n"
          ],
          "name": "stdout"
        },
        {
          "output_type": "stream",
          "text": [
            "\r 92%|█████████▏| 922/1000 [30:35<02:30,  1.93s/it]"
          ],
          "name": "stderr"
        },
        {
          "output_type": "stream",
          "text": [
            "(921, 20)\n",
            "drive/My Drive/Colab Notebooks/spotify/input/tracks_sv/7J9HCPtyUR6ZlGRhXmj7td.wav\n"
          ],
          "name": "stdout"
        },
        {
          "output_type": "stream",
          "text": [
            "\r 92%|█████████▏| 923/1000 [30:37<02:29,  1.94s/it]"
          ],
          "name": "stderr"
        },
        {
          "output_type": "stream",
          "text": [
            "(922, 20)\n",
            "drive/My Drive/Colab Notebooks/spotify/input/tracks_sv/7KIDnYjAddu6wHdDjFTXZi.wav\n"
          ],
          "name": "stdout"
        },
        {
          "output_type": "stream",
          "text": [
            "\r 92%|█████████▏| 924/1000 [30:38<02:26,  1.93s/it]"
          ],
          "name": "stderr"
        },
        {
          "output_type": "stream",
          "text": [
            "(923, 20)\n",
            "drive/My Drive/Colab Notebooks/spotify/input/tracks_sv/7KbJQTkQbhgaKYOEQGLfvR.wav\n"
          ],
          "name": "stdout"
        },
        {
          "output_type": "stream",
          "text": [
            "\r 92%|█████████▎| 925/1000 [30:40<02:24,  1.92s/it]"
          ],
          "name": "stderr"
        },
        {
          "output_type": "stream",
          "text": [
            "(924, 20)\n",
            "drive/My Drive/Colab Notebooks/spotify/input/tracks_sv/7L4rRPKHHIGxwbCmRU3jz5.wav\n"
          ],
          "name": "stdout"
        },
        {
          "output_type": "stream",
          "text": [
            "\r 93%|█████████▎| 926/1000 [30:42<02:27,  1.99s/it]"
          ],
          "name": "stderr"
        },
        {
          "output_type": "stream",
          "text": [
            "(925, 20)\n",
            "drive/My Drive/Colab Notebooks/spotify/input/tracks_sv/7LY0Mdsj2esWkuO98LEAPl.wav\n"
          ],
          "name": "stdout"
        },
        {
          "output_type": "stream",
          "text": [
            "\r 93%|█████████▎| 927/1000 [30:44<02:24,  1.98s/it]"
          ],
          "name": "stderr"
        },
        {
          "output_type": "stream",
          "text": [
            "(926, 20)\n",
            "drive/My Drive/Colab Notebooks/spotify/input/tracks_sv/7LaihtsTsrBOeTzG0SoTVU.wav\n"
          ],
          "name": "stdout"
        },
        {
          "output_type": "stream",
          "text": [
            "\r 93%|█████████▎| 928/1000 [30:47<02:27,  2.05s/it]"
          ],
          "name": "stderr"
        },
        {
          "output_type": "stream",
          "text": [
            "(927, 20)\n",
            "drive/My Drive/Colab Notebooks/spotify/input/tracks_sv/7LereEsMqMJzSNfmKZZvKE.wav\n"
          ],
          "name": "stdout"
        },
        {
          "output_type": "stream",
          "text": [
            "\r 93%|█████████▎| 929/1000 [30:49<02:28,  2.09s/it]"
          ],
          "name": "stderr"
        },
        {
          "output_type": "stream",
          "text": [
            "(928, 20)\n",
            "drive/My Drive/Colab Notebooks/spotify/input/tracks_sv/7Lf689dVly4trrLGGVtbGT.wav\n"
          ],
          "name": "stdout"
        },
        {
          "output_type": "stream",
          "text": [
            "\r 93%|█████████▎| 930/1000 [30:51<02:28,  2.12s/it]"
          ],
          "name": "stderr"
        },
        {
          "output_type": "stream",
          "text": [
            "(929, 20)\n",
            "drive/My Drive/Colab Notebooks/spotify/input/tracks_sv/7M2ZtqHQWtrDW9oGodD6vm.wav\n"
          ],
          "name": "stdout"
        },
        {
          "output_type": "stream",
          "text": [
            "\r 93%|█████████▎| 931/1000 [30:53<02:21,  2.05s/it]"
          ],
          "name": "stderr"
        },
        {
          "output_type": "stream",
          "text": [
            "(930, 20)\n",
            "drive/My Drive/Colab Notebooks/spotify/input/tracks_sv/7MhJmtlNl6R0oppdG59CaI.wav\n"
          ],
          "name": "stdout"
        },
        {
          "output_type": "stream",
          "text": [
            "\r 93%|█████████▎| 932/1000 [30:55<02:16,  2.01s/it]"
          ],
          "name": "stderr"
        },
        {
          "output_type": "stream",
          "text": [
            "(931, 20)\n",
            "drive/My Drive/Colab Notebooks/spotify/input/tracks_sv/7a3LbQFgp7NCuNcGlTgSsN.wav\n"
          ],
          "name": "stdout"
        },
        {
          "output_type": "stream",
          "text": [
            "\r 93%|█████████▎| 933/1000 [30:57<02:15,  2.02s/it]"
          ],
          "name": "stderr"
        },
        {
          "output_type": "stream",
          "text": [
            "(932, 20)\n",
            "drive/My Drive/Colab Notebooks/spotify/input/tracks_sv/7a7EIFzJLd7lcDRgThMQgm.wav\n"
          ],
          "name": "stdout"
        },
        {
          "output_type": "stream",
          "text": [
            "\r 93%|█████████▎| 934/1000 [30:59<02:10,  1.97s/it]"
          ],
          "name": "stderr"
        },
        {
          "output_type": "stream",
          "text": [
            "(933, 20)\n",
            "drive/My Drive/Colab Notebooks/spotify/input/tracks_sv/7aCdXnpn7oPN1sz3i78t7x.wav\n"
          ],
          "name": "stdout"
        },
        {
          "output_type": "stream",
          "text": [
            "\r 94%|█████████▎| 935/1000 [31:01<02:08,  1.98s/it]"
          ],
          "name": "stderr"
        },
        {
          "output_type": "stream",
          "text": [
            "(934, 20)\n",
            "drive/My Drive/Colab Notebooks/spotify/input/tracks_sv/7aDTcAtL4HAXHTYmJBi9se.wav\n"
          ],
          "name": "stdout"
        },
        {
          "output_type": "stream",
          "text": [
            "\r 94%|█████████▎| 936/1000 [31:03<02:06,  1.97s/it]"
          ],
          "name": "stderr"
        },
        {
          "output_type": "stream",
          "text": [
            "(935, 20)\n",
            "drive/My Drive/Colab Notebooks/spotify/input/tracks_sv/7aGAZf6TFxH18KkCe7sP5L.wav\n"
          ],
          "name": "stdout"
        },
        {
          "output_type": "stream",
          "text": [
            "\r 94%|█████████▎| 937/1000 [31:05<02:04,  1.97s/it]"
          ],
          "name": "stderr"
        },
        {
          "output_type": "stream",
          "text": [
            "(936, 20)\n",
            "drive/My Drive/Colab Notebooks/spotify/input/tracks_sv/7aiDOJpuS4UxjKpgQe2mjF.wav\n"
          ],
          "name": "stdout"
        },
        {
          "output_type": "stream",
          "text": [
            "\r 94%|█████████▍| 938/1000 [31:07<02:02,  1.97s/it]"
          ],
          "name": "stderr"
        },
        {
          "output_type": "stream",
          "text": [
            "(937, 20)\n",
            "drive/My Drive/Colab Notebooks/spotify/input/tracks_sv/7b740cSOAeaW9SWiD1G823.wav\n"
          ],
          "name": "stdout"
        },
        {
          "output_type": "stream",
          "text": [
            "\r 94%|█████████▍| 939/1000 [31:08<01:58,  1.94s/it]"
          ],
          "name": "stderr"
        },
        {
          "output_type": "stream",
          "text": [
            "(938, 20)\n",
            "drive/My Drive/Colab Notebooks/spotify/input/tracks_sv/7blvaphSI7iMSrYmigxHPh.wav\n"
          ],
          "name": "stdout"
        },
        {
          "output_type": "stream",
          "text": [
            "\r 94%|█████████▍| 940/1000 [31:10<01:55,  1.93s/it]"
          ],
          "name": "stderr"
        },
        {
          "output_type": "stream",
          "text": [
            "(939, 20)\n",
            "drive/My Drive/Colab Notebooks/spotify/input/tracks_sv/7bmdV1IiqeCIK1Lb3klDVV.wav\n"
          ],
          "name": "stdout"
        },
        {
          "output_type": "stream",
          "text": [
            "\r 94%|█████████▍| 941/1000 [31:12<01:52,  1.91s/it]"
          ],
          "name": "stderr"
        },
        {
          "output_type": "stream",
          "text": [
            "(940, 20)\n",
            "drive/My Drive/Colab Notebooks/spotify/input/tracks_sv/7cPw7oSW0WKceAy3v0Y8BV.wav\n"
          ],
          "name": "stdout"
        },
        {
          "output_type": "stream",
          "text": [
            "\r 94%|█████████▍| 942/1000 [31:14<01:50,  1.90s/it]"
          ],
          "name": "stderr"
        },
        {
          "output_type": "stream",
          "text": [
            "(941, 20)\n",
            "drive/My Drive/Colab Notebooks/spotify/input/tracks_sv/7cwzoU55oSCNP7m8dWDShQ.wav\n"
          ],
          "name": "stdout"
        },
        {
          "output_type": "stream",
          "text": [
            "\r 94%|█████████▍| 943/1000 [31:16<01:48,  1.90s/it]"
          ],
          "name": "stderr"
        },
        {
          "output_type": "stream",
          "text": [
            "(942, 20)\n",
            "drive/My Drive/Colab Notebooks/spotify/input/tracks_sv/7dZ6YZA18rkPuv6xAL03s4.wav\n"
          ],
          "name": "stdout"
        },
        {
          "output_type": "stream",
          "text": [
            "\r 94%|█████████▍| 944/1000 [31:18<01:49,  1.95s/it]"
          ],
          "name": "stderr"
        },
        {
          "output_type": "stream",
          "text": [
            "(943, 20)\n",
            "drive/My Drive/Colab Notebooks/spotify/input/tracks_sv/7e8IV4U2LdP7p7uJ83EZmh.wav\n"
          ],
          "name": "stdout"
        },
        {
          "output_type": "stream",
          "text": [
            "\r 94%|█████████▍| 945/1000 [31:20<01:46,  1.93s/it]"
          ],
          "name": "stderr"
        },
        {
          "output_type": "stream",
          "text": [
            "(944, 20)\n",
            "drive/My Drive/Colab Notebooks/spotify/input/tracks_sv/7e9AqVqQ02gNeE7l5JF2yj.wav\n"
          ],
          "name": "stdout"
        },
        {
          "output_type": "stream",
          "text": [
            "\r 95%|█████████▍| 946/1000 [31:22<01:43,  1.92s/it]"
          ],
          "name": "stderr"
        },
        {
          "output_type": "stream",
          "text": [
            "(945, 20)\n",
            "drive/My Drive/Colab Notebooks/spotify/input/tracks_sv/7fPI7qKs2qoh6YQImZN5sz.wav\n"
          ],
          "name": "stdout"
        },
        {
          "output_type": "stream",
          "text": [
            "\r 95%|█████████▍| 947/1000 [31:24<01:41,  1.92s/it]"
          ],
          "name": "stderr"
        },
        {
          "output_type": "stream",
          "text": [
            "(946, 20)\n",
            "drive/My Drive/Colab Notebooks/spotify/input/tracks_sv/7facNrW6VRW8s3ICZ8G1uW.wav\n"
          ],
          "name": "stdout"
        },
        {
          "output_type": "stream",
          "text": [
            "\r 95%|█████████▍| 948/1000 [31:26<01:43,  1.98s/it]"
          ],
          "name": "stderr"
        },
        {
          "output_type": "stream",
          "text": [
            "(947, 20)\n",
            "drive/My Drive/Colab Notebooks/spotify/input/tracks_sv/7g42Z31aPLq6GArDAWAjKI.wav\n"
          ],
          "name": "stdout"
        },
        {
          "output_type": "stream",
          "text": [
            "\r 95%|█████████▍| 949/1000 [31:28<01:39,  1.95s/it]"
          ],
          "name": "stderr"
        },
        {
          "output_type": "stream",
          "text": [
            "(948, 20)\n",
            "drive/My Drive/Colab Notebooks/spotify/input/tracks_sv/7gDB5zDY7IxNmRfrJ9KR8J.wav\n"
          ],
          "name": "stdout"
        },
        {
          "output_type": "stream",
          "text": [
            "\r 95%|█████████▌| 950/1000 [31:30<01:36,  1.93s/it]"
          ],
          "name": "stderr"
        },
        {
          "output_type": "stream",
          "text": [
            "(949, 20)\n",
            "drive/My Drive/Colab Notebooks/spotify/input/tracks_sv/7gaxu5egrWoUs0FPjPBsvR.wav\n"
          ],
          "name": "stdout"
        },
        {
          "output_type": "stream",
          "text": [
            "\r 95%|█████████▌| 951/1000 [31:32<01:34,  1.93s/it]"
          ],
          "name": "stderr"
        },
        {
          "output_type": "stream",
          "text": [
            "(950, 20)\n",
            "drive/My Drive/Colab Notebooks/spotify/input/tracks_sv/7gen9AbW80lkLUvOjdH9yB.wav\n"
          ],
          "name": "stdout"
        },
        {
          "output_type": "stream",
          "text": [
            "\r 95%|█████████▌| 952/1000 [31:34<01:32,  1.93s/it]"
          ],
          "name": "stderr"
        },
        {
          "output_type": "stream",
          "text": [
            "(951, 20)\n",
            "drive/My Drive/Colab Notebooks/spotify/input/tracks_sv/7h5G3ZogHFulPx5gXhIMrI.wav\n"
          ],
          "name": "stdout"
        },
        {
          "output_type": "stream",
          "text": [
            "\r 95%|█████████▌| 953/1000 [31:36<01:33,  2.00s/it]"
          ],
          "name": "stderr"
        },
        {
          "output_type": "stream",
          "text": [
            "(952, 20)\n",
            "drive/My Drive/Colab Notebooks/spotify/input/tracks_sv/7hcwMf3dOcRXnA8qCM7eHE.wav\n"
          ],
          "name": "stdout"
        },
        {
          "output_type": "stream",
          "text": [
            "\r 95%|█████████▌| 954/1000 [31:38<01:32,  2.00s/it]"
          ],
          "name": "stderr"
        },
        {
          "output_type": "stream",
          "text": [
            "(953, 20)\n",
            "drive/My Drive/Colab Notebooks/spotify/input/tracks_sv/7iQ7iWTjhsStrN21GX7KSR.wav\n"
          ],
          "name": "stdout"
        },
        {
          "output_type": "stream",
          "text": [
            "\r 96%|█████████▌| 955/1000 [31:40<01:29,  1.99s/it]"
          ],
          "name": "stderr"
        },
        {
          "output_type": "stream",
          "text": [
            "(954, 20)\n",
            "drive/My Drive/Colab Notebooks/spotify/input/tracks_sv/7itS0NjYHtmXPq8xXacNZe.wav\n"
          ],
          "name": "stdout"
        },
        {
          "output_type": "stream",
          "text": [
            "\r 96%|█████████▌| 956/1000 [31:42<01:25,  1.95s/it]"
          ],
          "name": "stderr"
        },
        {
          "output_type": "stream",
          "text": [
            "(955, 20)\n",
            "drive/My Drive/Colab Notebooks/spotify/input/tracks_sv/7jgqNMnqAT9FghC1uSYTFF.wav\n"
          ],
          "name": "stdout"
        },
        {
          "output_type": "stream",
          "text": [
            "\r 96%|█████████▌| 957/1000 [31:43<01:23,  1.95s/it]"
          ],
          "name": "stderr"
        },
        {
          "output_type": "stream",
          "text": [
            "(956, 20)\n",
            "drive/My Drive/Colab Notebooks/spotify/input/tracks_sv/7jqRTdBUqNhJaI0fKdOClO.wav\n"
          ],
          "name": "stdout"
        },
        {
          "output_type": "stream",
          "text": [
            "\r 96%|█████████▌| 958/1000 [31:45<01:22,  1.97s/it]"
          ],
          "name": "stderr"
        },
        {
          "output_type": "stream",
          "text": [
            "(957, 20)\n",
            "drive/My Drive/Colab Notebooks/spotify/input/tracks_sv/7keyH84kNCdYq6LVRMni3Z.wav\n"
          ],
          "name": "stdout"
        },
        {
          "output_type": "stream",
          "text": [
            "\r 96%|█████████▌| 959/1000 [31:48<01:21,  1.98s/it]"
          ],
          "name": "stderr"
        },
        {
          "output_type": "stream",
          "text": [
            "(958, 20)\n",
            "drive/My Drive/Colab Notebooks/spotify/input/tracks_sv/7kp6sxHL7YcjbEwDvcSvYj.wav\n"
          ],
          "name": "stdout"
        },
        {
          "output_type": "stream",
          "text": [
            "\r 96%|█████████▌| 960/1000 [31:50<01:21,  2.04s/it]"
          ],
          "name": "stderr"
        },
        {
          "output_type": "stream",
          "text": [
            "(959, 20)\n",
            "drive/My Drive/Colab Notebooks/spotify/input/tracks_sv/7l00nyQmAx0DEE9XRFaHxG.wav\n"
          ],
          "name": "stdout"
        },
        {
          "output_type": "stream",
          "text": [
            "\r 96%|█████████▌| 961/1000 [31:52<01:18,  2.01s/it]"
          ],
          "name": "stderr"
        },
        {
          "output_type": "stream",
          "text": [
            "(960, 20)\n",
            "drive/My Drive/Colab Notebooks/spotify/input/tracks_sv/7lFzS8uBjpXckGjQQcpJrW.wav\n"
          ],
          "name": "stdout"
        },
        {
          "output_type": "stream",
          "text": [
            "\r 96%|█████████▌| 962/1000 [31:54<01:16,  2.02s/it]"
          ],
          "name": "stderr"
        },
        {
          "output_type": "stream",
          "text": [
            "(961, 20)\n",
            "drive/My Drive/Colab Notebooks/spotify/input/tracks_sv/7lpcsmYDJXaaIwa2B5qzDj.wav\n"
          ],
          "name": "stdout"
        },
        {
          "output_type": "stream",
          "text": [
            "\r 96%|█████████▋| 963/1000 [31:56<01:13,  1.99s/it]"
          ],
          "name": "stderr"
        },
        {
          "output_type": "stream",
          "text": [
            "(962, 20)\n",
            "drive/My Drive/Colab Notebooks/spotify/input/tracks_sv/7lybcbFTGJmaZgW0MceAKu.wav\n"
          ],
          "name": "stdout"
        },
        {
          "output_type": "stream",
          "text": [
            "\r 96%|█████████▋| 964/1000 [31:57<01:10,  1.97s/it]"
          ],
          "name": "stderr"
        },
        {
          "output_type": "stream",
          "text": [
            "(963, 20)\n",
            "drive/My Drive/Colab Notebooks/spotify/input/tracks_sv/7mCXn6qElyfcGpEhj0VbNy.wav\n"
          ],
          "name": "stdout"
        },
        {
          "output_type": "stream",
          "text": [
            "\r 96%|█████████▋| 965/1000 [31:59<01:07,  1.94s/it]"
          ],
          "name": "stderr"
        },
        {
          "output_type": "stream",
          "text": [
            "(964, 20)\n",
            "drive/My Drive/Colab Notebooks/spotify/input/tracks_sv/7mRBW6wiBU5sjnzvWqa0hR.wav\n"
          ],
          "name": "stdout"
        },
        {
          "output_type": "stream",
          "text": [
            "\r 97%|█████████▋| 966/1000 [32:01<01:05,  1.92s/it]"
          ],
          "name": "stderr"
        },
        {
          "output_type": "stream",
          "text": [
            "(965, 20)\n",
            "drive/My Drive/Colab Notebooks/spotify/input/tracks_sv/7mqpXSSr9CBZI8LXEbxWql.wav\n"
          ],
          "name": "stdout"
        },
        {
          "output_type": "stream",
          "text": [
            "\r 97%|█████████▋| 967/1000 [32:03<01:04,  1.96s/it]"
          ],
          "name": "stderr"
        },
        {
          "output_type": "stream",
          "text": [
            "(966, 20)\n",
            "drive/My Drive/Colab Notebooks/spotify/input/tracks_sv/7nj9JW6QQrholNi2R2lffN.wav\n"
          ],
          "name": "stdout"
        },
        {
          "output_type": "stream",
          "text": [
            "\r 97%|█████████▋| 968/1000 [32:06<01:09,  2.18s/it]"
          ],
          "name": "stderr"
        },
        {
          "output_type": "stream",
          "text": [
            "(967, 20)\n",
            "drive/My Drive/Colab Notebooks/spotify/input/tracks_sv/7nwsaMx5BA7HAH4DP0VH8y.wav\n"
          ],
          "name": "stdout"
        },
        {
          "output_type": "stream",
          "text": [
            "\r 97%|█████████▋| 969/1000 [32:08<01:05,  2.11s/it]"
          ],
          "name": "stderr"
        },
        {
          "output_type": "stream",
          "text": [
            "(968, 20)\n",
            "drive/My Drive/Colab Notebooks/spotify/input/tracks_sv/7oC9vXkvabScgyD4CD39C6.wav\n"
          ],
          "name": "stdout"
        },
        {
          "output_type": "stream",
          "text": [
            "\r 97%|█████████▋| 970/1000 [32:10<01:03,  2.13s/it]"
          ],
          "name": "stderr"
        },
        {
          "output_type": "stream",
          "text": [
            "(969, 20)\n",
            "drive/My Drive/Colab Notebooks/spotify/input/tracks_sv/7ou5Oj4lZUKhtGxoJZg9pE.wav\n"
          ],
          "name": "stdout"
        },
        {
          "output_type": "stream",
          "text": [
            "\r 97%|█████████▋| 971/1000 [32:13<01:05,  2.25s/it]"
          ],
          "name": "stderr"
        },
        {
          "output_type": "stream",
          "text": [
            "(970, 20)\n",
            "drive/My Drive/Colab Notebooks/spotify/input/tracks_sv/7p4HUrX56eDEYiitt4jNUK.wav\n"
          ],
          "name": "stdout"
        },
        {
          "output_type": "stream",
          "text": [
            "\r 97%|█████████▋| 972/1000 [32:15<01:01,  2.19s/it]"
          ],
          "name": "stderr"
        },
        {
          "output_type": "stream",
          "text": [
            "(971, 20)\n",
            "drive/My Drive/Colab Notebooks/spotify/input/tracks_sv/7pXMwPkPfLRTqK38bAWzMU.wav\n"
          ],
          "name": "stdout"
        },
        {
          "output_type": "stream",
          "text": [
            "\r 97%|█████████▋| 973/1000 [32:17<00:57,  2.13s/it]"
          ],
          "name": "stderr"
        },
        {
          "output_type": "stream",
          "text": [
            "(972, 20)\n",
            "drive/My Drive/Colab Notebooks/spotify/input/tracks_sv/7pcTLUekZJQnzDOUDuExVJ.wav\n"
          ],
          "name": "stdout"
        },
        {
          "output_type": "stream",
          "text": [
            "\r 97%|█████████▋| 974/1000 [32:19<00:53,  2.07s/it]"
          ],
          "name": "stderr"
        },
        {
          "output_type": "stream",
          "text": [
            "(973, 20)\n",
            "drive/My Drive/Colab Notebooks/spotify/input/tracks_sv/7ppyNgkO7nWPP9ii5SeYz0.wav\n"
          ],
          "name": "stdout"
        },
        {
          "output_type": "stream",
          "text": [
            "\r 98%|█████████▊| 975/1000 [32:21<00:50,  2.03s/it]"
          ],
          "name": "stderr"
        },
        {
          "output_type": "stream",
          "text": [
            "(974, 20)\n",
            "drive/My Drive/Colab Notebooks/spotify/input/tracks_sv/7qxiMTivPRxgHqHaIUML48.wav\n"
          ],
          "name": "stdout"
        },
        {
          "output_type": "stream",
          "text": [
            "\r 98%|█████████▊| 976/1000 [32:24<00:56,  2.36s/it]"
          ],
          "name": "stderr"
        },
        {
          "output_type": "stream",
          "text": [
            "(975, 20)\n",
            "drive/My Drive/Colab Notebooks/spotify/input/tracks_sv/7rF5kk0MnpV9Q96iUbF3wy.wav\n"
          ],
          "name": "stdout"
        },
        {
          "output_type": "stream",
          "text": [
            "\r 98%|█████████▊| 977/1000 [32:26<00:51,  2.24s/it]"
          ],
          "name": "stderr"
        },
        {
          "output_type": "stream",
          "text": [
            "(976, 20)\n",
            "drive/My Drive/Colab Notebooks/spotify/input/tracks_sv/7rGtDLI0FPGKv07A0fHGTu.wav\n"
          ],
          "name": "stdout"
        },
        {
          "output_type": "stream",
          "text": [
            "\r 98%|█████████▊| 978/1000 [32:28<00:46,  2.14s/it]"
          ],
          "name": "stderr"
        },
        {
          "output_type": "stream",
          "text": [
            "(977, 20)\n",
            "drive/My Drive/Colab Notebooks/spotify/input/tracks_sv/7rXg8gc1NKS9ORYmEHZFAo.wav\n"
          ],
          "name": "stdout"
        },
        {
          "output_type": "stream",
          "text": [
            "\r 98%|█████████▊| 979/1000 [32:29<00:43,  2.06s/it]"
          ],
          "name": "stderr"
        },
        {
          "output_type": "stream",
          "text": [
            "(978, 20)\n",
            "drive/My Drive/Colab Notebooks/spotify/input/tracks_sv/7rbVsqsNAzqodRAbj4WJ0F.wav\n"
          ],
          "name": "stdout"
        },
        {
          "output_type": "stream",
          "text": [
            "\r 98%|█████████▊| 980/1000 [32:31<00:40,  2.00s/it]"
          ],
          "name": "stderr"
        },
        {
          "output_type": "stream",
          "text": [
            "(979, 20)\n",
            "drive/My Drive/Colab Notebooks/spotify/input/tracks_sv/7sLDPa73SleZYAFAKAGhvU.wav\n"
          ],
          "name": "stdout"
        },
        {
          "output_type": "stream",
          "text": [
            "\r 98%|█████████▊| 981/1000 [32:33<00:37,  1.99s/it]"
          ],
          "name": "stderr"
        },
        {
          "output_type": "stream",
          "text": [
            "(980, 20)\n",
            "drive/My Drive/Colab Notebooks/spotify/input/tracks_sv/7sXEjgKp9aYqMOQnrGH8B6.wav\n"
          ],
          "name": "stdout"
        },
        {
          "output_type": "stream",
          "text": [
            "\r 98%|█████████▊| 982/1000 [32:35<00:35,  1.97s/it]"
          ],
          "name": "stderr"
        },
        {
          "output_type": "stream",
          "text": [
            "(981, 20)\n",
            "drive/My Drive/Colab Notebooks/spotify/input/tracks_sv/7sqoUXFIrcdyDtTjdekx8P.wav\n"
          ],
          "name": "stdout"
        },
        {
          "output_type": "stream",
          "text": [
            "\r 98%|█████████▊| 983/1000 [32:37<00:32,  1.94s/it]"
          ],
          "name": "stderr"
        },
        {
          "output_type": "stream",
          "text": [
            "(982, 20)\n",
            "drive/My Drive/Colab Notebooks/spotify/input/tracks_sv/7tBPxHhEhG7jqw37d6Epmu.wav\n"
          ],
          "name": "stdout"
        },
        {
          "output_type": "stream",
          "text": [
            "\r 98%|█████████▊| 984/1000 [32:39<00:31,  1.95s/it]"
          ],
          "name": "stderr"
        },
        {
          "output_type": "stream",
          "text": [
            "(983, 20)\n",
            "drive/My Drive/Colab Notebooks/spotify/input/tracks_sv/7tGDXCPLpAScEwmqab9YZd.wav\n"
          ],
          "name": "stdout"
        },
        {
          "output_type": "stream",
          "text": [
            "\r 98%|█████████▊| 985/1000 [32:41<00:29,  1.94s/it]"
          ],
          "name": "stderr"
        },
        {
          "output_type": "stream",
          "text": [
            "(984, 20)\n",
            "drive/My Drive/Colab Notebooks/spotify/input/tracks_sv/7uqJ3N5wiISiyzkQMMCeMR.wav\n"
          ],
          "name": "stdout"
        },
        {
          "output_type": "stream",
          "text": [
            "\r 99%|█████████▊| 986/1000 [32:43<00:27,  1.99s/it]"
          ],
          "name": "stderr"
        },
        {
          "output_type": "stream",
          "text": [
            "(985, 20)\n",
            "drive/My Drive/Colab Notebooks/spotify/input/tracks_sv/7uwCGnKy5V2Gg5nQe07BtD.wav\n"
          ],
          "name": "stdout"
        },
        {
          "output_type": "stream",
          "text": [
            "\r 99%|█████████▊| 987/1000 [32:45<00:25,  1.98s/it]"
          ],
          "name": "stderr"
        },
        {
          "output_type": "stream",
          "text": [
            "(986, 20)\n",
            "drive/My Drive/Colab Notebooks/spotify/input/tracks_sv/7vBt0nLQ1uPurkqiW7Pibs.wav\n"
          ],
          "name": "stdout"
        },
        {
          "output_type": "stream",
          "text": [
            "\r 99%|█████████▉| 988/1000 [32:47<00:23,  1.95s/it]"
          ],
          "name": "stderr"
        },
        {
          "output_type": "stream",
          "text": [
            "(987, 20)\n",
            "drive/My Drive/Colab Notebooks/spotify/input/tracks_sv/7vwXjDrZT2mqiFynlEwwgG.wav\n"
          ],
          "name": "stdout"
        },
        {
          "output_type": "stream",
          "text": [
            "\r 99%|█████████▉| 989/1000 [32:49<00:21,  1.93s/it]"
          ],
          "name": "stderr"
        },
        {
          "output_type": "stream",
          "text": [
            "(988, 20)\n",
            "drive/My Drive/Colab Notebooks/spotify/input/tracks_sv/7wETwOAU33mdyYkiwxscOo.wav\n"
          ],
          "name": "stdout"
        },
        {
          "output_type": "stream",
          "text": [
            "\r 99%|█████████▉| 990/1000 [32:51<00:19,  1.91s/it]"
          ],
          "name": "stderr"
        },
        {
          "output_type": "stream",
          "text": [
            "(989, 20)\n",
            "drive/My Drive/Colab Notebooks/spotify/input/tracks_sv/7wWV7FM015VYTlNw6KIYRI.wav\n"
          ],
          "name": "stdout"
        },
        {
          "output_type": "stream",
          "text": [
            "\r 99%|█████████▉| 991/1000 [32:52<00:17,  1.91s/it]"
          ],
          "name": "stderr"
        },
        {
          "output_type": "stream",
          "text": [
            "(990, 20)\n",
            "drive/My Drive/Colab Notebooks/spotify/input/tracks_sv/7wpCPK6zC3rDTfvjVn0ErU.wav\n"
          ],
          "name": "stdout"
        },
        {
          "output_type": "stream",
          "text": [
            "\r 99%|█████████▉| 992/1000 [32:54<00:15,  1.91s/it]"
          ],
          "name": "stderr"
        },
        {
          "output_type": "stream",
          "text": [
            "(991, 20)\n",
            "drive/My Drive/Colab Notebooks/spotify/input/tracks_sv/7wx5xFmhBd5T9dZFTl9YeA.wav\n"
          ],
          "name": "stdout"
        },
        {
          "output_type": "stream",
          "text": [
            "\r 99%|█████████▉| 993/1000 [32:57<00:14,  2.01s/it]"
          ],
          "name": "stderr"
        },
        {
          "output_type": "stream",
          "text": [
            "(992, 20)\n",
            "drive/My Drive/Colab Notebooks/spotify/input/tracks_sv/7x3qkCeoshXTkNGCkkSMKZ.wav\n"
          ],
          "name": "stdout"
        },
        {
          "output_type": "stream",
          "text": [
            "\r 99%|█████████▉| 994/1000 [32:59<00:12,  2.04s/it]"
          ],
          "name": "stderr"
        },
        {
          "output_type": "stream",
          "text": [
            "(993, 20)\n",
            "drive/My Drive/Colab Notebooks/spotify/input/tracks_sv/7xaR4wBQCMkEU5OguW4Cdv.wav\n"
          ],
          "name": "stdout"
        },
        {
          "output_type": "stream",
          "text": [
            "\r100%|█████████▉| 995/1000 [33:01<00:10,  2.01s/it]"
          ],
          "name": "stderr"
        },
        {
          "output_type": "stream",
          "text": [
            "(994, 20)\n",
            "drive/My Drive/Colab Notebooks/spotify/input/tracks_sv/7xid7Vi1ZMYlfL1IY13sU6.wav\n"
          ],
          "name": "stdout"
        },
        {
          "output_type": "stream",
          "text": [
            "\r100%|█████████▉| 996/1000 [33:03<00:07,  1.99s/it]"
          ],
          "name": "stderr"
        },
        {
          "output_type": "stream",
          "text": [
            "(995, 20)\n",
            "drive/My Drive/Colab Notebooks/spotify/input/tracks_sv/7ySHoLhSRmWjfhuDmOcvTy.wav\n"
          ],
          "name": "stdout"
        },
        {
          "output_type": "stream",
          "text": [
            "\r100%|█████████▉| 997/1000 [33:05<00:06,  2.03s/it]"
          ],
          "name": "stderr"
        },
        {
          "output_type": "stream",
          "text": [
            "(996, 20)\n",
            "drive/My Drive/Colab Notebooks/spotify/input/tracks_sv/7yTsMH1V6kRoCcpFjQD8Vs.wav\n"
          ],
          "name": "stdout"
        },
        {
          "output_type": "stream",
          "text": [
            "\r100%|█████████▉| 998/1000 [33:07<00:04,  2.08s/it]"
          ],
          "name": "stderr"
        },
        {
          "output_type": "stream",
          "text": [
            "(997, 20)\n",
            "drive/My Drive/Colab Notebooks/spotify/input/tracks_sv/7yXwERf5YbjCXkVqU1fZvA.wav\n"
          ],
          "name": "stdout"
        },
        {
          "output_type": "stream",
          "text": [
            "\r100%|█████████▉| 999/1000 [33:09<00:02,  2.04s/it]"
          ],
          "name": "stderr"
        },
        {
          "output_type": "stream",
          "text": [
            "(998, 20)\n",
            "drive/My Drive/Colab Notebooks/spotify/input/tracks_sv/7ykJ3C7MZQlLQfw1gkoafE.wav\n"
          ],
          "name": "stdout"
        },
        {
          "output_type": "stream",
          "text": [
            "\r100%|██████████| 1000/1000 [33:11<00:00,  1.99s/it]"
          ],
          "name": "stderr"
        },
        {
          "output_type": "stream",
          "text": [
            "(999, 20)\n",
            "(1000, 20)\n"
          ],
          "name": "stdout"
        },
        {
          "output_type": "stream",
          "text": [
            "\n"
          ],
          "name": "stderr"
        }
      ]
    },
    {
      "cell_type": "code",
      "metadata": {
        "id": "NkRkJG_x_eZd",
        "colab_type": "code",
        "colab": {}
      },
      "source": [
        "import pickle\n",
        "with open('drive/My Drive/Colab Notebooks/spotify/input/singing_voice_mfcc.pickle', mode='wb') as f:\n",
        "  pickle.dump(M, f)"
      ],
      "execution_count": 0,
      "outputs": []
    },
    {
      "cell_type": "markdown",
      "metadata": {
        "id": "0fWY0l7DAY0R",
        "colab_type": "text"
      },
      "source": [
        "# Calculate Cosine Similarity"
      ]
    },
    {
      "cell_type": "code",
      "metadata": {
        "id": "luGIGd59gTOO",
        "colab_type": "code",
        "colab": {}
      },
      "source": [
        "def cos_sim(v1, v2):\n",
        "    return np.dot(v1, v2) / (np.linalg.norm(v1) * np.linalg.norm(v2))"
      ],
      "execution_count": 0,
      "outputs": []
    },
    {
      "cell_type": "code",
      "metadata": {
        "id": "UmhTZt-25Uca",
        "colab_type": "code",
        "colab": {}
      },
      "source": [
        "S = np.zeros([1000,1000])\n",
        "for i in range(S.shape[0]):\n",
        "  for j in range(S.shape[1]):\n",
        "    S[i][j] = cos_sim(M[i,:], M[j,:])"
      ],
      "execution_count": 0,
      "outputs": []
    },
    {
      "cell_type": "code",
      "metadata": {
        "id": "r3VdJoGLA5Js",
        "colab_type": "code",
        "colab": {
          "base_uri": "https://localhost:8080/",
          "height": 286
        },
        "outputId": "f4852690-64b8-437c-8f2d-103877ff9511"
      },
      "source": [
        "import matplotlib.pyplot as plt\n",
        "%matplotlib inline\n",
        "plt.imshow(S)"
      ],
      "execution_count": 34,
      "outputs": [
        {
          "output_type": "execute_result",
          "data": {
            "text/plain": [
              "<matplotlib.image.AxesImage at 0x7ff5916e2cc0>"
            ]
          },
          "metadata": {
            "tags": []
          },
          "execution_count": 34
        },
        {
          "output_type": "display_data",
          "data": {
            "image/png": "[encoded data removed]",
            "text/plain": [
              "<Figure size 432x288 with 1 Axes>"
            ]
          },
          "metadata": {
            "tags": []
          }
        }
      ]
    },
    {
      "cell_type": "code",
      "metadata": {
        "id": "1UKQ5TVeBJcH",
        "colab_type": "code",
        "colab": {}
      },
      "source": [
        "import pandas as pd"
      ],
      "execution_count": 0,
      "outputs": []
    },
    {
      "cell_type": "code",
      "metadata": {
        "id": "wi-M_TpUCpFE",
        "colab_type": "code",
        "colab": {}
      },
      "source": [
        "df = pd.read_csv('drive/My Drive/Colab Notebooks/spotify/input/all_tracks.csv')"
      ],
      "execution_count": 0,
      "outputs": []
    },
    {
      "cell_type": "code",
      "metadata": {
        "id": "ODO62lGyCwf3",
        "colab_type": "code",
        "colab": {
          "base_uri": "https://localhost:8080/",
          "height": 367
        },
        "outputId": "e71db081-86a6-4ff3-87a0-3314d39dc64f"
      },
      "source": [
        "df.head()"
      ],
      "execution_count": 23,
      "outputs": [
        {
          "output_type": "execute_result",
          "data": {
            "text/html": [
              "<div>\n",
              "<style scoped>\n",
              "    .dataframe tbody tr th:only-of-type {\n",
              "        vertical-align: middle;\n",
              "    }\n",
              "\n",
              "    .dataframe tbody tr th {\n",
              "        vertical-align: top;\n",
              "    }\n",
              "\n",
              "    .dataframe thead th {\n",
              "        text-align: right;\n",
              "    }\n",
              "</style>\n",
              "<table border=\"1\" class=\"dataframe\">\n",
              "  <thead>\n",
              "    <tr style=\"text-align: right;\">\n",
              "      <th></th>\n",
              "      <th>Unnamed: 0</th>\n",
              "      <th>track_id</th>\n",
              "      <th>track_name</th>\n",
              "      <th>track_url</th>\n",
              "      <th>available_markets</th>\n",
              "      <th>disc_number</th>\n",
              "      <th>duration_ms</th>\n",
              "      <th>popularity</th>\n",
              "      <th>preview_url</th>\n",
              "      <th>track_number</th>\n",
              "      <th>acousticness</th>\n",
              "      <th>danceability</th>\n",
              "      <th>energy</th>\n",
              "      <th>instrumentalness</th>\n",
              "      <th>liveness</th>\n",
              "      <th>loudness</th>\n",
              "      <th>valence</th>\n",
              "      <th>speechiness</th>\n",
              "      <th>key</th>\n",
              "      <th>mode</th>\n",
              "      <th>tempo</th>\n",
              "      <th>time_signature</th>\n",
              "      <th>artist_id</th>\n",
              "      <th>artist_name</th>\n",
              "      <th>artist_url</th>\n",
              "      <th>artist_type</th>\n",
              "      <th>album_url</th>\n",
              "      <th>album_id</th>\n",
              "      <th>album_name</th>\n",
              "      <th>album_image_url</th>\n",
              "      <th>release_date</th>\n",
              "      <th>total_tracks</th>\n",
              "      <th>genre</th>\n",
              "    </tr>\n",
              "  </thead>\n",
              "  <tbody>\n",
              "    <tr>\n",
              "      <th>0</th>\n",
              "      <td>0</td>\n",
              "      <td>18kopBY404pwnBMYoUwQYi</td>\n",
              "      <td>白日</td>\n",
              "      <td>https://open.spotify.com/track/18kopBY404pwnBM...</td>\n",
              "      <td>JP</td>\n",
              "      <td>1</td>\n",
              "      <td>274912</td>\n",
              "      <td>74</td>\n",
              "      <td>https://p.scdn.co/mp3-preview/ea4b717ce07ca1f7...</td>\n",
              "      <td>1</td>\n",
              "      <td>0.67000</td>\n",
              "      <td>0.606</td>\n",
              "      <td>0.901</td>\n",
              "      <td>0.0</td>\n",
              "      <td>0.2890</td>\n",
              "      <td>-2.552</td>\n",
              "      <td>0.748</td>\n",
              "      <td>0.1100</td>\n",
              "      <td>1</td>\n",
              "      <td>1</td>\n",
              "      <td>93.012</td>\n",
              "      <td>4</td>\n",
              "      <td>6wxfx1yhyqjCPYwwxJktR2</td>\n",
              "      <td>King Gnu</td>\n",
              "      <td>https://open.spotify.com/artist/6wxfx1yhyqjCPY...</td>\n",
              "      <td>artist</td>\n",
              "      <td>https://open.spotify.com/album/3cl7Jz2Ul0f2tBI...</td>\n",
              "      <td>3cl7Jz2Ul0f2tBIwtxRtEG</td>\n",
              "      <td>白日</td>\n",
              "      <td>https://i.scdn.co/image/ab67616d0000b27334547f...</td>\n",
              "      <td>2019-02-22</td>\n",
              "      <td>1</td>\n",
              "      <td>j-pop</td>\n",
              "    </tr>\n",
              "    <tr>\n",
              "      <th>1</th>\n",
              "      <td>1</td>\n",
              "      <td>58dxGXavrcagRqA58fNB0Z</td>\n",
              "      <td>Pretender</td>\n",
              "      <td>https://open.spotify.com/track/58dxGXavrcagRqA...</td>\n",
              "      <td>JP</td>\n",
              "      <td>1</td>\n",
              "      <td>326842</td>\n",
              "      <td>73</td>\n",
              "      <td>https://p.scdn.co/mp3-preview/be38b0e8369611ca...</td>\n",
              "      <td>7</td>\n",
              "      <td>0.04700</td>\n",
              "      <td>0.538</td>\n",
              "      <td>0.869</td>\n",
              "      <td>0.0</td>\n",
              "      <td>0.1400</td>\n",
              "      <td>-3.464</td>\n",
              "      <td>0.369</td>\n",
              "      <td>0.0275</td>\n",
              "      <td>8</td>\n",
              "      <td>1</td>\n",
              "      <td>91.972</td>\n",
              "      <td>4</td>\n",
              "      <td>5Vo1hnCRmCM6M4thZCInCj</td>\n",
              "      <td>Official HIGE DANdism</td>\n",
              "      <td>https://open.spotify.com/artist/5Vo1hnCRmCM6M4...</td>\n",
              "      <td>artist</td>\n",
              "      <td>https://open.spotify.com/album/2vwgYzudvFwyFe1...</td>\n",
              "      <td>2vwgYzudvFwyFe1Ho9gdUQ</td>\n",
              "      <td>Traveler</td>\n",
              "      <td>https://i.scdn.co/image/d840bba5b8b0528f5277d1...</td>\n",
              "      <td>2019-09-11</td>\n",
              "      <td>7</td>\n",
              "      <td>j-pop</td>\n",
              "    </tr>\n",
              "    <tr>\n",
              "      <th>2</th>\n",
              "      <td>2</td>\n",
              "      <td>2cKiHG16JBiqHdi7Llq0r7</td>\n",
              "      <td>マリーゴールド</td>\n",
              "      <td>https://open.spotify.com/track/2cKiHG16JBiqHdi...</td>\n",
              "      <td>JP</td>\n",
              "      <td>1</td>\n",
              "      <td>306626</td>\n",
              "      <td>70</td>\n",
              "      <td>https://p.scdn.co/mp3-preview/3e7e7b371ffc326a...</td>\n",
              "      <td>2</td>\n",
              "      <td>0.04520</td>\n",
              "      <td>0.545</td>\n",
              "      <td>0.745</td>\n",
              "      <td>0.0</td>\n",
              "      <td>0.0907</td>\n",
              "      <td>-3.098</td>\n",
              "      <td>0.413</td>\n",
              "      <td>0.0286</td>\n",
              "      <td>2</td>\n",
              "      <td>1</td>\n",
              "      <td>106.094</td>\n",
              "      <td>4</td>\n",
              "      <td>5kVZa4lFUmAQlBogl1fkd6</td>\n",
              "      <td>Aimyon</td>\n",
              "      <td>https://open.spotify.com/artist/5kVZa4lFUmAQlB...</td>\n",
              "      <td>artist</td>\n",
              "      <td>https://open.spotify.com/album/7fIqmc4GIaueaiA...</td>\n",
              "      <td>7fIqmc4GIaueaiAoDifAaA</td>\n",
              "      <td>瞬間的シックスセンス</td>\n",
              "      <td>https://i.scdn.co/image/ab67616d0000b273c12d78...</td>\n",
              "      <td>2019-02-13</td>\n",
              "      <td>12</td>\n",
              "      <td>j-pop</td>\n",
              "    </tr>\n",
              "    <tr>\n",
              "      <th>3</th>\n",
              "      <td>3</td>\n",
              "      <td>5DMEvbg3gUmiR5HIBWdveV</td>\n",
              "      <td>ノーダウト</td>\n",
              "      <td>https://open.spotify.com/track/5DMEvbg3gUmiR5H...</td>\n",
              "      <td>AD,AE,AR,AT,AU,BE,BG,BH,BO,BR,CA,CH,CL,CO,CR,C...</td>\n",
              "      <td>1</td>\n",
              "      <td>202394</td>\n",
              "      <td>72</td>\n",
              "      <td>https://p.scdn.co/mp3-preview/b3409baf6c3f0023...</td>\n",
              "      <td>2</td>\n",
              "      <td>0.05850</td>\n",
              "      <td>0.574</td>\n",
              "      <td>0.936</td>\n",
              "      <td>0.0</td>\n",
              "      <td>0.3360</td>\n",
              "      <td>-3.185</td>\n",
              "      <td>0.793</td>\n",
              "      <td>0.0700</td>\n",
              "      <td>2</td>\n",
              "      <td>1</td>\n",
              "      <td>149.953</td>\n",
              "      <td>4</td>\n",
              "      <td>5Vo1hnCRmCM6M4thZCInCj</td>\n",
              "      <td>Official HIGE DANdism</td>\n",
              "      <td>https://open.spotify.com/artist/5Vo1hnCRmCM6M4...</td>\n",
              "      <td>artist</td>\n",
              "      <td>https://open.spotify.com/album/0Iz8ByVqKvdlyl7...</td>\n",
              "      <td>0Iz8ByVqKvdlyl77DV3y3p</td>\n",
              "      <td>エスカパレード</td>\n",
              "      <td>https://i.scdn.co/image/ab67616d0000b273b483b5...</td>\n",
              "      <td>2018-04-11</td>\n",
              "      <td>13</td>\n",
              "      <td>j-pop</td>\n",
              "    </tr>\n",
              "    <tr>\n",
              "      <th>4</th>\n",
              "      <td>4</td>\n",
              "      <td>278JqkBGkjDovOYAwE8TW7</td>\n",
              "      <td>115万キロのフィルム</td>\n",
              "      <td>https://open.spotify.com/track/278JqkBGkjDovOY...</td>\n",
              "      <td>AD,AE,AR,AT,AU,BE,BG,BH,BO,BR,CA,CH,CL,CO,CR,C...</td>\n",
              "      <td>1</td>\n",
              "      <td>324633</td>\n",
              "      <td>71</td>\n",
              "      <td>https://p.scdn.co/mp3-preview/40f3707f230ab26e...</td>\n",
              "      <td>1</td>\n",
              "      <td>0.00345</td>\n",
              "      <td>0.514</td>\n",
              "      <td>0.791</td>\n",
              "      <td>0.0</td>\n",
              "      <td>0.1410</td>\n",
              "      <td>-1.927</td>\n",
              "      <td>0.482</td>\n",
              "      <td>0.0318</td>\n",
              "      <td>3</td>\n",
              "      <td>1</td>\n",
              "      <td>96.966</td>\n",
              "      <td>4</td>\n",
              "      <td>5Vo1hnCRmCM6M4thZCInCj</td>\n",
              "      <td>Official HIGE DANdism</td>\n",
              "      <td>https://open.spotify.com/artist/5Vo1hnCRmCM6M4...</td>\n",
              "      <td>artist</td>\n",
              "      <td>https://open.spotify.com/album/0Iz8ByVqKvdlyl7...</td>\n",
              "      <td>0Iz8ByVqKvdlyl77DV3y3p</td>\n",
              "      <td>エスカパレード</td>\n",
              "      <td>https://i.scdn.co/image/ab67616d0000b273b483b5...</td>\n",
              "      <td>2018-04-11</td>\n",
              "      <td>13</td>\n",
              "      <td>j-pop</td>\n",
              "    </tr>\n",
              "  </tbody>\n",
              "</table>\n",
              "</div>"
            ],
            "text/plain": [
              "   Unnamed: 0                track_id  ... total_tracks  genre\n",
              "0           0  18kopBY404pwnBMYoUwQYi  ...            1  j-pop\n",
              "1           1  58dxGXavrcagRqA58fNB0Z  ...            7  j-pop\n",
              "2           2  2cKiHG16JBiqHdi7Llq0r7  ...           12  j-pop\n",
              "3           3  5DMEvbg3gUmiR5HIBWdveV  ...           13  j-pop\n",
              "4           4  278JqkBGkjDovOYAwE8TW7  ...           13  j-pop\n",
              "\n",
              "[5 rows x 33 columns]"
            ]
          },
          "metadata": {
            "tags": []
          },
          "execution_count": 23
        }
      ]
    },
    {
      "cell_type": "code",
      "metadata": {
        "id": "SlJdGu1iC2Yc",
        "colab_type": "code",
        "colab": {}
      },
      "source": [
        "df = df.sort_values(by=['track_id'])"
      ],
      "execution_count": 0,
      "outputs": []
    },
    {
      "cell_type": "code",
      "metadata": {
        "id": "hLHnDr5CDBpc",
        "colab_type": "code",
        "colab": {
          "base_uri": "https://localhost:8080/",
          "height": 1000
        },
        "outputId": "ca9d31fe-82da-4303-d298-1bb51a8f9df1"
      },
      "source": [
        "df.tail(20)"
      ],
      "execution_count": 27,
      "outputs": [
        {
          "output_type": "execute_result",
          "data": {
            "text/html": [
              "<div>\n",
              "<style scoped>\n",
              "    .dataframe tbody tr th:only-of-type {\n",
              "        vertical-align: middle;\n",
              "    }\n",
              "\n",
              "    .dataframe tbody tr th {\n",
              "        vertical-align: top;\n",
              "    }\n",
              "\n",
              "    .dataframe thead th {\n",
              "        text-align: right;\n",
              "    }\n",
              "</style>\n",
              "<table border=\"1\" class=\"dataframe\">\n",
              "  <thead>\n",
              "    <tr style=\"text-align: right;\">\n",
              "      <th></th>\n",
              "      <th>Unnamed: 0</th>\n",
              "      <th>track_id</th>\n",
              "      <th>track_name</th>\n",
              "      <th>track_url</th>\n",
              "      <th>available_markets</th>\n",
              "      <th>disc_number</th>\n",
              "      <th>duration_ms</th>\n",
              "      <th>popularity</th>\n",
              "      <th>preview_url</th>\n",
              "      <th>track_number</th>\n",
              "      <th>acousticness</th>\n",
              "      <th>danceability</th>\n",
              "      <th>energy</th>\n",
              "      <th>instrumentalness</th>\n",
              "      <th>liveness</th>\n",
              "      <th>loudness</th>\n",
              "      <th>valence</th>\n",
              "      <th>speechiness</th>\n",
              "      <th>key</th>\n",
              "      <th>mode</th>\n",
              "      <th>tempo</th>\n",
              "      <th>time_signature</th>\n",
              "      <th>artist_id</th>\n",
              "      <th>artist_name</th>\n",
              "      <th>artist_url</th>\n",
              "      <th>artist_type</th>\n",
              "      <th>album_url</th>\n",
              "      <th>album_id</th>\n",
              "      <th>album_name</th>\n",
              "      <th>album_image_url</th>\n",
              "      <th>release_date</th>\n",
              "      <th>total_tracks</th>\n",
              "      <th>genre</th>\n",
              "    </tr>\n",
              "  </thead>\n",
              "  <tbody>\n",
              "    <tr>\n",
              "      <th>626</th>\n",
              "      <td>626</td>\n",
              "      <td>7sLDPa73SleZYAFAKAGhvU</td>\n",
              "      <td>サウダージ</td>\n",
              "      <td>https://open.spotify.com/track/7sLDPa73SleZYAF...</td>\n",
              "      <td>JP</td>\n",
              "      <td>1</td>\n",
              "      <td>260533</td>\n",
              "      <td>49</td>\n",
              "      <td>https://p.scdn.co/mp3-preview/3df6c8a96e5bd6b8...</td>\n",
              "      <td>1</td>\n",
              "      <td>0.135000</td>\n",
              "      <td>0.612</td>\n",
              "      <td>0.978</td>\n",
              "      <td>0.000000</td>\n",
              "      <td>0.3820</td>\n",
              "      <td>-3.292</td>\n",
              "      <td>0.6470</td>\n",
              "      <td>0.0540</td>\n",
              "      <td>4</td>\n",
              "      <td>0</td>\n",
              "      <td>120.041</td>\n",
              "      <td>4</td>\n",
              "      <td>5jQa0f5MIMPEK7udL7UpI6</td>\n",
              "      <td>PornoGraffitti</td>\n",
              "      <td>https://open.spotify.com/artist/5jQa0f5MIMPEK7...</td>\n",
              "      <td>artist</td>\n",
              "      <td>https://open.spotify.com/album/6l1Dn2H2UZFCpu6...</td>\n",
              "      <td>6l1Dn2H2UZFCpu6ePFCrtW</td>\n",
              "      <td>サウダージ</td>\n",
              "      <td>https://i.scdn.co/image/ab67616d0000b273c2967d...</td>\n",
              "      <td>2000-09-13</td>\n",
              "      <td>4</td>\n",
              "      <td>j-pop</td>\n",
              "    </tr>\n",
              "    <tr>\n",
              "      <th>995</th>\n",
              "      <td>995</td>\n",
              "      <td>7sXEjgKp9aYqMOQnrGH8B6</td>\n",
              "      <td>お互い様やん</td>\n",
              "      <td>https://open.spotify.com/track/7sXEjgKp9aYqMOQ...</td>\n",
              "      <td>AD,AE,AR,AT,AU,BE,BG,BH,BO,BR,CA,CH,CL,CO,CR,C...</td>\n",
              "      <td>1</td>\n",
              "      <td>181186</td>\n",
              "      <td>46</td>\n",
              "      <td>https://p.scdn.co/mp3-preview/7ec58499583e64c0...</td>\n",
              "      <td>3</td>\n",
              "      <td>0.624000</td>\n",
              "      <td>0.707</td>\n",
              "      <td>0.333</td>\n",
              "      <td>0.000060</td>\n",
              "      <td>0.0694</td>\n",
              "      <td>-6.832</td>\n",
              "      <td>0.6660</td>\n",
              "      <td>0.0286</td>\n",
              "      <td>2</td>\n",
              "      <td>1</td>\n",
              "      <td>112.982</td>\n",
              "      <td>4</td>\n",
              "      <td>5kVZa4lFUmAQlBogl1fkd6</td>\n",
              "      <td>Aimyon</td>\n",
              "      <td>https://open.spotify.com/artist/5kVZa4lFUmAQlB...</td>\n",
              "      <td>artist</td>\n",
              "      <td>https://open.spotify.com/album/2QDPEpzxtuvLuE2...</td>\n",
              "      <td>2QDPEpzxtuvLuE21DtGTBh</td>\n",
              "      <td>tamago</td>\n",
              "      <td>https://i.scdn.co/image/ab67616d0000b2731d1704...</td>\n",
              "      <td>2015-08-05</td>\n",
              "      <td>8</td>\n",
              "      <td>j-pop</td>\n",
              "    </tr>\n",
              "    <tr>\n",
              "      <th>157</th>\n",
              "      <td>157</td>\n",
              "      <td>7sqoUXFIrcdyDtTjdekx8P</td>\n",
              "      <td>ラストソング</td>\n",
              "      <td>https://open.spotify.com/track/7sqoUXFIrcdyDtT...</td>\n",
              "      <td>JP</td>\n",
              "      <td>1</td>\n",
              "      <td>353371</td>\n",
              "      <td>58</td>\n",
              "      <td>https://p.scdn.co/mp3-preview/2cfe31b569737926...</td>\n",
              "      <td>13</td>\n",
              "      <td>0.024400</td>\n",
              "      <td>0.581</td>\n",
              "      <td>0.773</td>\n",
              "      <td>0.000000</td>\n",
              "      <td>0.0666</td>\n",
              "      <td>-6.344</td>\n",
              "      <td>0.4970</td>\n",
              "      <td>0.0277</td>\n",
              "      <td>5</td>\n",
              "      <td>1</td>\n",
              "      <td>90.020</td>\n",
              "      <td>4</td>\n",
              "      <td>5Vo1hnCRmCM6M4thZCInCj</td>\n",
              "      <td>Official HIGE DANdism</td>\n",
              "      <td>https://open.spotify.com/artist/5Vo1hnCRmCM6M4...</td>\n",
              "      <td>artist</td>\n",
              "      <td>https://open.spotify.com/album/0AcDdZ01F1DSv6X...</td>\n",
              "      <td>0AcDdZ01F1DSv6XSvLunkb</td>\n",
              "      <td>Traveler</td>\n",
              "      <td>https://i.scdn.co/image/d840bba5b8b0528f5277d1...</td>\n",
              "      <td>2019-10-09</td>\n",
              "      <td>14</td>\n",
              "      <td>j-pop</td>\n",
              "    </tr>\n",
              "    <tr>\n",
              "      <th>889</th>\n",
              "      <td>889</td>\n",
              "      <td>7tBPxHhEhG7jqw37d6Epmu</td>\n",
              "      <td>好きって言ってよ</td>\n",
              "      <td>https://open.spotify.com/track/7tBPxHhEhG7jqw3...</td>\n",
              "      <td>AD,AE,AR,AT,AU,BE,BG,BH,BO,BR,CA,CH,CL,CO,CR,C...</td>\n",
              "      <td>1</td>\n",
              "      <td>223533</td>\n",
              "      <td>47</td>\n",
              "      <td>https://p.scdn.co/mp3-preview/b0e1603bbc31527c...</td>\n",
              "      <td>3</td>\n",
              "      <td>0.621000</td>\n",
              "      <td>0.242</td>\n",
              "      <td>0.416</td>\n",
              "      <td>0.000000</td>\n",
              "      <td>0.0974</td>\n",
              "      <td>-5.827</td>\n",
              "      <td>0.2990</td>\n",
              "      <td>0.0300</td>\n",
              "      <td>0</td>\n",
              "      <td>1</td>\n",
              "      <td>186.083</td>\n",
              "      <td>4</td>\n",
              "      <td>5kVZa4lFUmAQlBogl1fkd6</td>\n",
              "      <td>Aimyon</td>\n",
              "      <td>https://open.spotify.com/artist/5kVZa4lFUmAQlB...</td>\n",
              "      <td>artist</td>\n",
              "      <td>https://open.spotify.com/album/6qkgONFlIASOpkZ...</td>\n",
              "      <td>6qkgONFlIASOpkZinBbCAY</td>\n",
              "      <td>憎まれっ子世に憚る</td>\n",
              "      <td>https://i.scdn.co/image/ab67616d0000b273a927ea...</td>\n",
              "      <td>2015-12-02</td>\n",
              "      <td>7</td>\n",
              "      <td>j-pop</td>\n",
              "    </tr>\n",
              "    <tr>\n",
              "      <th>25</th>\n",
              "      <td>25</td>\n",
              "      <td>7tGDXCPLpAScEwmqab9YZd</td>\n",
              "      <td>Walking with you</td>\n",
              "      <td>https://open.spotify.com/track/7tGDXCPLpAScEwm...</td>\n",
              "      <td>AD,AE,AR,AT,AU,BE,BG,BH,BO,BR,CA,CH,CL,CO,CR,C...</td>\n",
              "      <td>1</td>\n",
              "      <td>223186</td>\n",
              "      <td>67</td>\n",
              "      <td>https://p.scdn.co/mp3-preview/3e6b3753d9b4d9ec...</td>\n",
              "      <td>1</td>\n",
              "      <td>0.005850</td>\n",
              "      <td>0.422</td>\n",
              "      <td>0.969</td>\n",
              "      <td>0.000000</td>\n",
              "      <td>0.5330</td>\n",
              "      <td>-0.824</td>\n",
              "      <td>0.4960</td>\n",
              "      <td>0.0591</td>\n",
              "      <td>7</td>\n",
              "      <td>1</td>\n",
              "      <td>92.524</td>\n",
              "      <td>4</td>\n",
              "      <td>0jWCX6zp4RjWrmZRxJ2uri</td>\n",
              "      <td>Novelbright</td>\n",
              "      <td>https://open.spotify.com/artist/0jWCX6zp4RjWrm...</td>\n",
              "      <td>artist</td>\n",
              "      <td>https://open.spotify.com/album/34T4K8s8PzTNOZ1...</td>\n",
              "      <td>34T4K8s8PzTNOZ1vuBILYr</td>\n",
              "      <td>SKYWALK</td>\n",
              "      <td>https://i.scdn.co/image/ab67616d0000b273e984d2...</td>\n",
              "      <td>2018-10-03</td>\n",
              "      <td>7</td>\n",
              "      <td>j-pop</td>\n",
              "    </tr>\n",
              "    <tr>\n",
              "      <th>705</th>\n",
              "      <td>705</td>\n",
              "      <td>7uqJ3N5wiISiyzkQMMCeMR</td>\n",
              "      <td>グッドバイ</td>\n",
              "      <td>https://open.spotify.com/track/7uqJ3N5wiISiyzk...</td>\n",
              "      <td>AD,AE,AR,AT,AU,BE,BG,BH,BO,BR,CA,CH,CL,CO,CR,C...</td>\n",
              "      <td>2</td>\n",
              "      <td>283000</td>\n",
              "      <td>45</td>\n",
              "      <td>https://p.scdn.co/mp3-preview/92ef315c5855c405...</td>\n",
              "      <td>1</td>\n",
              "      <td>0.103000</td>\n",
              "      <td>0.468</td>\n",
              "      <td>0.559</td>\n",
              "      <td>0.000108</td>\n",
              "      <td>0.4510</td>\n",
              "      <td>-4.936</td>\n",
              "      <td>0.3740</td>\n",
              "      <td>0.0267</td>\n",
              "      <td>5</td>\n",
              "      <td>1</td>\n",
              "      <td>76.001</td>\n",
              "      <td>4</td>\n",
              "      <td>0hCWVMGGQnRVfDgmhwLIxq</td>\n",
              "      <td>Sakanaction</td>\n",
              "      <td>https://open.spotify.com/artist/0hCWVMGGQnRVfD...</td>\n",
              "      <td>artist</td>\n",
              "      <td>https://open.spotify.com/album/5pLmzFu2ienSbr1...</td>\n",
              "      <td>5pLmzFu2ienSbr1SxBJvwB</td>\n",
              "      <td>834.194</td>\n",
              "      <td>https://i.scdn.co/image/ab67616d0000b2733bffc3...</td>\n",
              "      <td>2019-06-19</td>\n",
              "      <td>18</td>\n",
              "      <td>j-pop</td>\n",
              "    </tr>\n",
              "    <tr>\n",
              "      <th>487</th>\n",
              "      <td>487</td>\n",
              "      <td>7uwCGnKy5V2Gg5nQe07BtD</td>\n",
              "      <td>My landscape</td>\n",
              "      <td>https://open.spotify.com/track/7uwCGnKy5V2Gg5n...</td>\n",
              "      <td>AD,AE,AR,AT,AU,BE,BG,BH,BO,BR,CA,CH,CL,CO,CR,C...</td>\n",
              "      <td>1</td>\n",
              "      <td>334266</td>\n",
              "      <td>52</td>\n",
              "      <td>https://p.scdn.co/mp3-preview/3809fad0154e17f1...</td>\n",
              "      <td>1</td>\n",
              "      <td>0.000037</td>\n",
              "      <td>0.475</td>\n",
              "      <td>0.732</td>\n",
              "      <td>0.000001</td>\n",
              "      <td>0.0738</td>\n",
              "      <td>-5.570</td>\n",
              "      <td>0.1470</td>\n",
              "      <td>0.0330</td>\n",
              "      <td>8</td>\n",
              "      <td>1</td>\n",
              "      <td>131.988</td>\n",
              "      <td>4</td>\n",
              "      <td>0ebinq3ZTOQAJNag4sBTJj</td>\n",
              "      <td>BiSH</td>\n",
              "      <td>https://open.spotify.com/artist/0ebinq3ZTOQAJN...</td>\n",
              "      <td>artist</td>\n",
              "      <td>https://open.spotify.com/album/4C3QGfTeUy9P579...</td>\n",
              "      <td>4C3QGfTeUy9P579s2rFxpj</td>\n",
              "      <td>THE GUERRiLLA BiSH</td>\n",
              "      <td>https://i.scdn.co/image/ab67616d0000b27342f80e...</td>\n",
              "      <td>2017-11-29</td>\n",
              "      <td>13</td>\n",
              "      <td>j-pop</td>\n",
              "    </tr>\n",
              "    <tr>\n",
              "      <th>347</th>\n",
              "      <td>347</td>\n",
              "      <td>7vBt0nLQ1uPurkqiW7Pibs</td>\n",
              "      <td>夏のどこかへ</td>\n",
              "      <td>https://open.spotify.com/track/7vBt0nLQ1uPurkq...</td>\n",
              "      <td>AD,AE,AR,AT,AU,BE,BG,BH,BO,BR,CA,CH,CL,CO,CR,C...</td>\n",
              "      <td>1</td>\n",
              "      <td>238917</td>\n",
              "      <td>54</td>\n",
              "      <td>https://p.scdn.co/mp3-preview/e50777aeef75d860...</td>\n",
              "      <td>2</td>\n",
              "      <td>0.001740</td>\n",
              "      <td>0.549</td>\n",
              "      <td>0.939</td>\n",
              "      <td>0.000000</td>\n",
              "      <td>0.3200</td>\n",
              "      <td>-3.190</td>\n",
              "      <td>0.5790</td>\n",
              "      <td>0.0577</td>\n",
              "      <td>7</td>\n",
              "      <td>1</td>\n",
              "      <td>97.451</td>\n",
              "      <td>4</td>\n",
              "      <td>6YqdtpUutxodni6lUD4stM</td>\n",
              "      <td>WANIMA</td>\n",
              "      <td>https://open.spotify.com/artist/6YqdtpUutxodni...</td>\n",
              "      <td>artist</td>\n",
              "      <td>https://open.spotify.com/album/1R6DH3ahYHOQxqQ...</td>\n",
              "      <td>1R6DH3ahYHOQxqQUBFl3au</td>\n",
              "      <td>COMINATCHA!!</td>\n",
              "      <td>https://i.scdn.co/image/05996661e982d4036b1613...</td>\n",
              "      <td>2019-10-23</td>\n",
              "      <td>15</td>\n",
              "      <td>j-pop</td>\n",
              "    </tr>\n",
              "    <tr>\n",
              "      <th>235</th>\n",
              "      <td>235</td>\n",
              "      <td>7vwXjDrZT2mqiFynlEwwgG</td>\n",
              "      <td>さよならの前に</td>\n",
              "      <td>https://open.spotify.com/track/7vwXjDrZT2mqiFy...</td>\n",
              "      <td>AD,AE,AR,AT,AU,BE,BG,BH,BO,BR,CA,CH,CL,CO,CR,C...</td>\n",
              "      <td>1</td>\n",
              "      <td>320373</td>\n",
              "      <td>56</td>\n",
              "      <td>https://p.scdn.co/mp3-preview/51a430d9264b23eb...</td>\n",
              "      <td>10</td>\n",
              "      <td>0.036400</td>\n",
              "      <td>0.545</td>\n",
              "      <td>0.853</td>\n",
              "      <td>0.000000</td>\n",
              "      <td>0.1170</td>\n",
              "      <td>-4.699</td>\n",
              "      <td>0.5250</td>\n",
              "      <td>0.0290</td>\n",
              "      <td>1</td>\n",
              "      <td>1</td>\n",
              "      <td>98.020</td>\n",
              "      <td>4</td>\n",
              "      <td>1AyWsgtaIgXbzjJlTx2ZDp</td>\n",
              "      <td>AAA</td>\n",
              "      <td>https://open.spotify.com/artist/1AyWsgtaIgXbzj...</td>\n",
              "      <td>artist</td>\n",
              "      <td>https://open.spotify.com/album/2K4rdeEWAiU0Cgq...</td>\n",
              "      <td>2K4rdeEWAiU0CgqI8XXdjR</td>\n",
              "      <td>GOLD SYMPHONY</td>\n",
              "      <td>https://i.scdn.co/image/ab67616d0000b273311c07...</td>\n",
              "      <td>2014-10-01</td>\n",
              "      <td>11</td>\n",
              "      <td>j-pop</td>\n",
              "    </tr>\n",
              "    <tr>\n",
              "      <th>844</th>\n",
              "      <td>844</td>\n",
              "      <td>7wETwOAU33mdyYkiwxscOo</td>\n",
              "      <td>グロテスク feat. 安室奈美恵</td>\n",
              "      <td>https://open.spotify.com/track/7wETwOAU33mdyYk...</td>\n",
              "      <td>JP</td>\n",
              "      <td>1</td>\n",
              "      <td>227826</td>\n",
              "      <td>49</td>\n",
              "      <td>https://p.scdn.co/mp3-preview/c277d59d9752f688...</td>\n",
              "      <td>12</td>\n",
              "      <td>0.009650</td>\n",
              "      <td>0.547</td>\n",
              "      <td>0.880</td>\n",
              "      <td>0.000000</td>\n",
              "      <td>0.3610</td>\n",
              "      <td>-3.199</td>\n",
              "      <td>0.0822</td>\n",
              "      <td>0.0722</td>\n",
              "      <td>7</td>\n",
              "      <td>1</td>\n",
              "      <td>140.046</td>\n",
              "      <td>4</td>\n",
              "      <td>6jIhEiXcCAyBsuEI7qZ9vc</td>\n",
              "      <td>Ken Hirai</td>\n",
              "      <td>https://open.spotify.com/artist/6jIhEiXcCAyBsu...</td>\n",
              "      <td>artist</td>\n",
              "      <td>https://open.spotify.com/album/0MGiTOxiSXmNab7...</td>\n",
              "      <td>0MGiTOxiSXmNab7cOHdd4N</td>\n",
              "      <td>THE STILL LIFE</td>\n",
              "      <td>https://i.scdn.co/image/ab67616d0000b2735b85fa...</td>\n",
              "      <td>2016-07-06</td>\n",
              "      <td>14</td>\n",
              "      <td>j-pop</td>\n",
              "    </tr>\n",
              "    <tr>\n",
              "      <th>453</th>\n",
              "      <td>453</td>\n",
              "      <td>7wWV7FM015VYTlNw6KIYRI</td>\n",
              "      <td>Can't Wait</td>\n",
              "      <td>https://open.spotify.com/track/7wWV7FM015VYTlN...</td>\n",
              "      <td>JP</td>\n",
              "      <td>1</td>\n",
              "      <td>199893</td>\n",
              "      <td>51</td>\n",
              "      <td>https://p.scdn.co/mp3-preview/63c841d32676a5d8...</td>\n",
              "      <td>12</td>\n",
              "      <td>0.019400</td>\n",
              "      <td>0.601</td>\n",
              "      <td>0.869</td>\n",
              "      <td>0.000001</td>\n",
              "      <td>0.1200</td>\n",
              "      <td>-3.801</td>\n",
              "      <td>0.5420</td>\n",
              "      <td>0.0392</td>\n",
              "      <td>6</td>\n",
              "      <td>1</td>\n",
              "      <td>111.014</td>\n",
              "      <td>4</td>\n",
              "      <td>7k73EtZwoPs516ZxE72KsO</td>\n",
              "      <td>ONE OK ROCK</td>\n",
              "      <td>https://open.spotify.com/artist/7k73EtZwoPs516...</td>\n",
              "      <td>artist</td>\n",
              "      <td>https://open.spotify.com/album/6JjOyVA7Ph4Ufow...</td>\n",
              "      <td>6JjOyVA7Ph4Ufowxgz1ezk</td>\n",
              "      <td>Eye of the Storm</td>\n",
              "      <td>https://i.scdn.co/image/ab67616d0000b273cbc358...</td>\n",
              "      <td>2019-02-13</td>\n",
              "      <td>13</td>\n",
              "      <td>j-pop</td>\n",
              "    </tr>\n",
              "    <tr>\n",
              "      <th>580</th>\n",
              "      <td>580</td>\n",
              "      <td>7wpCPK6zC3rDTfvjVn0ErU</td>\n",
              "      <td>しるし</td>\n",
              "      <td>https://open.spotify.com/track/7wpCPK6zC3rDTfv...</td>\n",
              "      <td>JP,TW</td>\n",
              "      <td>1</td>\n",
              "      <td>431613</td>\n",
              "      <td>49</td>\n",
              "      <td>https://p.scdn.co/mp3-preview/7b746f572ca14dee...</td>\n",
              "      <td>12</td>\n",
              "      <td>0.048300</td>\n",
              "      <td>0.435</td>\n",
              "      <td>0.489</td>\n",
              "      <td>0.000006</td>\n",
              "      <td>0.0864</td>\n",
              "      <td>-6.301</td>\n",
              "      <td>0.2990</td>\n",
              "      <td>0.0285</td>\n",
              "      <td>1</td>\n",
              "      <td>1</td>\n",
              "      <td>73.992</td>\n",
              "      <td>4</td>\n",
              "      <td>1qma7XhwZotCAucL7NHVLY</td>\n",
              "      <td>Mr.Children</td>\n",
              "      <td>https://open.spotify.com/artist/1qma7XhwZotCAu...</td>\n",
              "      <td>artist</td>\n",
              "      <td>https://open.spotify.com/album/41wCtiJOddlECJb...</td>\n",
              "      <td>41wCtiJOddlECJbcBUoIBL</td>\n",
              "      <td>HOME</td>\n",
              "      <td>https://i.scdn.co/image/ab67616d0000b273032c30...</td>\n",
              "      <td>2007-03-14</td>\n",
              "      <td>14</td>\n",
              "      <td>j-pop</td>\n",
              "    </tr>\n",
              "    <tr>\n",
              "      <th>685</th>\n",
              "      <td>685</td>\n",
              "      <td>7wx5xFmhBd5T9dZFTl9YeA</td>\n",
              "      <td>I believe</td>\n",
              "      <td>https://open.spotify.com/track/7wx5xFmhBd5T9dZ...</td>\n",
              "      <td>HK,ID,JP,MY,PH,SG,TH,TW,VN</td>\n",
              "      <td>1</td>\n",
              "      <td>297253</td>\n",
              "      <td>46</td>\n",
              "      <td>https://p.scdn.co/mp3-preview/190e04f5df06543a...</td>\n",
              "      <td>5</td>\n",
              "      <td>0.181000</td>\n",
              "      <td>0.523</td>\n",
              "      <td>0.457</td>\n",
              "      <td>0.000000</td>\n",
              "      <td>0.3320</td>\n",
              "      <td>-5.651</td>\n",
              "      <td>0.1990</td>\n",
              "      <td>0.0290</td>\n",
              "      <td>0</td>\n",
              "      <td>1</td>\n",
              "      <td>119.948</td>\n",
              "      <td>4</td>\n",
              "      <td>22FsmLO3ZyvgWBy5QbfcQi</td>\n",
              "      <td>ayaka</td>\n",
              "      <td>https://open.spotify.com/artist/22FsmLO3ZyvgWB...</td>\n",
              "      <td>artist</td>\n",
              "      <td>https://open.spotify.com/album/4kKWJldQVEEeXIB...</td>\n",
              "      <td>4kKWJldQVEEeXIBIStjReI</td>\n",
              "      <td>First Message</td>\n",
              "      <td>https://i.scdn.co/image/ab67616d0000b273fc17c5...</td>\n",
              "      <td>2006-11-01</td>\n",
              "      <td>15</td>\n",
              "      <td>j-pop</td>\n",
              "    </tr>\n",
              "    <tr>\n",
              "      <th>840</th>\n",
              "      <td>840</td>\n",
              "      <td>7x3qkCeoshXTkNGCkkSMKZ</td>\n",
              "      <td>ハリケーン・リリ、ボストン・マリ</td>\n",
              "      <td>https://open.spotify.com/track/7x3qkCeoshXTkNG...</td>\n",
              "      <td>AD,AE,AR,AT,AU,BE,BG,BH,BO,BR,CA,CH,CL,CO,CR,C...</td>\n",
              "      <td>1</td>\n",
              "      <td>377320</td>\n",
              "      <td>0</td>\n",
              "      <td>https://p.scdn.co/mp3-preview/35bfdea49df462be...</td>\n",
              "      <td>24</td>\n",
              "      <td>0.002020</td>\n",
              "      <td>0.394</td>\n",
              "      <td>0.860</td>\n",
              "      <td>0.000004</td>\n",
              "      <td>0.1120</td>\n",
              "      <td>-3.118</td>\n",
              "      <td>0.5220</td>\n",
              "      <td>0.0370</td>\n",
              "      <td>0</td>\n",
              "      <td>1</td>\n",
              "      <td>154.995</td>\n",
              "      <td>4</td>\n",
              "      <td>1AyWsgtaIgXbzjJlTx2ZDp</td>\n",
              "      <td>AAA</td>\n",
              "      <td>https://open.spotify.com/artist/1AyWsgtaIgXbzj...</td>\n",
              "      <td>artist</td>\n",
              "      <td>https://open.spotify.com/album/614ofBxx1kAw0Od...</td>\n",
              "      <td>614ofBxx1kAw0OdBbrMdfU</td>\n",
              "      <td>AAA DOME TOUR 2019 +PLUS SET LIST</td>\n",
              "      <td>https://i.scdn.co/image/ef437d0e1eef304eab7457...</td>\n",
              "      <td>2020-01-14</td>\n",
              "      <td>26</td>\n",
              "      <td>j-pop</td>\n",
              "    </tr>\n",
              "    <tr>\n",
              "      <th>761</th>\n",
              "      <td>761</td>\n",
              "      <td>7xaR4wBQCMkEU5OguW4Cdv</td>\n",
              "      <td>milk tea</td>\n",
              "      <td>https://open.spotify.com/track/7xaR4wBQCMkEU5O...</td>\n",
              "      <td>JP</td>\n",
              "      <td>1</td>\n",
              "      <td>263813</td>\n",
              "      <td>50</td>\n",
              "      <td>https://p.scdn.co/mp3-preview/dbe1a66e76ba73e5...</td>\n",
              "      <td>8</td>\n",
              "      <td>0.535000</td>\n",
              "      <td>0.705</td>\n",
              "      <td>0.370</td>\n",
              "      <td>0.000010</td>\n",
              "      <td>0.1170</td>\n",
              "      <td>-8.324</td>\n",
              "      <td>0.3590</td>\n",
              "      <td>0.0260</td>\n",
              "      <td>3</td>\n",
              "      <td>1</td>\n",
              "      <td>89.963</td>\n",
              "      <td>4</td>\n",
              "      <td>2ZjWbNQAjL74Pf4aqikIz2</td>\n",
              "      <td>Shota Shimizu</td>\n",
              "      <td>https://open.spotify.com/artist/2ZjWbNQAjL74Pf...</td>\n",
              "      <td>artist</td>\n",
              "      <td>https://open.spotify.com/album/6NZA2tvgDH1t8fG...</td>\n",
              "      <td>6NZA2tvgDH1t8fG0LffMEZ</td>\n",
              "      <td>FLY</td>\n",
              "      <td>https://i.scdn.co/image/ab67616d0000b2732b68f2...</td>\n",
              "      <td>2017-06-28</td>\n",
              "      <td>12</td>\n",
              "      <td>j-pop</td>\n",
              "    </tr>\n",
              "    <tr>\n",
              "      <th>470</th>\n",
              "      <td>470</td>\n",
              "      <td>7xid7Vi1ZMYlfL1IY13sU6</td>\n",
              "      <td>Daylight</td>\n",
              "      <td>https://open.spotify.com/track/7xid7Vi1ZMYlfL1...</td>\n",
              "      <td>AD,AE,AR,AT,AU,BE,BG,BH,BO,BR,CA,CH,CL,CO,CR,C...</td>\n",
              "      <td>1</td>\n",
              "      <td>289921</td>\n",
              "      <td>51</td>\n",
              "      <td>https://p.scdn.co/mp3-preview/babd9daa45812bab...</td>\n",
              "      <td>2</td>\n",
              "      <td>0.588000</td>\n",
              "      <td>0.612</td>\n",
              "      <td>0.927</td>\n",
              "      <td>0.000000</td>\n",
              "      <td>0.3040</td>\n",
              "      <td>-3.505</td>\n",
              "      <td>0.5880</td>\n",
              "      <td>0.0637</td>\n",
              "      <td>0</td>\n",
              "      <td>0</td>\n",
              "      <td>105.977</td>\n",
              "      <td>4</td>\n",
              "      <td>1XYuC1vxinTjHCNd5clB8C</td>\n",
              "      <td>ARASHI</td>\n",
              "      <td>https://open.spotify.com/artist/1XYuC1vxinTjHC...</td>\n",
              "      <td>artist</td>\n",
              "      <td>https://open.spotify.com/album/2B1MbFSN3NGsU2r...</td>\n",
              "      <td>2B1MbFSN3NGsU2rFRJ4z4R</td>\n",
              "      <td>I Seek / Daylight</td>\n",
              "      <td>https://i.scdn.co/image/86e52aaf6386103809f639...</td>\n",
              "      <td>2016-05-18</td>\n",
              "      <td>2</td>\n",
              "      <td>j-pop</td>\n",
              "    </tr>\n",
              "    <tr>\n",
              "      <th>657</th>\n",
              "      <td>657</td>\n",
              "      <td>7ySHoLhSRmWjfhuDmOcvTy</td>\n",
              "      <td>ジェニファー</td>\n",
              "      <td>https://open.spotify.com/track/7ySHoLhSRmWjfhu...</td>\n",
              "      <td>AD,AE,AR,AT,AU,BE,BG,BH,BO,BR,CA,CH,CL,CO,CR,C...</td>\n",
              "      <td>1</td>\n",
              "      <td>223653</td>\n",
              "      <td>49</td>\n",
              "      <td>https://p.scdn.co/mp3-preview/14cf572b264737ba...</td>\n",
              "      <td>10</td>\n",
              "      <td>0.022700</td>\n",
              "      <td>0.474</td>\n",
              "      <td>0.624</td>\n",
              "      <td>0.001290</td>\n",
              "      <td>0.3670</td>\n",
              "      <td>-3.968</td>\n",
              "      <td>0.4250</td>\n",
              "      <td>0.0278</td>\n",
              "      <td>5</td>\n",
              "      <td>1</td>\n",
              "      <td>96.904</td>\n",
              "      <td>4</td>\n",
              "      <td>5kVZa4lFUmAQlBogl1fkd6</td>\n",
              "      <td>Aimyon</td>\n",
              "      <td>https://open.spotify.com/artist/5kVZa4lFUmAQlB...</td>\n",
              "      <td>artist</td>\n",
              "      <td>https://open.spotify.com/album/0ct8ESCAYEpDGYJ...</td>\n",
              "      <td>0ct8ESCAYEpDGYJOndCfft</td>\n",
              "      <td>青春のエキサイトメント</td>\n",
              "      <td>https://i.scdn.co/image/ab67616d0000b27333c05e...</td>\n",
              "      <td>2017-09-12</td>\n",
              "      <td>11</td>\n",
              "      <td>j-pop</td>\n",
              "    </tr>\n",
              "    <tr>\n",
              "      <th>267</th>\n",
              "      <td>267</td>\n",
              "      <td>7yTsMH1V6kRoCcpFjQD8Vs</td>\n",
              "      <td>ブラザーズ</td>\n",
              "      <td>https://open.spotify.com/track/7yTsMH1V6kRoCcp...</td>\n",
              "      <td>AD,AE,AR,AT,AU,BE,BG,BH,BO,BR,CA,CH,CL,CO,CR,C...</td>\n",
              "      <td>1</td>\n",
              "      <td>237516</td>\n",
              "      <td>55</td>\n",
              "      <td>https://p.scdn.co/mp3-preview/da44b33221e69714...</td>\n",
              "      <td>12</td>\n",
              "      <td>0.075300</td>\n",
              "      <td>0.666</td>\n",
              "      <td>0.886</td>\n",
              "      <td>0.000000</td>\n",
              "      <td>0.0501</td>\n",
              "      <td>-4.111</td>\n",
              "      <td>0.9760</td>\n",
              "      <td>0.0527</td>\n",
              "      <td>9</td>\n",
              "      <td>0</td>\n",
              "      <td>164.083</td>\n",
              "      <td>4</td>\n",
              "      <td>5Vo1hnCRmCM6M4thZCInCj</td>\n",
              "      <td>Official HIGE DANdism</td>\n",
              "      <td>https://open.spotify.com/artist/5Vo1hnCRmCM6M4...</td>\n",
              "      <td>artist</td>\n",
              "      <td>https://open.spotify.com/album/0Iz8ByVqKvdlyl7...</td>\n",
              "      <td>0Iz8ByVqKvdlyl77DV3y3p</td>\n",
              "      <td>エスカパレード</td>\n",
              "      <td>https://i.scdn.co/image/ab67616d0000b273b483b5...</td>\n",
              "      <td>2018-04-11</td>\n",
              "      <td>13</td>\n",
              "      <td>j-pop</td>\n",
              "    </tr>\n",
              "    <tr>\n",
              "      <th>165</th>\n",
              "      <td>165</td>\n",
              "      <td>7yXwERf5YbjCXkVqU1fZvA</td>\n",
              "      <td>世界はあなたに笑いかけている</td>\n",
              "      <td>https://open.spotify.com/track/7yXwERf5YbjCXkV...</td>\n",
              "      <td>JP</td>\n",
              "      <td>1</td>\n",
              "      <td>232773</td>\n",
              "      <td>56</td>\n",
              "      <td>https://p.scdn.co/mp3-preview/be5447fa1ff3099d...</td>\n",
              "      <td>1</td>\n",
              "      <td>0.434000</td>\n",
              "      <td>0.788</td>\n",
              "      <td>0.888</td>\n",
              "      <td>0.000000</td>\n",
              "      <td>0.1550</td>\n",
              "      <td>-3.024</td>\n",
              "      <td>0.7610</td>\n",
              "      <td>0.1010</td>\n",
              "      <td>8</td>\n",
              "      <td>1</td>\n",
              "      <td>120.960</td>\n",
              "      <td>4</td>\n",
              "      <td>2N19kPGlqKY8GiyE4DkAtp</td>\n",
              "      <td>Little Glee Monster</td>\n",
              "      <td>https://open.spotify.com/artist/2N19kPGlqKY8Gi...</td>\n",
              "      <td>artist</td>\n",
              "      <td>https://open.spotify.com/album/3x6j8Gc1V4uyXQR...</td>\n",
              "      <td>3x6j8Gc1V4uyXQRtSqclwg</td>\n",
              "      <td>FLAVA</td>\n",
              "      <td>https://i.scdn.co/image/ab67616d0000b2733e15e1...</td>\n",
              "      <td>2019-01-16</td>\n",
              "      <td>17</td>\n",
              "      <td>j-pop</td>\n",
              "    </tr>\n",
              "    <tr>\n",
              "      <th>476</th>\n",
              "      <td>476</td>\n",
              "      <td>7ykJ3C7MZQlLQfw1gkoafE</td>\n",
              "      <td>I Seek</td>\n",
              "      <td>https://open.spotify.com/track/7ykJ3C7MZQlLQfw...</td>\n",
              "      <td>AD,AE,AR,AT,AU,BE,BG,BH,BO,BR,CA,CH,CL,CO,CR,C...</td>\n",
              "      <td>1</td>\n",
              "      <td>283240</td>\n",
              "      <td>51</td>\n",
              "      <td>https://p.scdn.co/mp3-preview/121336c0782203fc...</td>\n",
              "      <td>1</td>\n",
              "      <td>0.261000</td>\n",
              "      <td>0.646</td>\n",
              "      <td>0.934</td>\n",
              "      <td>0.000000</td>\n",
              "      <td>0.1010</td>\n",
              "      <td>-2.978</td>\n",
              "      <td>0.8650</td>\n",
              "      <td>0.0677</td>\n",
              "      <td>8</td>\n",
              "      <td>1</td>\n",
              "      <td>130.923</td>\n",
              "      <td>4</td>\n",
              "      <td>1XYuC1vxinTjHCNd5clB8C</td>\n",
              "      <td>ARASHI</td>\n",
              "      <td>https://open.spotify.com/artist/1XYuC1vxinTjHC...</td>\n",
              "      <td>artist</td>\n",
              "      <td>https://open.spotify.com/album/2B1MbFSN3NGsU2r...</td>\n",
              "      <td>2B1MbFSN3NGsU2rFRJ4z4R</td>\n",
              "      <td>I Seek / Daylight</td>\n",
              "      <td>https://i.scdn.co/image/86e52aaf6386103809f639...</td>\n",
              "      <td>2016-05-18</td>\n",
              "      <td>2</td>\n",
              "      <td>j-pop</td>\n",
              "    </tr>\n",
              "  </tbody>\n",
              "</table>\n",
              "</div>"
            ],
            "text/plain": [
              "     Unnamed: 0                track_id  ... total_tracks  genre\n",
              "626         626  7sLDPa73SleZYAFAKAGhvU  ...            4  j-pop\n",
              "995         995  7sXEjgKp9aYqMOQnrGH8B6  ...            8  j-pop\n",
              "157         157  7sqoUXFIrcdyDtTjdekx8P  ...           14  j-pop\n",
              "889         889  7tBPxHhEhG7jqw37d6Epmu  ...            7  j-pop\n",
              "25           25  7tGDXCPLpAScEwmqab9YZd  ...            7  j-pop\n",
              "705         705  7uqJ3N5wiISiyzkQMMCeMR  ...           18  j-pop\n",
              "487         487  7uwCGnKy5V2Gg5nQe07BtD  ...           13  j-pop\n",
              "347         347  7vBt0nLQ1uPurkqiW7Pibs  ...           15  j-pop\n",
              "235         235  7vwXjDrZT2mqiFynlEwwgG  ...           11  j-pop\n",
              "844         844  7wETwOAU33mdyYkiwxscOo  ...           14  j-pop\n",
              "453         453  7wWV7FM015VYTlNw6KIYRI  ...           13  j-pop\n",
              "580         580  7wpCPK6zC3rDTfvjVn0ErU  ...           14  j-pop\n",
              "685         685  7wx5xFmhBd5T9dZFTl9YeA  ...           15  j-pop\n",
              "840         840  7x3qkCeoshXTkNGCkkSMKZ  ...           26  j-pop\n",
              "761         761  7xaR4wBQCMkEU5OguW4Cdv  ...           12  j-pop\n",
              "470         470  7xid7Vi1ZMYlfL1IY13sU6  ...            2  j-pop\n",
              "657         657  7ySHoLhSRmWjfhuDmOcvTy  ...           11  j-pop\n",
              "267         267  7yTsMH1V6kRoCcpFjQD8Vs  ...           13  j-pop\n",
              "165         165  7yXwERf5YbjCXkVqU1fZvA  ...           17  j-pop\n",
              "476         476  7ykJ3C7MZQlLQfw1gkoafE  ...            2  j-pop\n",
              "\n",
              "[20 rows x 33 columns]"
            ]
          },
          "metadata": {
            "tags": []
          },
          "execution_count": 27
        }
      ]
    },
    {
      "cell_type": "code",
      "metadata": {
        "id": "hlP_8-xEDOpo",
        "colab_type": "code",
        "colab": {
          "base_uri": "https://localhost:8080/",
          "height": 34
        },
        "outputId": "ae0a4e84-4071-4c8e-8c8b-59263bcc9895"
      },
      "source": [
        "list(df.reset_index().query('track_id == \"6ODZT1FGTE2q4two05giS1\"').index)"
      ],
      "execution_count": 43,
      "outputs": [
        {
          "output_type": "execute_result",
          "data": {
            "text/plain": [
              "[793]"
            ]
          },
          "metadata": {
            "tags": []
          },
          "execution_count": 43
        }
      ]
    },
    {
      "cell_type": "code",
      "metadata": {
        "id": "b_jRpbfuD8kf",
        "colab_type": "code",
        "colab": {}
      },
      "source": [
        "df_sim = pd.DataFrame(S)"
      ],
      "execution_count": 0,
      "outputs": []
    },
    {
      "cell_type": "code",
      "metadata": {
        "id": "e4IKJKeYEVfP",
        "colab_type": "code",
        "colab": {
          "base_uri": "https://localhost:8080/",
          "height": 245
        },
        "outputId": "76e13862-3dc8-4f46-d26f-4578fb72bb65"
      },
      "source": [
        "df_sim.head()"
      ],
      "execution_count": 45,
      "outputs": [
        {
          "output_type": "execute_result",
          "data": {
            "text/html": [
              "<div>\n",
              "<style scoped>\n",
              "    .dataframe tbody tr th:only-of-type {\n",
              "        vertical-align: middle;\n",
              "    }\n",
              "\n",
              "    .dataframe tbody tr th {\n",
              "        vertical-align: top;\n",
              "    }\n",
              "\n",
              "    .dataframe thead th {\n",
              "        text-align: right;\n",
              "    }\n",
              "</style>\n",
              "<table border=\"1\" class=\"dataframe\">\n",
              "  <thead>\n",
              "    <tr style=\"text-align: right;\">\n",
              "      <th></th>\n",
              "      <th>0</th>\n",
              "      <th>1</th>\n",
              "      <th>2</th>\n",
              "      <th>3</th>\n",
              "      <th>4</th>\n",
              "      <th>5</th>\n",
              "      <th>6</th>\n",
              "      <th>7</th>\n",
              "      <th>8</th>\n",
              "      <th>9</th>\n",
              "      <th>10</th>\n",
              "      <th>11</th>\n",
              "      <th>12</th>\n",
              "      <th>13</th>\n",
              "      <th>14</th>\n",
              "      <th>15</th>\n",
              "      <th>16</th>\n",
              "      <th>17</th>\n",
              "      <th>18</th>\n",
              "      <th>19</th>\n",
              "      <th>20</th>\n",
              "      <th>21</th>\n",
              "      <th>22</th>\n",
              "      <th>23</th>\n",
              "      <th>24</th>\n",
              "      <th>25</th>\n",
              "      <th>26</th>\n",
              "      <th>27</th>\n",
              "      <th>28</th>\n",
              "      <th>29</th>\n",
              "      <th>30</th>\n",
              "      <th>31</th>\n",
              "      <th>32</th>\n",
              "      <th>33</th>\n",
              "      <th>34</th>\n",
              "      <th>35</th>\n",
              "      <th>36</th>\n",
              "      <th>37</th>\n",
              "      <th>38</th>\n",
              "      <th>39</th>\n",
              "      <th>...</th>\n",
              "      <th>960</th>\n",
              "      <th>961</th>\n",
              "      <th>962</th>\n",
              "      <th>963</th>\n",
              "      <th>964</th>\n",
              "      <th>965</th>\n",
              "      <th>966</th>\n",
              "      <th>967</th>\n",
              "      <th>968</th>\n",
              "      <th>969</th>\n",
              "      <th>970</th>\n",
              "      <th>971</th>\n",
              "      <th>972</th>\n",
              "      <th>973</th>\n",
              "      <th>974</th>\n",
              "      <th>975</th>\n",
              "      <th>976</th>\n",
              "      <th>977</th>\n",
              "      <th>978</th>\n",
              "      <th>979</th>\n",
              "      <th>980</th>\n",
              "      <th>981</th>\n",
              "      <th>982</th>\n",
              "      <th>983</th>\n",
              "      <th>984</th>\n",
              "      <th>985</th>\n",
              "      <th>986</th>\n",
              "      <th>987</th>\n",
              "      <th>988</th>\n",
              "      <th>989</th>\n",
              "      <th>990</th>\n",
              "      <th>991</th>\n",
              "      <th>992</th>\n",
              "      <th>993</th>\n",
              "      <th>994</th>\n",
              "      <th>995</th>\n",
              "      <th>996</th>\n",
              "      <th>997</th>\n",
              "      <th>998</th>\n",
              "      <th>999</th>\n",
              "    </tr>\n",
              "  </thead>\n",
              "  <tbody>\n",
              "    <tr>\n",
              "      <th>0</th>\n",
              "      <td>1.000000</td>\n",
              "      <td>0.974714</td>\n",
              "      <td>0.846568</td>\n",
              "      <td>0.965272</td>\n",
              "      <td>0.982292</td>\n",
              "      <td>0.987167</td>\n",
              "      <td>0.960241</td>\n",
              "      <td>0.906665</td>\n",
              "      <td>0.911928</td>\n",
              "      <td>0.953567</td>\n",
              "      <td>0.966675</td>\n",
              "      <td>0.954344</td>\n",
              "      <td>0.895141</td>\n",
              "      <td>0.930313</td>\n",
              "      <td>0.951836</td>\n",
              "      <td>0.976636</td>\n",
              "      <td>0.950069</td>\n",
              "      <td>0.896682</td>\n",
              "      <td>0.923425</td>\n",
              "      <td>0.945579</td>\n",
              "      <td>0.849333</td>\n",
              "      <td>0.962286</td>\n",
              "      <td>0.956118</td>\n",
              "      <td>0.946582</td>\n",
              "      <td>0.980457</td>\n",
              "      <td>0.932922</td>\n",
              "      <td>0.886631</td>\n",
              "      <td>0.981404</td>\n",
              "      <td>0.937624</td>\n",
              "      <td>0.980037</td>\n",
              "      <td>0.978712</td>\n",
              "      <td>0.964525</td>\n",
              "      <td>0.952586</td>\n",
              "      <td>0.957950</td>\n",
              "      <td>0.916754</td>\n",
              "      <td>0.920377</td>\n",
              "      <td>0.898257</td>\n",
              "      <td>0.947000</td>\n",
              "      <td>0.946891</td>\n",
              "      <td>0.948755</td>\n",
              "      <td>...</td>\n",
              "      <td>0.969821</td>\n",
              "      <td>0.979784</td>\n",
              "      <td>0.931973</td>\n",
              "      <td>0.944143</td>\n",
              "      <td>0.940083</td>\n",
              "      <td>0.940788</td>\n",
              "      <td>0.941081</td>\n",
              "      <td>0.978088</td>\n",
              "      <td>0.932808</td>\n",
              "      <td>0.896633</td>\n",
              "      <td>0.967620</td>\n",
              "      <td>0.972341</td>\n",
              "      <td>0.850257</td>\n",
              "      <td>0.937700</td>\n",
              "      <td>0.948918</td>\n",
              "      <td>0.856715</td>\n",
              "      <td>0.970273</td>\n",
              "      <td>0.839328</td>\n",
              "      <td>0.976529</td>\n",
              "      <td>0.899797</td>\n",
              "      <td>0.976384</td>\n",
              "      <td>0.974802</td>\n",
              "      <td>0.980386</td>\n",
              "      <td>0.960210</td>\n",
              "      <td>0.943030</td>\n",
              "      <td>0.946597</td>\n",
              "      <td>0.971669</td>\n",
              "      <td>0.981807</td>\n",
              "      <td>0.929464</td>\n",
              "      <td>0.910410</td>\n",
              "      <td>0.971135</td>\n",
              "      <td>0.947615</td>\n",
              "      <td>0.981605</td>\n",
              "      <td>0.952838</td>\n",
              "      <td>0.962383</td>\n",
              "      <td>0.849043</td>\n",
              "      <td>0.966768</td>\n",
              "      <td>0.950535</td>\n",
              "      <td>0.902660</td>\n",
              "      <td>0.819753</td>\n",
              "    </tr>\n",
              "    <tr>\n",
              "      <th>1</th>\n",
              "      <td>0.974714</td>\n",
              "      <td>1.000000</td>\n",
              "      <td>0.813166</td>\n",
              "      <td>0.978019</td>\n",
              "      <td>0.988304</td>\n",
              "      <td>0.974711</td>\n",
              "      <td>0.939554</td>\n",
              "      <td>0.908006</td>\n",
              "      <td>0.920455</td>\n",
              "      <td>0.913430</td>\n",
              "      <td>0.988228</td>\n",
              "      <td>0.967943</td>\n",
              "      <td>0.858993</td>\n",
              "      <td>0.878693</td>\n",
              "      <td>0.964486</td>\n",
              "      <td>0.961423</td>\n",
              "      <td>0.929801</td>\n",
              "      <td>0.898673</td>\n",
              "      <td>0.876432</td>\n",
              "      <td>0.903727</td>\n",
              "      <td>0.785543</td>\n",
              "      <td>0.923462</td>\n",
              "      <td>0.942029</td>\n",
              "      <td>0.953503</td>\n",
              "      <td>0.985799</td>\n",
              "      <td>0.929770</td>\n",
              "      <td>0.869296</td>\n",
              "      <td>0.960789</td>\n",
              "      <td>0.930180</td>\n",
              "      <td>0.977961</td>\n",
              "      <td>0.946489</td>\n",
              "      <td>0.967190</td>\n",
              "      <td>0.948652</td>\n",
              "      <td>0.941085</td>\n",
              "      <td>0.911044</td>\n",
              "      <td>0.928583</td>\n",
              "      <td>0.913680</td>\n",
              "      <td>0.948918</td>\n",
              "      <td>0.924779</td>\n",
              "      <td>0.950054</td>\n",
              "      <td>...</td>\n",
              "      <td>0.983744</td>\n",
              "      <td>0.976464</td>\n",
              "      <td>0.921952</td>\n",
              "      <td>0.936786</td>\n",
              "      <td>0.954837</td>\n",
              "      <td>0.929514</td>\n",
              "      <td>0.942360</td>\n",
              "      <td>0.966358</td>\n",
              "      <td>0.912566</td>\n",
              "      <td>0.862937</td>\n",
              "      <td>0.951639</td>\n",
              "      <td>0.977568</td>\n",
              "      <td>0.791450</td>\n",
              "      <td>0.918162</td>\n",
              "      <td>0.953105</td>\n",
              "      <td>0.809888</td>\n",
              "      <td>0.967255</td>\n",
              "      <td>0.833505</td>\n",
              "      <td>0.984114</td>\n",
              "      <td>0.891034</td>\n",
              "      <td>0.983894</td>\n",
              "      <td>0.963541</td>\n",
              "      <td>0.991679</td>\n",
              "      <td>0.957779</td>\n",
              "      <td>0.937671</td>\n",
              "      <td>0.972889</td>\n",
              "      <td>0.955521</td>\n",
              "      <td>0.995686</td>\n",
              "      <td>0.931571</td>\n",
              "      <td>0.888522</td>\n",
              "      <td>0.984182</td>\n",
              "      <td>0.974784</td>\n",
              "      <td>0.985776</td>\n",
              "      <td>0.979668</td>\n",
              "      <td>0.960035</td>\n",
              "      <td>0.808637</td>\n",
              "      <td>0.925386</td>\n",
              "      <td>0.962569</td>\n",
              "      <td>0.831571</td>\n",
              "      <td>0.771873</td>\n",
              "    </tr>\n",
              "    <tr>\n",
              "      <th>2</th>\n",
              "      <td>0.846568</td>\n",
              "      <td>0.813166</td>\n",
              "      <td>1.000000</td>\n",
              "      <td>0.875125</td>\n",
              "      <td>0.829485</td>\n",
              "      <td>0.855537</td>\n",
              "      <td>0.932210</td>\n",
              "      <td>0.929492</td>\n",
              "      <td>0.844749</td>\n",
              "      <td>0.808690</td>\n",
              "      <td>0.789264</td>\n",
              "      <td>0.868720</td>\n",
              "      <td>0.986126</td>\n",
              "      <td>0.896772</td>\n",
              "      <td>0.844825</td>\n",
              "      <td>0.869672</td>\n",
              "      <td>0.785945</td>\n",
              "      <td>0.946748</td>\n",
              "      <td>0.932618</td>\n",
              "      <td>0.916572</td>\n",
              "      <td>0.938888</td>\n",
              "      <td>0.870395</td>\n",
              "      <td>0.846368</td>\n",
              "      <td>0.881875</td>\n",
              "      <td>0.827070</td>\n",
              "      <td>0.854834</td>\n",
              "      <td>0.901163</td>\n",
              "      <td>0.871242</td>\n",
              "      <td>0.883421</td>\n",
              "      <td>0.869871</td>\n",
              "      <td>0.870013</td>\n",
              "      <td>0.903517</td>\n",
              "      <td>0.919192</td>\n",
              "      <td>0.909375</td>\n",
              "      <td>0.916327</td>\n",
              "      <td>0.881868</td>\n",
              "      <td>0.830422</td>\n",
              "      <td>0.907348</td>\n",
              "      <td>0.929379</td>\n",
              "      <td>0.904182</td>\n",
              "      <td>...</td>\n",
              "      <td>0.816350</td>\n",
              "      <td>0.869637</td>\n",
              "      <td>0.945815</td>\n",
              "      <td>0.937857</td>\n",
              "      <td>0.873068</td>\n",
              "      <td>0.894780</td>\n",
              "      <td>0.907765</td>\n",
              "      <td>0.910847</td>\n",
              "      <td>0.866559</td>\n",
              "      <td>0.979082</td>\n",
              "      <td>0.890642</td>\n",
              "      <td>0.864022</td>\n",
              "      <td>0.960804</td>\n",
              "      <td>0.959701</td>\n",
              "      <td>0.847266</td>\n",
              "      <td>0.931515</td>\n",
              "      <td>0.811378</td>\n",
              "      <td>0.962741</td>\n",
              "      <td>0.839769</td>\n",
              "      <td>0.883145</td>\n",
              "      <td>0.844014</td>\n",
              "      <td>0.865387</td>\n",
              "      <td>0.824780</td>\n",
              "      <td>0.827142</td>\n",
              "      <td>0.856780</td>\n",
              "      <td>0.811017</td>\n",
              "      <td>0.875924</td>\n",
              "      <td>0.815089</td>\n",
              "      <td>0.844479</td>\n",
              "      <td>0.819190</td>\n",
              "      <td>0.823516</td>\n",
              "      <td>0.821888</td>\n",
              "      <td>0.819979</td>\n",
              "      <td>0.750719</td>\n",
              "      <td>0.897219</td>\n",
              "      <td>0.985821</td>\n",
              "      <td>0.783827</td>\n",
              "      <td>0.783615</td>\n",
              "      <td>0.938361</td>\n",
              "      <td>0.979221</td>\n",
              "    </tr>\n",
              "    <tr>\n",
              "      <th>3</th>\n",
              "      <td>0.965272</td>\n",
              "      <td>0.978019</td>\n",
              "      <td>0.875125</td>\n",
              "      <td>1.000000</td>\n",
              "      <td>0.981207</td>\n",
              "      <td>0.975862</td>\n",
              "      <td>0.960685</td>\n",
              "      <td>0.931885</td>\n",
              "      <td>0.913507</td>\n",
              "      <td>0.894334</td>\n",
              "      <td>0.978256</td>\n",
              "      <td>0.956155</td>\n",
              "      <td>0.904579</td>\n",
              "      <td>0.883761</td>\n",
              "      <td>0.968103</td>\n",
              "      <td>0.958573</td>\n",
              "      <td>0.891609</td>\n",
              "      <td>0.939856</td>\n",
              "      <td>0.908509</td>\n",
              "      <td>0.938775</td>\n",
              "      <td>0.836033</td>\n",
              "      <td>0.915390</td>\n",
              "      <td>0.915196</td>\n",
              "      <td>0.975189</td>\n",
              "      <td>0.974728</td>\n",
              "      <td>0.901619</td>\n",
              "      <td>0.874960</td>\n",
              "      <td>0.961534</td>\n",
              "      <td>0.951414</td>\n",
              "      <td>0.971560</td>\n",
              "      <td>0.952269</td>\n",
              "      <td>0.963814</td>\n",
              "      <td>0.958626</td>\n",
              "      <td>0.938385</td>\n",
              "      <td>0.943713</td>\n",
              "      <td>0.944900</td>\n",
              "      <td>0.883791</td>\n",
              "      <td>0.962880</td>\n",
              "      <td>0.939802</td>\n",
              "      <td>0.982776</td>\n",
              "      <td>...</td>\n",
              "      <td>0.971499</td>\n",
              "      <td>0.979149</td>\n",
              "      <td>0.938131</td>\n",
              "      <td>0.951378</td>\n",
              "      <td>0.953461</td>\n",
              "      <td>0.932015</td>\n",
              "      <td>0.949546</td>\n",
              "      <td>0.983205</td>\n",
              "      <td>0.906059</td>\n",
              "      <td>0.901094</td>\n",
              "      <td>0.972020</td>\n",
              "      <td>0.978173</td>\n",
              "      <td>0.855648</td>\n",
              "      <td>0.962262</td>\n",
              "      <td>0.943759</td>\n",
              "      <td>0.827499</td>\n",
              "      <td>0.945754</td>\n",
              "      <td>0.896488</td>\n",
              "      <td>0.984059</td>\n",
              "      <td>0.875724</td>\n",
              "      <td>0.984793</td>\n",
              "      <td>0.959154</td>\n",
              "      <td>0.977132</td>\n",
              "      <td>0.937842</td>\n",
              "      <td>0.942257</td>\n",
              "      <td>0.961811</td>\n",
              "      <td>0.969144</td>\n",
              "      <td>0.983743</td>\n",
              "      <td>0.914703</td>\n",
              "      <td>0.856536</td>\n",
              "      <td>0.972216</td>\n",
              "      <td>0.966983</td>\n",
              "      <td>0.972775</td>\n",
              "      <td>0.959829</td>\n",
              "      <td>0.962806</td>\n",
              "      <td>0.859103</td>\n",
              "      <td>0.901327</td>\n",
              "      <td>0.923874</td>\n",
              "      <td>0.872185</td>\n",
              "      <td>0.833983</td>\n",
              "    </tr>\n",
              "    <tr>\n",
              "      <th>4</th>\n",
              "      <td>0.982292</td>\n",
              "      <td>0.988304</td>\n",
              "      <td>0.829485</td>\n",
              "      <td>0.981207</td>\n",
              "      <td>1.000000</td>\n",
              "      <td>0.992548</td>\n",
              "      <td>0.957414</td>\n",
              "      <td>0.895451</td>\n",
              "      <td>0.906723</td>\n",
              "      <td>0.923906</td>\n",
              "      <td>0.990481</td>\n",
              "      <td>0.968731</td>\n",
              "      <td>0.875879</td>\n",
              "      <td>0.906365</td>\n",
              "      <td>0.961731</td>\n",
              "      <td>0.984701</td>\n",
              "      <td>0.949591</td>\n",
              "      <td>0.889516</td>\n",
              "      <td>0.913597</td>\n",
              "      <td>0.919513</td>\n",
              "      <td>0.810461</td>\n",
              "      <td>0.946802</td>\n",
              "      <td>0.938620</td>\n",
              "      <td>0.956547</td>\n",
              "      <td>0.989491</td>\n",
              "      <td>0.938494</td>\n",
              "      <td>0.852835</td>\n",
              "      <td>0.979740</td>\n",
              "      <td>0.924383</td>\n",
              "      <td>0.989930</td>\n",
              "      <td>0.953220</td>\n",
              "      <td>0.962141</td>\n",
              "      <td>0.945234</td>\n",
              "      <td>0.930739</td>\n",
              "      <td>0.896864</td>\n",
              "      <td>0.908808</td>\n",
              "      <td>0.885245</td>\n",
              "      <td>0.938905</td>\n",
              "      <td>0.926810</td>\n",
              "      <td>0.949620</td>\n",
              "      <td>...</td>\n",
              "      <td>0.988669</td>\n",
              "      <td>0.975023</td>\n",
              "      <td>0.918181</td>\n",
              "      <td>0.934597</td>\n",
              "      <td>0.935769</td>\n",
              "      <td>0.918070</td>\n",
              "      <td>0.931522</td>\n",
              "      <td>0.973899</td>\n",
              "      <td>0.909484</td>\n",
              "      <td>0.877374</td>\n",
              "      <td>0.954507</td>\n",
              "      <td>0.973481</td>\n",
              "      <td>0.816507</td>\n",
              "      <td>0.929458</td>\n",
              "      <td>0.937149</td>\n",
              "      <td>0.815408</td>\n",
              "      <td>0.979241</td>\n",
              "      <td>0.823850</td>\n",
              "      <td>0.994677</td>\n",
              "      <td>0.873117</td>\n",
              "      <td>0.994271</td>\n",
              "      <td>0.985272</td>\n",
              "      <td>0.987643</td>\n",
              "      <td>0.969796</td>\n",
              "      <td>0.922122</td>\n",
              "      <td>0.959469</td>\n",
              "      <td>0.973682</td>\n",
              "      <td>0.993557</td>\n",
              "      <td>0.918218</td>\n",
              "      <td>0.868438</td>\n",
              "      <td>0.980134</td>\n",
              "      <td>0.963462</td>\n",
              "      <td>0.993759</td>\n",
              "      <td>0.983502</td>\n",
              "      <td>0.958988</td>\n",
              "      <td>0.819997</td>\n",
              "      <td>0.953029</td>\n",
              "      <td>0.945123</td>\n",
              "      <td>0.860638</td>\n",
              "      <td>0.792468</td>\n",
              "    </tr>\n",
              "  </tbody>\n",
              "</table>\n",
              "<p>5 rows × 1000 columns</p>\n",
              "</div>"
            ],
            "text/plain": [
              "        0         1         2    ...       997       998       999\n",
              "0  1.000000  0.974714  0.846568  ...  0.950535  0.902660  0.819753\n",
              "1  0.974714  1.000000  0.813166  ...  0.962569  0.831571  0.771873\n",
              "2  0.846568  0.813166  1.000000  ...  0.783615  0.938361  0.979221\n",
              "3  0.965272  0.978019  0.875125  ...  0.923874  0.872185  0.833983\n",
              "4  0.982292  0.988304  0.829485  ...  0.945123  0.860638  0.792468\n",
              "\n",
              "[5 rows x 1000 columns]"
            ]
          },
          "metadata": {
            "tags": []
          },
          "execution_count": 45
        }
      ]
    },
    {
      "cell_type": "code",
      "metadata": {
        "id": "7ZlVS1XEEWnc",
        "colab_type": "code",
        "colab": {
          "base_uri": "https://localhost:8080/",
          "height": 139
        },
        "outputId": "90440a72-3383-4293-9b82-c0aca65585a1"
      },
      "source": [
        "df_sim.iloc[793,:].sort_values(ascending=False).head(6)"
      ],
      "execution_count": 60,
      "outputs": [
        {
          "output_type": "execute_result",
          "data": {
            "text/plain": [
              "793    1.000000\n",
              "574    0.999747\n",
              "254    0.993724\n",
              "880    0.992219\n",
              "850    0.990967\n",
              "431    0.990210\n",
              "Name: 793, dtype: float64"
            ]
          },
          "metadata": {
            "tags": []
          },
          "execution_count": 60
        }
      ]
    },
    {
      "cell_type": "code",
      "metadata": {
        "id": "rPvm9HStEf11",
        "colab_type": "code",
        "colab": {
          "base_uri": "https://localhost:8080/",
          "height": 610
        },
        "outputId": "19b30208-22a3-4e00-bf3a-2c14611ebad5"
      },
      "source": [
        "df.iloc[574,:]"
      ],
      "execution_count": 77,
      "outputs": [
        {
          "output_type": "execute_result",
          "data": {
            "text/plain": [
              "Unnamed: 0                                                         846\n",
              "track_id                                        4a48lWUd64bZgHUDx0GZlj\n",
              "track_name                                                         新宝島\n",
              "track_url            https://open.spotify.com/track/4a48lWUd64bZgHU...\n",
              "available_markets    AD,AE,AR,AT,AU,BE,BG,BH,BO,BR,CA,CH,CL,CO,CR,C...\n",
              "disc_number                                                          1\n",
              "duration_ms                                                     305000\n",
              "popularity                                                          52\n",
              "preview_url          https://p.scdn.co/mp3-preview/1ffb1bb16fd3f875...\n",
              "track_number                                                         5\n",
              "acousticness                                                    0.0013\n",
              "danceability                                                     0.551\n",
              "energy                                                           0.919\n",
              "instrumentalness                                               0.00638\n",
              "liveness                                                         0.352\n",
              "loudness                                                        -3.484\n",
              "valence                                                          0.652\n",
              "speechiness                                                      0.074\n",
              "key                                                                  7\n",
              "mode                                                                 0\n",
              "tempo                                                          157.989\n",
              "time_signature                                                       4\n",
              "artist_id                                       0hCWVMGGQnRVfDgmhwLIxq\n",
              "artist_name                                                Sakanaction\n",
              "artist_url           https://open.spotify.com/artist/0hCWVMGGQnRVfD...\n",
              "artist_type                                                     artist\n",
              "album_url            https://open.spotify.com/album/5pLmzFu2ienSbr1...\n",
              "album_id                                        5pLmzFu2ienSbr1SxBJvwB\n",
              "album_name                                                     834.194\n",
              "album_image_url      https://i.scdn.co/image/ab67616d0000b2733bffc3...\n",
              "release_date                                                2019-06-19\n",
              "total_tracks                                                        18\n",
              "genre                                                            j-pop\n",
              "Name: 846, dtype: object"
            ]
          },
          "metadata": {
            "tags": []
          },
          "execution_count": 77
        }
      ]
    },
    {
      "cell_type": "code",
      "metadata": {
        "id": "6eYUa28MFGgt",
        "colab_type": "code",
        "colab": {
          "base_uri": "https://localhost:8080/",
          "height": 610
        },
        "outputId": "0f1d6e3a-bdea-4990-8f69-2f588754eba4"
      },
      "source": [
        "df.iloc[254,:]"
      ],
      "execution_count": 78,
      "outputs": [
        {
          "output_type": "execute_result",
          "data": {
            "text/plain": [
              "Unnamed: 0                                                         556\n",
              "track_id                                        1v9EovC0CD8tKq88ZEI3Ri\n",
              "track_name                                                  Everything\n",
              "track_url            https://open.spotify.com/track/1v9EovC0CD8tKq8...\n",
              "available_markets    AD,AE,AR,AT,AU,BE,BG,BH,BO,BR,CA,CH,CL,CO,CR,C...\n",
              "disc_number                                                          1\n",
              "duration_ms                                                     240972\n",
              "popularity                                                          50\n",
              "preview_url          https://p.scdn.co/mp3-preview/a716dfe04da917b6...\n",
              "track_number                                                         1\n",
              "acousticness                                                     0.413\n",
              "danceability                                                     0.645\n",
              "energy                                                           0.892\n",
              "instrumentalness                                                     0\n",
              "liveness                                                         0.116\n",
              "loudness                                                        -3.371\n",
              "valence                                                          0.922\n",
              "speechiness                                                     0.0396\n",
              "key                                                                  1\n",
              "mode                                                                 1\n",
              "tempo                                                          121.014\n",
              "time_signature                                                       4\n",
              "artist_id                                       1XYuC1vxinTjHCNd5clB8C\n",
              "artist_name                                                     ARASHI\n",
              "artist_url           https://open.spotify.com/artist/1XYuC1vxinTjHC...\n",
              "artist_type                                                     artist\n",
              "album_url            https://open.spotify.com/album/6DK6abeZ2jNzt2Q...\n",
              "album_id                                        6DK6abeZ2jNzt2QzUN0h14\n",
              "album_name                                                  Everything\n",
              "album_image_url      https://i.scdn.co/image/6d62f6a661f33bc89b3956...\n",
              "release_date                                                2009-07-01\n",
              "total_tracks                                                         1\n",
              "genre                                                            j-pop\n",
              "Name: 556, dtype: object"
            ]
          },
          "metadata": {
            "tags": []
          },
          "execution_count": 78
        }
      ]
    },
    {
      "cell_type": "code",
      "metadata": {
        "id": "OIVg5VqNFiC6",
        "colab_type": "code",
        "colab": {
          "base_uri": "https://localhost:8080/",
          "height": 610
        },
        "outputId": "df068c36-e5b0-4af4-f9b8-f007b05439a4"
      },
      "source": [
        "df.iloc[880,:]"
      ],
      "execution_count": 79,
      "outputs": [
        {
          "output_type": "execute_result",
          "data": {
            "text/plain": [
              "Unnamed: 0                                                         677\n",
              "track_id                                        71vDsonFaYcVNPqJFBHiVJ\n",
              "track_name                                                 ロングホープ・フィリア\n",
              "track_url            https://open.spotify.com/track/71vDsonFaYcVNPq...\n",
              "available_markets                                                   JP\n",
              "disc_number                                                          1\n",
              "duration_ms                                                     295800\n",
              "popularity                                                          52\n",
              "preview_url          https://p.scdn.co/mp3-preview/4bdd89de3a107078...\n",
              "track_number                                                         3\n",
              "acousticness                                                    0.0202\n",
              "danceability                                                     0.591\n",
              "energy                                                           0.962\n",
              "instrumentalness                                                     0\n",
              "liveness                                                          0.36\n",
              "loudness                                                        -2.486\n",
              "valence                                                          0.523\n",
              "speechiness                                                     0.0411\n",
              "key                                                                  0\n",
              "mode                                                                 1\n",
              "tempo                                                          111.941\n",
              "time_signature                                                       4\n",
              "artist_id                                       6n4SsAp5VjvIBg3s9QCcPX\n",
              "artist_name                                                Masaki Suda\n",
              "artist_url           https://open.spotify.com/artist/6n4SsAp5VjvIBg...\n",
              "artist_type                                                     artist\n",
              "album_url            https://open.spotify.com/album/0iSNkxOcMtCmuOb...\n",
              "album_id                                        0iSNkxOcMtCmuOb59ityJG\n",
              "album_name                                                        LOVE\n",
              "album_image_url      https://i.scdn.co/image/ab67616d0000b2736599ee...\n",
              "release_date                                                2019-07-10\n",
              "total_tracks                                                        11\n",
              "genre                                                            j-pop\n",
              "Name: 677, dtype: object"
            ]
          },
          "metadata": {
            "tags": []
          },
          "execution_count": 79
        }
      ]
    },
    {
      "cell_type": "code",
      "metadata": {
        "id": "Mw4iNliNHIIB",
        "colab_type": "code",
        "colab": {
          "base_uri": "https://localhost:8080/",
          "height": 610
        },
        "outputId": "cff5bb61-0683-4748-a398-88e3aadefe22"
      },
      "source": [
        "df.iloc[850,:]"
      ],
      "execution_count": 80,
      "outputs": [
        {
          "output_type": "execute_result",
          "data": {
            "text/plain": [
              "Unnamed: 0                                                         171\n",
              "track_id                                        6rEReeuYDZdggaSMF1sybO\n",
              "track_name                                                       ドラえもん\n",
              "track_url            https://open.spotify.com/track/6rEReeuYDZdggaS...\n",
              "available_markets                                                   JP\n",
              "disc_number                                                          1\n",
              "duration_ms                                                     239933\n",
              "popularity                                                          56\n",
              "preview_url          https://p.scdn.co/mp3-preview/c3bd47814215483d...\n",
              "track_number                                                         1\n",
              "acousticness                                                   0.00676\n",
              "danceability                                                      0.64\n",
              "energy                                                           0.547\n",
              "instrumentalness                                              4.95e-05\n",
              "liveness                                                        0.0585\n",
              "loudness                                                        -4.129\n",
              "valence                                                           0.95\n",
              "speechiness                                                      0.038\n",
              "key                                                                  4\n",
              "mode                                                                 1\n",
              "tempo                                                          159.992\n",
              "time_signature                                                       4\n",
              "artist_id                                       1S2S00lgLYLGHWA44qGEUs\n",
              "artist_name                                                Gen Hoshino\n",
              "artist_url           https://open.spotify.com/artist/1S2S00lgLYLGHW...\n",
              "artist_type                                                     artist\n",
              "album_url            https://open.spotify.com/album/1LdrgeXgpJkelki...\n",
              "album_id                                        1LdrgeXgpJkelkirMtgFxq\n",
              "album_name                                                       ドラえもん\n",
              "album_image_url      https://i.scdn.co/image/ab67616d0000b27374f6b1...\n",
              "release_date                                                2018-02-28\n",
              "total_tracks                                                         4\n",
              "genre                                                            j-pop\n",
              "Name: 171, dtype: object"
            ]
          },
          "metadata": {
            "tags": []
          },
          "execution_count": 80
        }
      ]
    },
    {
      "cell_type": "code",
      "metadata": {
        "id": "hbyF2xq1HYf2",
        "colab_type": "code",
        "colab": {
          "base_uri": "https://localhost:8080/",
          "height": 610
        },
        "outputId": "de060b70-f39e-467a-d042-faf4a51cdc5e"
      },
      "source": [
        "df.iloc[431,:]"
      ],
      "execution_count": 81,
      "outputs": [
        {
          "output_type": "execute_result",
          "data": {
            "text/plain": [
              "Unnamed: 0                                                          11\n",
              "track_id                                        3S3DDZrPOYTirleXRyHnNM\n",
              "track_name                                                      イエスタデイ\n",
              "track_url            https://open.spotify.com/track/3S3DDZrPOYTirle...\n",
              "available_markets                                                   JP\n",
              "disc_number                                                          1\n",
              "duration_ms                                                     299164\n",
              "popularity                                                          69\n",
              "preview_url          https://p.scdn.co/mp3-preview/9f78871f94336fc4...\n",
              "track_number                                                         1\n",
              "acousticness                                                    0.0442\n",
              "danceability                                                     0.541\n",
              "energy                                                             0.8\n",
              "instrumentalness                                                     0\n",
              "liveness                                                         0.398\n",
              "loudness                                                        -3.687\n",
              "valence                                                           0.56\n",
              "speechiness                                                     0.0382\n",
              "key                                                                  6\n",
              "mode                                                                 1\n",
              "tempo                                                          129.939\n",
              "time_signature                                                       4\n",
              "artist_id                                       5Vo1hnCRmCM6M4thZCInCj\n",
              "artist_name                                      Official HIGE DANdism\n",
              "artist_url           https://open.spotify.com/artist/5Vo1hnCRmCM6M4...\n",
              "artist_type                                                     artist\n",
              "album_url            https://open.spotify.com/album/2vwgYzudvFwyFe1...\n",
              "album_id                                        2vwgYzudvFwyFe1Ho9gdUQ\n",
              "album_name                                                    Traveler\n",
              "album_image_url      https://i.scdn.co/image/d840bba5b8b0528f5277d1...\n",
              "release_date                                                2019-09-11\n",
              "total_tracks                                                         7\n",
              "genre                                                            j-pop\n",
              "Name: 11, dtype: object"
            ]
          },
          "metadata": {
            "tags": []
          },
          "execution_count": 81
        }
      ]
    },
    {
      "cell_type": "code",
      "metadata": {
        "id": "lkKk2jtQIat7",
        "colab_type": "code",
        "colab": {
          "base_uri": "https://localhost:8080/",
          "height": 34
        },
        "outputId": "a81c3c4e-c208-449c-c9bd-c3d334a34127"
      },
      "source": [
        "list(df.reset_index().query('track_id == \"2OCtw3vaD0urZuYOeuNw4V\"').index)\n"
      ],
      "execution_count": 65,
      "outputs": [
        {
          "output_type": "execute_result",
          "data": {
            "text/plain": [
              "[316]"
            ]
          },
          "metadata": {
            "tags": []
          },
          "execution_count": 65
        }
      ]
    },
    {
      "cell_type": "code",
      "metadata": {
        "id": "A6rPmziaMekg",
        "colab_type": "code",
        "colab": {
          "base_uri": "https://localhost:8080/",
          "height": 139
        },
        "outputId": "1b4efa0a-41c5-43fc-e9bf-2f1871ab9dbc"
      },
      "source": [
        "df_sim.iloc[316,:].sort_values(ascending=False).head(6)"
      ],
      "execution_count": 66,
      "outputs": [
        {
          "output_type": "execute_result",
          "data": {
            "text/plain": [
              "316    1.000000\n",
              "10     0.996718\n",
              "654    0.995393\n",
              "370    0.993561\n",
              "665    0.993499\n",
              "987    0.993400\n",
              "Name: 316, dtype: float64"
            ]
          },
          "metadata": {
            "tags": []
          },
          "execution_count": 66
        }
      ]
    },
    {
      "cell_type": "code",
      "metadata": {
        "id": "aQetKOqXMisn",
        "colab_type": "code",
        "colab": {
          "base_uri": "https://localhost:8080/",
          "height": 610
        },
        "outputId": "0ebc9eb0-00b5-429a-a6e6-d7707c19f6dc"
      },
      "source": [
        "df.iloc[10,:]"
      ],
      "execution_count": 82,
      "outputs": [
        {
          "output_type": "execute_result",
          "data": {
            "text/plain": [
              "Unnamed: 0                                                         389\n",
              "track_id                                        06BIna6ik1U4hoR0XlSfzw\n",
              "track_name                                                   輝きだして走ってく\n",
              "track_url            https://open.spotify.com/track/06BIna6ik1U4hoR...\n",
              "available_markets    AD,AE,AR,AT,AU,BE,BG,BH,BO,BR,CA,CH,CL,CO,CR,C...\n",
              "disc_number                                                          1\n",
              "duration_ms                                                     269466\n",
              "popularity                                                          46\n",
              "preview_url          https://p.scdn.co/mp3-preview/6d7c0a54cb14c863...\n",
              "track_number                                                         1\n",
              "acousticness                                                    0.0051\n",
              "danceability                                                     0.444\n",
              "energy                                                           0.833\n",
              "instrumentalness                                                     0\n",
              "liveness                                                         0.362\n",
              "loudness                                                        -3.182\n",
              "valence                                                          0.604\n",
              "speechiness                                                     0.0898\n",
              "key                                                                  2\n",
              "mode                                                                 1\n",
              "tempo                                                          178.061\n",
              "time_signature                                                       4\n",
              "artist_id                                       5ydDSP9qSxEOlHWnpbblFB\n",
              "artist_name                                                Sambomaster\n",
              "artist_url           https://open.spotify.com/artist/5ydDSP9qSxEOlH...\n",
              "artist_type                                                     artist\n",
              "album_url            https://open.spotify.com/album/0sRYo3ohyfkv8Yf...\n",
              "album_id                                        0sRYo3ohyfkv8YfQy7kU7i\n",
              "album_name                                                   輝きだして走ってく\n",
              "album_image_url      https://i.scdn.co/image/ab67616d0000b2732db767...\n",
              "release_date                                                2018-08-15\n",
              "total_tracks                                                         2\n",
              "genre                                                            j-pop\n",
              "Name: 389, dtype: object"
            ]
          },
          "metadata": {
            "tags": []
          },
          "execution_count": 82
        }
      ]
    },
    {
      "cell_type": "code",
      "metadata": {
        "id": "cDtP1ZXuMmY8",
        "colab_type": "code",
        "colab": {
          "base_uri": "https://localhost:8080/",
          "height": 610
        },
        "outputId": "b3f7e65b-83f7-48f5-ca0d-2c346859fb98"
      },
      "source": [
        "df.iloc[654,:]"
      ],
      "execution_count": 83,
      "outputs": [
        {
          "output_type": "execute_result",
          "data": {
            "text/plain": [
              "Unnamed: 0                                                         906\n",
              "track_id                                        5DtsD7m3yQAD4KyrsjzHA1\n",
              "track_name                                                         エソラ\n",
              "track_url            https://open.spotify.com/track/5DtsD7m3yQAD4Ky...\n",
              "available_markets                                                JP,TW\n",
              "disc_number                                                          1\n",
              "duration_ms                                                     304213\n",
              "popularity                                                          44\n",
              "preview_url          https://p.scdn.co/mp3-preview/482a805d7cbbbce6...\n",
              "track_number                                                         3\n",
              "acousticness                                                   0.00643\n",
              "danceability                                                     0.547\n",
              "energy                                                           0.899\n",
              "instrumentalness                                              2.45e-05\n",
              "liveness                                                         0.198\n",
              "loudness                                                        -4.709\n",
              "valence                                                          0.702\n",
              "speechiness                                                     0.0434\n",
              "key                                                                  8\n",
              "mode                                                                 1\n",
              "tempo                                                          127.014\n",
              "time_signature                                                       4\n",
              "artist_id                                       1qma7XhwZotCAucL7NHVLY\n",
              "artist_name                                                Mr.Children\n",
              "artist_url           https://open.spotify.com/artist/1qma7XhwZotCAu...\n",
              "artist_type                                                     artist\n",
              "album_url            https://open.spotify.com/album/4Um0RZAJzJ9lHpz...\n",
              "album_id                                        4Um0RZAJzJ9lHpzDW247mm\n",
              "album_name                                         SUPERMARKET FANTASY\n",
              "album_image_url      https://i.scdn.co/image/ab67616d0000b273b263a8...\n",
              "release_date                                                2008-12-10\n",
              "total_tracks                                                        14\n",
              "genre                                                            j-pop\n",
              "Name: 906, dtype: object"
            ]
          },
          "metadata": {
            "tags": []
          },
          "execution_count": 83
        }
      ]
    },
    {
      "cell_type": "code",
      "metadata": {
        "id": "jPJfoTU_NvpW",
        "colab_type": "code",
        "colab": {
          "base_uri": "https://localhost:8080/",
          "height": 610
        },
        "outputId": "0b88f912-9e1d-4e36-c65b-53ccfcb1d776"
      },
      "source": [
        "df.iloc[370,:]"
      ],
      "execution_count": 84,
      "outputs": [
        {
          "output_type": "execute_result",
          "data": {
            "text/plain": [
              "Unnamed: 0                                                         457\n",
              "track_id                                        2pI6Avig0HNZGsZ777MKXM\n",
              "track_name                                              innocent world\n",
              "track_url            https://open.spotify.com/track/2pI6Avig0HNZGsZ...\n",
              "available_markets                                                JP,TW\n",
              "disc_number                                                          1\n",
              "duration_ms                                                     345266\n",
              "popularity                                                          50\n",
              "preview_url          https://p.scdn.co/mp3-preview/408ae62951353172...\n",
              "track_number                                                         1\n",
              "acousticness                                                     0.316\n",
              "danceability                                                      0.62\n",
              "energy                                                            0.55\n",
              "instrumentalness                                                     0\n",
              "liveness                                                         0.344\n",
              "loudness                                                        -9.418\n",
              "valence                                                          0.634\n",
              "speechiness                                                     0.0273\n",
              "key                                                                  4\n",
              "mode                                                                 1\n",
              "tempo                                                          119.923\n",
              "time_signature                                                       4\n",
              "artist_id                                       1qma7XhwZotCAucL7NHVLY\n",
              "artist_name                                                Mr.Children\n",
              "artist_url           https://open.spotify.com/artist/1qma7XhwZotCAu...\n",
              "artist_type                                                     artist\n",
              "album_url            https://open.spotify.com/album/25Fxg1dk7GyquE0...\n",
              "album_id                                        25Fxg1dk7GyquE0ALnBLbq\n",
              "album_name                                              innocent world\n",
              "album_image_url      https://i.scdn.co/image/ab67616d0000b273c31861...\n",
              "release_date                                                1994-06-01\n",
              "total_tracks                                                         3\n",
              "genre                                                            j-pop\n",
              "Name: 457, dtype: object"
            ]
          },
          "metadata": {
            "tags": []
          },
          "execution_count": 84
        }
      ]
    },
    {
      "cell_type": "code",
      "metadata": {
        "id": "PdAnQUiuN9Kz",
        "colab_type": "code",
        "colab": {
          "base_uri": "https://localhost:8080/",
          "height": 610
        },
        "outputId": "6bebeee8-a07a-45f1-9d47-ed6c29f13cfe"
      },
      "source": [
        "df.iloc[665,:]"
      ],
      "execution_count": 85,
      "outputs": [
        {
          "output_type": "execute_result",
          "data": {
            "text/plain": [
              "Unnamed: 0                                                         598\n",
              "track_id                                        5IwRgi599tbwNi9wqPYyIX\n",
              "track_name                                                     Jupiter\n",
              "track_url            https://open.spotify.com/track/5IwRgi599tbwNi9...\n",
              "available_markets                                                   JP\n",
              "disc_number                                                          1\n",
              "duration_ms                                                     361000\n",
              "popularity                                                          52\n",
              "preview_url          https://p.scdn.co/mp3-preview/0485b31aad8a770f...\n",
              "track_number                                                        13\n",
              "acousticness                                                      0.42\n",
              "danceability                                                     0.333\n",
              "energy                                                           0.577\n",
              "instrumentalness                                                     0\n",
              "liveness                                                         0.388\n",
              "loudness                                                        -8.064\n",
              "valence                                                          0.366\n",
              "speechiness                                                     0.0306\n",
              "key                                                                  1\n",
              "mode                                                                 1\n",
              "tempo                                                           88.886\n",
              "time_signature                                                       4\n",
              "artist_id                                       0AzJGufY9eXWy5wHZWQ71H\n",
              "artist_name                                             Ayaka Hirahara\n",
              "artist_url           https://open.spotify.com/artist/0AzJGufY9eXWy5...\n",
              "artist_type                                                     artist\n",
              "album_url            https://open.spotify.com/album/7c2avNmlnMehoWD...\n",
              "album_id                                        7c2avNmlnMehoWD77vy3Dn\n",
              "album_name                                                     Odyssey\n",
              "album_image_url      https://i.scdn.co/image/ab67616d0000b273bdfb0a...\n",
              "release_date                                                2005-09-21\n",
              "total_tracks                                                        13\n",
              "genre                                                            j-pop\n",
              "Name: 598, dtype: object"
            ]
          },
          "metadata": {
            "tags": []
          },
          "execution_count": 85
        }
      ]
    },
    {
      "cell_type": "code",
      "metadata": {
        "id": "QvsBZuRUQXN4",
        "colab_type": "code",
        "colab": {
          "base_uri": "https://localhost:8080/",
          "height": 610
        },
        "outputId": "75085ead-c990-44a3-ea5e-32fda677db58"
      },
      "source": [
        "df.iloc[987,:]"
      ],
      "execution_count": 86,
      "outputs": [
        {
          "output_type": "execute_result",
          "data": {
            "text/plain": [
              "Unnamed: 0                                                         347\n",
              "track_id                                        7vBt0nLQ1uPurkqiW7Pibs\n",
              "track_name                                                      夏のどこかへ\n",
              "track_url            https://open.spotify.com/track/7vBt0nLQ1uPurkq...\n",
              "available_markets    AD,AE,AR,AT,AU,BE,BG,BH,BO,BR,CA,CH,CL,CO,CR,C...\n",
              "disc_number                                                          1\n",
              "duration_ms                                                     238917\n",
              "popularity                                                          54\n",
              "preview_url          https://p.scdn.co/mp3-preview/e50777aeef75d860...\n",
              "track_number                                                         2\n",
              "acousticness                                                   0.00174\n",
              "danceability                                                     0.549\n",
              "energy                                                           0.939\n",
              "instrumentalness                                                     0\n",
              "liveness                                                          0.32\n",
              "loudness                                                         -3.19\n",
              "valence                                                          0.579\n",
              "speechiness                                                     0.0577\n",
              "key                                                                  7\n",
              "mode                                                                 1\n",
              "tempo                                                           97.451\n",
              "time_signature                                                       4\n",
              "artist_id                                       6YqdtpUutxodni6lUD4stM\n",
              "artist_name                                                     WANIMA\n",
              "artist_url           https://open.spotify.com/artist/6YqdtpUutxodni...\n",
              "artist_type                                                     artist\n",
              "album_url            https://open.spotify.com/album/1R6DH3ahYHOQxqQ...\n",
              "album_id                                        1R6DH3ahYHOQxqQUBFl3au\n",
              "album_name                                                COMINATCHA!!\n",
              "album_image_url      https://i.scdn.co/image/05996661e982d4036b1613...\n",
              "release_date                                                2019-10-23\n",
              "total_tracks                                                        15\n",
              "genre                                                            j-pop\n",
              "Name: 347, dtype: object"
            ]
          },
          "metadata": {
            "tags": []
          },
          "execution_count": 86
        }
      ]
    },
    {
      "cell_type": "markdown",
      "metadata": {
        "id": "0NGAhS0D5GF8",
        "colab_type": "text"
      },
      "source": [
        "# Calculate Euclidian Distance"
      ]
    },
    {
      "cell_type": "code",
      "metadata": {
        "id": "1p8A06ZeQynW",
        "colab_type": "code",
        "colab": {}
      },
      "source": [
        "def d_euc(v1, v2):\n",
        "    return np.sum((v1- v2)**2) "
      ],
      "execution_count": 0,
      "outputs": []
    },
    {
      "cell_type": "code",
      "metadata": {
        "colab_type": "code",
        "id": "r_WR14Qh6NWW",
        "colab": {}
      },
      "source": [
        "import pickle\n",
        "with open('drive/My Drive/Colab Notebooks/spotify/input/singing_voice_mfcc.pickle', mode='rb') as f:\n",
        "  M = pickle.load(f)"
      ],
      "execution_count": 0,
      "outputs": []
    },
    {
      "cell_type": "code",
      "metadata": {
        "id": "IEncHLBk5StJ",
        "colab_type": "code",
        "colab": {}
      },
      "source": [
        "D = np.zeros([1000,1000])\n",
        "for i in range(D.shape[0]):\n",
        "  for j in range(D.shape[1]):\n",
        "    if j >= i:\n",
        "      D[i][j] = d_euc(M[i,:], M[j,:])\n",
        "    else:\n",
        "      D[i][j] = D[j][i]"
      ],
      "execution_count": 0,
      "outputs": []
    },
    {
      "cell_type": "code",
      "metadata": {
        "id": "Efw9pOSpENsc",
        "colab_type": "code",
        "colab": {
          "base_uri": "https://localhost:8080/",
          "height": 531
        },
        "outputId": "f36b7fec-f912-49df-f444-83132f0d85b8"
      },
      "source": [
        "import matplotlib.pyplot as plt\n",
        "%matplotlib inline\n",
        "plt.imshow(np.log(D))\n",
        "D"
      ],
      "execution_count": 16,
      "outputs": [
        {
          "output_type": "stream",
          "text": [
            "/usr/local/lib/python3.6/dist-packages/ipykernel_launcher.py:3: RuntimeWarning: divide by zero encountered in log\n",
            "  This is separate from the ipykernel package so we can avoid doing imports until\n"
          ],
          "name": "stderr"
        },
        {
          "output_type": "execute_result",
          "data": {
            "text/plain": [
              "array([[    0.        ,  4716.50826854, 24730.76293031, ...,\n",
              "         8086.44082635, 17297.34056063, 28158.71336262],\n",
              "       [ 4716.50826854,     0.        , 22676.31959468, ...,\n",
              "         5401.28344083, 20656.86671278, 27162.90953403],\n",
              "       [24730.76293031, 22676.31959468,     0.        , ...,\n",
              "        28351.8049503 ,  5768.01316721,  1865.56959215],\n",
              "       ...,\n",
              "       [ 8086.44082635,  5401.28344083, 28351.8049503 , ...,\n",
              "            0.        , 25016.02062101, 33478.04626617],\n",
              "       [17297.34056063, 20656.86671278,  5768.01316721, ...,\n",
              "        25016.02062101,     0.        ,  4583.30781094],\n",
              "       [28158.71336262, 27162.90953403,  1865.56959215, ...,\n",
              "        33478.04626617,  4583.30781094,     0.        ]])"
            ]
          },
          "metadata": {
            "tags": []
          },
          "execution_count": 16
        },
        {
          "output_type": "display_data",
          "data": {
            "image/png": "[encoded data removed]",
            "text/plain": [
              "<Figure size 432x288 with 1 Axes>"
            ]
          },
          "metadata": {
            "tags": []
          }
        }
      ]
    },
    {
      "cell_type": "code",
      "metadata": {
        "id": "UXra--GxEWzf",
        "colab_type": "code",
        "colab": {}
      },
      "source": [
        "import pandas as pd\n",
        "df_sim = pd.DataFrame(D)"
      ],
      "execution_count": 0,
      "outputs": []
    },
    {
      "cell_type": "code",
      "metadata": {
        "id": "TULnQzlKEatq",
        "colab_type": "code",
        "colab": {
          "base_uri": "https://localhost:8080/",
          "height": 156
        },
        "outputId": "e81b9e73-f0ba-4d00-b241-da40b21c3bd1"
      },
      "source": [
        "df_sim.iloc[793,:].sort_values(ascending=True).head(7)"
      ],
      "execution_count": 19,
      "outputs": [
        {
          "output_type": "execute_result",
          "data": {
            "text/plain": [
              "793       0.000000\n",
              "574      76.390333\n",
              "431    1974.462615\n",
              "632    1974.462615\n",
              "850    2119.892349\n",
              "967    2306.592206\n",
              "876    2311.200046\n",
              "Name: 793, dtype: float64"
            ]
          },
          "metadata": {
            "tags": []
          },
          "execution_count": 19
        }
      ]
    },
    {
      "cell_type": "code",
      "metadata": {
        "id": "jJLgzD5ZEouP",
        "colab_type": "code",
        "colab": {
          "base_uri": "https://localhost:8080/",
          "height": 610
        },
        "outputId": "d48c6934-b8c4-4fc7-c9f0-b86034c1411f"
      },
      "source": [
        "df.iloc[967,:]"
      ],
      "execution_count": 26,
      "outputs": [
        {
          "output_type": "execute_result",
          "data": {
            "text/plain": [
              "Unnamed: 0                                                         899\n",
              "track_id                                        7nj9JW6QQrholNi2R2lffN\n",
              "track_name                                                       準透明少年\n",
              "track_url            https://open.spotify.com/track/7nj9JW6QQrholNi...\n",
              "available_markets    AD,AE,AR,AT,AU,BE,BG,BH,BO,BR,CA,CH,CL,CO,CR,C...\n",
              "disc_number                                                          1\n",
              "duration_ms                                                     281467\n",
              "popularity                                                          49\n",
              "preview_url          https://p.scdn.co/mp3-preview/3f9ebb3208ed92ea...\n",
              "track_number                                                         6\n",
              "acousticness                                                    0.0263\n",
              "danceability                                                     0.561\n",
              "energy                                                           0.923\n",
              "instrumentalness                                                     0\n",
              "liveness                                                         0.303\n",
              "loudness                                                        -3.146\n",
              "valence                                                          0.578\n",
              "speechiness                                                     0.0921\n",
              "key                                                                  2\n",
              "mode                                                                 1\n",
              "tempo                                                           97.472\n",
              "time_signature                                                       4\n",
              "artist_id                                       4UK2Lzi6fBfUi9rpDt6cik\n",
              "artist_name                                                       ヨルシカ\n",
              "artist_url           https://open.spotify.com/artist/4UK2Lzi6fBfUi9...\n",
              "artist_type                                                     artist\n",
              "album_url            https://open.spotify.com/album/4jEsFbcpgjHiu0r...\n",
              "album_id                                        4jEsFbcpgjHiu0rsTdlaOy\n",
              "album_name                                              負け犬にアンコールはいらない\n",
              "album_image_url      https://i.scdn.co/image/ab67616d0000b27328b535...\n",
              "release_date                                                2018-05-09\n",
              "total_tracks                                                         9\n",
              "genre                                                            j-pop\n",
              "Name: 899, dtype: object"
            ]
          },
          "metadata": {
            "tags": []
          },
          "execution_count": 26
        }
      ]
    },
    {
      "cell_type": "code",
      "metadata": {
        "id": "ZGxJG4HoFR86",
        "colab_type": "code",
        "colab": {
          "base_uri": "https://localhost:8080/",
          "height": 610
        },
        "outputId": "d91180ff-491c-42e9-b604-7db54abd04d3"
      },
      "source": [
        "df.iloc[876,:]"
      ],
      "execution_count": 27,
      "outputs": [
        {
          "output_type": "execute_result",
          "data": {
            "text/plain": [
              "Unnamed: 0                                                         496\n",
              "track_id                                        70deSMfvYqELhxcTnOlvuW\n",
              "track_name                                                       オドループ\n",
              "track_url            https://open.spotify.com/track/70deSMfvYqELhxc...\n",
              "available_markets                                                   JP\n",
              "disc_number                                                          1\n",
              "duration_ms                                                     255293\n",
              "popularity                                                          45\n",
              "preview_url          https://p.scdn.co/mp3-preview/124ba179bf261d54...\n",
              "track_number                                                         1\n",
              "acousticness                                                    0.0034\n",
              "danceability                                                     0.424\n",
              "energy                                                           0.899\n",
              "instrumentalness                                               8.1e-05\n",
              "liveness                                                         0.223\n",
              "loudness                                                        -3.937\n",
              "valence                                                           0.74\n",
              "speechiness                                                     0.0572\n",
              "key                                                                 11\n",
              "mode                                                                 0\n",
              "tempo                                                          171.832\n",
              "time_signature                                                       4\n",
              "artist_id                                       3srPc1Mytv5GmTWqsQuoXW\n",
              "artist_name                                                   frederic\n",
              "artist_url           https://open.spotify.com/artist/3srPc1Mytv5GmT...\n",
              "artist_type                                                     artist\n",
              "album_url            https://open.spotify.com/album/5pvfE6yz1Av7MkK...\n",
              "album_id                                        5pvfE6yz1Av7MkK5MjvBVH\n",
              "album_name                                                     oddloop\n",
              "album_image_url      https://i.scdn.co/image/ab67616d0000b27336e84f...\n",
              "release_date                                                2014-09-24\n",
              "total_tracks                                                         7\n",
              "genre                                                            j-pop\n",
              "Name: 496, dtype: object"
            ]
          },
          "metadata": {
            "tags": []
          },
          "execution_count": 27
        }
      ]
    },
    {
      "cell_type": "code",
      "metadata": {
        "id": "mTIVu-f3F69E",
        "colab_type": "code",
        "colab": {
          "base_uri": "https://localhost:8080/",
          "height": 156
        },
        "outputId": "5b0b5622-d7c6-489a-d345-13ea5f438570"
      },
      "source": [
        "df_sim.iloc[316,:].sort_values(ascending=True).head(7)"
      ],
      "execution_count": 28,
      "outputs": [
        {
          "output_type": "execute_result",
          "data": {
            "text/plain": [
              "316       0.000000\n",
              "566    2512.784666\n",
              "846    2524.701066\n",
              "289    2589.886513\n",
              "604    3184.864334\n",
              "10     3556.416044\n",
              "370    4027.544543\n",
              "Name: 316, dtype: float64"
            ]
          },
          "metadata": {
            "tags": []
          },
          "execution_count": 28
        }
      ]
    },
    {
      "cell_type": "code",
      "metadata": {
        "id": "_Rbn4gWjGYeV",
        "colab_type": "code",
        "colab": {
          "base_uri": "https://localhost:8080/",
          "height": 610
        },
        "outputId": "ab21b6b9-fa7b-4852-fcb3-7c4ea50a485f"
      },
      "source": [
        "df.iloc[566,:]"
      ],
      "execution_count": 29,
      "outputs": [
        {
          "output_type": "execute_result",
          "data": {
            "text/plain": [
              "Unnamed: 0                                                         245\n",
              "track_id                                        4XkqVSWIPb07iLEDvAPq93\n",
              "track_name                                                    やさしくなりたい\n",
              "track_url            https://open.spotify.com/track/4XkqVSWIPb07iLE...\n",
              "available_markets                                                   JP\n",
              "disc_number                                                          1\n",
              "duration_ms                                                     316106\n",
              "popularity                                                          54\n",
              "preview_url          https://p.scdn.co/mp3-preview/34510be551b4c1b1...\n",
              "track_number                                                         1\n",
              "acousticness                                                   0.00877\n",
              "danceability                                                     0.496\n",
              "energy                                                           0.915\n",
              "instrumentalness                                               0.00189\n",
              "liveness                                                         0.108\n",
              "loudness                                                        -3.533\n",
              "valence                                                          0.446\n",
              "speechiness                                                     0.0371\n",
              "key                                                                  1\n",
              "mode                                                                 1\n",
              "tempo                                                          132.017\n",
              "time_signature                                                       4\n",
              "artist_id                                       7sl3PZyhzAqUpL3M6WVD8G\n",
              "artist_name                                            Kazuyoshi Saito\n",
              "artist_url           https://open.spotify.com/artist/7sl3PZyhzAqUpL...\n",
              "artist_type                                                     artist\n",
              "album_url            https://open.spotify.com/album/5YQqIBCgVCei0A3...\n",
              "album_id                                        5YQqIBCgVCei0A3v1l1jcQ\n",
              "album_name                                                          斉藤\n",
              "album_image_url      https://i.scdn.co/image/ab67616d0000b273c18a33...\n",
              "release_date                                                2013-10-23\n",
              "total_tracks                                                        10\n",
              "genre                                                            j-pop\n",
              "Name: 245, dtype: object"
            ]
          },
          "metadata": {
            "tags": []
          },
          "execution_count": 29
        }
      ]
    },
    {
      "cell_type": "code",
      "metadata": {
        "id": "D6iPASioGuH1",
        "colab_type": "code",
        "colab": {
          "base_uri": "https://localhost:8080/",
          "height": 610
        },
        "outputId": "b3af1be7-b0d9-41d6-93f7-8fcd00323762"
      },
      "source": [
        "df.iloc[846,:]"
      ],
      "execution_count": 30,
      "outputs": [
        {
          "output_type": "execute_result",
          "data": {
            "text/plain": [
              "Unnamed: 0                                                         999\n",
              "track_id                                        6mmHwsfy9QU42LeV6c9UT7\n",
              "track_name                                                        さすらい\n",
              "track_url            https://open.spotify.com/track/6mmHwsfy9QU42Le...\n",
              "available_markets                                                   JP\n",
              "disc_number                                                          1\n",
              "duration_ms                                                     203160\n",
              "popularity                                                          45\n",
              "preview_url          https://p.scdn.co/mp3-preview/9eb5f50499556e45...\n",
              "track_number                                                        10\n",
              "acousticness                                                    0.0126\n",
              "danceability                                                     0.591\n",
              "energy                                                           0.792\n",
              "instrumentalness                                              1.52e-05\n",
              "liveness                                                         0.157\n",
              "loudness                                                        -6.128\n",
              "valence                                                          0.812\n",
              "speechiness                                                     0.0316\n",
              "key                                                                  4\n",
              "mode                                                                 1\n",
              "tempo                                                          118.247\n",
              "time_signature                                                       4\n",
              "artist_id                                       3ZWE1TnryM03rfzVin17K0\n",
              "artist_name                                                Tamio Okuda\n",
              "artist_url           https://open.spotify.com/artist/3ZWE1TnryM03rf...\n",
              "artist_type                                                     artist\n",
              "album_url            https://open.spotify.com/album/6kQabUiwRiFATWj...\n",
              "album_id                                        6kQabUiwRiFATWj2brKURj\n",
              "album_name                                                          股旅\n",
              "album_image_url      https://i.scdn.co/image/ab67616d0000b273694956...\n",
              "release_date                                                1998-03-18\n",
              "total_tracks                                                        11\n",
              "genre                                                            j-pop\n",
              "Name: 999, dtype: object"
            ]
          },
          "metadata": {
            "tags": []
          },
          "execution_count": 30
        }
      ]
    },
    {
      "cell_type": "code",
      "metadata": {
        "id": "xIZXyP5jGxc-",
        "colab_type": "code",
        "colab": {
          "base_uri": "https://localhost:8080/",
          "height": 610
        },
        "outputId": "b224ba2d-bfc6-4d8e-d709-9554ae9425e5"
      },
      "source": [
        "df.iloc[289,:]"
      ],
      "execution_count": 31,
      "outputs": [
        {
          "output_type": "execute_result",
          "data": {
            "text/plain": [
              "Unnamed: 0                                                         640\n",
              "track_id                                        2A0t0Cgbb6PA5JJqBXRMgJ\n",
              "track_name                                                    やさしくなりたい\n",
              "track_url            https://open.spotify.com/track/2A0t0Cgbb6PA5JJ...\n",
              "available_markets                                                   JP\n",
              "disc_number                                                          1\n",
              "duration_ms                                                     315900\n",
              "popularity                                                          45\n",
              "preview_url          https://p.scdn.co/mp3-preview/17e85ba3a6187457...\n",
              "track_number                                                         1\n",
              "acousticness                                                   0.00795\n",
              "danceability                                                     0.495\n",
              "energy                                                            0.91\n",
              "instrumentalness                                               0.00123\n",
              "liveness                                                         0.106\n",
              "loudness                                                         -3.82\n",
              "valence                                                          0.472\n",
              "speechiness                                                     0.0365\n",
              "key                                                                  1\n",
              "mode                                                                 1\n",
              "tempo                                                          132.026\n",
              "time_signature                                                       4\n",
              "artist_id                                       7sl3PZyhzAqUpL3M6WVD8G\n",
              "artist_name                                            Kazuyoshi Saito\n",
              "artist_url           https://open.spotify.com/artist/7sl3PZyhzAqUpL...\n",
              "artist_type                                                     artist\n",
              "album_url            https://open.spotify.com/album/0vLZyO3HktfOyIk...\n",
              "album_id                                        0vLZyO3HktfOyIkZbXVMYS\n",
              "album_name                                                    やさしくなりたい\n",
              "album_image_url      https://i.scdn.co/image/ab67616d0000b2734999d4...\n",
              "release_date                                                2011-11-02\n",
              "total_tracks                                                         3\n",
              "genre                                                            j-pop\n",
              "Name: 640, dtype: object"
            ]
          },
          "metadata": {
            "tags": []
          },
          "execution_count": 31
        }
      ]
    },
    {
      "cell_type": "code",
      "metadata": {
        "id": "x6IG-WKTG7vp",
        "colab_type": "code",
        "colab": {
          "base_uri": "https://localhost:8080/",
          "height": 610
        },
        "outputId": "33fe60b3-f4c8-4154-ee1a-585db44e6ef4"
      },
      "source": [
        "df.iloc[604,:]"
      ],
      "execution_count": 32,
      "outputs": [
        {
          "output_type": "execute_result",
          "data": {
            "text/plain": [
              "Unnamed: 0                                                         320\n",
              "track_id                                        4nYrT4h72JvsNh3t80FmG0\n",
              "track_name                                                      悲しみの果て\n",
              "track_url            https://open.spotify.com/track/4nYrT4h72JvsNh3...\n",
              "available_markets                                                   JP\n",
              "disc_number                                                          1\n",
              "duration_ms                                                     154173\n",
              "popularity                                                          46\n",
              "preview_url          https://p.scdn.co/mp3-preview/5060938595af150c...\n",
              "track_number                                                         2\n",
              "acousticness                                                   0.00544\n",
              "danceability                                                     0.441\n",
              "energy                                                           0.486\n",
              "instrumentalness                                              6.17e-06\n",
              "liveness                                                         0.181\n",
              "loudness                                                        -7.644\n",
              "valence                                                           0.48\n",
              "speechiness                                                     0.0271\n",
              "key                                                                  1\n",
              "mode                                                                 1\n",
              "tempo                                                           84.781\n",
              "time_signature                                                       4\n",
              "artist_id                                       24ljrnVUlUZ2apxF6GZsrm\n",
              "artist_name                                        Elephant Kashimashi\n",
              "artist_url           https://open.spotify.com/artist/24ljrnVUlUZ2ap...\n",
              "artist_type                                                     artist\n",
              "album_url            https://open.spotify.com/album/6ZiH1sEKirgojyL...\n",
              "album_id                                        6ZiH1sEKirgojyLwKsNx0y\n",
              "album_name                                                      ココロに花を\n",
              "album_image_url      https://i.scdn.co/image/ab67616d0000b2733ff2a5...\n",
              "release_date                                                      1996\n",
              "total_tracks                                                        11\n",
              "genre                                                            j-pop\n",
              "Name: 320, dtype: object"
            ]
          },
          "metadata": {
            "tags": []
          },
          "execution_count": 32
        }
      ]
    },
    {
      "cell_type": "code",
      "metadata": {
        "id": "Ht8YBtwhHD_G",
        "colab_type": "code",
        "colab": {
          "base_uri": "https://localhost:8080/",
          "height": 610
        },
        "outputId": "c60bef43-9f43-4b70-c84a-10e4c5ccc908"
      },
      "source": [
        "df.iloc[10,:]"
      ],
      "execution_count": 33,
      "outputs": [
        {
          "output_type": "execute_result",
          "data": {
            "text/plain": [
              "Unnamed: 0                                                         389\n",
              "track_id                                        06BIna6ik1U4hoR0XlSfzw\n",
              "track_name                                                   輝きだして走ってく\n",
              "track_url            https://open.spotify.com/track/06BIna6ik1U4hoR...\n",
              "available_markets    AD,AE,AR,AT,AU,BE,BG,BH,BO,BR,CA,CH,CL,CO,CR,C...\n",
              "disc_number                                                          1\n",
              "duration_ms                                                     269466\n",
              "popularity                                                          46\n",
              "preview_url          https://p.scdn.co/mp3-preview/6d7c0a54cb14c863...\n",
              "track_number                                                         1\n",
              "acousticness                                                    0.0051\n",
              "danceability                                                     0.444\n",
              "energy                                                           0.833\n",
              "instrumentalness                                                     0\n",
              "liveness                                                         0.362\n",
              "loudness                                                        -3.182\n",
              "valence                                                          0.604\n",
              "speechiness                                                     0.0898\n",
              "key                                                                  2\n",
              "mode                                                                 1\n",
              "tempo                                                          178.061\n",
              "time_signature                                                       4\n",
              "artist_id                                       5ydDSP9qSxEOlHWnpbblFB\n",
              "artist_name                                                Sambomaster\n",
              "artist_url           https://open.spotify.com/artist/5ydDSP9qSxEOlH...\n",
              "artist_type                                                     artist\n",
              "album_url            https://open.spotify.com/album/0sRYo3ohyfkv8Yf...\n",
              "album_id                                        0sRYo3ohyfkv8YfQy7kU7i\n",
              "album_name                                                   輝きだして走ってく\n",
              "album_image_url      https://i.scdn.co/image/ab67616d0000b2732db767...\n",
              "release_date                                                2018-08-15\n",
              "total_tracks                                                         2\n",
              "genre                                                            j-pop\n",
              "Name: 389, dtype: object"
            ]
          },
          "metadata": {
            "tags": []
          },
          "execution_count": 33
        }
      ]
    },
    {
      "cell_type": "code",
      "metadata": {
        "id": "77atoX9QHQGh",
        "colab_type": "code",
        "colab": {
          "base_uri": "https://localhost:8080/",
          "height": 610
        },
        "outputId": "74b9b1c2-be8b-49a7-feda-af9e2d285eea"
      },
      "source": [
        "df.iloc[370,:]"
      ],
      "execution_count": 34,
      "outputs": [
        {
          "output_type": "execute_result",
          "data": {
            "text/plain": [
              "Unnamed: 0                                                         457\n",
              "track_id                                        2pI6Avig0HNZGsZ777MKXM\n",
              "track_name                                              innocent world\n",
              "track_url            https://open.spotify.com/track/2pI6Avig0HNZGsZ...\n",
              "available_markets                                                JP,TW\n",
              "disc_number                                                          1\n",
              "duration_ms                                                     345266\n",
              "popularity                                                          50\n",
              "preview_url          https://p.scdn.co/mp3-preview/408ae62951353172...\n",
              "track_number                                                         1\n",
              "acousticness                                                     0.316\n",
              "danceability                                                      0.62\n",
              "energy                                                            0.55\n",
              "instrumentalness                                                     0\n",
              "liveness                                                         0.344\n",
              "loudness                                                        -9.418\n",
              "valence                                                          0.634\n",
              "speechiness                                                     0.0273\n",
              "key                                                                  4\n",
              "mode                                                                 1\n",
              "tempo                                                          119.923\n",
              "time_signature                                                       4\n",
              "artist_id                                       1qma7XhwZotCAucL7NHVLY\n",
              "artist_name                                                Mr.Children\n",
              "artist_url           https://open.spotify.com/artist/1qma7XhwZotCAu...\n",
              "artist_type                                                     artist\n",
              "album_url            https://open.spotify.com/album/25Fxg1dk7GyquE0...\n",
              "album_id                                        25Fxg1dk7GyquE0ALnBLbq\n",
              "album_name                                              innocent world\n",
              "album_image_url      https://i.scdn.co/image/ab67616d0000b273c31861...\n",
              "release_date                                                1994-06-01\n",
              "total_tracks                                                         3\n",
              "genre                                                            j-pop\n",
              "Name: 457, dtype: object"
            ]
          },
          "metadata": {
            "tags": []
          },
          "execution_count": 34
        }
      ]
    },
    {
      "cell_type": "markdown",
      "metadata": {
        "id": "Ybafaku7IuAW",
        "colab_type": "text"
      },
      "source": [
        "# Calculate Similarity with a Recorded Voice"
      ]
    },
    {
      "cell_type": "code",
      "metadata": {
        "id": "qEAU21WnHfoG",
        "colab_type": "code",
        "colab": {
          "base_uri": "https://localhost:8080/",
          "height": 69
        },
        "outputId": "0fbb3118-d6a1-4018-9aab-fc55b0441e3a"
      },
      "source": [
        "filename='drive/My Drive/Colab Notebooks/spotify/input/masuda_voice.m4a'\n",
        "print(filename)\n",
        "try:\n",
        "  y, sr = librosa.core.load(filename, sr=sr, mono=False,offset=0.0,\n",
        "                          duration=None, res_type='kaiser_best')\n",
        "except:\n",
        "  print(filename + \"has loading error!\")\n",
        "  y = np.zeros([2,48000])\n",
        "print(y.shape)\n",
        "mfcc = librosa.feature.mfcc(y, sr=sr, S=None, n_mfcc=n_mfcc, dct_type=2, norm='ortho')\n",
        "mfcc_median = np.median(mfcc, axis=1)\n",
        "assert mfcc_median.shape == (n_mfcc,)\n",
        "mfcc_median = np.reshape(mfcc_median, [20,1])\n",
        "print(mfcc_median.shape)\n",
        "assert mfcc_median.shape == (n_mfcc,1)"
      ],
      "execution_count": 11,
      "outputs": [
        {
          "output_type": "stream",
          "text": [
            "drive/My Drive/Colab Notebooks/spotify/input/masuda_voice.m4a\n",
            "(164160,)\n",
            "(20, 1)\n"
          ],
          "name": "stdout"
        }
      ]
    },
    {
      "cell_type": "code",
      "metadata": {
        "id": "nN9tGBFmK4rS",
        "colab_type": "code",
        "colab": {}
      },
      "source": [
        "D = np.zeros(1000)\n",
        "for i in range(D.shape[0]):\n",
        "      D[i] = d_euc(M[i,:], mfcc_median)"
      ],
      "execution_count": 0,
      "outputs": []
    },
    {
      "cell_type": "code",
      "metadata": {
        "id": "XLFMaUKSL2ly",
        "colab_type": "code",
        "colab": {
          "base_uri": "https://localhost:8080/",
          "height": 196
        },
        "outputId": "f81c02da-35de-443b-cd44-e4ac17cd1e62"
      },
      "source": [
        "df_dist = pd.DataFrame(D)\n",
        "df_dist.head()"
      ],
      "execution_count": 20,
      "outputs": [
        {
          "output_type": "execute_result",
          "data": {
            "text/html": [
              "<div>\n",
              "<style scoped>\n",
              "    .dataframe tbody tr th:only-of-type {\n",
              "        vertical-align: middle;\n",
              "    }\n",
              "\n",
              "    .dataframe tbody tr th {\n",
              "        vertical-align: top;\n",
              "    }\n",
              "\n",
              "    .dataframe thead th {\n",
              "        text-align: right;\n",
              "    }\n",
              "</style>\n",
              "<table border=\"1\" class=\"dataframe\">\n",
              "  <thead>\n",
              "    <tr style=\"text-align: right;\">\n",
              "      <th></th>\n",
              "      <th>0</th>\n",
              "    </tr>\n",
              "  </thead>\n",
              "  <tbody>\n",
              "    <tr>\n",
              "      <th>0</th>\n",
              "      <td>3.075568e+06</td>\n",
              "    </tr>\n",
              "    <tr>\n",
              "      <th>1</th>\n",
              "      <td>2.760724e+06</td>\n",
              "    </tr>\n",
              "    <tr>\n",
              "      <th>2</th>\n",
              "      <td>2.309146e+06</td>\n",
              "    </tr>\n",
              "    <tr>\n",
              "      <th>3</th>\n",
              "      <td>4.083389e+06</td>\n",
              "    </tr>\n",
              "    <tr>\n",
              "      <th>4</th>\n",
              "      <td>2.910779e+06</td>\n",
              "    </tr>\n",
              "  </tbody>\n",
              "</table>\n",
              "</div>"
            ],
            "text/plain": [
              "              0\n",
              "0  3.075568e+06\n",
              "1  2.760724e+06\n",
              "2  2.309146e+06\n",
              "3  4.083389e+06\n",
              "4  2.910779e+06"
            ]
          },
          "metadata": {
            "tags": []
          },
          "execution_count": 20
        }
      ]
    },
    {
      "cell_type": "code",
      "metadata": {
        "id": "vxi3GNohMW3V",
        "colab_type": "code",
        "colab": {
          "base_uri": "https://localhost:8080/",
          "height": 256
        },
        "outputId": "a2993eb3-8656-47cf-b00d-2cddb17ef442"
      },
      "source": [
        "df_dist.sort_values(ascending=True, by=0).head(7)"
      ],
      "execution_count": 23,
      "outputs": [
        {
          "output_type": "execute_result",
          "data": {
            "text/html": [
              "<div>\n",
              "<style scoped>\n",
              "    .dataframe tbody tr th:only-of-type {\n",
              "        vertical-align: middle;\n",
              "    }\n",
              "\n",
              "    .dataframe tbody tr th {\n",
              "        vertical-align: top;\n",
              "    }\n",
              "\n",
              "    .dataframe thead th {\n",
              "        text-align: right;\n",
              "    }\n",
              "</style>\n",
              "<table border=\"1\" class=\"dataframe\">\n",
              "  <thead>\n",
              "    <tr style=\"text-align: right;\">\n",
              "      <th></th>\n",
              "      <th>0</th>\n",
              "    </tr>\n",
              "  </thead>\n",
              "  <tbody>\n",
              "    <tr>\n",
              "      <th>505</th>\n",
              "      <td>1.763775e+06</td>\n",
              "    </tr>\n",
              "    <tr>\n",
              "      <th>735</th>\n",
              "      <td>1.821473e+06</td>\n",
              "    </tr>\n",
              "    <tr>\n",
              "      <th>294</th>\n",
              "      <td>1.827227e+06</td>\n",
              "    </tr>\n",
              "    <tr>\n",
              "      <th>167</th>\n",
              "      <td>1.883103e+06</td>\n",
              "    </tr>\n",
              "    <tr>\n",
              "      <th>519</th>\n",
              "      <td>1.883903e+06</td>\n",
              "    </tr>\n",
              "    <tr>\n",
              "      <th>45</th>\n",
              "      <td>1.895685e+06</td>\n",
              "    </tr>\n",
              "    <tr>\n",
              "      <th>464</th>\n",
              "      <td>1.907640e+06</td>\n",
              "    </tr>\n",
              "  </tbody>\n",
              "</table>\n",
              "</div>"
            ],
            "text/plain": [
              "                0\n",
              "505  1.763775e+06\n",
              "735  1.821473e+06\n",
              "294  1.827227e+06\n",
              "167  1.883103e+06\n",
              "519  1.883903e+06\n",
              "45   1.895685e+06\n",
              "464  1.907640e+06"
            ]
          },
          "metadata": {
            "tags": []
          },
          "execution_count": 23
        }
      ]
    },
    {
      "cell_type": "code",
      "metadata": {
        "id": "u50SN7G6MnzI",
        "colab_type": "code",
        "colab": {
          "base_uri": "https://localhost:8080/",
          "height": 610
        },
        "outputId": "a55aa963-4f72-465e-b598-cf858f7ef763"
      },
      "source": [
        "df.iloc[505,:]"
      ],
      "execution_count": 28,
      "outputs": [
        {
          "output_type": "execute_result",
          "data": {
            "text/plain": [
              "Unnamed: 0                                                         505\n",
              "track_id                                        3z6X1pQSGdky5rQADTLM2g\n",
              "track_name                                                  合法的トビ方ノススメ\n",
              "track_url            https://open.spotify.com/track/3z6X1pQSGdky5rQ...\n",
              "available_markets                                                   JP\n",
              "disc_number                                                          1\n",
              "duration_ms                                                     240328\n",
              "popularity                                                          50\n",
              "preview_url          https://p.scdn.co/mp3-preview/8aa908e966387933...\n",
              "track_number                                                         2\n",
              "acousticness                                                     0.791\n",
              "danceability                                                     0.737\n",
              "energy                                                           0.971\n",
              "instrumentalness                                                     0\n",
              "liveness                                                         0.358\n",
              "loudness                                                        -3.292\n",
              "valence                                                          0.777\n",
              "speechiness                                                       0.21\n",
              "key                                                                  6\n",
              "mode                                                                 1\n",
              "tempo                                                          133.032\n",
              "time_signature                                                       4\n",
              "artist_id                                       0pWR7TsFhvSCnbmHDjWgrE\n",
              "artist_name                                                Creepy Nuts\n",
              "artist_url           https://open.spotify.com/artist/0pWR7TsFhvSCnb...\n",
              "artist_type                                                     artist\n",
              "album_url            https://open.spotify.com/album/77eV8yKbsB79ANt...\n",
              "album_id                                        77eV8yKbsB79ANtICA6ZN9\n",
              "album_name                                             INDIES COMPLETE\n",
              "album_image_url      https://i.scdn.co/image/ab67616d0000b273933816...\n",
              "release_date                                                2018-07-25\n",
              "total_tracks                                                        13\n",
              "genre                                                            j-pop\n",
              "Name: 505, dtype: object"
            ]
          },
          "metadata": {
            "tags": []
          },
          "execution_count": 28
        }
      ]
    },
    {
      "cell_type": "code",
      "metadata": {
        "id": "Ntr5WszEM4Cl",
        "colab_type": "code",
        "colab": {
          "base_uri": "https://localhost:8080/",
          "height": 610
        },
        "outputId": "7cf68d4d-d396-4a0c-973a-cb391acf56ee"
      },
      "source": [
        "df.iloc[735,:]"
      ],
      "execution_count": 29,
      "outputs": [
        {
          "output_type": "execute_result",
          "data": {
            "text/plain": [
              "Unnamed: 0                                                          75\n",
              "track_id                                        5qqWTGgelCt5gqAfvkj6gG\n",
              "track_name                                                 Rat-tat-tat\n",
              "track_url            https://open.spotify.com/track/5qqWTGgelCt5gqA...\n",
              "available_markets    AD,AE,AR,AT,AU,BE,BG,BH,BO,BR,CA,CH,CL,CO,CR,C...\n",
              "disc_number                                                          1\n",
              "duration_ms                                                     150500\n",
              "popularity                                                          59\n",
              "preview_url          https://p.scdn.co/mp3-preview/086e0f0f9660afd8...\n",
              "track_number                                                         1\n",
              "acousticness                                                    0.0517\n",
              "danceability                                                     0.582\n",
              "energy                                                           0.944\n",
              "instrumentalness                                                     0\n",
              "liveness                                                         0.088\n",
              "loudness                                                        -2.269\n",
              "valence                                                          0.783\n",
              "speechiness                                                      0.302\n",
              "key                                                                  4\n",
              "mode                                                                 0\n",
              "tempo                                                          148.988\n",
              "time_signature                                                       3\n",
              "artist_id                                       1g51NlHKUXlgfvGP22m0uD\n",
              "artist_name                                        J SOUL BROTHERS III\n",
              "artist_url           https://open.spotify.com/artist/1g51NlHKUXlgfv...\n",
              "artist_type                                                     artist\n",
              "album_url            https://open.spotify.com/album/5aQi2UPI2iIzUBN...\n",
              "album_id                                        5aQi2UPI2iIzUBNCCKQKpF\n",
              "album_name                                                 Rat-tat-tat\n",
              "album_image_url      https://i.scdn.co/image/b4b3f428df480d227f11c8...\n",
              "release_date                                                2019-09-19\n",
              "total_tracks                                                         1\n",
              "genre                                                            j-pop\n",
              "Name: 75, dtype: object"
            ]
          },
          "metadata": {
            "tags": []
          },
          "execution_count": 29
        }
      ]
    },
    {
      "cell_type": "code",
      "metadata": {
        "id": "t7C8AcdOOCco",
        "colab_type": "code",
        "colab": {
          "base_uri": "https://localhost:8080/",
          "height": 34
        },
        "outputId": "3e8e2cca-1613-4361-c173-e3cf1c1136a9"
      },
      "source": [
        "df['artist_id'].nunique()"
      ],
      "execution_count": 31,
      "outputs": [
        {
          "output_type": "execute_result",
          "data": {
            "text/plain": [
              "181"
            ]
          },
          "metadata": {
            "tags": []
          },
          "execution_count": 31
        }
      ]
    },
    {
      "cell_type": "code",
      "metadata": {
        "id": "L3IL3BuPPqeW",
        "colab_type": "code",
        "colab": {
          "base_uri": "https://localhost:8080/",
          "height": 610
        },
        "outputId": "7a3376e0-809d-4fcc-a04b-7ceb343febda"
      },
      "source": [
        "df.iloc[294,:]"
      ],
      "execution_count": 32,
      "outputs": [
        {
          "output_type": "execute_result",
          "data": {
            "text/plain": [
              "Unnamed: 0                                                         416\n",
              "track_id                                        2BM4k1nxxuR1hmxoOB4d9x\n",
              "track_name                                                          告白\n",
              "track_url            https://open.spotify.com/track/2BM4k1nxxuR1hmx...\n",
              "available_markets                                                   JP\n",
              "disc_number                                                          1\n",
              "duration_ms                                                     281400\n",
              "popularity                                                          51\n",
              "preview_url          https://p.scdn.co/mp3-preview/2ffdc29b84b9a543...\n",
              "track_number                                                         6\n",
              "acousticness                                                     0.105\n",
              "danceability                                                     0.479\n",
              "energy                                                           0.877\n",
              "instrumentalness                                                     0\n",
              "liveness                                                         0.209\n",
              "loudness                                                         -3.41\n",
              "valence                                                          0.529\n",
              "speechiness                                                      0.147\n",
              "key                                                                  0\n",
              "mode                                                                 1\n",
              "tempo                                                          184.042\n",
              "time_signature                                                       4\n",
              "artist_id                                       6ecCVdF55fHdbVlAu1lJXU\n",
              "artist_name                                         FUNKY MONKEY BABYS\n",
              "artist_url           https://open.spotify.com/artist/6ecCVdF55fHdbV...\n",
              "artist_type                                                     artist\n",
              "album_url            https://open.spotify.com/album/3okJNEcYvtMj18s...\n",
              "album_id                                        3okJNEcYvtMj18smHqqIZ7\n",
              "album_name                                             ファンキーモンキーベイビーズ3\n",
              "album_image_url      https://i.scdn.co/image/ab67616d0000b2733d0e89...\n",
              "release_date                                                2009-03-04\n",
              "total_tracks                                                        13\n",
              "genre                                                            j-pop\n",
              "Name: 416, dtype: object"
            ]
          },
          "metadata": {
            "tags": []
          },
          "execution_count": 32
        }
      ]
    },
    {
      "cell_type": "code",
      "metadata": {
        "id": "jJdMGoAOQGBm",
        "colab_type": "code",
        "colab": {
          "base_uri": "https://localhost:8080/",
          "height": 610
        },
        "outputId": "3c6aeed5-a053-4012-d884-4f4295b5a481"
      },
      "source": [
        "df.iloc[167,:]"
      ],
      "execution_count": 33,
      "outputs": [
        {
          "output_type": "execute_result",
          "data": {
            "text/plain": [
              "Unnamed: 0                                                         173\n",
              "track_id                                        1JwTpIQeQqcqIBAgwottNU\n",
              "track_name                                                Who Are You?\n",
              "track_url            https://open.spotify.com/track/1JwTpIQeQqcqIBA...\n",
              "available_markets    AD,AE,AR,AT,AU,BE,BG,BH,BO,BR,CA,CH,CL,CO,CR,C...\n",
              "disc_number                                                          1\n",
              "duration_ms                                                     235732\n",
              "popularity                                                          44\n",
              "preview_url          https://p.scdn.co/mp3-preview/0c50cda5bc681849...\n",
              "track_number                                                         1\n",
              "acousticness                                                     0.135\n",
              "danceability                                                     0.565\n",
              "energy                                                           0.855\n",
              "instrumentalness                                                     0\n",
              "liveness                                                         0.335\n",
              "loudness                                                        -2.584\n",
              "valence                                                          0.741\n",
              "speechiness                                                     0.0455\n",
              "key                                                                 10\n",
              "mode                                                                 0\n",
              "tempo                                                            80.53\n",
              "time_signature                                                       4\n",
              "artist_id                                       4lsSLCTKrmfULsRivqAShx\n",
              "artist_name                                             Hiroomi Tosaka\n",
              "artist_url           https://open.spotify.com/artist/4lsSLCTKrmfULs...\n",
              "artist_type                                                     artist\n",
              "album_url            https://open.spotify.com/album/7llwdzqjvqs5bc1...\n",
              "album_id                                        7llwdzqjvqs5bc1VNuLTH3\n",
              "album_name                                                Who Are You?\n",
              "album_image_url      https://i.scdn.co/image/8f60f7e8028470bf077a6a...\n",
              "release_date                                                2020-01-08\n",
              "total_tracks                                                         9\n",
              "genre                                                            j-pop\n",
              "Name: 173, dtype: object"
            ]
          },
          "metadata": {
            "tags": []
          },
          "execution_count": 33
        }
      ]
    },
    {
      "cell_type": "code",
      "metadata": {
        "id": "vmhJBiGGQ40d",
        "colab_type": "code",
        "colab": {
          "base_uri": "https://localhost:8080/",
          "height": 610
        },
        "outputId": "fc4b4a90-114a-4749-eccd-4369d3f171b9"
      },
      "source": [
        "df.iloc[519,:]"
      ],
      "execution_count": 34,
      "outputs": [
        {
          "output_type": "execute_result",
          "data": {
            "text/plain": [
              "Unnamed: 0                                                         646\n",
              "track_id                                        47VbfluMsR8PyYpIDCeiMb\n",
              "track_name                                                PORSCHEでKISS\n",
              "track_url            https://open.spotify.com/track/47VbfluMsR8PyYp...\n",
              "available_markets                                                   JP\n",
              "disc_number                                                          1\n",
              "duration_ms                                                     198900\n",
              "popularity                                                          50\n",
              "preview_url          https://p.scdn.co/mp3-preview/bac7d029eeb6bb11...\n",
              "track_number                                                         1\n",
              "acousticness                                                    0.0126\n",
              "danceability                                                     0.729\n",
              "energy                                                           0.646\n",
              "instrumentalness                                              2.24e-06\n",
              "liveness                                                         0.259\n",
              "loudness                                                        -5.008\n",
              "valence                                                          0.565\n",
              "speechiness                                                     0.0355\n",
              "key                                                                  7\n",
              "mode                                                                 1\n",
              "tempo                                                           99.989\n",
              "time_signature                                                       4\n",
              "artist_id                                       1ya0bSLDdgPi9JTBE54qDr\n",
              "artist_name                                                      t-Ace\n",
              "artist_url           https://open.spotify.com/artist/1ya0bSLDdgPi9J...\n",
              "artist_type                                                     artist\n",
              "album_url            https://open.spotify.com/album/3ssGuVmd3kkghaO...\n",
              "album_id                                        3ssGuVmd3kkghaOV8HP9wZ\n",
              "album_name                                                PORSCHEでKISS\n",
              "album_image_url      https://i.scdn.co/image/ab67616d0000b273e07b54...\n",
              "release_date                                                2019-03-20\n",
              "total_tracks                                                         1\n",
              "genre                                                            j-pop\n",
              "Name: 646, dtype: object"
            ]
          },
          "metadata": {
            "tags": []
          },
          "execution_count": 34
        }
      ]
    },
    {
      "cell_type": "code",
      "metadata": {
        "id": "vOb1ObtDZvH_",
        "colab_type": "code",
        "colab": {}
      },
      "source": [
        ""
      ],
      "execution_count": 0,
      "outputs": []
    }
  ]
}